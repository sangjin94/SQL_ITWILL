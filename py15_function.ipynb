{
  "nbformat": 4,
  "nbformat_minor": 0,
  "metadata": {
    "colab": {
      "name": "py15_function.ipynb",
      "provenance": [],
      "collapsed_sections": [],
      "authorship_tag": "ABX9TyOAvn987RF99S22CbhH44Fh",
      "include_colab_link": true
    },
    "kernelspec": {
      "name": "python3",
      "display_name": "Python 3"
    },
    "language_info": {
      "name": "python"
    }
  },
  "cells": [
    {
      "cell_type": "markdown",
      "metadata": {
        "id": "view-in-github",
        "colab_type": "text"
      },
      "source": [
        "<a href=\"https://colab.research.google.com/github/sangjin94/SQL_ITWILL/blob/main/py15_function.ipynb\" target=\"_parent\"><img src=\"https://colab.research.google.com/assets/colab-badge.svg\" alt=\"Open In Colab\"/></a>"
      ]
    },
    {
      "cell_type": "markdown",
      "metadata": {
        "id": "V0WVlXcCdiU5"
      },
      "source": [
        "# Default argument"
      ]
    },
    {
      "cell_type": "markdown",
      "metadata": {
        "id": "3ixfbkIkdplQ"
      },
      "source": [
        "default argument(기본 인수)\n",
        "\n",
        "*  함수를 정의(선언)할 때, parameter에 설정된 기본값.\n",
        "    * default parameter(기본 매개변수): default argument가 설정된 파라미터\n",
        "* 함수를 호출할 때 default argument를 가지고 있는 parameter에 값를 전달하지 않으면, default argument가 사용됨.\n",
        "* 함수를 호출할 때 default argument를 가지고 있는 parameter에 값을 전달하면,\n",
        "default argument는 무시되고, 전달된 값(argument)가 사용됨.\n"
      ]
    },
    {
      "cell_type": "code",
      "metadata": {
        "id": "o5HaO0sielNB"
      },
      "source": [
        "def repeat_message(message,n=1):\n",
        "  for _ in range(n):\n",
        "    print(message)"
      ],
      "execution_count": null,
      "outputs": []
    },
    {
      "cell_type": "code",
      "metadata": {
        "colab": {
          "base_uri": "https://localhost:8080/"
        },
        "id": "Mi4b4FcnfZTp",
        "outputId": "4de447e5-ae1f-4e50-df98-85054fad64be"
      },
      "source": [
        "repeat_message('Hello')"
      ],
      "execution_count": null,
      "outputs": [
        {
          "output_type": "stream",
          "text": [
            "Hello\n"
          ],
          "name": "stdout"
        }
      ]
    },
    {
      "cell_type": "code",
      "metadata": {
        "colab": {
          "base_uri": "https://localhost:8080/"
        },
        "id": "xrNk9OEMfWN_",
        "outputId": "4d1aaa25-0b9c-4974-84d8-2c69f549b0f0"
      },
      "source": [
        "repeat_message('Hello',5)"
      ],
      "execution_count": null,
      "outputs": [
        {
          "output_type": "stream",
          "text": [
            "Hello\n",
            "Hello\n",
            "Hello\n",
            "Hello\n",
            "Hello\n"
          ],
          "name": "stdout"
        }
      ]
    },
    {
      "cell_type": "markdown",
      "metadata": {
        "id": "MplqfYIRg5Rr"
      },
      "source": [
        "**(주의)**\n",
        "\n",
        "함수를 정의할 때, default parameter들은 ***반드시*** default 값을 갖지 않는 파라미터들 뒤에 선언해야함. "
      ]
    },
    {
      "cell_type": "code",
      "metadata": {
        "id": "6Zgm-olVhN7O"
      },
      "source": [
        "def test(x,y=1):\n",
        "  return x * y"
      ],
      "execution_count": null,
      "outputs": []
    },
    {
      "cell_type": "code",
      "metadata": {
        "colab": {
          "base_uri": "https://localhost:8080/",
          "height": 137
        },
        "id": "oyn7STGjdi-D",
        "outputId": "93fd95e5-1879-4cff-e577-5288d26df2e0"
      },
      "source": [
        "def test2(x=1,y):\n",
        "  return x * y "
      ],
      "execution_count": null,
      "outputs": [
        {
          "output_type": "error",
          "ename": "SyntaxError",
          "evalue": "ignored",
          "traceback": [
            "\u001b[0;36m  File \u001b[0;32m\"<ipython-input-7-0d057ea50a85>\"\u001b[0;36m, line \u001b[0;32m1\u001b[0m\n\u001b[0;31m    def test2(x=1,y):\u001b[0m\n\u001b[0m             ^\u001b[0m\n\u001b[0;31mSyntaxError\u001b[0m\u001b[0;31m:\u001b[0m non-default argument follows default argument\n"
          ]
        }
      ]
    },
    {
      "cell_type": "markdown",
      "metadata": {
        "id": "D6qFFWQjios_"
      },
      "source": [
        "## argument 전달 방법"
      ]
    },
    {
      "cell_type": "markdown",
      "metadata": {
        "id": "hZqN8__UisR_"
      },
      "source": [
        "함수를 호출할 때, 값(argument)를 전달하는 방법:\n",
        "\n",
        "*  **positional argument**: 함수에 정의된 파라미터 순서대로 값(argument)을 전달하는 방식.\n",
        "*  **keyword argument**: `pram_name= value` 와 같은 형식으로 값(argument)을 전달하는 방식.\n",
        "    *  keyword argument 방식으로 값(argument)를 전달할 때는 함수에 정의된 파라미터의 순서를 지키지 않아도 괜찮음."
      ]
    },
    {
      "cell_type": "code",
      "metadata": {
        "id": "-MF7pkLfjlb9"
      },
      "source": [
        "def minus(x,y):\n",
        "  return x - y"
      ],
      "execution_count": null,
      "outputs": []
    },
    {
      "cell_type": "code",
      "metadata": {
        "colab": {
          "base_uri": "https://localhost:8080/"
        },
        "id": "qaadea2Fj-kf",
        "outputId": "651c293b-ce56-46b5-ba4c-bddba057f46e"
      },
      "source": [
        "# positional argument 방식의 함수 호출\n",
        "minus(1,2)"
      ],
      "execution_count": null,
      "outputs": [
        {
          "output_type": "execute_result",
          "data": {
            "text/plain": [
              "-1"
            ]
          },
          "metadata": {
            "tags": []
          },
          "execution_count": 10
        }
      ]
    },
    {
      "cell_type": "code",
      "metadata": {
        "colab": {
          "base_uri": "https://localhost:8080/"
        },
        "id": "EJFoDm2skOIT",
        "outputId": "ffe6c60d-fd32-4ba1-8002-35964066b585"
      },
      "source": [
        "# keyword argument 방식의 함수 호출\n",
        "minus(x=1,y=2)"
      ],
      "execution_count": null,
      "outputs": [
        {
          "output_type": "execute_result",
          "data": {
            "text/plain": [
              "-1"
            ]
          },
          "metadata": {
            "tags": []
          },
          "execution_count": 11
        }
      ]
    },
    {
      "cell_type": "code",
      "metadata": {
        "id": "B0Ge6y7dlRBM"
      },
      "source": [
        "# keyword argument 방식의 함수 호출인 경우는 parameter가 선언된 순서를 지키지 않아도 됨.\n",
        "minus(y=1,x=2)"
      ],
      "execution_count": null,
      "outputs": []
    },
    {
      "cell_type": "code",
      "metadata": {
        "colab": {
          "base_uri": "https://localhost:8080/"
        },
        "id": "fta-tXq2lQ93",
        "outputId": "45ed7aa8-d1cc-49e1-f1a1-23ea287c0fc9"
      },
      "source": [
        "# positional argument와 keyword argument를 혼용함 함수 호출\n",
        "minus(10,y=20)"
      ],
      "execution_count": null,
      "outputs": [
        {
          "output_type": "execute_result",
          "data": {
            "text/plain": [
              "-10"
            ]
          },
          "metadata": {
            "tags": []
          },
          "execution_count": 12
        }
      ]
    },
    {
      "cell_type": "code",
      "metadata": {
        "colab": {
          "base_uri": "https://localhost:8080/",
          "height": 137
        },
        "id": "9pwLWBHEmW7h",
        "outputId": "a67e6be0-9e0d-4cb2-a318-ca5a43dafd2b"
      },
      "source": [
        "minus(x=10,20)\n",
        "#> SyntaxError\n",
        "# keyword argument들은 반드시 positional argument들 뒤에 위치해야 함!"
      ],
      "execution_count": null,
      "outputs": [
        {
          "output_type": "error",
          "ename": "SyntaxError",
          "evalue": "ignored",
          "traceback": [
            "\u001b[0;36m  File \u001b[0;32m\"<ipython-input-13-d93ef48eac34>\"\u001b[0;36m, line \u001b[0;32m1\u001b[0m\n\u001b[0;31m    minus(x=10,20)\u001b[0m\n\u001b[0m              ^\u001b[0m\n\u001b[0;31mSyntaxError\u001b[0m\u001b[0;31m:\u001b[0m positional argument follows keyword argument\n"
          ]
        }
      ]
    },
    {
      "cell_type": "markdown",
      "metadata": {
        "id": "TvwXEnapqZDS"
      },
      "source": [
        "# 가변길이 인수(variable-length argumnets)"
      ]
    },
    {
      "cell_type": "code",
      "metadata": {
        "id": "0S-TYiVKqwso"
      },
      "source": [
        "print('안녕하세요') # argument 1개"
      ],
      "execution_count": null,
      "outputs": []
    },
    {
      "cell_type": "code",
      "metadata": {
        "id": "01TjY6NAq3XU"
      },
      "source": [
        "print('안녕하세요','hello') # argument 2개"
      ],
      "execution_count": null,
      "outputs": []
    },
    {
      "cell_type": "code",
      "metadata": {
        "id": "9v7K61VFrry5"
      },
      "source": [
        "max(1,10,5) # argument 3개 "
      ],
      "execution_count": null,
      "outputs": []
    },
    {
      "cell_type": "markdown",
      "metadata": {
        "id": "FUUw4nXIs0z_"
      },
      "source": [
        "** 가변길이 인수(variable-length, arbitrary-length argument)**\n",
        "\n",
        "* 함수를 호출할 때 전달하는 값(argument)의 개수가 임의로 변할 수 있는 것.\n",
        "argument 개수의 제한이 없음.\n",
        "* 함수를 정의(선언)할 때, 파라미터 앞에 `*`를 쓰면 가변길이 인수를 전달받는 파라미터가 됨.\n",
        "* 함수 내부에서 가변길이 인수는 tuple로 간주함.\n",
        "  * 가변길이 인수는 인덱스를 사용할 수 있음.\n",
        "  * 가변길이 인수는 for-in 구문에서 사용할 수 있음.\n",
        "* 가변길이 인수는 keyword argument 방식으로 전달할 수 없음!\n",
        "* 함수를 선언할 때 가변길이 인수를 갖는 파라미터는 하나만 선언할 수 있음."
      ]
    },
    {
      "cell_type": "code",
      "metadata": {
        "id": "466-wR4EtUeu"
      },
      "source": [
        "def add_all(*values):\n",
        "  \"\"\"전달 받은 모든 값들의 합을 계산해 리턴\"\"\"\n",
        "  total=0\n",
        "  for x in values:\n",
        "    total += x \n",
        "  return total"
      ],
      "execution_count": null,
      "outputs": []
    },
    {
      "cell_type": "code",
      "metadata": {
        "colab": {
          "base_uri": "https://localhost:8080/"
        },
        "id": "FgW30pbDt79E",
        "outputId": "09e67441-f6e2-4f4a-e293-259ac1fd5105"
      },
      "source": [
        "add_all() # argument 0개"
      ],
      "execution_count": null,
      "outputs": [
        {
          "output_type": "execute_result",
          "data": {
            "text/plain": [
              "0"
            ]
          },
          "metadata": {
            "tags": []
          },
          "execution_count": 33
        }
      ]
    },
    {
      "cell_type": "code",
      "metadata": {
        "colab": {
          "base_uri": "https://localhost:8080/"
        },
        "id": "8qMTHb8Xt95k",
        "outputId": "d00f6ff0-e57f-473a-cbc9-f36f613b0164"
      },
      "source": [
        "add_all(1) # argument 1개"
      ],
      "execution_count": null,
      "outputs": [
        {
          "output_type": "execute_result",
          "data": {
            "text/plain": [
              "1"
            ]
          },
          "metadata": {
            "tags": []
          },
          "execution_count": 34
        }
      ]
    },
    {
      "cell_type": "code",
      "metadata": {
        "colab": {
          "base_uri": "https://localhost:8080/"
        },
        "id": "tSlfYQd3t_C7",
        "outputId": "a99b0ee6-d898-4192-9cbc-9e0a647f9ba5"
      },
      "source": [
        "add_all(1,2,3,4,5) # argument 5개"
      ],
      "execution_count": null,
      "outputs": [
        {
          "output_type": "execute_result",
          "data": {
            "text/plain": [
              "15"
            ]
          },
          "metadata": {
            "tags": []
          },
          "execution_count": 35
        }
      ]
    },
    {
      "cell_type": "code",
      "metadata": {
        "id": "DR-Wk2bMxfUk"
      },
      "source": [
        "def fn_test(a,*b):\n",
        "  print('a=',a)\n",
        "  print('b=',b)"
      ],
      "execution_count": null,
      "outputs": []
    },
    {
      "cell_type": "code",
      "metadata": {
        "colab": {
          "base_uri": "https://localhost:8080/"
        },
        "id": "Lm_VRUa1x1mv",
        "outputId": "2454a8f4-42d6-47f9-87a2-274b4419527e"
      },
      "source": [
        "fn_test(123) #> 에러 없이 실행됨 - 가변길이 인수는 값이 하나도 없어도 됨."
      ],
      "execution_count": null,
      "outputs": [
        {
          "output_type": "stream",
          "text": [
            "a= 1\n",
            "b= (2, 3)\n"
          ],
          "name": "stdout"
        }
      ]
    },
    {
      "cell_type": "code",
      "metadata": {
        "id": "ML5nvclfyp9h"
      },
      "source": [
        "fn_test() #> 에러발생 - 파라미터 a에는 반드시 값(argument)가 전달되어야 하기 때문에."
      ],
      "execution_count": null,
      "outputs": []
    },
    {
      "cell_type": "code",
      "metadata": {
        "id": "WLovSs_dyxH5"
      },
      "source": [
        "fn_test(1,2,3)"
      ],
      "execution_count": null,
      "outputs": []
    },
    {
      "cell_type": "code",
      "metadata": {
        "id": "-OgHEIXh6TOZ"
      },
      "source": [
        "fn_test(a=1,2,3,4,5)\n",
        "#> 문법오류: keyword argument가 positional argument보다 먼저 사용될 수는 없다!"
      ],
      "execution_count": null,
      "outputs": []
    },
    {
      "cell_type": "code",
      "metadata": {
        "id": "-zCtSPIN8HcE"
      },
      "source": [
        "def fn_test2(*a,b): \n",
        "  print('a=',a)\n",
        "  print('b=',b)"
      ],
      "execution_count": null,
      "outputs": []
    },
    {
      "cell_type": "code",
      "metadata": {
        "colab": {
          "base_uri": "https://localhost:8080/"
        },
        "id": "JkbIMAgM8Ohq",
        "outputId": "ec3bebb3-5b60-45f1-e9ee-579ae4406ae3"
      },
      "source": [
        "fn_test2(1,2,3,4,b=5)  # 파라미터 b에 값을 전달하려면 keyword 방식만 가능"
      ],
      "execution_count": null,
      "outputs": [
        {
          "output_type": "stream",
          "text": [
            "a= (1, 2, 3, 4)\n",
            "b= 5\n"
          ],
          "name": "stdout"
        }
      ]
    },
    {
      "cell_type": "code",
      "metadata": {
        "id": "uBYBjZiV-GAG"
      },
      "source": [
        "def repeat_messages(*messages,n=1):\n",
        "  for _ in range(n): # n번 반복\n",
        "    for i,m in enumerate(messages):\n",
        "      print(f'[{i+1}]{m}') \n",
        "    print() # 빈줄 출력  "
      ],
      "execution_count": null,
      "outputs": []
    },
    {
      "cell_type": "code",
      "metadata": {
        "colab": {
          "base_uri": "https://localhost:8080/"
        },
        "id": "td_HiJL2_Wui",
        "outputId": "0293da78-8512-4be2-ccef-5ca63a8a89db"
      },
      "source": [
        "repeat_messages('안녕')"
      ],
      "execution_count": null,
      "outputs": [
        {
          "output_type": "stream",
          "text": [
            "[1]안녕\n",
            "\n"
          ],
          "name": "stdout"
        }
      ]
    },
    {
      "cell_type": "code",
      "metadata": {
        "colab": {
          "base_uri": "https://localhost:8080/"
        },
        "id": "QSxii-9u_S_F",
        "outputId": "6b237cb9-ec0c-4f6b-dbf0-806b9437431e"
      },
      "source": [
        "repeat_messages('안녕',4)"
      ],
      "execution_count": null,
      "outputs": [
        {
          "output_type": "stream",
          "text": [
            "[1]안녕\n",
            "[2]4\n",
            "\n"
          ],
          "name": "stdout"
        }
      ]
    },
    {
      "cell_type": "code",
      "metadata": {
        "colab": {
          "base_uri": "https://localhost:8080/"
        },
        "id": "XHteTYnUAhwZ",
        "outputId": "8a5ebcc7-dec1-4b67-9eff-335110b7c165"
      },
      "source": [
        "repeat_messages('안녕',n=4)"
      ],
      "execution_count": null,
      "outputs": [
        {
          "output_type": "stream",
          "text": [
            "[1]안녕\n",
            "\n",
            "[1]안녕\n",
            "\n",
            "[1]안녕\n",
            "\n",
            "[1]안녕\n",
            "\n"
          ],
          "name": "stdout"
        }
      ]
    },
    {
      "cell_type": "code",
      "metadata": {
        "colab": {
          "base_uri": "https://localhost:8080/"
        },
        "id": "rMZqY2a4BXD7",
        "outputId": "2a83407f-d333-405c-babb-f1b4bde492a5"
      },
      "source": [
        "repeat_messages('안녕','hello',5,n=4)"
      ],
      "execution_count": null,
      "outputs": [
        {
          "output_type": "stream",
          "text": [
            "[1]안녕\n",
            "[2]hello\n",
            "[3]5\n",
            "\n",
            "[1]안녕\n",
            "[2]hello\n",
            "[3]5\n",
            "\n",
            "[1]안녕\n",
            "[2]hello\n",
            "[3]5\n",
            "\n",
            "[1]안녕\n",
            "[2]hello\n",
            "[3]5\n",
            "\n"
          ],
          "name": "stdout"
        }
      ]
    },
    {
      "cell_type": "code",
      "metadata": {
        "id": "7PWu9Go3GydT"
      },
      "source": [
        "def calculate(*values,op):\n",
        "  \"\"\"\n",
        "  values: 임의의 개수의 숫자들.\n",
        "  op: 문자열 '+',또는 '*'\n",
        "  op가 '+'인 경우에는, values들의 합을 리턴.\n",
        "  op가 '*'인 경우에는, values들의 곱을 리턴.\n",
        "  op가 '+'나 '*'가 아닌 경우에는 ValueError를 발생.\n",
        "  \"\"\"\n",
        " \n",
        "  if op == '+':\n",
        "    s=0\n",
        "    for i in values:\n",
        "     s += i\n",
        "    return s   \n",
        "  elif op == '*':\n",
        "    s=1\n",
        "    for i in values:\n",
        "     s = s*i\n",
        "    return s\n",
        "  else:\n",
        "    raise ValueError()\n",
        "\n",
        "    "
      ],
      "execution_count": 1,
      "outputs": []
    },
    {
      "cell_type": "code",
      "metadata": {
        "colab": {
          "base_uri": "https://localhost:8080/"
        },
        "id": "rVpmeEeZHRS-",
        "outputId": "9c6e3be6-f891-4bf4-ee7c-cd8c952b9ea0"
      },
      "source": [
        "calculate(1,2,3,4,5,op='+') #>15"
      ],
      "execution_count": 2,
      "outputs": [
        {
          "output_type": "execute_result",
          "data": {
            "text/plain": [
              "15"
            ]
          },
          "metadata": {
            "tags": []
          },
          "execution_count": 2
        }
      ]
    },
    {
      "cell_type": "code",
      "metadata": {
        "colab": {
          "base_uri": "https://localhost:8080/"
        },
        "id": "mMkyDUQQHW74",
        "outputId": "3e78a42f-9316-476c-b7b2-901a9fc53941"
      },
      "source": [
        "calculate(1,2,3,4,5,op='*') #>120"
      ],
      "execution_count": 3,
      "outputs": [
        {
          "output_type": "execute_result",
          "data": {
            "text/plain": [
              "120"
            ]
          },
          "metadata": {
            "tags": []
          },
          "execution_count": 3
        }
      ]
    },
    {
      "cell_type": "code",
      "metadata": {
        "colab": {
          "base_uri": "https://localhost:8080/",
          "height": 302
        },
        "id": "neD3Rv60HXMG",
        "outputId": "76a3c2f5-f6d1-4138-d96d-0883b6db7832"
      },
      "source": [
        "calculate(1,2,3,4,5,op='%') #>ValueError"
      ],
      "execution_count": 4,
      "outputs": [
        {
          "output_type": "error",
          "ename": "ValueError",
          "evalue": "ignored",
          "traceback": [
            "\u001b[0;31m---------------------------------------------------------------------------\u001b[0m",
            "\u001b[0;31mValueError\u001b[0m                                Traceback (most recent call last)",
            "\u001b[0;32m<ipython-input-4-f770d007bebb>\u001b[0m in \u001b[0;36m<module>\u001b[0;34m()\u001b[0m\n\u001b[0;32m----> 1\u001b[0;31m \u001b[0mcalculate\u001b[0m\u001b[0;34m(\u001b[0m\u001b[0;36m1\u001b[0m\u001b[0;34m,\u001b[0m\u001b[0;36m2\u001b[0m\u001b[0;34m,\u001b[0m\u001b[0;36m3\u001b[0m\u001b[0;34m,\u001b[0m\u001b[0;36m4\u001b[0m\u001b[0;34m,\u001b[0m\u001b[0;36m5\u001b[0m\u001b[0;34m,\u001b[0m\u001b[0mop\u001b[0m\u001b[0;34m=\u001b[0m\u001b[0;34m'%'\u001b[0m\u001b[0;34m)\u001b[0m \u001b[0;31m#>ValueError\u001b[0m\u001b[0;34m\u001b[0m\u001b[0;34m\u001b[0m\u001b[0m\n\u001b[0m",
            "\u001b[0;32m<ipython-input-1-fc79e22e90c5>\u001b[0m in \u001b[0;36mcalculate\u001b[0;34m(op, *values)\u001b[0m\n\u001b[1;32m     19\u001b[0m     \u001b[0;32mreturn\u001b[0m \u001b[0ms\u001b[0m\u001b[0;34m\u001b[0m\u001b[0;34m\u001b[0m\u001b[0m\n\u001b[1;32m     20\u001b[0m   \u001b[0;32melse\u001b[0m\u001b[0;34m:\u001b[0m\u001b[0;34m\u001b[0m\u001b[0;34m\u001b[0m\u001b[0m\n\u001b[0;32m---> 21\u001b[0;31m     \u001b[0;32mraise\u001b[0m \u001b[0mValueError\u001b[0m\u001b[0;34m(\u001b[0m\u001b[0;34m)\u001b[0m\u001b[0;34m\u001b[0m\u001b[0;34m\u001b[0m\u001b[0m\n\u001b[0m\u001b[1;32m     22\u001b[0m \u001b[0;34m\u001b[0m\u001b[0m\n\u001b[1;32m     23\u001b[0m \u001b[0;34m\u001b[0m\u001b[0m\n",
            "\u001b[0;31mValueError\u001b[0m: "
          ]
        }
      ]
    }
  ]
}