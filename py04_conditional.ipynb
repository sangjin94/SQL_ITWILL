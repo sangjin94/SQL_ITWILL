{
  "nbformat": 4,
  "nbformat_minor": 0,
  "metadata": {
    "colab": {
      "name": "py04_conditional.ipynb",
      "provenance": [],
      "authorship_tag": "ABX9TyOH0sJdCBLQxb51IVTdjoYn",
      "include_colab_link": true
    },
    "kernelspec": {
      "name": "python3",
      "display_name": "Python 3"
    },
    "language_info": {
      "name": "python"
    }
  },
  "cells": [
    {
      "cell_type": "markdown",
      "metadata": {
        "id": "view-in-github",
        "colab_type": "text"
      },
      "source": [
        "<a href=\"https://colab.research.google.com/github/sangjin94/SQL_ITWILL/blob/main/py04_conditional.ipynb\" target=\"_parent\"><img src=\"https://colab.research.google.com/assets/colab-badge.svg\" alt=\"Open In Colab\"/></a>"
      ]
    },
    {
      "cell_type": "code",
      "metadata": {
        "id": "3DvVR4Jhcr3x"
      },
      "source": [
        "import random # random 모듈 "
      ],
      "execution_count": null,
      "outputs": []
    },
    {
      "cell_type": "markdown",
      "metadata": {
        "id": "pJFvJCi3eIz1"
      },
      "source": [
        "random 모듈이 가지고 있는 함수들을 사용하는 방법"
      ]
    },
    {
      "cell_type": "code",
      "metadata": {
        "colab": {
          "base_uri": "https://localhost:8080/"
        },
        "id": "jQp0wZfAdv_j",
        "outputId": "c70835da-d2d3-4a7a-8414-956302d7c0be"
      },
      "source": [
        "# random.randrange(start,stop): start<= r < stop 범위의 정수 난수를 생성.\n",
        "random.randrange(start=1,stop=4)"
      ],
      "execution_count": null,
      "outputs": [
        {
          "output_type": "execute_result",
          "data": {
            "text/plain": [
              "3"
            ]
          },
          "metadata": {
            "tags": []
          },
          "execution_count": 14
        }
      ]
    },
    {
      "cell_type": "code",
      "metadata": {
        "colab": {
          "base_uri": "https://localhost:8080/"
        },
        "id": "C1VEf1mNh8sX",
        "outputId": "51ccbd5f-2328-4e1c-d527-1ac1b929b067"
      },
      "source": [
        "# random.randrange(stop): 0 <= r <stop 범위의 정수 난수 생성\n",
        "random.randrange(5)"
      ],
      "execution_count": null,
      "outputs": [
        {
          "output_type": "execute_result",
          "data": {
            "text/plain": [
              "1"
            ]
          },
          "metadata": {
            "tags": []
          },
          "execution_count": 20
        }
      ]
    },
    {
      "cell_type": "code",
      "metadata": {
        "colab": {
          "base_uri": "https://localhost:8080/"
        },
        "id": "sngeg_noiZe9",
        "outputId": "bfa72edd-123c-40ee-b4ed-a4b3ad5e9989"
      },
      "source": [
        "# random.random(): 0 <= 1 범위의 실수 난수 생성\n",
        "random.random()"
      ],
      "execution_count": null,
      "outputs": [
        {
          "output_type": "execute_result",
          "data": {
            "text/plain": [
              "0.5685321662830304"
            ]
          },
          "metadata": {
            "tags": []
          },
          "execution_count": 21
        }
      ]
    },
    {
      "cell_type": "markdown",
      "metadata": {
        "id": "xz_qWL9zixFj"
      },
      "source": [
        "user가 가위/바위/보 중에서 선택"
      ]
    },
    {
      "cell_type": "code",
      "metadata": {
        "colab": {
          "base_uri": "https://localhost:8080/"
        },
        "id": "s1xqSWv2i1pn",
        "outputId": "5c8ae656-2d31-41b9-8508-62a075266798"
      },
      "source": [
        "print('===가위/바위/보===')\n",
        "print('[1] 가위')\n",
        "print('[2] 바위')\n",
        "print('[3] 보')\n",
        "user= int(input('선택>>>'))"
      ],
      "execution_count": null,
      "outputs": [
        {
          "output_type": "stream",
          "text": [
            "===가위/바위/보===\n",
            "[1] 가위\n",
            "[2] 바위\n",
            "[3] 보\n",
            "선택>>>2\n"
          ],
          "name": "stdout"
        }
      ]
    },
    {
      "cell_type": "markdown",
      "metadata": {
        "id": "XlJlTYxejcQO"
      },
      "source": [
        "컴퓨터가 가위/바위/보 중에서 선택\n"
      ]
    },
    {
      "cell_type": "code",
      "metadata": {
        "colab": {
          "base_uri": "https://localhost:8080/"
        },
        "id": "OxaL-OG0jgTa",
        "outputId": "abd65acd-9c3d-4555-9045-7c768875d94c"
      },
      "source": [
        "computer= random.randrange(1,4)\n",
        "print(computer)"
      ],
      "execution_count": null,
      "outputs": [
        {
          "output_type": "stream",
          "text": [
            "3\n"
          ],
          "name": "stdout"
        }
      ]
    },
    {
      "cell_type": "markdown",
      "metadata": {
        "id": "PrQ0P6xNn3Qd"
      },
      "source": [
        "user 와 computer의 가위/바위/보 승패 결정"
      ]
    },
    {
      "cell_type": "code",
      "metadata": {
        "colab": {
          "base_uri": "https://localhost:8080/"
        },
        "id": "GK_anjXfkwra",
        "outputId": "afbddc97-c5e2-4844-afbb-20b39f85d43a"
      },
      "source": [
        "print('===가위/바위/보===')\n",
        "print('[1] 가위')\n",
        "print('[2] 바위')\n",
        "print('[3] 보')\n",
        "user= int(input('선택>>>'))\n",
        "computer= random.randrange(1,4)\n",
        "if user == computer:\n",
        "  print( '무승부' )\n",
        "elif user==1 and computer == 2:\n",
        "  print(' 컴퓨터 승')\n",
        "elif user==2 and computer == 3:\n",
        "  print(' 컴퓨터 승')\n",
        "elif user==2 and computer == 1:\n",
        "  print(' 유저 승')\n",
        "elif user==3 and computer == 2:\n",
        "  print(' 유저 승')\n",
        "elif user==3 and computer == 1:\n",
        "  print(' 컴퓨터 승') \n",
        "elif user==1 and computer == 3:\n",
        "  print(' 유저 승') "
      ],
      "execution_count": null,
      "outputs": [
        {
          "output_type": "stream",
          "text": [
            "===가위/바위/보===\n",
            "[1] 가위\n",
            "[2] 바위\n",
            "[3] 보\n",
            "선택>>>2\n",
            "무승부\n"
          ],
          "name": "stdout"
        }
      ]
    }
  ]
}