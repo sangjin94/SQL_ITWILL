{
  "nbformat": 4,
  "nbformat_minor": 0,
  "metadata": {
    "colab": {
      "name": "py21_class_ex.ipynb",
      "provenance": [],
      "collapsed_sections": [],
      "authorship_tag": "ABX9TyNu0FX0htCUNt4hGueNUXGP",
      "include_colab_link": true
    },
    "kernelspec": {
      "name": "python3",
      "display_name": "Python 3"
    },
    "language_info": {
      "name": "python"
    }
  },
  "cells": [
    {
      "cell_type": "markdown",
      "metadata": {
        "id": "view-in-github",
        "colab_type": "text"
      },
      "source": [
        "<a href=\"https://colab.research.google.com/github/sangjin94/SQL_ITWILL/blob/main/py21_class_ex.ipynb\" target=\"_parent\"><img src=\"https://colab.research.google.com/assets/colab-badge.svg\" alt=\"Open In Colab\"/></a>"
      ]
    },
    {
      "cell_type": "markdown",
      "metadata": {
        "id": "PpIGMO0q_u3r"
      },
      "source": [
        "# Ex1. Score 클래스\n",
        "\n",
        "* 속성(attributes):\n",
        "  * 국어, 영어, 수학 점수\n",
        "  * 국어, 영어, 수학 점수의 기본값은 0.\n",
        "* 기능(functionality):\n",
        "  * `__repr__` : `Score(국어=100,영어 =100,수학= 100)` 포맷을 리턴\n",
        "  * `calculate_sum`: 세과목의 총점 리턴\n",
        "  * `calculate_mean`: 세과목의 평균 리턴"
      ]
    },
    {
      "cell_type": "code",
      "metadata": {
        "id": "mn2c2GpI_j5y"
      },
      "source": [
        "class score:\n",
        "  def __init__(self,korean=0,english=0,math=0):\n",
        "    self.korean=korean\n",
        "    self.english=english\n",
        "    self.math=math\n",
        "\n",
        "  def __repr__(self):\n",
        "    return f'Score(국어={self.korean}, 영어={self.english}, 수학={self.math})'\n",
        "\n",
        "  def calculate_sum(self):\n",
        "    return self.korean + self.english + self.math\n",
        "\n",
        "  def calculate_mean(self):\n",
        "    return (self.korean + self.english + self.math)/3 "
      ],
      "execution_count": 13,
      "outputs": []
    },
    {
      "cell_type": "code",
      "metadata": {
        "id": "fqSwAOeiB7QK"
      },
      "source": [
        "Score_1=score(korean=80,english=90,math=100)"
      ],
      "execution_count": 39,
      "outputs": []
    },
    {
      "cell_type": "code",
      "metadata": {
        "colab": {
          "base_uri": "https://localhost:8080/"
        },
        "id": "ooF9irzNDZ1F",
        "outputId": "29faa6da-a184-454d-a208-b10beb98d463"
      },
      "source": [
        "print(Score_1)"
      ],
      "execution_count": 15,
      "outputs": [
        {
          "output_type": "stream",
          "text": [
            "Score(국어=80, 영어=90, 수학=100)\n"
          ],
          "name": "stdout"
        }
      ]
    },
    {
      "cell_type": "code",
      "metadata": {
        "colab": {
          "base_uri": "https://localhost:8080/"
        },
        "id": "yuY0NGuRCEP9",
        "outputId": "383d5368-0fcf-4350-c6b1-d7e52a63a071"
      },
      "source": [
        "Score_1.calculate_sum()"
      ],
      "execution_count": 16,
      "outputs": [
        {
          "output_type": "execute_result",
          "data": {
            "text/plain": [
              "270"
            ]
          },
          "metadata": {
            "tags": []
          },
          "execution_count": 16
        }
      ]
    },
    {
      "cell_type": "code",
      "metadata": {
        "colab": {
          "base_uri": "https://localhost:8080/"
        },
        "id": "8961jEMlCI95",
        "outputId": "323dfcfb-1213-433d-92fe-a06b0445fc86"
      },
      "source": [
        "Score_1.calculate_mean()"
      ],
      "execution_count": 12,
      "outputs": [
        {
          "output_type": "execute_result",
          "data": {
            "text/plain": [
              "90.0"
            ]
          },
          "metadata": {
            "tags": []
          },
          "execution_count": 12
        }
      ]
    },
    {
      "cell_type": "markdown",
      "metadata": {
        "id": "FJuWRNPLA-kF"
      },
      "source": [
        "Ex2. Student 클래스\n",
        "\n",
        "* 속성(attributes):\n",
        "  * 학생 이름, 점수(Score 객체)\n",
        "* 기능(functionality):\n",
        "  *`__repr__`: `Student(이름: 홍길동, 점수: Score(국어=100,영어=100,수학=100))`포맷을 리턴  \n",
        " *테스트\n",
        "  * Student 객체(인스턴스)를 생성.\n",
        "  * 생성된 객체에서 총점, 평균을 계산하는 매서드를 호출 "
      ]
    },
    {
      "cell_type": "code",
      "metadata": {
        "id": "Th0QQqU6Cb9C"
      },
      "source": [
        "class Student:\n",
        "  def __init__(self,name,score):\n",
        "    self.name= name\n",
        "    self.korean=score.korean\n",
        "    self.english=score.english\n",
        "    self.math=score.math\n",
        "\n",
        "  def __repr__(self):\n",
        "    return f'Student(이름={self.name},점수= Score(국어={self.korean},영어={self.english},수학={self.math}) ) ' \n",
        " \n",
        "  def calculate_sum(self):\n",
        "    return self.korean + self.english + self.math\n",
        "\n",
        "  def calculate_mean(self):\n",
        "    return (self.korean + self.english + self.math)/3    "
      ],
      "execution_count": 58,
      "outputs": []
    },
    {
      "cell_type": "code",
      "metadata": {
        "colab": {
          "base_uri": "https://localhost:8080/"
        },
        "id": "8uEFzDDHCy4A",
        "outputId": "6a4dd218-67c2-4b74-df2d-06b5235a3649"
      },
      "source": [
        "Student_1=Student(name='Sangjin',score=Score_1)\n",
        "print(Student_1)"
      ],
      "execution_count": 61,
      "outputs": [
        {
          "output_type": "stream",
          "text": [
            "Student(이름=Sangjin,점수= Score(국어=80,영어=90,수학=100) ) \n"
          ],
          "name": "stdout"
        }
      ]
    },
    {
      "cell_type": "code",
      "metadata": {
        "colab": {
          "base_uri": "https://localhost:8080/"
        },
        "id": "Kwzf83vAKmZE",
        "outputId": "7d3ec297-53ae-455f-884d-7e9dd61b4b9e"
      },
      "source": [
        "Student_1.calculate_sum()"
      ],
      "execution_count": 62,
      "outputs": [
        {
          "output_type": "execute_result",
          "data": {
            "text/plain": [
              "270"
            ]
          },
          "metadata": {
            "tags": []
          },
          "execution_count": 62
        }
      ]
    },
    {
      "cell_type": "code",
      "metadata": {
        "colab": {
          "base_uri": "https://localhost:8080/"
        },
        "id": "syz7werVL7vz",
        "outputId": "ac810efe-4877-4ea1-9d05-6c6a82a76581"
      },
      "source": [
        "Student_1.calculate_mean()"
      ],
      "execution_count": 63,
      "outputs": [
        {
          "output_type": "execute_result",
          "data": {
            "text/plain": [
              "90.0"
            ]
          },
          "metadata": {
            "tags": []
          },
          "execution_count": 63
        }
      ]
    }
  ]
}