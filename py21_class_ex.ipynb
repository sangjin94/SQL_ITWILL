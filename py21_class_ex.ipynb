{
  "nbformat": 4,
  "nbformat_minor": 0,
  "metadata": {
    "colab": {
      "name": "py21_class_ex.ipynb",
      "provenance": [],
      "collapsed_sections": [],
      "authorship_tag": "ABX9TyOzEzM9PlJFlilKGTiPj53j",
      "include_colab_link": true
    },
    "kernelspec": {
      "name": "python3",
      "display_name": "Python 3"
    },
    "language_info": {
      "name": "python"
    }
  },
  "cells": [
    {
      "cell_type": "markdown",
      "metadata": {
        "id": "view-in-github",
        "colab_type": "text"
      },
      "source": [
        "<a href=\"https://colab.research.google.com/github/sangjin94/SQL_ITWILL/blob/main/py21_class_ex.ipynb\" target=\"_parent\"><img src=\"https://colab.research.google.com/assets/colab-badge.svg\" alt=\"Open In Colab\"/></a>"
      ]
    },
    {
      "cell_type": "markdown",
      "metadata": {
        "id": "PpIGMO0q_u3r"
      },
      "source": [
        "# Ex1. Score 클래스\n",
        "\n",
        "* 속성(attributes):\n",
        "  * 국어, 영어, 수학 점수\n",
        "  * 국어, 영어, 수학 점수의 기본값은 0.\n",
        "* 기능(functionality):\n",
        "  * `__repr__` : `Score(국어=100,영어 =100,수학= 100)` 포맷을 리턴\n",
        "  * `calculate_sum`: 세과목의 총점 리턴\n",
        "  * `calculate_mean`: 세과목의 평균 리턴"
      ]
    },
    {
      "cell_type": "code",
      "metadata": {
        "id": "mn2c2GpI_j5y"
      },
      "source": [
        "class score:\n",
        "  def __init__(self,korean=0,english=0,math=0):\n",
        "    self.korean=korean\n",
        "    self.english=english\n",
        "    self.math=math\n",
        "\n",
        "  def __repr__(self):\n",
        "    return f'score(국어={self.korean}, 영어={self.english}, 수학={self.math})'\n",
        "\n",
        "  def calculate_sum(self):\n",
        "    return self.korean + self.english + self.math\n",
        "\n",
        "  def calculate_mean(self):\n",
        "    return (self.korean + self.english + self.math)/3 \n",
        "    # return self.calculate_sum()/3 도 가능 "
      ],
      "execution_count": 1,
      "outputs": []
    },
    {
      "cell_type": "code",
      "metadata": {
        "id": "fqSwAOeiB7QK"
      },
      "source": [
        "score_1=score(korean=80,english=90,math=100)"
      ],
      "execution_count": 2,
      "outputs": []
    },
    {
      "cell_type": "code",
      "metadata": {
        "colab": {
          "base_uri": "https://localhost:8080/"
        },
        "id": "ooF9irzNDZ1F",
        "outputId": "72bd790c-da7b-4c4a-dffd-c4379493107c"
      },
      "source": [
        "print(score_1)"
      ],
      "execution_count": 3,
      "outputs": [
        {
          "output_type": "stream",
          "text": [
            "score(국어=80, 영어=90, 수학=100)\n"
          ],
          "name": "stdout"
        }
      ]
    },
    {
      "cell_type": "code",
      "metadata": {
        "colab": {
          "base_uri": "https://localhost:8080/"
        },
        "id": "yuY0NGuRCEP9",
        "outputId": "e028a89c-f760-4af0-bf95-cc657dcaa5ea"
      },
      "source": [
        "score_1.calculate_sum()"
      ],
      "execution_count": 4,
      "outputs": [
        {
          "output_type": "execute_result",
          "data": {
            "text/plain": [
              "270"
            ]
          },
          "metadata": {
            "tags": []
          },
          "execution_count": 4
        }
      ]
    },
    {
      "cell_type": "code",
      "metadata": {
        "colab": {
          "base_uri": "https://localhost:8080/"
        },
        "id": "8961jEMlCI95",
        "outputId": "c2d6287b-520c-49b8-f39b-1d4533b6dd99"
      },
      "source": [
        "score_1.calculate_mean()"
      ],
      "execution_count": 5,
      "outputs": [
        {
          "output_type": "execute_result",
          "data": {
            "text/plain": [
              "90.0"
            ]
          },
          "metadata": {
            "tags": []
          },
          "execution_count": 5
        }
      ]
    },
    {
      "cell_type": "markdown",
      "metadata": {
        "id": "FJuWRNPLA-kF"
      },
      "source": [
        "Ex2. Student 클래스\n",
        "\n",
        "* 속성(attributes):\n",
        "  * 학생 이름, 점수(Score 객체)\n",
        "* 기능(functionality):\n",
        "  *`__repr__`: `Student(이름: 홍길동, 점수: Score(국어=100,영어=100,수학=100))`포맷을 리턴  \n",
        " *테스트\n",
        "  * Student 객체(인스턴스)를 생성.\n",
        "  * 생성된 객체에서 총점, 평균을 계산하는 매서드를 호출 "
      ]
    },
    {
      "cell_type": "code",
      "metadata": {
        "id": "Th0QQqU6Cb9C"
      },
      "source": [
        "class student:\n",
        "  def __init__(self,name,score):\n",
        "    self.name= name\n",
        "    self.korean=score.korean\n",
        "    self.english=score.english\n",
        "    self.math=score.math\n",
        "\n",
        "  def __repr__(self):\n",
        "    return f'student(이름={self.name},점수= score(국어={self.korean},영어={self.english},수학={self.math}) ) ' \n",
        " \n",
        "  def calculate_sum(self):\n",
        "    return self.korean + self.english + self.math\n",
        "\n",
        "  def calculate_mean(self):\n",
        "    return (self.korean + self.english + self.math)/3    "
      ],
      "execution_count": 6,
      "outputs": []
    },
    {
      "cell_type": "code",
      "metadata": {
        "id": "WNMvTQ1y3-FT"
      },
      "source": [
        "# 다른 방식\n",
        "class Student:\n",
        "  def __init__(self,name,score):\n",
        "    self.name= name\n",
        "    self.score=score\n",
        "\n",
        "  def __repr__(self):\n",
        "    return f'student(이름={self.name},점수= {self.score})' \n",
        " "
      ],
      "execution_count": 27,
      "outputs": []
    },
    {
      "cell_type": "code",
      "metadata": {
        "colab": {
          "base_uri": "https://localhost:8080/"
        },
        "id": "8uEFzDDHCy4A",
        "outputId": "2bb83299-9219-4451-9b37-4cfb82abacb9"
      },
      "source": [
        "student_1=student(name='Sangjin',score=score_1)\n",
        "print(student_1)\n",
        "print('총점=',student_1.calculate_sum())\n",
        "print('평균=',student_1.calculate_mean())"
      ],
      "execution_count": 18,
      "outputs": [
        {
          "output_type": "stream",
          "text": [
            "student(이름=Sangjin,점수= score(국어=80,영어=90,수학=100) ) \n",
            "총점= 270\n",
            "평균= 90.0\n"
          ],
          "name": "stdout"
        }
      ]
    },
    {
      "cell_type": "code",
      "metadata": {
        "colab": {
          "base_uri": "https://localhost:8080/"
        },
        "id": "azCAY87_4M8T",
        "outputId": "7873f545-24df-41fa-ab9f-64846e356b6f"
      },
      "source": [
        "gil_dong=Student(name='홍길동',score=score_1)\n",
        "print(gil_dong)\n",
        "gil_dong.score.korean"
      ],
      "execution_count": 29,
      "outputs": [
        {
          "output_type": "stream",
          "text": [
            "student(이름=홍길동,점수= score(국어=80, 영어=90, 수학=100))\n"
          ],
          "name": "stdout"
        },
        {
          "output_type": "execute_result",
          "data": {
            "text/plain": [
              "80"
            ]
          },
          "metadata": {
            "tags": []
          },
          "execution_count": 29
        }
      ]
    },
    {
      "cell_type": "markdown",
      "metadata": {
        "id": "ss7b7sMA7IpA"
      },
      "source": [
        "참조 연산자(reference)\n"
      ]
    },
    {
      "cell_type": "markdown",
      "metadata": {
        "id": "kJX37FLt_rj9"
      },
      "source": [
        "# Ex3. self를 리턴하는 메서드\n",
        "\n",
        "* 매서드 연쇄 호출(method chain call)"
      ]
    },
    {
      "cell_type": "code",
      "metadata": {
        "id": "8wx6ca3p7Bi3"
      },
      "source": [
        "class MyNumber:\n",
        "  def __init__(self, x=0.0):\n",
        "    self.x=x\n",
        "  \n",
        "  def __repr__(self):\n",
        "    return str(self.x)\n",
        "\n",
        "  def add(self,other):\n",
        "    self.x += other.x  # self.x= self.x. + other.x  \n",
        "    return self\n",
        "    \n",
        "  def subtract(self,other):\n",
        "    self.x -= other.x  # self.x= self.x. - other.x  \n",
        "    return self\n",
        "    \n",
        "  def multiply(self,other):\n",
        "    self.x *= other.x  # self.x= self.x. * other.x  \n",
        "    return self\n",
        "    \n",
        "  def divide(self,other):\n",
        "    self.x /= other.x  # self.x= self.x. / other.x  \n",
        "    return self"
      ],
      "execution_count": 39,
      "outputs": []
    },
    {
      "cell_type": "code",
      "metadata": {
        "colab": {
          "base_uri": "https://localhost:8080/"
        },
        "id": "TKkR4I3VAWMo",
        "outputId": "4ec8b603-234c-4e3a-fd03-e63744448ade"
      },
      "source": [
        "num1= MyNumber(1)\n",
        "print(num1) # print(num1.__repr__())\n",
        "\n",
        "num2= MyNumber(2)\n",
        "print(num2)\n",
        "\n",
        "num1.add(num2).subtract(num2).add(num1).multiply(num1)\n",
        "print(num1)"
      ],
      "execution_count": 42,
      "outputs": [
        {
          "output_type": "stream",
          "text": [
            "1\n",
            "2\n",
            "4\n"
          ],
          "name": "stdout"
        }
      ]
    }
  ]
}