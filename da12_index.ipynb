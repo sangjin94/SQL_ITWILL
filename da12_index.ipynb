{
  "nbformat": 4,
  "nbformat_minor": 0,
  "metadata": {
    "colab": {
      "name": "da12_index.ipynb",
      "provenance": [],
      "collapsed_sections": [],
      "authorship_tag": "ABX9TyPiiyp1aRgv6dwfMHbDh1eg",
      "include_colab_link": true
    },
    "kernelspec": {
      "name": "python3",
      "display_name": "Python 3"
    },
    "language_info": {
      "name": "python"
    }
  },
  "cells": [
    {
      "cell_type": "markdown",
      "metadata": {
        "id": "view-in-github",
        "colab_type": "text"
      },
      "source": [
        "<a href=\"https://colab.research.google.com/github/sangjin94/SQL_ITWILL/blob/main/da12_index.ipynb\" target=\"_parent\"><img src=\"https://colab.research.google.com/assets/colab-badge.svg\" alt=\"Open In Colab\"/></a>"
      ]
    },
    {
      "cell_type": "code",
      "metadata": {
        "id": "dLoRVPZ914iC"
      },
      "source": [
        "# index "
      ],
      "execution_count": 2,
      "outputs": []
    },
    {
      "cell_type": "code",
      "metadata": {
        "id": "kkhvkmOoagef"
      },
      "source": [
        "import numpy as np\n",
        "import pandas as pd"
      ],
      "execution_count": 3,
      "outputs": []
    },
    {
      "cell_type": "markdown",
      "metadata": {
        "id": "djBXWDyBaleH"
      },
      "source": [
        "# Series 단일 계층 인덱스"
      ]
    },
    {
      "cell_type": "code",
      "metadata": {
        "colab": {
          "base_uri": "https://localhost:8080/"
        },
        "id": "MIuFhjr1a9KW",
        "outputId": "2b2edee5-f1a8-4822-b171-81ef28593ef0"
      },
      "source": [
        "s =pd.Series(data=np.arange(1,6))\n",
        "s"
      ],
      "execution_count": 4,
      "outputs": [
        {
          "output_type": "execute_result",
          "data": {
            "text/plain": [
              "0    1\n",
              "1    2\n",
              "2    3\n",
              "3    4\n",
              "4    5\n",
              "dtype: int64"
            ]
          },
          "metadata": {
            "tags": []
          },
          "execution_count": 4
        }
      ]
    },
    {
      "cell_type": "code",
      "metadata": {
        "colab": {
          "base_uri": "https://localhost:8080/"
        },
        "id": "Xzx5NpVcbV8a",
        "outputId": "52721e9b-f898-4ae3-a36b-09996960589d"
      },
      "source": [
        "# Series 객체를 생성할 떄 index를 설정하지 않으면 Rangeindex가 자동으로 만들어짐.\n",
        "s.index"
      ],
      "execution_count": 5,
      "outputs": [
        {
          "output_type": "execute_result",
          "data": {
            "text/plain": [
              "RangeIndex(start=0, stop=5, step=1)"
            ]
          },
          "metadata": {
            "tags": []
          },
          "execution_count": 5
        }
      ]
    },
    {
      "cell_type": "code",
      "metadata": {
        "id": "rhDzoziobrjL"
      },
      "source": [
        "s =pd.Series(data=np.random.rand(5),\n",
        "             index=['a','b','c','d','e'])"
      ],
      "execution_count": 6,
      "outputs": []
    },
    {
      "cell_type": "code",
      "metadata": {
        "colab": {
          "base_uri": "https://localhost:8080/"
        },
        "id": "ZceooxNpbv7g",
        "outputId": "3b0ceded-34f0-4549-b90c-88e8d550ebe9"
      },
      "source": [
        "s.index"
      ],
      "execution_count": 7,
      "outputs": [
        {
          "output_type": "execute_result",
          "data": {
            "text/plain": [
              "Index(['a', 'b', 'c', 'd', 'e'], dtype='object')"
            ]
          },
          "metadata": {
            "tags": []
          },
          "execution_count": 7
        }
      ]
    },
    {
      "cell_type": "code",
      "metadata": {
        "colab": {
          "base_uri": "https://localhost:8080/"
        },
        "id": "kBRPjIofb6U-",
        "outputId": "02a72b72-3e09-4d68-938e-4fe88f835294"
      },
      "source": [
        "# index 객체는 nlevels 속성을 가지고 있음.\n",
        "s.index.nlevels"
      ],
      "execution_count": 8,
      "outputs": [
        {
          "output_type": "execute_result",
          "data": {
            "text/plain": [
              "1"
            ]
          },
          "metadata": {
            "tags": []
          },
          "execution_count": 8
        }
      ]
    },
    {
      "cell_type": "code",
      "metadata": {
        "colab": {
          "base_uri": "https://localhost:8080/"
        },
        "id": "Xhy7W4e-cO56",
        "outputId": "dcf60fb4-bb65-4ddf-b9d0-468e0e82c5fe"
      },
      "source": [
        "# Series에서 index는 값을 참조하기 위해서 사용.\n",
        "print(s['a'])   # 한개의 값을 참조\n",
        "print(s.loc['a':'c']) # slicing 부분집합"
      ],
      "execution_count": 9,
      "outputs": [
        {
          "output_type": "stream",
          "text": [
            "0.5723058002611442\n",
            "a    0.572306\n",
            "b    0.571029\n",
            "c    0.188472\n",
            "dtype: float64\n"
          ],
          "name": "stdout"
        }
      ]
    },
    {
      "cell_type": "markdown",
      "metadata": {
        "id": "OdivOG0Wcuac"
      },
      "source": [
        "# Series 계층적 인덱스(Hierachical index)\n",
        "\n",
        "* Multi-level index"
      ]
    },
    {
      "cell_type": "code",
      "metadata": {
        "id": "4dLJ5Bpl3Qub",
        "colab": {
          "base_uri": "https://localhost:8080/"
        },
        "outputId": "babfbe94-f850-4f89-d201-51bf32c399f3"
      },
      "source": [
        "s= pd.Series(data= np.random.rand(6),\n",
        "             index=[['a','a','b','b','c','c'],\n",
        "                    [1,2,3,1,2,3]])\n",
        "s"
      ],
      "execution_count": 10,
      "outputs": [
        {
          "output_type": "execute_result",
          "data": {
            "text/plain": [
              "a  1    0.570932\n",
              "   2    0.139144\n",
              "b  3    0.574360\n",
              "   1    0.300460\n",
              "c  2    0.357622\n",
              "   3    0.155497\n",
              "dtype: float64"
            ]
          },
          "metadata": {
            "tags": []
          },
          "execution_count": 10
        }
      ]
    },
    {
      "cell_type": "code",
      "metadata": {
        "colab": {
          "base_uri": "https://localhost:8080/"
        },
        "id": "lm6lriShdw3r",
        "outputId": "20c52fbd-f484-4643-9184-7988177837e3"
      },
      "source": [
        "s.index"
      ],
      "execution_count": 11,
      "outputs": [
        {
          "output_type": "execute_result",
          "data": {
            "text/plain": [
              "MultiIndex([('a', 1),\n",
              "            ('a', 2),\n",
              "            ('b', 3),\n",
              "            ('b', 1),\n",
              "            ('c', 2),\n",
              "            ('c', 3)],\n",
              "           )"
            ]
          },
          "metadata": {
            "tags": []
          },
          "execution_count": 11
        }
      ]
    },
    {
      "cell_type": "code",
      "metadata": {
        "colab": {
          "base_uri": "https://localhost:8080/"
        },
        "id": "E04phnund_iU",
        "outputId": "f228411e-4352-408d-91f1-0956dad229b6"
      },
      "source": [
        "s.index.nlevels"
      ],
      "execution_count": 12,
      "outputs": [
        {
          "output_type": "execute_result",
          "data": {
            "text/plain": [
              "2"
            ]
          },
          "metadata": {
            "tags": []
          },
          "execution_count": 12
        }
      ]
    },
    {
      "cell_type": "markdown",
      "metadata": {
        "id": "hpfvu_L4eLYo"
      },
      "source": [
        "nlevels가 2이상인 Multiindex를 사용해서 loc를 사용하는 방법:\n",
        "\n",
        "* 첫번째 레벨의 인덱스만 가지고 indexing, slicing을 할 수 있음.\n",
        "* 두번째 레벨의 인덱스만 가지고는 인덱싱을 할 수없음!\n",
        "* 튜플 형태의 인덱스로 인덱싱을 할 수 있음."
      ]
    },
    {
      "cell_type": "code",
      "metadata": {
        "colab": {
          "base_uri": "https://localhost:8080/"
        },
        "id": "Vfk7CbFSeuUT",
        "outputId": "ceb6db00-e9b5-470d-d945-cd7345535f9a"
      },
      "source": [
        "s.loc['a']"
      ],
      "execution_count": 13,
      "outputs": [
        {
          "output_type": "execute_result",
          "data": {
            "text/plain": [
              "1    0.570932\n",
              "2    0.139144\n",
              "dtype: float64"
            ]
          },
          "metadata": {
            "tags": []
          },
          "execution_count": 13
        }
      ]
    },
    {
      "cell_type": "code",
      "metadata": {
        "colab": {
          "base_uri": "https://localhost:8080/"
        },
        "id": "eK7n59lXfcN2",
        "outputId": "29278069-2cda-4e46-962b-97b0ccddb176"
      },
      "source": [
        "s.loc['a':'b']"
      ],
      "execution_count": 14,
      "outputs": [
        {
          "output_type": "execute_result",
          "data": {
            "text/plain": [
              "a  1    0.570932\n",
              "   2    0.139144\n",
              "b  3    0.574360\n",
              "   1    0.300460\n",
              "dtype: float64"
            ]
          },
          "metadata": {
            "tags": []
          },
          "execution_count": 14
        }
      ]
    },
    {
      "cell_type": "code",
      "metadata": {
        "id": "iHRb4eI0eyVE"
      },
      "source": [
        "# s.loc[1] #> key error 발생 "
      ],
      "execution_count": 15,
      "outputs": []
    },
    {
      "cell_type": "code",
      "metadata": {
        "colab": {
          "base_uri": "https://localhost:8080/"
        },
        "id": "hphmgWV8e9IP",
        "outputId": "de8fb623-dc28-41e7-ac20-2886a5ef9898"
      },
      "source": [
        "s.loc[('a',1)] # 튜플 형태의 인덱스로 인덱싱 할 수 있음"
      ],
      "execution_count": 16,
      "outputs": [
        {
          "output_type": "execute_result",
          "data": {
            "text/plain": [
              "0.5709321356257764"
            ]
          },
          "metadata": {
            "tags": []
          },
          "execution_count": 16
        }
      ]
    },
    {
      "cell_type": "code",
      "metadata": {
        "id": "dbgTgDd6fgE2"
      },
      "source": [
        "# s.loc[('a',1):('b':3)] # > 튜플형태로 인덱싱을 할수 있지만 슬라이싱은 할수없음."
      ],
      "execution_count": 17,
      "outputs": []
    },
    {
      "cell_type": "markdown",
      "metadata": {
        "id": "eJZHAPcAgAo_"
      },
      "source": [
        "`pd.Series.swaplevel()`: 인덱스의 레벨을 바꿔줌. "
      ]
    },
    {
      "cell_type": "code",
      "metadata": {
        "colab": {
          "base_uri": "https://localhost:8080/"
        },
        "id": "Nq2BAQbzgTgT",
        "outputId": "f19fa9fd-2228-4507-d67e-11d94c2066fe"
      },
      "source": [
        "s.swaplevel()"
      ],
      "execution_count": 18,
      "outputs": [
        {
          "output_type": "execute_result",
          "data": {
            "text/plain": [
              "1  a    0.570932\n",
              "2  a    0.139144\n",
              "3  b    0.574360\n",
              "1  b    0.300460\n",
              "2  c    0.357622\n",
              "3  c    0.155497\n",
              "dtype: float64"
            ]
          },
          "metadata": {
            "tags": []
          },
          "execution_count": 18
        }
      ]
    },
    {
      "cell_type": "markdown",
      "metadata": {
        "id": "K7Ek4XdHg3gn"
      },
      "source": [
        "두번째 레벨의 인덱스만 가지고 indexing과 slicing을 할 수는 없고, 첫 번째와 두번째 레벨의 인덱스를 서로 위치를 바꾼 후 첫번째 레벨 인덱스로 indexing과 slicing을 하면 됨 "
      ]
    },
    {
      "cell_type": "code",
      "metadata": {
        "colab": {
          "base_uri": "https://localhost:8080/"
        },
        "id": "jFmG47PUhQWU",
        "outputId": "166a8c2d-32a2-4899-891f-705a3bc8a810"
      },
      "source": [
        "s.swaplevel().loc[1]"
      ],
      "execution_count": 19,
      "outputs": [
        {
          "output_type": "execute_result",
          "data": {
            "text/plain": [
              "a    0.570932\n",
              "b    0.300460\n",
              "dtype: float64"
            ]
          },
          "metadata": {
            "tags": []
          },
          "execution_count": 19
        }
      ]
    },
    {
      "cell_type": "markdown",
      "metadata": {
        "id": "vmGda89ghv4g"
      },
      "source": [
        "* `pd.Series.sort_index()`: Series객체의 index를 정렬.\n",
        "* `pd.Series.sort_values()`: Series객체의 values를 정렬."
      ]
    },
    {
      "cell_type": "code",
      "metadata": {
        "colab": {
          "base_uri": "https://localhost:8080/"
        },
        "id": "xCh1Mk3XhZIK",
        "outputId": "847dabdb-2200-4094-d719-d37d1e852f0f"
      },
      "source": [
        "s.swaplevel().sort_index().loc[1:2]\n",
        "#> 정렬되지 않은 인덱스로는 slicing을 할 수 없기 때문에, 인덱스들을 먼저 정렬한 후 slicing을 함."
      ],
      "execution_count": 20,
      "outputs": [
        {
          "output_type": "execute_result",
          "data": {
            "text/plain": [
              "1  a    0.570932\n",
              "   b    0.300460\n",
              "2  a    0.139144\n",
              "   c    0.357622\n",
              "dtype: float64"
            ]
          },
          "metadata": {
            "tags": []
          },
          "execution_count": 20
        }
      ]
    },
    {
      "cell_type": "markdown",
      "metadata": {
        "id": "cm_IXSUKiVm5"
      },
      "source": [
        "# DataFrame의 계층적 인덱스"
      ]
    },
    {
      "cell_type": "code",
      "metadata": {
        "colab": {
          "base_uri": "https://localhost:8080/",
          "height": 237
        },
        "id": "jK3Qv4pwiZZR",
        "outputId": "f43e343b-35bd-4e7d-b36a-5fdf8bcc606a"
      },
      "source": [
        "df = pd.DataFrame(data=np.random.randn(6, 3),\n",
        "                  columns=['a', 'b', 'c'],\n",
        "                  index=[['Fri', 'Fri', 'Sat', 'Sat', 'Sun', 'Sun'], \n",
        "                         ['Lunch', 'Dinner'] * 3])\n",
        "df"
      ],
      "execution_count": 21,
      "outputs": [
        {
          "output_type": "execute_result",
          "data": {
            "text/html": [
              "<div>\n",
              "<style scoped>\n",
              "    .dataframe tbody tr th:only-of-type {\n",
              "        vertical-align: middle;\n",
              "    }\n",
              "\n",
              "    .dataframe tbody tr th {\n",
              "        vertical-align: top;\n",
              "    }\n",
              "\n",
              "    .dataframe thead th {\n",
              "        text-align: right;\n",
              "    }\n",
              "</style>\n",
              "<table border=\"1\" class=\"dataframe\">\n",
              "  <thead>\n",
              "    <tr style=\"text-align: right;\">\n",
              "      <th></th>\n",
              "      <th></th>\n",
              "      <th>a</th>\n",
              "      <th>b</th>\n",
              "      <th>c</th>\n",
              "    </tr>\n",
              "  </thead>\n",
              "  <tbody>\n",
              "    <tr>\n",
              "      <th rowspan=\"2\" valign=\"top\">Fri</th>\n",
              "      <th>Lunch</th>\n",
              "      <td>-0.590384</td>\n",
              "      <td>1.090389</td>\n",
              "      <td>-0.175586</td>\n",
              "    </tr>\n",
              "    <tr>\n",
              "      <th>Dinner</th>\n",
              "      <td>1.013418</td>\n",
              "      <td>0.001523</td>\n",
              "      <td>-0.895698</td>\n",
              "    </tr>\n",
              "    <tr>\n",
              "      <th rowspan=\"2\" valign=\"top\">Sat</th>\n",
              "      <th>Lunch</th>\n",
              "      <td>0.126552</td>\n",
              "      <td>-1.015755</td>\n",
              "      <td>-0.719130</td>\n",
              "    </tr>\n",
              "    <tr>\n",
              "      <th>Dinner</th>\n",
              "      <td>-0.073930</td>\n",
              "      <td>0.740643</td>\n",
              "      <td>0.290385</td>\n",
              "    </tr>\n",
              "    <tr>\n",
              "      <th rowspan=\"2\" valign=\"top\">Sun</th>\n",
              "      <th>Lunch</th>\n",
              "      <td>-0.272735</td>\n",
              "      <td>0.098712</td>\n",
              "      <td>-1.498233</td>\n",
              "    </tr>\n",
              "    <tr>\n",
              "      <th>Dinner</th>\n",
              "      <td>1.872857</td>\n",
              "      <td>-0.731246</td>\n",
              "      <td>-1.927990</td>\n",
              "    </tr>\n",
              "  </tbody>\n",
              "</table>\n",
              "</div>"
            ],
            "text/plain": [
              "                   a         b         c\n",
              "Fri Lunch  -0.590384  1.090389 -0.175586\n",
              "    Dinner  1.013418  0.001523 -0.895698\n",
              "Sat Lunch   0.126552 -1.015755 -0.719130\n",
              "    Dinner -0.073930  0.740643  0.290385\n",
              "Sun Lunch  -0.272735  0.098712 -1.498233\n",
              "    Dinner  1.872857 -0.731246 -1.927990"
            ]
          },
          "metadata": {
            "tags": []
          },
          "execution_count": 21
        }
      ]
    },
    {
      "cell_type": "code",
      "metadata": {
        "colab": {
          "base_uri": "https://localhost:8080/",
          "height": 112
        },
        "id": "t0vYLsD6iSN5",
        "outputId": "49c75ed1-93c6-474d-d714-133a504f85b1"
      },
      "source": [
        "df.loc['Fri'] # 첫번쨰 레벨의 인덱스를 사용한 indexing"
      ],
      "execution_count": 22,
      "outputs": [
        {
          "output_type": "execute_result",
          "data": {
            "text/html": [
              "<div>\n",
              "<style scoped>\n",
              "    .dataframe tbody tr th:only-of-type {\n",
              "        vertical-align: middle;\n",
              "    }\n",
              "\n",
              "    .dataframe tbody tr th {\n",
              "        vertical-align: top;\n",
              "    }\n",
              "\n",
              "    .dataframe thead th {\n",
              "        text-align: right;\n",
              "    }\n",
              "</style>\n",
              "<table border=\"1\" class=\"dataframe\">\n",
              "  <thead>\n",
              "    <tr style=\"text-align: right;\">\n",
              "      <th></th>\n",
              "      <th>a</th>\n",
              "      <th>b</th>\n",
              "      <th>c</th>\n",
              "    </tr>\n",
              "  </thead>\n",
              "  <tbody>\n",
              "    <tr>\n",
              "      <th>Lunch</th>\n",
              "      <td>-0.590384</td>\n",
              "      <td>1.090389</td>\n",
              "      <td>-0.175586</td>\n",
              "    </tr>\n",
              "    <tr>\n",
              "      <th>Dinner</th>\n",
              "      <td>1.013418</td>\n",
              "      <td>0.001523</td>\n",
              "      <td>-0.895698</td>\n",
              "    </tr>\n",
              "  </tbody>\n",
              "</table>\n",
              "</div>"
            ],
            "text/plain": [
              "               a         b         c\n",
              "Lunch  -0.590384  1.090389 -0.175586\n",
              "Dinner  1.013418  0.001523 -0.895698"
            ]
          },
          "metadata": {
            "tags": []
          },
          "execution_count": 22
        }
      ]
    },
    {
      "cell_type": "code",
      "metadata": {
        "colab": {
          "base_uri": "https://localhost:8080/",
          "height": 175
        },
        "id": "clt0kWZXko4J",
        "outputId": "e2cfc3b6-a2d8-4bd1-dae4-5c0794ae403f"
      },
      "source": [
        "df.loc['Sat':'Sun'] # 첫번쨰 레벨의 인덱스를 사용한 slicing"
      ],
      "execution_count": 23,
      "outputs": [
        {
          "output_type": "execute_result",
          "data": {
            "text/html": [
              "<div>\n",
              "<style scoped>\n",
              "    .dataframe tbody tr th:only-of-type {\n",
              "        vertical-align: middle;\n",
              "    }\n",
              "\n",
              "    .dataframe tbody tr th {\n",
              "        vertical-align: top;\n",
              "    }\n",
              "\n",
              "    .dataframe thead th {\n",
              "        text-align: right;\n",
              "    }\n",
              "</style>\n",
              "<table border=\"1\" class=\"dataframe\">\n",
              "  <thead>\n",
              "    <tr style=\"text-align: right;\">\n",
              "      <th></th>\n",
              "      <th></th>\n",
              "      <th>a</th>\n",
              "      <th>b</th>\n",
              "      <th>c</th>\n",
              "    </tr>\n",
              "  </thead>\n",
              "  <tbody>\n",
              "    <tr>\n",
              "      <th rowspan=\"2\" valign=\"top\">Sat</th>\n",
              "      <th>Lunch</th>\n",
              "      <td>0.126552</td>\n",
              "      <td>-1.015755</td>\n",
              "      <td>-0.719130</td>\n",
              "    </tr>\n",
              "    <tr>\n",
              "      <th>Dinner</th>\n",
              "      <td>-0.073930</td>\n",
              "      <td>0.740643</td>\n",
              "      <td>0.290385</td>\n",
              "    </tr>\n",
              "    <tr>\n",
              "      <th rowspan=\"2\" valign=\"top\">Sun</th>\n",
              "      <th>Lunch</th>\n",
              "      <td>-0.272735</td>\n",
              "      <td>0.098712</td>\n",
              "      <td>-1.498233</td>\n",
              "    </tr>\n",
              "    <tr>\n",
              "      <th>Dinner</th>\n",
              "      <td>1.872857</td>\n",
              "      <td>-0.731246</td>\n",
              "      <td>-1.927990</td>\n",
              "    </tr>\n",
              "  </tbody>\n",
              "</table>\n",
              "</div>"
            ],
            "text/plain": [
              "                   a         b         c\n",
              "Sat Lunch   0.126552 -1.015755 -0.719130\n",
              "    Dinner -0.073930  0.740643  0.290385\n",
              "Sun Lunch  -0.272735  0.098712 -1.498233\n",
              "    Dinner  1.872857 -0.731246 -1.927990"
            ]
          },
          "metadata": {
            "tags": []
          },
          "execution_count": 23
        }
      ]
    },
    {
      "cell_type": "code",
      "metadata": {
        "colab": {
          "base_uri": "https://localhost:8080/"
        },
        "id": "r3RPstkzkrmD",
        "outputId": "28eb6b5a-94bf-4c14-fb08-6f58af77c77b"
      },
      "source": [
        "df.loc[('Fri','Lunch')]"
      ],
      "execution_count": 24,
      "outputs": [
        {
          "output_type": "execute_result",
          "data": {
            "text/plain": [
              "a   -0.590384\n",
              "b    1.090389\n",
              "c   -0.175586\n",
              "Name: (Fri, Lunch), dtype: float64"
            ]
          },
          "metadata": {
            "tags": []
          },
          "execution_count": 24
        }
      ]
    },
    {
      "cell_type": "code",
      "metadata": {
        "colab": {
          "base_uri": "https://localhost:8080/",
          "height": 143
        },
        "id": "KRkExeYWlOAq",
        "outputId": "23f36266-35a8-4f78-f14d-2162d1f79705"
      },
      "source": [
        "# 'Lunch' 만 선택\n",
        "df.swaplevel().loc['Lunch']"
      ],
      "execution_count": 25,
      "outputs": [
        {
          "output_type": "execute_result",
          "data": {
            "text/html": [
              "<div>\n",
              "<style scoped>\n",
              "    .dataframe tbody tr th:only-of-type {\n",
              "        vertical-align: middle;\n",
              "    }\n",
              "\n",
              "    .dataframe tbody tr th {\n",
              "        vertical-align: top;\n",
              "    }\n",
              "\n",
              "    .dataframe thead th {\n",
              "        text-align: right;\n",
              "    }\n",
              "</style>\n",
              "<table border=\"1\" class=\"dataframe\">\n",
              "  <thead>\n",
              "    <tr style=\"text-align: right;\">\n",
              "      <th></th>\n",
              "      <th>a</th>\n",
              "      <th>b</th>\n",
              "      <th>c</th>\n",
              "    </tr>\n",
              "  </thead>\n",
              "  <tbody>\n",
              "    <tr>\n",
              "      <th>Fri</th>\n",
              "      <td>-0.590384</td>\n",
              "      <td>1.090389</td>\n",
              "      <td>-0.175586</td>\n",
              "    </tr>\n",
              "    <tr>\n",
              "      <th>Sat</th>\n",
              "      <td>0.126552</td>\n",
              "      <td>-1.015755</td>\n",
              "      <td>-0.719130</td>\n",
              "    </tr>\n",
              "    <tr>\n",
              "      <th>Sun</th>\n",
              "      <td>-0.272735</td>\n",
              "      <td>0.098712</td>\n",
              "      <td>-1.498233</td>\n",
              "    </tr>\n",
              "  </tbody>\n",
              "</table>\n",
              "</div>"
            ],
            "text/plain": [
              "            a         b         c\n",
              "Fri -0.590384  1.090389 -0.175586\n",
              "Sat  0.126552 -1.015755 -0.719130\n",
              "Sun -0.272735  0.098712 -1.498233"
            ]
          },
          "metadata": {
            "tags": []
          },
          "execution_count": 25
        }
      ]
    },
    {
      "cell_type": "markdown",
      "metadata": {
        "id": "cYeOLg8Ulo59"
      },
      "source": [
        "# DataFrame column <--> row index\n",
        "\n",
        "* pd.DataFrame.set_index\n",
        "  * DataFrame의 컬럼(들)을 row index로 변환한 DataFrame을 리턴.\n",
        "* pd.DataFrame.reset_index\n",
        "  * DataFrame의 row index(들)을 컬럼으로 변환한 DataFrame을 리턴."
      ]
    },
    {
      "cell_type": "code",
      "metadata": {
        "colab": {
          "base_uri": "https://localhost:8080/",
          "height": 237
        },
        "id": "iyotfXWaWUu_",
        "outputId": "30b08ebe-fe94-4368-8ca2-b8a29fa8b395"
      },
      "source": [
        "df"
      ],
      "execution_count": 26,
      "outputs": [
        {
          "output_type": "execute_result",
          "data": {
            "text/html": [
              "<div>\n",
              "<style scoped>\n",
              "    .dataframe tbody tr th:only-of-type {\n",
              "        vertical-align: middle;\n",
              "    }\n",
              "\n",
              "    .dataframe tbody tr th {\n",
              "        vertical-align: top;\n",
              "    }\n",
              "\n",
              "    .dataframe thead th {\n",
              "        text-align: right;\n",
              "    }\n",
              "</style>\n",
              "<table border=\"1\" class=\"dataframe\">\n",
              "  <thead>\n",
              "    <tr style=\"text-align: right;\">\n",
              "      <th></th>\n",
              "      <th></th>\n",
              "      <th>a</th>\n",
              "      <th>b</th>\n",
              "      <th>c</th>\n",
              "    </tr>\n",
              "  </thead>\n",
              "  <tbody>\n",
              "    <tr>\n",
              "      <th rowspan=\"2\" valign=\"top\">Fri</th>\n",
              "      <th>Lunch</th>\n",
              "      <td>-0.590384</td>\n",
              "      <td>1.090389</td>\n",
              "      <td>-0.175586</td>\n",
              "    </tr>\n",
              "    <tr>\n",
              "      <th>Dinner</th>\n",
              "      <td>1.013418</td>\n",
              "      <td>0.001523</td>\n",
              "      <td>-0.895698</td>\n",
              "    </tr>\n",
              "    <tr>\n",
              "      <th rowspan=\"2\" valign=\"top\">Sat</th>\n",
              "      <th>Lunch</th>\n",
              "      <td>0.126552</td>\n",
              "      <td>-1.015755</td>\n",
              "      <td>-0.719130</td>\n",
              "    </tr>\n",
              "    <tr>\n",
              "      <th>Dinner</th>\n",
              "      <td>-0.073930</td>\n",
              "      <td>0.740643</td>\n",
              "      <td>0.290385</td>\n",
              "    </tr>\n",
              "    <tr>\n",
              "      <th rowspan=\"2\" valign=\"top\">Sun</th>\n",
              "      <th>Lunch</th>\n",
              "      <td>-0.272735</td>\n",
              "      <td>0.098712</td>\n",
              "      <td>-1.498233</td>\n",
              "    </tr>\n",
              "    <tr>\n",
              "      <th>Dinner</th>\n",
              "      <td>1.872857</td>\n",
              "      <td>-0.731246</td>\n",
              "      <td>-1.927990</td>\n",
              "    </tr>\n",
              "  </tbody>\n",
              "</table>\n",
              "</div>"
            ],
            "text/plain": [
              "                   a         b         c\n",
              "Fri Lunch  -0.590384  1.090389 -0.175586\n",
              "    Dinner  1.013418  0.001523 -0.895698\n",
              "Sat Lunch   0.126552 -1.015755 -0.719130\n",
              "    Dinner -0.073930  0.740643  0.290385\n",
              "Sun Lunch  -0.272735  0.098712 -1.498233\n",
              "    Dinner  1.872857 -0.731246 -1.927990"
            ]
          },
          "metadata": {
            "tags": []
          },
          "execution_count": 26
        }
      ]
    },
    {
      "cell_type": "code",
      "metadata": {
        "colab": {
          "base_uri": "https://localhost:8080/",
          "height": 237
        },
        "id": "fqKRVEYkl2nz",
        "outputId": "5f8f3d62-07a8-4b93-f34a-08b955598351"
      },
      "source": [
        "df.reset_index()\n",
        "# level=None 생략 가능(default argument):모든 레벨의 인덱스를 모두 컬럼으로 변환 "
      ],
      "execution_count": 27,
      "outputs": [
        {
          "output_type": "execute_result",
          "data": {
            "text/html": [
              "<div>\n",
              "<style scoped>\n",
              "    .dataframe tbody tr th:only-of-type {\n",
              "        vertical-align: middle;\n",
              "    }\n",
              "\n",
              "    .dataframe tbody tr th {\n",
              "        vertical-align: top;\n",
              "    }\n",
              "\n",
              "    .dataframe thead th {\n",
              "        text-align: right;\n",
              "    }\n",
              "</style>\n",
              "<table border=\"1\" class=\"dataframe\">\n",
              "  <thead>\n",
              "    <tr style=\"text-align: right;\">\n",
              "      <th></th>\n",
              "      <th>level_0</th>\n",
              "      <th>level_1</th>\n",
              "      <th>a</th>\n",
              "      <th>b</th>\n",
              "      <th>c</th>\n",
              "    </tr>\n",
              "  </thead>\n",
              "  <tbody>\n",
              "    <tr>\n",
              "      <th>0</th>\n",
              "      <td>Fri</td>\n",
              "      <td>Lunch</td>\n",
              "      <td>-0.590384</td>\n",
              "      <td>1.090389</td>\n",
              "      <td>-0.175586</td>\n",
              "    </tr>\n",
              "    <tr>\n",
              "      <th>1</th>\n",
              "      <td>Fri</td>\n",
              "      <td>Dinner</td>\n",
              "      <td>1.013418</td>\n",
              "      <td>0.001523</td>\n",
              "      <td>-0.895698</td>\n",
              "    </tr>\n",
              "    <tr>\n",
              "      <th>2</th>\n",
              "      <td>Sat</td>\n",
              "      <td>Lunch</td>\n",
              "      <td>0.126552</td>\n",
              "      <td>-1.015755</td>\n",
              "      <td>-0.719130</td>\n",
              "    </tr>\n",
              "    <tr>\n",
              "      <th>3</th>\n",
              "      <td>Sat</td>\n",
              "      <td>Dinner</td>\n",
              "      <td>-0.073930</td>\n",
              "      <td>0.740643</td>\n",
              "      <td>0.290385</td>\n",
              "    </tr>\n",
              "    <tr>\n",
              "      <th>4</th>\n",
              "      <td>Sun</td>\n",
              "      <td>Lunch</td>\n",
              "      <td>-0.272735</td>\n",
              "      <td>0.098712</td>\n",
              "      <td>-1.498233</td>\n",
              "    </tr>\n",
              "    <tr>\n",
              "      <th>5</th>\n",
              "      <td>Sun</td>\n",
              "      <td>Dinner</td>\n",
              "      <td>1.872857</td>\n",
              "      <td>-0.731246</td>\n",
              "      <td>-1.927990</td>\n",
              "    </tr>\n",
              "  </tbody>\n",
              "</table>\n",
              "</div>"
            ],
            "text/plain": [
              "  level_0 level_1         a         b         c\n",
              "0     Fri   Lunch -0.590384  1.090389 -0.175586\n",
              "1     Fri  Dinner  1.013418  0.001523 -0.895698\n",
              "2     Sat   Lunch  0.126552 -1.015755 -0.719130\n",
              "3     Sat  Dinner -0.073930  0.740643  0.290385\n",
              "4     Sun   Lunch -0.272735  0.098712 -1.498233\n",
              "5     Sun  Dinner  1.872857 -0.731246 -1.927990"
            ]
          },
          "metadata": {
            "tags": []
          },
          "execution_count": 27
        }
      ]
    },
    {
      "cell_type": "code",
      "metadata": {
        "colab": {
          "base_uri": "https://localhost:8080/",
          "height": 237
        },
        "id": "7ocU7dtFa9T4",
        "outputId": "f3aaa76d-313b-4dfb-975c-9582e1696a2f"
      },
      "source": [
        "df.reset_index(level=1) # 레벨 1의 인덱스만 컬럼으로 변환 "
      ],
      "execution_count": 29,
      "outputs": [
        {
          "output_type": "execute_result",
          "data": {
            "text/html": [
              "<div>\n",
              "<style scoped>\n",
              "    .dataframe tbody tr th:only-of-type {\n",
              "        vertical-align: middle;\n",
              "    }\n",
              "\n",
              "    .dataframe tbody tr th {\n",
              "        vertical-align: top;\n",
              "    }\n",
              "\n",
              "    .dataframe thead th {\n",
              "        text-align: right;\n",
              "    }\n",
              "</style>\n",
              "<table border=\"1\" class=\"dataframe\">\n",
              "  <thead>\n",
              "    <tr style=\"text-align: right;\">\n",
              "      <th></th>\n",
              "      <th>level_1</th>\n",
              "      <th>a</th>\n",
              "      <th>b</th>\n",
              "      <th>c</th>\n",
              "    </tr>\n",
              "  </thead>\n",
              "  <tbody>\n",
              "    <tr>\n",
              "      <th>Fri</th>\n",
              "      <td>Lunch</td>\n",
              "      <td>-0.590384</td>\n",
              "      <td>1.090389</td>\n",
              "      <td>-0.175586</td>\n",
              "    </tr>\n",
              "    <tr>\n",
              "      <th>Fri</th>\n",
              "      <td>Dinner</td>\n",
              "      <td>1.013418</td>\n",
              "      <td>0.001523</td>\n",
              "      <td>-0.895698</td>\n",
              "    </tr>\n",
              "    <tr>\n",
              "      <th>Sat</th>\n",
              "      <td>Lunch</td>\n",
              "      <td>0.126552</td>\n",
              "      <td>-1.015755</td>\n",
              "      <td>-0.719130</td>\n",
              "    </tr>\n",
              "    <tr>\n",
              "      <th>Sat</th>\n",
              "      <td>Dinner</td>\n",
              "      <td>-0.073930</td>\n",
              "      <td>0.740643</td>\n",
              "      <td>0.290385</td>\n",
              "    </tr>\n",
              "    <tr>\n",
              "      <th>Sun</th>\n",
              "      <td>Lunch</td>\n",
              "      <td>-0.272735</td>\n",
              "      <td>0.098712</td>\n",
              "      <td>-1.498233</td>\n",
              "    </tr>\n",
              "    <tr>\n",
              "      <th>Sun</th>\n",
              "      <td>Dinner</td>\n",
              "      <td>1.872857</td>\n",
              "      <td>-0.731246</td>\n",
              "      <td>-1.927990</td>\n",
              "    </tr>\n",
              "  </tbody>\n",
              "</table>\n",
              "</div>"
            ],
            "text/plain": [
              "    level_1         a         b         c\n",
              "Fri   Lunch -0.590384  1.090389 -0.175586\n",
              "Fri  Dinner  1.013418  0.001523 -0.895698\n",
              "Sat   Lunch  0.126552 -1.015755 -0.719130\n",
              "Sat  Dinner -0.073930  0.740643  0.290385\n",
              "Sun   Lunch -0.272735  0.098712 -1.498233\n",
              "Sun  Dinner  1.872857 -0.731246 -1.927990"
            ]
          },
          "metadata": {
            "tags": []
          },
          "execution_count": 29
        }
      ]
    },
    {
      "cell_type": "code",
      "metadata": {
        "colab": {
          "base_uri": "https://localhost:8080/",
          "height": 237
        },
        "id": "-DWPl5S8bS0b",
        "outputId": "c5776dab-8b1c-4838-a403-af96ef566b84"
      },
      "source": [
        "df.reset_index(level=0)"
      ],
      "execution_count": 32,
      "outputs": [
        {
          "output_type": "execute_result",
          "data": {
            "text/html": [
              "<div>\n",
              "<style scoped>\n",
              "    .dataframe tbody tr th:only-of-type {\n",
              "        vertical-align: middle;\n",
              "    }\n",
              "\n",
              "    .dataframe tbody tr th {\n",
              "        vertical-align: top;\n",
              "    }\n",
              "\n",
              "    .dataframe thead th {\n",
              "        text-align: right;\n",
              "    }\n",
              "</style>\n",
              "<table border=\"1\" class=\"dataframe\">\n",
              "  <thead>\n",
              "    <tr style=\"text-align: right;\">\n",
              "      <th></th>\n",
              "      <th>level_0</th>\n",
              "      <th>a</th>\n",
              "      <th>b</th>\n",
              "      <th>c</th>\n",
              "    </tr>\n",
              "  </thead>\n",
              "  <tbody>\n",
              "    <tr>\n",
              "      <th>Lunch</th>\n",
              "      <td>Fri</td>\n",
              "      <td>-0.590384</td>\n",
              "      <td>1.090389</td>\n",
              "      <td>-0.175586</td>\n",
              "    </tr>\n",
              "    <tr>\n",
              "      <th>Dinner</th>\n",
              "      <td>Fri</td>\n",
              "      <td>1.013418</td>\n",
              "      <td>0.001523</td>\n",
              "      <td>-0.895698</td>\n",
              "    </tr>\n",
              "    <tr>\n",
              "      <th>Lunch</th>\n",
              "      <td>Sat</td>\n",
              "      <td>0.126552</td>\n",
              "      <td>-1.015755</td>\n",
              "      <td>-0.719130</td>\n",
              "    </tr>\n",
              "    <tr>\n",
              "      <th>Dinner</th>\n",
              "      <td>Sat</td>\n",
              "      <td>-0.073930</td>\n",
              "      <td>0.740643</td>\n",
              "      <td>0.290385</td>\n",
              "    </tr>\n",
              "    <tr>\n",
              "      <th>Lunch</th>\n",
              "      <td>Sun</td>\n",
              "      <td>-0.272735</td>\n",
              "      <td>0.098712</td>\n",
              "      <td>-1.498233</td>\n",
              "    </tr>\n",
              "    <tr>\n",
              "      <th>Dinner</th>\n",
              "      <td>Sun</td>\n",
              "      <td>1.872857</td>\n",
              "      <td>-0.731246</td>\n",
              "      <td>-1.927990</td>\n",
              "    </tr>\n",
              "  </tbody>\n",
              "</table>\n",
              "</div>"
            ],
            "text/plain": [
              "       level_0         a         b         c\n",
              "Lunch      Fri -0.590384  1.090389 -0.175586\n",
              "Dinner     Fri  1.013418  0.001523 -0.895698\n",
              "Lunch      Sat  0.126552 -1.015755 -0.719130\n",
              "Dinner     Sat -0.073930  0.740643  0.290385\n",
              "Lunch      Sun -0.272735  0.098712 -1.498233\n",
              "Dinner     Sun  1.872857 -0.731246 -1.927990"
            ]
          },
          "metadata": {
            "tags": []
          },
          "execution_count": 32
        }
      ]
    },
    {
      "cell_type": "code",
      "metadata": {
        "colab": {
          "base_uri": "https://localhost:8080/",
          "height": 362
        },
        "id": "fftfllOlcGbV",
        "outputId": "7e87c31d-48bd-47fa-ed52-24c9598b6e68"
      },
      "source": [
        "exam=pd.DataFrame({'class': [1]*5+[2]*5,\n",
        "                  'id':np.arange(1,11),\n",
        "                  'math':np.random.randint(0,101,size=10),\n",
        "                  'science':np.random.randint(0,101,size=10),\n",
        "                  'history':np.random.randint(0,101,size=10)})\n",
        "\n",
        "exam"
      ],
      "execution_count": 34,
      "outputs": [
        {
          "output_type": "execute_result",
          "data": {
            "text/html": [
              "<div>\n",
              "<style scoped>\n",
              "    .dataframe tbody tr th:only-of-type {\n",
              "        vertical-align: middle;\n",
              "    }\n",
              "\n",
              "    .dataframe tbody tr th {\n",
              "        vertical-align: top;\n",
              "    }\n",
              "\n",
              "    .dataframe thead th {\n",
              "        text-align: right;\n",
              "    }\n",
              "</style>\n",
              "<table border=\"1\" class=\"dataframe\">\n",
              "  <thead>\n",
              "    <tr style=\"text-align: right;\">\n",
              "      <th></th>\n",
              "      <th>class</th>\n",
              "      <th>id</th>\n",
              "      <th>math</th>\n",
              "      <th>science</th>\n",
              "      <th>history</th>\n",
              "    </tr>\n",
              "  </thead>\n",
              "  <tbody>\n",
              "    <tr>\n",
              "      <th>0</th>\n",
              "      <td>1</td>\n",
              "      <td>1</td>\n",
              "      <td>45</td>\n",
              "      <td>30</td>\n",
              "      <td>42</td>\n",
              "    </tr>\n",
              "    <tr>\n",
              "      <th>1</th>\n",
              "      <td>1</td>\n",
              "      <td>2</td>\n",
              "      <td>64</td>\n",
              "      <td>100</td>\n",
              "      <td>45</td>\n",
              "    </tr>\n",
              "    <tr>\n",
              "      <th>2</th>\n",
              "      <td>1</td>\n",
              "      <td>3</td>\n",
              "      <td>70</td>\n",
              "      <td>83</td>\n",
              "      <td>32</td>\n",
              "    </tr>\n",
              "    <tr>\n",
              "      <th>3</th>\n",
              "      <td>1</td>\n",
              "      <td>4</td>\n",
              "      <td>24</td>\n",
              "      <td>91</td>\n",
              "      <td>51</td>\n",
              "    </tr>\n",
              "    <tr>\n",
              "      <th>4</th>\n",
              "      <td>1</td>\n",
              "      <td>5</td>\n",
              "      <td>23</td>\n",
              "      <td>89</td>\n",
              "      <td>33</td>\n",
              "    </tr>\n",
              "    <tr>\n",
              "      <th>5</th>\n",
              "      <td>2</td>\n",
              "      <td>6</td>\n",
              "      <td>17</td>\n",
              "      <td>6</td>\n",
              "      <td>25</td>\n",
              "    </tr>\n",
              "    <tr>\n",
              "      <th>6</th>\n",
              "      <td>2</td>\n",
              "      <td>7</td>\n",
              "      <td>57</td>\n",
              "      <td>95</td>\n",
              "      <td>97</td>\n",
              "    </tr>\n",
              "    <tr>\n",
              "      <th>7</th>\n",
              "      <td>2</td>\n",
              "      <td>8</td>\n",
              "      <td>68</td>\n",
              "      <td>5</td>\n",
              "      <td>15</td>\n",
              "    </tr>\n",
              "    <tr>\n",
              "      <th>8</th>\n",
              "      <td>2</td>\n",
              "      <td>9</td>\n",
              "      <td>5</td>\n",
              "      <td>24</td>\n",
              "      <td>30</td>\n",
              "    </tr>\n",
              "    <tr>\n",
              "      <th>9</th>\n",
              "      <td>2</td>\n",
              "      <td>10</td>\n",
              "      <td>57</td>\n",
              "      <td>26</td>\n",
              "      <td>51</td>\n",
              "    </tr>\n",
              "  </tbody>\n",
              "</table>\n",
              "</div>"
            ],
            "text/plain": [
              "   class  id  math  science  history\n",
              "0      1   1    45       30       42\n",
              "1      1   2    64      100       45\n",
              "2      1   3    70       83       32\n",
              "3      1   4    24       91       51\n",
              "4      1   5    23       89       33\n",
              "5      2   6    17        6       25\n",
              "6      2   7    57       95       97\n",
              "7      2   8    68        5       15\n",
              "8      2   9     5       24       30\n",
              "9      2  10    57       26       51"
            ]
          },
          "metadata": {
            "tags": []
          },
          "execution_count": 34
        }
      ]
    },
    {
      "cell_type": "code",
      "metadata": {
        "id": "QkNd8CNrcu9S"
      },
      "source": [
        "df_1=exam.set_index(keys='class')"
      ],
      "execution_count": 38,
      "outputs": []
    },
    {
      "cell_type": "code",
      "metadata": {
        "colab": {
          "base_uri": "https://localhost:8080/",
          "height": 393
        },
        "id": "6nxC6RS7dLdz",
        "outputId": "6e41444e-f1e7-4bab-f641-a9c308672346"
      },
      "source": [
        "df_1"
      ],
      "execution_count": 37,
      "outputs": [
        {
          "output_type": "execute_result",
          "data": {
            "text/html": [
              "<div>\n",
              "<style scoped>\n",
              "    .dataframe tbody tr th:only-of-type {\n",
              "        vertical-align: middle;\n",
              "    }\n",
              "\n",
              "    .dataframe tbody tr th {\n",
              "        vertical-align: top;\n",
              "    }\n",
              "\n",
              "    .dataframe thead th {\n",
              "        text-align: right;\n",
              "    }\n",
              "</style>\n",
              "<table border=\"1\" class=\"dataframe\">\n",
              "  <thead>\n",
              "    <tr style=\"text-align: right;\">\n",
              "      <th></th>\n",
              "      <th>id</th>\n",
              "      <th>math</th>\n",
              "      <th>science</th>\n",
              "      <th>history</th>\n",
              "    </tr>\n",
              "    <tr>\n",
              "      <th>class</th>\n",
              "      <th></th>\n",
              "      <th></th>\n",
              "      <th></th>\n",
              "      <th></th>\n",
              "    </tr>\n",
              "  </thead>\n",
              "  <tbody>\n",
              "    <tr>\n",
              "      <th>1</th>\n",
              "      <td>1</td>\n",
              "      <td>45</td>\n",
              "      <td>30</td>\n",
              "      <td>42</td>\n",
              "    </tr>\n",
              "    <tr>\n",
              "      <th>1</th>\n",
              "      <td>2</td>\n",
              "      <td>64</td>\n",
              "      <td>100</td>\n",
              "      <td>45</td>\n",
              "    </tr>\n",
              "    <tr>\n",
              "      <th>1</th>\n",
              "      <td>3</td>\n",
              "      <td>70</td>\n",
              "      <td>83</td>\n",
              "      <td>32</td>\n",
              "    </tr>\n",
              "    <tr>\n",
              "      <th>1</th>\n",
              "      <td>4</td>\n",
              "      <td>24</td>\n",
              "      <td>91</td>\n",
              "      <td>51</td>\n",
              "    </tr>\n",
              "    <tr>\n",
              "      <th>1</th>\n",
              "      <td>5</td>\n",
              "      <td>23</td>\n",
              "      <td>89</td>\n",
              "      <td>33</td>\n",
              "    </tr>\n",
              "    <tr>\n",
              "      <th>2</th>\n",
              "      <td>6</td>\n",
              "      <td>17</td>\n",
              "      <td>6</td>\n",
              "      <td>25</td>\n",
              "    </tr>\n",
              "    <tr>\n",
              "      <th>2</th>\n",
              "      <td>7</td>\n",
              "      <td>57</td>\n",
              "      <td>95</td>\n",
              "      <td>97</td>\n",
              "    </tr>\n",
              "    <tr>\n",
              "      <th>2</th>\n",
              "      <td>8</td>\n",
              "      <td>68</td>\n",
              "      <td>5</td>\n",
              "      <td>15</td>\n",
              "    </tr>\n",
              "    <tr>\n",
              "      <th>2</th>\n",
              "      <td>9</td>\n",
              "      <td>5</td>\n",
              "      <td>24</td>\n",
              "      <td>30</td>\n",
              "    </tr>\n",
              "    <tr>\n",
              "      <th>2</th>\n",
              "      <td>10</td>\n",
              "      <td>57</td>\n",
              "      <td>26</td>\n",
              "      <td>51</td>\n",
              "    </tr>\n",
              "  </tbody>\n",
              "</table>\n",
              "</div>"
            ],
            "text/plain": [
              "       id  math  science  history\n",
              "class                            \n",
              "1       1    45       30       42\n",
              "1       2    64      100       45\n",
              "1       3    70       83       32\n",
              "1       4    24       91       51\n",
              "1       5    23       89       33\n",
              "2       6    17        6       25\n",
              "2       7    57       95       97\n",
              "2       8    68        5       15\n",
              "2       9     5       24       30\n",
              "2      10    57       26       51"
            ]
          },
          "metadata": {
            "tags": []
          },
          "execution_count": 37
        }
      ]
    },
    {
      "cell_type": "code",
      "metadata": {
        "colab": {
          "base_uri": "https://localhost:8080/",
          "height": 362
        },
        "id": "SXSTp3EYds85",
        "outputId": "6f4ba276-c1d7-4ff3-dd7a-4cd6fa1f97f7"
      },
      "source": [
        "df_1.reset_index()"
      ],
      "execution_count": 39,
      "outputs": [
        {
          "output_type": "execute_result",
          "data": {
            "text/html": [
              "<div>\n",
              "<style scoped>\n",
              "    .dataframe tbody tr th:only-of-type {\n",
              "        vertical-align: middle;\n",
              "    }\n",
              "\n",
              "    .dataframe tbody tr th {\n",
              "        vertical-align: top;\n",
              "    }\n",
              "\n",
              "    .dataframe thead th {\n",
              "        text-align: right;\n",
              "    }\n",
              "</style>\n",
              "<table border=\"1\" class=\"dataframe\">\n",
              "  <thead>\n",
              "    <tr style=\"text-align: right;\">\n",
              "      <th></th>\n",
              "      <th>class</th>\n",
              "      <th>id</th>\n",
              "      <th>math</th>\n",
              "      <th>science</th>\n",
              "      <th>history</th>\n",
              "    </tr>\n",
              "  </thead>\n",
              "  <tbody>\n",
              "    <tr>\n",
              "      <th>0</th>\n",
              "      <td>1</td>\n",
              "      <td>1</td>\n",
              "      <td>45</td>\n",
              "      <td>30</td>\n",
              "      <td>42</td>\n",
              "    </tr>\n",
              "    <tr>\n",
              "      <th>1</th>\n",
              "      <td>1</td>\n",
              "      <td>2</td>\n",
              "      <td>64</td>\n",
              "      <td>100</td>\n",
              "      <td>45</td>\n",
              "    </tr>\n",
              "    <tr>\n",
              "      <th>2</th>\n",
              "      <td>1</td>\n",
              "      <td>3</td>\n",
              "      <td>70</td>\n",
              "      <td>83</td>\n",
              "      <td>32</td>\n",
              "    </tr>\n",
              "    <tr>\n",
              "      <th>3</th>\n",
              "      <td>1</td>\n",
              "      <td>4</td>\n",
              "      <td>24</td>\n",
              "      <td>91</td>\n",
              "      <td>51</td>\n",
              "    </tr>\n",
              "    <tr>\n",
              "      <th>4</th>\n",
              "      <td>1</td>\n",
              "      <td>5</td>\n",
              "      <td>23</td>\n",
              "      <td>89</td>\n",
              "      <td>33</td>\n",
              "    </tr>\n",
              "    <tr>\n",
              "      <th>5</th>\n",
              "      <td>2</td>\n",
              "      <td>6</td>\n",
              "      <td>17</td>\n",
              "      <td>6</td>\n",
              "      <td>25</td>\n",
              "    </tr>\n",
              "    <tr>\n",
              "      <th>6</th>\n",
              "      <td>2</td>\n",
              "      <td>7</td>\n",
              "      <td>57</td>\n",
              "      <td>95</td>\n",
              "      <td>97</td>\n",
              "    </tr>\n",
              "    <tr>\n",
              "      <th>7</th>\n",
              "      <td>2</td>\n",
              "      <td>8</td>\n",
              "      <td>68</td>\n",
              "      <td>5</td>\n",
              "      <td>15</td>\n",
              "    </tr>\n",
              "    <tr>\n",
              "      <th>8</th>\n",
              "      <td>2</td>\n",
              "      <td>9</td>\n",
              "      <td>5</td>\n",
              "      <td>24</td>\n",
              "      <td>30</td>\n",
              "    </tr>\n",
              "    <tr>\n",
              "      <th>9</th>\n",
              "      <td>2</td>\n",
              "      <td>10</td>\n",
              "      <td>57</td>\n",
              "      <td>26</td>\n",
              "      <td>51</td>\n",
              "    </tr>\n",
              "  </tbody>\n",
              "</table>\n",
              "</div>"
            ],
            "text/plain": [
              "   class  id  math  science  history\n",
              "0      1   1    45       30       42\n",
              "1      1   2    64      100       45\n",
              "2      1   3    70       83       32\n",
              "3      1   4    24       91       51\n",
              "4      1   5    23       89       33\n",
              "5      2   6    17        6       25\n",
              "6      2   7    57       95       97\n",
              "7      2   8    68        5       15\n",
              "8      2   9     5       24       30\n",
              "9      2  10    57       26       51"
            ]
          },
          "metadata": {
            "tags": []
          },
          "execution_count": 39
        }
      ]
    },
    {
      "cell_type": "code",
      "metadata": {
        "colab": {
          "base_uri": "https://localhost:8080/",
          "height": 205
        },
        "id": "UMeFSFpweFz0",
        "outputId": "06b7726f-7c56-45e3-ebb6-e5e8c90d730a"
      },
      "source": [
        "exam[exam['class']==1] # boolean indexing"
      ],
      "execution_count": 40,
      "outputs": [
        {
          "output_type": "execute_result",
          "data": {
            "text/html": [
              "<div>\n",
              "<style scoped>\n",
              "    .dataframe tbody tr th:only-of-type {\n",
              "        vertical-align: middle;\n",
              "    }\n",
              "\n",
              "    .dataframe tbody tr th {\n",
              "        vertical-align: top;\n",
              "    }\n",
              "\n",
              "    .dataframe thead th {\n",
              "        text-align: right;\n",
              "    }\n",
              "</style>\n",
              "<table border=\"1\" class=\"dataframe\">\n",
              "  <thead>\n",
              "    <tr style=\"text-align: right;\">\n",
              "      <th></th>\n",
              "      <th>class</th>\n",
              "      <th>id</th>\n",
              "      <th>math</th>\n",
              "      <th>science</th>\n",
              "      <th>history</th>\n",
              "    </tr>\n",
              "  </thead>\n",
              "  <tbody>\n",
              "    <tr>\n",
              "      <th>0</th>\n",
              "      <td>1</td>\n",
              "      <td>1</td>\n",
              "      <td>45</td>\n",
              "      <td>30</td>\n",
              "      <td>42</td>\n",
              "    </tr>\n",
              "    <tr>\n",
              "      <th>1</th>\n",
              "      <td>1</td>\n",
              "      <td>2</td>\n",
              "      <td>64</td>\n",
              "      <td>100</td>\n",
              "      <td>45</td>\n",
              "    </tr>\n",
              "    <tr>\n",
              "      <th>2</th>\n",
              "      <td>1</td>\n",
              "      <td>3</td>\n",
              "      <td>70</td>\n",
              "      <td>83</td>\n",
              "      <td>32</td>\n",
              "    </tr>\n",
              "    <tr>\n",
              "      <th>3</th>\n",
              "      <td>1</td>\n",
              "      <td>4</td>\n",
              "      <td>24</td>\n",
              "      <td>91</td>\n",
              "      <td>51</td>\n",
              "    </tr>\n",
              "    <tr>\n",
              "      <th>4</th>\n",
              "      <td>1</td>\n",
              "      <td>5</td>\n",
              "      <td>23</td>\n",
              "      <td>89</td>\n",
              "      <td>33</td>\n",
              "    </tr>\n",
              "  </tbody>\n",
              "</table>\n",
              "</div>"
            ],
            "text/plain": [
              "   class  id  math  science  history\n",
              "0      1   1    45       30       42\n",
              "1      1   2    64      100       45\n",
              "2      1   3    70       83       32\n",
              "3      1   4    24       91       51\n",
              "4      1   5    23       89       33"
            ]
          },
          "metadata": {
            "tags": []
          },
          "execution_count": 40
        }
      ]
    },
    {
      "cell_type": "code",
      "metadata": {
        "colab": {
          "base_uri": "https://localhost:8080/",
          "height": 237
        },
        "id": "kCgW_LD0eLI7",
        "outputId": "7c70c5a2-0699-47fc-b81e-77ac8b669836"
      },
      "source": [
        "df_1.loc[1] # loc 속성을 사용한 참조 "
      ],
      "execution_count": 42,
      "outputs": [
        {
          "output_type": "execute_result",
          "data": {
            "text/html": [
              "<div>\n",
              "<style scoped>\n",
              "    .dataframe tbody tr th:only-of-type {\n",
              "        vertical-align: middle;\n",
              "    }\n",
              "\n",
              "    .dataframe tbody tr th {\n",
              "        vertical-align: top;\n",
              "    }\n",
              "\n",
              "    .dataframe thead th {\n",
              "        text-align: right;\n",
              "    }\n",
              "</style>\n",
              "<table border=\"1\" class=\"dataframe\">\n",
              "  <thead>\n",
              "    <tr style=\"text-align: right;\">\n",
              "      <th></th>\n",
              "      <th>id</th>\n",
              "      <th>math</th>\n",
              "      <th>science</th>\n",
              "      <th>history</th>\n",
              "    </tr>\n",
              "    <tr>\n",
              "      <th>class</th>\n",
              "      <th></th>\n",
              "      <th></th>\n",
              "      <th></th>\n",
              "      <th></th>\n",
              "    </tr>\n",
              "  </thead>\n",
              "  <tbody>\n",
              "    <tr>\n",
              "      <th>1</th>\n",
              "      <td>1</td>\n",
              "      <td>45</td>\n",
              "      <td>30</td>\n",
              "      <td>42</td>\n",
              "    </tr>\n",
              "    <tr>\n",
              "      <th>1</th>\n",
              "      <td>2</td>\n",
              "      <td>64</td>\n",
              "      <td>100</td>\n",
              "      <td>45</td>\n",
              "    </tr>\n",
              "    <tr>\n",
              "      <th>1</th>\n",
              "      <td>3</td>\n",
              "      <td>70</td>\n",
              "      <td>83</td>\n",
              "      <td>32</td>\n",
              "    </tr>\n",
              "    <tr>\n",
              "      <th>1</th>\n",
              "      <td>4</td>\n",
              "      <td>24</td>\n",
              "      <td>91</td>\n",
              "      <td>51</td>\n",
              "    </tr>\n",
              "    <tr>\n",
              "      <th>1</th>\n",
              "      <td>5</td>\n",
              "      <td>23</td>\n",
              "      <td>89</td>\n",
              "      <td>33</td>\n",
              "    </tr>\n",
              "  </tbody>\n",
              "</table>\n",
              "</div>"
            ],
            "text/plain": [
              "       id  math  science  history\n",
              "class                            \n",
              "1       1    45       30       42\n",
              "1       2    64      100       45\n",
              "1       3    70       83       32\n",
              "1       4    24       91       51\n",
              "1       5    23       89       33"
            ]
          },
          "metadata": {
            "tags": []
          },
          "execution_count": 42
        }
      ]
    },
    {
      "cell_type": "code",
      "metadata": {
        "colab": {
          "base_uri": "https://localhost:8080/",
          "height": 393
        },
        "id": "9Tz6_kGfehh9",
        "outputId": "e3c6b166-8efb-4423-dbda-3301fb9ce130"
      },
      "source": [
        "df2=exam.set_index(keys=['class','id'])\n",
        "df2"
      ],
      "execution_count": 45,
      "outputs": [
        {
          "output_type": "execute_result",
          "data": {
            "text/html": [
              "<div>\n",
              "<style scoped>\n",
              "    .dataframe tbody tr th:only-of-type {\n",
              "        vertical-align: middle;\n",
              "    }\n",
              "\n",
              "    .dataframe tbody tr th {\n",
              "        vertical-align: top;\n",
              "    }\n",
              "\n",
              "    .dataframe thead th {\n",
              "        text-align: right;\n",
              "    }\n",
              "</style>\n",
              "<table border=\"1\" class=\"dataframe\">\n",
              "  <thead>\n",
              "    <tr style=\"text-align: right;\">\n",
              "      <th></th>\n",
              "      <th></th>\n",
              "      <th>math</th>\n",
              "      <th>science</th>\n",
              "      <th>history</th>\n",
              "    </tr>\n",
              "    <tr>\n",
              "      <th>class</th>\n",
              "      <th>id</th>\n",
              "      <th></th>\n",
              "      <th></th>\n",
              "      <th></th>\n",
              "    </tr>\n",
              "  </thead>\n",
              "  <tbody>\n",
              "    <tr>\n",
              "      <th rowspan=\"5\" valign=\"top\">1</th>\n",
              "      <th>1</th>\n",
              "      <td>45</td>\n",
              "      <td>30</td>\n",
              "      <td>42</td>\n",
              "    </tr>\n",
              "    <tr>\n",
              "      <th>2</th>\n",
              "      <td>64</td>\n",
              "      <td>100</td>\n",
              "      <td>45</td>\n",
              "    </tr>\n",
              "    <tr>\n",
              "      <th>3</th>\n",
              "      <td>70</td>\n",
              "      <td>83</td>\n",
              "      <td>32</td>\n",
              "    </tr>\n",
              "    <tr>\n",
              "      <th>4</th>\n",
              "      <td>24</td>\n",
              "      <td>91</td>\n",
              "      <td>51</td>\n",
              "    </tr>\n",
              "    <tr>\n",
              "      <th>5</th>\n",
              "      <td>23</td>\n",
              "      <td>89</td>\n",
              "      <td>33</td>\n",
              "    </tr>\n",
              "    <tr>\n",
              "      <th rowspan=\"5\" valign=\"top\">2</th>\n",
              "      <th>6</th>\n",
              "      <td>17</td>\n",
              "      <td>6</td>\n",
              "      <td>25</td>\n",
              "    </tr>\n",
              "    <tr>\n",
              "      <th>7</th>\n",
              "      <td>57</td>\n",
              "      <td>95</td>\n",
              "      <td>97</td>\n",
              "    </tr>\n",
              "    <tr>\n",
              "      <th>8</th>\n",
              "      <td>68</td>\n",
              "      <td>5</td>\n",
              "      <td>15</td>\n",
              "    </tr>\n",
              "    <tr>\n",
              "      <th>9</th>\n",
              "      <td>5</td>\n",
              "      <td>24</td>\n",
              "      <td>30</td>\n",
              "    </tr>\n",
              "    <tr>\n",
              "      <th>10</th>\n",
              "      <td>57</td>\n",
              "      <td>26</td>\n",
              "      <td>51</td>\n",
              "    </tr>\n",
              "  </tbody>\n",
              "</table>\n",
              "</div>"
            ],
            "text/plain": [
              "          math  science  history\n",
              "class id                        \n",
              "1     1     45       30       42\n",
              "      2     64      100       45\n",
              "      3     70       83       32\n",
              "      4     24       91       51\n",
              "      5     23       89       33\n",
              "2     6     17        6       25\n",
              "      7     57       95       97\n",
              "      8     68        5       15\n",
              "      9      5       24       30\n",
              "      10    57       26       51"
            ]
          },
          "metadata": {
            "tags": []
          },
          "execution_count": 45
        }
      ]
    },
    {
      "cell_type": "code",
      "metadata": {
        "colab": {
          "base_uri": "https://localhost:8080/",
          "height": 393
        },
        "id": "1WtmplqFfBs5",
        "outputId": "cdf14093-c5cd-4669-fa29-9b0559852714"
      },
      "source": [
        "df2.reset_index(level='class')\n",
        "# 인덱스가 이름을 가지고 있는 경우는 인덱스의 이름을 argument로 전달해서 reset_index를 할 수 있음."
      ],
      "execution_count": 46,
      "outputs": [
        {
          "output_type": "execute_result",
          "data": {
            "text/html": [
              "<div>\n",
              "<style scoped>\n",
              "    .dataframe tbody tr th:only-of-type {\n",
              "        vertical-align: middle;\n",
              "    }\n",
              "\n",
              "    .dataframe tbody tr th {\n",
              "        vertical-align: top;\n",
              "    }\n",
              "\n",
              "    .dataframe thead th {\n",
              "        text-align: right;\n",
              "    }\n",
              "</style>\n",
              "<table border=\"1\" class=\"dataframe\">\n",
              "  <thead>\n",
              "    <tr style=\"text-align: right;\">\n",
              "      <th></th>\n",
              "      <th>class</th>\n",
              "      <th>math</th>\n",
              "      <th>science</th>\n",
              "      <th>history</th>\n",
              "    </tr>\n",
              "    <tr>\n",
              "      <th>id</th>\n",
              "      <th></th>\n",
              "      <th></th>\n",
              "      <th></th>\n",
              "      <th></th>\n",
              "    </tr>\n",
              "  </thead>\n",
              "  <tbody>\n",
              "    <tr>\n",
              "      <th>1</th>\n",
              "      <td>1</td>\n",
              "      <td>45</td>\n",
              "      <td>30</td>\n",
              "      <td>42</td>\n",
              "    </tr>\n",
              "    <tr>\n",
              "      <th>2</th>\n",
              "      <td>1</td>\n",
              "      <td>64</td>\n",
              "      <td>100</td>\n",
              "      <td>45</td>\n",
              "    </tr>\n",
              "    <tr>\n",
              "      <th>3</th>\n",
              "      <td>1</td>\n",
              "      <td>70</td>\n",
              "      <td>83</td>\n",
              "      <td>32</td>\n",
              "    </tr>\n",
              "    <tr>\n",
              "      <th>4</th>\n",
              "      <td>1</td>\n",
              "      <td>24</td>\n",
              "      <td>91</td>\n",
              "      <td>51</td>\n",
              "    </tr>\n",
              "    <tr>\n",
              "      <th>5</th>\n",
              "      <td>1</td>\n",
              "      <td>23</td>\n",
              "      <td>89</td>\n",
              "      <td>33</td>\n",
              "    </tr>\n",
              "    <tr>\n",
              "      <th>6</th>\n",
              "      <td>2</td>\n",
              "      <td>17</td>\n",
              "      <td>6</td>\n",
              "      <td>25</td>\n",
              "    </tr>\n",
              "    <tr>\n",
              "      <th>7</th>\n",
              "      <td>2</td>\n",
              "      <td>57</td>\n",
              "      <td>95</td>\n",
              "      <td>97</td>\n",
              "    </tr>\n",
              "    <tr>\n",
              "      <th>8</th>\n",
              "      <td>2</td>\n",
              "      <td>68</td>\n",
              "      <td>5</td>\n",
              "      <td>15</td>\n",
              "    </tr>\n",
              "    <tr>\n",
              "      <th>9</th>\n",
              "      <td>2</td>\n",
              "      <td>5</td>\n",
              "      <td>24</td>\n",
              "      <td>30</td>\n",
              "    </tr>\n",
              "    <tr>\n",
              "      <th>10</th>\n",
              "      <td>2</td>\n",
              "      <td>57</td>\n",
              "      <td>26</td>\n",
              "      <td>51</td>\n",
              "    </tr>\n",
              "  </tbody>\n",
              "</table>\n",
              "</div>"
            ],
            "text/plain": [
              "    class  math  science  history\n",
              "id                               \n",
              "1       1    45       30       42\n",
              "2       1    64      100       45\n",
              "3       1    70       83       32\n",
              "4       1    24       91       51\n",
              "5       1    23       89       33\n",
              "6       2    17        6       25\n",
              "7       2    57       95       97\n",
              "8       2    68        5       15\n",
              "9       2     5       24       30\n",
              "10      2    57       26       51"
            ]
          },
          "metadata": {
            "tags": []
          },
          "execution_count": 46
        }
      ]
    }
  ]
}