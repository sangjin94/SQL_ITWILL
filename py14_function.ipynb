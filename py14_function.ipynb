{
  "nbformat": 4,
  "nbformat_minor": 0,
  "metadata": {
    "colab": {
      "name": "py14_function.ipynb",
      "provenance": [],
      "collapsed_sections": [],
      "authorship_tag": "ABX9TyNT2bRCoHbv65RJGN3BjLpl",
      "include_colab_link": true
    },
    "kernelspec": {
      "name": "python3",
      "display_name": "Python 3"
    },
    "language_info": {
      "name": "python"
    }
  },
  "cells": [
    {
      "cell_type": "markdown",
      "metadata": {
        "id": "view-in-github",
        "colab_type": "text"
      },
      "source": [
        "<a href=\"https://colab.research.google.com/github/sangjin94/SQL_ITWILL/blob/main/py14_function.ipynb\" target=\"_parent\"><img src=\"https://colab.research.google.com/assets/colab-badge.svg\" alt=\"Open In Colab\"/></a>"
      ]
    },
    {
      "cell_type": "markdown",
      "metadata": {
        "id": "69ZvRYPFWxAZ"
      },
      "source": [
        "# 함수(Function)"
      ]
    },
    {
      "cell_type": "markdown",
      "metadata": {
        "id": "vIwdjFOyWz3D"
      },
      "source": [
        "*   **함수(function)** : 기능을 수행하는 코드 블록\n",
        "*   **인수(argument)** : 함수가 기능을 수행하기 위해서 데이터가 필요한 경우, 함수를 호출할 때 함수에게 전달하는 값(들)\n",
        "*  **매개변수(parameter)** : 함수가 호출될 때 전달되는 값들(argument)을 저장하기 위해서 선언하는 변수\n",
        "*  **반환 값(return value)**: 함수가 기능의 수행 결과로 반환하는 값\n",
        "  *  반환 값이 있는 함수도 있고, 반환 값이 없는 함수도 있음."
      ]
    },
    {
      "cell_type": "code",
      "metadata": {
        "colab": {
          "base_uri": "https://localhost:8080/"
        },
        "id": "NAKI1vWfWbCJ",
        "outputId": "4eb751d5-52c6-4821-8c36-f322545e8494"
      },
      "source": [
        "result=len([1,2,3,4,5])\n",
        "print(result)\n",
        "# 함수: len\n",
        "# argument: [1,2,3,4,5] -> parameter에 저장되는 값.\n",
        "# 함수 호출 (call, invoke) : len([1,2,3,4,5])\n",
        "# 반환 값 : 5"
      ],
      "execution_count": 1,
      "outputs": [
        {
          "output_type": "stream",
          "text": [
            "5\n"
          ],
          "name": "stdout"
        }
      ]
    },
    {
      "cell_type": "code",
      "metadata": {
        "colab": {
          "base_uri": "https://localhost:8080/"
        },
        "id": "FuL_Nnwiaw7T",
        "outputId": "da90ffa7-9e1f-43bf-bdf6-8b3060f306ac"
      },
      "source": [
        "result= print('안녕하세요')  #print 함수는 반환값이 없어서 result에 입력이 되지않는다.\n",
        "print(result)   # None = 반환값이 없음.\n",
        "\n",
        "# 함수: print\n",
        "# argument: '안녕하세요'\n",
        "# 함수 호출: print('안녕하세요')\n",
        "# return value: None"
      ],
      "execution_count": 3,
      "outputs": [
        {
          "output_type": "stream",
          "text": [
            "안녕하세요\n",
            "None\n"
          ],
          "name": "stdout"
        }
      ]
    },
    {
      "cell_type": "markdown",
      "metadata": {
        "id": "x2D5kjWbgiDz"
      },
      "source": [
        "# 함수 정의 방법"
      ]
    },
    {
      "cell_type": "markdown",
      "metadata": {
        "id": "OUTVkIPPglJw"
      },
      "source": [
        "\n",
        "```\n",
        "def function_name([param1,...]):\n",
        "    \"\"\" 문서화 주석(documentation comment)-함수에 대한 설명.\"\"\"\n",
        "    함수 기능 작성\n",
        "     [return 반환값]\n",
        "```"
      ]
    },
    {
      "cell_type": "code",
      "metadata": {
        "id": "SdtUMQFpgkfn"
      },
      "source": [
        "# 함수 정의\n",
        "def subtract(x,y):\n",
        "  \"\"\" 숫자 2개 (x,y)를 전달받아서 x - y를 반환하는 함수. \"\"\"\n",
        "  return x - y"
      ],
      "execution_count": 6,
      "outputs": []
    },
    {
      "cell_type": "code",
      "metadata": {
        "colab": {
          "base_uri": "https://localhost:8080/"
        },
        "id": "6p6YGmh3i5uJ",
        "outputId": "a451ba77-df3d-475c-be90-1461e57f8490"
      },
      "source": [
        "# 함수 호출 (call, invoke)\n",
        "# 함수를 호출할 때 parameter를 명시하지않으면, argument는 \"순서대로\" 전달 됨.\n",
        "result= subtract(10,20)\n",
        "print(result)"
      ],
      "execution_count": 10,
      "outputs": [
        {
          "output_type": "stream",
          "text": [
            "-10\n"
          ],
          "name": "stdout"
        }
      ]
    },
    {
      "cell_type": "code",
      "metadata": {
        "id": "jyg9wQ0Li5QY"
      },
      "source": [
        "result= add(1,2)\n",
        "print(result)\n",
        "#> 숫자 2개의 덧셈 결과\n",
        "result = add('1','2')\n",
        "print(result)\n",
        "#> 문자열 2개를 이어주는 기능(concatenate)\n",
        "# parameter는 변수 타입을 검사하지 않음.\n",
        "# add('1',2) >> 두 타입이 다를 0경우 에러발생 "
      ],
      "execution_count": null,
      "outputs": []
    },
    {
      "cell_type": "code",
      "metadata": {
        "id": "07xk3UucpHrF"
      },
      "source": [
        "# 2개 이상의 값을 반환하는 함수 정의\n",
        "def plus_and_minus(x,y):\n",
        "  \"\"\" 2개의 숫자(x,y)를 전달 받아서,\n",
        "  x+y, x-y 를 리턴하는 함수\"\"\"\n",
        "  return x + y,x - y\n"
      ],
      "execution_count": 12,
      "outputs": []
    },
    {
      "cell_type": "code",
      "metadata": {
        "colab": {
          "base_uri": "https://localhost:8080/"
        },
        "id": "1NcQa0HRpjvN",
        "outputId": "0ce96188-8c43-4672-88fe-eb787a3a114a"
      },
      "source": [
        "result= plus_and_minus(1,2)\n",
        "result\n",
        "#> 2개 이상의 값을 리턴하는 함수란 tuple을 리턴하는 함수이다. \n",
        "\n",
        "# tuple decomposition(분해): x,y = (value1,value2)\n",
        "plus,minus = plus_and_minus(1,2)\n",
        "print(plus)\n",
        "print(minus)"
      ],
      "execution_count": 15,
      "outputs": [
        {
          "output_type": "stream",
          "text": [
            "3\n",
            "-1\n"
          ],
          "name": "stdout"
        }
      ]
    }
  ]
}