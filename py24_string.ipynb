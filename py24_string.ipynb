{
  "nbformat": 4,
  "nbformat_minor": 0,
  "metadata": {
    "colab": {
      "name": "py24_string.ipynb",
      "provenance": [],
      "collapsed_sections": [],
      "authorship_tag": "ABX9TyNCe/G2R0kN6pM63lHGZXMT",
      "include_colab_link": true
    },
    "kernelspec": {
      "name": "python3",
      "display_name": "Python 3"
    },
    "language_info": {
      "name": "python"
    }
  },
  "cells": [
    {
      "cell_type": "markdown",
      "metadata": {
        "id": "view-in-github",
        "colab_type": "text"
      },
      "source": [
        "<a href=\"https://colab.research.google.com/github/sangjin94/SQL_ITWILL/blob/main/py24_string.ipynb\" target=\"_parent\"><img src=\"https://colab.research.google.com/assets/colab-badge.svg\" alt=\"Open In Colab\"/></a>"
      ]
    },
    {
      "cell_type": "markdown",
      "metadata": {
        "id": "5UJLdJ4BDoZL"
      },
      "source": [
        "# 문자열 메서드(string methods)"
      ]
    },
    {
      "cell_type": "code",
      "metadata": {
        "id": "uadcZZApCojT"
      },
      "source": [
        "s= 'heLLo pyTHOn!' # str 클래스의 인스턴스 생성"
      ],
      "execution_count": null,
      "outputs": []
    },
    {
      "cell_type": "code",
      "metadata": {
        "colab": {
          "base_uri": "https://localhost:8080/",
          "height": 36
        },
        "id": "S3iavtfRFrAx",
        "outputId": "f937a5fa-f7d5-42db-a872-a8482ad09b14"
      },
      "source": [
        "s"
      ],
      "execution_count": null,
      "outputs": [
        {
          "output_type": "execute_result",
          "data": {
            "application/vnd.google.colaboratory.intrinsic+json": {
              "type": "string"
            },
            "text/plain": [
              "'hello python!'"
            ]
          },
          "metadata": {
            "tags": []
          },
          "execution_count": 11
        }
      ]
    },
    {
      "cell_type": "code",
      "metadata": {
        "colab": {
          "base_uri": "https://localhost:8080/"
        },
        "id": "ZR-gtI5DHJXq",
        "outputId": "8da34ac7-b8a0-46c3-f3ce-3dd92851ae17"
      },
      "source": [
        "# str.lower(): str을 소문자로 변환한 (새로운) 문자열을 리턴. 원본 문자열은 바뀌지 않음!\n",
        "print(s.lower())\n",
        "print(s)"
      ],
      "execution_count": null,
      "outputs": [
        {
          "output_type": "stream",
          "text": [
            "hello python!\n",
            "heLLo pyTHOn!\n"
          ],
          "name": "stdout"
        }
      ]
    },
    {
      "cell_type": "code",
      "metadata": {
        "colab": {
          "base_uri": "https://localhost:8080/",
          "height": 36
        },
        "id": "SaJwMdoZIj5f",
        "outputId": "3f29b12b-8958-491c-f573-206c1f692042"
      },
      "source": [
        "# str.upper(): str을 대문자로 변환한 (새로운) 문자열을 리턴.\n",
        "s.upper()"
      ],
      "execution_count": null,
      "outputs": [
        {
          "output_type": "execute_result",
          "data": {
            "application/vnd.google.colaboratory.intrinsic+json": {
              "type": "string"
            },
            "text/plain": [
              "'HELLO PYTHON!'"
            ]
          },
          "metadata": {
            "tags": []
          },
          "execution_count": 16
        }
      ]
    },
    {
      "cell_type": "code",
      "metadata": {
        "colab": {
          "base_uri": "https://localhost:8080/"
        },
        "id": "3O2HJ75pN_nK",
        "outputId": "77946920-2b58-422e-e28c-4d24c93b56ae"
      },
      "source": [
        "# list(iterable): iterable 객체를 list로 변환해서 리턴\n",
        "list('hello') # str -> 문자들의 리스트"
      ],
      "execution_count": null,
      "outputs": [
        {
          "output_type": "execute_result",
          "data": {
            "text/plain": [
              "['h', 'e', 'l', 'l', 'o']"
            ]
          },
          "metadata": {
            "tags": []
          },
          "execution_count": 17
        }
      ]
    },
    {
      "cell_type": "code",
      "metadata": {
        "colab": {
          "base_uri": "https://localhost:8080/"
        },
        "id": "Nmq-s_9oP2O_",
        "outputId": "0eb9be4c-b47a-4ed9-b77f-e4dc4b3f395a"
      },
      "source": [
        "# str.count(sub): 문자열 str 안에 sub가  몇 번 등장하는 지를 리턴. \n",
        "print(s) \n",
        "print(s.count('L'))\n",
        "print(s.count('o'))\n",
        "print(s.count('LL'))\n",
        "print(s.count('LL',0,5)) # 0 <= index < 5 범위의 문자열 내에서\n",
        "print(s.count('LL',5)) # 5<= index 범위의 문자열 내에서"
      ],
      "execution_count": null,
      "outputs": [
        {
          "output_type": "stream",
          "text": [
            "heLLo pyTHOn!\n",
            "2\n",
            "1\n",
            "1\n",
            "1\n",
            "0\n"
          ],
          "name": "stdout"
        }
      ]
    },
    {
      "cell_type": "code",
      "metadata": {
        "colab": {
          "base_uri": "https://localhost:8080/"
        },
        "id": "BotiVEBaTSVD",
        "outputId": "0ae5d11a-0aeb-487b-a438-402c9d761003"
      },
      "source": [
        "# str.startswith(패턴): 문자열 str이 '패턴'으로 시작하면 True, 그렇지 않으면 False 리턴 \n",
        "url= 'http://www.google.com/'\n",
        "url.startswith('http')"
      ],
      "execution_count": null,
      "outputs": [
        {
          "output_type": "execute_result",
          "data": {
            "text/plain": [
              "False"
            ]
          },
          "metadata": {
            "tags": []
          },
          "execution_count": 27
        }
      ]
    },
    {
      "cell_type": "code",
      "metadata": {
        "colab": {
          "base_uri": "https://localhost:8080/"
        },
        "id": "-jNXbyAaVTxN",
        "outputId": "4351323a-1faa-43aa-9fc1-cb91d18db69d"
      },
      "source": [
        "# str.endswith(패턴): 문자열 str이 '패턴'으로 끝나면 True, 그렇지 않으면 False 리턴\n",
        "phone='010-1234-5678'\n",
        "phone.endswith('0000')"
      ],
      "execution_count": null,
      "outputs": [
        {
          "output_type": "execute_result",
          "data": {
            "text/plain": [
              "False"
            ]
          },
          "metadata": {
            "tags": []
          },
          "execution_count": 28
        }
      ]
    },
    {
      "cell_type": "code",
      "metadata": {
        "colab": {
          "base_uri": "https://localhost:8080/"
        },
        "id": "LPBy5-ykWuXs",
        "outputId": "10408b3a-32d1-4922-ec90-57b8138b7c6c"
      },
      "source": [
        "email='abc.def@gmail.com'\n",
        "idx= email.find('@')\n",
        "print('idx=',idx)\n",
        "print(email[:idx]) # 0 <= index <idx 범위의 substring\n",
        "print(email[idx:]) # idx <= index 범위의 substring"
      ],
      "execution_count": null,
      "outputs": [
        {
          "output_type": "stream",
          "text": [
            "idx= 7\n",
            "abc.def\n"
          ],
          "name": "stdout"
        }
      ]
    },
    {
      "cell_type": "code",
      "metadata": {
        "id": "bx76rJi84c6u"
      },
      "source": [
        "sentence='Apollo 15 (July 26 – August 7, 1971) was the fourth crewed mission to land on the Moon.'"
      ],
      "execution_count": 1,
      "outputs": []
    },
    {
      "cell_type": "code",
      "metadata": {
        "colab": {
          "base_uri": "https://localhost:8080/"
        },
        "id": "wmsPotHD4zj0",
        "outputId": "60e12d40-6078-4bec-d5dd-5431e8aa9a86"
      },
      "source": [
        "# str.split(): 공백(space,tab,enter)을 기준으로 문자열을 잘라서 단어들의 리스트를 만들고 리턴. \n",
        "sentence.split()"
      ],
      "execution_count": 2,
      "outputs": [
        {
          "output_type": "execute_result",
          "data": {
            "text/plain": [
              "['Apollo',\n",
              " '15',\n",
              " '(July',\n",
              " '26',\n",
              " '–',\n",
              " 'August',\n",
              " '7,',\n",
              " '1971)',\n",
              " 'was',\n",
              " 'the',\n",
              " 'fourth',\n",
              " 'crewed',\n",
              " 'mission',\n",
              " 'to',\n",
              " 'land',\n",
              " 'on',\n",
              " 'the',\n",
              " 'Moon.']"
            ]
          },
          "metadata": {
            "tags": []
          },
          "execution_count": 2
        }
      ]
    },
    {
      "cell_type": "code",
      "metadata": {
        "colab": {
          "base_uri": "https://localhost:8080/"
        },
        "id": "5I6Qa2pY7eNt",
        "outputId": "7ee704db-fd89-4b8b-d1de-5597ca5d51e3"
      },
      "source": [
        "date='2021-07-30'\n",
        "date.split(sep='-')"
      ],
      "execution_count": 4,
      "outputs": [
        {
          "output_type": "execute_result",
          "data": {
            "text/plain": [
              "['2021', '07', '30']"
            ]
          },
          "metadata": {
            "tags": []
          },
          "execution_count": 4
        }
      ]
    },
    {
      "cell_type": "code",
      "metadata": {
        "colab": {
          "base_uri": "https://localhost:8080/"
        },
        "id": "T30eWV-m7kDt",
        "outputId": "5b54b55d-60b3-4d6f-b215-3e42b42ca6c0"
      },
      "source": [
        "csv='홍길동,100,90,50'\n",
        "csv.split(sep=',')"
      ],
      "execution_count": 6,
      "outputs": [
        {
          "output_type": "execute_result",
          "data": {
            "text/plain": [
              "['홍길동', '100', '90', '50']"
            ]
          },
          "metadata": {
            "tags": []
          },
          "execution_count": 6
        }
      ]
    },
    {
      "cell_type": "code",
      "metadata": {
        "colab": {
          "base_uri": "https://localhost:8080/",
          "height": 36
        },
        "id": "c7spIImG7sAx",
        "outputId": "e0f45adc-1ec1-4352-f76e-987e1f420c59"
      },
      "source": [
        "# str.join(iterable): iterable이 갖고 있는 단어들을 str으로 붙여서 하나으 문자열을 만들고 리턴 \n",
        "'-'.join(['2021','07','30'])"
      ],
      "execution_count": 7,
      "outputs": [
        {
          "output_type": "execute_result",
          "data": {
            "application/vnd.google.colaboratory.intrinsic+json": {
              "type": "string"
            },
            "text/plain": [
              "'2021-07-30'"
            ]
          },
          "metadata": {
            "tags": []
          },
          "execution_count": 7
        }
      ]
    },
    {
      "cell_type": "code",
      "metadata": {
        "colab": {
          "base_uri": "https://localhost:8080/",
          "height": 36
        },
        "id": "DIFlPVue9K-Q",
        "outputId": "3abc7f0b-d0ee-4b0d-b23b-2b2a52b2d851"
      },
      "source": [
        "' '.join(['홍길동','100','90','50'])"
      ],
      "execution_count": 10,
      "outputs": [
        {
          "output_type": "execute_result",
          "data": {
            "application/vnd.google.colaboratory.intrinsic+json": {
              "type": "string"
            },
            "text/plain": [
              "'홍길동 100 90 50'"
            ]
          },
          "metadata": {
            "tags": []
          },
          "execution_count": 10
        }
      ]
    },
    {
      "cell_type": "code",
      "metadata": {
        "colab": {
          "base_uri": "https://localhost:8080/"
        },
        "id": "lV1Wuljr9Ti1",
        "outputId": "6c4c0054-344c-49d0-e6ae-0636426379b1"
      },
      "source": [
        "sentence='          Hello,Python!           안녕하세요..       '\n",
        "print(sentence)\n",
        "\n",
        "#str.lstrip(): 문자열의 왼쪽(시작 부분)에 있는 모든 공백을 제거한 문자열을 리턴.\n",
        "print(sentence.lstrip())\n",
        "# str.rstrip(): 문자열의 오른쪽(끝나는 부분)에 있는 모든 공백을 제거한 문자열을 리턴.\n",
        "print(sentence.rstrip())\n",
        "# str.strip(): 문자열의 시작과 끝에 있는 모든 공백을 제거한 문자열을 리턴.\n",
        "print(sentence.strip())"
      ],
      "execution_count": 18,
      "outputs": [
        {
          "output_type": "stream",
          "text": [
            "          Hello,Python!           안녕하세요..       \n",
            "Hello,Python!           안녕하세요..       \n",
            "          Hello,Python!           안녕하세요..\n",
            "Hello,Python!           안녕하세요..\n"
          ],
          "name": "stdout"
        }
      ]
    },
    {
      "cell_type": "code",
      "metadata": {
        "colab": {
          "base_uri": "https://localhost:8080/",
          "height": 36
        },
        "id": "_Egklt_I97Nv",
        "outputId": "7867aad1-bd31-4094-c80e-9ab63ec8c15d"
      },
      "source": [
        "sentence='<<<Hello 안녕하세요>>>'\n",
        "sentence.strip('<').strip('>')"
      ],
      "execution_count": 27,
      "outputs": [
        {
          "output_type": "execute_result",
          "data": {
            "application/vnd.google.colaboratory.intrinsic+json": {
              "type": "string"
            },
            "text/plain": [
              "'Hello 안녕하세요'"
            ]
          },
          "metadata": {
            "tags": []
          },
          "execution_count": 27
        }
      ]
    },
    {
      "cell_type": "code",
      "metadata": {
        "colab": {
          "base_uri": "https://localhost:8080/",
          "height": 36
        },
        "id": "doya62yM9SCI",
        "outputId": "9beddbd9-0f17-44a5-c696-7ef5cd924c33"
      },
      "source": [
        "sentence='Hello,Python,안녕하세요,100'\n",
        "sentence.replace(',','  ')"
      ],
      "execution_count": 35,
      "outputs": [
        {
          "output_type": "execute_result",
          "data": {
            "application/vnd.google.colaboratory.intrinsic+json": {
              "type": "string"
            },
            "text/plain": [
              "'Hello  Python  안녕하세요  100'"
            ]
          },
          "metadata": {
            "tags": []
          },
          "execution_count": 35
        }
      ]
    }
  ]
}