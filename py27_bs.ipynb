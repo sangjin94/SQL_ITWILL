{
  "nbformat": 4,
  "nbformat_minor": 0,
  "metadata": {
    "colab": {
      "name": "py27_bs.ipynb",
      "provenance": [],
      "collapsed_sections": [],
      "mount_file_id": "1Kc_eVpbFQptTCJT8MmxHyfZcRjjvoPSR",
      "authorship_tag": "ABX9TyOIRP9+SmtT78+UErVwXgY5",
      "include_colab_link": true
    },
    "kernelspec": {
      "name": "python3",
      "display_name": "Python 3"
    },
    "language_info": {
      "name": "python"
    }
  },
  "cells": [
    {
      "cell_type": "markdown",
      "metadata": {
        "id": "view-in-github",
        "colab_type": "text"
      },
      "source": [
        "<a href=\"https://colab.research.google.com/github/sangjin94/SQL_ITWILL/blob/main/py27_bs.ipynb\" target=\"_parent\"><img src=\"https://colab.research.google.com/assets/colab-badge.svg\" alt=\"Open In Colab\"/></a>"
      ]
    },
    {
      "cell_type": "markdown",
      "metadata": {
        "id": "FbnhqjlMpDBv"
      },
      "source": [
        "* [github](https://github.com/JakeOh/202105_itw_bd26/tree/main/lab_python)에 업로드된 web01.html,web02.html,web03.html 파일을 다운로드\n",
        "* 다운로드된 파일을 구글 드라이브에 업로드\n",
        "* Colab 연결\n",
        "* 구글 드라이브 마운트"
      ]
    },
    {
      "cell_type": "code",
      "metadata": {
        "id": "PNsoZjJmoXaV"
      },
      "source": [
        "# 구글 드라이브에 저장된 파일들의 경로\n",
        "web01= '/content/drive/MyDrive/Colab Notebooks/lab_python/web01.html'\n",
        "web02='/content/drive/MyDrive/Colab Notebooks/lab_python/web02.html'\n",
        "web03='/content/drive/MyDrive/Colab Notebooks/lab_python/web03.html'\n"
      ],
      "execution_count": 45,
      "outputs": []
    },
    {
      "cell_type": "markdown",
      "metadata": {
        "id": "uzJKL22nLfxd"
      },
      "source": [
        "bs4(BeautifulSoup) 모듈에서 BeautifulSoup클래스를 임포"
      ]
    },
    {
      "cell_type": "code",
      "metadata": {
        "id": "ONqFp8DsLoML"
      },
      "source": [
        "from bs4 import BeautifulSoup"
      ],
      "execution_count": 46,
      "outputs": []
    },
    {
      "cell_type": "markdown",
      "metadata": {
        "id": "P9oMwAKQMi--"
      },
      "source": [
        "[BeautifulSoup 4 Documentation](https://www.crummy.com/software/BeautifulSoup/bs4/doc/) 참조"
      ]
    },
    {
      "cell_type": "code",
      "metadata": {
        "id": "ajD4ZZddMzAP"
      },
      "source": [
        "# 1. HTML 문서를 Open\n",
        "html=open(file=web01,mode='rt')"
      ],
      "execution_count": 47,
      "outputs": []
    },
    {
      "cell_type": "code",
      "metadata": {
        "id": "9kwe1_W0Lsqn"
      },
      "source": [
        "# 2. HTML 문서를 분석(parsing)할 수 있는 BeautifulSoup 객체 생성\n",
        "soup= BeautifulSoup(markup=html,features='html5lib')\n",
        "#> markup: Open된 HTML 파일(스트림) 객체\n",
        "#> feature: HTML 문서를 분석하는 라이브러리 이름('html.parse','html5lib',...)"
      ],
      "execution_count": 48,
      "outputs": []
    },
    {
      "cell_type": "code",
      "metadata": {
        "colab": {
          "base_uri": "https://localhost:8080/"
        },
        "id": "9bW_5YeEQHaL",
        "outputId": "7eba7f3a-bca7-437d-d45f-d5466b0ab07e"
      },
      "source": [
        "# 3. 생성된 soup 객체의 매서드를 사용해서 HTML 문서의 요소들을 찾음\n",
        "# BS.find(name='태크이름'): HTML 문서에서 가장 처음에 등장하는 태그 요소를 찾아서 리턴\n",
        "element = soup.find(name='h1')\n",
        "element"
      ],
      "execution_count": 49,
      "outputs": [
        {
          "output_type": "execute_result",
          "data": {
            "text/plain": [
              "<h1>처음 만드는 HTML 파일</h1>"
            ]
          },
          "metadata": {
            "tags": []
          },
          "execution_count": 49
        }
      ]
    },
    {
      "cell_type": "code",
      "metadata": {
        "colab": {
          "base_uri": "https://localhost:8080/"
        },
        "id": "Gv7RCM24Rl2h",
        "outputId": "d6e6903e-d051-47c6-83a9-f76fb79ec8a9"
      },
      "source": [
        "# HTML 문서에서 h2 태그를 갖는 요소를 찾으세요\n",
        "soup.find(name='h2')"
      ],
      "execution_count": 50,
      "outputs": [
        {
          "output_type": "execute_result",
          "data": {
            "text/plain": [
              "<h2>HTML: HyperText Markup Language</h2>"
            ]
          },
          "metadata": {
            "tags": []
          },
          "execution_count": 50
        }
      ]
    },
    {
      "cell_type": "code",
      "metadata": {
        "colab": {
          "base_uri": "https://localhost:8080/"
        },
        "id": "dCJzManoSoyu",
        "outputId": "47267c25-6e6d-4b6a-b524-2ac67da51f53"
      },
      "source": [
        "# HTML 문서에서 가장 처음에 등장하는 a 태그 요소\n",
        "soup.find(name='a')"
      ],
      "execution_count": 51,
      "outputs": [
        {
          "output_type": "execute_result",
          "data": {
            "text/plain": [
              "<a href=\"https://www.daum.net/\">다음 카카오</a>"
            ]
          },
          "metadata": {
            "tags": []
          },
          "execution_count": 51
        }
      ]
    },
    {
      "cell_type": "code",
      "metadata": {
        "colab": {
          "base_uri": "https://localhost:8080/"
        },
        "id": "SJNLkjblS-ci",
        "outputId": "956e36b8-a03e-4a72-9667-52b4c76132a0"
      },
      "source": [
        "# BS.find_all(name='태그이름'): 해당 태그 이름의 모든 요소들을 찾아서 리스트를 리턴\n",
        "#HTML 문서의 모든 a 태그 요소들을 리스트로 리턴 \n",
        "links=soup.find_all(name='a')\n",
        "print(links)\n",
        "\n",
        "for l in links:\n",
        "  print(l)"
      ],
      "execution_count": 52,
      "outputs": [
        {
          "output_type": "stream",
          "text": [
            "[<a href=\"https://www.daum.net/\">다음 카카오</a>, <a href=\"https://www.naver.com/\">네이버</a>, <a href=\"https://www.google.com/\">\n",
            "        <img src=\"googlelogo.png\" style=\"width: 100px;\"/>\n",
            "    </a>]\n",
            "<a href=\"https://www.daum.net/\">다음 카카오</a>\n",
            "<a href=\"https://www.naver.com/\">네이버</a>\n",
            "<a href=\"https://www.google.com/\">\n",
            "        <img src=\"googlelogo.png\" style=\"width: 100px;\"/>\n",
            "    </a>\n"
          ],
          "name": "stdout"
        }
      ]
    },
    {
      "cell_type": "markdown",
      "metadata": {
        "id": "Y8BzNwWoZjHp"
      },
      "source": [
        "HTML 요소(element)의 텍스트 컨텐츠(content)또는 속성(attribute)의 값을 찾는 방법"
      ]
    },
    {
      "cell_type": "code",
      "metadata": {
        "colab": {
          "base_uri": "https://localhost:8080/"
        },
        "id": "XU8pRoxhTn3G",
        "outputId": "dbd933e7-04c7-4e8e-8a66-58420c2c1ee9"
      },
      "source": [
        "element= soup.find(name='a') # a 태그요소\n",
        "print(element)\n",
        "print(element.text) # a 태그 요소의 텍스트 컨텐트\n",
        "print(element.get(key='href')) # a 태그 요소의 href 속성의 값"
      ],
      "execution_count": 53,
      "outputs": [
        {
          "output_type": "stream",
          "text": [
            "<a href=\"https://www.daum.net/\">다음 카카오</a>\n",
            "다음 카카오\n",
            "https://www.daum.net/\n"
          ],
          "name": "stdout"
        }
      ]
    },
    {
      "cell_type": "code",
      "metadata": {
        "colab": {
          "base_uri": "https://localhost:8080/",
          "height": 35
        },
        "id": "yTgrM1nvbSLh",
        "outputId": "2953c68a-ee87-48cf-b4b8-5d2861277102"
      },
      "source": [
        "# h1 태그의 텍스트\n",
        "soup.find(name='h1').text"
      ],
      "execution_count": 54,
      "outputs": [
        {
          "output_type": "execute_result",
          "data": {
            "application/vnd.google.colaboratory.intrinsic+json": {
              "type": "string"
            },
            "text/plain": [
              "'처음 만드는 HTML 파일'"
            ]
          },
          "metadata": {
            "tags": []
          },
          "execution_count": 54
        }
      ]
    },
    {
      "cell_type": "code",
      "metadata": {
        "colab": {
          "base_uri": "https://localhost:8080/",
          "height": 35
        },
        "id": "aqIO_-Y2bUod",
        "outputId": "741c3877-894d-4f14-bdd7-4cb65461b4c8"
      },
      "source": [
        "# h2 태그의 텍스트 \n",
        "soup.find(name='h2').text"
      ],
      "execution_count": 55,
      "outputs": [
        {
          "output_type": "execute_result",
          "data": {
            "application/vnd.google.colaboratory.intrinsic+json": {
              "type": "string"
            },
            "text/plain": [
              "'HTML: HyperText Markup Language'"
            ]
          },
          "metadata": {
            "tags": []
          },
          "execution_count": 55
        }
      ]
    },
    {
      "cell_type": "code",
      "metadata": {
        "colab": {
          "base_uri": "https://localhost:8080/"
        },
        "id": "_VkOJ_esbmp_",
        "outputId": "98183e6d-420d-430f-c593-8803851a427a"
      },
      "source": [
        "# 모든 a 태그 요소의 href 속성 값\n",
        "val=soup.find_all(name='a')\n",
        "for i in val:\n",
        "  print(i.get(key='href'))"
      ],
      "execution_count": 56,
      "outputs": [
        {
          "output_type": "stream",
          "text": [
            "https://www.daum.net/\n",
            "https://www.naver.com/\n",
            "https://www.google.com/\n"
          ],
          "name": "stdout"
        }
      ]
    },
    {
      "cell_type": "markdown",
      "metadata": {
        "id": "NTakbQqPdqrc"
      },
      "source": [
        "find 함수를 간단히 사용하는 방"
      ]
    },
    {
      "cell_type": "code",
      "metadata": {
        "colab": {
          "base_uri": "https://localhost:8080/"
        },
        "id": "Aou0d2b-dsch",
        "outputId": "050c362a-31b5-4d36-cc55-796c5b7998b4"
      },
      "source": [
        "print(soup.find(name='h1'))\n",
        "print(soup.h1)\n",
        "print(soup.h1.text)"
      ],
      "execution_count": 57,
      "outputs": [
        {
          "output_type": "stream",
          "text": [
            "<h1>처음 만드는 HTML 파일</h1>\n",
            "<h1>처음 만드는 HTML 파일</h1>\n",
            "처음 만드는 HTML 파일\n"
          ],
          "name": "stdout"
        }
      ]
    },
    {
      "cell_type": "code",
      "metadata": {
        "colab": {
          "base_uri": "https://localhost:8080/"
        },
        "id": "3HHnPTC_d1nY",
        "outputId": "60758cdb-cf2d-4b76-85e0-3b4a06b344b8"
      },
      "source": [
        "print(soup.find(name='a'))\n",
        "print(soup.a)\n",
        "\n",
        "print(soup.find('a').text)\n",
        "print(soup.a.text)"
      ],
      "execution_count": 58,
      "outputs": [
        {
          "output_type": "stream",
          "text": [
            "<a href=\"https://www.daum.net/\">다음 카카오</a>\n",
            "<a href=\"https://www.daum.net/\">다음 카카오</a>\n",
            "다음 카카오\n",
            "다음 카카오\n"
          ],
          "name": "stdout"
        }
      ]
    },
    {
      "cell_type": "markdown",
      "metadata": {
        "id": "f8CTEkX_efTd"
      },
      "source": [
        "속성의 값을 찾는 get 메서드를 간단히 사용하는 방법"
      ]
    },
    {
      "cell_type": "code",
      "metadata": {
        "colab": {
          "base_uri": "https://localhost:8080/"
        },
        "id": "RhDk9-o6ec5_",
        "outputId": "4e352b7e-1bee-4af4-ddd2-2f26d340f893"
      },
      "source": [
        "# a 태그 요소의 href 속성 값\n",
        "print(soup.find('a').get(key='href'))\n",
        "print(soup.a.get(key='href'))\n",
        "print(soup.a['href']) #dict 의 key 값을 찾는 방법과 동일하다."
      ],
      "execution_count": 59,
      "outputs": [
        {
          "output_type": "stream",
          "text": [
            "https://www.daum.net/\n",
            "https://www.daum.net/\n",
            "https://www.daum.net/\n"
          ],
          "name": "stdout"
        }
      ]
    },
    {
      "cell_type": "code",
      "metadata": {
        "id": "mXxeNmwvd8p4"
      },
      "source": [
        "# 4. 필요한 분석이 끝났으면 HTML 문서를 닫음. \n",
        "html.close()"
      ],
      "execution_count": 60,
      "outputs": []
    },
    {
      "cell_type": "code",
      "metadata": {
        "colab": {
          "base_uri": "https://localhost:8080/"
        },
        "id": "fYXjXLVkgEkg",
        "outputId": "77b677ed-795c-4396-97f5-bfd5c3a59ff7"
      },
      "source": [
        "# HTML 문서를 open\n",
        "with open(file=web01) as html: \n",
        "  # BeautifulSoup 객체 생성\n",
        "  soup= BeautifulSoup(markup=html,features='html5lib')\n",
        "  # a 태그 요소들 중에서 href 속성 값이 'http://www.naver.com'인 요소의 텍스트를 출력\n",
        "  # Bs.find(name='태그이름',attrs={'속성이름':'속성값',...})\n",
        "  link= soup.find(name='a',attrs={'href': 'https://www.naver.com/'})\n",
        "  print(link.text)"
      ],
      "execution_count": 74,
      "outputs": [
        {
          "output_type": "stream",
          "text": [
            "네이버\n"
          ],
          "name": "stdout"
        }
      ]
    },
    {
      "cell_type": "markdown",
      "metadata": {
        "id": "CHX7yyKEqbV_"
      },
      "source": [
        "find_all 매서드를 간단히 사용하는 방법"
      ]
    },
    {
      "cell_type": "code",
      "metadata": {
        "id": "MVzA7w5ZqeWQ"
      },
      "source": [
        ""
      ],
      "execution_count": null,
      "outputs": []
    },
    {
      "cell_type": "code",
      "metadata": {
        "colab": {
          "base_uri": "https://localhost:8080/"
        },
        "id": "i00LaUownuuy",
        "outputId": "fa5fd0e7-24c8-49c0-bc87-1df2f722274f"
      },
      "source": [
        "# web03.html 파일을 오픈\n",
        "# BeautifulSoup 객체 생성\n",
        "# 모든 div 태그 요소들의 텍스트 컨텐트를 출력\n",
        "\n",
        "with open(file=web03) as f:\n",
        "  soup=BeautifulSoup(markup=f,features='html5lib')\n",
        "  #link=soup.find_all(name='div')\n",
        "  link=soup(name='div') # soup.__call__() magic method 가 자동으로 호출됨. -> find_all 매서드 기능.\n",
        "  for i in link:\n",
        "    print(i.text)"
      ],
      "execution_count": 83,
      "outputs": [
        {
          "output_type": "stream",
          "text": [
            "여기는 c1 클래스입니다.\n",
            "여기도 c1 클래스입니다.\n",
            "여기는 c2 클래스입니다.\n",
            "여기는 c2 클래스, 아이디는 id1입니다.\n"
          ],
          "name": "stdout"
        }
      ]
    },
    {
      "cell_type": "code",
      "metadata": {
        "colab": {
          "base_uri": "https://localhost:8080/"
        },
        "id": "lDQgjLPHoN81",
        "outputId": "bd522570-e8cc-4aa3-9b3b-011df21606dc"
      },
      "source": [
        "# web03.html 파일을 오픈\n",
        "with open(file=web03) as html:\n",
        "# BeautifulSoup 객체 생성\n",
        "  soup=BeautifulSoup(markup=html, features='html5lib')\n",
        "# class  속성의 값이 'c1' 인 요소들의 텍스트 컨텐트를 출력\n",
        "  # elements = soup.find_all(attrs={'class':'c1'})\n",
        "  elements=soup(attrs={'class':'c1'})\n",
        "  for e in elements:\n",
        "    print(e.text)"
      ],
      "execution_count": 90,
      "outputs": [
        {
          "output_type": "stream",
          "text": [
            "여기는 c1 클래스입니다.\n",
            "여기도 c1 클래스입니다.\n"
          ],
          "name": "stdout"
        }
      ]
    },
    {
      "cell_type": "code",
      "metadata": {
        "colab": {
          "base_uri": "https://localhost:8080/"
        },
        "id": "hw8m8upTt0bu",
        "outputId": "760ac4b6-707c-4fa4-cd96-da0cb05af877"
      },
      "source": [
        "# web03.html 파일에서 id 속성의 값이 'id1'인 모든 요소들의 텍스트 컨텐트를 출력\n",
        "with open(file=web03) as f:\n",
        "  soup=BeautifulSoup(markup= f, features= 'html5lib')\n",
        "  ele= soup(attrs={'id':'id1'})\n",
        "  for i in ele:\n",
        "    print(i.text)"
      ],
      "execution_count": 92,
      "outputs": [
        {
          "output_type": "stream",
          "text": [
            "여기는 c2 클래스, 아이디는 id1입니다.\n"
          ],
          "name": "stdout"
        }
      ]
    }
  ]
}