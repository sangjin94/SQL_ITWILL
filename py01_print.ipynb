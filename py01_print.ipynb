{
  "nbformat": 4,
  "nbformat_minor": 0,
  "metadata": {
    "colab": {
      "name": "py01_print.ipynb",
      "provenance": [],
      "collapsed_sections": [],
      "authorship_tag": "ABX9TyN8ghJvGwvhqY1cJt63IPL9",
      "include_colab_link": true
    },
    "kernelspec": {
      "name": "python3",
      "display_name": "Python 3"
    },
    "language_info": {
      "name": "python"
    }
  },
  "cells": [
    {
      "cell_type": "markdown",
      "metadata": {
        "id": "view-in-github",
        "colab_type": "text"
      },
      "source": [
        "<a href=\"https://colab.research.google.com/github/sangjin94/SQL_ITWILL/blob/main/py01_print.ipynb\" target=\"_parent\"><img src=\"https://colab.research.google.com/assets/colab-badge.svg\" alt=\"Open In Colab\"/></a>"
      ]
    },
    {
      "cell_type": "code",
      "metadata": {
        "colab": {
          "base_uri": "https://localhost:8080/"
        },
        "id": "EBSc2ym8Y0eP",
        "outputId": "7cf6af79-469a-4f91-d596-e80bcf3c11b6"
      },
      "source": [
        "print('Hello, Python!')"
      ],
      "execution_count": null,
      "outputs": [
        {
          "output_type": "stream",
          "text": [
            "Hello, Python!\n"
          ],
          "name": "stdout"
        }
      ]
    },
    {
      "cell_type": "code",
      "metadata": {
        "id": "XG8jyJN8apGP"
      },
      "source": [
        ""
      ],
      "execution_count": null,
      "outputs": []
    },
    {
      "cell_type": "markdown",
      "metadata": {
        "id": "DgKO_OsYastb"
      },
      "source": [
        "\n",
        "\n",
        "\n",
        "`print()` 함수에게 argument를 여러개 전달하면, 각 argument를 공백으로 연결해서 한 줄에 출력함. \n",
        "\n",
        "\n"
      ]
    },
    {
      "cell_type": "code",
      "metadata": {
        "colab": {
          "base_uri": "https://localhost:8080/"
        },
        "id": "IiT1TlZCbGcy",
        "outputId": "cab6d585-b5bc-46c2-9569-55528b71c632"
      },
      "source": [
        "print('Heollo','안녕','Bon Jour')"
      ],
      "execution_count": null,
      "outputs": [
        {
          "output_type": "stream",
          "text": [
            "Heollo 안녕 Bon Jour\n"
          ],
          "name": "stdout"
        }
      ]
    },
    {
      "cell_type": "code",
      "metadata": {
        "colab": {
          "base_uri": "https://localhost:8080/"
        },
        "id": "N2hWGxzldjkB",
        "outputId": "7276ccbf-2ffb-4ae6-e105-5b0d601ecb37"
      },
      "source": [
        "print(1,2,3)"
      ],
      "execution_count": null,
      "outputs": [
        {
          "output_type": "stream",
          "text": [
            "1 2 3\n"
          ],
          "name": "stdout"
        }
      ]
    },
    {
      "cell_type": "code",
      "metadata": {
        "colab": {
          "base_uri": "https://localhost:8080/"
        },
        "id": "wKfMo2MCelCj",
        "outputId": "d564058f-ca25-4e52-afbf-222353ac0613"
      },
      "source": [
        "print(1,'+',2,'=',(1+2))"
      ],
      "execution_count": null,
      "outputs": [
        {
          "output_type": "stream",
          "text": [
            "1 + 2 = 3\n"
          ],
          "name": "stdout"
        }
      ]
    },
    {
      "cell_type": "code",
      "metadata": {
        "colab": {
          "base_uri": "https://localhost:8080/"
        },
        "id": "6VYFrCpketBj",
        "outputId": "0a273d58-871f-4577-de3a-d9f3bdf5d579"
      },
      "source": [
        "print('{}+{}={}'.format(1,2,3))  #placeholder {} 포멧에 맞춰서 프린트 할수 있다. "
      ],
      "execution_count": null,
      "outputs": [
        {
          "output_type": "stream",
          "text": [
            "1+2=3\n"
          ],
          "name": "stdout"
        }
      ]
    },
    {
      "cell_type": "markdown",
      "metadata": {
        "id": "kkjqLYc5g_pz"
      },
      "source": [
        "placeholder 문자열과 `format()` 메서드(함수)를 사용한 print"
      ]
    },
    {
      "cell_type": "markdown",
      "metadata": {
        "id": "I2aQl2k9h3ay"
      },
      "source": [
        "formmatted string 사용- Python 3.6 버전 이상에서 사용 가능"
      ]
    },
    {
      "cell_type": "code",
      "metadata": {
        "id": "NL4eyHFehFtt"
      },
      "source": [
        "# 변수 = 값\n",
        "a = 1 \n",
        "b = 2"
      ],
      "execution_count": null,
      "outputs": []
    },
    {
      "cell_type": "code",
      "metadata": {
        "colab": {
          "base_uri": "https://localhost:8080/"
        },
        "id": "RLzr942qigrZ",
        "outputId": "2f1af4cf-2df4-4c12-d70a-3b20838e0b0d"
      },
      "source": [
        "print(f'{a}+{b}={a+b}')\n"
      ],
      "execution_count": null,
      "outputs": [
        {
          "output_type": "stream",
          "text": [
            "1+2=3\n"
          ],
          "name": "stdout"
        }
      ]
    },
    {
      "cell_type": "code",
      "metadata": {
        "colab": {
          "base_uri": "https://localhost:8080/"
        },
        "id": "U_zGUMiMnEo4",
        "outputId": "750e9868-36f4-47ac-d53c-47fdfdaa1a9e"
      },
      "source": [
        "print(dir()) #현재 세션에서 생성된 객체(변수) 이름들을 검색."
      ],
      "execution_count": null,
      "outputs": [
        {
          "output_type": "stream",
          "text": [
            "['In', 'Out', '_', '__', '___', '__builtin__', '__builtins__', '__doc__', '__loader__', '__name__', '__package__', '__spec__', '_dh', '_i', '_i1', '_i10', '_i11', '_i12', '_i13', '_i14', '_i2', '_i3', '_i4', '_i5', '_i6', '_i7', '_i8', '_i9', '_ih', '_ii', '_iii', '_oh', '_sh', 'a', 'b', 'exit', 'get_ipython', 'quit']\n"
          ],
          "name": "stdout"
        }
      ]
    },
    {
      "cell_type": "markdown",
      "metadata": {
        "id": "rCULLCaYnwh6"
      },
      "source": [
        "파이썬 문자열. 작은 따옴표('') 또는 큰따옴표(\"\")를 사용"
      ]
    },
    {
      "cell_type": "code",
      "metadata": {
        "colab": {
          "base_uri": "https://localhost:8080/"
        },
        "id": "wY6qv3Bvn4wh",
        "outputId": "b9751aca-0c27-496e-f3fc-6e9ba6683e88"
      },
      "source": [
        "print(\"I`m a boy.\")"
      ],
      "execution_count": null,
      "outputs": [
        {
          "output_type": "stream",
          "text": [
            "I`m a boy.\n"
          ],
          "name": "stdout"
        }
      ]
    },
    {
      "cell_type": "code",
      "metadata": {
        "colab": {
          "base_uri": "https://localhost:8080/",
          "height": 136
        },
        "id": "pSpEvRMBn_bT",
        "outputId": "e63216eb-a99e-4e5b-9418-82548969d004"
      },
      "source": [
        "print('I\\m' a boy.')"
      ],
      "execution_count": null,
      "outputs": [
        {
          "output_type": "error",
          "ename": "SyntaxError",
          "evalue": "ignored",
          "traceback": [
            "\u001b[0;36m  File \u001b[0;32m\"<ipython-input-17-24c85174f6bc>\"\u001b[0;36m, line \u001b[0;32m1\u001b[0m\n\u001b[0;31m    print('I\\m' a boy.')\u001b[0m\n\u001b[0m                ^\u001b[0m\n\u001b[0;31mSyntaxError\u001b[0m\u001b[0;31m:\u001b[0m invalid syntax\n"
          ]
        }
      ]
    },
    {
      "cell_type": "markdown",
      "metadata": {
        "id": "U4M1leJ6nvx9"
      },
      "source": [
        "사용자 입력 - 키보드에서 문자열을 입력받는 방"
      ]
    },
    {
      "cell_type": "code",
      "metadata": {
        "colab": {
          "base_uri": "https://localhost:8080/"
        },
        "id": "XCpl7QVuo4kF",
        "outputId": "7efe6e8b-cc2c-47af-d78f-c87fd1075a36"
      },
      "source": [
        "name= input('이름을 입력하세요...')"
      ],
      "execution_count": null,
      "outputs": [
        {
          "output_type": "stream",
          "text": [
            "이름을 입력하세요...상진\n"
          ],
          "name": "stdout"
        }
      ]
    },
    {
      "cell_type": "code",
      "metadata": {
        "colab": {
          "base_uri": "https://localhost:8080/"
        },
        "id": "ySU4ZTUtpt4n",
        "outputId": "c26d77fb-edfc-45ed-fdd7-44a9e8acbe18"
      },
      "source": [
        "print(f'안녕하세요,{name}!')"
      ],
      "execution_count": null,
      "outputs": [
        {
          "output_type": "stream",
          "text": [
            "안녕하세요,상진!\n"
          ],
          "name": "stdout"
        }
      ]
    }
  ]
}