{
  "nbformat": 4,
  "nbformat_minor": 0,
  "metadata": {
    "colab": {
      "name": "py02_variable.ipynb",
      "provenance": [],
      "collapsed_sections": [],
      "toc_visible": true,
      "authorship_tag": "ABX9TyM6+wVlPUeqDwluRRqkZT2+",
      "include_colab_link": true
    },
    "kernelspec": {
      "name": "python3",
      "display_name": "Python 3"
    },
    "language_info": {
      "name": "python"
    }
  },
  "cells": [
    {
      "cell_type": "markdown",
      "metadata": {
        "id": "view-in-github",
        "colab_type": "text"
      },
      "source": [
        "<a href=\"https://colab.research.google.com/github/sangjin94/SQL_ITWILL/blob/main/py02_variable.ipynb\" target=\"_parent\"><img src=\"https://colab.research.google.com/assets/colab-badge.svg\" alt=\"Open In Colab\"/></a>"
      ]
    },
    {
      "cell_type": "markdown",
      "metadata": {
        "id": "Rqw24654rXrr"
      },
      "source": [
        "# Python Data Type(자료 형)"
      ]
    },
    {
      "cell_type": "markdown",
      "metadata": {
        "id": "hhIebUlIscNx"
      },
      "source": [
        "*    숫자 타입: \n",
        "    *    int: 정수\n",
        "    *    float: 실수\n",
        "*    문자열 타입: str\n",
        "*    논리 타입: bool - True/False 두 가지 상태를 저장하는 변수"
      ]
    },
    {
      "cell_type": "code",
      "metadata": {
        "id": "0Jh4wcDBtF7p",
        "colab": {
          "base_uri": "https://localhost:8080/"
        },
        "outputId": "d22d966f-f24d-454e-cf35-2bc9b786a8e4"
      },
      "source": [
        "# 변수 n에 정수 100을 저장\n",
        "n = 100\n",
        "print(n)"
      ],
      "execution_count": null,
      "outputs": [
        {
          "output_type": "stream",
          "text": [
            "100\n"
          ],
          "name": "stdout"
        }
      ]
    },
    {
      "cell_type": "code",
      "metadata": {
        "colab": {
          "base_uri": "https://localhost:8080/"
        },
        "id": "qc-ochQgt_eU",
        "outputId": "d8b6e63e-ce16-4d1f-d735-3fa9ccb8931a"
      },
      "source": [
        "type(n) # type(x): 변수 x의 자료 형(data type)을 반환."
      ],
      "execution_count": null,
      "outputs": [
        {
          "output_type": "execute_result",
          "data": {
            "text/plain": [
              "int"
            ]
          },
          "metadata": {
            "tags": []
          },
          "execution_count": 4
        }
      ]
    },
    {
      "cell_type": "code",
      "metadata": {
        "colab": {
          "base_uri": "https://localhost:8080/"
        },
        "id": "fPMQx9YhuHJT",
        "outputId": "9fd84903-228e-4957-a3f0-e19fa2723b05"
      },
      "source": [
        "pi=3.141592\n",
        "print(pi)"
      ],
      "execution_count": null,
      "outputs": [
        {
          "output_type": "stream",
          "text": [
            "3.141592\n"
          ],
          "name": "stdout"
        }
      ]
    },
    {
      "cell_type": "code",
      "metadata": {
        "colab": {
          "base_uri": "https://localhost:8080/"
        },
        "id": "G9ZfXjQKuKto",
        "outputId": "d929f1de-9f60-4698-db43-eb27c743574b"
      },
      "source": [
        "type(pi)"
      ],
      "execution_count": null,
      "outputs": [
        {
          "output_type": "execute_result",
          "data": {
            "text/plain": [
              "float"
            ]
          },
          "metadata": {
            "tags": []
          },
          "execution_count": 6
        }
      ]
    },
    {
      "cell_type": "code",
      "metadata": {
        "colab": {
          "base_uri": "https://localhost:8080/"
        },
        "id": "LvturDuJuOC1",
        "outputId": "0da57a75-e749-4deb-c1df-fdb91d4deb50"
      },
      "source": [
        "s = '안녕하세요'\n",
        "print(s)\n",
        "print(type(s))\n",
        "type(s)"
      ],
      "execution_count": null,
      "outputs": [
        {
          "output_type": "stream",
          "text": [
            "안녕하세요\n",
            "<class 'str'>\n"
          ],
          "name": "stdout"
        },
        {
          "output_type": "execute_result",
          "data": {
            "text/plain": [
              "str"
            ]
          },
          "metadata": {
            "tags": []
          },
          "execution_count": 8
        }
      ]
    },
    {
      "cell_type": "code",
      "metadata": {
        "colab": {
          "base_uri": "https://localhost:8080/"
        },
        "id": "MAigI_0dC7NR",
        "outputId": "3d2f7c7f-aa95-4713-b7f8-839a0a14c390"
      },
      "source": [
        "b = True # Python 예약어들은 대/소문자를 구분함.\n",
        "print(b)\n",
        "type(b)\n"
      ],
      "execution_count": null,
      "outputs": [
        {
          "output_type": "stream",
          "text": [
            "True\n"
          ],
          "name": "stdout"
        },
        {
          "output_type": "execute_result",
          "data": {
            "text/plain": [
              "bool"
            ]
          },
          "metadata": {
            "tags": []
          },
          "execution_count": 15
        }
      ]
    },
    {
      "cell_type": "code",
      "metadata": {
        "colab": {
          "base_uri": "https://localhost:8080/"
        },
        "id": "IsLAmcfQDd-f",
        "outputId": "ef5250c5-e2f1-4fac-c69c-0a25e5ba7420"
      },
      "source": [
        "b= 5 > 1\n",
        "print(b,type(b))"
      ],
      "execution_count": null,
      "outputs": [
        {
          "output_type": "stream",
          "text": [
            "True <class 'bool'>\n"
          ],
          "name": "stdout"
        }
      ]
    },
    {
      "cell_type": "markdown",
      "metadata": {
        "id": "Qh-jkCA_EBFc"
      },
      "source": [
        "# 명시적 타입 변환( explicit type conversion)"
      ]
    },
    {
      "cell_type": "markdown",
      "metadata": {
        "id": "a2vItiyAEzAQ"
      },
      "source": [
        "* `int(값)`: 값을 정수로 변환하는 함수\n",
        "* `float(값)`: 값을 실수로 변환하는 함수\n",
        "* `str(값)` :  값을 문자열로 변환하는 함수  "
      ]
    },
    {
      "cell_type": "code",
      "metadata": {
        "colab": {
          "base_uri": "https://localhost:8080/"
        },
        "id": "J6Ai14XlFcl6",
        "outputId": "8e45d551-b508-4c54-b171-3574252fc9d3"
      },
      "source": [
        "num_str= '123'\n",
        "type(num_str)\n"
      ],
      "execution_count": null,
      "outputs": [
        {
          "output_type": "execute_result",
          "data": {
            "text/plain": [
              "str"
            ]
          },
          "metadata": {
            "tags": []
          },
          "execution_count": 21
        }
      ]
    },
    {
      "cell_type": "code",
      "metadata": {
        "colab": {
          "base_uri": "https://localhost:8080/"
        },
        "id": "h05_qPaHF90H",
        "outputId": "97ea1c84-8728-4a1f-e4e6-4f3046103891"
      },
      "source": [
        "num_int=int(num_str) # 문자열 '123' 을 정수 123으로 변환 후 변수 num_int에 저장. \n",
        "type(num_int)"
      ],
      "execution_count": null,
      "outputs": [
        {
          "output_type": "execute_result",
          "data": {
            "text/plain": [
              "int"
            ]
          },
          "metadata": {
            "tags": []
          },
          "execution_count": 24
        }
      ]
    },
    {
      "cell_type": "code",
      "metadata": {
        "colab": {
          "base_uri": "https://localhost:8080/"
        },
        "id": "zqHBLbU1Gkps",
        "outputId": "5401e656-4677-4ea1-9dc0-2257fdfd6d15"
      },
      "source": [
        "pi = '3.141592'\n",
        "type(pi)"
      ],
      "execution_count": null,
      "outputs": [
        {
          "output_type": "execute_result",
          "data": {
            "text/plain": [
              "str"
            ]
          },
          "metadata": {
            "tags": []
          },
          "execution_count": 26
        }
      ]
    },
    {
      "cell_type": "code",
      "metadata": {
        "id": "zzqQP3h6HVSF"
      },
      "source": [
        "# int('3.14') #> 문자열 '3.13' 는 정수로 변환 불가능.\n",
        "# int('1,000') #> 문자열 '1,000' 은 정수로 변환 불가능.\n",
        "# float('1,000.0') #> 문자열 '3.141592'를 실수로 변환 후 그 결과를 변수 pi에 저장. \n"
      ],
      "execution_count": null,
      "outputs": []
    },
    {
      "cell_type": "markdown",
      "metadata": {
        "id": "OQKy05OmIHuD"
      },
      "source": [
        "# 산술 연산자 "
      ]
    },
    {
      "cell_type": "markdown",
      "metadata": {
        "id": "wQ2DbgZYIt99"
      },
      "source": [
        "*    산술 연산자 종류: `+`,`-`,`*`,`/`,`**`,`//`,`%`\n",
        "*    산술 연산자는 숫자 타입(int,float)의 값 또는 변수에서 사용할 수 있음. \n"
      ]
    },
    {
      "cell_type": "code",
      "metadata": {
        "id": "-BJFxcGyJSpm"
      },
      "source": [
        "n1 = 10\n",
        "n2 = 3\n"
      ],
      "execution_count": null,
      "outputs": []
    },
    {
      "cell_type": "code",
      "metadata": {
        "colab": {
          "base_uri": "https://localhost:8080/"
        },
        "id": "toytwpNtJbwd",
        "outputId": "503dfe3a-6ce8-4ef8-92f8-4f37751066d6"
      },
      "source": [
        "print(f'{n1}+{n2}={n1 + n2}')\n",
        "print(f'{n1}-{n2}={n1 - n2}')\n",
        "print(f'{n1}*{n2}={n1*n2}')\n",
        "print(f'{n1}/{n2}={n1/n2}')\n",
        "print(f'{n1}의 {n2} 거듭제곱= {n1**n2}')\n",
        "print(f'{n1}을 {n2}로 나눈 몫 = {n1//n2}')\n",
        "print(f'{n1}을 {n2}로 나눈 나머지 = {n1%n2}')"
      ],
      "execution_count": null,
      "outputs": [
        {
          "output_type": "stream",
          "text": [
            "10+3=13\n",
            "10-3=7\n",
            "10*3=30\n",
            "10/3=3.3333333333333335\n",
            "10의 3 거듭제곱= 1000\n",
            "10을 3로 나눈 몫 = 3\n",
            "10을 3로 나눈 나머지 = 1\n"
          ],
          "name": "stdout"
        }
      ]
    },
    {
      "cell_type": "code",
      "metadata": {
        "id": "Gm_9Zp5mRcYJ"
      },
      "source": [
        ""
      ],
      "execution_count": null,
      "outputs": []
    },
    {
      "cell_type": "markdown",
      "metadata": {
        "id": "6UJx-C-aPXuv"
      },
      "source": [
        "문자열(str)에서 사용할 수 있는 산술 연산자:\n",
        "   * `+`: concatenate.문자열 이어 붙이기.\n",
        "   \n",
        "   * `*`: replicate. 문자열 복제.\n"
      ]
    },
    {
      "cell_type": "code",
      "metadata": {
        "colab": {
          "base_uri": "https://localhost:8080/",
          "height": 35
        },
        "id": "O8ZDvHTtRAOo",
        "outputId": "d59a45d4-05ac-451c-bf2d-4638ebdcf8e7"
      },
      "source": [
        "'Hello'+'Phyton'"
      ],
      "execution_count": null,
      "outputs": [
        {
          "output_type": "execute_result",
          "data": {
            "application/vnd.google.colaboratory.intrinsic+json": {
              "type": "string"
            },
            "text/plain": [
              "'HelloPhyton'"
            ]
          },
          "metadata": {
            "tags": []
          },
          "execution_count": 42
        }
      ]
    },
    {
      "cell_type": "markdown",
      "metadata": {
        "id": "RL7o_rKeRFYH"
      },
      "source": [
        "colab 노트북의 코드 셋에서 가장 마지막 문장이 값 또는 변수(객체) 이면, 그 객체의 값이 콘솔창에 출력됨.\n"
      ]
    },
    {
      "cell_type": "code",
      "metadata": {
        "colab": {
          "base_uri": "https://localhost:8080/",
          "height": 35
        },
        "id": "mCKt-iyWSOwQ",
        "outputId": "45fecee2-1b10-40e9-cf61-504fd946679c"
      },
      "source": [
        "'Hello'*5"
      ],
      "execution_count": null,
      "outputs": [
        {
          "output_type": "execute_result",
          "data": {
            "application/vnd.google.colaboratory.intrinsic+json": {
              "type": "string"
            },
            "text/plain": [
              "'HelloHelloHelloHelloHello'"
            ]
          },
          "metadata": {
            "tags": []
          },
          "execution_count": 46
        }
      ]
    },
    {
      "cell_type": "code",
      "metadata": {
        "id": "7ot-vN37Sm_O"
      },
      "source": [
        ""
      ],
      "execution_count": null,
      "outputs": []
    },
    {
      "cell_type": "markdown",
      "metadata": {
        "id": "I4qwM-xFSlQx"
      },
      "source": [
        "bool 타입의 값들을 산술 연산을 하면, True는 1, False는 0으로 자동 변환(implicit type conversion)이 된 후 연산이 수행됨."
      ]
    },
    {
      "cell_type": "code",
      "metadata": {
        "colab": {
          "base_uri": "https://localhost:8080/"
        },
        "id": "LEbrbtCKSz4K",
        "outputId": "42ad9d28-548a-4f4c-b084-5b6777bb6f79"
      },
      "source": [
        "True + True"
      ],
      "execution_count": null,
      "outputs": [
        {
          "output_type": "execute_result",
          "data": {
            "text/plain": [
              "2"
            ]
          },
          "metadata": {
            "tags": []
          },
          "execution_count": 48
        }
      ]
    },
    {
      "cell_type": "code",
      "metadata": {
        "colab": {
          "base_uri": "https://localhost:8080/"
        },
        "id": "HUae0RAATJTf",
        "outputId": "cfb9c7f5-4c5a-4c46-a917-e7dc385f44f1"
      },
      "source": [
        "(True+ False+True)/3"
      ],
      "execution_count": null,
      "outputs": [
        {
          "output_type": "execute_result",
          "data": {
            "text/plain": [
              "0.6666666666666666"
            ]
          },
          "metadata": {
            "tags": []
          },
          "execution_count": 49
        }
      ]
    },
    {
      "cell_type": "code",
      "metadata": {
        "id": "zG4mO1bJTONN"
      },
      "source": [
        ""
      ],
      "execution_count": null,
      "outputs": []
    },
    {
      "cell_type": "markdown",
      "metadata": {
        "id": "RcljuaW9TlxQ"
      },
      "source": [
        "# 비교 연산자"
      ]
    },
    {
      "cell_type": "markdown",
      "metadata": {
        "id": "aaMWnBVcTquX"
      },
      "source": [
        "* 비교 연산자 : `==`,`!=`,`>`,`>=`,`<`,`<=`\n",
        "* 논리 연산자 : `and`,`or`,`not`\n"
      ]
    },
    {
      "cell_type": "code",
      "metadata": {
        "id": "qVdVls2aUcNw"
      },
      "source": [
        "X = 100"
      ],
      "execution_count": null,
      "outputs": []
    },
    {
      "cell_type": "code",
      "metadata": {
        "colab": {
          "base_uri": "https://localhost:8080/"
        },
        "id": "2klQpUQWUe6o",
        "outputId": "41b756d3-65f9-495c-87ba-59980df8afaf"
      },
      "source": [
        "print(X==100)  # equal to\n",
        "print(X!=100) # not equal to  \n",
        "print(X>100) # greater than"
      ],
      "execution_count": null,
      "outputs": [
        {
          "output_type": "stream",
          "text": [
            "True\n",
            "False\n",
            "False\n"
          ],
          "name": "stdout"
        }
      ]
    },
    {
      "cell_type": "code",
      "metadata": {
        "colab": {
          "base_uri": "https://localhost:8080/"
        },
        "id": "hwOoRXSDTqTm",
        "outputId": "d56b8c47-7be6-414b-9c25-7f92568823a4"
      },
      "source": [
        "print((X>50) and (X<150))\n",
        "print((X>100) and (X<150))\n",
        "print((X>100) or (X<150))"
      ],
      "execution_count": null,
      "outputs": [
        {
          "output_type": "stream",
          "text": [
            "True\n",
            "False\n",
            "True\n"
          ],
          "name": "stdout"
        }
      ]
    },
    {
      "cell_type": "markdown",
      "metadata": {
        "id": "3-976QWlWKVX"
      },
      "source": [
        "# Exercise\n"
      ]
    },
    {
      "cell_type": "markdown",
      "metadata": {
        "id": "xucFW9yIWK8w"
      },
      "source": [
        "섭씨 온도를 입력 받아서 화씨 온도로 변환 후 출력하는 코드를 작성.\n",
        "\n",
        "`fahreheit = celcius *1.8 +32`"
      ]
    },
    {
      "cell_type": "code",
      "metadata": {
        "colab": {
          "base_uri": "https://localhost:8080/"
        },
        "id": "UgOa_pQKWUP4",
        "outputId": "4dcd3041-2989-46b1-bcc6-52491389a27e"
      },
      "source": [
        "celcius = int(input('섭씨 온도 입력>>'))\n",
        "fahreheit  = celcius*1.8+32\n",
        "print(fahreheit )"
      ],
      "execution_count": null,
      "outputs": [
        {
          "output_type": "stream",
          "text": [
            "섭씨 온도 입력>>30\n",
            "86.0\n"
          ],
          "name": "stdout"
        }
      ]
    }
  ]
}