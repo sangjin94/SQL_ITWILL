{
  "nbformat": 4,
  "nbformat_minor": 0,
  "metadata": {
    "colab": {
      "name": "da18_json.ipynb",
      "provenance": [],
      "collapsed_sections": [],
      "authorship_tag": "ABX9TyM4sZTQQCz0KQY6rYD0tEMQ",
      "include_colab_link": true
    },
    "kernelspec": {
      "name": "python3",
      "display_name": "Python 3"
    },
    "language_info": {
      "name": "python"
    }
  },
  "cells": [
    {
      "cell_type": "markdown",
      "metadata": {
        "id": "view-in-github",
        "colab_type": "text"
      },
      "source": [
        "<a href=\"https://colab.research.google.com/github/sangjin94/SQL_ITWILL/blob/main/da18_json.ipynb\" target=\"_parent\"><img src=\"https://colab.research.google.com/assets/colab-badge.svg\" alt=\"Open In Colab\"/></a>"
      ]
    },
    {
      "cell_type": "markdown",
      "metadata": {
        "id": "0fmXxIklC7BN"
      },
      "source": [
        "# JSON\n",
        "\n",
        "* JSON(JavaScript Object Notations): 자바스크립트 객체 표현법\n",
        "* `{key1:value,key2:value2,...}` 형식의 문자열 \n",
        "* Python의 dict 클래스 객체의 문자열 표현과 비슷 \n",
        "* `json` 모듈: **JSON** 형식 **문자열** <---> **`dict`**타입 **객체(Object)**\n",
        "  * `json.dumps(obj)`: Python 객체 obj를 JSON 형식의 문자열로 변환(serialize,직렬화)해서 리턴.\n",
        "  * `json.load(s)`: JSON 형식의 문자열 s를  Python객체로 변환(deserialize,역직렬화)해서 벽환된 파이썬 객체를 리턴\n",
        "  * `json.dump(obj,fp)`: Python 객체 obj를 JSON 형식의 문자열로 변환해서 파일 fp에 씀(write).\n",
        "  * `json.load(fp)`: 파일 fp에서 JSON 형식 문자열을 읽어서  Python 객체로 변환해서, 변환된 객체를 리턴"
      ]
    },
    {
      "cell_type": "code",
      "metadata": {
        "id": "xnIC9ljdGv-u"
      },
      "source": [
        "import json # JSON 읽기/쓰기 기능을 가지고 있는 파이썬 기본 모듈\n",
        "import matplotlib.pyplot as plt\n",
        "import numpy as np\n",
        "import pandas as pd\n",
        "import seaborn as sns"
      ],
      "execution_count": 284,
      "outputs": []
    },
    {
      "cell_type": "code",
      "metadata": {
        "id": "MPVMEHruHXkM"
      },
      "source": [
        "#json.dumps(obj): Python object ---> JSON formatted string(Serialize, 직렬화)\n",
        "person={'name':'홍길동',\n",
        "        'age':16,\n",
        "        'phones':['02-1111-2222','010-3333-4444']}"
      ],
      "execution_count": 285,
      "outputs": []
    },
    {
      "cell_type": "code",
      "metadata": {
        "colab": {
          "base_uri": "https://localhost:8080/"
        },
        "id": "r5gACj8TIb8c",
        "outputId": "2a5eeabe-1d82-4724-bc6d-bd1130a69d86"
      },
      "source": [
        "person"
      ],
      "execution_count": 286,
      "outputs": [
        {
          "output_type": "execute_result",
          "data": {
            "text/plain": [
              "{'age': 16, 'name': '홍길동', 'phones': ['02-1111-2222', '010-3333-4444']}"
            ]
          },
          "metadata": {},
          "execution_count": 286
        }
      ]
    },
    {
      "cell_type": "code",
      "metadata": {
        "colab": {
          "base_uri": "https://localhost:8080/"
        },
        "id": "QiepfhOlCqIO",
        "outputId": "fed9ef49-da6e-4a7e-eeed-e1e34625858a"
      },
      "source": [
        "type(person) # person은 파이썬 dict 클래스 타입의 객체"
      ],
      "execution_count": 287,
      "outputs": [
        {
          "output_type": "execute_result",
          "data": {
            "text/plain": [
              "dict"
            ]
          },
          "metadata": {},
          "execution_count": 287
        }
      ]
    },
    {
      "cell_type": "code",
      "metadata": {
        "colab": {
          "base_uri": "https://localhost:8080/",
          "height": 35
        },
        "id": "lcH6-1RkIwaK",
        "outputId": "960e65fe-0fff-4aae-b44a-8708e0a6d524"
      },
      "source": [
        "person_json= json.dumps(person)\n",
        "person_json"
      ],
      "execution_count": 288,
      "outputs": [
        {
          "output_type": "execute_result",
          "data": {
            "application/vnd.google.colaboratory.intrinsic+json": {
              "type": "string"
            },
            "text/plain": [
              "'{\"name\": \"\\\\ud64d\\\\uae38\\\\ub3d9\", \"age\": 16, \"phones\": [\"02-1111-2222\", \"010-3333-4444\"]}'"
            ]
          },
          "metadata": {},
          "execution_count": 288
        }
      ]
    },
    {
      "cell_type": "code",
      "metadata": {
        "colab": {
          "base_uri": "https://localhost:8080/"
        },
        "id": "OQHveucHJbZ5",
        "outputId": "2c5d6d17-ca98-40b3-8319-6ebbf4562a17"
      },
      "source": [
        "# json.loads(s):JSON formatted string ---> Python object(Deserialize,역직렬화)\n",
        "result=json.loads(person_json)\n",
        "result"
      ],
      "execution_count": 289,
      "outputs": [
        {
          "output_type": "execute_result",
          "data": {
            "text/plain": [
              "{'age': 16, 'name': '홍길동', 'phones': ['02-1111-2222', '010-3333-4444']}"
            ]
          },
          "metadata": {},
          "execution_count": 289
        }
      ]
    },
    {
      "cell_type": "code",
      "metadata": {
        "colab": {
          "base_uri": "https://localhost:8080/"
        },
        "id": "C2p3G8WHKIzb",
        "outputId": "a455714a-8c16-4c2d-f939-e8ca56a41edb"
      },
      "source": [
        "type(result)"
      ],
      "execution_count": 290,
      "outputs": [
        {
          "output_type": "execute_result",
          "data": {
            "text/plain": [
              "dict"
            ]
          },
          "metadata": {},
          "execution_count": 290
        }
      ]
    },
    {
      "cell_type": "markdown",
      "metadata": {
        "id": "Z8xqjpN3OX3S"
      },
      "source": [
        "## JSON 쓰기/읽기"
      ]
    },
    {
      "cell_type": "code",
      "metadata": {
        "id": "qBVc103YOdAn"
      },
      "source": [
        "with open ('gildong.json',mode='w') as f: # 파일을 텍스트 쓰기(wt) 모드로 오픈 \n",
        "  f.write(person_json)\n",
        "# with ~ as 구문 종료 후 f.close() 자동 호출됨."
      ],
      "execution_count": 291,
      "outputs": []
    },
    {
      "cell_type": "code",
      "metadata": {
        "colab": {
          "base_uri": "https://localhost:8080/"
        },
        "id": "APGjTnfkKKrq",
        "outputId": "59b0c0ce-bbdd-4b6a-842b-c20c60a73518"
      },
      "source": [
        "with open('gildong.json',mode='r') as f: # 파일을 텍스트 읽기(rt) 모드로 오픈\n",
        "  line=f.readline() # 파일에서 첫번째 줄을 읽음\n",
        "  print(line) # 파일에서 읽은 JSON 포맷의 문자열\n",
        "  gildong= json.loads(line) # string --->dict:deserialize\n",
        "  print(type(gildong))\n",
        "  print(gildong)"
      ],
      "execution_count": 292,
      "outputs": [
        {
          "output_type": "stream",
          "text": [
            "{\"name\": \"\\ud64d\\uae38\\ub3d9\", \"age\": 16, \"phones\": [\"02-1111-2222\", \"010-3333-4444\"]}\n",
            "<class 'dict'>\n",
            "{'name': '홍길동', 'age': 16, 'phones': ['02-1111-2222', '010-3333-4444']}\n"
          ],
          "name": "stdout"
        }
      ]
    },
    {
      "cell_type": "code",
      "metadata": {
        "id": "1X4n7ltbQ0oW"
      },
      "source": [
        "with open('movies.json',mode='w')as f:\n",
        "  # dict 객체 생성\n",
        "  movie1={'mid':1,'title':'모가디슈','genre':'action'}\n",
        "  movie2={'mid':2,'title':'black widow'}\n",
        "  movie3={'mid':3,'title':'씽크홀','genre':'comedy'}\n",
        "   # dict ---> json formatted string\n",
        "  m1_s=json.dumps(movie1)\n",
        "  m2_s=json.dumps(movie2)\n",
        "  m3_s=json.dumps(movie3)\n",
        "  # 3개의 문자열을 한줄씩 파일에 write\n",
        "  f.write(m1_s+'\\n') # '\\n': new line(줄바꿈)\n",
        "  f.write(m2_s+'\\n')\n",
        "  f.write(m3_s+'\\n')"
      ],
      "execution_count": 293,
      "outputs": []
    },
    {
      "cell_type": "code",
      "metadata": {
        "colab": {
          "base_uri": "https://localhost:8080/"
        },
        "id": "T0HCaEM7UM15",
        "outputId": "bb11b191-f1fd-4695-cec4-7e2e42324a94"
      },
      "source": [
        "# 파일에서 한줄씩 읽으면서 dict 객체로 변환하고 리스트에 추가\n",
        "movies=[] # 한줄씩 읽고 변환한 객체를 저장할 리스트\n",
        "with open('movies.json',mode='r') as f: #파일을 텍스트 읽기(rt) 모드로 open\n",
        "  for line in f: # 파일에서 한줄씩 읽으면서 반복\n",
        "    m=json.loads(line.strip()) #json formatted string ---> dict\n",
        "    movies.append(m) # dict 객체를 리스트에 추가\n",
        "\n",
        "movies # dict 객체를 아이템으로 갖는 리스트 "
      ],
      "execution_count": 294,
      "outputs": [
        {
          "output_type": "execute_result",
          "data": {
            "text/plain": [
              "[{'genre': 'action', 'mid': 1, 'title': '모가디슈'},\n",
              " {'mid': 2, 'title': 'black widow'},\n",
              " {'genre': 'comedy', 'mid': 3, 'title': '씽크홀'}]"
            ]
          },
          "metadata": {},
          "execution_count": 294
        }
      ]
    },
    {
      "cell_type": "code",
      "metadata": {
        "colab": {
          "base_uri": "https://localhost:8080/"
        },
        "id": "SFBy1A38Wj0I",
        "outputId": "f429cfa7-db00-4d5f-8821-b623c556ffb1"
      },
      "source": [
        "# list comprehension\n",
        "with open('movies.json',mode='r') as f:\n",
        "  movies_2 = [json.loads(s.strip()) for s in f]\n",
        "movies_2  "
      ],
      "execution_count": 295,
      "outputs": [
        {
          "output_type": "execute_result",
          "data": {
            "text/plain": [
              "[{'genre': 'action', 'mid': 1, 'title': '모가디슈'},\n",
              " {'mid': 2, 'title': 'black widow'},\n",
              " {'genre': 'comedy', 'mid': 3, 'title': '씽크홀'}]"
            ]
          },
          "metadata": {},
          "execution_count": 295
        }
      ]
    },
    {
      "cell_type": "code",
      "metadata": {
        "id": "d4HYzShxXcex"
      },
      "source": [
        "movies_df=pd.DataFrame(movies)"
      ],
      "execution_count": 296,
      "outputs": []
    },
    {
      "cell_type": "code",
      "metadata": {
        "colab": {
          "base_uri": "https://localhost:8080/",
          "height": 142
        },
        "id": "bwC24bToXhKs",
        "outputId": "9520a7f0-587a-4969-f0de-4cfee855c654"
      },
      "source": [
        "movies_df"
      ],
      "execution_count": 297,
      "outputs": [
        {
          "output_type": "execute_result",
          "data": {
            "text/html": [
              "<div>\n",
              "<style scoped>\n",
              "    .dataframe tbody tr th:only-of-type {\n",
              "        vertical-align: middle;\n",
              "    }\n",
              "\n",
              "    .dataframe tbody tr th {\n",
              "        vertical-align: top;\n",
              "    }\n",
              "\n",
              "    .dataframe thead th {\n",
              "        text-align: right;\n",
              "    }\n",
              "</style>\n",
              "<table border=\"1\" class=\"dataframe\">\n",
              "  <thead>\n",
              "    <tr style=\"text-align: right;\">\n",
              "      <th></th>\n",
              "      <th>mid</th>\n",
              "      <th>title</th>\n",
              "      <th>genre</th>\n",
              "    </tr>\n",
              "  </thead>\n",
              "  <tbody>\n",
              "    <tr>\n",
              "      <th>0</th>\n",
              "      <td>1</td>\n",
              "      <td>모가디슈</td>\n",
              "      <td>action</td>\n",
              "    </tr>\n",
              "    <tr>\n",
              "      <th>1</th>\n",
              "      <td>2</td>\n",
              "      <td>black widow</td>\n",
              "      <td>NaN</td>\n",
              "    </tr>\n",
              "    <tr>\n",
              "      <th>2</th>\n",
              "      <td>3</td>\n",
              "      <td>씽크홀</td>\n",
              "      <td>comedy</td>\n",
              "    </tr>\n",
              "  </tbody>\n",
              "</table>\n",
              "</div>"
            ],
            "text/plain": [
              "   mid        title   genre\n",
              "0    1         모가디슈  action\n",
              "1    2  black widow     NaN\n",
              "2    3          씽크홀  comedy"
            ]
          },
          "metadata": {},
          "execution_count": 297
        }
      ]
    },
    {
      "cell_type": "markdown",
      "metadata": {
        "id": "gvqoC7LZdTU9"
      },
      "source": [
        "# bitly 데이터 셋\n",
        "\n",
        "* https://github.com/wesm/pydata-book/raw/2nd-edition/datasets/bitly_usagov/example.txt 파일을 다운로드\n",
        "  * bit.ly 서비스를 이용해서 usa.gov 사이트에 접속한 클라이언트들의 로그 정보를 저장한 파일.\n",
        "* 다운로드한 파일을 colab 세션 저장소에 업로드\n",
        "* 업로드한 파일을 읽기 모드로 오픈\n",
        "* 파일의 첫번째 줄부터 마지막 줄까지 한줄씩 읽으면서 반복\n",
        "  * 읽은 JSON 포맷의 문자열을 dict 타입 객체로 변환하고 리스트에 추가(append)\n",
        "* 파일의 내용이 모두 append 된 리스트를 DataFrame으로 생성\n",
        "* 데이터 분석"
      ]
    },
    {
      "cell_type": "code",
      "metadata": {
        "id": "A-82_9Vn3bHu"
      },
      "source": [
        "# 업로드한 파일을 읽고 리스트에 데이터들을 추가\n",
        "with open(file='example.txt', mode='r')as f:\n",
        "  records=[json.loads(s.strip())for s in f]"
      ],
      "execution_count": 298,
      "outputs": []
    },
    {
      "cell_type": "code",
      "metadata": {
        "colab": {
          "base_uri": "https://localhost:8080/"
        },
        "id": "YsMuDE2RkW--",
        "outputId": "520149ef-cc03-4b91-a671-f6e645f8128e"
      },
      "source": [
        "len(records) # 3560개 dict를 가지고있는 리스트"
      ],
      "execution_count": 299,
      "outputs": [
        {
          "output_type": "execute_result",
          "data": {
            "text/plain": [
              "3560"
            ]
          },
          "metadata": {},
          "execution_count": 299
        }
      ]
    },
    {
      "cell_type": "code",
      "metadata": {
        "colab": {
          "base_uri": "https://localhost:8080/"
        },
        "id": "pvcV_APqi2HT",
        "outputId": "075ce566-a8fc-4030-c14d-45c39351ae9f"
      },
      "source": [
        "# 리스트의 첫번째 아이템(dict)\n",
        "records[0]"
      ],
      "execution_count": 300,
      "outputs": [
        {
          "output_type": "execute_result",
          "data": {
            "text/plain": [
              "{'a': 'Mozilla/5.0 (Windows NT 6.1; WOW64) AppleWebKit/535.11 (KHTML, like Gecko) Chrome/17.0.963.78 Safari/535.11',\n",
              " 'al': 'en-US,en;q=0.8',\n",
              " 'c': 'US',\n",
              " 'cy': 'Danvers',\n",
              " 'g': 'A6qOVH',\n",
              " 'gr': 'MA',\n",
              " 'h': 'wfLQtf',\n",
              " 'hc': 1331822918,\n",
              " 'hh': '1.usa.gov',\n",
              " 'l': 'orofrog',\n",
              " 'll': [42.576698, -70.954903],\n",
              " 'nk': 1,\n",
              " 'r': 'http://www.facebook.com/l/7AQEFzjSi/1.usa.gov/wfLQtf',\n",
              " 't': 1331923247,\n",
              " 'tz': 'America/New_York',\n",
              " 'u': 'http://www.ncbi.nlm.nih.gov/pubmed/22415991'}"
            ]
          },
          "metadata": {},
          "execution_count": 300
        }
      ]
    },
    {
      "cell_type": "code",
      "metadata": {
        "colab": {
          "base_uri": "https://localhost:8080/"
        },
        "id": "ayN7wBRqjy65",
        "outputId": "7cec0213-a356-4ce6-f472-70ed99c98aa4"
      },
      "source": [
        "#리스트의 가장 마지막 아이템( dict)\n",
        "records[-1]"
      ],
      "execution_count": 301,
      "outputs": [
        {
          "output_type": "execute_result",
          "data": {
            "text/plain": [
              "{'a': 'Mozilla/4.0 (compatible; MSIE 8.0; Windows NT 6.1; Trident/4.0; SLCC2; .NET CLR 2.0.50727; .NET CLR 3.5.30729; .NET CLR 3.0.30729; Media Center PC 6.0; MS-RTC LM 8; .NET4.0C; .NET4.0E; .NET CLR 1.1.4322)',\n",
              " 'al': 'en-US',\n",
              " 'c': 'US',\n",
              " 'cy': 'Mc Lean',\n",
              " 'g': 'qxKrTK',\n",
              " 'gr': 'VA',\n",
              " 'h': 'qxKrTK',\n",
              " 'hc': 1312897670,\n",
              " 'hh': '1.usa.gov',\n",
              " 'l': 'bitly',\n",
              " 'll': [38.935799, -77.162102],\n",
              " 'nk': 0,\n",
              " 'r': 'http://t.co/OEEEvwjU',\n",
              " 't': 1331926849,\n",
              " 'tz': 'America/New_York',\n",
              " 'u': 'http://herndon-va.gov/Content/public_safety/Public_Information/weekly_reports.aspx?cnlid=1736'}"
            ]
          },
          "metadata": {},
          "execution_count": 301
        }
      ]
    },
    {
      "cell_type": "code",
      "metadata": {
        "id": "mDWxNJO239bV"
      },
      "source": [
        "# dict들의 list를 DataFrame으로 변환\n",
        "df=pd.DataFrame(records)"
      ],
      "execution_count": 302,
      "outputs": []
    },
    {
      "cell_type": "code",
      "metadata": {
        "colab": {
          "base_uri": "https://localhost:8080/",
          "height": 344
        },
        "id": "0aotP5xC4Kr1",
        "outputId": "e87e0bd2-b72a-4696-a62e-9dc273119461"
      },
      "source": [
        "df.head()\n",
        "# list의 각 아이템은 DataFrame 의 행(row)으로 변환\n",
        "# dict의 key는 DateFrame의 컬럼 이름으로 변환\n",
        "# dict의 value는 해당 컬럼의 값으로 변환\n"
      ],
      "execution_count": 303,
      "outputs": [
        {
          "output_type": "execute_result",
          "data": {
            "text/html": [
              "<div>\n",
              "<style scoped>\n",
              "    .dataframe tbody tr th:only-of-type {\n",
              "        vertical-align: middle;\n",
              "    }\n",
              "\n",
              "    .dataframe tbody tr th {\n",
              "        vertical-align: top;\n",
              "    }\n",
              "\n",
              "    .dataframe thead th {\n",
              "        text-align: right;\n",
              "    }\n",
              "</style>\n",
              "<table border=\"1\" class=\"dataframe\">\n",
              "  <thead>\n",
              "    <tr style=\"text-align: right;\">\n",
              "      <th></th>\n",
              "      <th>a</th>\n",
              "      <th>c</th>\n",
              "      <th>nk</th>\n",
              "      <th>tz</th>\n",
              "      <th>gr</th>\n",
              "      <th>g</th>\n",
              "      <th>h</th>\n",
              "      <th>l</th>\n",
              "      <th>al</th>\n",
              "      <th>hh</th>\n",
              "      <th>r</th>\n",
              "      <th>u</th>\n",
              "      <th>t</th>\n",
              "      <th>hc</th>\n",
              "      <th>cy</th>\n",
              "      <th>ll</th>\n",
              "      <th>_heartbeat_</th>\n",
              "      <th>kw</th>\n",
              "    </tr>\n",
              "  </thead>\n",
              "  <tbody>\n",
              "    <tr>\n",
              "      <th>0</th>\n",
              "      <td>Mozilla/5.0 (Windows NT 6.1; WOW64) AppleWebKi...</td>\n",
              "      <td>US</td>\n",
              "      <td>1.0</td>\n",
              "      <td>America/New_York</td>\n",
              "      <td>MA</td>\n",
              "      <td>A6qOVH</td>\n",
              "      <td>wfLQtf</td>\n",
              "      <td>orofrog</td>\n",
              "      <td>en-US,en;q=0.8</td>\n",
              "      <td>1.usa.gov</td>\n",
              "      <td>http://www.facebook.com/l/7AQEFzjSi/1.usa.gov/...</td>\n",
              "      <td>http://www.ncbi.nlm.nih.gov/pubmed/22415991</td>\n",
              "      <td>1.331923e+09</td>\n",
              "      <td>1.331823e+09</td>\n",
              "      <td>Danvers</td>\n",
              "      <td>[42.576698, -70.954903]</td>\n",
              "      <td>NaN</td>\n",
              "      <td>NaN</td>\n",
              "    </tr>\n",
              "    <tr>\n",
              "      <th>1</th>\n",
              "      <td>GoogleMaps/RochesterNY</td>\n",
              "      <td>US</td>\n",
              "      <td>0.0</td>\n",
              "      <td>America/Denver</td>\n",
              "      <td>UT</td>\n",
              "      <td>mwszkS</td>\n",
              "      <td>mwszkS</td>\n",
              "      <td>bitly</td>\n",
              "      <td>NaN</td>\n",
              "      <td>j.mp</td>\n",
              "      <td>http://www.AwareMap.com/</td>\n",
              "      <td>http://www.monroecounty.gov/etc/911/rss.php</td>\n",
              "      <td>1.331923e+09</td>\n",
              "      <td>1.308262e+09</td>\n",
              "      <td>Provo</td>\n",
              "      <td>[40.218102, -111.613297]</td>\n",
              "      <td>NaN</td>\n",
              "      <td>NaN</td>\n",
              "    </tr>\n",
              "    <tr>\n",
              "      <th>2</th>\n",
              "      <td>Mozilla/4.0 (compatible; MSIE 8.0; Windows NT ...</td>\n",
              "      <td>US</td>\n",
              "      <td>1.0</td>\n",
              "      <td>America/New_York</td>\n",
              "      <td>DC</td>\n",
              "      <td>xxr3Qb</td>\n",
              "      <td>xxr3Qb</td>\n",
              "      <td>bitly</td>\n",
              "      <td>en-US</td>\n",
              "      <td>1.usa.gov</td>\n",
              "      <td>http://t.co/03elZC4Q</td>\n",
              "      <td>http://boxer.senate.gov/en/press/releases/0316...</td>\n",
              "      <td>1.331923e+09</td>\n",
              "      <td>1.331920e+09</td>\n",
              "      <td>Washington</td>\n",
              "      <td>[38.9007, -77.043098]</td>\n",
              "      <td>NaN</td>\n",
              "      <td>NaN</td>\n",
              "    </tr>\n",
              "    <tr>\n",
              "      <th>3</th>\n",
              "      <td>Mozilla/5.0 (Macintosh; Intel Mac OS X 10_6_8)...</td>\n",
              "      <td>BR</td>\n",
              "      <td>0.0</td>\n",
              "      <td>America/Sao_Paulo</td>\n",
              "      <td>27</td>\n",
              "      <td>zCaLwp</td>\n",
              "      <td>zUtuOu</td>\n",
              "      <td>alelex88</td>\n",
              "      <td>pt-br</td>\n",
              "      <td>1.usa.gov</td>\n",
              "      <td>direct</td>\n",
              "      <td>http://apod.nasa.gov/apod/ap120312.html</td>\n",
              "      <td>1.331923e+09</td>\n",
              "      <td>1.331923e+09</td>\n",
              "      <td>Braz</td>\n",
              "      <td>[-23.549999, -46.616699]</td>\n",
              "      <td>NaN</td>\n",
              "      <td>NaN</td>\n",
              "    </tr>\n",
              "    <tr>\n",
              "      <th>4</th>\n",
              "      <td>Mozilla/5.0 (Windows NT 6.1; WOW64) AppleWebKi...</td>\n",
              "      <td>US</td>\n",
              "      <td>0.0</td>\n",
              "      <td>America/New_York</td>\n",
              "      <td>MA</td>\n",
              "      <td>9b6kNl</td>\n",
              "      <td>9b6kNl</td>\n",
              "      <td>bitly</td>\n",
              "      <td>en-US,en;q=0.8</td>\n",
              "      <td>bit.ly</td>\n",
              "      <td>http://www.shrewsbury-ma.gov/selco/</td>\n",
              "      <td>http://www.shrewsbury-ma.gov/egov/gallery/1341...</td>\n",
              "      <td>1.331923e+09</td>\n",
              "      <td>1.273672e+09</td>\n",
              "      <td>Shrewsbury</td>\n",
              "      <td>[42.286499, -71.714699]</td>\n",
              "      <td>NaN</td>\n",
              "      <td>NaN</td>\n",
              "    </tr>\n",
              "  </tbody>\n",
              "</table>\n",
              "</div>"
            ],
            "text/plain": [
              "                                                   a   c  ...  _heartbeat_   kw\n",
              "0  Mozilla/5.0 (Windows NT 6.1; WOW64) AppleWebKi...  US  ...          NaN  NaN\n",
              "1                             GoogleMaps/RochesterNY  US  ...          NaN  NaN\n",
              "2  Mozilla/4.0 (compatible; MSIE 8.0; Windows NT ...  US  ...          NaN  NaN\n",
              "3  Mozilla/5.0 (Macintosh; Intel Mac OS X 10_6_8)...  BR  ...          NaN  NaN\n",
              "4  Mozilla/5.0 (Windows NT 6.1; WOW64) AppleWebKi...  US  ...          NaN  NaN\n",
              "\n",
              "[5 rows x 18 columns]"
            ]
          },
          "metadata": {},
          "execution_count": 303
        }
      ]
    },
    {
      "cell_type": "code",
      "metadata": {
        "colab": {
          "base_uri": "https://localhost:8080/"
        },
        "id": "KJQxHKar4rRN",
        "outputId": "3eb4f405-3db3-4ea3-ff08-a684a2fb0b43"
      },
      "source": [
        "df.info()\n",
        "# json(반정형 데이터) 데이터들을 DataFrame(정형데이터)으로 변환하면 보통 NA들이 많이 생기게 됨."
      ],
      "execution_count": 304,
      "outputs": [
        {
          "output_type": "stream",
          "text": [
            "<class 'pandas.core.frame.DataFrame'>\n",
            "RangeIndex: 3560 entries, 0 to 3559\n",
            "Data columns (total 18 columns):\n",
            " #   Column       Non-Null Count  Dtype  \n",
            "---  ------       --------------  -----  \n",
            " 0   a            3440 non-null   object \n",
            " 1   c            2919 non-null   object \n",
            " 2   nk           3440 non-null   float64\n",
            " 3   tz           3440 non-null   object \n",
            " 4   gr           2919 non-null   object \n",
            " 5   g            3440 non-null   object \n",
            " 6   h            3440 non-null   object \n",
            " 7   l            3440 non-null   object \n",
            " 8   al           3094 non-null   object \n",
            " 9   hh           3440 non-null   object \n",
            " 10  r            3440 non-null   object \n",
            " 11  u            3440 non-null   object \n",
            " 12  t            3440 non-null   float64\n",
            " 13  hc           3440 non-null   float64\n",
            " 14  cy           2919 non-null   object \n",
            " 15  ll           2919 non-null   object \n",
            " 16  _heartbeat_  120 non-null    float64\n",
            " 17  kw           93 non-null     object \n",
            "dtypes: float64(4), object(14)\n",
            "memory usage: 500.8+ KB\n"
          ],
          "name": "stdout"
        }
      ]
    },
    {
      "cell_type": "markdown",
      "metadata": {
        "id": "BnEBAM298Cw_"
      },
      "source": [
        "# 사용자 접속 지역(시간대, timezone)분\n",
        "\n",
        "* tz에는 몇개의 시간대?\n",
        "* 사용자가 가장 많이 접속한 지역(시간대)?\n"
      ]
    },
    {
      "cell_type": "code",
      "metadata": {
        "colab": {
          "base_uri": "https://localhost:8080/"
        },
        "id": "84cEyM758Fz6",
        "outputId": "32c6b042-bb54-415d-e8df-58276a8364f8"
      },
      "source": [
        "df['tz'].value_counts()"
      ],
      "execution_count": 305,
      "outputs": [
        {
          "output_type": "execute_result",
          "data": {
            "text/plain": [
              "America/New_York                  1251\n",
              "                                   521\n",
              "America/Chicago                    400\n",
              "America/Los_Angeles                382\n",
              "America/Denver                     191\n",
              "                                  ... \n",
              "America/Argentina/Buenos_Aires       1\n",
              "Asia/Novosibirsk                     1\n",
              "America/Monterrey                    1\n",
              "Europe/Uzhgorod                      1\n",
              "Australia/Queensland                 1\n",
              "Name: tz, Length: 97, dtype: int64"
            ]
          },
          "metadata": {},
          "execution_count": 305
        }
      ]
    },
    {
      "cell_type": "code",
      "metadata": {
        "id": "aHyuRdFL-InG"
      },
      "source": [
        "#데이터를 가공 (cleaning)하기 위한 복사본을 만듦.\n",
        "df_clean= df.copy()"
      ],
      "execution_count": 306,
      "outputs": []
    },
    {
      "cell_type": "code",
      "metadata": {
        "id": "h6jgUyXZ9xkB"
      },
      "source": [
        "# tz 컬럼의 NA값들을 'Missing'문자열로 대체\n",
        "df_clean['tz']=df_clean['tz'].fillna('Missing')"
      ],
      "execution_count": 307,
      "outputs": []
    },
    {
      "cell_type": "code",
      "metadata": {
        "colab": {
          "base_uri": "https://localhost:8080/"
        },
        "id": "b35Lzs7n-xvn",
        "outputId": "88ef1c1b-0c03-4c54-a101-640f1fa87fa9"
      },
      "source": [
        "df_clean['tz'].value_counts()"
      ],
      "execution_count": 308,
      "outputs": [
        {
          "output_type": "execute_result",
          "data": {
            "text/plain": [
              "America/New_York        1251\n",
              "                         521\n",
              "America/Chicago          400\n",
              "America/Los_Angeles      382\n",
              "America/Denver           191\n",
              "                        ... \n",
              "America/Monterrey          1\n",
              "Asia/Novosibirsk           1\n",
              "America/Caracas            1\n",
              "America/Costa_Rica         1\n",
              "Australia/Queensland       1\n",
              "Name: tz, Length: 98, dtype: int64"
            ]
          },
          "metadata": {},
          "execution_count": 308
        }
      ]
    },
    {
      "cell_type": "code",
      "metadata": {
        "id": "KKn9b_E2-8LZ"
      },
      "source": [
        "# tz 컬럼의 빈 문자열('')을 'Unknown'문자열로 대체\n",
        "df_clean.loc[df_clean.tz=='','tz']='Unknown'"
      ],
      "execution_count": 309,
      "outputs": []
    },
    {
      "cell_type": "code",
      "metadata": {
        "colab": {
          "base_uri": "https://localhost:8080/"
        },
        "id": "nkkXphhNABf1",
        "outputId": "bf732a10-20dd-4d57-88d1-fe03945f822d"
      },
      "source": [
        "top10_tz=df_clean['tz'].value_counts().head(10)\n",
        "top10_tz"
      ],
      "execution_count": 310,
      "outputs": [
        {
          "output_type": "execute_result",
          "data": {
            "text/plain": [
              "America/New_York       1251\n",
              "Unknown                 521\n",
              "America/Chicago         400\n",
              "America/Los_Angeles     382\n",
              "America/Denver          191\n",
              "Missing                 120\n",
              "Europe/London            74\n",
              "Asia/Tokyo               37\n",
              "Pacific/Honolulu         36\n",
              "Europe/Madrid            35\n",
              "Name: tz, dtype: int64"
            ]
          },
          "metadata": {},
          "execution_count": 310
        }
      ]
    },
    {
      "cell_type": "code",
      "metadata": {
        "colab": {
          "base_uri": "https://localhost:8080/",
          "height": 283
        },
        "id": "1VlgqsU0ASwv",
        "outputId": "2ba00f47-e702-49a2-e9b7-79375d3b055f"
      },
      "source": [
        "# 사용자들이 가장많이 접속한 시간대(timezone)상위 10개를 시각화\n",
        "sns.barplot(y=top10_tz.index,x=top10_tz.values)"
      ],
      "execution_count": 311,
      "outputs": [
        {
          "output_type": "execute_result",
          "data": {
            "text/plain": [
              "<matplotlib.axes._subplots.AxesSubplot at 0x7fa2bb6698d0>"
            ]
          },
          "metadata": {},
          "execution_count": 311
        },
        {
          "output_type": "display_data",
          "data": {
            "image/png": "[encoded data removed]",
            "text/plain": [
              "<Figure size 432x288 with 1 Axes>"
            ]
          },
          "metadata": {
            "needs_background": "light"
          }
        }
      ]
    },
    {
      "cell_type": "code",
      "metadata": {
        "colab": {
          "base_uri": "https://localhost:8080/"
        },
        "id": "huR3UQysGEVA",
        "outputId": "23c774fe-7001-411b-9706-744f1b538c7c"
      },
      "source": [
        "df_clean['tz'].value_counts().tail(20)\n"
      ],
      "execution_count": 312,
      "outputs": [
        {
          "output_type": "execute_result",
          "data": {
            "text/plain": [
              "America/St_Kitts                  1\n",
              "America/Tegucigalpa               1\n",
              "Europe/Volgograd                  1\n",
              "Africa/Johannesburg               1\n",
              "America/Argentina/Cordoba         1\n",
              "Asia/Yekaterinburg                1\n",
              "America/Monterrey                 1\n",
              "Asia/Manila                       1\n",
              "America/Montevideo                1\n",
              "America/Argentina/Mendoza         1\n",
              "Australia/Queensland              1\n",
              "America/Argentina/Buenos_Aires    1\n",
              "America/Mazatlan                  1\n",
              "Europe/Sofia                      1\n",
              "Africa/Casablanca                 1\n",
              "Asia/Novosibirsk                  1\n",
              "America/Santo_Domingo             1\n",
              "America/Caracas                   1\n",
              "Asia/Nicosia                      1\n",
              "America/Costa_Rica                1\n",
              "Name: tz, dtype: int64"
            ]
          },
          "metadata": {},
          "execution_count": 312
        }
      ]
    },
    {
      "cell_type": "code",
      "metadata": {
        "colab": {
          "base_uri": "https://localhost:8080/",
          "height": 395
        },
        "id": "7KQiBPzIGjEp",
        "outputId": "6b4b00e1-1470-45eb-9afc-181a6211d601"
      },
      "source": [
        "# 한국 서울 표준시간대 (Asia/Seoul)가 데이터 프레임에 등장할까요?\n",
        "# df_clean[df_clean['tz']=='Asia/Seoul']\n",
        "df_clean[df_clean.tz.str.lower().str.contains('seoul')]"
      ],
      "execution_count": 313,
      "outputs": [
        {
          "output_type": "execute_result",
          "data": {
            "text/html": [
              "<div>\n",
              "<style scoped>\n",
              "    .dataframe tbody tr th:only-of-type {\n",
              "        vertical-align: middle;\n",
              "    }\n",
              "\n",
              "    .dataframe tbody tr th {\n",
              "        vertical-align: top;\n",
              "    }\n",
              "\n",
              "    .dataframe thead th {\n",
              "        text-align: right;\n",
              "    }\n",
              "</style>\n",
              "<table border=\"1\" class=\"dataframe\">\n",
              "  <thead>\n",
              "    <tr style=\"text-align: right;\">\n",
              "      <th></th>\n",
              "      <th>a</th>\n",
              "      <th>c</th>\n",
              "      <th>nk</th>\n",
              "      <th>tz</th>\n",
              "      <th>gr</th>\n",
              "      <th>g</th>\n",
              "      <th>h</th>\n",
              "      <th>l</th>\n",
              "      <th>al</th>\n",
              "      <th>hh</th>\n",
              "      <th>r</th>\n",
              "      <th>u</th>\n",
              "      <th>t</th>\n",
              "      <th>hc</th>\n",
              "      <th>cy</th>\n",
              "      <th>ll</th>\n",
              "      <th>_heartbeat_</th>\n",
              "      <th>kw</th>\n",
              "    </tr>\n",
              "  </thead>\n",
              "  <tbody>\n",
              "    <tr>\n",
              "      <th>1428</th>\n",
              "      <td>Mozilla/5.0 (Windows NT 5.1) AppleWebKit/535.1...</td>\n",
              "      <td>KR</td>\n",
              "      <td>1.0</td>\n",
              "      <td>Asia/Seoul</td>\n",
              "      <td>11</td>\n",
              "      <td>y7mqmw</td>\n",
              "      <td>w41aUb</td>\n",
              "      <td>rebroth</td>\n",
              "      <td>en-US,en;q=0.8</td>\n",
              "      <td>1.usa.gov</td>\n",
              "      <td>http://t.co/l16apDbA</td>\n",
              "      <td>http://apod.nasa.gov/apod/ap120314.html</td>\n",
              "      <td>1.331925e+09</td>\n",
              "      <td>1.331739e+09</td>\n",
              "      <td>Seoul</td>\n",
              "      <td>[37.566399, 126.999702]</td>\n",
              "      <td>NaN</td>\n",
              "      <td>NaN</td>\n",
              "    </tr>\n",
              "    <tr>\n",
              "      <th>3154</th>\n",
              "      <td>Mozilla/5.0 (iPad; U; CPU iPhone OS 5_0_1 like...</td>\n",
              "      <td>KR</td>\n",
              "      <td>0.0</td>\n",
              "      <td>Asia/Seoul</td>\n",
              "      <td>11</td>\n",
              "      <td>wcndER</td>\n",
              "      <td>zkpJBR</td>\n",
              "      <td>bnjacobs</td>\n",
              "      <td>ko-kr</td>\n",
              "      <td>1.usa.gov</td>\n",
              "      <td>http://m.facebook.com/l.php?u=http%3A%2F%2F1.u...</td>\n",
              "      <td>http://www.nasa.gov/mission_pages/nustar/main/...</td>\n",
              "      <td>1.331926e+09</td>\n",
              "      <td>1.331923e+09</td>\n",
              "      <td>Seoul</td>\n",
              "      <td>[37.566399, 126.999702]</td>\n",
              "      <td>NaN</td>\n",
              "      <td>NaN</td>\n",
              "    </tr>\n",
              "    <tr>\n",
              "      <th>3175</th>\n",
              "      <td>Mozilla/5.0 (iPad; U; CPU iPhone OS 5_0_1 like...</td>\n",
              "      <td>KR</td>\n",
              "      <td>1.0</td>\n",
              "      <td>Asia/Seoul</td>\n",
              "      <td>11</td>\n",
              "      <td>wcndER</td>\n",
              "      <td>zkpJBR</td>\n",
              "      <td>bnjacobs</td>\n",
              "      <td>ko-kr</td>\n",
              "      <td>1.usa.gov</td>\n",
              "      <td>http://m.facebook.com/l.php?u=http%3A%2F%2F1.u...</td>\n",
              "      <td>http://www.nasa.gov/mission_pages/nustar/main/...</td>\n",
              "      <td>1.331926e+09</td>\n",
              "      <td>1.331923e+09</td>\n",
              "      <td>Seoul</td>\n",
              "      <td>[37.566399, 126.999702]</td>\n",
              "      <td>NaN</td>\n",
              "      <td>NaN</td>\n",
              "    </tr>\n",
              "    <tr>\n",
              "      <th>3496</th>\n",
              "      <td>Mozilla/5.0 (iPhone; CPU iPhone OS 5_0_1 like ...</td>\n",
              "      <td>KR</td>\n",
              "      <td>0.0</td>\n",
              "      <td>Asia/Seoul</td>\n",
              "      <td>11</td>\n",
              "      <td>wQacbF</td>\n",
              "      <td>AsWr9f</td>\n",
              "      <td>addthis</td>\n",
              "      <td>en-us</td>\n",
              "      <td>1.usa.gov</td>\n",
              "      <td>https://twitter.com/whitehouse/status/18067782...</td>\n",
              "      <td>http://www.whitehouse.gov/energy/gasprices#.T2...</td>\n",
              "      <td>1.331927e+09</td>\n",
              "      <td>1.331912e+09</td>\n",
              "      <td>Seoul</td>\n",
              "      <td>[37.566399, 126.999702]</td>\n",
              "      <td>NaN</td>\n",
              "      <td>NaN</td>\n",
              "    </tr>\n",
              "    <tr>\n",
              "      <th>3506</th>\n",
              "      <td>Mozilla/5.0 (iPhone; CPU iPhone OS 5_0_1 like ...</td>\n",
              "      <td>KR</td>\n",
              "      <td>0.0</td>\n",
              "      <td>Asia/Seoul</td>\n",
              "      <td>11</td>\n",
              "      <td>wQacbF</td>\n",
              "      <td>AsWr9f</td>\n",
              "      <td>addthis</td>\n",
              "      <td>en-us</td>\n",
              "      <td>1.usa.gov</td>\n",
              "      <td>direct</td>\n",
              "      <td>http://www.whitehouse.gov/energy/gasprices#.T2...</td>\n",
              "      <td>1.331927e+09</td>\n",
              "      <td>1.331912e+09</td>\n",
              "      <td>Seoul</td>\n",
              "      <td>[37.566399, 126.999702]</td>\n",
              "      <td>NaN</td>\n",
              "      <td>NaN</td>\n",
              "    </tr>\n",
              "  </tbody>\n",
              "</table>\n",
              "</div>"
            ],
            "text/plain": [
              "                                                      a   c  ...  _heartbeat_   kw\n",
              "1428  Mozilla/5.0 (Windows NT 5.1) AppleWebKit/535.1...  KR  ...          NaN  NaN\n",
              "3154  Mozilla/5.0 (iPad; U; CPU iPhone OS 5_0_1 like...  KR  ...          NaN  NaN\n",
              "3175  Mozilla/5.0 (iPad; U; CPU iPhone OS 5_0_1 like...  KR  ...          NaN  NaN\n",
              "3496  Mozilla/5.0 (iPhone; CPU iPhone OS 5_0_1 like ...  KR  ...          NaN  NaN\n",
              "3506  Mozilla/5.0 (iPhone; CPU iPhone OS 5_0_1 like ...  KR  ...          NaN  NaN\n",
              "\n",
              "[5 rows x 18 columns]"
            ]
          },
          "metadata": {},
          "execution_count": 313
        }
      ]
    },
    {
      "cell_type": "markdown",
      "metadata": {
        "id": "NKOoZRffJUVQ"
      },
      "source": [
        "## 사용자 접속 국가(c) 분석\n",
        "\n",
        "* 가장 많이 접속한 국가 상위 10개, 시각화"
      ]
    },
    {
      "cell_type": "code",
      "metadata": {
        "id": "wjtAPXyFLpi1"
      },
      "source": [
        "df_clean['c']=df_clean['c'].fillna('Missing') # NA를 ;'Missing' 으로 대체 \n",
        "df_clean.loc[df_clean.c=='','c']='Unknown' # 빈 문자열('')을 'Unknown'으로 대체"
      ],
      "execution_count": 314,
      "outputs": []
    },
    {
      "cell_type": "code",
      "metadata": {
        "colab": {
          "base_uri": "https://localhost:8080/"
        },
        "id": "qMU6jdaIJUB6",
        "outputId": "f50234e2-6f55-45bc-e56d-2440052f9995"
      },
      "source": [
        "top10_c=df_clean['c'].value_counts().head(10)\n",
        "top10_c"
      ],
      "execution_count": 315,
      "outputs": [
        {
          "output_type": "execute_result",
          "data": {
            "text/plain": [
              "US         2305\n",
              "Missing     641\n",
              "GB           74\n",
              "CA           60\n",
              "ES           37\n",
              "JP           37\n",
              "BR           35\n",
              "DE           28\n",
              "IT           27\n",
              "NL           22\n",
              "Name: c, dtype: int64"
            ]
          },
          "metadata": {},
          "execution_count": 315
        }
      ]
    },
    {
      "cell_type": "code",
      "metadata": {
        "colab": {
          "base_uri": "https://localhost:8080/",
          "height": 265
        },
        "id": "2hR39O1yKc3Y",
        "outputId": "c3d6f42d-e3d0-40c9-c6da-b9b2e620f5f3"
      },
      "source": [
        "sns.barplot(x=top10_c.values,y=top10_c.index)\n",
        "plt.show()"
      ],
      "execution_count": 316,
      "outputs": [
        {
          "output_type": "display_data",
          "data": {
            "image/png": "[encoded data removed]",
            "text/plain": [
              "<Figure size 432x288 with 1 Axes>"
            ]
          },
          "metadata": {
            "needs_background": "light"
          }
        }
      ]
    },
    {
      "cell_type": "code",
      "metadata": {
        "colab": {
          "base_uri": "https://localhost:8080/"
        },
        "id": "Pa0KZuZsNQZL",
        "outputId": "9bf0cdf0-5ca4-47fc-e381-9f1fdc200204"
      },
      "source": [
        "# 미국과 NA(Missing)를 제외한 상위 10개 국가 \n",
        "top10_c2=df_clean['c'].value_counts().iloc[2:12]\n",
        "top10_c2"
      ],
      "execution_count": 317,
      "outputs": [
        {
          "output_type": "execute_result",
          "data": {
            "text/plain": [
              "GB    74\n",
              "CA    60\n",
              "ES    37\n",
              "JP    37\n",
              "BR    35\n",
              "DE    28\n",
              "IT    27\n",
              "NL    22\n",
              "MX    19\n",
              "PL    16\n",
              "Name: c, dtype: int64"
            ]
          },
          "metadata": {},
          "execution_count": 317
        }
      ]
    },
    {
      "cell_type": "code",
      "metadata": {
        "colab": {
          "base_uri": "https://localhost:8080/",
          "height": 265
        },
        "id": "KmYXdqB0OQjq",
        "outputId": "6f41c17e-feac-475a-d78d-16774a60d50a"
      },
      "source": [
        "sns.barplot(x=top10_c2.values,y=top10_c2.index)\n",
        "plt.show()"
      ],
      "execution_count": 318,
      "outputs": [
        {
          "output_type": "display_data",
          "data": {
            "image/png": "[encoded data removed]",
            "text/plain": [
              "<Figure size 432x288 with 1 Axes>"
            ]
          },
          "metadata": {
            "needs_background": "light"
          }
        }
      ]
    },
    {
      "cell_type": "code",
      "metadata": {
        "colab": {
          "base_uri": "https://localhost:8080/"
        },
        "id": "2r4dOKvoT8yn",
        "outputId": "16cfcd53-086e-48bd-825a-f67980eaf070"
      },
      "source": [
        "df_clean[(df_clean.c!='Us')&(df_clean.c!='Missing')]['c'].value_counts().head(10)"
      ],
      "execution_count": 319,
      "outputs": [
        {
          "output_type": "execute_result",
          "data": {
            "text/plain": [
              "US    2305\n",
              "GB      74\n",
              "CA      60\n",
              "JP      37\n",
              "ES      37\n",
              "BR      35\n",
              "DE      28\n",
              "IT      27\n",
              "NL      22\n",
              "MX      19\n",
              "Name: c, dtype: int64"
            ]
          },
          "metadata": {},
          "execution_count": 319
        }
      ]
    },
    {
      "cell_type": "markdown",
      "metadata": {
        "id": "YvaRDkSQVDlI"
      },
      "source": [
        "## 사용자의 접속 환경(OS) 분석\n",
        "\n",
        "* 데이터프레임의 `a` 컬럼의 문자열을 분석하면 OS 정보를 일부 알 수 있음."
      ]
    },
    {
      "cell_type": "markdown",
      "metadata": {
        "id": "YoevwwJlWWC8"
      },
      "source": [
        "NA 처리방법\n",
        "\n",
        "* NA를 다른 값으로 대체\n",
        "  * 평균값 대체, 중앙값 대체, 특정값(예: 0) 대체 \n",
        "  * 이전 행의 값으로 대체, 다음 행의 값으로 대체 \n",
        "* NA가 포함된 행(row)을 삭제\n",
        "  * NA가 많지 않은 경우에(행들을 삭제해도 경향이 많이 바뀌지 않을때)"
      ]
    },
    {
      "cell_type": "code",
      "metadata": {
        "colab": {
          "base_uri": "https://localhost:8080/"
        },
        "id": "5WR6QxX6VPzA",
        "outputId": "5ffb554f-8f0f-4ce2-ab6f-d30a1ce47454"
      },
      "source": [
        "df_clean.info()"
      ],
      "execution_count": 320,
      "outputs": [
        {
          "output_type": "stream",
          "text": [
            "<class 'pandas.core.frame.DataFrame'>\n",
            "RangeIndex: 3560 entries, 0 to 3559\n",
            "Data columns (total 18 columns):\n",
            " #   Column       Non-Null Count  Dtype  \n",
            "---  ------       --------------  -----  \n",
            " 0   a            3440 non-null   object \n",
            " 1   c            3560 non-null   object \n",
            " 2   nk           3440 non-null   float64\n",
            " 3   tz           3560 non-null   object \n",
            " 4   gr           2919 non-null   object \n",
            " 5   g            3440 non-null   object \n",
            " 6   h            3440 non-null   object \n",
            " 7   l            3440 non-null   object \n",
            " 8   al           3094 non-null   object \n",
            " 9   hh           3440 non-null   object \n",
            " 10  r            3440 non-null   object \n",
            " 11  u            3440 non-null   object \n",
            " 12  t            3440 non-null   float64\n",
            " 13  hc           3440 non-null   float64\n",
            " 14  cy           2919 non-null   object \n",
            " 15  ll           2919 non-null   object \n",
            " 16  _heartbeat_  120 non-null    float64\n",
            " 17  kw           93 non-null     object \n",
            "dtypes: float64(4), object(14)\n",
            "memory usage: 500.8+ KB\n"
          ],
          "name": "stdout"
        }
      ]
    },
    {
      "cell_type": "code",
      "metadata": {
        "id": "YufcPwyjYXVN"
      },
      "source": [
        "# 'a' 컬럼이 NA인 행들을 모두 삭제 - 'a'컬럼의 값이 NA가 아닌 행들을 선택 \n",
        "df_clean= df_clean[df_clean.a.notnull()]"
      ],
      "execution_count": 321,
      "outputs": []
    },
    {
      "cell_type": "markdown",
      "metadata": {
        "id": "QrX5B4PqZckJ"
      },
      "source": [
        "* `pd.Series.isnull()`:\n",
        "  * null(NA)인 위치를 찾아주는 메서드\n",
        "  * Series의 값이 null(NA)이면 True, 아니면 False 리턴하는 메서드.\n",
        "* `pd.Series.notnull()`:\n",
        "  * not-null인 위치를 찾아주는 메서드\n",
        "  * Series의 값이 null(NA)이 아니면 True, null이면 False를 리턴하는 메서드."
      ]
    },
    {
      "cell_type": "code",
      "metadata": {
        "colab": {
          "base_uri": "https://localhost:8080/"
        },
        "id": "r1IVSYUkZB1i",
        "outputId": "21d496b5-13bf-4cdf-db66-5748e5924821"
      },
      "source": [
        "df_clean.info()"
      ],
      "execution_count": 322,
      "outputs": [
        {
          "output_type": "stream",
          "text": [
            "<class 'pandas.core.frame.DataFrame'>\n",
            "Int64Index: 3440 entries, 0 to 3559\n",
            "Data columns (total 18 columns):\n",
            " #   Column       Non-Null Count  Dtype  \n",
            "---  ------       --------------  -----  \n",
            " 0   a            3440 non-null   object \n",
            " 1   c            3440 non-null   object \n",
            " 2   nk           3440 non-null   float64\n",
            " 3   tz           3440 non-null   object \n",
            " 4   gr           2919 non-null   object \n",
            " 5   g            3440 non-null   object \n",
            " 6   h            3440 non-null   object \n",
            " 7   l            3440 non-null   object \n",
            " 8   al           3094 non-null   object \n",
            " 9   hh           3440 non-null   object \n",
            " 10  r            3440 non-null   object \n",
            " 11  u            3440 non-null   object \n",
            " 12  t            3440 non-null   float64\n",
            " 13  hc           3440 non-null   float64\n",
            " 14  cy           2919 non-null   object \n",
            " 15  ll           2919 non-null   object \n",
            " 16  _heartbeat_  0 non-null      float64\n",
            " 17  kw           93 non-null     object \n",
            "dtypes: float64(4), object(14)\n",
            "memory usage: 510.6+ KB\n"
          ],
          "name": "stdout"
        }
      ]
    },
    {
      "cell_type": "markdown",
      "metadata": {
        "id": "MZDW5P9-aath"
      },
      "source": [
        "`os` 파생 변수를 추가\n",
        "* `a` 컬럼의 문자열이 `Windows`를 포함하면, Windows\n",
        "\n",
        "* `a` 컬럼의 문자열이 `Windows`를 포함하지 않으면, Other"
      ]
    },
    {
      "cell_type": "code",
      "metadata": {
        "id": "pmdm1f_KaXF8"
      },
      "source": [
        "# np.where(조건,값1,값2): 조건을 만족하면 값1,조건을 만족하지 못하면  값2가 선택됨.\n",
        "df_clean['os']= np.where(df_clean['a'].str.lower().str.contains('windows'),'Windows','Other')"
      ],
      "execution_count": 323,
      "outputs": []
    },
    {
      "cell_type": "code",
      "metadata": {
        "colab": {
          "base_uri": "https://localhost:8080/",
          "height": 339
        },
        "id": "zYNcU9wcbKrl",
        "outputId": "a48b9f76-dc1a-4c5a-892a-0fd53965aec8"
      },
      "source": [
        "df_clean.head()"
      ],
      "execution_count": 324,
      "outputs": [
        {
          "output_type": "execute_result",
          "data": {
            "text/html": [
              "<div>\n",
              "<style scoped>\n",
              "    .dataframe tbody tr th:only-of-type {\n",
              "        vertical-align: middle;\n",
              "    }\n",
              "\n",
              "    .dataframe tbody tr th {\n",
              "        vertical-align: top;\n",
              "    }\n",
              "\n",
              "    .dataframe thead th {\n",
              "        text-align: right;\n",
              "    }\n",
              "</style>\n",
              "<table border=\"1\" class=\"dataframe\">\n",
              "  <thead>\n",
              "    <tr style=\"text-align: right;\">\n",
              "      <th></th>\n",
              "      <th>a</th>\n",
              "      <th>c</th>\n",
              "      <th>nk</th>\n",
              "      <th>tz</th>\n",
              "      <th>gr</th>\n",
              "      <th>g</th>\n",
              "      <th>h</th>\n",
              "      <th>l</th>\n",
              "      <th>al</th>\n",
              "      <th>hh</th>\n",
              "      <th>r</th>\n",
              "      <th>u</th>\n",
              "      <th>t</th>\n",
              "      <th>hc</th>\n",
              "      <th>cy</th>\n",
              "      <th>ll</th>\n",
              "      <th>_heartbeat_</th>\n",
              "      <th>kw</th>\n",
              "      <th>os</th>\n",
              "    </tr>\n",
              "  </thead>\n",
              "  <tbody>\n",
              "    <tr>\n",
              "      <th>0</th>\n",
              "      <td>Mozilla/5.0 (Windows NT 6.1; WOW64) AppleWebKi...</td>\n",
              "      <td>US</td>\n",
              "      <td>1.0</td>\n",
              "      <td>America/New_York</td>\n",
              "      <td>MA</td>\n",
              "      <td>A6qOVH</td>\n",
              "      <td>wfLQtf</td>\n",
              "      <td>orofrog</td>\n",
              "      <td>en-US,en;q=0.8</td>\n",
              "      <td>1.usa.gov</td>\n",
              "      <td>http://www.facebook.com/l/7AQEFzjSi/1.usa.gov/...</td>\n",
              "      <td>http://www.ncbi.nlm.nih.gov/pubmed/22415991</td>\n",
              "      <td>1.331923e+09</td>\n",
              "      <td>1.331823e+09</td>\n",
              "      <td>Danvers</td>\n",
              "      <td>[42.576698, -70.954903]</td>\n",
              "      <td>NaN</td>\n",
              "      <td>NaN</td>\n",
              "      <td>Windows</td>\n",
              "    </tr>\n",
              "    <tr>\n",
              "      <th>1</th>\n",
              "      <td>GoogleMaps/RochesterNY</td>\n",
              "      <td>US</td>\n",
              "      <td>0.0</td>\n",
              "      <td>America/Denver</td>\n",
              "      <td>UT</td>\n",
              "      <td>mwszkS</td>\n",
              "      <td>mwszkS</td>\n",
              "      <td>bitly</td>\n",
              "      <td>NaN</td>\n",
              "      <td>j.mp</td>\n",
              "      <td>http://www.AwareMap.com/</td>\n",
              "      <td>http://www.monroecounty.gov/etc/911/rss.php</td>\n",
              "      <td>1.331923e+09</td>\n",
              "      <td>1.308262e+09</td>\n",
              "      <td>Provo</td>\n",
              "      <td>[40.218102, -111.613297]</td>\n",
              "      <td>NaN</td>\n",
              "      <td>NaN</td>\n",
              "      <td>Other</td>\n",
              "    </tr>\n",
              "    <tr>\n",
              "      <th>2</th>\n",
              "      <td>Mozilla/4.0 (compatible; MSIE 8.0; Windows NT ...</td>\n",
              "      <td>US</td>\n",
              "      <td>1.0</td>\n",
              "      <td>America/New_York</td>\n",
              "      <td>DC</td>\n",
              "      <td>xxr3Qb</td>\n",
              "      <td>xxr3Qb</td>\n",
              "      <td>bitly</td>\n",
              "      <td>en-US</td>\n",
              "      <td>1.usa.gov</td>\n",
              "      <td>http://t.co/03elZC4Q</td>\n",
              "      <td>http://boxer.senate.gov/en/press/releases/0316...</td>\n",
              "      <td>1.331923e+09</td>\n",
              "      <td>1.331920e+09</td>\n",
              "      <td>Washington</td>\n",
              "      <td>[38.9007, -77.043098]</td>\n",
              "      <td>NaN</td>\n",
              "      <td>NaN</td>\n",
              "      <td>Windows</td>\n",
              "    </tr>\n",
              "    <tr>\n",
              "      <th>3</th>\n",
              "      <td>Mozilla/5.0 (Macintosh; Intel Mac OS X 10_6_8)...</td>\n",
              "      <td>BR</td>\n",
              "      <td>0.0</td>\n",
              "      <td>America/Sao_Paulo</td>\n",
              "      <td>27</td>\n",
              "      <td>zCaLwp</td>\n",
              "      <td>zUtuOu</td>\n",
              "      <td>alelex88</td>\n",
              "      <td>pt-br</td>\n",
              "      <td>1.usa.gov</td>\n",
              "      <td>direct</td>\n",
              "      <td>http://apod.nasa.gov/apod/ap120312.html</td>\n",
              "      <td>1.331923e+09</td>\n",
              "      <td>1.331923e+09</td>\n",
              "      <td>Braz</td>\n",
              "      <td>[-23.549999, -46.616699]</td>\n",
              "      <td>NaN</td>\n",
              "      <td>NaN</td>\n",
              "      <td>Other</td>\n",
              "    </tr>\n",
              "    <tr>\n",
              "      <th>4</th>\n",
              "      <td>Mozilla/5.0 (Windows NT 6.1; WOW64) AppleWebKi...</td>\n",
              "      <td>US</td>\n",
              "      <td>0.0</td>\n",
              "      <td>America/New_York</td>\n",
              "      <td>MA</td>\n",
              "      <td>9b6kNl</td>\n",
              "      <td>9b6kNl</td>\n",
              "      <td>bitly</td>\n",
              "      <td>en-US,en;q=0.8</td>\n",
              "      <td>bit.ly</td>\n",
              "      <td>http://www.shrewsbury-ma.gov/selco/</td>\n",
              "      <td>http://www.shrewsbury-ma.gov/egov/gallery/1341...</td>\n",
              "      <td>1.331923e+09</td>\n",
              "      <td>1.273672e+09</td>\n",
              "      <td>Shrewsbury</td>\n",
              "      <td>[42.286499, -71.714699]</td>\n",
              "      <td>NaN</td>\n",
              "      <td>NaN</td>\n",
              "      <td>Windows</td>\n",
              "    </tr>\n",
              "  </tbody>\n",
              "</table>\n",
              "</div>"
            ],
            "text/plain": [
              "                                                   a   c  ...   kw       os\n",
              "0  Mozilla/5.0 (Windows NT 6.1; WOW64) AppleWebKi...  US  ...  NaN  Windows\n",
              "1                             GoogleMaps/RochesterNY  US  ...  NaN    Other\n",
              "2  Mozilla/4.0 (compatible; MSIE 8.0; Windows NT ...  US  ...  NaN  Windows\n",
              "3  Mozilla/5.0 (Macintosh; Intel Mac OS X 10_6_8)...  BR  ...  NaN    Other\n",
              "4  Mozilla/5.0 (Windows NT 6.1; WOW64) AppleWebKi...  US  ...  NaN  Windows\n",
              "\n",
              "[5 rows x 19 columns]"
            ]
          },
          "metadata": {},
          "execution_count": 324
        }
      ]
    },
    {
      "cell_type": "code",
      "metadata": {
        "colab": {
          "base_uri": "https://localhost:8080/"
        },
        "id": "-gUusTiQdcPm",
        "outputId": "0b55686c-1ca4-4f8e-b8dc-02ff861e6274"
      },
      "source": [
        "df_clean['os'].value_counts()"
      ],
      "execution_count": 325,
      "outputs": [
        {
          "output_type": "execute_result",
          "data": {
            "text/plain": [
              "Windows    2246\n",
              "Other      1194\n",
              "Name: os, dtype: int64"
            ]
          },
          "metadata": {},
          "execution_count": 325
        }
      ]
    },
    {
      "cell_type": "markdown",
      "metadata": {
        "id": "nKsGRlimdvGF"
      },
      "source": [
        "사용자 시간대(timezone)별, 운영체제(OS)별 빈도수, 상위 10개 시각화"
      ]
    },
    {
      "cell_type": "code",
      "metadata": {
        "colab": {
          "base_uri": "https://localhost:8080/",
          "height": 446
        },
        "id": "yG4Ee6KDdqO-",
        "outputId": "4dfb712a-c88c-451a-b501-2174e7d527bc"
      },
      "source": [
        "abc=df_clean.groupby(['tz','os']).count()\n",
        "abc"
      ],
      "execution_count": 326,
      "outputs": [
        {
          "output_type": "execute_result",
          "data": {
            "text/html": [
              "<div>\n",
              "<style scoped>\n",
              "    .dataframe tbody tr th:only-of-type {\n",
              "        vertical-align: middle;\n",
              "    }\n",
              "\n",
              "    .dataframe tbody tr th {\n",
              "        vertical-align: top;\n",
              "    }\n",
              "\n",
              "    .dataframe thead th {\n",
              "        text-align: right;\n",
              "    }\n",
              "</style>\n",
              "<table border=\"1\" class=\"dataframe\">\n",
              "  <thead>\n",
              "    <tr style=\"text-align: right;\">\n",
              "      <th></th>\n",
              "      <th></th>\n",
              "      <th>a</th>\n",
              "      <th>c</th>\n",
              "      <th>nk</th>\n",
              "      <th>gr</th>\n",
              "      <th>g</th>\n",
              "      <th>h</th>\n",
              "      <th>l</th>\n",
              "      <th>al</th>\n",
              "      <th>hh</th>\n",
              "      <th>r</th>\n",
              "      <th>u</th>\n",
              "      <th>t</th>\n",
              "      <th>hc</th>\n",
              "      <th>cy</th>\n",
              "      <th>ll</th>\n",
              "      <th>_heartbeat_</th>\n",
              "      <th>kw</th>\n",
              "    </tr>\n",
              "    <tr>\n",
              "      <th>tz</th>\n",
              "      <th>os</th>\n",
              "      <th></th>\n",
              "      <th></th>\n",
              "      <th></th>\n",
              "      <th></th>\n",
              "      <th></th>\n",
              "      <th></th>\n",
              "      <th></th>\n",
              "      <th></th>\n",
              "      <th></th>\n",
              "      <th></th>\n",
              "      <th></th>\n",
              "      <th></th>\n",
              "      <th></th>\n",
              "      <th></th>\n",
              "      <th></th>\n",
              "      <th></th>\n",
              "      <th></th>\n",
              "    </tr>\n",
              "  </thead>\n",
              "  <tbody>\n",
              "    <tr>\n",
              "      <th>Africa/Cairo</th>\n",
              "      <th>Windows</th>\n",
              "      <td>3</td>\n",
              "      <td>3</td>\n",
              "      <td>3</td>\n",
              "      <td>3</td>\n",
              "      <td>3</td>\n",
              "      <td>3</td>\n",
              "      <td>3</td>\n",
              "      <td>3</td>\n",
              "      <td>3</td>\n",
              "      <td>3</td>\n",
              "      <td>3</td>\n",
              "      <td>3</td>\n",
              "      <td>3</td>\n",
              "      <td>3</td>\n",
              "      <td>3</td>\n",
              "      <td>0</td>\n",
              "      <td>0</td>\n",
              "    </tr>\n",
              "    <tr>\n",
              "      <th>Africa/Casablanca</th>\n",
              "      <th>Windows</th>\n",
              "      <td>1</td>\n",
              "      <td>1</td>\n",
              "      <td>1</td>\n",
              "      <td>1</td>\n",
              "      <td>1</td>\n",
              "      <td>1</td>\n",
              "      <td>1</td>\n",
              "      <td>1</td>\n",
              "      <td>1</td>\n",
              "      <td>1</td>\n",
              "      <td>1</td>\n",
              "      <td>1</td>\n",
              "      <td>1</td>\n",
              "      <td>1</td>\n",
              "      <td>1</td>\n",
              "      <td>0</td>\n",
              "      <td>0</td>\n",
              "    </tr>\n",
              "    <tr>\n",
              "      <th>Africa/Ceuta</th>\n",
              "      <th>Windows</th>\n",
              "      <td>2</td>\n",
              "      <td>2</td>\n",
              "      <td>2</td>\n",
              "      <td>2</td>\n",
              "      <td>2</td>\n",
              "      <td>2</td>\n",
              "      <td>2</td>\n",
              "      <td>2</td>\n",
              "      <td>2</td>\n",
              "      <td>2</td>\n",
              "      <td>2</td>\n",
              "      <td>2</td>\n",
              "      <td>2</td>\n",
              "      <td>2</td>\n",
              "      <td>2</td>\n",
              "      <td>0</td>\n",
              "      <td>0</td>\n",
              "    </tr>\n",
              "    <tr>\n",
              "      <th>Africa/Johannesburg</th>\n",
              "      <th>Windows</th>\n",
              "      <td>1</td>\n",
              "      <td>1</td>\n",
              "      <td>1</td>\n",
              "      <td>1</td>\n",
              "      <td>1</td>\n",
              "      <td>1</td>\n",
              "      <td>1</td>\n",
              "      <td>1</td>\n",
              "      <td>1</td>\n",
              "      <td>1</td>\n",
              "      <td>1</td>\n",
              "      <td>1</td>\n",
              "      <td>1</td>\n",
              "      <td>1</td>\n",
              "      <td>1</td>\n",
              "      <td>0</td>\n",
              "      <td>0</td>\n",
              "    </tr>\n",
              "    <tr>\n",
              "      <th>Africa/Lusaka</th>\n",
              "      <th>Windows</th>\n",
              "      <td>1</td>\n",
              "      <td>1</td>\n",
              "      <td>1</td>\n",
              "      <td>1</td>\n",
              "      <td>1</td>\n",
              "      <td>1</td>\n",
              "      <td>1</td>\n",
              "      <td>1</td>\n",
              "      <td>1</td>\n",
              "      <td>1</td>\n",
              "      <td>1</td>\n",
              "      <td>1</td>\n",
              "      <td>1</td>\n",
              "      <td>1</td>\n",
              "      <td>1</td>\n",
              "      <td>0</td>\n",
              "      <td>0</td>\n",
              "    </tr>\n",
              "    <tr>\n",
              "      <th>...</th>\n",
              "      <th>...</th>\n",
              "      <td>...</td>\n",
              "      <td>...</td>\n",
              "      <td>...</td>\n",
              "      <td>...</td>\n",
              "      <td>...</td>\n",
              "      <td>...</td>\n",
              "      <td>...</td>\n",
              "      <td>...</td>\n",
              "      <td>...</td>\n",
              "      <td>...</td>\n",
              "      <td>...</td>\n",
              "      <td>...</td>\n",
              "      <td>...</td>\n",
              "      <td>...</td>\n",
              "      <td>...</td>\n",
              "      <td>...</td>\n",
              "      <td>...</td>\n",
              "    </tr>\n",
              "    <tr>\n",
              "      <th rowspan=\"2\" valign=\"top\">Pacific/Auckland</th>\n",
              "      <th>Other</th>\n",
              "      <td>3</td>\n",
              "      <td>3</td>\n",
              "      <td>3</td>\n",
              "      <td>3</td>\n",
              "      <td>3</td>\n",
              "      <td>3</td>\n",
              "      <td>3</td>\n",
              "      <td>3</td>\n",
              "      <td>3</td>\n",
              "      <td>3</td>\n",
              "      <td>3</td>\n",
              "      <td>3</td>\n",
              "      <td>3</td>\n",
              "      <td>3</td>\n",
              "      <td>3</td>\n",
              "      <td>0</td>\n",
              "      <td>0</td>\n",
              "    </tr>\n",
              "    <tr>\n",
              "      <th>Windows</th>\n",
              "      <td>8</td>\n",
              "      <td>8</td>\n",
              "      <td>8</td>\n",
              "      <td>8</td>\n",
              "      <td>8</td>\n",
              "      <td>8</td>\n",
              "      <td>8</td>\n",
              "      <td>1</td>\n",
              "      <td>8</td>\n",
              "      <td>8</td>\n",
              "      <td>8</td>\n",
              "      <td>8</td>\n",
              "      <td>8</td>\n",
              "      <td>8</td>\n",
              "      <td>8</td>\n",
              "      <td>0</td>\n",
              "      <td>0</td>\n",
              "    </tr>\n",
              "    <tr>\n",
              "      <th>Pacific/Honolulu</th>\n",
              "      <th>Windows</th>\n",
              "      <td>36</td>\n",
              "      <td>36</td>\n",
              "      <td>36</td>\n",
              "      <td>36</td>\n",
              "      <td>36</td>\n",
              "      <td>36</td>\n",
              "      <td>36</td>\n",
              "      <td>36</td>\n",
              "      <td>36</td>\n",
              "      <td>36</td>\n",
              "      <td>36</td>\n",
              "      <td>36</td>\n",
              "      <td>36</td>\n",
              "      <td>36</td>\n",
              "      <td>36</td>\n",
              "      <td>0</td>\n",
              "      <td>32</td>\n",
              "    </tr>\n",
              "    <tr>\n",
              "      <th rowspan=\"2\" valign=\"top\">Unknown</th>\n",
              "      <th>Other</th>\n",
              "      <td>245</td>\n",
              "      <td>245</td>\n",
              "      <td>245</td>\n",
              "      <td>0</td>\n",
              "      <td>245</td>\n",
              "      <td>245</td>\n",
              "      <td>245</td>\n",
              "      <td>239</td>\n",
              "      <td>245</td>\n",
              "      <td>245</td>\n",
              "      <td>245</td>\n",
              "      <td>245</td>\n",
              "      <td>245</td>\n",
              "      <td>0</td>\n",
              "      <td>0</td>\n",
              "      <td>0</td>\n",
              "      <td>4</td>\n",
              "    </tr>\n",
              "    <tr>\n",
              "      <th>Windows</th>\n",
              "      <td>276</td>\n",
              "      <td>276</td>\n",
              "      <td>276</td>\n",
              "      <td>0</td>\n",
              "      <td>276</td>\n",
              "      <td>276</td>\n",
              "      <td>276</td>\n",
              "      <td>268</td>\n",
              "      <td>276</td>\n",
              "      <td>276</td>\n",
              "      <td>276</td>\n",
              "      <td>276</td>\n",
              "      <td>276</td>\n",
              "      <td>0</td>\n",
              "      <td>0</td>\n",
              "      <td>0</td>\n",
              "      <td>7</td>\n",
              "    </tr>\n",
              "  </tbody>\n",
              "</table>\n",
              "<p>149 rows × 17 columns</p>\n",
              "</div>"
            ],
            "text/plain": [
              "                               a    c   nk  gr  ...  cy  ll  _heartbeat_  kw\n",
              "tz                  os                          ...                         \n",
              "Africa/Cairo        Windows    3    3    3   3  ...   3   3            0   0\n",
              "Africa/Casablanca   Windows    1    1    1   1  ...   1   1            0   0\n",
              "Africa/Ceuta        Windows    2    2    2   2  ...   2   2            0   0\n",
              "Africa/Johannesburg Windows    1    1    1   1  ...   1   1            0   0\n",
              "Africa/Lusaka       Windows    1    1    1   1  ...   1   1            0   0\n",
              "...                          ...  ...  ...  ..  ...  ..  ..          ...  ..\n",
              "Pacific/Auckland    Other      3    3    3   3  ...   3   3            0   0\n",
              "                    Windows    8    8    8   8  ...   8   8            0   0\n",
              "Pacific/Honolulu    Windows   36   36   36  36  ...  36  36            0  32\n",
              "Unknown             Other    245  245  245   0  ...   0   0            0   4\n",
              "                    Windows  276  276  276   0  ...   0   0            0   7\n",
              "\n",
              "[149 rows x 17 columns]"
            ]
          },
          "metadata": {},
          "execution_count": 326
        }
      ]
    },
    {
      "cell_type": "code",
      "metadata": {
        "colab": {
          "base_uri": "https://localhost:8080/",
          "height": 387
        },
        "id": "papknGjuew1j",
        "outputId": "48373582-3848-47f4-d78f-ee8bbdc57feb"
      },
      "source": [
        "abc=abc.sort_values('a',ascending=False).head(10)\n",
        "abc"
      ],
      "execution_count": 327,
      "outputs": [
        {
          "output_type": "execute_result",
          "data": {
            "text/html": [
              "<div>\n",
              "<style scoped>\n",
              "    .dataframe tbody tr th:only-of-type {\n",
              "        vertical-align: middle;\n",
              "    }\n",
              "\n",
              "    .dataframe tbody tr th {\n",
              "        vertical-align: top;\n",
              "    }\n",
              "\n",
              "    .dataframe thead th {\n",
              "        text-align: right;\n",
              "    }\n",
              "</style>\n",
              "<table border=\"1\" class=\"dataframe\">\n",
              "  <thead>\n",
              "    <tr style=\"text-align: right;\">\n",
              "      <th></th>\n",
              "      <th></th>\n",
              "      <th>a</th>\n",
              "      <th>c</th>\n",
              "      <th>nk</th>\n",
              "      <th>gr</th>\n",
              "      <th>g</th>\n",
              "      <th>h</th>\n",
              "      <th>l</th>\n",
              "      <th>al</th>\n",
              "      <th>hh</th>\n",
              "      <th>r</th>\n",
              "      <th>u</th>\n",
              "      <th>t</th>\n",
              "      <th>hc</th>\n",
              "      <th>cy</th>\n",
              "      <th>ll</th>\n",
              "      <th>_heartbeat_</th>\n",
              "      <th>kw</th>\n",
              "    </tr>\n",
              "    <tr>\n",
              "      <th>tz</th>\n",
              "      <th>os</th>\n",
              "      <th></th>\n",
              "      <th></th>\n",
              "      <th></th>\n",
              "      <th></th>\n",
              "      <th></th>\n",
              "      <th></th>\n",
              "      <th></th>\n",
              "      <th></th>\n",
              "      <th></th>\n",
              "      <th></th>\n",
              "      <th></th>\n",
              "      <th></th>\n",
              "      <th></th>\n",
              "      <th></th>\n",
              "      <th></th>\n",
              "      <th></th>\n",
              "      <th></th>\n",
              "    </tr>\n",
              "  </thead>\n",
              "  <tbody>\n",
              "    <tr>\n",
              "      <th rowspan=\"2\" valign=\"top\">America/New_York</th>\n",
              "      <th>Windows</th>\n",
              "      <td>912</td>\n",
              "      <td>912</td>\n",
              "      <td>912</td>\n",
              "      <td>912</td>\n",
              "      <td>912</td>\n",
              "      <td>912</td>\n",
              "      <td>912</td>\n",
              "      <td>875</td>\n",
              "      <td>912</td>\n",
              "      <td>912</td>\n",
              "      <td>912</td>\n",
              "      <td>912</td>\n",
              "      <td>912</td>\n",
              "      <td>912</td>\n",
              "      <td>912</td>\n",
              "      <td>0</td>\n",
              "      <td>16</td>\n",
              "    </tr>\n",
              "    <tr>\n",
              "      <th>Other</th>\n",
              "      <td>339</td>\n",
              "      <td>339</td>\n",
              "      <td>339</td>\n",
              "      <td>339</td>\n",
              "      <td>339</td>\n",
              "      <td>339</td>\n",
              "      <td>339</td>\n",
              "      <td>309</td>\n",
              "      <td>339</td>\n",
              "      <td>339</td>\n",
              "      <td>339</td>\n",
              "      <td>339</td>\n",
              "      <td>339</td>\n",
              "      <td>339</td>\n",
              "      <td>339</td>\n",
              "      <td>0</td>\n",
              "      <td>1</td>\n",
              "    </tr>\n",
              "    <tr>\n",
              "      <th>America/Chicago</th>\n",
              "      <th>Windows</th>\n",
              "      <td>285</td>\n",
              "      <td>285</td>\n",
              "      <td>285</td>\n",
              "      <td>285</td>\n",
              "      <td>285</td>\n",
              "      <td>285</td>\n",
              "      <td>285</td>\n",
              "      <td>235</td>\n",
              "      <td>285</td>\n",
              "      <td>285</td>\n",
              "      <td>285</td>\n",
              "      <td>285</td>\n",
              "      <td>285</td>\n",
              "      <td>285</td>\n",
              "      <td>285</td>\n",
              "      <td>0</td>\n",
              "      <td>7</td>\n",
              "    </tr>\n",
              "    <tr>\n",
              "      <th>Unknown</th>\n",
              "      <th>Windows</th>\n",
              "      <td>276</td>\n",
              "      <td>276</td>\n",
              "      <td>276</td>\n",
              "      <td>0</td>\n",
              "      <td>276</td>\n",
              "      <td>276</td>\n",
              "      <td>276</td>\n",
              "      <td>268</td>\n",
              "      <td>276</td>\n",
              "      <td>276</td>\n",
              "      <td>276</td>\n",
              "      <td>276</td>\n",
              "      <td>276</td>\n",
              "      <td>0</td>\n",
              "      <td>0</td>\n",
              "      <td>0</td>\n",
              "      <td>7</td>\n",
              "    </tr>\n",
              "    <tr>\n",
              "      <th>America/Los_Angeles</th>\n",
              "      <th>Windows</th>\n",
              "      <td>252</td>\n",
              "      <td>252</td>\n",
              "      <td>252</td>\n",
              "      <td>252</td>\n",
              "      <td>252</td>\n",
              "      <td>252</td>\n",
              "      <td>252</td>\n",
              "      <td>227</td>\n",
              "      <td>252</td>\n",
              "      <td>252</td>\n",
              "      <td>252</td>\n",
              "      <td>252</td>\n",
              "      <td>252</td>\n",
              "      <td>252</td>\n",
              "      <td>252</td>\n",
              "      <td>0</td>\n",
              "      <td>9</td>\n",
              "    </tr>\n",
              "    <tr>\n",
              "      <th>Unknown</th>\n",
              "      <th>Other</th>\n",
              "      <td>245</td>\n",
              "      <td>245</td>\n",
              "      <td>245</td>\n",
              "      <td>0</td>\n",
              "      <td>245</td>\n",
              "      <td>245</td>\n",
              "      <td>245</td>\n",
              "      <td>239</td>\n",
              "      <td>245</td>\n",
              "      <td>245</td>\n",
              "      <td>245</td>\n",
              "      <td>245</td>\n",
              "      <td>245</td>\n",
              "      <td>0</td>\n",
              "      <td>0</td>\n",
              "      <td>0</td>\n",
              "      <td>4</td>\n",
              "    </tr>\n",
              "    <tr>\n",
              "      <th>America/Denver</th>\n",
              "      <th>Other</th>\n",
              "      <td>132</td>\n",
              "      <td>132</td>\n",
              "      <td>132</td>\n",
              "      <td>132</td>\n",
              "      <td>132</td>\n",
              "      <td>132</td>\n",
              "      <td>132</td>\n",
              "      <td>11</td>\n",
              "      <td>132</td>\n",
              "      <td>132</td>\n",
              "      <td>132</td>\n",
              "      <td>132</td>\n",
              "      <td>132</td>\n",
              "      <td>132</td>\n",
              "      <td>132</td>\n",
              "      <td>0</td>\n",
              "      <td>0</td>\n",
              "    </tr>\n",
              "    <tr>\n",
              "      <th>America/Los_Angeles</th>\n",
              "      <th>Other</th>\n",
              "      <td>130</td>\n",
              "      <td>130</td>\n",
              "      <td>130</td>\n",
              "      <td>130</td>\n",
              "      <td>130</td>\n",
              "      <td>130</td>\n",
              "      <td>130</td>\n",
              "      <td>95</td>\n",
              "      <td>130</td>\n",
              "      <td>130</td>\n",
              "      <td>130</td>\n",
              "      <td>130</td>\n",
              "      <td>130</td>\n",
              "      <td>130</td>\n",
              "      <td>130</td>\n",
              "      <td>0</td>\n",
              "      <td>6</td>\n",
              "    </tr>\n",
              "    <tr>\n",
              "      <th>America/Chicago</th>\n",
              "      <th>Other</th>\n",
              "      <td>115</td>\n",
              "      <td>115</td>\n",
              "      <td>115</td>\n",
              "      <td>115</td>\n",
              "      <td>115</td>\n",
              "      <td>115</td>\n",
              "      <td>115</td>\n",
              "      <td>112</td>\n",
              "      <td>115</td>\n",
              "      <td>115</td>\n",
              "      <td>115</td>\n",
              "      <td>115</td>\n",
              "      <td>115</td>\n",
              "      <td>115</td>\n",
              "      <td>115</td>\n",
              "      <td>0</td>\n",
              "      <td>1</td>\n",
              "    </tr>\n",
              "    <tr>\n",
              "      <th>America/Denver</th>\n",
              "      <th>Windows</th>\n",
              "      <td>59</td>\n",
              "      <td>59</td>\n",
              "      <td>59</td>\n",
              "      <td>59</td>\n",
              "      <td>59</td>\n",
              "      <td>59</td>\n",
              "      <td>59</td>\n",
              "      <td>56</td>\n",
              "      <td>59</td>\n",
              "      <td>59</td>\n",
              "      <td>59</td>\n",
              "      <td>59</td>\n",
              "      <td>59</td>\n",
              "      <td>59</td>\n",
              "      <td>59</td>\n",
              "      <td>0</td>\n",
              "      <td>0</td>\n",
              "    </tr>\n",
              "  </tbody>\n",
              "</table>\n",
              "</div>"
            ],
            "text/plain": [
              "                               a    c   nk   gr  ...   cy   ll  _heartbeat_  kw\n",
              "tz                  os                           ...                           \n",
              "America/New_York    Windows  912  912  912  912  ...  912  912            0  16\n",
              "                    Other    339  339  339  339  ...  339  339            0   1\n",
              "America/Chicago     Windows  285  285  285  285  ...  285  285            0   7\n",
              "Unknown             Windows  276  276  276    0  ...    0    0            0   7\n",
              "America/Los_Angeles Windows  252  252  252  252  ...  252  252            0   9\n",
              "Unknown             Other    245  245  245    0  ...    0    0            0   4\n",
              "America/Denver      Other    132  132  132  132  ...  132  132            0   0\n",
              "America/Los_Angeles Other    130  130  130  130  ...  130  130            0   6\n",
              "America/Chicago     Other    115  115  115  115  ...  115  115            0   1\n",
              "America/Denver      Windows   59   59   59   59  ...   59   59            0   0\n",
              "\n",
              "[10 rows x 17 columns]"
            ]
          },
          "metadata": {},
          "execution_count": 327
        }
      ]
    },
    {
      "cell_type": "code",
      "metadata": {
        "colab": {
          "base_uri": "https://localhost:8080/",
          "height": 356
        },
        "id": "CcxvBVM_fGTj",
        "outputId": "4cfe5a6e-daeb-418d-fbaa-6afdcac6da31"
      },
      "source": [
        "abc=abc.reset_index()\n",
        "abc"
      ],
      "execution_count": 328,
      "outputs": [
        {
          "output_type": "execute_result",
          "data": {
            "text/html": [
              "<div>\n",
              "<style scoped>\n",
              "    .dataframe tbody tr th:only-of-type {\n",
              "        vertical-align: middle;\n",
              "    }\n",
              "\n",
              "    .dataframe tbody tr th {\n",
              "        vertical-align: top;\n",
              "    }\n",
              "\n",
              "    .dataframe thead th {\n",
              "        text-align: right;\n",
              "    }\n",
              "</style>\n",
              "<table border=\"1\" class=\"dataframe\">\n",
              "  <thead>\n",
              "    <tr style=\"text-align: right;\">\n",
              "      <th></th>\n",
              "      <th>tz</th>\n",
              "      <th>os</th>\n",
              "      <th>a</th>\n",
              "      <th>c</th>\n",
              "      <th>nk</th>\n",
              "      <th>gr</th>\n",
              "      <th>g</th>\n",
              "      <th>h</th>\n",
              "      <th>l</th>\n",
              "      <th>al</th>\n",
              "      <th>hh</th>\n",
              "      <th>r</th>\n",
              "      <th>u</th>\n",
              "      <th>t</th>\n",
              "      <th>hc</th>\n",
              "      <th>cy</th>\n",
              "      <th>ll</th>\n",
              "      <th>_heartbeat_</th>\n",
              "      <th>kw</th>\n",
              "    </tr>\n",
              "  </thead>\n",
              "  <tbody>\n",
              "    <tr>\n",
              "      <th>0</th>\n",
              "      <td>America/New_York</td>\n",
              "      <td>Windows</td>\n",
              "      <td>912</td>\n",
              "      <td>912</td>\n",
              "      <td>912</td>\n",
              "      <td>912</td>\n",
              "      <td>912</td>\n",
              "      <td>912</td>\n",
              "      <td>912</td>\n",
              "      <td>875</td>\n",
              "      <td>912</td>\n",
              "      <td>912</td>\n",
              "      <td>912</td>\n",
              "      <td>912</td>\n",
              "      <td>912</td>\n",
              "      <td>912</td>\n",
              "      <td>912</td>\n",
              "      <td>0</td>\n",
              "      <td>16</td>\n",
              "    </tr>\n",
              "    <tr>\n",
              "      <th>1</th>\n",
              "      <td>America/New_York</td>\n",
              "      <td>Other</td>\n",
              "      <td>339</td>\n",
              "      <td>339</td>\n",
              "      <td>339</td>\n",
              "      <td>339</td>\n",
              "      <td>339</td>\n",
              "      <td>339</td>\n",
              "      <td>339</td>\n",
              "      <td>309</td>\n",
              "      <td>339</td>\n",
              "      <td>339</td>\n",
              "      <td>339</td>\n",
              "      <td>339</td>\n",
              "      <td>339</td>\n",
              "      <td>339</td>\n",
              "      <td>339</td>\n",
              "      <td>0</td>\n",
              "      <td>1</td>\n",
              "    </tr>\n",
              "    <tr>\n",
              "      <th>2</th>\n",
              "      <td>America/Chicago</td>\n",
              "      <td>Windows</td>\n",
              "      <td>285</td>\n",
              "      <td>285</td>\n",
              "      <td>285</td>\n",
              "      <td>285</td>\n",
              "      <td>285</td>\n",
              "      <td>285</td>\n",
              "      <td>285</td>\n",
              "      <td>235</td>\n",
              "      <td>285</td>\n",
              "      <td>285</td>\n",
              "      <td>285</td>\n",
              "      <td>285</td>\n",
              "      <td>285</td>\n",
              "      <td>285</td>\n",
              "      <td>285</td>\n",
              "      <td>0</td>\n",
              "      <td>7</td>\n",
              "    </tr>\n",
              "    <tr>\n",
              "      <th>3</th>\n",
              "      <td>Unknown</td>\n",
              "      <td>Windows</td>\n",
              "      <td>276</td>\n",
              "      <td>276</td>\n",
              "      <td>276</td>\n",
              "      <td>0</td>\n",
              "      <td>276</td>\n",
              "      <td>276</td>\n",
              "      <td>276</td>\n",
              "      <td>268</td>\n",
              "      <td>276</td>\n",
              "      <td>276</td>\n",
              "      <td>276</td>\n",
              "      <td>276</td>\n",
              "      <td>276</td>\n",
              "      <td>0</td>\n",
              "      <td>0</td>\n",
              "      <td>0</td>\n",
              "      <td>7</td>\n",
              "    </tr>\n",
              "    <tr>\n",
              "      <th>4</th>\n",
              "      <td>America/Los_Angeles</td>\n",
              "      <td>Windows</td>\n",
              "      <td>252</td>\n",
              "      <td>252</td>\n",
              "      <td>252</td>\n",
              "      <td>252</td>\n",
              "      <td>252</td>\n",
              "      <td>252</td>\n",
              "      <td>252</td>\n",
              "      <td>227</td>\n",
              "      <td>252</td>\n",
              "      <td>252</td>\n",
              "      <td>252</td>\n",
              "      <td>252</td>\n",
              "      <td>252</td>\n",
              "      <td>252</td>\n",
              "      <td>252</td>\n",
              "      <td>0</td>\n",
              "      <td>9</td>\n",
              "    </tr>\n",
              "    <tr>\n",
              "      <th>5</th>\n",
              "      <td>Unknown</td>\n",
              "      <td>Other</td>\n",
              "      <td>245</td>\n",
              "      <td>245</td>\n",
              "      <td>245</td>\n",
              "      <td>0</td>\n",
              "      <td>245</td>\n",
              "      <td>245</td>\n",
              "      <td>245</td>\n",
              "      <td>239</td>\n",
              "      <td>245</td>\n",
              "      <td>245</td>\n",
              "      <td>245</td>\n",
              "      <td>245</td>\n",
              "      <td>245</td>\n",
              "      <td>0</td>\n",
              "      <td>0</td>\n",
              "      <td>0</td>\n",
              "      <td>4</td>\n",
              "    </tr>\n",
              "    <tr>\n",
              "      <th>6</th>\n",
              "      <td>America/Denver</td>\n",
              "      <td>Other</td>\n",
              "      <td>132</td>\n",
              "      <td>132</td>\n",
              "      <td>132</td>\n",
              "      <td>132</td>\n",
              "      <td>132</td>\n",
              "      <td>132</td>\n",
              "      <td>132</td>\n",
              "      <td>11</td>\n",
              "      <td>132</td>\n",
              "      <td>132</td>\n",
              "      <td>132</td>\n",
              "      <td>132</td>\n",
              "      <td>132</td>\n",
              "      <td>132</td>\n",
              "      <td>132</td>\n",
              "      <td>0</td>\n",
              "      <td>0</td>\n",
              "    </tr>\n",
              "    <tr>\n",
              "      <th>7</th>\n",
              "      <td>America/Los_Angeles</td>\n",
              "      <td>Other</td>\n",
              "      <td>130</td>\n",
              "      <td>130</td>\n",
              "      <td>130</td>\n",
              "      <td>130</td>\n",
              "      <td>130</td>\n",
              "      <td>130</td>\n",
              "      <td>130</td>\n",
              "      <td>95</td>\n",
              "      <td>130</td>\n",
              "      <td>130</td>\n",
              "      <td>130</td>\n",
              "      <td>130</td>\n",
              "      <td>130</td>\n",
              "      <td>130</td>\n",
              "      <td>130</td>\n",
              "      <td>0</td>\n",
              "      <td>6</td>\n",
              "    </tr>\n",
              "    <tr>\n",
              "      <th>8</th>\n",
              "      <td>America/Chicago</td>\n",
              "      <td>Other</td>\n",
              "      <td>115</td>\n",
              "      <td>115</td>\n",
              "      <td>115</td>\n",
              "      <td>115</td>\n",
              "      <td>115</td>\n",
              "      <td>115</td>\n",
              "      <td>115</td>\n",
              "      <td>112</td>\n",
              "      <td>115</td>\n",
              "      <td>115</td>\n",
              "      <td>115</td>\n",
              "      <td>115</td>\n",
              "      <td>115</td>\n",
              "      <td>115</td>\n",
              "      <td>115</td>\n",
              "      <td>0</td>\n",
              "      <td>1</td>\n",
              "    </tr>\n",
              "    <tr>\n",
              "      <th>9</th>\n",
              "      <td>America/Denver</td>\n",
              "      <td>Windows</td>\n",
              "      <td>59</td>\n",
              "      <td>59</td>\n",
              "      <td>59</td>\n",
              "      <td>59</td>\n",
              "      <td>59</td>\n",
              "      <td>59</td>\n",
              "      <td>59</td>\n",
              "      <td>56</td>\n",
              "      <td>59</td>\n",
              "      <td>59</td>\n",
              "      <td>59</td>\n",
              "      <td>59</td>\n",
              "      <td>59</td>\n",
              "      <td>59</td>\n",
              "      <td>59</td>\n",
              "      <td>0</td>\n",
              "      <td>0</td>\n",
              "    </tr>\n",
              "  </tbody>\n",
              "</table>\n",
              "</div>"
            ],
            "text/plain": [
              "                    tz       os    a    c   nk  ...   hc   cy   ll  _heartbeat_  kw\n",
              "0     America/New_York  Windows  912  912  912  ...  912  912  912            0  16\n",
              "1     America/New_York    Other  339  339  339  ...  339  339  339            0   1\n",
              "2      America/Chicago  Windows  285  285  285  ...  285  285  285            0   7\n",
              "3              Unknown  Windows  276  276  276  ...  276    0    0            0   7\n",
              "4  America/Los_Angeles  Windows  252  252  252  ...  252  252  252            0   9\n",
              "5              Unknown    Other  245  245  245  ...  245    0    0            0   4\n",
              "6       America/Denver    Other  132  132  132  ...  132  132  132            0   0\n",
              "7  America/Los_Angeles    Other  130  130  130  ...  130  130  130            0   6\n",
              "8      America/Chicago    Other  115  115  115  ...  115  115  115            0   1\n",
              "9       America/Denver  Windows   59   59   59  ...   59   59   59            0   0\n",
              "\n",
              "[10 rows x 19 columns]"
            ]
          },
          "metadata": {},
          "execution_count": 328
        }
      ]
    },
    {
      "cell_type": "code",
      "metadata": {
        "colab": {
          "base_uri": "https://localhost:8080/",
          "height": 297
        },
        "id": "UOYnQe_ofkE2",
        "outputId": "aaa98989-544b-4ecf-a4b3-f96ce2954516"
      },
      "source": [
        "sns.barplot(data=abc, x='a',y='tz',hue='os')"
      ],
      "execution_count": 329,
      "outputs": [
        {
          "output_type": "execute_result",
          "data": {
            "text/plain": [
              "<matplotlib.axes._subplots.AxesSubplot at 0x7fa2bb561fd0>"
            ]
          },
          "metadata": {},
          "execution_count": 329
        },
        {
          "output_type": "display_data",
          "data": {
            "image/png": "[encoded data removed]",
            "text/plain": [
              "<Figure size 432x288 with 1 Axes>"
            ]
          },
          "metadata": {
            "needs_background": "light"
          }
        }
      ]
    },
    {
      "cell_type": "code",
      "metadata": {
        "colab": {
          "base_uri": "https://localhost:8080/",
          "height": 446
        },
        "id": "4zpTiv7em6no",
        "outputId": "02e44878-9f1e-4e3b-82d8-bc8e82defeaf"
      },
      "source": [
        "# unstack\" Series에서 인덱스의 값을 컬럼 이름으로 변환.\n",
        "df_clean.groupby(['tz','os']).size().unstack()"
      ],
      "execution_count": 330,
      "outputs": [
        {
          "output_type": "execute_result",
          "data": {
            "text/html": [
              "<div>\n",
              "<style scoped>\n",
              "    .dataframe tbody tr th:only-of-type {\n",
              "        vertical-align: middle;\n",
              "    }\n",
              "\n",
              "    .dataframe tbody tr th {\n",
              "        vertical-align: top;\n",
              "    }\n",
              "\n",
              "    .dataframe thead th {\n",
              "        text-align: right;\n",
              "    }\n",
              "</style>\n",
              "<table border=\"1\" class=\"dataframe\">\n",
              "  <thead>\n",
              "    <tr style=\"text-align: right;\">\n",
              "      <th>os</th>\n",
              "      <th>Other</th>\n",
              "      <th>Windows</th>\n",
              "    </tr>\n",
              "    <tr>\n",
              "      <th>tz</th>\n",
              "      <th></th>\n",
              "      <th></th>\n",
              "    </tr>\n",
              "  </thead>\n",
              "  <tbody>\n",
              "    <tr>\n",
              "      <th>Africa/Cairo</th>\n",
              "      <td>NaN</td>\n",
              "      <td>3.0</td>\n",
              "    </tr>\n",
              "    <tr>\n",
              "      <th>Africa/Casablanca</th>\n",
              "      <td>NaN</td>\n",
              "      <td>1.0</td>\n",
              "    </tr>\n",
              "    <tr>\n",
              "      <th>Africa/Ceuta</th>\n",
              "      <td>NaN</td>\n",
              "      <td>2.0</td>\n",
              "    </tr>\n",
              "    <tr>\n",
              "      <th>Africa/Johannesburg</th>\n",
              "      <td>NaN</td>\n",
              "      <td>1.0</td>\n",
              "    </tr>\n",
              "    <tr>\n",
              "      <th>Africa/Lusaka</th>\n",
              "      <td>NaN</td>\n",
              "      <td>1.0</td>\n",
              "    </tr>\n",
              "    <tr>\n",
              "      <th>...</th>\n",
              "      <td>...</td>\n",
              "      <td>...</td>\n",
              "    </tr>\n",
              "    <tr>\n",
              "      <th>Europe/Warsaw</th>\n",
              "      <td>1.0</td>\n",
              "      <td>15.0</td>\n",
              "    </tr>\n",
              "    <tr>\n",
              "      <th>Europe/Zurich</th>\n",
              "      <td>4.0</td>\n",
              "      <td>NaN</td>\n",
              "    </tr>\n",
              "    <tr>\n",
              "      <th>Pacific/Auckland</th>\n",
              "      <td>3.0</td>\n",
              "      <td>8.0</td>\n",
              "    </tr>\n",
              "    <tr>\n",
              "      <th>Pacific/Honolulu</th>\n",
              "      <td>NaN</td>\n",
              "      <td>36.0</td>\n",
              "    </tr>\n",
              "    <tr>\n",
              "      <th>Unknown</th>\n",
              "      <td>245.0</td>\n",
              "      <td>276.0</td>\n",
              "    </tr>\n",
              "  </tbody>\n",
              "</table>\n",
              "<p>97 rows × 2 columns</p>\n",
              "</div>"
            ],
            "text/plain": [
              "os                   Other  Windows\n",
              "tz                                 \n",
              "Africa/Cairo           NaN      3.0\n",
              "Africa/Casablanca      NaN      1.0\n",
              "Africa/Ceuta           NaN      2.0\n",
              "Africa/Johannesburg    NaN      1.0\n",
              "Africa/Lusaka          NaN      1.0\n",
              "...                    ...      ...\n",
              "Europe/Warsaw          1.0     15.0\n",
              "Europe/Zurich          4.0      NaN\n",
              "Pacific/Auckland       3.0      8.0\n",
              "Pacific/Honolulu       NaN     36.0\n",
              "Unknown              245.0    276.0\n",
              "\n",
              "[97 rows x 2 columns]"
            ]
          },
          "metadata": {},
          "execution_count": 330
        }
      ]
    },
    {
      "cell_type": "code",
      "metadata": {
        "colab": {
          "base_uri": "https://localhost:8080/",
          "height": 446
        },
        "id": "6hh1yFs7oVyJ",
        "outputId": "9a9d5bd4-dbab-478c-893d-aee5f8018925"
      },
      "source": [
        "# unstack 과정에서 NA들이 생기게 됨 ---> NA를 0으로 대체\n",
        "tz_os_count=df_clean.groupby(['tz','os']).size().unstack().fillna(0)\n",
        "tz_os_count['total']=tz_os_count['Other']+tz_os_count['Windows']\n",
        "tz_os_count"
      ],
      "execution_count": 332,
      "outputs": [
        {
          "output_type": "execute_result",
          "data": {
            "text/html": [
              "<div>\n",
              "<style scoped>\n",
              "    .dataframe tbody tr th:only-of-type {\n",
              "        vertical-align: middle;\n",
              "    }\n",
              "\n",
              "    .dataframe tbody tr th {\n",
              "        vertical-align: top;\n",
              "    }\n",
              "\n",
              "    .dataframe thead th {\n",
              "        text-align: right;\n",
              "    }\n",
              "</style>\n",
              "<table border=\"1\" class=\"dataframe\">\n",
              "  <thead>\n",
              "    <tr style=\"text-align: right;\">\n",
              "      <th>os</th>\n",
              "      <th>Other</th>\n",
              "      <th>Windows</th>\n",
              "      <th>total</th>\n",
              "    </tr>\n",
              "    <tr>\n",
              "      <th>tz</th>\n",
              "      <th></th>\n",
              "      <th></th>\n",
              "      <th></th>\n",
              "    </tr>\n",
              "  </thead>\n",
              "  <tbody>\n",
              "    <tr>\n",
              "      <th>Africa/Cairo</th>\n",
              "      <td>0.0</td>\n",
              "      <td>3.0</td>\n",
              "      <td>3.0</td>\n",
              "    </tr>\n",
              "    <tr>\n",
              "      <th>Africa/Casablanca</th>\n",
              "      <td>0.0</td>\n",
              "      <td>1.0</td>\n",
              "      <td>1.0</td>\n",
              "    </tr>\n",
              "    <tr>\n",
              "      <th>Africa/Ceuta</th>\n",
              "      <td>0.0</td>\n",
              "      <td>2.0</td>\n",
              "      <td>2.0</td>\n",
              "    </tr>\n",
              "    <tr>\n",
              "      <th>Africa/Johannesburg</th>\n",
              "      <td>0.0</td>\n",
              "      <td>1.0</td>\n",
              "      <td>1.0</td>\n",
              "    </tr>\n",
              "    <tr>\n",
              "      <th>Africa/Lusaka</th>\n",
              "      <td>0.0</td>\n",
              "      <td>1.0</td>\n",
              "      <td>1.0</td>\n",
              "    </tr>\n",
              "    <tr>\n",
              "      <th>...</th>\n",
              "      <td>...</td>\n",
              "      <td>...</td>\n",
              "      <td>...</td>\n",
              "    </tr>\n",
              "    <tr>\n",
              "      <th>Europe/Warsaw</th>\n",
              "      <td>1.0</td>\n",
              "      <td>15.0</td>\n",
              "      <td>16.0</td>\n",
              "    </tr>\n",
              "    <tr>\n",
              "      <th>Europe/Zurich</th>\n",
              "      <td>4.0</td>\n",
              "      <td>0.0</td>\n",
              "      <td>4.0</td>\n",
              "    </tr>\n",
              "    <tr>\n",
              "      <th>Pacific/Auckland</th>\n",
              "      <td>3.0</td>\n",
              "      <td>8.0</td>\n",
              "      <td>11.0</td>\n",
              "    </tr>\n",
              "    <tr>\n",
              "      <th>Pacific/Honolulu</th>\n",
              "      <td>0.0</td>\n",
              "      <td>36.0</td>\n",
              "      <td>36.0</td>\n",
              "    </tr>\n",
              "    <tr>\n",
              "      <th>Unknown</th>\n",
              "      <td>245.0</td>\n",
              "      <td>276.0</td>\n",
              "      <td>521.0</td>\n",
              "    </tr>\n",
              "  </tbody>\n",
              "</table>\n",
              "<p>97 rows × 3 columns</p>\n",
              "</div>"
            ],
            "text/plain": [
              "os                   Other  Windows  total\n",
              "tz                                        \n",
              "Africa/Cairo           0.0      3.0    3.0\n",
              "Africa/Casablanca      0.0      1.0    1.0\n",
              "Africa/Ceuta           0.0      2.0    2.0\n",
              "Africa/Johannesburg    0.0      1.0    1.0\n",
              "Africa/Lusaka          0.0      1.0    1.0\n",
              "...                    ...      ...    ...\n",
              "Europe/Warsaw          1.0     15.0   16.0\n",
              "Europe/Zurich          4.0      0.0    4.0\n",
              "Pacific/Auckland       3.0      8.0   11.0\n",
              "Pacific/Honolulu       0.0     36.0   36.0\n",
              "Unknown              245.0    276.0  521.0\n",
              "\n",
              "[97 rows x 3 columns]"
            ]
          },
          "metadata": {},
          "execution_count": 332
        }
      ]
    },
    {
      "cell_type": "code",
      "metadata": {
        "colab": {
          "base_uri": "https://localhost:8080/",
          "height": 387
        },
        "id": "mtDu56AhpfLb",
        "outputId": "99de73be-10ab-4697-ffd3-fff7e98b770a"
      },
      "source": [
        "top10=tz_os_count.sort_values(by='total',ascending=False).head(n=10)\n",
        "top10"
      ],
      "execution_count": 335,
      "outputs": [
        {
          "output_type": "execute_result",
          "data": {
            "text/html": [
              "<div>\n",
              "<style scoped>\n",
              "    .dataframe tbody tr th:only-of-type {\n",
              "        vertical-align: middle;\n",
              "    }\n",
              "\n",
              "    .dataframe tbody tr th {\n",
              "        vertical-align: top;\n",
              "    }\n",
              "\n",
              "    .dataframe thead th {\n",
              "        text-align: right;\n",
              "    }\n",
              "</style>\n",
              "<table border=\"1\" class=\"dataframe\">\n",
              "  <thead>\n",
              "    <tr style=\"text-align: right;\">\n",
              "      <th>os</th>\n",
              "      <th>Other</th>\n",
              "      <th>Windows</th>\n",
              "      <th>total</th>\n",
              "    </tr>\n",
              "    <tr>\n",
              "      <th>tz</th>\n",
              "      <th></th>\n",
              "      <th></th>\n",
              "      <th></th>\n",
              "    </tr>\n",
              "  </thead>\n",
              "  <tbody>\n",
              "    <tr>\n",
              "      <th>America/New_York</th>\n",
              "      <td>339.0</td>\n",
              "      <td>912.0</td>\n",
              "      <td>1251.0</td>\n",
              "    </tr>\n",
              "    <tr>\n",
              "      <th>Unknown</th>\n",
              "      <td>245.0</td>\n",
              "      <td>276.0</td>\n",
              "      <td>521.0</td>\n",
              "    </tr>\n",
              "    <tr>\n",
              "      <th>America/Chicago</th>\n",
              "      <td>115.0</td>\n",
              "      <td>285.0</td>\n",
              "      <td>400.0</td>\n",
              "    </tr>\n",
              "    <tr>\n",
              "      <th>America/Los_Angeles</th>\n",
              "      <td>130.0</td>\n",
              "      <td>252.0</td>\n",
              "      <td>382.0</td>\n",
              "    </tr>\n",
              "    <tr>\n",
              "      <th>America/Denver</th>\n",
              "      <td>132.0</td>\n",
              "      <td>59.0</td>\n",
              "      <td>191.0</td>\n",
              "    </tr>\n",
              "    <tr>\n",
              "      <th>Europe/London</th>\n",
              "      <td>43.0</td>\n",
              "      <td>31.0</td>\n",
              "      <td>74.0</td>\n",
              "    </tr>\n",
              "    <tr>\n",
              "      <th>Asia/Tokyo</th>\n",
              "      <td>2.0</td>\n",
              "      <td>35.0</td>\n",
              "      <td>37.0</td>\n",
              "    </tr>\n",
              "    <tr>\n",
              "      <th>Pacific/Honolulu</th>\n",
              "      <td>0.0</td>\n",
              "      <td>36.0</td>\n",
              "      <td>36.0</td>\n",
              "    </tr>\n",
              "    <tr>\n",
              "      <th>Europe/Madrid</th>\n",
              "      <td>16.0</td>\n",
              "      <td>19.0</td>\n",
              "      <td>35.0</td>\n",
              "    </tr>\n",
              "    <tr>\n",
              "      <th>America/Sao_Paulo</th>\n",
              "      <td>13.0</td>\n",
              "      <td>20.0</td>\n",
              "      <td>33.0</td>\n",
              "    </tr>\n",
              "  </tbody>\n",
              "</table>\n",
              "</div>"
            ],
            "text/plain": [
              "os                   Other  Windows   total\n",
              "tz                                         \n",
              "America/New_York     339.0    912.0  1251.0\n",
              "Unknown              245.0    276.0   521.0\n",
              "America/Chicago      115.0    285.0   400.0\n",
              "America/Los_Angeles  130.0    252.0   382.0\n",
              "America/Denver       132.0     59.0   191.0\n",
              "Europe/London         43.0     31.0    74.0\n",
              "Asia/Tokyo             2.0     35.0    37.0\n",
              "Pacific/Honolulu       0.0     36.0    36.0\n",
              "Europe/Madrid         16.0     19.0    35.0\n",
              "America/Sao_Paulo     13.0     20.0    33.0"
            ]
          },
          "metadata": {},
          "execution_count": 335
        }
      ]
    },
    {
      "cell_type": "code",
      "metadata": {
        "id": "cMOD8LcSvL58"
      },
      "source": [
        "# pivot_table 함수 사용: groupby-> size-> unstack-> fillna\n",
        "df_clean.pivot_table(index='tz',columns='os',aggfunc='size',fill_value=0)\n",
        "# fill_value= 피벗 테이블을 만들때 Na가 생기는 경우, NA대신 채워주는 값."
      ],
      "execution_count": null,
      "outputs": []
    },
    {
      "cell_type": "code",
      "metadata": {
        "colab": {
          "base_uri": "https://localhost:8080/"
        },
        "id": "a6jJ7-dWwbWZ",
        "outputId": "f20ee234-0e42-44d6-e5f5-6c5fd64e3517"
      },
      "source": [
        "# 시각화(막대 그래프)를 그리기 위해서 unstack되어 있는 데이터프레임을 다시 stack시킴.\n",
        "# 그래프를 그릴 때 Total 변수는 필요가 없기 때문에 stack시키기 전에 Total 변수를 먼저 삭제.\n",
        "stacked= top10.drop(columns='total').stack()\n",
        "stacked #> Series - values은 이름(label) 이 설정되어 있지 않음. "
      ],
      "execution_count": 344,
      "outputs": [
        {
          "output_type": "execute_result",
          "data": {
            "text/plain": [
              "tz                   os     \n",
              "America/New_York     Other      339.0\n",
              "                     Windows    912.0\n",
              "Unknown              Other      245.0\n",
              "                     Windows    276.0\n",
              "America/Chicago      Other      115.0\n",
              "                     Windows    285.0\n",
              "America/Los_Angeles  Other      130.0\n",
              "                     Windows    252.0\n",
              "America/Denver       Other      132.0\n",
              "                     Windows     59.0\n",
              "Europe/London        Other       43.0\n",
              "                     Windows     31.0\n",
              "Asia/Tokyo           Other        2.0\n",
              "                     Windows     35.0\n",
              "Pacific/Honolulu     Other        0.0\n",
              "                     Windows     36.0\n",
              "Europe/Madrid        Other       16.0\n",
              "                     Windows     19.0\n",
              "America/Sao_Paulo    Other       13.0\n",
              "                     Windows     20.0\n",
              "dtype: float64"
            ]
          },
          "metadata": {},
          "execution_count": 344
        }
      ]
    },
    {
      "cell_type": "code",
      "metadata": {
        "colab": {
          "base_uri": "https://localhost:8080/"
        },
        "id": "53-F7-lTzqWU",
        "outputId": "cd45dd15-b604-4feb-87ea-f43fb270d6ac"
      },
      "source": [
        "stacked.name='count' # Series의 Value의 이름을 설정.\n",
        "stacked"
      ],
      "execution_count": 348,
      "outputs": [
        {
          "output_type": "execute_result",
          "data": {
            "text/plain": [
              "tz                   os     \n",
              "America/New_York     Other      339.0\n",
              "                     Windows    912.0\n",
              "Unknown              Other      245.0\n",
              "                     Windows    276.0\n",
              "America/Chicago      Other      115.0\n",
              "                     Windows    285.0\n",
              "America/Los_Angeles  Other      130.0\n",
              "                     Windows    252.0\n",
              "America/Denver       Other      132.0\n",
              "                     Windows     59.0\n",
              "Europe/London        Other       43.0\n",
              "                     Windows     31.0\n",
              "Asia/Tokyo           Other        2.0\n",
              "                     Windows     35.0\n",
              "Pacific/Honolulu     Other        0.0\n",
              "                     Windows     36.0\n",
              "Europe/Madrid        Other       16.0\n",
              "                     Windows     19.0\n",
              "America/Sao_Paulo    Other       13.0\n",
              "                     Windows     20.0\n",
              "Name: count, dtype: float64"
            ]
          },
          "metadata": {},
          "execution_count": 348
        }
      ]
    },
    {
      "cell_type": "code",
      "metadata": {
        "colab": {
          "base_uri": "https://localhost:8080/",
          "height": 663
        },
        "id": "yAK-R4qEzH_E",
        "outputId": "07b8a2f4-509f-400d-9d66-5ef62b243527"
      },
      "source": [
        "result=stacked.reset_index() #인덱스를 제거하고 데이터프레임의 컬럼으로 변환\n",
        "result"
      ],
      "execution_count": 346,
      "outputs": [
        {
          "output_type": "execute_result",
          "data": {
            "text/html": [
              "<div>\n",
              "<style scoped>\n",
              "    .dataframe tbody tr th:only-of-type {\n",
              "        vertical-align: middle;\n",
              "    }\n",
              "\n",
              "    .dataframe tbody tr th {\n",
              "        vertical-align: top;\n",
              "    }\n",
              "\n",
              "    .dataframe thead th {\n",
              "        text-align: right;\n",
              "    }\n",
              "</style>\n",
              "<table border=\"1\" class=\"dataframe\">\n",
              "  <thead>\n",
              "    <tr style=\"text-align: right;\">\n",
              "      <th></th>\n",
              "      <th>tz</th>\n",
              "      <th>os</th>\n",
              "      <th>count</th>\n",
              "    </tr>\n",
              "  </thead>\n",
              "  <tbody>\n",
              "    <tr>\n",
              "      <th>0</th>\n",
              "      <td>America/New_York</td>\n",
              "      <td>Other</td>\n",
              "      <td>339.0</td>\n",
              "    </tr>\n",
              "    <tr>\n",
              "      <th>1</th>\n",
              "      <td>America/New_York</td>\n",
              "      <td>Windows</td>\n",
              "      <td>912.0</td>\n",
              "    </tr>\n",
              "    <tr>\n",
              "      <th>2</th>\n",
              "      <td>Unknown</td>\n",
              "      <td>Other</td>\n",
              "      <td>245.0</td>\n",
              "    </tr>\n",
              "    <tr>\n",
              "      <th>3</th>\n",
              "      <td>Unknown</td>\n",
              "      <td>Windows</td>\n",
              "      <td>276.0</td>\n",
              "    </tr>\n",
              "    <tr>\n",
              "      <th>4</th>\n",
              "      <td>America/Chicago</td>\n",
              "      <td>Other</td>\n",
              "      <td>115.0</td>\n",
              "    </tr>\n",
              "    <tr>\n",
              "      <th>5</th>\n",
              "      <td>America/Chicago</td>\n",
              "      <td>Windows</td>\n",
              "      <td>285.0</td>\n",
              "    </tr>\n",
              "    <tr>\n",
              "      <th>6</th>\n",
              "      <td>America/Los_Angeles</td>\n",
              "      <td>Other</td>\n",
              "      <td>130.0</td>\n",
              "    </tr>\n",
              "    <tr>\n",
              "      <th>7</th>\n",
              "      <td>America/Los_Angeles</td>\n",
              "      <td>Windows</td>\n",
              "      <td>252.0</td>\n",
              "    </tr>\n",
              "    <tr>\n",
              "      <th>8</th>\n",
              "      <td>America/Denver</td>\n",
              "      <td>Other</td>\n",
              "      <td>132.0</td>\n",
              "    </tr>\n",
              "    <tr>\n",
              "      <th>9</th>\n",
              "      <td>America/Denver</td>\n",
              "      <td>Windows</td>\n",
              "      <td>59.0</td>\n",
              "    </tr>\n",
              "    <tr>\n",
              "      <th>10</th>\n",
              "      <td>Europe/London</td>\n",
              "      <td>Other</td>\n",
              "      <td>43.0</td>\n",
              "    </tr>\n",
              "    <tr>\n",
              "      <th>11</th>\n",
              "      <td>Europe/London</td>\n",
              "      <td>Windows</td>\n",
              "      <td>31.0</td>\n",
              "    </tr>\n",
              "    <tr>\n",
              "      <th>12</th>\n",
              "      <td>Asia/Tokyo</td>\n",
              "      <td>Other</td>\n",
              "      <td>2.0</td>\n",
              "    </tr>\n",
              "    <tr>\n",
              "      <th>13</th>\n",
              "      <td>Asia/Tokyo</td>\n",
              "      <td>Windows</td>\n",
              "      <td>35.0</td>\n",
              "    </tr>\n",
              "    <tr>\n",
              "      <th>14</th>\n",
              "      <td>Pacific/Honolulu</td>\n",
              "      <td>Other</td>\n",
              "      <td>0.0</td>\n",
              "    </tr>\n",
              "    <tr>\n",
              "      <th>15</th>\n",
              "      <td>Pacific/Honolulu</td>\n",
              "      <td>Windows</td>\n",
              "      <td>36.0</td>\n",
              "    </tr>\n",
              "    <tr>\n",
              "      <th>16</th>\n",
              "      <td>Europe/Madrid</td>\n",
              "      <td>Other</td>\n",
              "      <td>16.0</td>\n",
              "    </tr>\n",
              "    <tr>\n",
              "      <th>17</th>\n",
              "      <td>Europe/Madrid</td>\n",
              "      <td>Windows</td>\n",
              "      <td>19.0</td>\n",
              "    </tr>\n",
              "    <tr>\n",
              "      <th>18</th>\n",
              "      <td>America/Sao_Paulo</td>\n",
              "      <td>Other</td>\n",
              "      <td>13.0</td>\n",
              "    </tr>\n",
              "    <tr>\n",
              "      <th>19</th>\n",
              "      <td>America/Sao_Paulo</td>\n",
              "      <td>Windows</td>\n",
              "      <td>20.0</td>\n",
              "    </tr>\n",
              "  </tbody>\n",
              "</table>\n",
              "</div>"
            ],
            "text/plain": [
              "                     tz       os  count\n",
              "0      America/New_York    Other  339.0\n",
              "1      America/New_York  Windows  912.0\n",
              "2               Unknown    Other  245.0\n",
              "3               Unknown  Windows  276.0\n",
              "4       America/Chicago    Other  115.0\n",
              "5       America/Chicago  Windows  285.0\n",
              "6   America/Los_Angeles    Other  130.0\n",
              "7   America/Los_Angeles  Windows  252.0\n",
              "8        America/Denver    Other  132.0\n",
              "9        America/Denver  Windows   59.0\n",
              "10        Europe/London    Other   43.0\n",
              "11        Europe/London  Windows   31.0\n",
              "12           Asia/Tokyo    Other    2.0\n",
              "13           Asia/Tokyo  Windows   35.0\n",
              "14     Pacific/Honolulu    Other    0.0\n",
              "15     Pacific/Honolulu  Windows   36.0\n",
              "16        Europe/Madrid    Other   16.0\n",
              "17        Europe/Madrid  Windows   19.0\n",
              "18    America/Sao_Paulo    Other   13.0\n",
              "19    America/Sao_Paulo  Windows   20.0"
            ]
          },
          "metadata": {},
          "execution_count": 346
        }
      ]
    },
    {
      "cell_type": "code",
      "metadata": {
        "colab": {
          "base_uri": "https://localhost:8080/",
          "height": 279
        },
        "id": "zZRUkdWGzRq1",
        "outputId": "904d1115-1d65-4f63-9c17-64a23ec31476"
      },
      "source": [
        "sns.barplot(data=result, x='count',y='tz',hue='os')\n",
        "plt.show()"
      ],
      "execution_count": 347,
      "outputs": [
        {
          "output_type": "display_data",
          "data": {
            "image/png": "[encoded data removed]",
            "text/plain": [
              "<Figure size 432x288 with 1 Axes>"
            ]
          },
          "metadata": {
            "needs_background": "light"
          }
        }
      ]
    }
  ]
}