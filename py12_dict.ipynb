{
  "nbformat": 4,
  "nbformat_minor": 0,
  "metadata": {
    "colab": {
      "name": "py12_dict.ipynb",
      "provenance": [],
      "collapsed_sections": [],
      "authorship_tag": "ABX9TyNqZrQyi7BbtWypOd5WYlv1",
      "include_colab_link": true
    },
    "kernelspec": {
      "name": "python3",
      "display_name": "Python 3"
    },
    "language_info": {
      "name": "python"
    }
  },
  "cells": [
    {
      "cell_type": "markdown",
      "metadata": {
        "id": "view-in-github",
        "colab_type": "text"
      },
      "source": [
        "<a href=\"https://colab.research.google.com/github/sangjin94/SQL_ITWILL/blob/main/py12_dict.ipynb\" target=\"_parent\"><img src=\"https://colab.research.google.com/assets/colab-badge.svg\" alt=\"Open In Colab\"/></a>"
      ]
    },
    {
      "cell_type": "markdown",
      "metadata": {
        "id": "iKEYrLvOr4Bk"
      },
      "source": [
        "#dict"
      ]
    },
    {
      "cell_type": "markdown",
      "metadata": {
        "id": "H7FtYwp-r4xD"
      },
      "source": [
        "\n",
        "**dict**\n",
        "\n",
        "* 사전(dictionary) 형식의 데이터 타입\n",
        "* 키(key)를 기반으로 값(value)을 저장하는 데이터 타입\n",
        "    * (비교) list , tuple 는  index 를 기반으로 값을 저장하는 데이터 타입\n",
        "    * key 의 역할은 list나 tuple에서 인덱스의 역할과 마찬가지로, 사전에 저장되어 있는 유일한 1개의 값을 찾아가기(참조하기) 위한 용도.\n",
        "    \n"
      ]
    },
    {
      "cell_type": "code",
      "metadata": {
        "colab": {
          "base_uri": "https://localhost:8080/"
        },
        "id": "hJDy_cT5t0Zw",
        "outputId": "764d5942-25d2-4bfa-eef2-2c45214a99ed"
      },
      "source": [
        "students={1:'홍길동',2:'오쌤',10: 'Abc'}\n",
        "print(students)\n",
        "print(type(students))\n",
        "print(students.keys()) # dict의 key들 \n",
        "print(students.values()) # dict의 value들"
      ],
      "execution_count": 5,
      "outputs": [
        {
          "output_type": "stream",
          "text": [
            "{1: '홍길동', 2: '오쌤', 10: 'Abc'}\n",
            "<class 'dict'>\n",
            "dict_keys([1, 2, 10])\n",
            "dict_values(['홍길동', '오쌤', 'Abc'])\n"
          ],
          "name": "stdout"
        }
      ]
    },
    {
      "cell_type": "code",
      "metadata": {
        "colab": {
          "base_uri": "https://localhost:8080/"
        },
        "id": "QigvhRjLv9Lm",
        "outputId": "4d49ea46-402c-4925-cac2-5475b27d94c4"
      },
      "source": [
        "# dict[key] - dict에서 key에 해당하는 value \n",
        "print(students[2])"
      ],
      "execution_count": 6,
      "outputs": [
        {
          "output_type": "stream",
          "text": [
            "오쌤\n"
          ],
          "name": "stdout"
        }
      ]
    },
    {
      "cell_type": "code",
      "metadata": {
        "colab": {
          "base_uri": "https://localhost:8080/"
        },
        "id": "2p7TQ-srweEl",
        "outputId": "d4556aa9-d294-411a-99e1-4e4f179f3d7c"
      },
      "source": [
        "# dict[key]= value\n",
        "# 1) key가 dict에 없는 경우, 새로운 key: value 아이템을 dict에 추가\n",
        "students[11]='tiger'\n",
        "print(students)\n",
        "\n",
        "# 2) key가 dict에 있는 경우, 기존 값을 새로운 값으로 변경 \n",
        "students[1]='김길동'\n",
        "print(students)"
      ],
      "execution_count": 9,
      "outputs": [
        {
          "output_type": "stream",
          "text": [
            "{1: '김길동', 2: '오쌤', 10: 'Abc', 11: 'tiger'}\n",
            "{1: '김길동', 2: '오쌤', 10: 'Abc', 11: 'tiger'}\n"
          ],
          "name": "stdout"
        }
      ]
    },
    {
      "cell_type": "markdown",
      "metadata": {
        "id": "Th9mfD8N2z47"
      },
      "source": [
        "# dict의 메서드(기능)"
      ]
    },
    {
      "cell_type": "code",
      "metadata": {
        "colab": {
          "base_uri": "https://localhost:8080/"
        },
        "id": "TDqalcQY1uyL",
        "outputId": "552b3670-0d3f-409c-f027-3ec6fd379dfa"
      },
      "source": [
        "book={'title' : '혼자 공부하는 파이썬',\n",
        "      'author' : '윤인성',\n",
        "      'price' : 18000 }\n",
        "print(book)"
      ],
      "execution_count": 11,
      "outputs": [
        {
          "output_type": "stream",
          "text": [
            "{'title': '혼자 공부하는 파이썬', 'author': '윤인성', 'price': 18000}\n"
          ],
          "name": "stdout"
        }
      ]
    },
    {
      "cell_type": "code",
      "metadata": {
        "colab": {
          "base_uri": "https://localhost:8080/"
        },
        "id": "a-pFqF7c2xmn",
        "outputId": "fc5a5ba4-7f9a-478c-f706-c401f20a63e9"
      },
      "source": [
        "book.keys()"
      ],
      "execution_count": 13,
      "outputs": [
        {
          "output_type": "execute_result",
          "data": {
            "text/plain": [
              "dict_keys(['title', 'author', 'price'])"
            ]
          },
          "metadata": {
            "tags": []
          },
          "execution_count": 13
        }
      ]
    },
    {
      "cell_type": "code",
      "metadata": {
        "colab": {
          "base_uri": "https://localhost:8080/"
        },
        "id": "IxcLefGu4CA2",
        "outputId": "730ab1fa-d555-45bd-92a6-70fef969ba6f"
      },
      "source": [
        "book.values()"
      ],
      "execution_count": 15,
      "outputs": [
        {
          "output_type": "execute_result",
          "data": {
            "text/plain": [
              "dict_values(['혼자 공부하는 파이썬', '윤인성', 18000])"
            ]
          },
          "metadata": {
            "tags": []
          },
          "execution_count": 15
        }
      ]
    },
    {
      "cell_type": "code",
      "metadata": {
        "colab": {
          "base_uri": "https://localhost:8080/"
        },
        "id": "t2OjmuoF4Ev3",
        "outputId": "ae3033c7-45e7-4dc4-8dec-df15aabef1dc"
      },
      "source": [
        "book.items()"
      ],
      "execution_count": 18,
      "outputs": [
        {
          "output_type": "execute_result",
          "data": {
            "text/plain": [
              "dict_items([('title', '혼자 공부하는 파이썬'), ('author', '윤인성'), ('price', 18000)])"
            ]
          },
          "metadata": {
            "tags": []
          },
          "execution_count": 18
        }
      ]
    },
    {
      "cell_type": "code",
      "metadata": {
        "colab": {
          "base_uri": "https://localhost:8080/",
          "height": 36
        },
        "id": "3BClf7G94wfi",
        "outputId": "9b72de73-80fa-427b-8347-b2f836341ada"
      },
      "source": [
        "book.get('title')\n",
        "book['title']\n"
      ],
      "execution_count": 24,
      "outputs": [
        {
          "output_type": "execute_result",
          "data": {
            "application/vnd.google.colaboratory.intrinsic+json": {
              "type": "string"
            },
            "text/plain": [
              "'혼자 공부하는 파이썬'"
            ]
          },
          "metadata": {
            "tags": []
          },
          "execution_count": 24
        }
      ]
    },
    {
      "cell_type": "code",
      "metadata": {
        "id": "6GlPV8jI6DYt"
      },
      "source": [
        "# book['isbn']\n",
        "#> dict[key]를 사용하는 경우, key가 dict 에 없는 경우에는 keyError가 발생함.\n",
        "\n",
        "print(book.get('isbn'))\n",
        "#> dict.get(key) 매서드를 사용하는 경우, key가 dict에 없는 경우에 에러 대신 None을 반환."
      ],
      "execution_count": null,
      "outputs": []
    },
    {
      "cell_type": "code",
      "metadata": {
        "colab": {
          "base_uri": "https://localhost:8080/"
        },
        "id": "4l-kOh8q8MQ4",
        "outputId": "6b83cae1-0533-4cc4-c9b4-f06498c503ef"
      },
      "source": [
        "book.pop('price')\n",
        "print(book)"
      ],
      "execution_count": 26,
      "outputs": [
        {
          "output_type": "stream",
          "text": [
            "{'title': '혼자 공부하는 파이썬', 'author': '윤인성', '가격': 18000}\n"
          ],
          "name": "stdout"
        }
      ]
    },
    {
      "cell_type": "code",
      "metadata": {
        "colab": {
          "base_uri": "https://localhost:8080/"
        },
        "id": "YTRpFP8N8Pwr",
        "outputId": "134efd06-7966-4d48-c325-3b128e3895b2"
      },
      "source": [
        "book['가격']=18000\n",
        "print(book)"
      ],
      "execution_count": 25,
      "outputs": [
        {
          "output_type": "stream",
          "text": [
            "{'title': '혼자 공부하는 파이썬', 'author': '윤인성', 'price': 18000, '가격': 18000}\n"
          ],
          "name": "stdout"
        }
      ]
    },
    {
      "cell_type": "markdown",
      "metadata": {
        "id": "QIRzlbFm8ZDH"
      },
      "source": [
        "dict는 key와 value 모두 다양한 타입의 자료들을 사용할 수 있음."
      ]
    },
    {
      "cell_type": "code",
      "metadata": {
        "colab": {
          "base_uri": "https://localhost:8080/"
        },
        "id": "DxG3HX4M8ddv",
        "outputId": "4fcdd046-9b7d-49d9-c13f-2b8c668cfe96"
      },
      "source": [
        "contact={'no':1,\n",
        "         'name':'오썜',\n",
        "         'phone':['010-0000-0000','02-0000-0000','02-1234-5678'],\n",
        "         'email': {'personal':'jake@gamil.com','company':'jake@itwill.co.kr'}}\n",
        "print(contact)\n"
      ],
      "execution_count": 28,
      "outputs": [
        {
          "output_type": "stream",
          "text": [
            "{'no': 1, 'name': '오썜', 'phone': ['010-0000-0000', '02-0000-0000', '02-1234-5678'], 'email': {'personal': 'jake@gamil.com', 'company': 'jake@itwill.co.kr'}}\n"
          ],
          "name": "stdout"
        }
      ]
    },
    {
      "cell_type": "code",
      "metadata": {
        "colab": {
          "base_uri": "https://localhost:8080/"
        },
        "id": "z6tnEszd-Lo9",
        "outputId": "b7bf7675-75b4-4281-9ee2-e01952c8b524"
      },
      "source": [
        "print(contact['phone']) #> 리스트(list)\n",
        "print(contact['phone'][0]) #> 인덱스 리스트의 원소를 참조"
      ],
      "execution_count": 34,
      "outputs": [
        {
          "output_type": "stream",
          "text": [
            "['010-0000-0000', '02-0000-0000', '02-1234-5678']\n",
            "010-0000-0000\n"
          ],
          "name": "stdout"
        }
      ]
    },
    {
      "cell_type": "code",
      "metadata": {
        "colab": {
          "base_uri": "https://localhost:8080/"
        },
        "id": "WIYclXrs-pqf",
        "outputId": "07008f98-e91c-41ba-ca6a-857e68ce80a0"
      },
      "source": [
        "print(contact['email']) #> dict\n",
        "print(contact['email']['company']) #> key -> value 참조"
      ],
      "execution_count": 33,
      "outputs": [
        {
          "output_type": "stream",
          "text": [
            "{'personal': 'jake@gamil.com', 'company': 'jake@itwill.co.kr'}\n",
            "jake@itwill.co.kr\n"
          ],
          "name": "stdout"
        }
      ]
    }
  ]
}