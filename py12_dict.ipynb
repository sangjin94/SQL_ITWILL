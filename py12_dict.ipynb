{
  "nbformat": 4,
  "nbformat_minor": 0,
  "metadata": {
    "colab": {
      "name": "py12_dict.ipynb",
      "provenance": [],
      "collapsed_sections": [],
      "authorship_tag": "ABX9TyNbomAMEuSrCUlRNUYauDmb",
      "include_colab_link": true
    },
    "kernelspec": {
      "name": "python3",
      "display_name": "Python 3"
    },
    "language_info": {
      "name": "python"
    }
  },
  "cells": [
    {
      "cell_type": "markdown",
      "metadata": {
        "id": "view-in-github",
        "colab_type": "text"
      },
      "source": [
        "<a href=\"https://colab.research.google.com/github/sangjin94/SQL_ITWILL/blob/main/py12_dict.ipynb\" target=\"_parent\"><img src=\"https://colab.research.google.com/assets/colab-badge.svg\" alt=\"Open In Colab\"/></a>"
      ]
    },
    {
      "cell_type": "markdown",
      "metadata": {
        "id": "iKEYrLvOr4Bk"
      },
      "source": [
        "#dict"
      ]
    },
    {
      "cell_type": "markdown",
      "metadata": {
        "id": "H7FtYwp-r4xD"
      },
      "source": [
        "\n",
        "**dict**\n",
        "\n",
        "* 사전(dictionary) 형식의 데이터 타입\n",
        "* 키(key)를 기반으로 값(value)을 저장하는 데이터 타입\n",
        "    * (비교) list , tuple 는  index 를 기반으로 값을 저장하는 데이터 타입\n",
        "    * key 의 역할은 list나 tuple에서 인덱스의 역할과 마찬가지로, 사전에 저장되어 있는 유일한 1개의 값을 찾아가기(참조하기) 위한 용도.\n",
        "    \n"
      ]
    },
    {
      "cell_type": "code",
      "metadata": {
        "colab": {
          "base_uri": "https://localhost:8080/"
        },
        "id": "hJDy_cT5t0Zw",
        "outputId": "3e643cbb-ea1e-4946-86cb-dd329325e854"
      },
      "source": [
        "students={1:'홍길동',2:'오쌤',10: 'Abc'}\n",
        "print(students)\n",
        "print(type(students))\n",
        "print(students.keys()) # dict의 key들 \n",
        "print(students.values()) # dict의 value들"
      ],
      "execution_count": 1,
      "outputs": [
        {
          "output_type": "stream",
          "text": [
            "{1: '홍길동', 2: '오쌤', 10: 'Abc'}\n",
            "<class 'dict'>\n",
            "dict_keys([1, 2, 10])\n",
            "dict_values(['홍길동', '오쌤', 'Abc'])\n"
          ],
          "name": "stdout"
        }
      ]
    },
    {
      "cell_type": "code",
      "metadata": {
        "colab": {
          "base_uri": "https://localhost:8080/"
        },
        "id": "QigvhRjLv9Lm",
        "outputId": "1a6c3731-52e2-4fa0-e7ea-4952316c8c36"
      },
      "source": [
        "# dict[key] - dict에서 key에 해당하는 value \n",
        "print(students[2])"
      ],
      "execution_count": 2,
      "outputs": [
        {
          "output_type": "stream",
          "text": [
            "오쌤\n"
          ],
          "name": "stdout"
        }
      ]
    },
    {
      "cell_type": "code",
      "metadata": {
        "colab": {
          "base_uri": "https://localhost:8080/"
        },
        "id": "2p7TQ-srweEl",
        "outputId": "6a101966-4e76-460a-abe2-ce0f8de5b43c"
      },
      "source": [
        "# dict[key]= value\n",
        "# 1) key가 dict에 없는 경우, 새로운 key: value 아이템을 dict에 추가\n",
        "students[11]='tiger'\n",
        "print(students)\n",
        "\n",
        "# 2) key가 dict에 있는 경우, 기존 값을 새로운 값으로 변경 \n",
        "students[1]='김길동'\n",
        "print(students)"
      ],
      "execution_count": 3,
      "outputs": [
        {
          "output_type": "stream",
          "text": [
            "{1: '홍길동', 2: '오쌤', 10: 'Abc', 11: 'tiger'}\n",
            "{1: '김길동', 2: '오쌤', 10: 'Abc', 11: 'tiger'}\n"
          ],
          "name": "stdout"
        }
      ]
    },
    {
      "cell_type": "markdown",
      "metadata": {
        "id": "Th9mfD8N2z47"
      },
      "source": [
        "# dict의 메서드(기능)"
      ]
    },
    {
      "cell_type": "code",
      "metadata": {
        "colab": {
          "base_uri": "https://localhost:8080/"
        },
        "id": "TDqalcQY1uyL",
        "outputId": "c53934b7-e834-44bf-ab88-9e13cef53b9f"
      },
      "source": [
        "book={'title' : '혼자 공부하는 파이썬',\n",
        "      'author' : '윤인성',\n",
        "      'price' : 18000 }\n",
        "print(book)"
      ],
      "execution_count": 4,
      "outputs": [
        {
          "output_type": "stream",
          "text": [
            "{'title': '혼자 공부하는 파이썬', 'author': '윤인성', 'price': 18000}\n"
          ],
          "name": "stdout"
        }
      ]
    },
    {
      "cell_type": "code",
      "metadata": {
        "colab": {
          "base_uri": "https://localhost:8080/"
        },
        "id": "a-pFqF7c2xmn",
        "outputId": "8c707787-e531-4fd4-e4a3-ae8cc8aa170c"
      },
      "source": [
        "book.keys()"
      ],
      "execution_count": 5,
      "outputs": [
        {
          "output_type": "execute_result",
          "data": {
            "text/plain": [
              "dict_keys(['title', 'author', 'price'])"
            ]
          },
          "metadata": {
            "tags": []
          },
          "execution_count": 5
        }
      ]
    },
    {
      "cell_type": "code",
      "metadata": {
        "colab": {
          "base_uri": "https://localhost:8080/"
        },
        "id": "IxcLefGu4CA2",
        "outputId": "b84cbc17-5e29-45bc-a095-32aae5f45bc5"
      },
      "source": [
        "book.values()"
      ],
      "execution_count": 6,
      "outputs": [
        {
          "output_type": "execute_result",
          "data": {
            "text/plain": [
              "dict_values(['혼자 공부하는 파이썬', '윤인성', 18000])"
            ]
          },
          "metadata": {
            "tags": []
          },
          "execution_count": 6
        }
      ]
    },
    {
      "cell_type": "code",
      "metadata": {
        "colab": {
          "base_uri": "https://localhost:8080/"
        },
        "id": "t2OjmuoF4Ev3",
        "outputId": "5b6a4481-a6cd-4f25-e376-979901e9b20d"
      },
      "source": [
        "book.items()"
      ],
      "execution_count": 7,
      "outputs": [
        {
          "output_type": "execute_result",
          "data": {
            "text/plain": [
              "dict_items([('title', '혼자 공부하는 파이썬'), ('author', '윤인성'), ('price', 18000)])"
            ]
          },
          "metadata": {
            "tags": []
          },
          "execution_count": 7
        }
      ]
    },
    {
      "cell_type": "code",
      "metadata": {
        "colab": {
          "base_uri": "https://localhost:8080/",
          "height": 36
        },
        "id": "3BClf7G94wfi",
        "outputId": "2bbd6cf4-c293-421a-e26e-be4576e7230d"
      },
      "source": [
        "book.get('title')\n",
        "book['title']\n"
      ],
      "execution_count": 8,
      "outputs": [
        {
          "output_type": "execute_result",
          "data": {
            "application/vnd.google.colaboratory.intrinsic+json": {
              "type": "string"
            },
            "text/plain": [
              "'혼자 공부하는 파이썬'"
            ]
          },
          "metadata": {
            "tags": []
          },
          "execution_count": 8
        }
      ]
    },
    {
      "cell_type": "code",
      "metadata": {
        "id": "6GlPV8jI6DYt",
        "colab": {
          "base_uri": "https://localhost:8080/"
        },
        "outputId": "40656be7-ca1e-4531-e04b-03cb623092ab"
      },
      "source": [
        "# book['isbn']\n",
        "#> dict[key]를 사용하는 경우, key가 dict 에 없는 경우에는 keyError가 발생함.\n",
        "\n",
        "print(book.get('isbn'))\n",
        "#> dict.get(key) 매서드를 사용하는 경우, key가 dict에 없는 경우에 에러 대신 None을 반환."
      ],
      "execution_count": 9,
      "outputs": [
        {
          "output_type": "stream",
          "text": [
            "None\n"
          ],
          "name": "stdout"
        }
      ]
    },
    {
      "cell_type": "code",
      "metadata": {
        "colab": {
          "base_uri": "https://localhost:8080/"
        },
        "id": "4l-kOh8q8MQ4",
        "outputId": "fc3a06a7-e523-48cf-aa89-6803c17c5f9d"
      },
      "source": [
        "book.pop('price')\n",
        "print(book)"
      ],
      "execution_count": 10,
      "outputs": [
        {
          "output_type": "stream",
          "text": [
            "{'title': '혼자 공부하는 파이썬', 'author': '윤인성'}\n"
          ],
          "name": "stdout"
        }
      ]
    },
    {
      "cell_type": "code",
      "metadata": {
        "colab": {
          "base_uri": "https://localhost:8080/"
        },
        "id": "YTRpFP8N8Pwr",
        "outputId": "ce6dc307-9993-4289-9516-8e1012739b1d"
      },
      "source": [
        "book['가격']=18000\n",
        "print(book)"
      ],
      "execution_count": 11,
      "outputs": [
        {
          "output_type": "stream",
          "text": [
            "{'title': '혼자 공부하는 파이썬', 'author': '윤인성', '가격': 18000}\n"
          ],
          "name": "stdout"
        }
      ]
    },
    {
      "cell_type": "markdown",
      "metadata": {
        "id": "QIRzlbFm8ZDH"
      },
      "source": [
        "dict는 key와 value 모두 다양한 타입의 자료들을 사용할 수 있음."
      ]
    },
    {
      "cell_type": "code",
      "metadata": {
        "colab": {
          "base_uri": "https://localhost:8080/"
        },
        "id": "DxG3HX4M8ddv",
        "outputId": "8e63f49a-2f92-4c95-9af7-73ff8156255e"
      },
      "source": [
        "contact={'no':1,\n",
        "         'name':'오썜',\n",
        "         'phone':['010-0000-0000','02-0000-0000','02-1234-5678'],\n",
        "         'email': {'personal':'jake@gamil.com','company':'jake@itwill.co.kr'}}\n",
        "print(contact)\n"
      ],
      "execution_count": 12,
      "outputs": [
        {
          "output_type": "stream",
          "text": [
            "{'no': 1, 'name': '오썜', 'phone': ['010-0000-0000', '02-0000-0000', '02-1234-5678'], 'email': {'personal': 'jake@gamil.com', 'company': 'jake@itwill.co.kr'}}\n"
          ],
          "name": "stdout"
        }
      ]
    },
    {
      "cell_type": "code",
      "metadata": {
        "colab": {
          "base_uri": "https://localhost:8080/"
        },
        "id": "z6tnEszd-Lo9",
        "outputId": "61ed5732-790f-44ea-c976-a4b43ae9a705"
      },
      "source": [
        "print(contact['phone']) #> 리스트(list)\n",
        "print(contact['phone'][0]) #> 인덱스 리스트의 원소를 참조"
      ],
      "execution_count": 13,
      "outputs": [
        {
          "output_type": "stream",
          "text": [
            "['010-0000-0000', '02-0000-0000', '02-1234-5678']\n",
            "010-0000-0000\n"
          ],
          "name": "stdout"
        }
      ]
    },
    {
      "cell_type": "code",
      "metadata": {
        "colab": {
          "base_uri": "https://localhost:8080/"
        },
        "id": "WIYclXrs-pqf",
        "outputId": "a14824e3-3e99-46ca-b18a-8520232529c8"
      },
      "source": [
        "print(contact['email']) #> dict\n",
        "print(contact['email']['company']) #> key -> value 참조"
      ],
      "execution_count": 14,
      "outputs": [
        {
          "output_type": "stream",
          "text": [
            "{'personal': 'jake@gamil.com', 'company': 'jake@itwill.co.kr'}\n",
            "jake@itwill.co.kr\n"
          ],
          "name": "stdout"
        }
      ]
    },
    {
      "cell_type": "code",
      "metadata": {
        "id": "WQ1I2HaUEPns",
        "colab": {
          "base_uri": "https://localhost:8080/"
        },
        "outputId": "a7e1009b-f9b0-44ab-f899-be5c42b76900"
      },
      "source": [
        "numbers= [10,5,7] # list\n",
        "print(numbers[0]) # list_name[index]"
      ],
      "execution_count": 17,
      "outputs": [
        {
          "output_type": "stream",
          "text": [
            "10\n"
          ],
          "name": "stdout"
        }
      ]
    },
    {
      "cell_type": "code",
      "metadata": {
        "id": "p7pL4iYkEh2a"
      },
      "source": [
        "data={'name':'오쌤','age':16,1:100,2:'abc'} # dict\n",
        "print(data['name'])\n",
        "print(data[1])"
      ],
      "execution_count": null,
      "outputs": []
    },
    {
      "cell_type": "markdown",
      "metadata": {
        "id": "AS3afPfnHGTy"
      },
      "source": [
        "#dict 와 for 반복문"
      ]
    },
    {
      "cell_type": "code",
      "metadata": {
        "id": "plPZ69atHDlQ"
      },
      "source": [
        "menu={'짜장면':5000, '짬뽕':6000, '볶음밥':6000}"
      ],
      "execution_count": 1,
      "outputs": []
    },
    {
      "cell_type": "code",
      "metadata": {
        "colab": {
          "base_uri": "https://localhost:8080/"
        },
        "id": "XHmGAJuwJPpU",
        "outputId": "acde22b1-0e60-4deb-9a40-fb3638bf45c7"
      },
      "source": [
        "for x in menu: \n",
        "  print(x)\n",
        "# for-in 구문에서 dict를 사용하면 key를 iteration한다. \n"
      ],
      "execution_count": 2,
      "outputs": [
        {
          "output_type": "stream",
          "text": [
            "짜장면\n",
            "짬뽕\n",
            "볶음밥\n"
          ],
          "name": "stdout"
        }
      ]
    },
    {
      "cell_type": "code",
      "metadata": {
        "colab": {
          "base_uri": "https://localhost:8080/"
        },
        "id": "KCheZkmIKI-D",
        "outputId": "eaa388b5-6b6d-4f94-d817-0fe2fbf3fb89"
      },
      "source": [
        "for key in menu: \n",
        "  print(key,':',menu[key])\n",
        "  "
      ],
      "execution_count": 3,
      "outputs": [
        {
          "output_type": "stream",
          "text": [
            "짜장면 : 5000\n",
            "짬뽕 : 6000\n",
            "볶음밥 : 6000\n"
          ],
          "name": "stdout"
        }
      ]
    },
    {
      "cell_type": "markdown",
      "metadata": {
        "id": "xNT2nL0ERJQw"
      },
      "source": [
        "# Dictionary Comprehension"
      ]
    },
    {
      "cell_type": "code",
      "metadata": {
        "colab": {
          "base_uri": "https://localhost:8080/"
        },
        "id": "hAnZpKkORN-Z",
        "outputId": "8eb513b5-8ebf-494e-8579-3047a0ed046c"
      },
      "source": [
        "emp_no=[101,102,201,202] # 사번을 저장하는 리스트\n",
        "emp_name=['King','Scott','Allen','오쌤'] # 직원 이름 리스트\n",
        "\n",
        "# 사번을 key 로 하고 이름을 value로 갖는 dict를 생성.\n",
        "\n",
        "# 1) empty dict 생성\n",
        "employees= {}   # employees=dict()\n",
        "\n",
        "# 2) emp_no, emp_name 리스트의 원소들을 차례로 반복하면서 , employees[key]= value\n",
        "for k,v in zip(emp_no,emp_name):\n",
        "  employees[k]=v\n",
        "print(employees)"
      ],
      "execution_count": 5,
      "outputs": [
        {
          "output_type": "stream",
          "text": [
            "{101: 'King', 102: 'Scott', 201: 'Allen', 202: '오쌤'}\n"
          ],
          "name": "stdout"
        }
      ]
    },
    {
      "cell_type": "code",
      "metadata": {
        "colab": {
          "base_uri": "https://localhost:8080/"
        },
        "id": "8aaa5Dg0UHVh",
        "outputId": "7ad8c8c3-1cf3-4560-f2be-204e707ed5ee"
      },
      "source": [
        "# dictionary comprehension: {k:v for k,v in iterable}\n",
        "employees= {k:v for k,v in zip(emp_no,emp_name)}\n",
        "print(employees)"
      ],
      "execution_count": 6,
      "outputs": [
        {
          "output_type": "stream",
          "text": [
            "{101: 'King', 102: 'Scott', 201: 'Allen', 202: '오쌤'}\n"
          ],
          "name": "stdout"
        }
      ]
    },
    {
      "cell_type": "code",
      "metadata": {
        "colab": {
          "base_uri": "https://localhost:8080/"
        },
        "id": "P9Dgip5NXIAF",
        "outputId": "a8a72f98-fd35-4a1a-9e7a-9bc5133defa1"
      },
      "source": [
        "fruits=['apple','banana','cherry','pineapple','watermelon','딸기','복숭아']\n",
        "\n",
        "# {과일이름:이름길이 }형식의 dict를 생성\n",
        "nature={}\n",
        "for r in fruits:\n",
        "  nature[r]=len(r)\n",
        "print(nature)  "
      ],
      "execution_count": 7,
      "outputs": [
        {
          "output_type": "stream",
          "text": [
            "{'apple': 5, 'banana': 6, 'cherry': 6, 'pineapple': 9, 'watermelon': 10, '딸기': 2, '복숭아': 3}\n"
          ],
          "name": "stdout"
        }
      ]
    },
    {
      "cell_type": "code",
      "metadata": {
        "colab": {
          "base_uri": "https://localhost:8080/"
        },
        "id": "tlkffrmQaOZ_",
        "outputId": "f0be13ed-7844-4623-8f2e-ab02f97580ff"
      },
      "source": [
        "nature2={x:len(x) for x in fruits}\n",
        "print(nature2)"
      ],
      "execution_count": 8,
      "outputs": [
        {
          "output_type": "stream",
          "text": [
            "{'apple': 5, 'banana': 6, 'cherry': 6, 'pineapple': 9, 'watermelon': 10, '딸기': 2, '복숭아': 3}\n"
          ],
          "name": "stdout"
        }
      ]
    },
    {
      "cell_type": "markdown",
      "metadata": {
        "id": "kIm6Mge3apBZ"
      },
      "source": [
        "# Word Counting"
      ]
    },
    {
      "cell_type": "code",
      "metadata": {
        "id": "HnemQs5VarmU"
      },
      "source": [
        "words=['one','little','two','little','three','little','indian','indian']"
      ],
      "execution_count": 9,
      "outputs": []
    },
    {
      "cell_type": "markdown",
      "metadata": {
        "id": "lWQju8Ula9Lt"
      },
      "source": [
        "리스트 words에 등장하는 단어를 dict의 key로 하고, 그 단어가 등장하는 횟수를 value로 하는 dict를 만들어 보세요. \n",
        "\n",
        "> 힌트: dic,for,if 이용\n",
        "        defaultdict 데이터 타입 이용."
      ]
    },
    {
      "cell_type": "code",
      "metadata": {
        "colab": {
          "base_uri": "https://localhost:8080/"
        },
        "id": "lKuhlhfYa8JT",
        "outputId": "0b073e83-265f-4b23-d831-cbc25f590a2e"
      },
      "source": [
        "answer={}\n",
        "for x in words:\n",
        "  answer[x]=words.count(x)\n",
        "answer"
      ],
      "execution_count": 10,
      "outputs": [
        {
          "output_type": "execute_result",
          "data": {
            "text/plain": [
              "{'indian': 2, 'little': 3, 'one': 1, 'three': 1, 'two': 1}"
            ]
          },
          "metadata": {
            "tags": []
          },
          "execution_count": 10
        }
      ]
    },
    {
      "cell_type": "code",
      "metadata": {
        "colab": {
          "base_uri": "https://localhost:8080/"
        },
        "id": "Tq7XTFYhgORv",
        "outputId": "795db200-434a-4a58-a1ac-2dc80cdf4eb6"
      },
      "source": [
        "word_counts4 = { w:words.count(w) for w in words}  # dictionary comprehension\n",
        "word_counts4"
      ],
      "execution_count": 20,
      "outputs": [
        {
          "output_type": "execute_result",
          "data": {
            "text/plain": [
              "{'indian': 2, 'little': 3, 'one': 1, 'three': 1, 'two': 1}"
            ]
          },
          "metadata": {
            "tags": []
          },
          "execution_count": 20
        }
      ]
    },
    {
      "cell_type": "code",
      "metadata": {
        "colab": {
          "base_uri": "https://localhost:8080/"
        },
        "id": "UWXzWxEiSleY",
        "outputId": "b9fd5f34-bf12-4223-c2cd-020b61f4669f"
      },
      "source": [
        "# empty dict 생성\n",
        "word_counts={} # word_counts= dict()\n",
        "\n",
        "for w in words:  # 리스트 words가 가지고 있는 문자열 w에 대해서 반복하면서\n",
        "  if w in word_counts: #문자열 w가  word_counts의 key로 존재하는지 검사\n",
        "    word_counts[w] += 1 # 단어 등장 횟수를 1 증가\n",
        "  else:  # 문자열 w가 처음 등장한 경우\n",
        "    word_counts[w]=1  # 단어 등장 횟수를 1로 설정.\n",
        "\n",
        "word_counts"
      ],
      "execution_count": 17,
      "outputs": [
        {
          "output_type": "execute_result",
          "data": {
            "text/plain": [
              "{'indian': 2, 'little': 3, 'one': 1, 'three': 1, 'two': 1}"
            ]
          },
          "metadata": {
            "tags": []
          },
          "execution_count": 17
        }
      ]
    },
    {
      "cell_type": "code",
      "metadata": {
        "id": "fWhBsJYDbP8S"
      },
      "source": [
        "from collections import defaultdict\n",
        "# collections 모듈에서 defaultdict 데이터 타입을 import "
      ],
      "execution_count": 14,
      "outputs": []
    },
    {
      "cell_type": "code",
      "metadata": {
        "colab": {
          "base_uri": "https://localhost:8080/"
        },
        "id": "BjY8hh4Jb5zi",
        "outputId": "48e9018a-4ba5-4204-d256-e514aeff1f15"
      },
      "source": [
        "word_counts2=defaultdict(int)\n",
        "# dictionary의 value의 데이터 타입은 int임을 설정\n",
        "for w in words:\n",
        "  word_counts2[w] +=1 # word_counts2[w] = word_counts2[w] + 1\n",
        "  print(word_counts2)"
      ],
      "execution_count": 16,
      "outputs": [
        {
          "output_type": "stream",
          "text": [
            "defaultdict(<class 'int'>, {'one': 1})\n",
            "defaultdict(<class 'int'>, {'one': 1, 'little': 1})\n",
            "defaultdict(<class 'int'>, {'one': 1, 'little': 1, 'two': 1})\n",
            "defaultdict(<class 'int'>, {'one': 1, 'little': 2, 'two': 1})\n",
            "defaultdict(<class 'int'>, {'one': 1, 'little': 2, 'two': 1, 'three': 1})\n",
            "defaultdict(<class 'int'>, {'one': 1, 'little': 3, 'two': 1, 'three': 1})\n",
            "defaultdict(<class 'int'>, {'one': 1, 'little': 3, 'two': 1, 'three': 1, 'indian': 1})\n",
            "defaultdict(<class 'int'>, {'one': 1, 'little': 3, 'two': 1, 'three': 1, 'indian': 2})\n"
          ],
          "name": "stdout"
        }
      ]
    }
  ]
}