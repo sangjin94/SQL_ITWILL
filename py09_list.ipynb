{
  "nbformat": 4,
  "nbformat_minor": 0,
  "metadata": {
    "colab": {
      "name": "py09_list.ipynb",
      "provenance": [],
      "collapsed_sections": [],
      "authorship_tag": "ABX9TyOyqazxukez0zTZKeZ2fQkD",
      "include_colab_link": true
    },
    "kernelspec": {
      "name": "python3",
      "display_name": "Python 3"
    },
    "language_info": {
      "name": "python"
    }
  },
  "cells": [
    {
      "cell_type": "markdown",
      "metadata": {
        "id": "view-in-github",
        "colab_type": "text"
      },
      "source": [
        "<a href=\"https://colab.research.google.com/github/sangjin94/SQL_ITWILL/blob/main/py09_list.ipynb\" target=\"_parent\"><img src=\"https://colab.research.google.com/assets/colab-badge.svg\" alt=\"Open In Colab\"/></a>"
      ]
    },
    {
      "cell_type": "markdown",
      "metadata": {
        "id": "MYrzRNg21O8K"
      },
      "source": [
        "# 리스트와 for 반복문"
      ]
    },
    {
      "cell_type": "code",
      "metadata": {
        "id": "9JuN5OEH1TLP"
      },
      "source": [
        "import random # 난수 생성 함수를 가지고 있는 모듈 사용"
      ],
      "execution_count": 1,
      "outputs": []
    },
    {
      "cell_type": "markdown",
      "metadata": {
        "id": "SdgKM1wS1nH3"
      },
      "source": [
        "*    empty list 생성 - numbers\n",
        "*    10~100 범위의 정수 난수 10개를 리스트에 추가하고 출력'\n",
        "*    리스트의 원소들 중 짝수들로만 이루어진 새로운 리스트를 생성하고 출력 -evens\n",
        "*    리스트의 원소들 중 홀수들로만 이루어진 새로운 리스트를 생성하고 출력 - odds"
      ]
    },
    {
      "cell_type": "code",
      "metadata": {
        "colab": {
          "base_uri": "https://localhost:8080/"
        },
        "id": "UAEMrDIi2E14",
        "outputId": "f752c21f-933c-4709-efd4-32b82d6bcb36"
      },
      "source": [
        "numbers=[]\n",
        "for _ in range(10):\n",
        "  numbers.append(random.randrange(10,101))\n",
        "print(numbers)"
      ],
      "execution_count": 4,
      "outputs": [
        {
          "output_type": "stream",
          "text": [
            "[75, 35, 45, 88, 54, 86, 93, 30, 29, 46]\n"
          ],
          "name": "stdout"
        }
      ]
    },
    {
      "cell_type": "code",
      "metadata": {
        "colab": {
          "base_uri": "https://localhost:8080/"
        },
        "id": "I4edEaZh2jAX",
        "outputId": "6d8a0c92-bffe-4f3e-feed-24d5de6e01eb"
      },
      "source": [
        "evens=[]\n",
        "for i in numbers:\n",
        " if i % 2 == 0:\n",
        "   evens.append(i) \n",
        "print(evens)   "
      ],
      "execution_count": 12,
      "outputs": [
        {
          "output_type": "stream",
          "text": [
            "[88, 54, 86, 30, 46]\n"
          ],
          "name": "stdout"
        }
      ]
    },
    {
      "cell_type": "code",
      "metadata": {
        "colab": {
          "base_uri": "https://localhost:8080/"
        },
        "id": "-uDgaR853jbf",
        "outputId": "08ca5c8b-518a-41ac-9e49-a2d0736e78ac"
      },
      "source": [
        "odds=[]\n",
        "for i in numbers:\n",
        " if i % 2 == 1:\n",
        "   odds.append(i) \n",
        "print(odds)   "
      ],
      "execution_count": 13,
      "outputs": [
        {
          "output_type": "stream",
          "text": [
            "[75, 35, 45, 93, 29]\n"
          ],
          "name": "stdout"
        }
      ]
    },
    {
      "cell_type": "markdown",
      "metadata": {
        "id": "Wr91cm-39rFL"
      },
      "source": [
        "* ` random.randrange(start,stop)` : start<= r < stop 범위\n",
        "* ` random.randint(start,stop)` : statr<= r <= stop 범위"
      ]
    },
    {
      "cell_type": "markdown",
      "metadata": {
        "id": "lgXNOZpF3wIS"
      },
      "source": [
        "*  empty list를 생성 -numbers\n",
        "*  -10~10 범위의 정수 난수 10개를 리스트에 추가, 출력\n",
        "*  리스트의 원소가 양수이면 True, 그렇지 않으면 False를 저장하는 리스트를 생성, 출력- positives"
      ]
    },
    {
      "cell_type": "code",
      "metadata": {
        "colab": {
          "base_uri": "https://localhost:8080/"
        },
        "id": "ONbZXHYy4CZi",
        "outputId": "62294d68-e906-48bb-d419-44cd87f96076"
      },
      "source": [
        "numbers=[]\n",
        "for _ in range(10):\n",
        "  numbers.append(random.randrange(-10,11))\n",
        "print(numbers)\n",
        "positives=[]\n",
        "for i in numbers:\n",
        "  positives.append(i > 0) \n",
        "print(positives)"
      ],
      "execution_count": 28,
      "outputs": [
        {
          "output_type": "stream",
          "text": [
            "[8, 10, -5, 2, -6, -3, -3, 0, 5, -9]\n",
            "[True, True, False, True, False, False, False, False, True, False]\n"
          ],
          "name": "stdout"
        }
      ]
    },
    {
      "cell_type": "markdown",
      "metadata": {
        "id": "PijQ1jaY5K-N"
      },
      "source": [
        "*  empty list를 생성 -numbers\n",
        "*  리스트에 0또는 1을 랜덤하게 10번추가 , 출력\n",
        "*  리스트의 원소가 0이면 'Male',1 이면 'Female'를 저장하는 리스트를 생성, 출력"
      ]
    },
    {
      "cell_type": "code",
      "metadata": {
        "colab": {
          "base_uri": "https://localhost:8080/"
        },
        "id": "C7QslXN25J1P",
        "outputId": "c29fb016-7998-42be-c0f9-f47225561ab1"
      },
      "source": [
        "numbers=[]              # 0 또는 1 들을 저장할 리스트 \n",
        "for _ in range(10):\n",
        "  numbers.append(random.randrange(0,2))\n",
        "print(numbers)\n",
        "gender=[]                # Male 또는 Female 들을 저장할 리스트\n",
        "for i in numbers:               # 리스트 gender_codes의 원소들을 반복하면서 \n",
        "  if i == 0 :\n",
        "    gender.append('Male')\n",
        "  elif i == 1 :\n",
        "    gender.append('Female')\n",
        "print(gender)\n"
      ],
      "execution_count": 35,
      "outputs": [
        {
          "output_type": "stream",
          "text": [
            "[0, 0, 1, 1, 1, 1, 1, 1, 0, 0]\n",
            "['Male', 'Male', 'Female', 'Female', 'Female', 'Female', 'Female', 'Female', 'Male', 'Male']\n"
          ],
          "name": "stdout"
        }
      ]
    },
    {
      "cell_type": "markdown",
      "metadata": {
        "id": "Yeh-WQHPIwbX"
      },
      "source": [
        "# List Comprehension (리스트 내포)"
      ]
    },
    {
      "cell_type": "code",
      "metadata": {
        "colab": {
          "base_uri": "https://localhost:8080/"
        },
        "id": "gNPDBmZbI1mS",
        "outputId": "9dd45520-761b-4cec-8a9d-9a5320e7ae1f"
      },
      "source": [
        "# 1~10 까지 정수들을 차례로 저장하는 리스트\n",
        "numbers=[]\n",
        "for x in range(1,11):\n",
        "  numbers.append(x)\n",
        "\n",
        "print(numbers)"
      ],
      "execution_count": 36,
      "outputs": [
        {
          "output_type": "stream",
          "text": [
            "[1, 2, 3, 4, 5, 6, 7, 8, 9, 10]\n"
          ],
          "name": "stdout"
        }
      ]
    },
    {
      "cell_type": "code",
      "metadata": {
        "colab": {
          "base_uri": "https://localhost:8080/"
        },
        "id": "G90Kak5KJBni",
        "outputId": "a8df634e-8dac-439d-fa67-8d94221176cb"
      },
      "source": [
        "# list comprehension\n",
        "numbers = [x for x in range(1,11)]\n",
        "print(numbers)"
      ],
      "execution_count": 37,
      "outputs": [
        {
          "output_type": "stream",
          "text": [
            "[1, 2, 3, 4, 5, 6, 7, 8, 9, 10]\n"
          ],
          "name": "stdout"
        }
      ]
    },
    {
      "cell_type": "code",
      "metadata": {
        "colab": {
          "base_uri": "https://localhost:8080/"
        },
        "id": "dm9nEEt9J9Ze",
        "outputId": "72eb0c8b-6191-4ccb-8bd5-54f2697925d0"
      },
      "source": [
        "# [1,4,9,16,25,36,49,64,81,100]\n",
        "numbers=[x**2 for x in range(1,11)]\n",
        "print(numbers)"
      ],
      "execution_count": 39,
      "outputs": [
        {
          "output_type": "stream",
          "text": [
            "[1, 4, 9, 16, 25, 36, 49, 64, 81, 100]\n"
          ],
          "name": "stdout"
        }
      ]
    },
    {
      "cell_type": "markdown",
      "metadata": {
        "id": "R2Mn70HQLSuz"
      },
      "source": [
        ""
      ]
    },
    {
      "cell_type": "code",
      "metadata": {
        "colab": {
          "base_uri": "https://localhost:8080/"
        },
        "id": "yJl3jg4nLTnD",
        "outputId": "7ceca874-01db-43f6-92c0-fcc78a9e8744"
      },
      "source": [
        "# 0 이상 10 이하의 짝수들을 갖는 리스트\n",
        "numbers=[]\n",
        "for i in range (11):\n",
        "  if i %2 == 0:\n",
        "    numbers.append(i)\n",
        "print(numbers)"
      ],
      "execution_count": 40,
      "outputs": [
        {
          "output_type": "stream",
          "text": [
            "[0, 2, 4, 6, 8, 10]\n"
          ],
          "name": "stdout"
        }
      ]
    },
    {
      "cell_type": "code",
      "metadata": {
        "colab": {
          "base_uri": "https://localhost:8080/"
        },
        "id": "vXGpphSOLrZ3",
        "outputId": "2f97968d-b582-4035-d88f-031d48730d14"
      },
      "source": [
        "numbers=[x for x in range(0,11,2)]\n",
        "print(numbers)"
      ],
      "execution_count": 41,
      "outputs": [
        {
          "output_type": "stream",
          "text": [
            "[0, 2, 4, 6, 8, 10]\n"
          ],
          "name": "stdout"
        }
      ]
    },
    {
      "cell_type": "code",
      "metadata": {
        "id": "9uSKIix-eT_j"
      },
      "source": [
        "fruits= ['apple','banana','cherry','dragon fruit','pineapple']"
      ],
      "execution_count": 45,
      "outputs": []
    },
    {
      "cell_type": "code",
      "metadata": {
        "colab": {
          "base_uri": "https://localhost:8080/"
        },
        "id": "TI6pm8xsej0_",
        "outputId": "6f136b31-3b0f-4162-c79a-d9e1ddf33e78"
      },
      "source": [
        "# fruits가 가지고 있는 문자열들의 길이를 저장하는 리스트\n",
        "leng=[]\n",
        "for x in fruits:\n",
        "  leng.append(len(x))\n",
        "print(leng)"
      ],
      "execution_count": 48,
      "outputs": [
        {
          "output_type": "stream",
          "text": [
            "[5, 6, 6, 12, 9]\n"
          ],
          "name": "stdout"
        }
      ]
    },
    {
      "cell_type": "code",
      "metadata": {
        "colab": {
          "base_uri": "https://localhost:8080/"
        },
        "id": "lNAevyE3fd_j",
        "outputId": "f3f34597-b5a5-499d-b436-d6c06f3cd3ab"
      },
      "source": [
        "leng=[len(x) for x in fruits]\n",
        "print(leng)"
      ],
      "execution_count": 50,
      "outputs": [
        {
          "output_type": "stream",
          "text": [
            "[5, 6, 6, 12, 9]\n"
          ],
          "name": "stdout"
        }
      ]
    },
    {
      "cell_type": "code",
      "metadata": {
        "colab": {
          "base_uri": "https://localhost:8080/"
        },
        "id": "hy1XgUc1g1Cm",
        "outputId": "3e4882bf-0079-482f-ecf5-4c3c06c68a7c"
      },
      "source": [
        "# 10~100 범위의 정수 난수 10개를 저장하는 리스트\n",
        "numbers= [random.randrange(10,101) for x in range(10)]\n",
        "print(numbers)"
      ],
      "execution_count": 54,
      "outputs": [
        {
          "output_type": "stream",
          "text": [
            "[73, 23, 19, 58, 32, 54, 100, 59, 11, 95]\n"
          ],
          "name": "stdout"
        }
      ]
    },
    {
      "cell_type": "code",
      "metadata": {
        "colab": {
          "base_uri": "https://localhost:8080/"
        },
        "id": "vGuezVLXhxSJ",
        "outputId": "dead21c4-e358-4eb0-afaf-7393cdb72eeb"
      },
      "source": [
        "# numbers의 원소들 중에서 짝수로만 이루어진 리스트: evens\n",
        "evens= [x for x in numbers if x%2==0]\n",
        "print(evens)"
      ],
      "execution_count": 55,
      "outputs": [
        {
          "output_type": "stream",
          "text": [
            "[58, 32, 54, 100]\n"
          ],
          "name": "stdout"
        }
      ]
    },
    {
      "cell_type": "code",
      "metadata": {
        "colab": {
          "base_uri": "https://localhost:8080/"
        },
        "id": "2i2nt8WpiCgE",
        "outputId": "0a5460f5-87e9-4ae1-9286-7fb4e7461420"
      },
      "source": [
        "# numbers의 원소들 중에서 홀수로만 이루어진 리스트: evens\n",
        "odds= [x for x in numbers if x%2==1]\n",
        "print(odds)"
      ],
      "execution_count": 56,
      "outputs": [
        {
          "output_type": "stream",
          "text": [
            "[73, 23, 19, 59, 11, 95]\n"
          ],
          "name": "stdout"
        }
      ]
    },
    {
      "cell_type": "code",
      "metadata": {
        "colab": {
          "base_uri": "https://localhost:8080/"
        },
        "id": "gaVVTZfijzEc",
        "outputId": "f06fb88c-9105-4b2f-ed5f-cf94384a6d0c"
      },
      "source": [
        "# -10~10 범위의 정수 난수 10개를 저장하는 리스트\n",
        "numbers=[random.randrange(-10,11) for x in range(10)]\n",
        "print(numbers)"
      ],
      "execution_count": 57,
      "outputs": [
        {
          "output_type": "stream",
          "text": [
            "[6, 2, 6, 8, 7, 6, -7, 1, 0, 2]\n"
          ],
          "name": "stdout"
        }
      ]
    },
    {
      "cell_type": "code",
      "metadata": {
        "colab": {
          "base_uri": "https://localhost:8080/"
        },
        "id": "VQyrvy4ajzSP",
        "outputId": "5196ffc3-47d5-4eff-e0e5-26ae7c21b869"
      },
      "source": [
        "# numbers의 원소가 양수이면 True, 그렇지 않으면 False를 저장하는 리스트\n",
        "numbers=[x>0 for x in numbers]\n",
        "print(numbers)"
      ],
      "execution_count": 58,
      "outputs": [
        {
          "output_type": "stream",
          "text": [
            "[True, True, True, True, True, True, False, True, False, True]\n"
          ],
          "name": "stdout"
        }
      ]
    },
    {
      "cell_type": "code",
      "metadata": {
        "colab": {
          "base_uri": "https://localhost:8080/"
        },
        "id": "bjZkF5MMlUNo",
        "outputId": "48d31f0c-ddfd-40a4-e3f2-c6c7d40708c7"
      },
      "source": [
        "# if-else 표현식(expression): 값1 if 조건식 else 값2\n",
        "x = 100\n",
        "#is_positive = (x>0)\n",
        "is_positive = True if x>0 else False\n",
        "print(is_positive)"
      ],
      "execution_count": 59,
      "outputs": [
        {
          "output_type": "stream",
          "text": [
            "True\n"
          ],
          "name": "stdout"
        }
      ]
    },
    {
      "cell_type": "code",
      "metadata": {
        "colab": {
          "base_uri": "https://localhost:8080/"
        },
        "id": "4AcHZrhTmNxB",
        "outputId": "972d30f2-28e2-4591-a5b4-db0a4b5b564b"
      },
      "source": [
        "positives= [True if x>0 else False for x in numbers]\n",
        "print(positives)"
      ],
      "execution_count": 61,
      "outputs": [
        {
          "output_type": "stream",
          "text": [
            "[True, True, True, True, True, True, False, True, False, True]\n"
          ],
          "name": "stdout"
        }
      ]
    },
    {
      "cell_type": "code",
      "metadata": {
        "id": "3q4j_THTnahN"
      },
      "source": [
        "# 0 또는 1 10개를 저장하는 리스트 \n",
        "gender_code= [random.randrange(0,2) for x in range(10)]\n",
        "print(ge)"
      ],
      "execution_count": 62,
      "outputs": []
    },
    {
      "cell_type": "code",
      "metadata": {
        "colab": {
          "base_uri": "https://localhost:8080/"
        },
        "id": "JCiRlPAknsMY",
        "outputId": "892c12ee-060b-40d3-f677-657870fb21b8"
      },
      "source": [
        "# 리스트 gender_codes의 값이 0이면 'Male' , 1이면 'Female'을 저장하는 리스트\n",
        "print(gender_code)\n",
        "gender=['Male' if x == 0 else 'Female' for x in gender_code ]\n",
        "print(gender)"
      ],
      "execution_count": 66,
      "outputs": [
        {
          "output_type": "stream",
          "text": [
            "[1, 1, 0, 0, 1, 1, 1, 1, 0, 0]\n",
            "['Female', 'Female', 'Male', 'Male', 'Female', 'Female', 'Female', 'Female', 'Male', 'Male']\n"
          ],
          "name": "stdout"
        }
      ]
    },
    {
      "cell_type": "code",
      "metadata": {
        "colab": {
          "base_uri": "https://localhost:8080/"
        },
        "id": "2-4F-qlJr9tS",
        "outputId": "87fbd349-f15f-4fe7-b7c7-59379bd62e53"
      },
      "source": [
        "# numbers: 10개의 정수 난수를 저장하는 리스트 \n",
        "numbers=[random.randrange(10) for x in range(10)]\n",
        "# evens: numbers의 원소가 짝수이면 'even', 홀수이면 ' odd' 를 저장하는 리스트\n",
        "evens=['even' if x %2==0 else 'odd' for x in numbers ]\n",
        "print(evens)"
      ],
      "execution_count": 68,
      "outputs": [
        {
          "output_type": "stream",
          "text": [
            "['odd', 'even', 'odd', 'odd', 'even', 'odd', 'even', 'even', 'odd', 'odd']\n"
          ],
          "name": "stdout"
        }
      ]
    },
    {
      "cell_type": "markdown",
      "metadata": {
        "id": "1q9xaXDNw9pQ"
      },
      "source": [
        "elif 표현식은 없고 if-else를 반복해서 사용하면됌. "
      ]
    },
    {
      "cell_type": "code",
      "metadata": {
        "colab": {
          "base_uri": "https://localhost:8080/"
        },
        "id": "ckKWEPiVsZpq",
        "outputId": "d985c200-8757-4b39-bd9b-580023f1ac56"
      },
      "source": [
        "# gender_codes: (0,1,2)10 개가 저장된 리스트 \n",
        "gender_code=[random.randrange(0,3) for _ in range(10)]\n",
        "print(gender_code)\n",
        "# genders: gender_codes의 원소가 0이면 'male', 1이면 'female',2이면 'unknown'을 저장하는 리스트\n",
        "genders=['male' if x==0 else ('Female' if x==1 else 'unknown') for x in gender_code]\n",
        "print(genders)"
      ],
      "execution_count": 74,
      "outputs": [
        {
          "output_type": "stream",
          "text": [
            "[2, 2, 0, 0, 2, 1, 1, 2, 2, 2]\n",
            "['unknown', 'unknown', 'male', 'male', 'unknown', 'Female', 'Female', 'unknown', 'unknown', 'unknown']\n"
          ],
          "name": "stdout"
        }
      ]
    },
    {
      "cell_type": "code",
      "metadata": {
        "colab": {
          "base_uri": "https://localhost:8080/"
        },
        "id": "Qnx-TCsfxCuX",
        "outputId": "cff6b095-402e-4d39-ea29-1bc240641c86"
      },
      "source": [
        "# numbers1: 10미만의 정수 난수 10개를 저장하는 리스트\n",
        "# numbers2: 10미만의 정수 난수 10개를 저장하는 리스트\n",
        "# add: numbers1과 numbers2의 같은 인덱스의 원소들끼리 더한 값을 저장한 리스트\n",
        "numbers1=[random.randrange(10) for _ in range(10)]\n",
        "numbers2=[random.randrange(10) for _ in range(10)]\n",
        "print(numbers1,numbers2)\n",
        "add=[numbers1[i] + numbers2[i] for i in range(len(numbers1))]\n",
        "print(add)"
      ],
      "execution_count": 90,
      "outputs": [
        {
          "output_type": "stream",
          "text": [
            "[5, 1, 4, 2, 8, 1, 5, 9, 2, 9] [8, 9, 5, 4, 0, 1, 2, 7, 9, 2]\n",
            "[13, 10, 9, 6, 8, 2, 7, 16, 11, 11]\n"
          ],
          "name": "stdout"
        }
      ]
    },
    {
      "cell_type": "code",
      "metadata": {
        "colab": {
          "base_uri": "https://localhost:8080/"
        },
        "id": "KcGxdTD92s3E",
        "outputId": "c0d8d8d9-0529-4498-9e6e-5b4e6d67c1ee"
      },
      "source": [
        "# adds=[]\n",
        "# for x, y in zip(numbers1,numbers2):\n",
        "#   adds.append(x+y)\n",
        "adds=[x+y for x,y in zip(numbers1,numbers2)]\n",
        "print(adds)"
      ],
      "execution_count": 93,
      "outputs": [
        {
          "output_type": "stream",
          "text": [
            "[13, 10, 9, 6, 8, 2, 7, 16, 11, 11]\n"
          ],
          "name": "stdout"
        }
      ]
    },
    {
      "cell_type": "markdown",
      "metadata": {
        "id": "5TaXxeRv9chq"
      },
      "source": [
        "# 다차원 리스트"
      ]
    },
    {
      "cell_type": "code",
      "metadata": {
        "colab": {
          "base_uri": "https://localhost:8080/"
        },
        "id": "xhTZY7Bs9b0e",
        "outputId": "291331bf-4087-4fb9-c74c-6a5ac526c447"
      },
      "source": [
        "# 2차원 리스트: 1차원 리스트를 원소로 갖는 리스트\n",
        "matrix= [[1,2,3],\n",
        "         [4,5,6],\n",
        "         [7,8,9]]\n",
        "print(matrix)"
      ],
      "execution_count": 94,
      "outputs": [
        {
          "output_type": "stream",
          "text": [
            "[[1, 2, 3], [4, 5, 6], [7, 8, 9]]\n"
          ],
          "name": "stdout"
        }
      ]
    },
    {
      "cell_type": "code",
      "metadata": {
        "colab": {
          "base_uri": "https://localhost:8080/"
        },
        "id": "F9lgDxQV-Hw_",
        "outputId": "707ea4a7-529f-4e80-d233-4ec7d48b5675"
      },
      "source": [
        "# 2차원 리스트의 indexing\n",
        "print(matrix[0])"
      ],
      "execution_count": 97,
      "outputs": [
        {
          "output_type": "stream",
          "text": [
            "[1, 2, 3]\n"
          ],
          "name": "stdout"
        }
      ]
    },
    {
      "cell_type": "code",
      "metadata": {
        "colab": {
          "base_uri": "https://localhost:8080/"
        },
        "id": "nPtc2Cw2-ykN",
        "outputId": "dab8a46b-966f-4be1-ed3b-b24ccc4da322"
      },
      "source": [
        "print(matrix[0][0])"
      ],
      "execution_count": 98,
      "outputs": [
        {
          "output_type": "stream",
          "text": [
            "1\n"
          ],
          "name": "stdout"
        }
      ]
    },
    {
      "cell_type": "markdown",
      "metadata": {
        "id": "QQXW8i8x_isz"
      },
      "source": [
        "## 2차원 리스트와 for 반복문"
      ]
    },
    {
      "cell_type": "code",
      "metadata": {
        "colab": {
          "base_uri": "https://localhost:8080/"
        },
        "id": "iQoSnqTA_lUj",
        "outputId": "5b76dddc-0505-429a-e6a8-f3538f9be855"
      },
      "source": [
        "for row in matrix:\n",
        "  for x in row:\n",
        "    print(x)"
      ],
      "execution_count": 106,
      "outputs": [
        {
          "output_type": "stream",
          "text": [
            "1\n",
            "2\n",
            "3\n",
            "4\n",
            "5\n",
            "6\n",
            "7\n",
            "8\n",
            "9\n"
          ],
          "name": "stdout"
        }
      ]
    },
    {
      "cell_type": "code",
      "metadata": {
        "colab": {
          "base_uri": "https://localhost:8080/"
        },
        "id": "wg1gF53SA5up",
        "outputId": "bcb36924-9561-4c65-d64d-6266be84a11d"
      },
      "source": [
        "for row in matrix:\n",
        "\n",
        "  for x in row:\n",
        "    print(x,end=' ')\n",
        "  print()  "
      ],
      "execution_count": 112,
      "outputs": [
        {
          "output_type": "stream",
          "text": [
            "1 2 3 \n",
            "4 5 6 \n",
            "7 8 9 \n"
          ],
          "name": "stdout"
        }
      ]
    },
    {
      "cell_type": "code",
      "metadata": {
        "colab": {
          "base_uri": "https://localhost:8080/"
        },
        "id": "Zool2ehmBiIW",
        "outputId": "f97cc6b1-4344-4b7e-e482-73f0d2172c9b"
      },
      "source": [
        "for i, row in enumerate(matrix):\n",
        "  for j, value in enumerate(row):\n",
        "     print(i,j,value,sep=':')"
      ],
      "execution_count": 119,
      "outputs": [
        {
          "output_type": "stream",
          "text": [
            "0:0:1\n",
            "0:1:2\n",
            "0:2:3\n",
            "1:0:4\n",
            "1:1:5\n",
            "1:2:6\n",
            "2:0:7\n",
            "2:1:8\n",
            "2:2:9\n"
          ],
          "name": "stdout"
        }
      ]
    },
    {
      "cell_type": "markdown",
      "metadata": {
        "id": "m4JCOnwXzg3J"
      },
      "source": [
        "3 x 3 모양의 정수 난수를 저장한 2차원 리스트 2개 \n",
        "\n",
        "result: matrix1 과 matrix2 리스트의 같은 위치에 있는 원소들끼리 더한 값을 저장한 리스트. "
      ]
    },
    {
      "cell_type": "code",
      "metadata": {
        "id": "sEKt2I6kC-v_"
      },
      "source": [
        "random.randrange(0,10)"
      ],
      "execution_count": null,
      "outputs": []
    },
    {
      "cell_type": "code",
      "metadata": {
        "colab": {
          "base_uri": "https://localhost:8080/"
        },
        "id": "q3u-AQVfDAAJ",
        "outputId": "7f2cd16f-1b11-46b1-9dc0-19426caef908"
      },
      "source": [
        "matrix1=[] # empty list - 1차원 리스트를 저장할 빈 리스트\n",
        "for _ in range(3): # 3번 반복하면서 행을 추가\n",
        "  row = [] #원소 3개를 갖는 리스트   \n",
        "  for _ in range(3):\n",
        "    row.append(random.randrange(10))\n",
        "  matrix1.append(row)\n",
        "print(matrix1)  "
      ],
      "execution_count": 153,
      "outputs": [
        {
          "output_type": "stream",
          "text": [
            "[[1, 2, 1], [1, 8, 6], [6, 0, 1]]\n"
          ],
          "name": "stdout"
        }
      ]
    },
    {
      "cell_type": "code",
      "metadata": {
        "colab": {
          "base_uri": "https://localhost:8080/"
        },
        "id": "UiMKrY_VKuz6",
        "outputId": "d6e7c494-956b-4d62-d9c1-1abfe3027b5e"
      },
      "source": [
        "matrix2=[] # empty list - 1차원 리스트를 저장할 빈 리스트\n",
        "for _ in range(3): # 3번 반복하면서 행을 추가\n",
        "  # row = [random.randrange(10) for _ in range(3)] #원소 3개를 갖는 리스트   \n",
        "  # matrix2.append(row)\n",
        "  matrix2.append([random.randrange(10) for _ in range(3)])\n",
        "print(matrix2)  "
      ],
      "execution_count": 161,
      "outputs": [
        {
          "output_type": "stream",
          "text": [
            "[[5, 6, 4], [9, 4, 6], [7, 6, 2]]\n"
          ],
          "name": "stdout"
        }
      ]
    },
    {
      "cell_type": "code",
      "metadata": {
        "colab": {
          "base_uri": "https://localhost:8080/"
        },
        "id": "t8t5EdcjMn0E",
        "outputId": "54573c07-d18c-452f-b273-09b5408e4771"
      },
      "source": [
        "m=[[random.randrange(10) for _ in range(3)] for _ in range(3) ]\n",
        "print(m)"
      ],
      "execution_count": 162,
      "outputs": [
        {
          "output_type": "stream",
          "text": [
            "[[1, 2, 8], [5, 0, 0], [1, 0, 3]]\n"
          ],
          "name": "stdout"
        }
      ]
    },
    {
      "cell_type": "code",
      "metadata": {
        "colab": {
          "base_uri": "https://localhost:8080/"
        },
        "id": "iLl2M-zkKyrl",
        "outputId": "450ae317-8d2a-4dfa-9544-5a04abb1decf"
      },
      "source": [
        "result=[]\n",
        "for row1,row2 in zip(matrix1,matrix2):\n",
        "  add=[]\n",
        "  for v1,v2 in zip(row1,row2):\n",
        "    add.append(v1+v2)\n",
        "  result.append(add)\n",
        "print(result)     "
      ],
      "execution_count": 177,
      "outputs": [
        {
          "output_type": "stream",
          "text": [
            "[[6, 8, 5], [10, 12, 12], [13, 6, 3]]\n"
          ],
          "name": "stdout"
        }
      ]
    },
    {
      "cell_type": "code",
      "metadata": {
        "colab": {
          "base_uri": "https://localhost:8080/"
        },
        "id": "VFvQZTuXRDlL",
        "outputId": "cd49a2b6-afb0-4e73-95b3-d5a406521e46"
      },
      "source": [
        "#위를 간단히 하면\n",
        "result=[]\n",
        "for row1,row2 in zip(matrix1,matrix2):\n",
        "  add=[v1+v2 for v1,v2 in zip(row1,row2)]\n",
        "  result.append(add)\n",
        "print(result)     "
      ],
      "execution_count": 179,
      "outputs": [
        {
          "output_type": "stream",
          "text": [
            "[[6, 8, 5], [10, 12, 12], [13, 6, 3]]\n"
          ],
          "name": "stdout"
        }
      ]
    },
    {
      "cell_type": "code",
      "metadata": {
        "colab": {
          "base_uri": "https://localhost:8080/"
        },
        "id": "n3Va7cEcRwmA",
        "outputId": "98f7361e-fcfa-40d7-afc6-92af34e14d1d"
      },
      "source": [
        "# 위를 더 간단히 하면\n",
        "result=[[v1+v2 for v1,v2 in zip(row1,row2)]for row1,row2 in zip(matrix1,matrix2)]\n",
        "print(result)"
      ],
      "execution_count": 180,
      "outputs": [
        {
          "output_type": "stream",
          "text": [
            "[[6, 8, 5], [10, 12, 12], [13, 6, 3]]\n"
          ],
          "name": "stdout"
        }
      ]
    }
  ]
}