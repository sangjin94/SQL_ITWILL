{
  "nbformat": 4,
  "nbformat_minor": 0,
  "metadata": {
    "colab": {
      "name": "py16_recursive_fn.ipynb",
      "provenance": [],
      "collapsed_sections": [],
      "authorship_tag": "ABX9TyN7ZudOk82wA4BVWERiTNiF",
      "include_colab_link": true
    },
    "kernelspec": {
      "name": "python3",
      "display_name": "Python 3"
    },
    "language_info": {
      "name": "python"
    }
  },
  "cells": [
    {
      "cell_type": "markdown",
      "metadata": {
        "id": "view-in-github",
        "colab_type": "text"
      },
      "source": [
        "<a href=\"https://colab.research.google.com/github/sangjin94/SQL_ITWILL/blob/main/py16_recursive_fn.ipynb\" target=\"_parent\"><img src=\"https://colab.research.google.com/assets/colab-badge.svg\" alt=\"Open In Colab\"/></a>"
      ]
    },
    {
      "cell_type": "markdown",
      "metadata": {
        "id": "42ZZbZXAAKwB"
      },
      "source": [
        "** 재귀 함수(recursive function)**:\n",
        "\n",
        "함수 내부에서 자기 자신을 다시 호출하는 함수"
      ]
    },
    {
      "cell_type": "code",
      "metadata": {
        "id": "RYW2O8Z0BqQc"
      },
      "source": [
        "def factorial(n):\n",
        "  \"\"\"\n",
        "  0! = 1\n",
        "  1! = 1= 0!x1\n",
        "  2! = 1 x 2 = 2 = 1! x 2\n",
        "  3! = 1 x 2 x 3 = 6 = 2! x 3\n",
        "  ...\n",
        "  n! = 1 x 2 x 3 x ... x (n-1) x n = (n-1)! x n, n >= 1 \n",
        "  \"\"\"\n",
        "  result= None # 변수 초기화\n",
        "  if n == 0 : \n",
        "    result = 1 # 정의 : 0! = 1\n",
        "  elif n > 0 :\n",
        "    result = 1 \n",
        "    for x in range(1,n+1): #range(1,n+1) = (1,2,...,n-1,n)\n",
        "      result *= x  \n",
        "  return result"
      ],
      "execution_count": 2,
      "outputs": []
    },
    {
      "cell_type": "code",
      "metadata": {
        "colab": {
          "base_uri": "https://localhost:8080/"
        },
        "id": "tXPb_hygC1Gj",
        "outputId": "c72d3633-da2e-489f-cf02-f769e8244d5b"
      },
      "source": [
        "factorial(5)"
      ],
      "execution_count": 13,
      "outputs": [
        {
          "output_type": "execute_result",
          "data": {
            "text/plain": [
              "120"
            ]
          },
          "metadata": {
            "tags": []
          },
          "execution_count": 13
        }
      ]
    },
    {
      "cell_type": "code",
      "metadata": {
        "id": "kl81jJZiYcDm"
      },
      "source": [
        "def factorial2(n):\n",
        "  \"\"\"\n",
        "  0!=1\n",
        "  n!=(n-1)! x n, n>=1\n",
        "  \"\"\"\n",
        "  result=None\n",
        "  if n==0:\n",
        "    result =1\n",
        "  elif n>0:\n",
        "    result=factorial2(n-1)*n # 재귀 호출(recursive call)\n",
        "  return result"
      ],
      "execution_count": 11,
      "outputs": []
    },
    {
      "cell_type": "code",
      "metadata": {
        "colab": {
          "base_uri": "https://localhost:8080/"
        },
        "id": "PFpJDGipZAlk",
        "outputId": "898da239-9158-4e31-f802-20581f385808"
      },
      "source": [
        "# 함수 생성 결과 테스트\n",
        "for n in range(-1,6):\n",
        "  print(f'{n}!={factorial2(n)}')\n"
      ],
      "execution_count": 16,
      "outputs": [
        {
          "output_type": "stream",
          "text": [
            "-1!=None\n",
            "0!=1\n",
            "1!=1\n",
            "2!=2\n",
            "3!=6\n",
            "4!=24\n",
            "5!=120\n"
          ],
          "name": "stdout"
        }
      ]
    },
    {
      "cell_type": "markdown",
      "metadata": {
        "id": "yueeHZoucdLj"
      },
      "source": [
        "#함수 작성 연습"
      ]
    },
    {
      "cell_type": "markdown",
      "metadata": {
        "id": "kaLIzeoTcgP8"
      },
      "source": [
        "## Ex1.\n",
        "* 함수이름: sum_to\n",
        "* 0부터 n까지의 합계를 리턴하는 함수\n",
        "   * `0+1+2+3+..+(n-1)+(n)`"
      ]
    },
    {
      "cell_type": "code",
      "metadata": {
        "id": "cDBDFHpdcciD"
      },
      "source": [
        "def sum_to(n):\n",
        "  if n >= 0:\n",
        "    s=0\n",
        "    for i in range(n+1):\n",
        "      s += i\n",
        "  elif n < 0:\n",
        "     s= None   \n",
        "  return s"
      ],
      "execution_count": 29,
      "outputs": []
    },
    {
      "cell_type": "code",
      "metadata": {
        "id": "I3fXHfMkrBYt"
      },
      "source": [
        "def sum_to(n):  # 재귀함수 이용\n",
        "  if n > 0:\n",
        "    s=0\n",
        "    s= sum_to(n-1)+n\n",
        "  elif n==0:\n",
        "    s=0\n",
        "  elif n<0:\n",
        "    s= None\n",
        "  return s"
      ],
      "execution_count": 99,
      "outputs": []
    },
    {
      "cell_type": "code",
      "metadata": {
        "colab": {
          "base_uri": "https://localhost:8080/"
        },
        "id": "MdtLf8-TrF9Y",
        "outputId": "10e6b2b5-1a76-4f43-e4ee-0eb0447afb6a"
      },
      "source": [
        "sum_to(3)"
      ],
      "execution_count": 101,
      "outputs": [
        {
          "output_type": "execute_result",
          "data": {
            "text/plain": [
              "6"
            ]
          },
          "metadata": {
            "tags": []
          },
          "execution_count": 101
        }
      ]
    },
    {
      "cell_type": "code",
      "metadata": {
        "colab": {
          "base_uri": "https://localhost:8080/"
        },
        "id": "Yg8dMBiydcBr",
        "outputId": "1ec0af12-96e7-414b-81df-5bdb8fc8fa5e"
      },
      "source": [
        "sum_to(0)"
      ],
      "execution_count": 86,
      "outputs": [
        {
          "output_type": "execute_result",
          "data": {
            "text/plain": [
              "0"
            ]
          },
          "metadata": {
            "tags": []
          },
          "execution_count": 86
        }
      ]
    },
    {
      "cell_type": "markdown",
      "metadata": {
        "id": "xPI8T06udtGh"
      },
      "source": [
        "## Ex2.\n",
        "\n",
        "* square_sum\n",
        "* 0부터 n까지 정수의 제곱의 합을 리턴하는 함수\n",
        "  * `0**2 + 1**2 + 2**2 +...(n-1)**2+ n**2 `"
      ]
    },
    {
      "cell_type": "code",
      "metadata": {
        "id": "4qUAS0JueVD2"
      },
      "source": [
        "def square_sum(n):\n",
        "  if n >= 0:\n",
        "    s=0\n",
        "    for i in range(n+1):\n",
        "      s += i**2\n",
        "  elif n < 0:\n",
        "    s= None\n",
        "  return s"
      ],
      "execution_count": 116,
      "outputs": []
    },
    {
      "cell_type": "code",
      "metadata": {
        "id": "H2a1yHWJrjAt"
      },
      "source": [
        "def square_sum2(n): # 재귀함수 이용\n",
        "\n",
        "  result= None\n",
        "  if n==0:\n",
        "    result = 0\n",
        "  elif n>0:\n",
        "    result= square_sum2(n-1) + n **2\n",
        "  return result"
      ],
      "execution_count": 104,
      "outputs": []
    },
    {
      "cell_type": "code",
      "metadata": {
        "id": "p_H4EmITC5eG"
      },
      "source": [
        "def square_sum3(n):\n",
        "  if n<0:\n",
        "    result=None\n",
        "  else:\n",
        "    squares=[x**2 for x in range(n+1)] # 0~n까지의 정수들의 제곱을 저장하는 리스트\n",
        "    result= sum(squares)\n",
        "  return result"
      ],
      "execution_count": 119,
      "outputs": []
    },
    {
      "cell_type": "code",
      "metadata": {
        "id": "_vmswjjLDjb1"
      },
      "source": [
        "def square_sum4(n):\n",
        "  \"\"\"\n",
        "  n<0 : s(n**2) = None\n",
        "  n=0 : s(n**2) = 0\n",
        "  n>1 : s(n**2) = 0 + 1**2 + 2**2 + ...(n-1)**2 + n**2 = ss(n-1) + n**2\n",
        "  \"\"\"\n",
        "  if n<0 :\n",
        "    result= None\n",
        "  elif n == 0:\n",
        "    result = 0\n",
        "  else:\n",
        "    result = square_sum4(n-1)+n**2"
      ],
      "execution_count": null,
      "outputs": []
    },
    {
      "cell_type": "code",
      "metadata": {
        "colab": {
          "base_uri": "https://localhost:8080/"
        },
        "id": "b2zzHITUfRqd",
        "outputId": "e2036cbf-039f-4770-f5b7-e2847f26ae48"
      },
      "source": [
        "for n in range(-1,5):\n",
        "  print(f'n= {n}:square_sum = {square_sum(n)}')"
      ],
      "execution_count": 121,
      "outputs": [
        {
          "output_type": "stream",
          "text": [
            "n= -1:square_sum = None\n",
            "n= 0:square_sum = 0\n",
            "n= 1:square_sum = 1\n",
            "n= 2:square_sum = 5\n",
            "n= 3:square_sum = 14\n",
            "n= 4:square_sum = 30\n"
          ],
          "name": "stdout"
        }
      ]
    },
    {
      "cell_type": "markdown",
      "metadata": {
        "id": "V2PJBNROeHWo"
      },
      "source": [
        "## Ex3.\n",
        "\n",
        "* find_max_index\n",
        "* 숫자들의 리스트를 argument로 전달했을 때, 그 리스트에서 최댓값의 위치(인덱스)를 리턴하는 함수"
      ]
    },
    {
      "cell_type": "code",
      "metadata": {
        "id": "HtS4nLMfEr5k"
      },
      "source": [
        "import random"
      ],
      "execution_count": 122,
      "outputs": []
    },
    {
      "cell_type": "code",
      "metadata": {
        "colab": {
          "base_uri": "https://localhost:8080/"
        },
        "id": "Tf7Uw5grEt4p",
        "outputId": "f5fd655c-499e-4417-c675-33ddb20fc02c"
      },
      "source": [
        "random.seed(0)\n",
        "numbers=[random.randrange(100) for _ in range(10)]\n",
        "print(numbers)"
      ],
      "execution_count": 124,
      "outputs": [
        {
          "output_type": "stream",
          "text": [
            "[49, 97, 53, 5, 33, 65, 62, 51, 38, 61]\n"
          ],
          "name": "stdout"
        }
      ]
    },
    {
      "cell_type": "code",
      "metadata": {
        "id": "TyUFkff-gYXe"
      },
      "source": [
        "def find_max_index(x):\n",
        "  for i,v in enumerate(x):\n",
        "   if v==max(x):\n",
        "      return i"
      ],
      "execution_count": 82,
      "outputs": []
    },
    {
      "cell_type": "code",
      "metadata": {
        "colab": {
          "base_uri": "https://localhost:8080/"
        },
        "id": "HPY7_SCJhGkU",
        "outputId": "bade90f6-66ab-4fe6-cc9b-9ccf98477927"
      },
      "source": [
        "find_max_index(numbers)"
      ],
      "execution_count": 125,
      "outputs": [
        {
          "output_type": "execute_result",
          "data": {
            "text/plain": [
              "1"
            ]
          },
          "metadata": {
            "tags": []
          },
          "execution_count": 125
        }
      ]
    },
    {
      "cell_type": "code",
      "metadata": {
        "id": "DA45WxwnHGDG"
      },
      "source": [
        "def find_max(numbers):\n",
        "  \"\"\" 숫자들을 저장한 리스트 numbers의 최댓값을 리턴하는 함수\"\"\"\n",
        "  max_num=numbers[0] # 리스트 numners(인덱스 0 위치의 값)의 첫번째값을 최댓값이라고 가정\\\n",
        "  for i in range(len(numbers)): #인덱스 0부터 (length-1) 까지 반복\n",
        "    if max_num < numbers[i]: # 기존 최댓값보다 더 큰 값을 리스트에서 찾은 경우\n",
        "      max_num = numbers[i]\n",
        "  return max_num"
      ],
      "execution_count": 129,
      "outputs": []
    },
    {
      "cell_type": "code",
      "metadata": {
        "id": "ZYyBVcivIdSu"
      },
      "source": [
        "def find_max_index2(numbers):\n",
        "  \"\"\" 숫자들을 저장한 리스트 numbers의 최댓값과 최댓값의 인덱스를 리턴하는 함수\"\"\"\n",
        "  max_num=numbers[0] #최댓값을 numbers의 첫번째 값이라고 가정\n",
        "  index=0          #최댓값의 위치(인덱스)는 0이라고 가정\n",
        "  for i in range(len(numbers)): \n",
        "    if max_num < numbers[i]: \n",
        "      max_num = numbers[i] #최댓값을 i번째 원소로 변경\n",
        "      index=i #최댓값의 인덱스를 i로 변경\n",
        "  return index"
      ],
      "execution_count": 130,
      "outputs": []
    },
    {
      "cell_type": "code",
      "metadata": {
        "colab": {
          "base_uri": "https://localhost:8080/"
        },
        "id": "adDrFu2BK7v1",
        "outputId": "d3f8364f-4d8e-40f7-8a75-c613ded8eb3e"
      },
      "source": [
        "print('최댓값:', find_max(numbers))\n",
        "print('최댓값의 인덱스:', find_max_index2(numbers))"
      ],
      "execution_count": 131,
      "outputs": [
        {
          "output_type": "stream",
          "text": [
            "최댓값: 97\n",
            "최댓값의 인덱스: 1\n"
          ],
          "name": "stdout"
        }
      ]
    },
    {
      "cell_type": "code",
      "metadata": {
        "colab": {
          "base_uri": "https://localhost:8080/"
        },
        "id": "LBtZUTHLNxv3",
        "outputId": "2ce2014c-fb9a-4917-93eb-34f76ee00f25"
      },
      "source": [
        "numbers.index(97) \n",
        "# numbers.index(값): 리스트 numbers에서 값이 있는 위치(인덱스)를 리턴"
      ],
      "execution_count": 132,
      "outputs": [
        {
          "output_type": "execute_result",
          "data": {
            "text/plain": [
              "1"
            ]
          },
          "metadata": {
            "tags": []
          },
          "execution_count": 132
        }
      ]
    },
    {
      "cell_type": "code",
      "metadata": {
        "id": "lBbUEFS1N9OW"
      },
      "source": [
        "def find_max_index3(numbers):\n",
        "  max_num=max(numbers) # numbers의 최댓값을 찾음\n",
        "  max_index=numbers.index(max_num)\n",
        "  return max_index"
      ],
      "execution_count": 133,
      "outputs": []
    }
  ]
}