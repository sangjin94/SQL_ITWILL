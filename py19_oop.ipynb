{
  "nbformat": 4,
  "nbformat_minor": 0,
  "metadata": {
    "colab": {
      "name": "py19_oop.ipynb",
      "provenance": [],
      "collapsed_sections": [],
      "authorship_tag": "ABX9TyPN6OwRWSgpIx+pMLFNIE5X",
      "include_colab_link": true
    },
    "kernelspec": {
      "name": "python3",
      "display_name": "Python 3"
    },
    "language_info": {
      "name": "python"
    }
  },
  "cells": [
    {
      "cell_type": "markdown",
      "metadata": {
        "id": "view-in-github",
        "colab_type": "text"
      },
      "source": [
        "<a href=\"https://colab.research.google.com/github/sangjin94/SQL_ITWILL/blob/main/py19_oop.ipynb\" target=\"_parent\"><img src=\"https://colab.research.google.com/assets/colab-badge.svg\" alt=\"Open In Colab\"/></a>"
      ]
    },
    {
      "cell_type": "markdown",
      "metadata": {
        "id": "vHD4ColVPxp8"
      },
      "source": [
        "# OOP(Object-Oriented Programming, 객체 지향 프로그래밍)"
      ]
    },
    {
      "cell_type": "markdown",
      "metadata": {
        "id": "Mvp7Kp5kQCdQ"
      },
      "source": [
        "# 배경 설명 "
      ]
    },
    {
      "cell_type": "code",
      "metadata": {
        "id": "A--1CSx0PuBx"
      },
      "source": [
        "#  학생, 과목 점수 리스트\n",
        "students=[\n",
        "          {'name':'aaa','korean':90,'english':80,'math':70},\n",
        "          {'name':'bbb','korean':70,'english':100,'math':80},\n",
        "          {'name':'ccc','korean':85,'english':80,'math':90},\n",
        "          {'name':'ddd','korean':100,'english':90,'math':60},\n",
        "          {'name':'eee','korean':95,'english':60,'math':100}\n",
        "          ]"
      ],
      "execution_count": 3,
      "outputs": []
    },
    {
      "cell_type": "code",
      "metadata": {
        "colab": {
          "base_uri": "https://localhost:8080/"
        },
        "id": "eCBeNveZR8oN",
        "outputId": "f73c03d4-ae2b-4ec7-9358-e672e66d150a"
      },
      "source": [
        "# 각 학생의 3과목 총점과 평균을 출력\n",
        "for s in students:\n",
        "  total= s['korean']+s['english']+s['math']\n",
        "  print(s['name'],'총점=' ,total,'평균=',total/3)  "
      ],
      "execution_count": 23,
      "outputs": [
        {
          "output_type": "stream",
          "text": [
            "aaa 총점= 250 평균= 83.33333333333333\n",
            "bbb 총점= 260 평균= 86.66666666666667\n",
            "ccc 총점= 210 평균= 70.0\n",
            "ddd 총점= 200 평균= 66.66666666666667\n",
            "eee 총점= 260 평균= 86.66666666666667\n"
          ],
          "name": "stdout"
        }
      ]
    },
    {
      "cell_type": "markdown",
      "metadata": {
        "id": "OLjV9f9WZi0p"
      },
      "source": [
        "위 프로그래밍 방식의 문제점은 dict의 키는 중복되지 않게만 설정하면 되기 때문에, \n",
        "반복문을 사용해서 총점과 평균을 계산, 출력하는 기능을 만들 수 없는 경우가 발생할 수도 있다."
      ]
    },
    {
      "cell_type": "markdown",
      "metadata": {
        "id": "X0dY0JHbR70S"
      },
      "source": [
        "## 함수형 프로그래밍( Functional programing)"
      ]
    },
    {
      "cell_type": "code",
      "metadata": {
        "id": "MUOMDOGOZ6qD"
      },
      "source": [
        "def create_student(name, korean, english,math):\n",
        "  \"\"\" name, korean, english,math를 키로 갖는 dict 객체를 리턴\n",
        "  \"\"\"\n",
        "  student={'name':name,\n",
        "            'korean':korean,\n",
        "            'english':english,\n",
        "            'math':math}\n",
        "  return student"
      ],
      "execution_count": 20,
      "outputs": []
    },
    {
      "cell_type": "code",
      "metadata": {
        "id": "BmJa17mQbFaN"
      },
      "source": [
        "students=[create_student('aaa',100,80,70),\n",
        "          create_student('bbb',100,80,80),\n",
        "          create_student('ccc',50,90,70),\n",
        "          create_student('ddd',60,60,80),\n",
        "          create_student('eee',80,80,100)]  "
      ],
      "execution_count": 21,
      "outputs": []
    },
    {
      "cell_type": "code",
      "metadata": {
        "colab": {
          "base_uri": "https://localhost:8080/"
        },
        "id": "Wt99jJjnbGfr",
        "outputId": "69c71a2f-f89e-4904-a2ad-588939341114"
      },
      "source": [
        "for s in students:\n",
        "  print(s)"
      ],
      "execution_count": 25,
      "outputs": [
        {
          "output_type": "stream",
          "text": [
            "{'name': 'aaa', 'korean': 100, 'english': 80, 'math': 70}\n",
            "{'name': 'bbb', 'korean': 100, 'english': 80, 'math': 80}\n",
            "{'name': 'ccc', 'korean': 50, 'english': 90, 'math': 70}\n",
            "{'name': 'ddd', 'korean': 60, 'english': 60, 'math': 80}\n",
            "{'name': 'eee', 'korean': 80, 'english': 80, 'math': 100}\n"
          ],
          "name": "stdout"
        }
      ]
    },
    {
      "cell_type": "code",
      "metadata": {
        "id": "PKKwfQLwcOGw"
      },
      "source": [
        "def get_student_total(student):\n",
        "  \"\"\" student dict 에서 총점을 계산해서 리턴\n",
        "  \"\"\"\n",
        "  total= student['korean']+student['english']+student['math']\n",
        "  return total\n"
      ],
      "execution_count": 26,
      "outputs": []
    },
    {
      "cell_type": "code",
      "metadata": {
        "id": "VDxY0-TgdA2C"
      },
      "source": [
        "def get_student_avgerage(student):\n",
        "  \"\"\" student dict 에서 총점을 계산해서 리턴\n",
        "  \"\"\"\n",
        "  total= get_student_total(student)\n",
        "  avg= total/3\n",
        "  return avg"
      ],
      "execution_count": 27,
      "outputs": []
    },
    {
      "cell_type": "code",
      "metadata": {
        "colab": {
          "base_uri": "https://localhost:8080/"
        },
        "id": "yG9P8IpzbjwZ",
        "outputId": "ce892551-5e9d-4fa8-c538-5a72624ea4e4"
      },
      "source": [
        "# 각 학생의 3과목 총점과 평균을 출력\n",
        "for s in students:\n",
        "  total= get_student_total(s)\n",
        "  avg= get_student_avgerage(s)\n",
        "  print(s['name'],'총점=' ,total,'평균=',avg)"
      ],
      "execution_count": 28,
      "outputs": [
        {
          "output_type": "stream",
          "text": [
            "aaa 총점= 250 평균= 83.33333333333333\n",
            "bbb 총점= 260 평균= 86.66666666666667\n",
            "ccc 총점= 210 평균= 70.0\n",
            "ddd 총점= 200 평균= 66.66666666666667\n",
            "eee 총점= 260 평균= 86.66666666666667\n"
          ],
          "name": "stdout"
        }
      ]
    },
    {
      "cell_type": "markdown",
      "metadata": {
        "id": "A6kvcGDMfZKj"
      },
      "source": [
        "총점과 평균을 계산하는 함수는 학생 dict 타입과 매우 밀접한 관계를 맺고있음.\n",
        "\n",
        "서로 관계를 맺고 있는 데이터(이름,3과목 점수)와 기능(총점 계산, 평균계산)\n",
        "하나로 묶을 수 있을까?"
      ]
    },
    {
      "cell_type": "markdown",
      "metadata": {
        "id": "igOt6jIBkIMd"
      },
      "source": [
        "# 객체 지향 프로그래밍(OOP,Objected-Oriented Programing)\n",
        "\n",
        "* 객체 (Object): 소프트웨어로 구현할 대상. 자료구조.\n",
        "* 클래스(class): 객체를 구현하기 위한 설계도. 코드.\n",
        "  * 속성(attribute): 데이터. 변수에 저장되는 값\n",
        "  * 매서드(method): 기능. 클래스 내부에서 정의하는 함수 \n",
        "* 인스턴스(instance): 설계도인 클래스에 따라서 메모리에 생성된 객체.\n",
        "* 인스턴스 생성(instantiate): 클래스의 객체를 메모리에 생성하는 것.\n",
        "* 생성자(constructor): 클래스의 이름과 동일한 함수.\n",
        "  * 생성자를 호출하면 클래스에서 정의된 `__init__`매서드가 자동으로 호출됨."
      ]
    },
    {
      "cell_type": "code",
      "metadata": {
        "id": "u0goZfpOmpea"
      },
      "source": [
        "# 클래스 정의(선언)\n",
        "class Student:\n",
        "  # 생성자 함수  : 속성들을 선언하고 초기화\n",
        "  def __init__(self,name,korean,english,math):\n",
        "    self.name=name\n",
        "    self.korean=korean\n",
        "    self.english=english\n",
        "    self.math=math\n",
        "  \n",
        "  # 매서드\n",
        "  def get_sum(self):\n",
        "    \"\"\"3과목의 총점을 리턴\"\"\"\n",
        "    return self.korean+self.english+self.math\n",
        "  def get_average(self):\n",
        "    \"\"\"3과목의 평균을 리턴\"\"\"\n",
        "    sum=self.get_sum()\n",
        "    avg=sum/3\n",
        "    return avg   "
      ],
      "execution_count": 40,
      "outputs": []
    },
    {
      "cell_type": "code",
      "metadata": {
        "colab": {
          "base_uri": "https://localhost:8080/"
        },
        "id": "vH7iopMAoUSN",
        "outputId": "7975c2f9-381d-4c6a-ac53-b918ae6de079"
      },
      "source": [
        "# Student 클래스의 인스턴스 생성: 생성자 함수 호출 -> 클래스의 __init__ 매서드가 호출됨\n",
        "student_1=Student(name='오쌤',korean=100,english=100,math=100)\n",
        "print(student_1)\n",
        "print('이름:',student_1.name) # student_1 인스턴스가 가지고 있는 name 속성\n",
        "print('국어점수',student_1.korean)\n",
        "print('영어점수:',student_1.english)\n",
        "print('수학점수:',student_1.math)\n",
        "print('총점:',student_1.get_sum()) #인스턴스의 메서드 호출\n",
        "print('평균:',student_1.get_average()) "
      ],
      "execution_count": 41,
      "outputs": [
        {
          "output_type": "stream",
          "text": [
            "<__main__.Student object at 0x7fa76a9eaf10>\n",
            "이름: 오쌤\n",
            "국어점수 100\n",
            "영어점수: 100\n",
            "수학점수: 100\n",
            "총점: 300\n",
            "평균: 100.0\n"
          ],
          "name": "stdout"
        }
      ]
    },
    {
      "cell_type": "code",
      "metadata": {
        "colab": {
          "base_uri": "https://localhost:8080/"
        },
        "id": "tfVxFYdGzKXA",
        "outputId": "87e6b0c3-7694-465f-9322-b0949a6b3f1d"
      },
      "source": [
        "student_2= Student('홍길동',100,50,98)\n",
        "print(student_2)\n",
        "print('이름:',student_2.name)\n",
        "print('국어점수',student_2.korean)\n",
        "print('영어점수:',student_2.english)\n",
        "print('수학점수:',student_2.math)\n",
        "print('총점:',student_2.get_sum()) #인스턴스의 메서드 호출\n",
        "print('평균:',student_2.get_average()) "
      ],
      "execution_count": 42,
      "outputs": [
        {
          "output_type": "stream",
          "text": [
            "<__main__.Student object at 0x7fa76a9dded0>\n",
            "이름: 홍길동\n",
            "국어점수 100\n",
            "영어점수: 50\n",
            "수학점수: 98\n",
            "총점: 248\n",
            "평균: 82.66666666666667\n"
          ],
          "name": "stdout"
        }
      ]
    }
  ]
}