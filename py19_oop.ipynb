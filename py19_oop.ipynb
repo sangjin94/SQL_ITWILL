{
  "nbformat": 4,
  "nbformat_minor": 0,
  "metadata": {
    "colab": {
      "name": "py19_oop.ipynb",
      "provenance": [],
      "authorship_tag": "ABX9TyP54EPwCANX4A1CaktZGXg0",
      "include_colab_link": true
    },
    "kernelspec": {
      "name": "python3",
      "display_name": "Python 3"
    },
    "language_info": {
      "name": "python"
    }
  },
  "cells": [
    {
      "cell_type": "markdown",
      "metadata": {
        "id": "view-in-github",
        "colab_type": "text"
      },
      "source": [
        "<a href=\"https://colab.research.google.com/github/sangjin94/SQL_ITWILL/blob/main/py19_oop.ipynb\" target=\"_parent\"><img src=\"https://colab.research.google.com/assets/colab-badge.svg\" alt=\"Open In Colab\"/></a>"
      ]
    },
    {
      "cell_type": "markdown",
      "metadata": {
        "id": "vHD4ColVPxp8"
      },
      "source": [
        "# OOP(Object-Oriented Programming, 객체 지향 프로그래밍)"
      ]
    },
    {
      "cell_type": "markdown",
      "metadata": {
        "id": "Mvp7Kp5kQCdQ"
      },
      "source": [
        "# 배경 설명 "
      ]
    },
    {
      "cell_type": "code",
      "metadata": {
        "id": "A--1CSx0PuBx"
      },
      "source": [
        "#  학생, 과목 점수 리스트\n",
        "students=[\n",
        "          {'name':'aaa','korean':90,'english':80,'math':70},\n",
        "          {'name':'bbb','korean':70,'english':100,'math':80},\n",
        "          {'name':'ccc','korean':85,'english':80,'math':90},\n",
        "          {'name':'ddd','korean':100,'english':90,'math':60},\n",
        "          {'name':'eee','korean':95,'english':60,'math':100}\n",
        "          ]"
      ],
      "execution_count": 3,
      "outputs": []
    },
    {
      "cell_type": "code",
      "metadata": {
        "colab": {
          "base_uri": "https://localhost:8080/"
        },
        "id": "eCBeNveZR8oN",
        "outputId": "f73c03d4-ae2b-4ec7-9358-e672e66d150a"
      },
      "source": [
        "# 각 학생의 3과목 총점과 평균을 출력\n",
        "for s in students:\n",
        "  total= s['korean']+s['english']+s['math']\n",
        "  print(s['name'],'총점=' ,total,'평균=',total/3)  "
      ],
      "execution_count": 23,
      "outputs": [
        {
          "output_type": "stream",
          "text": [
            "aaa 총점= 250 평균= 83.33333333333333\n",
            "bbb 총점= 260 평균= 86.66666666666667\n",
            "ccc 총점= 210 평균= 70.0\n",
            "ddd 총점= 200 평균= 66.66666666666667\n",
            "eee 총점= 260 평균= 86.66666666666667\n"
          ],
          "name": "stdout"
        }
      ]
    },
    {
      "cell_type": "markdown",
      "metadata": {
        "id": "OLjV9f9WZi0p"
      },
      "source": [
        "위 프로그래밍 방식의 문제점은 dict의 키는 중복되지 않게만 설정하면 되기 때문에, \n",
        "반복문을 사용해서 총점과 평균을 계산, 출력하는 기능을 만들 수 없는 경우가 발생할 수도 있다."
      ]
    },
    {
      "cell_type": "markdown",
      "metadata": {
        "id": "X0dY0JHbR70S"
      },
      "source": [
        "## 함수형 프로그래밍( Functional programing)"
      ]
    },
    {
      "cell_type": "code",
      "metadata": {
        "id": "MUOMDOGOZ6qD"
      },
      "source": [
        "def create_student(name, korean, english,math):\n",
        "  \"\"\" name, korean, english,math를 키로 갖는 dict 객체를 리턴\n",
        "  \"\"\"\n",
        "  student={'name':name,\n",
        "            'korean':korean,\n",
        "            'english':english,\n",
        "            'math':math}\n",
        "  return student"
      ],
      "execution_count": 20,
      "outputs": []
    },
    {
      "cell_type": "code",
      "metadata": {
        "id": "BmJa17mQbFaN"
      },
      "source": [
        "students=[create_student('aaa',100,80,70),\n",
        "          create_student('bbb',100,80,80),\n",
        "          create_student('ccc',50,90,70),\n",
        "          create_student('ddd',60,60,80),\n",
        "          create_student('eee',80,80,100)]  "
      ],
      "execution_count": 21,
      "outputs": []
    },
    {
      "cell_type": "code",
      "metadata": {
        "colab": {
          "base_uri": "https://localhost:8080/"
        },
        "id": "Wt99jJjnbGfr",
        "outputId": "69c71a2f-f89e-4904-a2ad-588939341114"
      },
      "source": [
        "for s in students:\n",
        "  print(s)"
      ],
      "execution_count": 25,
      "outputs": [
        {
          "output_type": "stream",
          "text": [
            "{'name': 'aaa', 'korean': 100, 'english': 80, 'math': 70}\n",
            "{'name': 'bbb', 'korean': 100, 'english': 80, 'math': 80}\n",
            "{'name': 'ccc', 'korean': 50, 'english': 90, 'math': 70}\n",
            "{'name': 'ddd', 'korean': 60, 'english': 60, 'math': 80}\n",
            "{'name': 'eee', 'korean': 80, 'english': 80, 'math': 100}\n"
          ],
          "name": "stdout"
        }
      ]
    },
    {
      "cell_type": "code",
      "metadata": {
        "id": "PKKwfQLwcOGw"
      },
      "source": [
        "def get_student_total(student):\n",
        "  \"\"\" student dict 에서 총점을 계산해서 리턴\n",
        "  \"\"\"\n",
        "  total= student['korean']+student['english']+student['math']\n",
        "  return total\n"
      ],
      "execution_count": 26,
      "outputs": []
    },
    {
      "cell_type": "code",
      "metadata": {
        "id": "VDxY0-TgdA2C"
      },
      "source": [
        "def get_student_avgerage(student):\n",
        "  \"\"\" student dict 에서 총점을 계산해서 리턴\n",
        "  \"\"\"\n",
        "  total= get_student_total(student)\n",
        "  avg= total/3\n",
        "  return avg"
      ],
      "execution_count": 27,
      "outputs": []
    },
    {
      "cell_type": "code",
      "metadata": {
        "colab": {
          "base_uri": "https://localhost:8080/"
        },
        "id": "yG9P8IpzbjwZ",
        "outputId": "ce892551-5e9d-4fa8-c538-5a72624ea4e4"
      },
      "source": [
        "# 각 학생의 3과목 총점과 평균을 출력\n",
        "for s in students:\n",
        "  total= get_student_total(s)\n",
        "  avg= get_student_avgerage(s)\n",
        "  print(s['name'],'총점=' ,total,'평균=',avg)"
      ],
      "execution_count": 28,
      "outputs": [
        {
          "output_type": "stream",
          "text": [
            "aaa 총점= 250 평균= 83.33333333333333\n",
            "bbb 총점= 260 평균= 86.66666666666667\n",
            "ccc 총점= 210 평균= 70.0\n",
            "ddd 총점= 200 평균= 66.66666666666667\n",
            "eee 총점= 260 평균= 86.66666666666667\n"
          ],
          "name": "stdout"
        }
      ]
    },
    {
      "cell_type": "markdown",
      "metadata": {
        "id": "A6kvcGDMfZKj"
      },
      "source": [
        "총점과 평균을 계산하는 함수는 학생 dict 타입과 매우 밀접한 관계를 맺고있음.\n",
        "\n",
        "서로 관계를 맺고 있는 데이터(이름,3과목 점수)와 기능(총점 계산, 평균계산)\n",
        "하나로 묶을 수 있을까?"
      ]
    }
  ]
}