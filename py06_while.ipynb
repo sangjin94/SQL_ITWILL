{
  "nbformat": 4,
  "nbformat_minor": 0,
  "metadata": {
    "colab": {
      "name": "py06_while.ipynb",
      "provenance": [],
      "collapsed_sections": [
        "rpCVD-ADlV-S"
      ],
      "authorship_tag": "ABX9TyNqpSuZBiAy/jScY7KhcbiO",
      "include_colab_link": true
    },
    "kernelspec": {
      "name": "python3",
      "display_name": "Python 3"
    },
    "language_info": {
      "name": "python"
    }
  },
  "cells": [
    {
      "cell_type": "markdown",
      "metadata": {
        "id": "view-in-github",
        "colab_type": "text"
      },
      "source": [
        "<a href=\"https://colab.research.google.com/github/sangjin94/SQL_ITWILL/blob/main/py06_while.ipynb\" target=\"_parent\"><img src=\"https://colab.research.google.com/assets/colab-badge.svg\" alt=\"Open In Colab\"/></a>"
      ]
    },
    {
      "cell_type": "markdown",
      "metadata": {
        "id": "v6srmeeV5rG8"
      },
      "source": [
        "# while 반복문"
      ]
    },
    {
      "cell_type": "markdown",
      "metadata": {
        "id": "kiY98u445tLR"
      },
      "source": [
        "\n",
        "\n",
        "\n",
        "```\n",
        "[초기화 문장]\n",
        "while 조건식: \n",
        "    조건식을 만족하는 동안에(조건식이 True인 동안에) 반복할 코드 블록(문장들)\n",
        "    [조건을 변경할 수 있는 문장] \n",
        "```\n",
        "\n"
      ]
    },
    {
      "cell_type": "markdown",
      "metadata": {
        "id": "u0jSnpf16jy8"
      },
      "source": [
        " 1부터 5까지 한줄씩 출력"
      ]
    },
    {
      "cell_type": "code",
      "metadata": {
        "id": "LPKyJuE45sjd",
        "colab": {
          "base_uri": "https://localhost:8080/"
        },
        "outputId": "01360026-618f-42ac-db6f-557151d29a0c"
      },
      "source": [
        "for x in range(1,6):\n",
        "  print(x)"
      ],
      "execution_count": null,
      "outputs": [
        {
          "output_type": "stream",
          "text": [
            "1\n",
            "2\n",
            "3\n",
            "4\n",
            "5\n"
          ],
          "name": "stdout"
        }
      ]
    },
    {
      "cell_type": "code",
      "metadata": {
        "colab": {
          "base_uri": "https://localhost:8080/"
        },
        "id": "_XOnV3Fk62xP",
        "outputId": "55a4819c-ddbb-4d40-ec6f-efccd13a8124"
      },
      "source": [
        "x = 1\n",
        "while x < 6 :\n",
        "  print(x)\n",
        "  x= x+1\n",
        "  "
      ],
      "execution_count": null,
      "outputs": [
        {
          "output_type": "stream",
          "text": [
            "1\n",
            "2\n",
            "3\n",
            "4\n",
            "5\n"
          ],
          "name": "stdout"
        }
      ]
    },
    {
      "cell_type": "markdown",
      "metadata": {
        "id": "v9Ht5NSI61yk"
      },
      "source": [
        "* Exercises"
      ]
    },
    {
      "cell_type": "markdown",
      "metadata": {
        "id": "bv6hpbmtfste"
      },
      "source": [
        "10미만의 홀수를 출력"
      ]
    },
    {
      "cell_type": "code",
      "metadata": {
        "colab": {
          "base_uri": "https://localhost:8080/"
        },
        "id": "JO4Te5Cq9IPS",
        "outputId": "04a53549-161e-4226-efd2-6a763ccc9d58"
      },
      "source": [
        "x=1          #시작값\n",
        "while x< 10:  #반복할 조건\n",
        "  if x % 2 == 1:  \n",
        "    print(x)\n",
        "  x=x+1 "
      ],
      "execution_count": null,
      "outputs": [
        {
          "output_type": "stream",
          "text": [
            "1\n",
            "3\n",
            "5\n",
            "7\n",
            "9\n"
          ],
          "name": "stdout"
        }
      ]
    },
    {
      "cell_type": "markdown",
      "metadata": {
        "id": "sAm-q_Q1fwIV"
      },
      "source": [
        ""
      ]
    },
    {
      "cell_type": "code",
      "metadata": {
        "colab": {
          "base_uri": "https://localhost:8080/"
        },
        "id": "3u9lPiYs-9AA",
        "outputId": "61ccf7db-be95-4dd6-b973-514434879af5"
      },
      "source": [
        "x = 1\n",
        "while x<6:\n",
        "  print('*'*x)\n",
        "  x= x+1\n",
        "    "
      ],
      "execution_count": null,
      "outputs": [
        {
          "output_type": "stream",
          "text": [
            "*\n",
            "**\n",
            "***\n",
            "****\n",
            "*****\n"
          ],
          "name": "stdout"
        }
      ]
    },
    {
      "cell_type": "markdown",
      "metadata": {
        "id": "Oew2VFB5fvKJ"
      },
      "source": [
        "구구단 12단 출력"
      ]
    },
    {
      "cell_type": "code",
      "metadata": {
        "id": "sOUxaDWv_W6v"
      },
      "source": [
        "x = 1\n",
        "while x < 13:\n",
        "  for y in range(1,13):\n",
        "    print(f'{x} x {y} = {x*y}')\n",
        "  print('-'*20)\n",
        "  x=x+1"
      ],
      "execution_count": null,
      "outputs": []
    },
    {
      "cell_type": "markdown",
      "metadata": {
        "id": "rpCVD-ADlV-S"
      },
      "source": [
        "## 중첩 while 반복문(nested while loop)"
      ]
    },
    {
      "cell_type": "code",
      "metadata": {
        "id": "s74nGnVypIgl"
      },
      "source": [
        "x=2               # 단의 시작값\n",
        "while x <10:       #9단까지\n",
        "  print(f'-----{x}단-----')\n",
        "  n=1   # 단에서 곱하는 숫자 시작값\n",
        "  while n<10:\n",
        "    print(f'{x} x {n} = {x*n}')\n",
        "    n += 1\n",
        "  x += 1   "
      ],
      "execution_count": null,
      "outputs": []
    },
    {
      "cell_type": "markdown",
      "metadata": {
        "id": "8Ik-H478sI8i"
      },
      "source": [
        "## While 문에서 break 사용하기"
      ]
    },
    {
      "cell_type": "code",
      "metadata": {
        "id": "JxWHbotxCSvk"
      },
      "source": [
        "x = 2\n",
        "while x < 10:\n",
        "  print(f'-------{x}단--------')\n",
        "  y=1\n",
        "  while y < 10:    \n",
        "    print(f'{x} x {y} = {x*y}')\n",
        "    y += 1\n",
        "    if x == y:\n",
        "      break\n",
        "  x=x+1"
      ],
      "execution_count": null,
      "outputs": []
    },
    {
      "cell_type": "markdown",
      "metadata": {
        "id": "01eon6CtwZH_"
      },
      "source": [
        "## 무한 반복문과 break"
      ]
    },
    {
      "cell_type": "code",
      "metadata": {
        "colab": {
          "base_uri": "https://localhost:8080/"
        },
        "id": "X8-t9uXZwdbz",
        "outputId": "e6d67c44-c443-4fb2-f089-b8f2b46f6411"
      },
      "source": [
        "while True: # 무한 루프(infinite loop)\n",
        "    msg= input('메시지를 입력하세요. 멈추고 싶으면 Q를 입력하세요>>>')\n",
        "    print(msg)\n",
        "    if msg=='Q' :  # 무한 루프를 종료시킬 조건 \n",
        "      break\n"
      ],
      "execution_count": null,
      "outputs": [
        {
          "output_type": "stream",
          "text": [
            "메시지를 입력하세요. 멈추고 싶으면 Q를 입력하세요>>>sda\n",
            "sda\n",
            "메시지를 입력하세요. 멈추고 싶으면 Q를 입력하세요>>>Q\n",
            "Q\n"
          ],
          "name": "stdout"
        }
      ]
    }
  ]
}