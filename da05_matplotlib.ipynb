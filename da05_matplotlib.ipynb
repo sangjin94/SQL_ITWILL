{
  "nbformat": 4,
  "nbformat_minor": 0,
  "metadata": {
    "colab": {
      "name": "da05_matplotlib.ipynb",
      "provenance": [],
      "collapsed_sections": [],
      "authorship_tag": "ABX9TyMJ0khqo3mnAkI5FqzJ8xEG",
      "include_colab_link": true
    },
    "kernelspec": {
      "name": "python3",
      "display_name": "Python 3"
    },
    "language_info": {
      "name": "python"
    }
  },
  "cells": [
    {
      "cell_type": "markdown",
      "metadata": {
        "id": "view-in-github",
        "colab_type": "text"
      },
      "source": [
        "<a href=\"https://colab.research.google.com/github/sangjin94/SQL_ITWILL/blob/main/da05_matplotlib.ipynb\" target=\"_parent\"><img src=\"https://colab.research.google.com/assets/colab-badge.svg\" alt=\"Open In Colab\"/></a>"
      ]
    },
    {
      "cell_type": "code",
      "metadata": {
        "id": "O0ppxPBfY0lv"
      },
      "source": [
        "import matplotlib.pyplot as plt # 시각화 모듈\n",
        "import pandas as pd # Series, DataFrame 기능\n",
        "import seaborn as sns # 시각화 모듈, 예제 데이터 셋 \n",
        "import numpy as np  # ndarray 기능"
      ],
      "execution_count": 211,
      "outputs": []
    },
    {
      "cell_type": "markdown",
      "metadata": {
        "id": "lczgYGk3Zc6h"
      },
      "source": [
        "# 데이터 셋"
      ]
    },
    {
      "cell_type": "code",
      "metadata": {
        "id": "JMyZMoo5ZeJA"
      },
      "source": [
        "tips= sns.load_dataset('tips')"
      ],
      "execution_count": 2,
      "outputs": []
    },
    {
      "cell_type": "code",
      "metadata": {
        "colab": {
          "base_uri": "https://localhost:8080/",
          "height": 203
        },
        "id": "TQmRANQbZp3Y",
        "outputId": "cfd086e4-ebb1-4d56-f5a7-8857f85b0aec"
      },
      "source": [
        "tips.head() # tips.iloc[:5]"
      ],
      "execution_count": 3,
      "outputs": [
        {
          "output_type": "execute_result",
          "data": {
            "text/html": [
              "<div>\n",
              "<style scoped>\n",
              "    .dataframe tbody tr th:only-of-type {\n",
              "        vertical-align: middle;\n",
              "    }\n",
              "\n",
              "    .dataframe tbody tr th {\n",
              "        vertical-align: top;\n",
              "    }\n",
              "\n",
              "    .dataframe thead th {\n",
              "        text-align: right;\n",
              "    }\n",
              "</style>\n",
              "<table border=\"1\" class=\"dataframe\">\n",
              "  <thead>\n",
              "    <tr style=\"text-align: right;\">\n",
              "      <th></th>\n",
              "      <th>total_bill</th>\n",
              "      <th>tip</th>\n",
              "      <th>sex</th>\n",
              "      <th>smoker</th>\n",
              "      <th>day</th>\n",
              "      <th>time</th>\n",
              "      <th>size</th>\n",
              "    </tr>\n",
              "  </thead>\n",
              "  <tbody>\n",
              "    <tr>\n",
              "      <th>0</th>\n",
              "      <td>16.99</td>\n",
              "      <td>1.01</td>\n",
              "      <td>Female</td>\n",
              "      <td>No</td>\n",
              "      <td>Sun</td>\n",
              "      <td>Dinner</td>\n",
              "      <td>2</td>\n",
              "    </tr>\n",
              "    <tr>\n",
              "      <th>1</th>\n",
              "      <td>10.34</td>\n",
              "      <td>1.66</td>\n",
              "      <td>Male</td>\n",
              "      <td>No</td>\n",
              "      <td>Sun</td>\n",
              "      <td>Dinner</td>\n",
              "      <td>3</td>\n",
              "    </tr>\n",
              "    <tr>\n",
              "      <th>2</th>\n",
              "      <td>21.01</td>\n",
              "      <td>3.50</td>\n",
              "      <td>Male</td>\n",
              "      <td>No</td>\n",
              "      <td>Sun</td>\n",
              "      <td>Dinner</td>\n",
              "      <td>3</td>\n",
              "    </tr>\n",
              "    <tr>\n",
              "      <th>3</th>\n",
              "      <td>23.68</td>\n",
              "      <td>3.31</td>\n",
              "      <td>Male</td>\n",
              "      <td>No</td>\n",
              "      <td>Sun</td>\n",
              "      <td>Dinner</td>\n",
              "      <td>2</td>\n",
              "    </tr>\n",
              "    <tr>\n",
              "      <th>4</th>\n",
              "      <td>24.59</td>\n",
              "      <td>3.61</td>\n",
              "      <td>Female</td>\n",
              "      <td>No</td>\n",
              "      <td>Sun</td>\n",
              "      <td>Dinner</td>\n",
              "      <td>4</td>\n",
              "    </tr>\n",
              "  </tbody>\n",
              "</table>\n",
              "</div>"
            ],
            "text/plain": [
              "   total_bill   tip     sex smoker  day    time  size\n",
              "0       16.99  1.01  Female     No  Sun  Dinner     2\n",
              "1       10.34  1.66    Male     No  Sun  Dinner     3\n",
              "2       21.01  3.50    Male     No  Sun  Dinner     3\n",
              "3       23.68  3.31    Male     No  Sun  Dinner     2\n",
              "4       24.59  3.61  Female     No  Sun  Dinner     4"
            ]
          },
          "metadata": {
            "tags": []
          },
          "execution_count": 3
        }
      ]
    },
    {
      "cell_type": "code",
      "metadata": {
        "colab": {
          "base_uri": "https://localhost:8080/"
        },
        "id": "xxWudeasZw-R",
        "outputId": "f07d1e76-9f68-480e-a64e-0ea0159683b3"
      },
      "source": [
        "tips.shape "
      ],
      "execution_count": 4,
      "outputs": [
        {
          "output_type": "execute_result",
          "data": {
            "text/plain": [
              "(244, 7)"
            ]
          },
          "metadata": {
            "tags": []
          },
          "execution_count": 4
        }
      ]
    },
    {
      "cell_type": "code",
      "metadata": {
        "colab": {
          "base_uri": "https://localhost:8080/",
          "height": 295
        },
        "id": "dukkyaWvaFvg",
        "outputId": "d04bc73a-4a40-48f2-f526-59eb6f7a22b5"
      },
      "source": [
        "tips.describe() # 숫자 타입 변수들의 기술 통계량 요약"
      ],
      "execution_count": 5,
      "outputs": [
        {
          "output_type": "execute_result",
          "data": {
            "text/html": [
              "<div>\n",
              "<style scoped>\n",
              "    .dataframe tbody tr th:only-of-type {\n",
              "        vertical-align: middle;\n",
              "    }\n",
              "\n",
              "    .dataframe tbody tr th {\n",
              "        vertical-align: top;\n",
              "    }\n",
              "\n",
              "    .dataframe thead th {\n",
              "        text-align: right;\n",
              "    }\n",
              "</style>\n",
              "<table border=\"1\" class=\"dataframe\">\n",
              "  <thead>\n",
              "    <tr style=\"text-align: right;\">\n",
              "      <th></th>\n",
              "      <th>total_bill</th>\n",
              "      <th>tip</th>\n",
              "      <th>size</th>\n",
              "    </tr>\n",
              "  </thead>\n",
              "  <tbody>\n",
              "    <tr>\n",
              "      <th>count</th>\n",
              "      <td>244.000000</td>\n",
              "      <td>244.000000</td>\n",
              "      <td>244.000000</td>\n",
              "    </tr>\n",
              "    <tr>\n",
              "      <th>mean</th>\n",
              "      <td>19.785943</td>\n",
              "      <td>2.998279</td>\n",
              "      <td>2.569672</td>\n",
              "    </tr>\n",
              "    <tr>\n",
              "      <th>std</th>\n",
              "      <td>8.902412</td>\n",
              "      <td>1.383638</td>\n",
              "      <td>0.951100</td>\n",
              "    </tr>\n",
              "    <tr>\n",
              "      <th>min</th>\n",
              "      <td>3.070000</td>\n",
              "      <td>1.000000</td>\n",
              "      <td>1.000000</td>\n",
              "    </tr>\n",
              "    <tr>\n",
              "      <th>25%</th>\n",
              "      <td>13.347500</td>\n",
              "      <td>2.000000</td>\n",
              "      <td>2.000000</td>\n",
              "    </tr>\n",
              "    <tr>\n",
              "      <th>50%</th>\n",
              "      <td>17.795000</td>\n",
              "      <td>2.900000</td>\n",
              "      <td>2.000000</td>\n",
              "    </tr>\n",
              "    <tr>\n",
              "      <th>75%</th>\n",
              "      <td>24.127500</td>\n",
              "      <td>3.562500</td>\n",
              "      <td>3.000000</td>\n",
              "    </tr>\n",
              "    <tr>\n",
              "      <th>max</th>\n",
              "      <td>50.810000</td>\n",
              "      <td>10.000000</td>\n",
              "      <td>6.000000</td>\n",
              "    </tr>\n",
              "  </tbody>\n",
              "</table>\n",
              "</div>"
            ],
            "text/plain": [
              "       total_bill         tip        size\n",
              "count  244.000000  244.000000  244.000000\n",
              "mean    19.785943    2.998279    2.569672\n",
              "std      8.902412    1.383638    0.951100\n",
              "min      3.070000    1.000000    1.000000\n",
              "25%     13.347500    2.000000    2.000000\n",
              "50%     17.795000    2.900000    2.000000\n",
              "75%     24.127500    3.562500    3.000000\n",
              "max     50.810000   10.000000    6.000000"
            ]
          },
          "metadata": {
            "tags": []
          },
          "execution_count": 5
        }
      ]
    },
    {
      "cell_type": "markdown",
      "metadata": {
        "id": "vh8jshcPaXUV"
      },
      "source": [
        "# matplotlib.pyplot 모듈을 사용한 시각화"
      ]
    },
    {
      "cell_type": "code",
      "metadata": {
        "colab": {
          "base_uri": "https://localhost:8080/",
          "height": 295
        },
        "id": "uKTHrw4Qacv1",
        "outputId": "89dd2842-12d2-470c-b0a2-8e11b3a79cba"
      },
      "source": [
        "# 1. figure 객체 생성\n",
        "fig= plt.figure()\n",
        "\n",
        "# 2. figure 객체에 subplot을 생성해서 추가\n",
        "axis=fig.add_subplot(1,1,1) #axis=fig.add_subplot(111) 로 표현 가능\n",
        "# nrows=1(figure에서 행의 개수)\n",
        "# ncols=1(figure에서 열의 개수)\n",
        "# index=1(생성된 subplot의 인덱스, 1부터 시작)\n",
        "\n",
        "\n",
        "# 3. subplot에 그래프를 그림\n",
        "axis.hist(x=tips['total_bill']) # histogram\n",
        "\n",
        "# 4. 그래프 옵션\n",
        "axis.set_title('Hitogram of total bill')\n",
        "axis.set_xlabel('Total bill')\n",
        "axis.set_ylabel('Counts')\n",
        "\n",
        "# 그래프보여주기 \n",
        "plt.show()"
      ],
      "execution_count": 12,
      "outputs": [
        {
          "output_type": "display_data",
          "data": {
            "image/png": "[encoded data removed]",
            "text/plain": [
              "<Figure size 432x288 with 1 Axes>"
            ]
          },
          "metadata": {
            "tags": [],
            "needs_background": "light"
          }
        }
      ]
    },
    {
      "cell_type": "markdown",
      "metadata": {
        "id": "Y_91eoFZeH0j"
      },
      "source": [
        "figure에 2개의 subplot을 추가해서, 히스토그램과 산점도 그래프를 그림."
      ]
    },
    {
      "cell_type": "code",
      "metadata": {
        "colab": {
          "base_uri": "https://localhost:8080/",
          "height": 513
        },
        "id": "CVGBlCuDeN_X",
        "outputId": "f90b5df9-b22f-4900-c940-69395c1186a0"
      },
      "source": [
        "# 1.figure 생성\n",
        "fig=plt.figure(figsize=(8,8))\n",
        "\n",
        "# 2. subplot 생성, 추가\n",
        "axis1=fig.add_subplot(2,1,1) # 행이2개이고 열이 1개인 figure에서 첫번째 subplot\n",
        "axis2=fig.add_subplot(2,1,2) # 행이2개이고 열이 1개인 figure에서 두번째 subplot\n",
        "\n",
        "# 3. 각 subplot에 그래프를 그림\n",
        "axis1.hist(x=tips['total_bill'])\n",
        "axis2.scatter(x=tips['total_bill'],y=tips['tip'])\n",
        "\n",
        "# 4. 그래프 옵션\n",
        "axis1.set_title('Histogram of total bill')\n",
        "axis2.set_title('Tip~Total bill') \n",
        "axis2.set_xlabel('Total bill')\n",
        "axis2.set_ylabel('tip')\n",
        "# 5. 그래프 보여주기\n",
        "plt.show()\n"
      ],
      "execution_count": 17,
      "outputs": [
        {
          "output_type": "display_data",
          "data": {
            "image/png": "[encoded data removed]",
            "text/plain": [
              "<Figure size 576x576 with 2 Axes>"
            ]
          },
          "metadata": {
            "tags": [],
            "needs_background": "light"
          }
        }
      ]
    },
    {
      "cell_type": "markdown",
      "metadata": {
        "id": "53Ejkiikk5lJ"
      },
      "source": [
        "figure에 행이 1개이고, 열이 2개가 되도록 subplot을 추가하고 시각"
      ]
    },
    {
      "cell_type": "code",
      "metadata": {
        "colab": {
          "base_uri": "https://localhost:8080/",
          "height": 390
        },
        "id": "cky2pTWWk-MK",
        "outputId": "86afcd72-b937-488b-8786-314fb2346511"
      },
      "source": [
        "fig= plt.figure(figsize=(12,6))\n",
        "axis1= fig.add_subplot(121) # fig.add_subplot(1,2,1)\n",
        "axis2= fig.add_subplot(122)# fig.add_subplot(1,2,2)\n",
        "\n",
        "axis1.hist(x=tips['total_bill'])\n",
        "axis2.scatter(x=tips['total_bill'],y=tips['tip'])\n",
        "\n",
        "axis1.set_title('Histogram of total bill')\n",
        "axis2.set_title('Tip ~ Total Bill')\n",
        "\n",
        "plt.show()"
      ],
      "execution_count": 21,
      "outputs": [
        {
          "output_type": "display_data",
          "data": {
            "image/png": "[encoded data removed]",
            "text/plain": [
              "<Figure size 864x432 with 2 Axes>"
            ]
          },
          "metadata": {
            "tags": [],
            "needs_background": "light"
          }
        }
      ]
    },
    {
      "cell_type": "markdown",
      "metadata": {
        "id": "4yfnGKHCnRTx"
      },
      "source": [
        "figure() 호출과 add_subplot() 호출을 하나의 함수 호출로 수행"
      ]
    },
    {
      "cell_type": "code",
      "metadata": {
        "colab": {
          "base_uri": "https://localhost:8080/",
          "height": 281
        },
        "id": "p3Wf5wppnZz4",
        "outputId": "aeb00281-5288-434f-f510-79da7570ab07"
      },
      "source": [
        "# figure 객체 생성 + subplot 을 추가\n",
        "fig,ax=plt.subplots()\n",
        "\n",
        "# subplot 객체의 매서드를 사용해서 그래프를 그림\n",
        "ax.hist(x=tips['total_bill'])\n",
        "\n",
        "#그래프 옵션\n",
        "ax.set_title('Histogram of total bill')\n",
        "plt.show()"
      ],
      "execution_count": 26,
      "outputs": [
        {
          "output_type": "display_data",
          "data": {
            "image/png": "[encoded data removed]",
            "text/plain": [
              "<Figure size 432x288 with 1 Axes>"
            ]
          },
          "metadata": {
            "tags": [],
            "needs_background": "light"
          }
        }
      ]
    },
    {
      "cell_type": "code",
      "metadata": {
        "colab": {
          "base_uri": "https://localhost:8080/",
          "height": 265
        },
        "id": "8JrM7_6-f7R0",
        "outputId": "6f69f17f-3573-4fc3-e465-651897b20f1b"
      },
      "source": [
        "fig,ax=plt.subplots(nrows=1,ncols=2)\n",
        "# fig> figure객체\n",
        "#> ax:Subplot들의 배열(ndarray)\n",
        "ax[0].hist(x=tips['total_bill'])\n",
        "ax[1].hist(x=tips['tip'])\n",
        "plt.show()"
      ],
      "execution_count": 36,
      "outputs": [
        {
          "output_type": "display_data",
          "data": {
            "image/png": "[encoded data removed]",
            "text/plain": [
              "<Figure size 432x288 with 2 Axes>"
            ]
          },
          "metadata": {
            "tags": [],
            "needs_background": "light"
          }
        }
      ]
    },
    {
      "cell_type": "markdown",
      "metadata": {
        "id": "z4EHgYawrGh8"
      },
      "source": [
        "1개의 figure 객체에 subplot이 1개만 있는 경우에는, matplotlib.pyplot 모듈의 top_level 함수들(plot,scatter,hist,boxplot,...)을 사용할 수 있음."
      ]
    },
    {
      "cell_type": "code",
      "metadata": {
        "colab": {
          "base_uri": "https://localhost:8080/",
          "height": 295
        },
        "id": "wCtytWeOrTv9",
        "outputId": "35e02008-b856-42a5-b460-b33f308a2c41"
      },
      "source": [
        "# figure 객체 생성, subplot 1개를 추가, 히스토그램 그림. \n",
        "plt.hist(x=tips['total_bill'])\n",
        "# 그래프 옵션들\n",
        "plt.title('Histogram of total bill')\n",
        "plt.xlabel('Total bill')\n",
        "plt.ylabel('count')\n",
        "# 그래프 보여주기\n",
        "plt.show()"
      ],
      "execution_count": 38,
      "outputs": [
        {
          "output_type": "display_data",
          "data": {
            "image/png": "[encoded data removed]",
            "text/plain": [
              "<Figure size 432x288 with 1 Axes>"
            ]
          },
          "metadata": {
            "tags": [],
            "needs_background": "light"
          }
        }
      ]
    },
    {
      "cell_type": "markdown",
      "metadata": {
        "id": "CpWygQMrsiCw"
      },
      "source": [
        "# Box Plot\n",
        "\n",
        "숫자 타입 변수의 기술 통계량 (최솟값, 최댓값 , 중앙값, 25%, 75%) 시각화\n",
        "\n",
        "\n",
        "\n"
      ]
    },
    {
      "cell_type": "code",
      "metadata": {
        "colab": {
          "base_uri": "https://localhost:8080/",
          "height": 266
        },
        "id": "apMoHVrZsyNw",
        "outputId": "0b7ca29e-cc01-45b9-d800-23d750e766ec"
      },
      "source": [
        "plt.boxplot(x=tips['total_bill'], labels=['Total_bill'])\n",
        "\n",
        "plt.show()"
      ],
      "execution_count": 42,
      "outputs": [
        {
          "output_type": "display_data",
          "data": {
            "image/png": "[encoded data removed]",
            "text/plain": [
              "<Figure size 432x288 with 1 Axes>"
            ]
          },
          "metadata": {
            "tags": [],
            "needs_background": "light"
          }
        }
      ]
    },
    {
      "cell_type": "code",
      "metadata": {
        "colab": {
          "base_uri": "https://localhost:8080/",
          "height": 266
        },
        "id": "mrO3CayqeGnJ",
        "outputId": "b4dd2683-5be6-451c-ae45-17c40fe829ec"
      },
      "source": [
        "# total_bill, tip의 box plot\n",
        "plt.boxplot(x=[tips['total_bill'],tips['tip']], labels=['total_bill','Tip'])\n",
        "plt.show()"
      ],
      "execution_count": 44,
      "outputs": [
        {
          "output_type": "display_data",
          "data": {
            "image/png": "[encoded data removed]",
            "text/plain": [
              "<Figure size 432x288 with 1 Axes>"
            ]
          },
          "metadata": {
            "tags": [],
            "needs_background": "light"
          }
        }
      ]
    },
    {
      "cell_type": "markdown",
      "metadata": {
        "id": "AzTXmE5xyJmQ"
      },
      "source": [
        "성별 tip의 기술 통계량을 출력하고, box plot"
      ]
    },
    {
      "cell_type": "code",
      "metadata": {
        "colab": {
          "base_uri": "https://localhost:8080/"
        },
        "id": "-EobaSrtyjIc",
        "outputId": "f27fc5c7-cd19-4b14-8e96-e35176f71f07"
      },
      "source": [
        "male_tip=tips[tips['sex']=='Male']['tip']\n",
        "male_tip"
      ],
      "execution_count": 61,
      "outputs": [
        {
          "output_type": "execute_result",
          "data": {
            "text/plain": [
              "1      1.66\n",
              "2      3.50\n",
              "3      3.31\n",
              "5      4.71\n",
              "6      2.00\n",
              "       ... \n",
              "236    1.00\n",
              "237    1.17\n",
              "239    5.92\n",
              "241    2.00\n",
              "242    1.75\n",
              "Name: tip, Length: 157, dtype: float64"
            ]
          },
          "metadata": {
            "tags": []
          },
          "execution_count": 61
        }
      ]
    },
    {
      "cell_type": "code",
      "metadata": {
        "colab": {
          "base_uri": "https://localhost:8080/"
        },
        "id": "DIzEsoudbhbI",
        "outputId": "e588eab3-84ea-48cb-b43d-88ed851f0a5b"
      },
      "source": [
        "male_tip.describe()"
      ],
      "execution_count": 58,
      "outputs": [
        {
          "output_type": "execute_result",
          "data": {
            "text/plain": [
              "count    157.000000\n",
              "mean       3.089618\n",
              "std        1.489102\n",
              "min        1.000000\n",
              "25%        2.000000\n",
              "50%        3.000000\n",
              "75%        3.760000\n",
              "max       10.000000\n",
              "Name: tip, dtype: float64"
            ]
          },
          "metadata": {
            "tags": []
          },
          "execution_count": 58
        }
      ]
    },
    {
      "cell_type": "code",
      "metadata": {
        "colab": {
          "base_uri": "https://localhost:8080/"
        },
        "id": "LrJjHej8a4tT",
        "outputId": "4b360dbe-76ff-4984-cd96-8e7ae7703cf5"
      },
      "source": [
        "female_tip=tips[tips['sex']=='Female']['tip']\n",
        "female_tip"
      ],
      "execution_count": 60,
      "outputs": [
        {
          "output_type": "execute_result",
          "data": {
            "text/plain": [
              "0      1.01\n",
              "4      3.61\n",
              "11     5.00\n",
              "14     3.02\n",
              "16     1.67\n",
              "       ... \n",
              "226    2.00\n",
              "229    2.88\n",
              "238    4.67\n",
              "240    2.00\n",
              "243    3.00\n",
              "Name: tip, Length: 87, dtype: float64"
            ]
          },
          "metadata": {
            "tags": []
          },
          "execution_count": 60
        }
      ]
    },
    {
      "cell_type": "code",
      "metadata": {
        "colab": {
          "base_uri": "https://localhost:8080/"
        },
        "id": "YdF5id7GaKnJ",
        "outputId": "b09f2d25-3fb6-4f1f-d93b-345412eafc5b"
      },
      "source": [
        "female_tip.describe()"
      ],
      "execution_count": 62,
      "outputs": [
        {
          "output_type": "execute_result",
          "data": {
            "text/plain": [
              "count    87.000000\n",
              "mean      2.833448\n",
              "std       1.159495\n",
              "min       1.000000\n",
              "25%       2.000000\n",
              "50%       2.750000\n",
              "75%       3.500000\n",
              "max       6.500000\n",
              "Name: tip, dtype: float64"
            ]
          },
          "metadata": {
            "tags": []
          },
          "execution_count": 62
        }
      ]
    },
    {
      "cell_type": "code",
      "metadata": {
        "colab": {
          "base_uri": "https://localhost:8080/",
          "height": 320
        },
        "id": "JRaMC89H1Gl2",
        "outputId": "42152eb5-6cae-47d2-df28-9faba6e64520"
      },
      "source": [
        "plt.boxplot(x=[male_tip,female_tip],labels=['Male','Female'])\n",
        "plt.show()"
      ],
      "execution_count": 65,
      "outputs": [
        {
          "output_type": "stream",
          "text": [
            "/usr/local/lib/python3.7/dist-packages/numpy/core/_asarray.py:83: VisibleDeprecationWarning: Creating an ndarray from ragged nested sequences (which is a list-or-tuple of lists-or-tuples-or ndarrays with different lengths or shapes) is deprecated. If you meant to do this, you must specify 'dtype=object' when creating the ndarray\n",
            "  return array(a, dtype, copy=False, order=order)\n"
          ],
          "name": "stderr"
        },
        {
          "output_type": "display_data",
          "data": {
            "image/png": "[encoded data removed]",
            "text/plain": [
              "<Figure size 432x288 with 1 Axes>"
            ]
          },
          "metadata": {
            "tags": [],
            "needs_background": "light"
          }
        }
      ]
    },
    {
      "cell_type": "code",
      "metadata": {
        "colab": {
          "base_uri": "https://localhost:8080/",
          "height": 265
        },
        "id": "mwAKHMgx1w7R",
        "outputId": "60266eff-b222-4e12-aa11-3594f512cd64"
      },
      "source": [
        "# visibleDeprecationWarning을 없애기 위해서 객체들의 배열(ndarray)를 생성하고 boxplot함수의 argument로 전달.\n",
        "tip_by_gender= np.array([male_tip,female_tip],dtype='object')\n",
        "plt.boxplot(x=tip_by_gender, labels=['Male', 'Female'])\n",
        "plt.show()"
      ],
      "execution_count": 104,
      "outputs": [
        {
          "output_type": "display_data",
          "data": {
            "image/png": "[encoded data removed]",
            "text/plain": [
              "<Figure size 432x288 with 1 Axes>"
            ]
          },
          "metadata": {
            "tags": [],
            "needs_background": "light"
          }
        }
      ]
    },
    {
      "cell_type": "markdown",
      "metadata": {
        "id": "bHxKXqYE2RTU"
      },
      "source": [
        "시간별 tip의 기술 통계량을 출력하고, box plot을 그림."
      ]
    },
    {
      "cell_type": "code",
      "metadata": {
        "colab": {
          "base_uri": "https://localhost:8080/"
        },
        "id": "U-wmqMn02SUB",
        "outputId": "d7687ac6-c686-43fb-baa9-52b7f1f6e3dd"
      },
      "source": [
        "tips['time'].unique()"
      ],
      "execution_count": 68,
      "outputs": [
        {
          "output_type": "execute_result",
          "data": {
            "text/plain": [
              "['Dinner', 'Lunch']\n",
              "Categories (2, object): ['Dinner', 'Lunch']"
            ]
          },
          "metadata": {
            "tags": []
          },
          "execution_count": 68
        }
      ]
    },
    {
      "cell_type": "code",
      "metadata": {
        "colab": {
          "base_uri": "https://localhost:8080/"
        },
        "id": "Ju388GLR2hGE",
        "outputId": "e2267cfa-6958-4e69-d24f-88599990f428"
      },
      "source": [
        "dinner_tip=tips[tips['time']=='Dinner']['tip']\n",
        "dinner_tip"
      ],
      "execution_count": 69,
      "outputs": [
        {
          "output_type": "execute_result",
          "data": {
            "text/plain": [
              "0      1.01\n",
              "1      1.66\n",
              "2      3.50\n",
              "3      3.31\n",
              "4      3.61\n",
              "       ... \n",
              "239    5.92\n",
              "240    2.00\n",
              "241    2.00\n",
              "242    1.75\n",
              "243    3.00\n",
              "Name: tip, Length: 176, dtype: float64"
            ]
          },
          "metadata": {
            "tags": []
          },
          "execution_count": 69
        }
      ]
    },
    {
      "cell_type": "code",
      "metadata": {
        "colab": {
          "base_uri": "https://localhost:8080/"
        },
        "id": "ieBLr-Wz2vp0",
        "outputId": "03bb7305-d9b7-4b99-be07-caff453baf83"
      },
      "source": [
        "dinner_tip.describe()"
      ],
      "execution_count": 70,
      "outputs": [
        {
          "output_type": "execute_result",
          "data": {
            "text/plain": [
              "count    176.000000\n",
              "mean       3.102670\n",
              "std        1.436243\n",
              "min        1.000000\n",
              "25%        2.000000\n",
              "50%        3.000000\n",
              "75%        3.687500\n",
              "max       10.000000\n",
              "Name: tip, dtype: float64"
            ]
          },
          "metadata": {
            "tags": []
          },
          "execution_count": 70
        }
      ]
    },
    {
      "cell_type": "code",
      "metadata": {
        "colab": {
          "base_uri": "https://localhost:8080/"
        },
        "id": "cCR-NfIR217R",
        "outputId": "2ec5c8c3-ce00-433d-8620-1f2ec05481cf"
      },
      "source": [
        "lunch_tip=tips[tips['time']=='Lunch']['tip']\n",
        "lunch_tip"
      ],
      "execution_count": 72,
      "outputs": [
        {
          "output_type": "execute_result",
          "data": {
            "text/plain": [
              "77     4.00\n",
              "78     3.00\n",
              "79     2.71\n",
              "80     3.00\n",
              "81     3.40\n",
              "       ... \n",
              "222    1.92\n",
              "223    3.00\n",
              "224    1.58\n",
              "225    2.50\n",
              "226    2.00\n",
              "Name: tip, Length: 68, dtype: float64"
            ]
          },
          "metadata": {
            "tags": []
          },
          "execution_count": 72
        }
      ]
    },
    {
      "cell_type": "code",
      "metadata": {
        "colab": {
          "base_uri": "https://localhost:8080/"
        },
        "id": "vKnRHSTV3EQZ",
        "outputId": "16fa1845-c608-4fe5-fcb4-cc2869a0bb14"
      },
      "source": [
        "lunch_tip.describe()"
      ],
      "execution_count": 74,
      "outputs": [
        {
          "output_type": "execute_result",
          "data": {
            "text/plain": [
              "count    68.000000\n",
              "mean      2.728088\n",
              "std       1.205345\n",
              "min       1.250000\n",
              "25%       2.000000\n",
              "50%       2.250000\n",
              "75%       3.287500\n",
              "max       6.700000\n",
              "Name: tip, dtype: float64"
            ]
          },
          "metadata": {
            "tags": []
          },
          "execution_count": 74
        }
      ]
    },
    {
      "cell_type": "code",
      "metadata": {
        "colab": {
          "base_uri": "https://localhost:8080/",
          "height": 265
        },
        "id": "K3O6o3m93Vn6",
        "outputId": "1e99b862-6ef6-47eb-8390-b7641c21c0f9"
      },
      "source": [
        "plt.boxplot(x=np.array([lunch_tip,dinner_tip],dtype='object'),\n",
        "            labels=['Lunch','Dinner'])\n",
        "plt.show()"
      ],
      "execution_count": 76,
      "outputs": [
        {
          "output_type": "display_data",
          "data": {
            "image/png": "[encoded data removed]",
            "text/plain": [
              "<Figure size 432x288 with 1 Axes>"
            ]
          },
          "metadata": {
            "tags": [],
            "needs_background": "light"
          }
        }
      ]
    },
    {
      "cell_type": "markdown",
      "metadata": {
        "id": "aD98ttjB3w20"
      },
      "source": [
        "요일별 tip의 box plot 시각화"
      ]
    },
    {
      "cell_type": "code",
      "metadata": {
        "colab": {
          "base_uri": "https://localhost:8080/"
        },
        "id": "GFqumn0v30Pr",
        "outputId": "ff2fff26-43ee-4830-c605-8abe2ae94e23"
      },
      "source": [
        "tips['day'].unique()"
      ],
      "execution_count": 80,
      "outputs": [
        {
          "output_type": "execute_result",
          "data": {
            "text/plain": [
              "['Sun', 'Sat', 'Thur', 'Fri']\n",
              "Categories (4, object): ['Sun', 'Sat', 'Thur', 'Fri']"
            ]
          },
          "metadata": {
            "tags": []
          },
          "execution_count": 80
        }
      ]
    },
    {
      "cell_type": "code",
      "metadata": {
        "colab": {
          "base_uri": "https://localhost:8080/"
        },
        "id": "4Bzh6RJs4DHX",
        "outputId": "0023ca42-7e94-489c-d0dc-fc00555772df"
      },
      "source": [
        "Sun_tip=tips[tips['day']=='Sun']['tip']\n",
        "Sun_tip"
      ],
      "execution_count": 86,
      "outputs": [
        {
          "output_type": "execute_result",
          "data": {
            "text/plain": [
              "0      1.01\n",
              "1      1.66\n",
              "2      3.50\n",
              "3      3.31\n",
              "4      3.61\n",
              "       ... \n",
              "186    3.50\n",
              "187    2.00\n",
              "188    3.50\n",
              "189    4.00\n",
              "190    1.50\n",
              "Name: tip, Length: 76, dtype: float64"
            ]
          },
          "metadata": {
            "tags": []
          },
          "execution_count": 86
        }
      ]
    },
    {
      "cell_type": "code",
      "metadata": {
        "colab": {
          "base_uri": "https://localhost:8080/"
        },
        "id": "Y0uw5MG44fMP",
        "outputId": "3285299b-41af-439b-b27a-5442c63e7652"
      },
      "source": [
        "Sat_tip=tips[tips['day']=='Sat']['tip']\n",
        "Sat_tip"
      ],
      "execution_count": 87,
      "outputs": [
        {
          "output_type": "execute_result",
          "data": {
            "text/plain": [
              "19     3.35\n",
              "20     4.08\n",
              "21     2.75\n",
              "22     2.23\n",
              "23     7.58\n",
              "       ... \n",
              "238    4.67\n",
              "239    5.92\n",
              "240    2.00\n",
              "241    2.00\n",
              "242    1.75\n",
              "Name: tip, Length: 87, dtype: float64"
            ]
          },
          "metadata": {
            "tags": []
          },
          "execution_count": 87
        }
      ]
    },
    {
      "cell_type": "code",
      "metadata": {
        "colab": {
          "base_uri": "https://localhost:8080/"
        },
        "id": "85V878df4f8j",
        "outputId": "cffe2854-aff5-461c-81dc-68ce8afbd7d5"
      },
      "source": [
        "Thur_tip=tips[tips['day']=='Thur']['tip']\n",
        "Thur_tip"
      ],
      "execution_count": 88,
      "outputs": [
        {
          "output_type": "execute_result",
          "data": {
            "text/plain": [
              "77     4.00\n",
              "78     3.00\n",
              "79     2.71\n",
              "80     3.00\n",
              "81     3.40\n",
              "       ... \n",
              "202    2.00\n",
              "203    2.50\n",
              "204    4.00\n",
              "205    3.23\n",
              "243    3.00\n",
              "Name: tip, Length: 62, dtype: float64"
            ]
          },
          "metadata": {
            "tags": []
          },
          "execution_count": 88
        }
      ]
    },
    {
      "cell_type": "code",
      "metadata": {
        "colab": {
          "base_uri": "https://localhost:8080/"
        },
        "id": "mPsXGTEN4fha",
        "outputId": "4c90968d-dcef-4d38-ec2c-dd91e34abd37"
      },
      "source": [
        "Fri_tip=tips[tips['day']=='Fri']['tip']\n",
        "Fri_tip"
      ],
      "execution_count": 89,
      "outputs": [
        {
          "output_type": "execute_result",
          "data": {
            "text/plain": [
              "90     3.00\n",
              "91     3.50\n",
              "92     1.00\n",
              "93     4.30\n",
              "94     3.25\n",
              "95     4.73\n",
              "96     4.00\n",
              "97     1.50\n",
              "98     3.00\n",
              "99     1.50\n",
              "100    2.50\n",
              "101    3.00\n",
              "220    2.20\n",
              "221    3.48\n",
              "222    1.92\n",
              "223    3.00\n",
              "224    1.58\n",
              "225    2.50\n",
              "226    2.00\n",
              "Name: tip, dtype: float64"
            ]
          },
          "metadata": {
            "tags": []
          },
          "execution_count": 89
        }
      ]
    },
    {
      "cell_type": "code",
      "metadata": {
        "colab": {
          "base_uri": "https://localhost:8080/",
          "height": 266
        },
        "id": "_DjO4NRy4sCK",
        "outputId": "48c37fba-e81a-40dd-8310-029f02670ede"
      },
      "source": [
        "plt.boxplot(x=np.array([Thur_tip,Fri_tip,Sat_tip,Sun_tip],dtype='object'),\n",
        "            labels=['Thur_tip','Fri_tip','Sat_tip','Sun_tip'])\n",
        "plt.show()"
      ],
      "execution_count": 90,
      "outputs": [
        {
          "output_type": "display_data",
          "data": {
            "image/png": "[encoded data removed]",
            "text/plain": [
              "<Figure size 432x288 with 1 Axes>"
            ]
          },
          "metadata": {
            "tags": [],
            "needs_background": "light"
          }
        }
      ]
    },
    {
      "cell_type": "code",
      "metadata": {
        "colab": {
          "base_uri": "https://localhost:8080/"
        },
        "id": "8THQOXTi8Aok",
        "outputId": "362d12db-ee59-427d-e2f8-4398bd92a964"
      },
      "source": [
        "days = tips['day'].unique()\n",
        "days"
      ],
      "execution_count": 99,
      "outputs": [
        {
          "output_type": "execute_result",
          "data": {
            "text/plain": [
              "['Sun', 'Sat', 'Thur', 'Fri']\n",
              "Categories (4, object): ['Sun', 'Sat', 'Thur', 'Fri']"
            ]
          },
          "metadata": {
            "tags": []
          },
          "execution_count": 99
        }
      ]
    },
    {
      "cell_type": "code",
      "metadata": {
        "colab": {
          "base_uri": "https://localhost:8080/",
          "height": 265
        },
        "id": "syM_v_5b591e",
        "outputId": "4819e256-29d1-479d-e730-7322b955de68"
      },
      "source": [
        "tip_by_day=[] # 요일별 tip을 저장하기 위한 empty list\n",
        "\n",
        "for d in days:\n",
        "  # 해당 요일의 tip 컬럼을 리스트에 추가\n",
        "  tip_by_day.append(tips[tips['day']==d]['tip'])\n",
        "\n",
        "# 리스트를 Series를 원소로 갖는 ndarray로 변환\n",
        "tip_by_day = np.array(tip_by_day,dtype='object')\n",
        "\n",
        "# boxplot\n",
        "plt.boxplot(x=tip_by_day,labels=days)\n",
        "plt.show()\n"
      ],
      "execution_count": 100,
      "outputs": [
        {
          "output_type": "display_data",
          "data": {
            "image/png": "[encoded data removed]",
            "text/plain": [
              "<Figure size 432x288 with 1 Axes>"
            ]
          },
          "metadata": {
            "tags": [],
            "needs_background": "light"
          }
        }
      ]
    },
    {
      "cell_type": "code",
      "metadata": {
        "colab": {
          "base_uri": "https://localhost:8080/"
        },
        "id": "2S7Nksc-7L6o",
        "outputId": "5e9442eb-de83-4116-878a-b5e25597fa3c"
      },
      "source": [
        "tips[tips['day']=='Sat']['tip'].describe()"
      ],
      "execution_count": 103,
      "outputs": [
        {
          "output_type": "execute_result",
          "data": {
            "text/plain": [
              "count    87.000000\n",
              "mean      2.993103\n",
              "std       1.631014\n",
              "min       1.000000\n",
              "25%       2.000000\n",
              "50%       2.750000\n",
              "75%       3.370000\n",
              "max      10.000000\n",
              "Name: tip, dtype: float64"
            ]
          },
          "metadata": {
            "tags": []
          },
          "execution_count": 103
        }
      ]
    },
    {
      "cell_type": "markdown",
      "metadata": {
        "id": "KgUUQY9hOLI6"
      },
      "source": [
        "# Histogram\n",
        "\n",
        "연속형 자료를 구간으로 나눠서 구간 안에 포함되는 자료의 수를 막대로 표현한 그래프."
      ]
    },
    {
      "cell_type": "code",
      "metadata": {
        "colab": {
          "base_uri": "https://localhost:8080/",
          "height": 417
        },
        "id": "LzRiEhOPOV9D",
        "outputId": "6f12733e-dffc-4948-d247-078dc0884b6e"
      },
      "source": [
        "tips"
      ],
      "execution_count": 106,
      "outputs": [
        {
          "output_type": "execute_result",
          "data": {
            "text/html": [
              "<div>\n",
              "<style scoped>\n",
              "    .dataframe tbody tr th:only-of-type {\n",
              "        vertical-align: middle;\n",
              "    }\n",
              "\n",
              "    .dataframe tbody tr th {\n",
              "        vertical-align: top;\n",
              "    }\n",
              "\n",
              "    .dataframe thead th {\n",
              "        text-align: right;\n",
              "    }\n",
              "</style>\n",
              "<table border=\"1\" class=\"dataframe\">\n",
              "  <thead>\n",
              "    <tr style=\"text-align: right;\">\n",
              "      <th></th>\n",
              "      <th>total_bill</th>\n",
              "      <th>tip</th>\n",
              "      <th>sex</th>\n",
              "      <th>smoker</th>\n",
              "      <th>day</th>\n",
              "      <th>time</th>\n",
              "      <th>size</th>\n",
              "    </tr>\n",
              "  </thead>\n",
              "  <tbody>\n",
              "    <tr>\n",
              "      <th>0</th>\n",
              "      <td>16.99</td>\n",
              "      <td>1.01</td>\n",
              "      <td>Female</td>\n",
              "      <td>No</td>\n",
              "      <td>Sun</td>\n",
              "      <td>Dinner</td>\n",
              "      <td>2</td>\n",
              "    </tr>\n",
              "    <tr>\n",
              "      <th>1</th>\n",
              "      <td>10.34</td>\n",
              "      <td>1.66</td>\n",
              "      <td>Male</td>\n",
              "      <td>No</td>\n",
              "      <td>Sun</td>\n",
              "      <td>Dinner</td>\n",
              "      <td>3</td>\n",
              "    </tr>\n",
              "    <tr>\n",
              "      <th>2</th>\n",
              "      <td>21.01</td>\n",
              "      <td>3.50</td>\n",
              "      <td>Male</td>\n",
              "      <td>No</td>\n",
              "      <td>Sun</td>\n",
              "      <td>Dinner</td>\n",
              "      <td>3</td>\n",
              "    </tr>\n",
              "    <tr>\n",
              "      <th>3</th>\n",
              "      <td>23.68</td>\n",
              "      <td>3.31</td>\n",
              "      <td>Male</td>\n",
              "      <td>No</td>\n",
              "      <td>Sun</td>\n",
              "      <td>Dinner</td>\n",
              "      <td>2</td>\n",
              "    </tr>\n",
              "    <tr>\n",
              "      <th>4</th>\n",
              "      <td>24.59</td>\n",
              "      <td>3.61</td>\n",
              "      <td>Female</td>\n",
              "      <td>No</td>\n",
              "      <td>Sun</td>\n",
              "      <td>Dinner</td>\n",
              "      <td>4</td>\n",
              "    </tr>\n",
              "    <tr>\n",
              "      <th>...</th>\n",
              "      <td>...</td>\n",
              "      <td>...</td>\n",
              "      <td>...</td>\n",
              "      <td>...</td>\n",
              "      <td>...</td>\n",
              "      <td>...</td>\n",
              "      <td>...</td>\n",
              "    </tr>\n",
              "    <tr>\n",
              "      <th>239</th>\n",
              "      <td>29.03</td>\n",
              "      <td>5.92</td>\n",
              "      <td>Male</td>\n",
              "      <td>No</td>\n",
              "      <td>Sat</td>\n",
              "      <td>Dinner</td>\n",
              "      <td>3</td>\n",
              "    </tr>\n",
              "    <tr>\n",
              "      <th>240</th>\n",
              "      <td>27.18</td>\n",
              "      <td>2.00</td>\n",
              "      <td>Female</td>\n",
              "      <td>Yes</td>\n",
              "      <td>Sat</td>\n",
              "      <td>Dinner</td>\n",
              "      <td>2</td>\n",
              "    </tr>\n",
              "    <tr>\n",
              "      <th>241</th>\n",
              "      <td>22.67</td>\n",
              "      <td>2.00</td>\n",
              "      <td>Male</td>\n",
              "      <td>Yes</td>\n",
              "      <td>Sat</td>\n",
              "      <td>Dinner</td>\n",
              "      <td>2</td>\n",
              "    </tr>\n",
              "    <tr>\n",
              "      <th>242</th>\n",
              "      <td>17.82</td>\n",
              "      <td>1.75</td>\n",
              "      <td>Male</td>\n",
              "      <td>No</td>\n",
              "      <td>Sat</td>\n",
              "      <td>Dinner</td>\n",
              "      <td>2</td>\n",
              "    </tr>\n",
              "    <tr>\n",
              "      <th>243</th>\n",
              "      <td>18.78</td>\n",
              "      <td>3.00</td>\n",
              "      <td>Female</td>\n",
              "      <td>No</td>\n",
              "      <td>Thur</td>\n",
              "      <td>Dinner</td>\n",
              "      <td>2</td>\n",
              "    </tr>\n",
              "  </tbody>\n",
              "</table>\n",
              "<p>244 rows × 7 columns</p>\n",
              "</div>"
            ],
            "text/plain": [
              "     total_bill   tip     sex smoker   day    time  size\n",
              "0         16.99  1.01  Female     No   Sun  Dinner     2\n",
              "1         10.34  1.66    Male     No   Sun  Dinner     3\n",
              "2         21.01  3.50    Male     No   Sun  Dinner     3\n",
              "3         23.68  3.31    Male     No   Sun  Dinner     2\n",
              "4         24.59  3.61  Female     No   Sun  Dinner     4\n",
              "..          ...   ...     ...    ...   ...     ...   ...\n",
              "239       29.03  5.92    Male     No   Sat  Dinner     3\n",
              "240       27.18  2.00  Female    Yes   Sat  Dinner     2\n",
              "241       22.67  2.00    Male    Yes   Sat  Dinner     2\n",
              "242       17.82  1.75    Male     No   Sat  Dinner     2\n",
              "243       18.78  3.00  Female     No  Thur  Dinner     2\n",
              "\n",
              "[244 rows x 7 columns]"
            ]
          },
          "metadata": {
            "tags": []
          },
          "execution_count": 106
        }
      ]
    },
    {
      "cell_type": "code",
      "metadata": {
        "colab": {
          "base_uri": "https://localhost:8080/",
          "height": 281
        },
        "id": "UxlbuQXROi8N",
        "outputId": "e18eec6d-3cde-4027-db0d-3948a3975794"
      },
      "source": [
        "plt.hist(x=tips['total_bill'],bins=10, edgecolor='black',color='white')\n",
        "# bins= 막대 개수, 구간\n",
        "# color= 막대를 채우는 색깔\n",
        "# edgecolor= 막대의 테두리 색깔\n",
        "plt.grid()\n",
        "plt.title('total_bill')\n",
        "plt.show()"
      ],
      "execution_count": 116,
      "outputs": [
        {
          "output_type": "display_data",
          "data": {
            "image/png": "[encoded data removed]",
            "text/plain": [
              "<Figure size 432x288 with 1 Axes>"
            ]
          },
          "metadata": {
            "tags": [],
            "needs_background": "light"
          }
        }
      ]
    },
    {
      "cell_type": "markdown",
      "metadata": {
        "id": "R66afxiEPsf3"
      },
      "source": [
        "tip의 히스토그램"
      ]
    },
    {
      "cell_type": "code",
      "metadata": {
        "colab": {
          "base_uri": "https://localhost:8080/",
          "height": 279
        },
        "id": "4i_xUfg9PvCR",
        "outputId": "339bae90-1a17-4eea-feb7-c9bddaf1c013"
      },
      "source": [
        "plt.hist(x=tips['tip'],bins=10,color='white', edgecolor='black')\n",
        "plt.grid()\n",
        "plt.xlabel('Tip')\n",
        "plt.ylabel('COunt')\n",
        "plt.show()"
      ],
      "execution_count": 117,
      "outputs": [
        {
          "output_type": "display_data",
          "data": {
            "image/png": "[encoded data removed]",
            "text/plain": [
              "<Figure size 432x288 with 1 Axes>"
            ]
          },
          "metadata": {
            "tags": [],
            "needs_background": "light"
          }
        }
      ]
    },
    {
      "cell_type": "markdown",
      "metadata": {
        "id": "tBD647sqQfj_"
      },
      "source": [
        "# Bar Plot\n",
        "\n",
        "카테고리 타입 변수의 빈도수를 막대로 표현한 그래프. "
      ]
    },
    {
      "cell_type": "code",
      "metadata": {
        "colab": {
          "base_uri": "https://localhost:8080/"
        },
        "id": "LVJUn3zsQ2C2",
        "outputId": "8f79fab0-83cc-4d19-a0c3-fd527fedd03a"
      },
      "source": [
        "# 남성/여성 숫자\n",
        "gender_counts=tips['sex'].value_counts()\n",
        "gender_counts #> Series"
      ],
      "execution_count": 119,
      "outputs": [
        {
          "output_type": "execute_result",
          "data": {
            "text/plain": [
              "Male      157\n",
              "Female     87\n",
              "Name: sex, dtype: int64"
            ]
          },
          "metadata": {
            "tags": []
          },
          "execution_count": 119
        }
      ]
    },
    {
      "cell_type": "code",
      "metadata": {
        "colab": {
          "base_uri": "https://localhost:8080/"
        },
        "id": "lxJw_d9zRKd2",
        "outputId": "34797473-0f73-44c1-9342-6e016a977ebb"
      },
      "source": [
        "gender_counts.index"
      ],
      "execution_count": 121,
      "outputs": [
        {
          "output_type": "execute_result",
          "data": {
            "text/plain": [
              "CategoricalIndex(['Male', 'Female'], categories=['Male', 'Female'], ordered=False, dtype='category')"
            ]
          },
          "metadata": {
            "tags": []
          },
          "execution_count": 121
        }
      ]
    },
    {
      "cell_type": "code",
      "metadata": {
        "colab": {
          "base_uri": "https://localhost:8080/"
        },
        "id": "oi_R0-ykRpT-",
        "outputId": "b33228d2-eba9-47fb-986a-578ca8957d08"
      },
      "source": [
        "gender_counts.values"
      ],
      "execution_count": 123,
      "outputs": [
        {
          "output_type": "execute_result",
          "data": {
            "text/plain": [
              "array([157,  87])"
            ]
          },
          "metadata": {
            "tags": []
          },
          "execution_count": 123
        }
      ]
    },
    {
      "cell_type": "code",
      "metadata": {
        "colab": {
          "base_uri": "https://localhost:8080/",
          "height": 265
        },
        "id": "EB6LqO40RrU_",
        "outputId": "f3f624c6-933a-4b38-a3c6-b5a52dcd5be9"
      },
      "source": [
        "plt.bar(x=gender_counts.index, height=gender_counts.values, width=0.4)\n",
        "plt.show()"
      ],
      "execution_count": 125,
      "outputs": [
        {
          "output_type": "display_data",
          "data": {
            "image/png": "[encoded data removed]",
            "text/plain": [
              "<Figure size 432x288 with 1 Axes>"
            ]
          },
          "metadata": {
            "tags": [],
            "needs_background": "light"
          }
        }
      ]
    },
    {
      "cell_type": "markdown",
      "metadata": {
        "id": "qptsrzsDSAoL"
      },
      "source": [
        "가로 막대 그래프(horizontal bal plot)"
      ]
    },
    {
      "cell_type": "code",
      "metadata": {
        "colab": {
          "base_uri": "https://localhost:8080/",
          "height": 265
        },
        "id": "i2TmW-AASC_3",
        "outputId": "ccd46304-053a-4375-9c9c-cc4f14a29405"
      },
      "source": [
        "plt.barh(y=gender_counts.index,width= gender_counts.values, height=0.5)\n",
        "plt.show()"
      ],
      "execution_count": 133,
      "outputs": [
        {
          "output_type": "display_data",
          "data": {
            "image/png": "[encoded data removed]",
            "text/plain": [
              "<Figure size 432x288 with 1 Axes>"
            ]
          },
          "metadata": {
            "tags": [],
            "needs_background": "light"
          }
        }
      ]
    },
    {
      "cell_type": "markdown",
      "metadata": {
        "id": "eVFe31VgS6kN"
      },
      "source": [
        "#size의 막대 그래프"
      ]
    },
    {
      "cell_type": "code",
      "metadata": {
        "id": "-6c0bz_NS8nK"
      },
      "source": [
        "size_count=tips['size'].value_counts()"
      ],
      "execution_count": 136,
      "outputs": []
    },
    {
      "cell_type": "code",
      "metadata": {
        "colab": {
          "base_uri": "https://localhost:8080/"
        },
        "id": "oMxYklxZSBqB",
        "outputId": "0238a4f2-6fca-4065-a52b-1a399ba1a5be"
      },
      "source": [
        "size_count"
      ],
      "execution_count": 137,
      "outputs": [
        {
          "output_type": "execute_result",
          "data": {
            "text/plain": [
              "2    156\n",
              "3     38\n",
              "4     37\n",
              "5      5\n",
              "6      4\n",
              "1      4\n",
              "Name: size, dtype: int64"
            ]
          },
          "metadata": {
            "tags": []
          },
          "execution_count": 137
        }
      ]
    },
    {
      "cell_type": "code",
      "metadata": {
        "colab": {
          "base_uri": "https://localhost:8080/",
          "height": 265
        },
        "id": "rOElPKxwTQIz",
        "outputId": "39b12da7-d960-4f9e-e595-6371ac7e752b"
      },
      "source": [
        "plt.bar(x=size_count.index, height=size_count.values, width= 0.5)\n",
        "plt.show()"
      ],
      "execution_count": 139,
      "outputs": [
        {
          "output_type": "display_data",
          "data": {
            "image/png": "[encoded data removed]",
            "text/plain": [
              "<Figure size 432x288 with 1 Axes>"
            ]
          },
          "metadata": {
            "tags": [],
            "needs_background": "light"
          }
        }
      ]
    },
    {
      "cell_type": "markdown",
      "metadata": {
        "id": "sCaAaBjaT1rV"
      },
      "source": [
        "* figure에 4개의 subplot(2 rows, 2 columns)을 추가\n",
        "* 남성/여성 빈도수, 흡연자/비흡연자 빈도수, 요일별 빈도수, Lunch/Dinner 빈도수 막대 그래프"
      ]
    },
    {
      "cell_type": "code",
      "metadata": {
        "colab": {
          "base_uri": "https://localhost:8080/",
          "height": 392
        },
        "id": "eb35xx2AULfY",
        "outputId": "55a6ea55-c4e5-46f7-89bc-9d85430df4a8"
      },
      "source": [
        "fig= plt.figure(figsize=(12,6))\n",
        "axis1= fig.add_subplot(221) # fig.add_subplot(1,2,1)\n",
        "axis2= fig.add_subplot(222)# fig.add_subplot(1,2,2)\n",
        "axis3= fig.add_subplot(223)# fig.add_subplot(1,2,2)\n",
        "axis4= fig.add_subplot(224)# fig.add_subplot(1,2,2)\n",
        "sex_count=tips['sex'].value_counts() # 성별 빈도수\n",
        "smoker_count=tips['smoker'].value_counts() # 흡연여부 빈도수\n",
        "day_count=tips['day'].value_counts() # 요일별 빈도수\n",
        "time_count=tips['time'].value_counts() # 시간별 빈도수\n",
        "axis1.bar(x=sex_count.index, height=sex_count.values)\n",
        "axis2.bar(x=smoker_count.index, height=smoker_count.values)\n",
        "axis3.bar(x=day_count.index, height=day_count.values)\n",
        "axis4.bar(x=time_count.index, height=time_count.values)"
      ],
      "execution_count": 146,
      "outputs": [
        {
          "output_type": "execute_result",
          "data": {
            "text/plain": [
              "<BarContainer object of 2 artists>"
            ]
          },
          "metadata": {
            "tags": []
          },
          "execution_count": 146
        },
        {
          "output_type": "display_data",
          "data": {
            "image/png": "[encoded data removed]",
            "text/plain": [
              "<Figure size 864x432 with 4 Axes>"
            ]
          },
          "metadata": {
            "tags": [],
            "needs_background": "light"
          }
        }
      ]
    },
    {
      "cell_type": "code",
      "metadata": {
        "id": "yazGjOVrWTcg"
      },
      "source": [
        "sex_count=tips['sex'].value_counts() # 성별 빈도수\n",
        "smoker_count=tips['smoker'].value_counts() # 흡연여부 빈도수\n",
        "day_count=tips['day'].value_counts() # 요일별 빈도수\n",
        "time_count=tips['time'].value_counts() # 시간별 빈도수"
      ],
      "execution_count": null,
      "outputs": []
    },
    {
      "cell_type": "code",
      "metadata": {
        "colab": {
          "base_uri": "https://localhost:8080/",
          "height": 390
        },
        "id": "-LpDKt_KWTVv",
        "outputId": "bc6b145d-5e09-4d03-e7f5-e3a34003a283"
      },
      "source": [
        "fig,ax=plt.subplots(nrows=2,ncols=2,figsize=(12,6))\n",
        "ax[0,0].bar(x=gender_counts.index, height=gender_counts.values)\n",
        "ax[0,0].set_title('gender')\n",
        "ax[0,1].bar(x=smoker_count.index, height=smoker_count.values)\n",
        "ax[0,1].set_title('smoker')\n",
        "ax[1,0].bar(x=day_count.index, height=day_count.values)\n",
        "ax[1,0].set_title('day')\n",
        "ax[1,1].bar(x=time_count.index, height=time_count.values)\n",
        "ax[1,1].set_title('time')\n",
        "\n",
        "plt.show()"
      ],
      "execution_count": 156,
      "outputs": [
        {
          "output_type": "display_data",
          "data": {
            "image/png": "[encoded data removed]",
            "text/plain": [
              "<Figure size 864x432 with 4 Axes>"
            ]
          },
          "metadata": {
            "tags": [],
            "needs_background": "light"
          }
        }
      ]
    },
    {
      "cell_type": "markdown",
      "metadata": {
        "id": "vvRn9K-bbaHo"
      },
      "source": [
        "# 산점도 그래프(scatter plot)"
      ]
    },
    {
      "cell_type": "code",
      "metadata": {
        "colab": {
          "base_uri": "https://localhost:8080/",
          "height": 279
        },
        "id": "_y3qVVksb5EM",
        "outputId": "9e18358f-8981-4c3b-963f-fff52a32ca38"
      },
      "source": [
        "plt.scatter(x=tips['total_bill'],y=tips['tip'],\n",
        "            alpha=0.4, marker='o',s=20, color='blue')\n",
        "# alpha: 불투명도(0.0: 투명 ~ 1.0: 불투명)\n",
        "# marker: 점의 모양('o','v','s','^',...)\n",
        "# s: 점의 크기(size)\n",
        "plt.grid()\n",
        "plt.xlabel('Total bill')\n",
        "plt.ylabel('Tip')\n",
        "plt.show()"
      ],
      "execution_count": 163,
      "outputs": [
        {
          "output_type": "display_data",
          "data": {
            "image/png": "[encoded data removed]",
            "text/plain": [
              "<Figure size 432x288 with 1 Axes>"
            ]
          },
          "metadata": {
            "tags": [],
            "needs_background": "light"
          }
        }
      ]
    },
    {
      "cell_type": "markdown",
      "metadata": {
        "id": "JlG47nvkeLYQ"
      },
      "source": [
        "# 선 그래프(Line Plot)"
      ]
    },
    {
      "cell_type": "code",
      "metadata": {
        "colab": {
          "base_uri": "https://localhost:8080/",
          "height": 357
        },
        "id": "yf8jde-PeQCb",
        "outputId": "17e8eb10-0a88-40fb-c3d8-ab65e6d111ca"
      },
      "source": [
        "np.random.seed(1)\n",
        "df=pd.DataFrame({'x1':np.arange(10),'x2':np.random.rand(10)})\n",
        "df"
      ],
      "execution_count": 167,
      "outputs": [
        {
          "output_type": "execute_result",
          "data": {
            "text/html": [
              "<div>\n",
              "<style scoped>\n",
              "    .dataframe tbody tr th:only-of-type {\n",
              "        vertical-align: middle;\n",
              "    }\n",
              "\n",
              "    .dataframe tbody tr th {\n",
              "        vertical-align: top;\n",
              "    }\n",
              "\n",
              "    .dataframe thead th {\n",
              "        text-align: right;\n",
              "    }\n",
              "</style>\n",
              "<table border=\"1\" class=\"dataframe\">\n",
              "  <thead>\n",
              "    <tr style=\"text-align: right;\">\n",
              "      <th></th>\n",
              "      <th>x1</th>\n",
              "      <th>x2</th>\n",
              "    </tr>\n",
              "  </thead>\n",
              "  <tbody>\n",
              "    <tr>\n",
              "      <th>0</th>\n",
              "      <td>0</td>\n",
              "      <td>0.417022</td>\n",
              "    </tr>\n",
              "    <tr>\n",
              "      <th>1</th>\n",
              "      <td>1</td>\n",
              "      <td>0.720324</td>\n",
              "    </tr>\n",
              "    <tr>\n",
              "      <th>2</th>\n",
              "      <td>2</td>\n",
              "      <td>0.000114</td>\n",
              "    </tr>\n",
              "    <tr>\n",
              "      <th>3</th>\n",
              "      <td>3</td>\n",
              "      <td>0.302333</td>\n",
              "    </tr>\n",
              "    <tr>\n",
              "      <th>4</th>\n",
              "      <td>4</td>\n",
              "      <td>0.146756</td>\n",
              "    </tr>\n",
              "    <tr>\n",
              "      <th>5</th>\n",
              "      <td>5</td>\n",
              "      <td>0.092339</td>\n",
              "    </tr>\n",
              "    <tr>\n",
              "      <th>6</th>\n",
              "      <td>6</td>\n",
              "      <td>0.186260</td>\n",
              "    </tr>\n",
              "    <tr>\n",
              "      <th>7</th>\n",
              "      <td>7</td>\n",
              "      <td>0.345561</td>\n",
              "    </tr>\n",
              "    <tr>\n",
              "      <th>8</th>\n",
              "      <td>8</td>\n",
              "      <td>0.396767</td>\n",
              "    </tr>\n",
              "    <tr>\n",
              "      <th>9</th>\n",
              "      <td>9</td>\n",
              "      <td>0.538817</td>\n",
              "    </tr>\n",
              "  </tbody>\n",
              "</table>\n",
              "</div>"
            ],
            "text/plain": [
              "   x1        x2\n",
              "0   0  0.417022\n",
              "1   1  0.720324\n",
              "2   2  0.000114\n",
              "3   3  0.302333\n",
              "4   4  0.146756\n",
              "5   5  0.092339\n",
              "6   6  0.186260\n",
              "7   7  0.345561\n",
              "8   8  0.396767\n",
              "9   9  0.538817"
            ]
          },
          "metadata": {
            "tags": []
          },
          "execution_count": 167
        }
      ]
    },
    {
      "cell_type": "code",
      "metadata": {
        "colab": {
          "base_uri": "https://localhost:8080/",
          "height": 265
        },
        "id": "2EQ0nnqMfn3i",
        "outputId": "ee15a3e9-0e91-4816-fb07-fda8abe80e34"
      },
      "source": [
        "plt.plot(df['x1'],df['x2'])\n",
        "plt.grid()\n",
        "plt.show()"
      ],
      "execution_count": 170,
      "outputs": [
        {
          "output_type": "display_data",
          "data": {
            "image/png": "[encoded data removed]",
            "text/plain": [
              "<Figure size 432x288 with 1 Axes>"
            ]
          },
          "metadata": {
            "tags": [],
            "needs_background": "light"
          }
        }
      ]
    },
    {
      "cell_type": "code",
      "metadata": {
        "colab": {
          "base_uri": "https://localhost:8080/",
          "height": 265
        },
        "id": "F7JV2VOgelyS",
        "outputId": "14ffe430-2e0c-4aea-a975-26c3824f6b96"
      },
      "source": [
        "plt.plot(df['x1'],df['x2'],'bo-')\n",
        "# 'bo-': format string. color, marker, linestyle을 설정 ex> 'bo-' 는 b= blue , o = marker 동그라미, -: 선모양\n",
        "# color: b,g,r,k,...\n",
        "# marker:o,s,v,^...\n",
        "# linestyle:-,--,:,...\n",
        "plt.show()"
      ],
      "execution_count": 171,
      "outputs": [
        {
          "output_type": "display_data",
          "data": {
            "image/png": "[encoded data removed]",
            "text/plain": [
              "<Figure size 432x288 with 1 Axes>"
            ]
          },
          "metadata": {
            "tags": [],
            "needs_background": "light"
          }
        }
      ]
    },
    {
      "cell_type": "code",
      "metadata": {
        "colab": {
          "base_uri": "https://localhost:8080/",
          "height": 265
        },
        "id": "goceSRrugwZe",
        "outputId": "5525551c-d37a-4c70-d95b-681c517fb348"
      },
      "source": [
        "plt.plot(df['x1'],df['x2'],color='green',marker='^',linestyle='dotted')\n",
        "plt.show()"
      ],
      "execution_count": 173,
      "outputs": [
        {
          "output_type": "display_data",
          "data": {
            "image/png": "[encoded data removed]",
            "text/plain": [
              "<Figure size 432x288 with 1 Axes>"
            ]
          },
          "metadata": {
            "tags": [],
            "needs_background": "light"
          }
        }
      ]
    },
    {
      "cell_type": "markdown",
      "metadata": {
        "id": "Cy1TTXoqhrKz"
      },
      "source": [
        "`plot` 함수에서 `linestyle=''`로 설정하면 scatter함수(산점도 그래프)와 동일"
      ]
    },
    {
      "cell_type": "code",
      "metadata": {
        "colab": {
          "base_uri": "https://localhost:8080/",
          "height": 265
        },
        "id": "RIAWyozlh4Rv",
        "outputId": "2be5b3bf-4670-4ce9-8a8a-12f1ec6fc556"
      },
      "source": [
        "plt.plot(df['x1'],df['x2'],'bo') # linestyle=''\n",
        "plt.show()"
      ],
      "execution_count": 175,
      "outputs": [
        {
          "output_type": "display_data",
          "data": {
            "image/png": "[encoded data removed]",
            "text/plain": [
              "<Figure size 432x288 with 1 Axes>"
            ]
          },
          "metadata": {
            "tags": [],
            "needs_background": "light"
          }
        }
      ]
    },
    {
      "cell_type": "markdown",
      "metadata": {
        "id": "eLtjNKJViUKr"
      },
      "source": [
        "1개의 plot에 여러개의 선 그래프 그리기"
      ]
    },
    {
      "cell_type": "code",
      "metadata": {
        "colab": {
          "base_uri": "https://localhost:8080/",
          "height": 357
        },
        "id": "aACRgeQViTjW",
        "outputId": "6e1bd9b1-d9e6-4142-c9fd-8a15df750030"
      },
      "source": [
        "np.random.seed(1)\n",
        "df=pd.DataFrame({'y1':np.random.rand(10),\n",
        "                 'y2':np.random.rand(10),\n",
        "                 'y3':np.random.rand(10)})\n",
        "df"
      ],
      "execution_count": 187,
      "outputs": [
        {
          "output_type": "execute_result",
          "data": {
            "text/html": [
              "<div>\n",
              "<style scoped>\n",
              "    .dataframe tbody tr th:only-of-type {\n",
              "        vertical-align: middle;\n",
              "    }\n",
              "\n",
              "    .dataframe tbody tr th {\n",
              "        vertical-align: top;\n",
              "    }\n",
              "\n",
              "    .dataframe thead th {\n",
              "        text-align: right;\n",
              "    }\n",
              "</style>\n",
              "<table border=\"1\" class=\"dataframe\">\n",
              "  <thead>\n",
              "    <tr style=\"text-align: right;\">\n",
              "      <th></th>\n",
              "      <th>y1</th>\n",
              "      <th>y2</th>\n",
              "      <th>y3</th>\n",
              "    </tr>\n",
              "  </thead>\n",
              "  <tbody>\n",
              "    <tr>\n",
              "      <th>0</th>\n",
              "      <td>0.417022</td>\n",
              "      <td>0.419195</td>\n",
              "      <td>0.800745</td>\n",
              "    </tr>\n",
              "    <tr>\n",
              "      <th>1</th>\n",
              "      <td>0.720324</td>\n",
              "      <td>0.685220</td>\n",
              "      <td>0.968262</td>\n",
              "    </tr>\n",
              "    <tr>\n",
              "      <th>2</th>\n",
              "      <td>0.000114</td>\n",
              "      <td>0.204452</td>\n",
              "      <td>0.313424</td>\n",
              "    </tr>\n",
              "    <tr>\n",
              "      <th>3</th>\n",
              "      <td>0.302333</td>\n",
              "      <td>0.878117</td>\n",
              "      <td>0.692323</td>\n",
              "    </tr>\n",
              "    <tr>\n",
              "      <th>4</th>\n",
              "      <td>0.146756</td>\n",
              "      <td>0.027388</td>\n",
              "      <td>0.876389</td>\n",
              "    </tr>\n",
              "    <tr>\n",
              "      <th>5</th>\n",
              "      <td>0.092339</td>\n",
              "      <td>0.670468</td>\n",
              "      <td>0.894607</td>\n",
              "    </tr>\n",
              "    <tr>\n",
              "      <th>6</th>\n",
              "      <td>0.186260</td>\n",
              "      <td>0.417305</td>\n",
              "      <td>0.085044</td>\n",
              "    </tr>\n",
              "    <tr>\n",
              "      <th>7</th>\n",
              "      <td>0.345561</td>\n",
              "      <td>0.558690</td>\n",
              "      <td>0.039055</td>\n",
              "    </tr>\n",
              "    <tr>\n",
              "      <th>8</th>\n",
              "      <td>0.396767</td>\n",
              "      <td>0.140387</td>\n",
              "      <td>0.169830</td>\n",
              "    </tr>\n",
              "    <tr>\n",
              "      <th>9</th>\n",
              "      <td>0.538817</td>\n",
              "      <td>0.198101</td>\n",
              "      <td>0.878143</td>\n",
              "    </tr>\n",
              "  </tbody>\n",
              "</table>\n",
              "</div>"
            ],
            "text/plain": [
              "         y1        y2        y3\n",
              "0  0.417022  0.419195  0.800745\n",
              "1  0.720324  0.685220  0.968262\n",
              "2  0.000114  0.204452  0.313424\n",
              "3  0.302333  0.878117  0.692323\n",
              "4  0.146756  0.027388  0.876389\n",
              "5  0.092339  0.670468  0.894607\n",
              "6  0.186260  0.417305  0.085044\n",
              "7  0.345561  0.558690  0.039055\n",
              "8  0.396767  0.140387  0.169830\n",
              "9  0.538817  0.198101  0.878143"
            ]
          },
          "metadata": {
            "tags": []
          },
          "execution_count": 187
        }
      ]
    },
    {
      "cell_type": "code",
      "metadata": {
        "colab": {
          "base_uri": "https://localhost:8080/",
          "height": 266
        },
        "id": "pYWwKqNPiy8S",
        "outputId": "9a5294c2-a4be-482b-9239-152aa8669628"
      },
      "source": [
        "plt.plot(df['y1'], label='y1',linestyle='solid') # '-'\n",
        "plt.plot(df['y2'], label='y2',linestyle='dotted') #':'\n",
        "plt.plot(df['y3'], label='y3',linestyle='solid') # '--'\n",
        "plt.legend() # 각 plot의 label을 화면에 표시(범례)\n",
        "plt.show()"
      ],
      "execution_count": 190,
      "outputs": [
        {
          "output_type": "display_data",
          "data": {
            "image/png": "[encoded data removed]",
            "text/plain": [
              "<Figure size 432x288 with 1 Axes>"
            ]
          },
          "metadata": {
            "tags": [],
            "needs_background": "light"
          }
        }
      ]
    },
    {
      "cell_type": "markdown",
      "metadata": {
        "id": "Txv_CFYGkulP"
      },
      "source": [
        "# Exercise\n",
        "\n",
        "* seaborn 패키지의 iris 예제 데이터 셋을 로드\n",
        "* DataFrame의 구조 확인\n",
        "* petal_width~petal_length 산점도 그래프\n",
        "  * species 별로 marker의 색깔이 다르게 표현"
      ]
    },
    {
      "cell_type": "code",
      "metadata": {
        "colab": {
          "base_uri": "https://localhost:8080/",
          "height": 417
        },
        "id": "OlTzoAvlk2I3",
        "outputId": "fe9e4412-7bf4-4e7a-be62-7778a0237e25"
      },
      "source": [
        "iris=sns.load_dataset('iris')\n",
        "iris"
      ],
      "execution_count": 191,
      "outputs": [
        {
          "output_type": "execute_result",
          "data": {
            "text/html": [
              "<div>\n",
              "<style scoped>\n",
              "    .dataframe tbody tr th:only-of-type {\n",
              "        vertical-align: middle;\n",
              "    }\n",
              "\n",
              "    .dataframe tbody tr th {\n",
              "        vertical-align: top;\n",
              "    }\n",
              "\n",
              "    .dataframe thead th {\n",
              "        text-align: right;\n",
              "    }\n",
              "</style>\n",
              "<table border=\"1\" class=\"dataframe\">\n",
              "  <thead>\n",
              "    <tr style=\"text-align: right;\">\n",
              "      <th></th>\n",
              "      <th>sepal_length</th>\n",
              "      <th>sepal_width</th>\n",
              "      <th>petal_length</th>\n",
              "      <th>petal_width</th>\n",
              "      <th>species</th>\n",
              "    </tr>\n",
              "  </thead>\n",
              "  <tbody>\n",
              "    <tr>\n",
              "      <th>0</th>\n",
              "      <td>5.1</td>\n",
              "      <td>3.5</td>\n",
              "      <td>1.4</td>\n",
              "      <td>0.2</td>\n",
              "      <td>setosa</td>\n",
              "    </tr>\n",
              "    <tr>\n",
              "      <th>1</th>\n",
              "      <td>4.9</td>\n",
              "      <td>3.0</td>\n",
              "      <td>1.4</td>\n",
              "      <td>0.2</td>\n",
              "      <td>setosa</td>\n",
              "    </tr>\n",
              "    <tr>\n",
              "      <th>2</th>\n",
              "      <td>4.7</td>\n",
              "      <td>3.2</td>\n",
              "      <td>1.3</td>\n",
              "      <td>0.2</td>\n",
              "      <td>setosa</td>\n",
              "    </tr>\n",
              "    <tr>\n",
              "      <th>3</th>\n",
              "      <td>4.6</td>\n",
              "      <td>3.1</td>\n",
              "      <td>1.5</td>\n",
              "      <td>0.2</td>\n",
              "      <td>setosa</td>\n",
              "    </tr>\n",
              "    <tr>\n",
              "      <th>4</th>\n",
              "      <td>5.0</td>\n",
              "      <td>3.6</td>\n",
              "      <td>1.4</td>\n",
              "      <td>0.2</td>\n",
              "      <td>setosa</td>\n",
              "    </tr>\n",
              "    <tr>\n",
              "      <th>...</th>\n",
              "      <td>...</td>\n",
              "      <td>...</td>\n",
              "      <td>...</td>\n",
              "      <td>...</td>\n",
              "      <td>...</td>\n",
              "    </tr>\n",
              "    <tr>\n",
              "      <th>145</th>\n",
              "      <td>6.7</td>\n",
              "      <td>3.0</td>\n",
              "      <td>5.2</td>\n",
              "      <td>2.3</td>\n",
              "      <td>virginica</td>\n",
              "    </tr>\n",
              "    <tr>\n",
              "      <th>146</th>\n",
              "      <td>6.3</td>\n",
              "      <td>2.5</td>\n",
              "      <td>5.0</td>\n",
              "      <td>1.9</td>\n",
              "      <td>virginica</td>\n",
              "    </tr>\n",
              "    <tr>\n",
              "      <th>147</th>\n",
              "      <td>6.5</td>\n",
              "      <td>3.0</td>\n",
              "      <td>5.2</td>\n",
              "      <td>2.0</td>\n",
              "      <td>virginica</td>\n",
              "    </tr>\n",
              "    <tr>\n",
              "      <th>148</th>\n",
              "      <td>6.2</td>\n",
              "      <td>3.4</td>\n",
              "      <td>5.4</td>\n",
              "      <td>2.3</td>\n",
              "      <td>virginica</td>\n",
              "    </tr>\n",
              "    <tr>\n",
              "      <th>149</th>\n",
              "      <td>5.9</td>\n",
              "      <td>3.0</td>\n",
              "      <td>5.1</td>\n",
              "      <td>1.8</td>\n",
              "      <td>virginica</td>\n",
              "    </tr>\n",
              "  </tbody>\n",
              "</table>\n",
              "<p>150 rows × 5 columns</p>\n",
              "</div>"
            ],
            "text/plain": [
              "     sepal_length  sepal_width  petal_length  petal_width    species\n",
              "0             5.1          3.5           1.4          0.2     setosa\n",
              "1             4.9          3.0           1.4          0.2     setosa\n",
              "2             4.7          3.2           1.3          0.2     setosa\n",
              "3             4.6          3.1           1.5          0.2     setosa\n",
              "4             5.0          3.6           1.4          0.2     setosa\n",
              "..            ...          ...           ...          ...        ...\n",
              "145           6.7          3.0           5.2          2.3  virginica\n",
              "146           6.3          2.5           5.0          1.9  virginica\n",
              "147           6.5          3.0           5.2          2.0  virginica\n",
              "148           6.2          3.4           5.4          2.3  virginica\n",
              "149           5.9          3.0           5.1          1.8  virginica\n",
              "\n",
              "[150 rows x 5 columns]"
            ]
          },
          "metadata": {
            "tags": []
          },
          "execution_count": 191
        }
      ]
    },
    {
      "cell_type": "code",
      "metadata": {
        "id": "4ZyAByORp7pX"
      },
      "source": [
        "setosa=iris[iris['species']=='setosa']\n",
        "versicolor=iris[iris['species']=='versicolor']\n",
        "virginica=iris[iris['species']=='virginica']"
      ],
      "execution_count": 204,
      "outputs": []
    },
    {
      "cell_type": "code",
      "metadata": {
        "colab": {
          "base_uri": "https://localhost:8080/",
          "height": 280
        },
        "id": "WQ5vBk28mVbd",
        "outputId": "b966310b-03d4-4ad9-b50d-aee834b81d41"
      },
      "source": [
        "plt.scatter(x=setosa['petal_length'],y=setosa['petal_width'],label='setosa')\n",
        "plt.scatter(x=versicolor['petal_length'],y=versicolor['petal_width'],label='versicolor')\n",
        "plt.scatter(x=virginica['petal_length'],y=virginica['petal_width'],label='virginica')\n",
        "plt.legend()\n",
        "plt.xlabel('petal_length')\n",
        "plt.ylabel('petal_width')\n",
        "plt.show()"
      ],
      "execution_count": 208,
      "outputs": [
        {
          "output_type": "display_data",
          "data": {
            "image/png": "[encoded data removed]",
            "text/plain": [
              "<Figure size 432x288 with 1 Axes>"
            ]
          },
          "metadata": {
            "tags": [],
            "needs_background": "light"
          }
        }
      ]
    },
    {
      "cell_type": "code",
      "metadata": {
        "colab": {
          "base_uri": "https://localhost:8080/",
          "height": 265
        },
        "id": "10XjoEDwrEaV",
        "outputId": "823589bb-a7fb-48df-c370-73c5376a7259"
      },
      "source": [
        "species= iris['species'].unique()\n",
        "for s in species:\n",
        "  subset=iris[iris['species']==s]\n",
        "  plt.scatter(subset['petal_length'],subset['petal_width'],label=s)\n",
        "plt.legend()\n",
        "plt.show()  "
      ],
      "execution_count": 210,
      "outputs": [
        {
          "output_type": "display_data",
          "data": {
            "image/png": "[encoded data removed]",
            "text/plain": [
              "<Figure size 432x288 with 1 Axes>"
            ]
          },
          "metadata": {
            "tags": [],
            "needs_background": "light"
          }
        }
      ]
    }
  ]
}