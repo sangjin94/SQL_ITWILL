{
  "nbformat": 4,
  "nbformat_minor": 0,
  "metadata": {
    "colab": {
      "name": "py07_loop.ipynb",
      "provenance": [],
      "collapsed_sections": [],
      "authorship_tag": "ABX9TyPKZOuaLlBoBCG9KIX01G1a",
      "include_colab_link": true
    },
    "kernelspec": {
      "name": "python3",
      "display_name": "Python 3"
    },
    "language_info": {
      "name": "python"
    }
  },
  "cells": [
    {
      "cell_type": "markdown",
      "metadata": {
        "id": "view-in-github",
        "colab_type": "text"
      },
      "source": [
        "<a href=\"https://colab.research.google.com/github/sangjin94/SQL_ITWILL/blob/main/py07_loop.ipynb\" target=\"_parent\"><img src=\"https://colab.research.google.com/assets/colab-badge.svg\" alt=\"Open In Colab\"/></a>"
      ]
    },
    {
      "cell_type": "markdown",
      "metadata": {
        "id": "P6RphaqsygMk"
      },
      "source": [
        "# print 함수의 파라미터"
      ]
    },
    {
      "cell_type": "markdown",
      "metadata": {
        "id": "MQzdAyoMyiLk"
      },
      "source": [
        "*    특수기호\n",
        "  *  `\\t`: 탭(tab)\n",
        "  *  `\\n`: 줄바꿈(new line)\n",
        "*    `print()` 함수의파라미터\n",
        "*     `end` : 콘솔 창에 출력후 어떤 동작을 할 것인지를 설정. 기본값은 줄바꿈(`\\n`)   \n",
        "*    `sep`: 출력하는 argument를 구별하기 위한 문자를 설정. 기본값은 공백('')"
      ]
    },
    {
      "cell_type": "code",
      "metadata": {
        "colab": {
          "base_uri": "https://localhost:8080/"
        },
        "id": "_4bqrtCayh2e",
        "outputId": "ec39373a-aa38-4193-a9e1-41fdbbc92be1"
      },
      "source": [
        "print('hello')\n",
        "print('안녕하세요')\n",
        "print('hi')"
      ],
      "execution_count": null,
      "outputs": [
        {
          "output_type": "stream",
          "text": [
            "hello\n",
            "안녕하세요\n",
            "hi\n"
          ],
          "name": "stdout"
        }
      ]
    },
    {
      "cell_type": "code",
      "metadata": {
        "colab": {
          "base_uri": "https://localhost:8080/"
        },
        "id": "rZ5PaaFMzcX1",
        "outputId": "3823b168-5f2d-41ff-d4d5-23b0a6390d63"
      },
      "source": [
        "print('hello',end=',')\n",
        "print('안녕하세요',end=',')\n",
        "print('hi',end=',')"
      ],
      "execution_count": null,
      "outputs": [
        {
          "output_type": "stream",
          "text": [
            "hello,안녕하세요,hi,"
          ],
          "name": "stdout"
        }
      ]
    },
    {
      "cell_type": "code",
      "metadata": {
        "colab": {
          "base_uri": "https://localhost:8080/"
        },
        "id": "2XBZHwhZ06AZ",
        "outputId": "48744f78-8f53-40ce-f6f9-c2876d7dbe56"
      },
      "source": [
        "print('hello',end='\\t')\n",
        "print('안녕하세요',end='\\t')\n",
        "print('hi')"
      ],
      "execution_count": null,
      "outputs": [
        {
          "output_type": "stream",
          "text": [
            "hello\t안녕하세요\thi\n"
          ],
          "name": "stdout"
        }
      ]
    },
    {
      "cell_type": "code",
      "metadata": {
        "colab": {
          "base_uri": "https://localhost:8080/"
        },
        "id": "thKux_8h5_Yq",
        "outputId": "ac7995cd-7b43-4d29-df06-4778aaec6740"
      },
      "source": [
        "print('hello','안녕하세요','Good morning')\n",
        "print('hello','안녕하세요','Good morning',sep=',')\n",
        "print('hello','안녕하세요','Good morning',sep='::')"
      ],
      "execution_count": null,
      "outputs": [
        {
          "output_type": "stream",
          "text": [
            "hello 안녕하세요 Good morning\n",
            "hello,안녕하세요,Good morning\n",
            "hello::안녕하세요::Good morning\n"
          ],
          "name": "stdout"
        }
      ]
    },
    {
      "cell_type": "markdown",
      "metadata": {
        "id": "_2qysVHZ6feQ"
      },
      "source": [
        "# EX1"
      ]
    },
    {
      "cell_type": "code",
      "metadata": {
        "colab": {
          "base_uri": "https://localhost:8080/"
        },
        "id": "M5sghwsQ6hKV",
        "outputId": "2992e783-c1ac-4a75-dc81-8ebb8747a63b"
      },
      "source": [
        "print(1,'little',2,'little',3,'little','indian',sep=' ')\n",
        "print(4,'little',5,'little',6,'little','indian',sep=' ')\n",
        "print(7,'little',8,'little',9,'little','indian',sep=' ')\n",
        "print(10,'little','indian','boys!',sep=' ')"
      ],
      "execution_count": null,
      "outputs": [
        {
          "output_type": "stream",
          "text": [
            "1 little 2 little 3 little indian\n",
            "4 little 5 little 6 little indian\n",
            "7 little 8 little 9 little indian\n",
            "10 little indian boys!\n"
          ],
          "name": "stdout"
        }
      ]
    },
    {
      "cell_type": "code",
      "metadata": {
        "colab": {
          "base_uri": "https://localhost:8080/"
        },
        "id": "KZxz1O6c_Ccw",
        "outputId": "d95d8e84-b5f4-4780-9669-4b001236d8a6"
      },
      "source": [
        "for x in range(1,10,3):\n",
        "  print(x,'little',x+1,'little',x+2,'little','indian',sep=' ')\n",
        "  if x==7:\n",
        "    print(x+3,'little','indian','boys!',sep=' ')"
      ],
      "execution_count": null,
      "outputs": [
        {
          "output_type": "stream",
          "text": [
            "1 little 2 little 3 little indian\n",
            "4 little 5 little 6 little indian\n",
            "7 little 8 little 9 little indian\n",
            "10 little indian boys!\n"
          ],
          "name": "stdout"
        }
      ]
    },
    {
      "cell_type": "markdown",
      "metadata": {
        "id": "nYbGnxJx7v0a"
      },
      "source": [
        "# EX2"
      ]
    },
    {
      "cell_type": "code",
      "metadata": {
        "id": "5mv8tQ6Naq7P"
      },
      "source": [
        ""
      ],
      "execution_count": null,
      "outputs": []
    },
    {
      "cell_type": "code",
      "metadata": {
        "colab": {
          "base_uri": "https://localhost:8080/"
        },
        "id": "K5H39UKEZXjc",
        "outputId": "96301ad9-2b99-4941-a34a-8207dab35a3c"
      },
      "source": [
        "for n in range(1,101):\n",
        "  \n",
        "  n_1= n%10 # 10으로 나눈 나머지\n",
        "  #숫자 n의 10의 자리수\n",
        "  n_10= n //10 # 10으로 나눈 몫\n",
        "  \n",
        "  #1의 자릿수가 3 또는 6 또는 9 이면\n",
        "  condition_1= (n_1 == 3) or (n_1==6) or (n_1==9)\n",
        "  #10의 자릿수가 3또는 6 또는 9이면\n",
        "  condition_10= (n_10 == 3) or (n_10==6) or (n_10==9)\n",
        "\n",
        "  if condition_1 or condition_10 : \n",
        "    # 1의 자릿수가 3,6,9 이거나 10의 자릿수가 3,6,9이면 \n",
        "    print('*',end='\\t') \n",
        "  else:\n",
        "    print(n,end='\\t')\n",
        "  \n",
        "  # 숫자 10개를 출력할 때 마다 줄바꿈을 출력\n",
        "  if n%10==0:\n",
        "    print()"
      ],
      "execution_count": null,
      "outputs": [
        {
          "output_type": "stream",
          "text": [
            "1\t2\t*\t4\t5\t*\t7\t8\t*\t10\t\n",
            "11\t12\t*\t14\t15\t*\t17\t18\t*\t20\t\n",
            "21\t22\t*\t24\t25\t*\t27\t28\t*\t*\t\n",
            "*\t*\t*\t*\t*\t*\t*\t*\t*\t40\t\n",
            "41\t42\t*\t44\t45\t*\t47\t48\t*\t50\t\n",
            "51\t52\t*\t54\t55\t*\t57\t58\t*\t*\t\n",
            "*\t*\t*\t*\t*\t*\t*\t*\t*\t70\t\n",
            "71\t72\t*\t74\t75\t*\t77\t78\t*\t80\t\n",
            "81\t82\t*\t84\t85\t*\t87\t88\t*\t*\t\n",
            "*\t*\t*\t*\t*\t*\t*\t*\t*\t100\t\n"
          ],
          "name": "stdout"
        }
      ]
    },
    {
      "cell_type": "code",
      "metadata": {
        "colab": {
          "base_uri": "https://localhost:8080/"
        },
        "id": "2it1FH7bWnq6",
        "outputId": "6ae62fff-a6b9-414b-fe0b-a58400083951"
      },
      "source": [
        "for n in range(1,101):\n",
        "  \n",
        "  n_1= n%10 # 10으로 나눈 나머지\n",
        "  #숫자 n의 10의 자리수\n",
        "  n_10= n //10 # 10으로 나눈 몫\n",
        "  \n",
        "  if  n_1 == 3: \n",
        "    print('*',end='\\t')\n",
        "  elif n_1 ==6:\n",
        "    print('*',end='\\t')\n",
        "  elif n_1 ==9:\n",
        "    print('*',end='\\t')    \n",
        "  elif n_10 ==3:\n",
        "    print('*',end='\\t')  \n",
        "  elif n_10 ==6:\n",
        "    print('*',end='\\t')     \n",
        "  elif n_10 ==9:\n",
        "    print('*',end='\\t')\n",
        "  else:\n",
        "    print(n,end='\\t')\n",
        "  \n",
        "  # 숫자 10개를 출력할 때 마다 줄바꿈을 출력\n",
        "  if n%10==0:\n",
        "    print()"
      ],
      "execution_count": null,
      "outputs": [
        {
          "output_type": "stream",
          "text": [
            "1\t2\t*\t4\t5\t*\t7\t8\t*\t10\t\n",
            "11\t12\t*\t14\t15\t*\t17\t18\t*\t20\t\n",
            "21\t22\t*\t24\t25\t*\t27\t28\t*\t*\t\n",
            "*\t*\t*\t*\t*\t*\t*\t*\t*\t40\t\n",
            "41\t42\t*\t44\t45\t*\t47\t48\t*\t50\t\n",
            "51\t52\t*\t54\t55\t*\t57\t58\t*\t*\t\n",
            "*\t*\t*\t*\t*\t*\t*\t*\t*\t70\t\n",
            "71\t72\t*\t74\t75\t*\t77\t78\t*\t80\t\n",
            "81\t82\t*\t84\t85\t*\t87\t88\t*\t*\t\n",
            "*\t*\t*\t*\t*\t*\t*\t*\t*\t100\t\n"
          ],
          "name": "stdout"
        }
      ]
    },
    {
      "cell_type": "code",
      "metadata": {
        "colab": {
          "base_uri": "https://localhost:8080/"
        },
        "id": "VrHCaRXw-SH-",
        "outputId": "4c97363c-8d6a-4b9d-a1b9-b47b04d4f790"
      },
      "source": [
        "print( 1, 2, '*',4,5,'*',7,8,'*',10,sep=' ')\n",
        "print( 11, 12, '*',14,15,'*',17,18,'*',20,sep=' ')\n",
        "print( 21, 22, '*',24,25,'*',27,28,'*','*',sep=' ')\n",
        "print( '*','*', '*','*','*','*','*''*','*',40,sep=' ')\n",
        "print( 41, 42, '*',44,45,'*',47,48,'*',50,sep=' ')\n",
        "print( 51, 52, '*',54,55,'*',57,58,'*','*',sep=' ')\n",
        "print( '*', '*', '*','*','*','*','*','*','*',70,sep=' ')\n",
        "print( 71, 72, '*',74,75,'*',77,78,'*',80,sep=' ')\n",
        "print( 81, 82, '*',84,85,'*',87,88,'*','*',sep=' ')\n",
        "print( '*', '*', '*','*','*','*','*','*','*',100,sep=' ')"
      ],
      "execution_count": null,
      "outputs": [
        {
          "output_type": "stream",
          "text": [
            "1 2 * 4 5 * 7 8 * 10\n",
            "11 12 * 14 15 * 17 18 * 20\n",
            "21 22 * 24 25 * 27 28 * *\n",
            "* * * * * * ** * 40\n",
            "41 42 * 44 45 * 47 48 * 50\n",
            "51 52 * 54 55 * 57 58 * *\n",
            "* * * * * * * * * 70\n",
            "71 72 * 74 75 * 77 78 * 80\n",
            "81 82 * 84 85 * 87 88 * *\n",
            "* * * * * * * * * 100\n"
          ],
          "name": "stdout"
        }
      ]
    },
    {
      "cell_type": "markdown",
      "metadata": {
        "id": "CEsKXOTCiwz8"
      },
      "source": [
        "`in` `not in` 연산자\n"
      ]
    },
    {
      "cell_type": "code",
      "metadata": {
        "colab": {
          "base_uri": "https://localhost:8080/"
        },
        "id": "hjiCaVFAiz0m",
        "outputId": "939c0b9b-b3c9-4b1b-f881-6c5aa78531c4"
      },
      "source": [
        "result =1 in range(10)\n",
        "print(result)\n",
        "\n",
        "result = 'h' not in 'Hello'\n",
        "print(result)"
      ],
      "execution_count": null,
      "outputs": [
        {
          "output_type": "stream",
          "text": [
            "True\n",
            "True\n"
          ],
          "name": "stdout"
        }
      ]
    },
    {
      "cell_type": "code",
      "metadata": {
        "colab": {
          "base_uri": "https://localhost:8080/"
        },
        "id": "GczijHhikQ3h",
        "outputId": "3490f1b9-47ff-477b-ba6f-2554f58f0347"
      },
      "source": [
        "for n in range(1,101):\n",
        "  n_str = str(n) # 정수 n을 문자열로 변환 후 저장. \n",
        "  if ('3'in n_str) or ('6'in n_str) or ('9'in n_str):\n",
        "      #문자열 n_str에 '3'또는, '6'또는 , '9'가 포함되어 있으면\n",
        "      print('*',end='\\t')\n",
        "  else:\n",
        "    print(n_str,end='\\t')\n",
        "\n",
        "    # 10개 출력후 줄바꿈\n",
        "  if n%10==0:\n",
        "     print()\n"
      ],
      "execution_count": null,
      "outputs": [
        {
          "output_type": "stream",
          "text": [
            "1\t2\t*\t4\t5\t*\t7\t8\t*\t10\t\n",
            "11\t12\t*\t14\t15\t*\t17\t18\t*\t20\t\n",
            "21\t22\t*\t24\t25\t*\t27\t28\t*\t*\t\n",
            "*\t*\t*\t*\t*\t*\t*\t*\t*\t40\t\n",
            "41\t42\t*\t44\t45\t*\t47\t48\t*\t50\t\n",
            "51\t52\t*\t54\t55\t*\t57\t58\t*\t*\t\n",
            "*\t*\t*\t*\t*\t*\t*\t*\t*\t70\t\n",
            "71\t72\t*\t74\t75\t*\t77\t78\t*\t80\t\n",
            "81\t82\t*\t84\t85\t*\t87\t88\t*\t*\t\n",
            "*\t*\t*\t*\t*\t*\t*\t*\t*\t100\t\n"
          ],
          "name": "stdout"
        }
      ]
    }
  ]
}