{
  "nbformat": 4,
  "nbformat_minor": 0,
  "metadata": {
    "colab": {
      "name": "da02_NumPy.ipynb",
      "provenance": [],
      "authorship_tag": "ABX9TyO9XXOc2If96krubyEYSCZY",
      "include_colab_link": true
    },
    "kernelspec": {
      "name": "python3",
      "display_name": "Python 3"
    },
    "language_info": {
      "name": "python"
    }
  },
  "cells": [
    {
      "cell_type": "markdown",
      "metadata": {
        "id": "view-in-github",
        "colab_type": "text"
      },
      "source": [
        "<a href=\"https://colab.research.google.com/github/sangjin94/SQL_ITWILL/blob/main/da02_NumPy.ipynb\" target=\"_parent\"><img src=\"https://colab.research.google.com/assets/colab-badge.svg\" alt=\"Open In Colab\"/></a>"
      ]
    },
    {
      "cell_type": "code",
      "metadata": {
        "id": "t3YKC_0THNej"
      },
      "source": [
        "import numpy as np\n",
        "import pandas as pd\n",
        "import matplotlib.pyplot as plt\n",
        "import matplotlib"
      ],
      "execution_count": 6,
      "outputs": []
    },
    {
      "cell_type": "markdown",
      "metadata": {
        "id": "R2qR5OLRRA9o"
      },
      "source": [
        "# Array Indexing"
      ]
    },
    {
      "cell_type": "code",
      "metadata": {
        "colab": {
          "base_uri": "https://localhost:8080/"
        },
        "id": "YsyUQhM0Q_4h",
        "outputId": "0b259f8f-478c-42e9-a78d-638753575abf"
      },
      "source": [
        "arr = np.arange(10)\n",
        "print(arr)"
      ],
      "execution_count": 35,
      "outputs": [
        {
          "output_type": "stream",
          "text": [
            "[0 1 2 3 4 5 6 7 8 9]\n"
          ],
          "name": "stdout"
        }
      ]
    },
    {
      "cell_type": "code",
      "metadata": {
        "colab": {
          "base_uri": "https://localhost:8080/"
        },
        "id": "K3TYkq-4RDTO",
        "outputId": "519ffe1a-37f3-404f-d0a4-1630c5c39898"
      },
      "source": [
        "# indexing: 인덱스를 사용해서 배열의 원소 참조\n",
        "print(arr[0])  # 시작 인덱스는 0\n",
        "print(arr[9])  # 배열의 마지막 인덱스는 원소개수 - 1\n",
        "print(arr[-1])"
      ],
      "execution_count": 36,
      "outputs": [
        {
          "output_type": "stream",
          "text": [
            "0\n",
            "9\n",
            "9\n"
          ],
          "name": "stdout"
        }
      ]
    },
    {
      "cell_type": "code",
      "metadata": {
        "colab": {
          "base_uri": "https://localhost:8080/"
        },
        "id": "DJs0o3fXREsC",
        "outputId": "c6043e1b-7090-4d80-e1df-8559b5bfab21"
      },
      "source": [
        "# slicing: [start, end) 범위의 원소들로 이루어진 부분집합(배열)\n",
        "print(arr[0:5])\n",
        "print(arr[:5])  # 시작 인덱스 0은 생략 가능\n",
        "print(arr[5:])  # 끝 인덱스가 생략되면 배열의 끝까지 slicing\n",
        "print(arr[-3:])"
      ],
      "execution_count": 37,
      "outputs": [
        {
          "output_type": "stream",
          "text": [
            "[0 1 2 3 4]\n",
            "[0 1 2 3 4]\n",
            "[5 6 7 8 9]\n",
            "[7 8 9]\n"
          ],
          "name": "stdout"
        }
      ]
    },
    {
      "cell_type": "markdown",
      "metadata": {
        "id": "b5oav38dRGzC"
      },
      "source": [
        "# fancy indexing"
      ]
    },
    {
      "cell_type": "markdown",
      "metadata": {
        "id": "_Wp6PwyKRJC6"
      },
      "source": [
        "* 배열과 비슷한 객체(ndarry, list, tuple, ...)를 사용해서 indexing하는 방법\n",
        "* fancy indexing의 결과는 ndarray!"
      ]
    },
    {
      "cell_type": "code",
      "metadata": {
        "colab": {
          "base_uri": "https://localhost:8080/"
        },
        "id": "HrFGjNitRLhH",
        "outputId": "90ec3feb-ffc3-49e1-eab4-05cf365ee3e2"
      },
      "source": [
        "np.random.seed(1)\n",
        "arr = np.random.randint(100, size=10)\n",
        "print(arr)"
      ],
      "execution_count": 38,
      "outputs": [
        {
          "output_type": "stream",
          "text": [
            "[37 12 72  9 75  5 79 64 16  1]\n"
          ],
          "name": "stdout"
        }
      ]
    },
    {
      "cell_type": "code",
      "metadata": {
        "colab": {
          "base_uri": "https://localhost:8080/"
        },
        "id": "b44NLNt_RNr5",
        "outputId": "581044bd-c991-4d62-f9f4-693e3b4ef73d"
      },
      "source": [
        "print(arr[[1, 3, 5]])"
      ],
      "execution_count": 39,
      "outputs": [
        {
          "output_type": "stream",
          "text": [
            "[12  9  5]\n"
          ],
          "name": "stdout"
        }
      ]
    },
    {
      "cell_type": "code",
      "metadata": {
        "colab": {
          "base_uri": "https://localhost:8080/"
        },
        "id": "zJMP9SGnRPBl",
        "outputId": "4a143585-6d70-4167-8f73-d81d42b4bf78"
      },
      "source": [
        "print(arr[1])  # indexing: 원소 하나를 참조\n",
        "print(arr[[1]])  # fancy indexing: 원소 하나를 갖는 ndarray"
      ],
      "execution_count": 40,
      "outputs": [
        {
          "output_type": "stream",
          "text": [
            "12\n",
            "[12]\n"
          ],
          "name": "stdout"
        }
      ]
    },
    {
      "cell_type": "markdown",
      "metadata": {
        "id": "wx7xGQK5HRxN"
      },
      "source": [
        "# boolean indexing\n",
        "* 논리값(True,False)들의 배열(리스트,튜플)을 사용한 indexing \n",
        "* 조건을 만족하는 원소들로 이루어진 부분집합 ndarray를 생성"
      ]
    },
    {
      "cell_type": "code",
      "metadata": {
        "colab": {
          "base_uri": "https://localhost:8080/"
        },
        "id": "VprAqsiTHozq",
        "outputId": "5e4978f4-3203-45b0-aec5-b419ebb15471"
      },
      "source": [
        "bools=np.array([True,False]*5)\n",
        "print(bools)\n",
        "print(arr)\n",
        "print(arr[bools])"
      ],
      "execution_count": 13,
      "outputs": [
        {
          "output_type": "stream",
          "text": [
            "[ True False  True False  True False  True False  True False]\n",
            "[37 12 72  9 75  5 79 64 16  1]\n",
            "[37 72 75 79 16]\n"
          ],
          "name": "stdout"
        }
      ]
    },
    {
      "cell_type": "code",
      "metadata": {
        "colab": {
          "base_uri": "https://localhost:8080/"
        },
        "id": "PVp9tVXHIfxg",
        "outputId": "aa47c976-64dd-4d8a-d9ed-970274339eea"
      },
      "source": [
        "# arr의 원소들 중 짝수들로만 이루어진 ndarray\n",
        "print(arr)\n",
        "print(arr%2==0) # element-wise 연산\n",
        "print(arr[arr%2==0])"
      ],
      "execution_count": 17,
      "outputs": [
        {
          "output_type": "stream",
          "text": [
            "[37 12 72  9 75  5 79 64 16  1]\n",
            "[False  True  True False False False False  True  True False]\n",
            "[12 72 64 16]\n"
          ],
          "name": "stdout"
        }
      ]
    },
    {
      "cell_type": "code",
      "metadata": {
        "colab": {
          "base_uri": "https://localhost:8080/"
        },
        "id": "0D65Bz9iJeAp",
        "outputId": "38989368-4223-4e22-e35d-314585f7434c"
      },
      "source": [
        "# arr의 원소들 중 홀수들로만 이루어진 ndarray\n",
        "arr[ arr %2==1]"
      ],
      "execution_count": 18,
      "outputs": [
        {
          "output_type": "execute_result",
          "data": {
            "text/plain": [
              "array([37,  9, 75,  5, 79,  1])"
            ]
          },
          "metadata": {
            "tags": []
          },
          "execution_count": 18
        }
      ]
    },
    {
      "cell_type": "markdown",
      "metadata": {
        "id": "hvxodwnIKoe4"
      },
      "source": [
        "# 통계 함수/메서드\n",
        "\n",
        "* 함수: `np.function_name(ndarray)`\n",
        "* 매서드: `np.ndarray.method_name()`"
      ]
    },
    {
      "cell_type": "code",
      "metadata": {
        "colab": {
          "base_uri": "https://localhost:8080/"
        },
        "id": "oFFDpeyoLM9K",
        "outputId": "02addcc2-d56f-4462-9913-0b27778462f2"
      },
      "source": [
        "print(arr)\n",
        "print(np.sum(arr)) # 함수\n",
        "print(arr.sum()) # 메서드"
      ],
      "execution_count": 19,
      "outputs": [
        {
          "output_type": "stream",
          "text": [
            "[37 12 72  9 75  5 79 64 16  1]\n",
            "370\n",
            "370\n"
          ],
          "name": "stdout"
        }
      ]
    },
    {
      "cell_type": "code",
      "metadata": {
        "colab": {
          "base_uri": "https://localhost:8080/"
        },
        "id": "xigwU6KrQ1BR",
        "outputId": "86758008-1032-470a-e2e0-375bb631c2d9"
      },
      "source": [
        "print('평균:',np.mean(arr),arr.mean())\n",
        "print('분산:',np.var(arr),arr.var()) # variance\n",
        "print('표준편차:',np.std(arr),arr.std()) # standard deviation\n",
        "print('최댓값:',np.max(arr),arr.max())\n",
        "print('최솟값:',np.min(arr),arr.min())\n",
        "print('중앙값:',np.median(arr)) # 매서드는 제공되지 않음"
      ],
      "execution_count": 25,
      "outputs": [
        {
          "output_type": "stream",
          "text": [
            "평균: 37.0 37.0\n",
            "분산: 933.2 933.2\n",
            "표준편차: 30.548322376196047 30.548322376196047\n",
            "최댓값: 79 79\n",
            "최솟값: 1 1\n",
            "중앙값: 26.5\n"
          ],
          "name": "stdout"
        }
      ]
    },
    {
      "cell_type": "code",
      "metadata": {
        "colab": {
          "base_uri": "https://localhost:8080/"
        },
        "id": "d-goPs2uSNxf",
        "outputId": "d7d80217-0aac-4c65-aace-0983ab25d68a"
      },
      "source": [
        "# np.max()와 np.maximum() 차이점\n",
        "# np.max(array) : array의 최댓값을 리턴\n",
        "# np.maximum(array1,array2): 배열(과 비슷한 객체) a1,a2의 같은 인덱스에 있는 원소들끼리 비교, 최댓값들로 이루어진 배열을 리턴.\n",
        "np.random.seed(42)\n",
        "arr1=np.random.randint(100,size=10)\n",
        "arr2=np.random.randint(100,size=10)\n",
        "print(arr1)\n",
        "print(arr2)\n",
        "minima =np.minimum(arr1,arr2)\n",
        "maxima= np.maximum(arr1,arr2)\n",
        "print(maxima)\n",
        "print(minima)"
      ],
      "execution_count": 33,
      "outputs": [
        {
          "output_type": "stream",
          "text": [
            "[51 92 14 71 60 20 82 86 74 74]\n",
            "[87 99 23  2 21 52  1 87 29 37]\n",
            "[87 99 23 71 60 52 82 87 74 74]\n",
            "[51 92 14  2 21 20  1 86 29 37]\n"
          ],
          "name": "stdout"
        }
      ]
    },
    {
      "cell_type": "code",
      "metadata": {
        "colab": {
          "base_uri": "https://localhost:8080/"
        },
        "id": "ixA7iyn8UTNv",
        "outputId": "5b81a5fd-79f1-4aeb-cad4-4c5836a5e675"
      },
      "source": [
        "# np.argmax(array), np.ndarray.argmax(): 배열의 최댓값의 인덱스를 리턴\n",
        "# np.argmin(array), np.ndarray.argmin(): 배열의 최솟값의 인덱스를 리턴\n",
        "print(arr)\n",
        "print(np.argmax(arr))\n",
        "print(np.argmin(arr))"
      ],
      "execution_count": 42,
      "outputs": [
        {
          "output_type": "stream",
          "text": [
            "[37 12 72  9 75  5 79 64 16  1]\n",
            "6\n",
            "9\n"
          ],
          "name": "stdout"
        }
      ]
    },
    {
      "cell_type": "markdown",
      "metadata": {
        "id": "pF8JwAqBU7qW"
      },
      "source": [
        "0 이상 100 미만의 정수 난수 10개로 이루어진 1차원 배열을 생성.\n",
        "\n",
        "배열에서 평균보다 큰 값들로 이루어진 배열을 만들고 출력."
      ]
    },
    {
      "cell_type": "code",
      "metadata": {
        "colab": {
          "base_uri": "https://localhost:8080/"
        },
        "id": "2xQ8wTUWVJYQ",
        "outputId": "40d46b76-6976-4aab-d800-b2a69eb0bb14"
      },
      "source": [
        "np.random.seed(0)\n",
        "arr3=np.random.randint(100,size=10)\n",
        "print(arr3.mean())\n",
        "print(arr3)\n",
        "bigger_than_mean=arr3[arr3.mean()<arr3]\n",
        "print(bigger_than_mean)"
      ],
      "execution_count": 52,
      "outputs": [
        {
          "output_type": "stream",
          "text": [
            "52.5\n",
            "[44 47 64 67 67  9 83 21 36 87]\n",
            "[64 67 67 83 87]\n"
          ],
          "name": "stdout"
        }
      ]
    },
    {
      "cell_type": "markdown",
      "metadata": {
        "id": "U-F2biYXWmmX"
      },
      "source": [
        "## 2차원 배열에서의 통계 함수/메서드"
      ]
    },
    {
      "cell_type": "code",
      "metadata": {
        "colab": {
          "base_uri": "https://localhost:8080/"
        },
        "id": "xky_LrIIWvb6",
        "outputId": "9b920398-f1ec-4699-eaa3-74c69a66e0ff"
      },
      "source": [
        "np.random.seed(2)\n",
        "arr= np.random.randint(100,size=(3,4))\n",
        "print(arr)"
      ],
      "execution_count": 51,
      "outputs": [
        {
          "output_type": "stream",
          "text": [
            "[[40 15 72 22]\n",
            " [43 82 75  7]\n",
            " [34 49 95 75]]\n"
          ],
          "name": "stdout"
        }
      ]
    },
    {
      "cell_type": "code",
      "metadata": {
        "colab": {
          "base_uri": "https://localhost:8080/"
        },
        "id": "2H8EQcl5XI4Z",
        "outputId": "0de127af-df49-4ce6-cc02-365806bb3d43"
      },
      "source": [
        "# 2차원 배열의 모든 원소들의 합\n",
        "np.sum(arr) # arr.sum()"
      ],
      "execution_count": 53,
      "outputs": [
        {
          "output_type": "execute_result",
          "data": {
            "text/plain": [
              "609"
            ]
          },
          "metadata": {
            "tags": []
          },
          "execution_count": 53
        }
      ]
    },
    {
      "cell_type": "code",
      "metadata": {
        "colab": {
          "base_uri": "https://localhost:8080/"
        },
        "id": "yYSPq2E4X-T8",
        "outputId": "7af64f52-6272-4412-e33b-5ff13c748a47"
      },
      "source": [
        "np.sum(arr,axis=0) # row index가 증가하는 방향으로 sum 계산\n",
        "#> (4,) shape의 1차원 배열"
      ],
      "execution_count": 57,
      "outputs": [
        {
          "output_type": "execute_result",
          "data": {
            "text/plain": [
              "array([117, 146, 242, 104])"
            ]
          },
          "metadata": {
            "tags": []
          },
          "execution_count": 57
        }
      ]
    },
    {
      "cell_type": "code",
      "metadata": {
        "colab": {
          "base_uri": "https://localhost:8080/"
        },
        "id": "ArhrCpXWY2uc",
        "outputId": "f89f73a9-5370-4cab-80e8-bb5d2c5ea5dd"
      },
      "source": [
        "np.sum(arr,axis=1) # column index가 증가하는 방향으로 sum 계산\n",
        "#> (3,) shape의 1차원 배열"
      ],
      "execution_count": 56,
      "outputs": [
        {
          "output_type": "execute_result",
          "data": {
            "text/plain": [
              "array([149, 207, 253])"
            ]
          },
          "metadata": {
            "tags": []
          },
          "execution_count": 56
        }
      ]
    },
    {
      "cell_type": "code",
      "metadata": {
        "colab": {
          "base_uri": "https://localhost:8080/"
        },
        "id": "WGopX0CiZlmB",
        "outputId": "c3d44b27-a6f8-44c8-dfd5-0ac3c76892c3"
      },
      "source": [
        "arr.sum(axis=0,keepdims=True) #> (1, 4) shape 2차원 배열 "
      ],
      "execution_count": 58,
      "outputs": [
        {
          "output_type": "execute_result",
          "data": {
            "text/plain": [
              "array([[117, 146, 242, 104]])"
            ]
          },
          "metadata": {
            "tags": []
          },
          "execution_count": 58
        }
      ]
    },
    {
      "cell_type": "code",
      "metadata": {
        "colab": {
          "base_uri": "https://localhost:8080/"
        },
        "id": "9GBJ6zedaSsE",
        "outputId": "4b9c93c9-5148-4c25-9fb1-a8991ad8ce14"
      },
      "source": [
        "arr.sum(axis=1,keepdims=True) #> (3, 1) shape 2차원 배열 "
      ],
      "execution_count": 59,
      "outputs": [
        {
          "output_type": "execute_result",
          "data": {
            "text/plain": [
              "array([[149],\n",
              "       [207],\n",
              "       [253]])"
            ]
          },
          "metadata": {
            "tags": []
          },
          "execution_count": 59
        }
      ]
    }
  ]
}