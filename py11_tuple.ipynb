{
  "nbformat": 4,
  "nbformat_minor": 0,
  "metadata": {
    "colab": {
      "name": "py11_tuple.ipynb",
      "provenance": [],
      "collapsed_sections": [],
      "authorship_tag": "ABX9TyM2N6cHHOzIukE+z9w8xM3U",
      "include_colab_link": true
    },
    "kernelspec": {
      "name": "python3",
      "display_name": "Python 3"
    },
    "language_info": {
      "name": "python"
    }
  },
  "cells": [
    {
      "cell_type": "markdown",
      "metadata": {
        "id": "view-in-github",
        "colab_type": "text"
      },
      "source": [
        "<a href=\"https://colab.research.google.com/github/sangjin94/SQL_ITWILL/blob/main/py11_tuple.ipynb\" target=\"_parent\"><img src=\"https://colab.research.google.com/assets/colab-badge.svg\" alt=\"Open In Colab\"/></a>"
      ]
    },
    {
      "cell_type": "markdown",
      "metadata": {
        "id": "TEq3wSoCNZ-7"
      },
      "source": [
        "# 튜플 (tuple)"
      ]
    },
    {
      "cell_type": "markdown",
      "metadata": {
        "id": "Jgb0YAOyNis1"
      },
      "source": [
        "* tuple: 저장된 원소(아이템)들을 변경할 수 없는 리스트.\n",
        "* 인데스 기반의 데이터 타입. 인덱스를 사용해서 원소를 참조함. - indexing, slicing\n",
        "* append(), insert(), extend(),remove(),pop() 와 같은 기능(메서드) 들은 제공되지 않음."
      ]
    },
    {
      "cell_type": "code",
      "metadata": {
        "colab": {
          "base_uri": "https://localhost:8080/"
        },
        "id": "P_WbZJa6NPQH",
        "outputId": "33c608be-4d92-4ab2-d05a-7a4b7e7a40d4"
      },
      "source": [
        "numbers=(1,3,2,4,5)\n",
        "print(numbers)\n",
        "print(type(numbers))\n"
      ],
      "execution_count": null,
      "outputs": [
        {
          "output_type": "stream",
          "text": [
            "(1, 3, 2, 4, 5)\n",
            "<class 'tuple'>\n"
          ],
          "name": "stdout"
        }
      ]
    },
    {
      "cell_type": "markdown",
      "metadata": {
        "id": "ov5zSnHWPXBM"
      },
      "source": [
        ""
      ]
    },
    {
      "cell_type": "markdown",
      "metadata": {
        "id": "gtx128dRPESe"
      },
      "source": [
        "## indexing"
      ]
    },
    {
      "cell_type": "code",
      "metadata": {
        "colab": {
          "base_uri": "https://localhost:8080/"
        },
        "id": "QAAwyjJuPGoK",
        "outputId": "a2c88c2e-38eb-441d-dbd1-5dc57d524d59"
      },
      "source": [
        "print(numbers[0]) # 인덱스는 0부터 시작\n",
        "print(numbers[4]) # 마지막 인덱스는 (원소 개수 -1)\n",
        "print(numbers[-1]) # 음수 인덱스- 튜플의 마지막 원소부터 거꾸로 매겨지는 인덱스"
      ],
      "execution_count": null,
      "outputs": [
        {
          "output_type": "stream",
          "text": [
            "1\n",
            "5\n",
            "5\n"
          ],
          "name": "stdout"
        }
      ]
    },
    {
      "cell_type": "markdown",
      "metadata": {
        "id": "KhFculjSQeHo"
      },
      "source": [
        "slicing"
      ]
    },
    {
      "cell_type": "code",
      "metadata": {
        "colab": {
          "base_uri": "https://localhost:8080/"
        },
        "id": "Thaa5fADQg-y",
        "outputId": "136ce92e-b4c5-41b4-df58-ab2a21dc9c52"
      },
      "source": [
        "print(numbers)\n",
        "print(numbers[1:3]) # start <= index < stop 범위의 원소들로 이루어진 튜플\n",
        "print(numbers[:3]) # 시작 인덱스가 생략되면 0부터 (앞에서 3개를 잘라낸 튜플)\n",
        "print(numbers[3:]) # 종료 인덱스가 생략되면 끝까지\n",
        "print(numbers[-3:]) # 튜플에서 끝에서 3개를 잘라낸 튜플"
      ],
      "execution_count": null,
      "outputs": [
        {
          "output_type": "stream",
          "text": [
            "(1, 3, 2, 4, 5)\n",
            "(3, 2)\n",
            "(1, 3, 2)\n",
            "(4, 5)\n",
            "(2, 4, 5)\n"
          ],
          "name": "stdout"
        }
      ]
    },
    {
      "cell_type": "code",
      "metadata": {
        "colab": {
          "base_uri": "https://localhost:8080/"
        },
        "id": "GWrHpDjVRzsW",
        "outputId": "6d4dac9b-351c-4789-bc9d-52c1cae63bc2"
      },
      "source": [
        "print(numbers[1]) #> 원소(아이템) - 숫자 \n",
        "print(numbers[1:2]) # 원소 1개로 이루어진 튜플"
      ],
      "execution_count": null,
      "outputs": [
        {
          "output_type": "stream",
          "text": [
            "3\n",
            "(3,)\n"
          ],
          "name": "stdout"
        }
      ]
    },
    {
      "cell_type": "code",
      "metadata": {
        "colab": {
          "base_uri": "https://localhost:8080/"
        },
        "id": "OYw27SwlSkWX",
        "outputId": "f0d4fdd3-6ef0-4501-ec13-ee112f51ed72"
      },
      "source": [
        "numbers2= sorted(numbers)\n",
        "print(numbers2)"
      ],
      "execution_count": null,
      "outputs": [
        {
          "output_type": "stream",
          "text": [
            "[1, 2, 3, 4, 5]\n"
          ],
          "name": "stdout"
        }
      ]
    },
    {
      "cell_type": "code",
      "metadata": {
        "id": "n3macINxT5Qa"
      },
      "source": [
        "# numbers[0]=100\n",
        "#> TypeError 발생 - 튜플은 기존 원소의 값을 변경할 수 없다.!\n"
      ],
      "execution_count": null,
      "outputs": []
    },
    {
      "cell_type": "markdown",
      "metadata": {
        "id": "td5DomjyVC9f"
      },
      "source": [
        "##decomposition(분해)"
      ]
    },
    {
      "cell_type": "code",
      "metadata": {
        "colab": {
          "base_uri": "https://localhost:8080/"
        },
        "id": "f4UitJK_VF0F",
        "outputId": "80624cdf-e77d-4526-d49d-0aaaf17362be"
      },
      "source": [
        "first,second=(1,2)\n",
        "print('first=',first)\n",
        "print('second=',second)"
      ],
      "execution_count": null,
      "outputs": [
        {
          "output_type": "stream",
          "text": [
            "first= 1\n",
            "second= 2\n"
          ],
          "name": "stdout"
        }
      ]
    },
    {
      "cell_type": "markdown",
      "metadata": {
        "id": "g8Pp-2jJoaSB"
      },
      "source": [
        "## 튜플과 반복문"
      ]
    },
    {
      "cell_type": "code",
      "metadata": {
        "colab": {
          "base_uri": "https://localhost:8080/"
        },
        "id": "cbQllm9yocVH",
        "outputId": "9b2d782a-8b90-423a-8e2e-ab4a2c616eed"
      },
      "source": [
        "numbers= (1,2,10,20,100,200)\n",
        "for x in numbers:\n",
        "  print(x)"
      ],
      "execution_count": null,
      "outputs": [
        {
          "output_type": "stream",
          "text": [
            "1\n",
            "2\n",
            "10\n",
            "20\n",
            "100\n",
            "200\n"
          ],
          "name": "stdout"
        }
      ]
    },
    {
      "cell_type": "code",
      "metadata": {
        "colab": {
          "base_uri": "https://localhost:8080/"
        },
        "id": "Gm1glDfMo4u3",
        "outputId": "6230b83f-5ed5-4d7f-e36f-5d31951d555b"
      },
      "source": [
        "numbers=((1,2),(3,4),(5,6))\n",
        "\n",
        "for row in numbers:\n",
        "  for x in row: \n",
        "    print(x,end='\\t')\n",
        "  print()"
      ],
      "execution_count": null,
      "outputs": [
        {
          "output_type": "stream",
          "text": [
            "1\t2\t\n",
            "3\t4\t\n",
            "5\t6\t\n"
          ],
          "name": "stdout"
        }
      ]
    },
    {
      "cell_type": "code",
      "metadata": {
        "id": "c2gBYL2aqPf0"
      },
      "source": [
        "# decomposition 을 사용한 for 반복문\n",
        "for x,y in numbers:\n",
        "  print(x,y)\n"
      ],
      "execution_count": null,
      "outputs": []
    }
  ]
}