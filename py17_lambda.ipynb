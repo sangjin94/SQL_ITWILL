{
  "nbformat": 4,
  "nbformat_minor": 0,
  "metadata": {
    "colab": {
      "name": "py17_lambda.ipynb",
      "provenance": [],
      "collapsed_sections": [],
      "authorship_tag": "ABX9TyNIVpEECWV0E72Z4pBrMiia",
      "include_colab_link": true
    },
    "kernelspec": {
      "name": "python3",
      "display_name": "Python 3"
    },
    "language_info": {
      "name": "python"
    }
  },
  "cells": [
    {
      "cell_type": "markdown",
      "metadata": {
        "id": "view-in-github",
        "colab_type": "text"
      },
      "source": [
        "<a href=\"https://colab.research.google.com/github/sangjin94/SQL_ITWILL/blob/main/py17_lambda.ipynb\" target=\"_parent\"><img src=\"https://colab.research.google.com/assets/colab-badge.svg\" alt=\"Open In Colab\"/></a>"
      ]
    },
    {
      "cell_type": "markdown",
      "metadata": {
        "id": "F5s6H6Hcv-QC"
      },
      "source": [
        "# 1급 객체(first-class object)로서의 함수\n",
        "\n",
        "함수(function)는 객체(object)이다.\n",
        "* 함수는 변수에 할당할 수 있음.\n",
        "* 함수의 argument로 함수를 전달할 수 있음.\n",
        "* 함수의 return value가 함수가 될 수 있음. 함수는 함수를 반환할 수 있음.\n",
        "* 함수 내부에서 다른 함수를 정의(선언)할 수 있음.\n"
      ]
    },
    {
      "cell_type": "code",
      "metadata": {
        "colab": {
          "base_uri": "https://localhost:8080/"
        },
        "id": "uET6VRmYuSwc",
        "outputId": "376cd346-6909-44a1-a7a9-75e82df99762"
      },
      "source": [
        "x=1 # 정수 1을 변수 x에 할당(저장)\n",
        "y=x # 변수 x의 값을 변수 y에 할당\n",
        "print('y=',y)\n",
        "print('x=',x)"
      ],
      "execution_count": 2,
      "outputs": [
        {
          "output_type": "stream",
          "text": [
            "y= 1\n",
            "x= 1\n"
          ],
          "name": "stdout"
        }
      ]
    },
    {
      "cell_type": "code",
      "metadata": {
        "id": "mpvjFKGOw4Iv"
      },
      "source": [
        "# 함수 정의(선언)\n",
        "def twice(x):\n",
        "  return 2*x"
      ],
      "execution_count": 4,
      "outputs": []
    },
    {
      "cell_type": "code",
      "metadata": {
        "colab": {
          "base_uri": "https://localhost:8080/"
        },
        "id": "fjfJ82y0xxel",
        "outputId": "9a46d5ad-7e0f-4966-c022-ca67488092ca"
      },
      "source": [
        "result= twice(5) # 함수 호출\n",
        "print('result=',result)"
      ],
      "execution_count": 5,
      "outputs": [
        {
          "output_type": "stream",
          "text": [
            "result= 10\n"
          ],
          "name": "stdout"
        }
      ]
    },
    {
      "cell_type": "code",
      "metadata": {
        "colab": {
          "base_uri": "https://localhost:8080/"
        },
        "id": "_lBY96rP0QFQ",
        "outputId": "56723daa-d416-4365-d6d4-0dc88e4ef073"
      },
      "source": [
        "twice # twice 객체를 콘솔창에 출력"
      ],
      "execution_count": 7,
      "outputs": [
        {
          "output_type": "execute_result",
          "data": {
            "text/plain": [
              "<function __main__.twice>"
            ]
          },
          "metadata": {
            "tags": []
          },
          "execution_count": 7
        }
      ]
    },
    {
      "cell_type": "code",
      "metadata": {
        "colab": {
          "base_uri": "https://localhost:8080/"
        },
        "id": "tw8RCoT60UKe",
        "outputId": "84c645d1-9853-475a-8ae5-7f55f469d76d"
      },
      "source": [
        "double=twice # 함수 객체는 변수에 할당할 수 있음.\n",
        "print(double) # 변수 double은 함수 객체\n",
        "result= double(5) # 변수 이름으로 함수 호출\n",
        "print('result=',result)"
      ],
      "execution_count": 8,
      "outputs": [
        {
          "output_type": "stream",
          "text": [
            "<function twice at 0x7f3e42dcf680>\n",
            "result= 10\n"
          ],
          "name": "stdout"
        }
      ]
    },
    {
      "cell_type": "markdown",
      "metadata": {
        "id": "jnE3yMKL9N_r"
      },
      "source": [
        "argument로 함수를 전달받는 함수 예제"
      ]
    },
    {
      "cell_type": "code",
      "metadata": {
        "id": "fWf6v5ih44Vr"
      },
      "source": [
        "def calculator(x,y,fn):\n",
        "  \"\"\"\n",
        "  x,y: 숫자(int,float)\n",
        "  fn: 숫자 2개를 argument로 전달받고, 숫자를 리턴하는 함수\n",
        "  \"\"\"\n",
        "  result=fn(x,y)\n",
        "  return result"
      ],
      "execution_count": 9,
      "outputs": []
    },
    {
      "cell_type": "code",
      "metadata": {
        "id": "ErlsdVKT5jrd"
      },
      "source": [
        "def plus(x,y):\n",
        "  return x+y"
      ],
      "execution_count": 10,
      "outputs": []
    },
    {
      "cell_type": "code",
      "metadata": {
        "colab": {
          "base_uri": "https://localhost:8080/"
        },
        "id": "nlnWvt4p5uPF",
        "outputId": "8bf7e64f-9ac1-47d5-aaf2-0646d73bf808"
      },
      "source": [
        "plus(1,2)"
      ],
      "execution_count": 12,
      "outputs": [
        {
          "output_type": "execute_result",
          "data": {
            "text/plain": [
              "3"
            ]
          },
          "metadata": {
            "tags": []
          },
          "execution_count": 12
        }
      ]
    },
    {
      "cell_type": "code",
      "metadata": {
        "id": "5hNnBnnk5wpn"
      },
      "source": [
        "calculator(1,2,plus)"
      ],
      "execution_count": null,
      "outputs": []
    },
    {
      "cell_type": "code",
      "metadata": {
        "id": "hSIgsH6H6Bu2"
      },
      "source": [
        "def minus(x,y):\n",
        "  return x-y"
      ],
      "execution_count": 13,
      "outputs": []
    },
    {
      "cell_type": "code",
      "metadata": {
        "colab": {
          "base_uri": "https://localhost:8080/"
        },
        "id": "tp6ljkFk6Fop",
        "outputId": "46b4f615-e8aa-4583-9774-0030e01e740f"
      },
      "source": [
        "calculator(1,2,minus)"
      ],
      "execution_count": 14,
      "outputs": [
        {
          "output_type": "execute_result",
          "data": {
            "text/plain": [
              "-1"
            ]
          },
          "metadata": {
            "tags": []
          },
          "execution_count": 14
        }
      ]
    },
    {
      "cell_type": "code",
      "metadata": {
        "id": "1P9DxPcE8Fv_"
      },
      "source": [
        "def greater(x,y): \n",
        "  if x>y:\n",
        "    return x\n",
        "  else:\n",
        "    return y"
      ],
      "execution_count": null,
      "outputs": []
    },
    {
      "cell_type": "code",
      "metadata": {
        "colab": {
          "base_uri": "https://localhost:8080/"
        },
        "id": "HKBpopkK9dpF",
        "outputId": "db22d8f9-9e6f-443f-a8db-cf91eb73255f"
      },
      "source": [
        "calculator(1,2,max)"
      ],
      "execution_count": 15,
      "outputs": [
        {
          "output_type": "execute_result",
          "data": {
            "text/plain": [
              "2"
            ]
          },
          "metadata": {
            "tags": []
          },
          "execution_count": 15
        }
      ]
    },
    {
      "cell_type": "markdown",
      "metadata": {
        "id": "-HuAJ_HM9rW3"
      },
      "source": [
        "함수 내부에서 함수를 선언하고, 함수를 리턴하는 예제"
      ]
    },
    {
      "cell_type": "code",
      "metadata": {
        "id": "7D4dnh_m9vIo"
      },
      "source": [
        "def  make_incrementor(n): \n",
        "  # 내부 함수(inner fuction), 지역함수(local function): 함수 내부에서 정의된 함수\n",
        "  def add_n(x):\n",
        "    # 내부 함수는 외부 함수의 지역변수,파라미터를 사용할 수 있음.\n",
        "    return x+n\n",
        "  # make_incrementor 함수가 add_n 함수를 리턴  \n",
        "  return add_n "
      ],
      "execution_count": 22,
      "outputs": []
    },
    {
      "cell_type": "code",
      "metadata": {
        "colab": {
          "base_uri": "https://localhost:8080/"
        },
        "id": "mg2lLLjp_nKi",
        "outputId": "f39d6233-7f4d-465c-acff-a465ecdb8440"
      },
      "source": [
        "increase_by_2 = make_incrementor(2)\n",
        "print(increase_by_2)"
      ],
      "execution_count": 25,
      "outputs": [
        {
          "output_type": "stream",
          "text": [
            "<function make_incrementor.<locals>.add_n at 0x7f3e3ecf1290>\n"
          ],
          "name": "stdout"
        }
      ]
    },
    {
      "cell_type": "code",
      "metadata": {
        "colab": {
          "base_uri": "https://localhost:8080/"
        },
        "id": "7BaFRTglAH6b",
        "outputId": "54178e67-dc06-43b7-8637-0b38523c1289"
      },
      "source": [
        "increase_by_2(10)"
      ],
      "execution_count": 26,
      "outputs": [
        {
          "output_type": "execute_result",
          "data": {
            "text/plain": [
              "12"
            ]
          },
          "metadata": {
            "tags": []
          },
          "execution_count": 26
        }
      ]
    },
    {
      "cell_type": "code",
      "metadata": {
        "id": "Lvs9eOixBZSr"
      },
      "source": [
        "increase_by_10 = make_incrementor(10)"
      ],
      "execution_count": 27,
      "outputs": []
    }
  ]
}