{
  "nbformat": 4,
  "nbformat_minor": 0,
  "metadata": {
    "colab": {
      "name": "py17_lambda.ipynb",
      "provenance": [],
      "collapsed_sections": [],
      "authorship_tag": "ABX9TyMfaI7vJZLTznSH6OO2v87o",
      "include_colab_link": true
    },
    "kernelspec": {
      "name": "python3",
      "display_name": "Python 3"
    },
    "language_info": {
      "name": "python"
    }
  },
  "cells": [
    {
      "cell_type": "markdown",
      "metadata": {
        "id": "view-in-github",
        "colab_type": "text"
      },
      "source": [
        "<a href=\"https://colab.research.google.com/github/sangjin94/SQL_ITWILL/blob/main/py17_lambda.ipynb\" target=\"_parent\"><img src=\"https://colab.research.google.com/assets/colab-badge.svg\" alt=\"Open In Colab\"/></a>"
      ]
    },
    {
      "cell_type": "markdown",
      "metadata": {
        "id": "F5s6H6Hcv-QC"
      },
      "source": [
        "# 1급 객체(first-class object)로서의 함수\n",
        "\n",
        "함수(function)는 객체(object)이다.\n",
        "* 함수는 변수에 할당할 수 있음.\n",
        "* 함수의 argument로 함수를 전달할 수 있음.\n",
        "* 함수의 return value가 함수가 될 수 있음. 함수는 함수를 반환할 수 있음.\n",
        "* 함수 내부에서 다른 함수를 정의(선언)할 수 있음.\n"
      ]
    },
    {
      "cell_type": "code",
      "metadata": {
        "colab": {
          "base_uri": "https://localhost:8080/"
        },
        "id": "uET6VRmYuSwc",
        "outputId": "376cd346-6909-44a1-a7a9-75e82df99762"
      },
      "source": [
        "x=1 # 정수 1을 변수 x에 할당(저장)\n",
        "y=x # 변수 x의 값을 변수 y에 할당\n",
        "print('y=',y)\n",
        "print('x=',x)"
      ],
      "execution_count": null,
      "outputs": [
        {
          "output_type": "stream",
          "text": [
            "y= 1\n",
            "x= 1\n"
          ],
          "name": "stdout"
        }
      ]
    },
    {
      "cell_type": "code",
      "metadata": {
        "id": "mpvjFKGOw4Iv"
      },
      "source": [
        "# 함수 정의(선언)\n",
        "def twice(x):\n",
        "  return 2*x"
      ],
      "execution_count": null,
      "outputs": []
    },
    {
      "cell_type": "code",
      "metadata": {
        "colab": {
          "base_uri": "https://localhost:8080/"
        },
        "id": "fjfJ82y0xxel",
        "outputId": "9a46d5ad-7e0f-4966-c022-ca67488092ca"
      },
      "source": [
        "result= twice(5) # 함수 호출\n",
        "print('result=',result)"
      ],
      "execution_count": null,
      "outputs": [
        {
          "output_type": "stream",
          "text": [
            "result= 10\n"
          ],
          "name": "stdout"
        }
      ]
    },
    {
      "cell_type": "code",
      "metadata": {
        "colab": {
          "base_uri": "https://localhost:8080/"
        },
        "id": "_lBY96rP0QFQ",
        "outputId": "56723daa-d416-4365-d6d4-0dc88e4ef073"
      },
      "source": [
        "twice # twice 객체를 콘솔창에 출력"
      ],
      "execution_count": null,
      "outputs": [
        {
          "output_type": "execute_result",
          "data": {
            "text/plain": [
              "<function __main__.twice>"
            ]
          },
          "metadata": {
            "tags": []
          },
          "execution_count": 7
        }
      ]
    },
    {
      "cell_type": "code",
      "metadata": {
        "colab": {
          "base_uri": "https://localhost:8080/"
        },
        "id": "tw8RCoT60UKe",
        "outputId": "84c645d1-9853-475a-8ae5-7f55f469d76d"
      },
      "source": [
        "double=twice # 함수 객체는 변수에 할당할 수 있음.\n",
        "print(double) # 변수 double은 함수 객체\n",
        "result= double(5) # 변수 이름으로 함수 호출\n",
        "print('result=',result)"
      ],
      "execution_count": null,
      "outputs": [
        {
          "output_type": "stream",
          "text": [
            "<function twice at 0x7f3e42dcf680>\n",
            "result= 10\n"
          ],
          "name": "stdout"
        }
      ]
    },
    {
      "cell_type": "markdown",
      "metadata": {
        "id": "jnE3yMKL9N_r"
      },
      "source": [
        "argument로 함수를 전달받는 함수 예제"
      ]
    },
    {
      "cell_type": "code",
      "metadata": {
        "id": "fWf6v5ih44Vr"
      },
      "source": [
        "def calculator(x,y,fn):\n",
        "  \"\"\"\n",
        "  x,y: 숫자(int,float)\n",
        "  fn: 숫자 2개를 argument로 전달받고, 숫자를 리턴하는 함수\n",
        "  \"\"\"\n",
        "  result=fn(x,y)\n",
        "  return result"
      ],
      "execution_count": null,
      "outputs": []
    },
    {
      "cell_type": "code",
      "metadata": {
        "id": "ErlsdVKT5jrd"
      },
      "source": [
        "def plus(x,y):\n",
        "  return x+y"
      ],
      "execution_count": null,
      "outputs": []
    },
    {
      "cell_type": "code",
      "metadata": {
        "colab": {
          "base_uri": "https://localhost:8080/"
        },
        "id": "nlnWvt4p5uPF",
        "outputId": "8bf7e64f-9ac1-47d5-aaf2-0646d73bf808"
      },
      "source": [
        "plus(1,2)"
      ],
      "execution_count": null,
      "outputs": [
        {
          "output_type": "execute_result",
          "data": {
            "text/plain": [
              "3"
            ]
          },
          "metadata": {
            "tags": []
          },
          "execution_count": 12
        }
      ]
    },
    {
      "cell_type": "code",
      "metadata": {
        "id": "5hNnBnnk5wpn"
      },
      "source": [
        "calculator(1,2,plus)"
      ],
      "execution_count": null,
      "outputs": []
    },
    {
      "cell_type": "code",
      "metadata": {
        "id": "hSIgsH6H6Bu2"
      },
      "source": [
        "def minus(x,y):\n",
        "  return x-y"
      ],
      "execution_count": null,
      "outputs": []
    },
    {
      "cell_type": "code",
      "metadata": {
        "colab": {
          "base_uri": "https://localhost:8080/"
        },
        "id": "tp6ljkFk6Fop",
        "outputId": "46b4f615-e8aa-4583-9774-0030e01e740f"
      },
      "source": [
        "calculator(1,2,minus)"
      ],
      "execution_count": null,
      "outputs": [
        {
          "output_type": "execute_result",
          "data": {
            "text/plain": [
              "-1"
            ]
          },
          "metadata": {
            "tags": []
          },
          "execution_count": 14
        }
      ]
    },
    {
      "cell_type": "code",
      "metadata": {
        "id": "1P9DxPcE8Fv_"
      },
      "source": [
        "def greater(x,y): \n",
        "  if x>y:\n",
        "    return x\n",
        "  else:\n",
        "    return y"
      ],
      "execution_count": null,
      "outputs": []
    },
    {
      "cell_type": "code",
      "metadata": {
        "colab": {
          "base_uri": "https://localhost:8080/"
        },
        "id": "HKBpopkK9dpF",
        "outputId": "db22d8f9-9e6f-443f-a8db-cf91eb73255f"
      },
      "source": [
        "calculator(1,2,max)"
      ],
      "execution_count": null,
      "outputs": [
        {
          "output_type": "execute_result",
          "data": {
            "text/plain": [
              "2"
            ]
          },
          "metadata": {
            "tags": []
          },
          "execution_count": 15
        }
      ]
    },
    {
      "cell_type": "markdown",
      "metadata": {
        "id": "-HuAJ_HM9rW3"
      },
      "source": [
        "함수 내부에서 함수를 선언하고, 함수를 리턴하는 예제"
      ]
    },
    {
      "cell_type": "code",
      "metadata": {
        "id": "7D4dnh_m9vIo"
      },
      "source": [
        "def  make_incrementor(n): \n",
        "  # 내부 함수(inner fuction), 지역함수(local function): 함수 내부에서 정의된 함수\n",
        "  def add_n(x):\n",
        "    # 내부 함수는 외부 함수의 지역변수,파라미터를 사용할 수 있음.\n",
        "    return x+n\n",
        "  # make_incrementor 함수가 add_n 함수를 리턴  \n",
        "  return add_n "
      ],
      "execution_count": null,
      "outputs": []
    },
    {
      "cell_type": "code",
      "metadata": {
        "colab": {
          "base_uri": "https://localhost:8080/"
        },
        "id": "mg2lLLjp_nKi",
        "outputId": "f39d6233-7f4d-465c-acff-a465ecdb8440"
      },
      "source": [
        "increase_by_2 = make_incrementor(2)\n",
        "print(increase_by_2)"
      ],
      "execution_count": null,
      "outputs": [
        {
          "output_type": "stream",
          "text": [
            "<function make_incrementor.<locals>.add_n at 0x7f3e3ecf1290>\n"
          ],
          "name": "stdout"
        }
      ]
    },
    {
      "cell_type": "code",
      "metadata": {
        "colab": {
          "base_uri": "https://localhost:8080/"
        },
        "id": "7BaFRTglAH6b",
        "outputId": "54178e67-dc06-43b7-8637-0b38523c1289"
      },
      "source": [
        "increase_by_2(10)"
      ],
      "execution_count": null,
      "outputs": [
        {
          "output_type": "execute_result",
          "data": {
            "text/plain": [
              "12"
            ]
          },
          "metadata": {
            "tags": []
          },
          "execution_count": 26
        }
      ]
    },
    {
      "cell_type": "code",
      "metadata": {
        "id": "Lvs9eOixBZSr"
      },
      "source": [
        "increase_by_10 = make_incrementor(10)"
      ],
      "execution_count": null,
      "outputs": []
    },
    {
      "cell_type": "markdown",
      "metadata": {
        "id": "dngh63kvH9Aq"
      },
      "source": [
        "# 람다 표현식(Lambda expression)\n",
        "\n",
        "```\n",
        "lambda param1,param2,... : expression\n",
        "```\n",
        "\n",
        "* 이름이 없는 함수(anonymous function)\n",
        "* 함수 이름 없이, 함수의 파라미터 선언과 반환 값 또는 반환 식(expression)으로 함수를 정의(선언)하는 방법."
      ]
    },
    {
      "cell_type": "code",
      "metadata": {
        "id": "-HdrYsQ5Ki0P"
      },
      "source": [
        "plus_one = lambda x: x+1 # argument x를  전달받아서 x+1을 반환하는 함수 "
      ],
      "execution_count": null,
      "outputs": []
    },
    {
      "cell_type": "code",
      "metadata": {
        "colab": {
          "base_uri": "https://localhost:8080/"
        },
        "id": "j6xUvu2RLNYR",
        "outputId": "3ee6ec56-7997-4ccd-bcb0-2b7eda50fbc7"
      },
      "source": [
        "plus_one(1)"
      ],
      "execution_count": null,
      "outputs": [
        {
          "output_type": "execute_result",
          "data": {
            "text/plain": [
              "2"
            ]
          },
          "metadata": {
            "tags": []
          },
          "execution_count": 29
        }
      ]
    },
    {
      "cell_type": "code",
      "metadata": {
        "colab": {
          "base_uri": "https://localhost:8080/"
        },
        "id": "lzMHZsnyLUHj",
        "outputId": "0a7fe406-cc10-4f9f-aff1-0b9dd3775d42"
      },
      "source": [
        "plus_one(10)"
      ],
      "execution_count": null,
      "outputs": [
        {
          "output_type": "execute_result",
          "data": {
            "text/plain": [
              "11"
            ]
          },
          "metadata": {
            "tags": []
          },
          "execution_count": 30
        }
      ]
    },
    {
      "cell_type": "code",
      "metadata": {
        "id": "u8uarKNeLt70"
      },
      "source": [
        "# f(x,y) x+y\n",
        "plus= lambda x,y : x+y"
      ],
      "execution_count": null,
      "outputs": []
    },
    {
      "cell_type": "code",
      "metadata": {
        "colab": {
          "base_uri": "https://localhost:8080/"
        },
        "id": "LHTsAQj1L36N",
        "outputId": "7c2c1ddf-e6a8-4d80-de02-f1b320ce42a5"
      },
      "source": [
        "plus(1,2)"
      ],
      "execution_count": null,
      "outputs": [
        {
          "output_type": "execute_result",
          "data": {
            "text/plain": [
              "3"
            ]
          },
          "metadata": {
            "tags": []
          },
          "execution_count": 32
        }
      ]
    },
    {
      "cell_type": "code",
      "metadata": {
        "colab": {
          "base_uri": "https://localhost:8080/"
        },
        "id": "HHtvRp-mNOcf",
        "outputId": "8f6debdf-de59-49ca-cafc-11ad1cfff9ee"
      },
      "source": [
        "calculator(1,2,lambda x,y: x+y)"
      ],
      "execution_count": null,
      "outputs": [
        {
          "output_type": "execute_result",
          "data": {
            "text/plain": [
              "3"
            ]
          },
          "metadata": {
            "tags": []
          },
          "execution_count": 33
        }
      ]
    },
    {
      "cell_type": "code",
      "metadata": {
        "colab": {
          "base_uri": "https://localhost:8080/"
        },
        "id": "hJFtb08Oh0oU",
        "outputId": "4c9559a6-fed8-4a1d-cd6e-727917710a89"
      },
      "source": [
        "calculator(1,2,lambda x,y: x-y)"
      ],
      "execution_count": null,
      "outputs": [
        {
          "output_type": "execute_result",
          "data": {
            "text/plain": [
              "-1"
            ]
          },
          "metadata": {
            "tags": []
          },
          "execution_count": 34
        }
      ]
    },
    {
      "cell_type": "code",
      "metadata": {
        "id": "ioQw9NqAh2AQ"
      },
      "source": [
        "# calculator 함수에 나누기 (/) 연산을 수행하는 lambda를 전달"
      ],
      "execution_count": null,
      "outputs": []
    },
    {
      "cell_type": "code",
      "metadata": {
        "colab": {
          "base_uri": "https://localhost:8080/"
        },
        "id": "d3Mkxi2SiJOO",
        "outputId": "0f21ed1c-8a43-4f8d-b854-478a9bdeb389"
      },
      "source": [
        "calculator(20,5,lambda x,y: x/y)"
      ],
      "execution_count": null,
      "outputs": [
        {
          "output_type": "execute_result",
          "data": {
            "text/plain": [
              "4.0"
            ]
          },
          "metadata": {
            "tags": []
          },
          "execution_count": 35
        }
      ]
    },
    {
      "cell_type": "code",
      "metadata": {
        "id": "Ru5qHGSPiDzY"
      },
      "source": [
        "# calculator 함수에 곱하기(*)  연산을 수행하는 lambda를 전달"
      ],
      "execution_count": null,
      "outputs": []
    },
    {
      "cell_type": "code",
      "metadata": {
        "colab": {
          "base_uri": "https://localhost:8080/"
        },
        "id": "cd11m5SJiOCf",
        "outputId": "7cba5d56-5b7a-4378-c74f-f7b957f9a761"
      },
      "source": [
        "calculator(20,5,fn=lambda x,y: x*y)"
      ],
      "execution_count": null,
      "outputs": [
        {
          "output_type": "execute_result",
          "data": {
            "text/plain": [
              "100"
            ]
          },
          "metadata": {
            "tags": []
          },
          "execution_count": 38
        }
      ]
    },
    {
      "cell_type": "code",
      "metadata": {
        "id": "w28ZKGnEiPnV"
      },
      "source": [
        "# calculator 함수에 곱하기(*)  연산을 수행하는 lambda를 전달"
      ],
      "execution_count": null,
      "outputs": []
    },
    {
      "cell_type": "code",
      "metadata": {
        "colab": {
          "base_uri": "https://localhost:8080/"
        },
        "id": "Cy5VQoOciRlG",
        "outputId": "3ddc4a8d-60f3-4c37-dbec-58ad82956741"
      },
      "source": [
        "calculator(20,5,lambda x,y: x>y)"
      ],
      "execution_count": null,
      "outputs": [
        {
          "output_type": "execute_result",
          "data": {
            "text/plain": [
              "True"
            ]
          },
          "metadata": {
            "tags": []
          },
          "execution_count": 37
        }
      ]
    },
    {
      "cell_type": "code",
      "metadata": {
        "colab": {
          "base_uri": "https://localhost:8080/"
        },
        "id": "MlOkMJ1CmAfq",
        "outputId": "cb9be9ba-4bb0-4b4e-a525-d8dde30beca7"
      },
      "source": [
        "# x 와 y 중에서 더 큰 수를 리턴\n",
        "calculator(20,3,lambda x,y: max(x,y))"
      ],
      "execution_count": null,
      "outputs": [
        {
          "output_type": "execute_result",
          "data": {
            "text/plain": [
              "20"
            ]
          },
          "metadata": {
            "tags": []
          },
          "execution_count": 39
        }
      ]
    },
    {
      "cell_type": "code",
      "metadata": {
        "colab": {
          "base_uri": "https://localhost:8080/"
        },
        "id": "qrMNCZXDm3o5",
        "outputId": "28142681-39c6-4009-91d2-42162425208b"
      },
      "source": [
        "# if expression (표현식):  값1 if 조건식 else 값2\n",
        "calculator(10,20, lambda x,y: x if x>y else y)    # else가 반드시있어야함."
      ],
      "execution_count": null,
      "outputs": [
        {
          "output_type": "execute_result",
          "data": {
            "text/plain": [
              "20"
            ]
          },
          "metadata": {
            "tags": []
          },
          "execution_count": 41
        }
      ]
    },
    {
      "cell_type": "markdown",
      "metadata": {
        "id": "iDoCz4IkiQip"
      },
      "source": [
        "lambda 표현식 응용\n",
        "* filtering\n",
        "  * 성별 컬럼에서 값이 'Male'인 데이터들만 선택\n",
        "* mapping\n",
        "  * 성별 컬럼의 값이 'Male'이면 1, 'Female'이면 0을 매핑."
      ]
    },
    {
      "cell_type": "code",
      "metadata": {
        "id": "ZZtIBIsQpA4a"
      },
      "source": [
        "numbers=[1,-2,3,-4,-5,6,7,-8]"
      ],
      "execution_count": null,
      "outputs": []
    },
    {
      "cell_type": "code",
      "metadata": {
        "colab": {
          "base_uri": "https://localhost:8080/"
        },
        "id": "1G1Y0lf5-VpP",
        "outputId": "0cedb947-7473-4bbc-b412-58442bfdf2da"
      },
      "source": [
        "# numbers의 아이템들 중 양수들로 이루어진 리스트(numbers에서 양수들만 필터링)\n",
        "result= filter(lambda x: x>0, numbers)\n",
        "list(result) # 필터링 된 결과들로 이루어진 리스트를 생성 "
      ],
      "execution_count": null,
      "outputs": [
        {
          "output_type": "execute_result",
          "data": {
            "text/plain": [
              "[1, 3, 6, 7]"
            ]
          },
          "metadata": {
            "tags": []
          },
          "execution_count": 2
        }
      ]
    },
    {
      "cell_type": "code",
      "metadata": {
        "colab": {
          "base_uri": "https://localhost:8080/"
        },
        "id": "qGZAEU1M_a7A",
        "outputId": "3e63aea2-6d29-4303-c4b2-751d0c6e9ba0"
      },
      "source": [
        "# numbers에서 음수들만 필터링\n",
        "result= filter(lambda x: x<0,numbers)\n",
        "# 필터링 된 결과들로 이루어진 리스트를 생성 \n",
        "list(result) "
      ],
      "execution_count": null,
      "outputs": [
        {
          "output_type": "execute_result",
          "data": {
            "text/plain": [
              "[-2, -4, -5, -8]"
            ]
          },
          "metadata": {
            "tags": []
          },
          "execution_count": 3
        }
      ]
    },
    {
      "cell_type": "code",
      "metadata": {
        "colab": {
          "base_uri": "https://localhost:8080/"
        },
        "id": "QGWQ2Q0G_9pS",
        "outputId": "143b57c9-6f42-410a-bc9b-fdfae85e2fd4"
      },
      "source": [
        "def is_nagative(x):\n",
        "  return x<0\n",
        "\n",
        "result=filter(is_nagative,numbers)\n",
        "list(result)"
      ],
      "execution_count": null,
      "outputs": [
        {
          "output_type": "execute_result",
          "data": {
            "text/plain": [
              "[-2, -4, -5, -8]"
            ]
          },
          "metadata": {
            "tags": []
          },
          "execution_count": 5
        }
      ]
    },
    {
      "cell_type": "code",
      "metadata": {
        "colab": {
          "base_uri": "https://localhost:8080/"
        },
        "id": "_eIwTtwiAqF6",
        "outputId": "23958c66-ea63-499f-fb79-4ffe5f8eb06c"
      },
      "source": [
        "# numbers에서 홀수만 필터링\n",
        "result= filter(lambda x : x %2==1, numbers)\n",
        "list(result)"
      ],
      "execution_count": null,
      "outputs": [
        {
          "output_type": "execute_result",
          "data": {
            "text/plain": [
              "[1, 3, -5, 7]"
            ]
          },
          "metadata": {
            "tags": []
          },
          "execution_count": 7
        }
      ]
    },
    {
      "cell_type": "code",
      "metadata": {
        "colab": {
          "base_uri": "https://localhost:8080/"
        },
        "id": "lBCtDwKoDnji",
        "outputId": "9d25609c-e8c8-454b-9bff-abcd99977052"
      },
      "source": [
        "#numbers에서 짝수는 'even', 홀수는 'odd' 매핑\n",
        "result= map(lambda x: 'even' if x%2==0 else 'odd', numbers)\n",
        "list(result)"
      ],
      "execution_count": null,
      "outputs": [
        {
          "output_type": "execute_result",
          "data": {
            "text/plain": [
              "['odd', 'even', 'odd', 'even', 'odd', 'even', 'odd', 'even']"
            ]
          },
          "metadata": {
            "tags": []
          },
          "execution_count": 9
        }
      ]
    },
    {
      "cell_type": "code",
      "metadata": {
        "colab": {
          "base_uri": "https://localhost:8080/"
        },
        "id": "uhz3jbyFEHbq",
        "outputId": "1e7e75cf-6222-4de7-9864-7d02cf24a6dd"
      },
      "source": [
        "genders=['male','female','female','male']\n",
        "# 'female'-> 0, 'male'-> 1 매핑\n",
        "result = map(lambda x:0 if x== 'female' else 1, genders)\n",
        "# 매핑결과를 리스트로 변환\n",
        "list(result)"
      ],
      "execution_count": null,
      "outputs": [
        {
          "output_type": "execute_result",
          "data": {
            "text/plain": [
              "[1, 0, 0, 1]"
            ]
          },
          "metadata": {
            "tags": []
          },
          "execution_count": 15
        }
      ]
    },
    {
      "cell_type": "code",
      "metadata": {
        "colab": {
          "base_uri": "https://localhost:8080/"
        },
        "id": "BgsBUm8GFMzi",
        "outputId": "22f0f136-fd99-4867-d1df-c10b8004ffc0"
      },
      "source": [
        "# for 반복문을 사용해서 위의 방법과 같은 출력을 할수 있다. \n",
        "print(numbers)\n",
        "\n",
        "# numbers의 양수들만 필터링된 리스트를 생성\n",
        "positives= [] # 양수들만 저장할 빈 리스트 생성\n",
        "for x in numbers: # numbers의 원소들을 하나씩 꺼내면서 반복\n",
        "  if x>0: # numbers의 원소가 양수이면\n",
        "    positives.append(x) #리스트에 추가\n",
        "print(positives)  #결과 확인"
      ],
      "execution_count": null,
      "outputs": [
        {
          "output_type": "stream",
          "text": [
            "[1, -2, 3, -4, -5, 6, 7, -8]\n",
            "[1, 3, 6, 7]\n"
          ],
          "name": "stdout"
        }
      ]
    },
    {
      "cell_type": "code",
      "metadata": {
        "colab": {
          "base_uri": "https://localhost:8080/"
        },
        "id": "yG-m5WUdF9YL",
        "outputId": "b9b2b97c-039b-4674-9fe2-8d450ce04f86"
      },
      "source": [
        "# numbers의 음수들만 필터링된 리스트를 생성\n",
        "print(numbers)\n",
        "negatives=[x for x in numbers if x<0]\n",
        "print(negatives)"
      ],
      "execution_count": null,
      "outputs": [
        {
          "output_type": "stream",
          "text": [
            "[1, -2, 3, -4, -5, 6, 7, -8]\n",
            "[-2, -4, -5, -8]\n"
          ],
          "name": "stdout"
        }
      ]
    },
    {
      "cell_type": "markdown",
      "metadata": {
        "id": "kW0EYQvUKsEv"
      },
      "source": [
        "filter()함수 map()함수를 직접 구현"
      ]
    },
    {
      "cell_type": "code",
      "metadata": {
        "id": "jfCEFK6qG1E5"
      },
      "source": [
        "def my_filter(iterable,fn):\n",
        "  \"\"\"\n",
        "  iterable: 리스트.\n",
        "  fn: 리스트 iterable의 원소 하나를 argument로 전달받아서 True 또는 False를 리턴하는 함수.\n",
        "  리스트 iterable의 원소들 중에서 함수 fn의 결과가 True가 되는 원소들로 이루어진 리스트를 리턴.\n",
        "  \"\"\"\n",
        "  result=[] # 필터링된 결과를 저장할 빈 리스트\n",
        "  for x in iterable: # 리스트의 원소들을 하나씩 꺼내면서 반복\n",
        "    if fn(x): # 리스트의 원소를 argument로 전달한 함수의 리턴 결과가 True이면 (필터링 조건을 만족하면)\n",
        "      result.append(x)\n",
        "\n",
        "  return result"
      ],
      "execution_count": null,
      "outputs": []
    },
    {
      "cell_type": "code",
      "metadata": {
        "id": "w4sgEk9FNIin"
      },
      "source": [
        "print(numbers)\n",
        "#numbers에서 양수들만 필터링\n",
        "my_filter(numbers,lambda x: x>0)"
      ],
      "execution_count": null,
      "outputs": []
    },
    {
      "cell_type": "code",
      "metadata": {
        "id": "RfIWn8VyMzn2"
      },
      "source": [
        "languages=['Python','R','SQL','Java','JavaScript','HTML','C/C++']\n",
        "# languages에서 5글자 이상인 원소들을 필터링\n",
        "my_filter(languages,lambda x: len(x)>=5)"
      ],
      "execution_count": null,
      "outputs": []
    },
    {
      "cell_type": "code",
      "metadata": {
        "id": "5mMp-eCrP6l-"
      },
      "source": [
        "genders=['male','female','female','male','female']\n",
        "#genders에서 'male'만 필터링\n",
        "my_filter(genders, lambda x : x=='male')"
      ],
      "execution_count": null,
      "outputs": []
    },
    {
      "cell_type": "code",
      "metadata": {
        "id": "tZj-9Xd4Qg8p"
      },
      "source": [
        "age=[16,19,20,35,55]\n",
        "# age에서 미성년(나이가 20미만)을 필터링\n",
        "my_filter (age,lambda x: x< 20)"
      ],
      "execution_count": null,
      "outputs": []
    },
    {
      "cell_type": "code",
      "metadata": {
        "id": "z1wYPqLLSERE"
      },
      "source": [
        "def my_mapper(iterable,fn):\n",
        "  \"\"\"\n",
        "  iterable: 리스트.\n",
        "  fn: argument가 1개이고 리턴 값이 있는 함수.\n",
        "  iterable의 원소들을 fn의 argument로 전달해서 리턴된 값들로 이루어진 리스트를 반환. \n",
        "  \"\"\"\n",
        "  result=[fn(x) for x in iterable]\n",
        "  return result"
      ],
      "execution_count": 28,
      "outputs": []
    },
    {
      "cell_type": "code",
      "metadata": {
        "colab": {
          "base_uri": "https://localhost:8080/"
        },
        "id": "0JVgu4oxTc78",
        "outputId": "bd91d22f-9af1-4a9e-a9ab-dbf058850118"
      },
      "source": [
        "print(numbers)\n",
        "# numbers의 원소들을 짝수이면 'even', 홀수이면 'odd' 매핑\n",
        "my_mapper(numbers,lambda x: 'even' if x%2==0 else 'odd')"
      ],
      "execution_count": 32,
      "outputs": [
        {
          "output_type": "stream",
          "text": [
            "[1, -2, 3, -4, -5, 6, 7, -8]\n"
          ],
          "name": "stdout"
        },
        {
          "output_type": "execute_result",
          "data": {
            "text/plain": [
              "['odd', 'even', 'odd', 'even', 'odd', 'even', 'odd', 'even']"
            ]
          },
          "metadata": {
            "tags": []
          },
          "execution_count": 32
        }
      ]
    },
    {
      "cell_type": "code",
      "metadata": {
        "colab": {
          "base_uri": "https://localhost:8080/"
        },
        "id": "TYA6VpxoUnb1",
        "outputId": "d6e69216-9861-4c69-8213-eaebc5335936"
      },
      "source": [
        "print(languages)\n",
        "# languages의 글자수로 이루어진 리스트\n",
        "my_mapper(languages,lambda x: len(x))"
      ],
      "execution_count": 34,
      "outputs": [
        {
          "output_type": "stream",
          "text": [
            "['Python', 'R', 'SQL', 'Java', 'JavaScript', 'HTML', 'C/C++']\n"
          ],
          "name": "stdout"
        },
        {
          "output_type": "execute_result",
          "data": {
            "text/plain": [
              "[6, 1, 3, 4, 10, 4, 5]"
            ]
          },
          "metadata": {
            "tags": []
          },
          "execution_count": 34
        }
      ]
    },
    {
      "cell_type": "code",
      "metadata": {
        "colab": {
          "base_uri": "https://localhost:8080/"
        },
        "id": "1AKuh2duVDQP",
        "outputId": "769afe85-e242-4b40-cf80-89dfdf02a8b5"
      },
      "source": [
        "print(genders)\n",
        "#female-> 0, male ->1\n",
        "my_mapper(genders,lambda x: 0 if x== 'female' else 1)"
      ],
      "execution_count": 35,
      "outputs": [
        {
          "output_type": "stream",
          "text": [
            "['male', 'female', 'female', 'male', 'female']\n"
          ],
          "name": "stdout"
        },
        {
          "output_type": "execute_result",
          "data": {
            "text/plain": [
              "[1, 0, 0, 1, 0]"
            ]
          },
          "metadata": {
            "tags": []
          },
          "execution_count": 35
        }
      ]
    }
  ]
}