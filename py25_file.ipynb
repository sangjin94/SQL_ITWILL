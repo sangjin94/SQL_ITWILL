{
  "nbformat": 4,
  "nbformat_minor": 0,
  "metadata": {
    "colab": {
      "name": "py25_file.ipynb",
      "provenance": [],
      "mount_file_id": "15gRhVaU8piwHUxP2tkjfDC7fokKtx2E0",
      "authorship_tag": "ABX9TyO5NEpX7oa2PmZK0HYTKCvG",
      "include_colab_link": true
    },
    "kernelspec": {
      "name": "python3",
      "display_name": "Python 3"
    },
    "language_info": {
      "name": "python"
    }
  },
  "cells": [
    {
      "cell_type": "markdown",
      "metadata": {
        "id": "view-in-github",
        "colab_type": "text"
      },
      "source": [
        "<a href=\"https://colab.research.google.com/github/sangjin94/SQL_ITWILL/blob/main/py25_file.ipynb\" target=\"_parent\"><img src=\"https://colab.research.google.com/assets/colab-badge.svg\" alt=\"Open In Colab\"/></a>"
      ]
    },
    {
      "cell_type": "markdown",
      "metadata": {
        "id": "BqI0WPwmHD51"
      },
      "source": [
        "# 파일 쓰기\n",
        "\n",
        "1. 파일 열기(open)\n",
        "2. 파일 내용 쓰기(write)\n",
        "3. 파일 닫기(close)"
      ]
    },
    {
      "cell_type": "code",
      "metadata": {
        "colab": {
          "base_uri": "https://localhost:8080/"
        },
        "id": "c38lIinGFWTk",
        "outputId": "0873555b-160f-439c-ab90-7ef3a2018b6d"
      },
      "source": [
        "# open(file,mode='r',...): 파일 열기\n",
        "# file: 디텍토리(폴더)를 포함한 파일 이름\n",
        "# mode: r(read:읽기,기본 값),w(write: 쓰기), a(append: 추가),t(text:텍스트),b(binary: 이진)\n",
        "\n",
        "# 1) 파일 열기\n",
        "f= open(file='hello.txt', mode='w') # mode='wt',텍스트 모드가 기본값이므로 t는 생략 가능\n",
        "print(f)\n",
        "\n",
        "# 오픈된 파일 객체의 매서드를 사용해서 read, write, close를 수행.\n",
        "# 2) 파일 쓰기 (write)\n",
        "f.write('Hello!\\n') # '\\n': new line(줄바꿈)\n",
        "f.write('안녕하세요!\\n')\n",
        "\n",
        "# 3) 파일 닫기\n",
        "f.close()"
      ],
      "execution_count": null,
      "outputs": [
        {
          "output_type": "stream",
          "text": [
            "<_io.TextIOWrapper name='hello.txt' mode='w' encoding='UTF-8'>\n"
          ],
          "name": "stdout"
        }
      ]
    },
    {
      "cell_type": "code",
      "metadata": {
        "id": "ZAEwNvOlTNRo"
      },
      "source": [
        "# with 함수() as 변수:\n",
        "# with에서 open파일 객체의 close() 매서드가 자동으로 호출됨.\n",
        "with open(file='hello.txt',mode='a') as f:\n",
        "  f.write('파일 append 테스트\\n')\n",
        "  f.write('이번 시간이 끝나면 점심 시간입니다...\\n') \n",
        "# with 블록이 끝나면 open된 파일 객체 f의 close 메서드가 자동으로 호출됨."
      ],
      "execution_count": 8,
      "outputs": []
    },
    {
      "cell_type": "markdown",
      "metadata": {
        "id": "rlzJyiF5UuAs"
      },
      "source": [
        "# 파일 읽기\n",
        "\n",
        "1. open\n",
        "2. read\n",
        "3. close"
      ]
    },
    {
      "cell_type": "code",
      "metadata": {
        "colab": {
          "base_uri": "https://localhost:8080/"
        },
        "id": "T1dnYnGZU3d0",
        "outputId": "881edf8b-45ce-432a-c681-108fcbba3584"
      },
      "source": [
        "with open(file='hello.txt') as f : \n",
        "  # mode='rt' read text. 기본값이므로 생략 가능.\n",
        "  line= f.readline().strip()\n",
        "  # 파일에서 한줄을 읽고, 문자열 앞뒤의 공백 문자를 제거\n",
        "  print(line)"
      ],
      "execution_count": 13,
      "outputs": [
        {
          "output_type": "stream",
          "text": [
            "Hello!\n"
          ],
          "name": "stdout"
        }
      ]
    },
    {
      "cell_type": "code",
      "metadata": {
        "colab": {
          "base_uri": "https://localhost:8080/"
        },
        "id": "ZF3QuBFHW1u_",
        "outputId": "4bcbbb1b-2de3-4a9f-ffb1-bc2d3259333f"
      },
      "source": [
        "# open()으로 생성된 파일 객체는 iterable 타입 -> for-in 구문에서 사용 가능\n",
        "with open(file='hello.txt') as f:\n",
        "  for line in f: # f.readline() 자동으로 호출됨 \n",
        "    print(line.strip())"
      ],
      "execution_count": 16,
      "outputs": [
        {
          "output_type": "stream",
          "text": [
            "Hello!\n",
            "안녕하세요!\n",
            "파일 append 테스트\n",
            "이번 시간이 끝나면 점심 시간입니다...\n"
          ],
          "name": "stdout"
        }
      ]
    },
    {
      "cell_type": "markdown",
      "metadata": {
        "id": "DGQIYquSYFhy"
      },
      "source": [
        "# Google Drive에 파일 쓰기/읽기\n",
        "\n",
        "* colab에서 write한 파일은 colab 가상 머신의 디렉토리에 저장됨.\n",
        "* colab 세션이 종료되면 저장했던 파일들은 삭제됨.\n",
        "* colab은 Google Drive를 연동할 수 있음. ( Google Drive를 연결 할 수 있음.)- 마운트(mount)"
      ]
    },
    {
      "cell_type": "code",
      "metadata": {
        "id": "_0O9kfhZYEz5"
      },
      "source": [
        "dir_path='/content/drive/MyDrive/Colab Notebooks/lab_python'"
      ],
      "execution_count": 2,
      "outputs": []
    },
    {
      "cell_type": "code",
      "metadata": {
        "id": "26TPmh9uuz9x"
      },
      "source": [
        "file_name='emails.txt'"
      ],
      "execution_count": 3,
      "outputs": []
    },
    {
      "cell_type": "code",
      "metadata": {
        "id": "jOHtgxmfu3RL"
      },
      "source": [
        "import os # os.path.join() 함수를 사용하기 위해서"
      ],
      "execution_count": 4,
      "outputs": []
    },
    {
      "cell_type": "code",
      "metadata": {
        "colab": {
          "base_uri": "https://localhost:8080/"
        },
        "id": "3h2cRlLKwJF0",
        "outputId": "af46fb20-2e9d-4db3-db1a-2792f6889ab0"
      },
      "source": [
        "# os.path.join(): 디텍토리 이름과 파일 이름을 파일 구분자(file separator)를 사용해서 이어줌.\n",
        "file_path=os.path.join(dir_path,file_name)\n",
        "print(file_path)"
      ],
      "execution_count": 5,
      "outputs": [
        {
          "output_type": "stream",
          "text": [
            "/content/drive/MyDrive/Colab Notebooks/lab_python/emails.txt\n"
          ],
          "name": "stdout"
        }
      ]
    },
    {
      "cell_type": "code",
      "metadata": {
        "id": "KUxD8XsYwfvH"
      },
      "source": [
        "# write text 모드로 파일을 오픈\n",
        "with open(file=file_path, mode='w') as f:\n",
        "  f.write('hdg@naver.com\\n')\n",
        "  f.write('gildonghong@gmail.com\\n')\n",
        "  f.write('gildong@daum.net')"
      ],
      "execution_count": 8,
      "outputs": []
    },
    {
      "cell_type": "code",
      "metadata": {
        "colab": {
          "base_uri": "https://localhost:8080/"
        },
        "id": "kXk5bWmmxfkB",
        "outputId": "f25274f8-5e7f-4364-819c-f35ff1051e24"
      },
      "source": [
        "#  google drive에 저장한 emails.txt 파일을 읽어서 한 줄씩 출력\n",
        "with open(file=file_path,mode='r') as f:\n",
        "  for x in f:\n",
        "    print(x.strip())"
      ],
      "execution_count": 9,
      "outputs": [
        {
          "output_type": "stream",
          "text": [
            "hdg@naver.com\n",
            "gildonghong@gmail.com\n",
            "gildong@daum.net\n"
          ],
          "name": "stdout"
        }
      ]
    },
    {
      "cell_type": "code",
      "metadata": {
        "id": "Lvebdoaox51r"
      },
      "source": [
        "# google drive에 저장한 email.txt 파일을 읽어서, 이메일 주소의 도메인(domain)들만 저장하는 리스트를 생성,출력\n",
        "email_list=[]\n",
        "with open(file=file_path,mode='r') as f:\n",
        "  for x in f:\n",
        "    email_list.append(x.strip()[x.find('@')+1:])      "
      ],
      "execution_count": 42,
      "outputs": []
    },
    {
      "cell_type": "code",
      "metadata": {
        "id": "7SkN2yB-1OXx"
      },
      "source": [
        "\n",
        "with open(file=file_path,mode='r') as f:\n",
        "  domains=[] # 도메인 주소들을 저장할 리스트\n",
        "  for line in f: # 파일에서 한 줄씩 읽으면서\n",
        "    # 라인의 앞뒤 공백(\\n)제거 -> @를 구분자로해서 단어를 추출한 리스트\n",
        "    domains.append(line.strip().split(sep='@')[1])    "
      ],
      "execution_count": 37,
      "outputs": []
    },
    {
      "cell_type": "code",
      "metadata": {
        "colab": {
          "base_uri": "https://localhost:8080/"
        },
        "id": "l6N7zGZH1u_s",
        "outputId": "0766a577-0546-4de2-f548-241b263d61b8"
      },
      "source": [
        "email_list"
      ],
      "execution_count": 43,
      "outputs": [
        {
          "output_type": "execute_result",
          "data": {
            "text/plain": [
              "['naver.com', 'gmail.com', 'daum.net']"
            ]
          },
          "metadata": {
            "tags": []
          },
          "execution_count": 43
        }
      ]
    },
    {
      "cell_type": "code",
      "metadata": {
        "colab": {
          "base_uri": "https://localhost:8080/"
        },
        "id": "pSc0-5E_y63R",
        "outputId": "56f580a2-9751-4fb8-a49d-f613e64442c9"
      },
      "source": [
        "domains1"
      ],
      "execution_count": 38,
      "outputs": [
        {
          "output_type": "execute_result",
          "data": {
            "text/plain": [
              "['naver.com', 'gmail.com', 'daum.net']"
            ]
          },
          "metadata": {
            "tags": []
          },
          "execution_count": 38
        }
      ]
    },
    {
      "cell_type": "code",
      "metadata": {
        "colab": {
          "base_uri": "https://localhost:8080/"
        },
        "id": "QcjTXN3E2WRj",
        "outputId": "a402973b-d5ce-4272-ee97-09de010400dc"
      },
      "source": [
        "with open(file_path,'r') as f: \n",
        "  domains= [line.strip().split('@')[1] for line in f]\n",
        "\n",
        "print(domains)"
      ],
      "execution_count": 45,
      "outputs": [
        {
          "output_type": "stream",
          "text": [
            "['naver.com', 'gmail.com', 'daum.net']\n"
          ],
          "name": "stdout"
        }
      ]
    },
    {
      "cell_type": "markdown",
      "metadata": {
        "id": "cfphTrOK3BaI"
      },
      "source": [
        "# Binary File 읽기/쓰기"
      ]
    },
    {
      "cell_type": "markdown",
      "metadata": {
        "id": "PPr-ZMYj3qR3"
      },
      "source": [
        "**pickle**\n",
        "\n",
        "* Python에서 객체(object)를 이진 데이터(binary data)형식으로 파일 읽기/쓰기를 할 때 사용되는 타입.\n",
        "* Python의 dict 타입을 파일로 저장할 수 있고, 파일의 내용을 읽어서 dict타입으로 변환할 수 있음.\n",
        "* `pickle.dump(object,file)`: object를 file에 씀(write).\n",
        "* `pickle.load(file)`: file에서 이진 데이터를 읽어서 객체(object)를 리턴."
      ]
    },
    {
      "cell_type": "code",
      "metadata": {
        "id": "6TRNljjD7vFw"
      },
      "source": [
        "import pickle # pickle 모듈 불러오기"
      ],
      "execution_count": 47,
      "outputs": []
    },
    {
      "cell_type": "code",
      "metadata": {
        "colab": {
          "base_uri": "https://localhost:8080/"
        },
        "id": "l91mopfO8CW0",
        "outputId": "b3e66fc1-a660-4a9e-fbcb-9f4321219e5a"
      },
      "source": [
        "# 파일에 쓰기 위한 dict 객체 생성\n",
        "ssam={'name':'오쌤',\n",
        "      'company':'아이티윌',\n",
        "      'phone':['010-1234-5678','02-0000-5678'],\n",
        "      'email':{'company':'jake@itwill.co.kr','personal':'jake@gmail.com'}\n",
        "      }\n",
        "print(ssam)"
      ],
      "execution_count": 49,
      "outputs": [
        {
          "output_type": "stream",
          "text": [
            "{'name': '오쌤', 'company': '아이티윌', 'phone': ['010-1234-5678', '02-0000-5678'], 'email': {'company': 'jake@itwill.co.kr', 'personal': 'jake@gmail.com'}}\n"
          ],
          "name": "stdout"
        }
      ]
    },
    {
      "cell_type": "markdown",
      "metadata": {
        "id": "F5n1sqFt85M9"
      },
      "source": [
        "ssam dict 객체를 pickle 형식의 파일에 저장(쓰기)"
      ]
    },
    {
      "cell_type": "code",
      "metadata": {
        "id": "2FsibRb79bf4"
      },
      "source": [
        "file_name='person.pickle'\n",
        "with open(file_name,mode='wb') as f: # 파일을 write binary 모드로 오픈\n",
        "  pickle.dump(ssam,f) # 파일 f에 ssam 객체를 저장"
      ],
      "execution_count": 50,
      "outputs": []
    },
    {
      "cell_type": "markdown",
      "metadata": {
        "id": "oZwqX6yd-XZZ"
      },
      "source": [
        "pickle 파일을 읽어서 저장된 내용을 객체로 생성 "
      ]
    },
    {
      "cell_type": "code",
      "metadata": {
        "colab": {
          "base_uri": "https://localhost:8080/"
        },
        "id": "DSlJYfUU92lN",
        "outputId": "4d334a4b-7cba-494f-edaf-327956f09e19"
      },
      "source": [
        "with open(file_name, mode='rb') as f: # 파일을 read binary 모드로 오픈\n",
        "  obj = pickle.load(f)\n",
        "\n",
        "print(obj)"
      ],
      "execution_count": 52,
      "outputs": [
        {
          "output_type": "stream",
          "text": [
            "{'name': '오쌤', 'company': '아이티윌', 'phone': ['010-1234-5678', '02-0000-5678'], 'email': {'company': 'jake@itwill.co.kr', 'personal': 'jake@gmail.com'}}\n"
          ],
          "name": "stdout"
        }
      ]
    },
    {
      "cell_type": "code",
      "metadata": {
        "id": "lULXqPrI_tn1"
      },
      "source": [
        "class Score:\n",
        "  def __init__(self,korean=0,english=0,math=0):\n",
        "    self.korean=korean\n",
        "    self.english=english\n",
        "    self.math=math\n",
        "\n",
        "  def __repr__(self): \n",
        "    return f'Score(korean={self.korean},english={self.english},math={self.math}'\n",
        "  \n",
        "  def mean(self):\n",
        "    return (self.korean+self.english+self.math)/3"
      ],
      "execution_count": 53,
      "outputs": []
    },
    {
      "cell_type": "code",
      "metadata": {
        "id": "6_0aKhZ7AbYm"
      },
      "source": [
        "ssam={'name':'오쌤','score':Score(90,80,99)}\n",
        "print(ssam)"
      ],
      "execution_count": 54,
      "outputs": []
    },
    {
      "cell_type": "code",
      "metadata": {
        "id": "2KUfs0bAAz46"
      },
      "source": [
        "with open('score.pickle',mode='wb') as f:\n",
        "  pickle.dump(ssam,f)"
      ],
      "execution_count": 56,
      "outputs": []
    },
    {
      "cell_type": "code",
      "metadata": {
        "colab": {
          "base_uri": "https://localhost:8080/"
        },
        "id": "1N7FgnYMCLe_",
        "outputId": "b0351053-9e00-4f56-f945-38c654547642"
      },
      "source": [
        "with open('score.pickle',mode='rb') as f:\n",
        "  result= pickle.load(f)\n",
        "\n",
        "print(result)\n",
        "print(result['score'].mean())"
      ],
      "execution_count": 57,
      "outputs": [
        {
          "output_type": "stream",
          "text": [
            "{'name': '오쌤', 'score': Score(korean=90,english=80,math=99}\n",
            "89.66666666666667\n"
          ],
          "name": "stdout"
        }
      ]
    }
  ]
}