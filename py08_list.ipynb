{
  "nbformat": 4,
  "nbformat_minor": 0,
  "metadata": {
    "colab": {
      "name": "py08_list.ipynb",
      "provenance": [],
      "collapsed_sections": [],
      "authorship_tag": "ABX9TyP6qAd240AN1PfcRo0YAsDY",
      "include_colab_link": true
    },
    "kernelspec": {
      "name": "python3",
      "display_name": "Python 3"
    },
    "language_info": {
      "name": "python"
    }
  },
  "cells": [
    {
      "cell_type": "markdown",
      "metadata": {
        "id": "view-in-github",
        "colab_type": "text"
      },
      "source": [
        "<a href=\"https://colab.research.google.com/github/sangjin94/SQL_ITWILL/blob/main/py08_list.ipynb\" target=\"_parent\"><img src=\"https://colab.research.google.com/assets/colab-badge.svg\" alt=\"Open In Colab\"/></a>"
      ]
    },
    {
      "cell_type": "markdown",
      "metadata": {
        "id": "pJp4RhLDnKoo"
      },
      "source": [
        "# List(리스트)"
      ]
    },
    {
      "cell_type": "markdown",
      "metadata": {
        "id": "yns4xlLtnOrw"
      },
      "source": [
        "*    list: 여러개의 값들을 하나의 변수에 저장하기 위한 데이터 타입.\n",
        "\n",
        "*    element(원소,요소): 리스트에 저장된 각각의 값. \n",
        "\n",
        "*    index(인덱스): 리스트에 값이 저장된 위치(번호).\n",
        "    *  리스트의 인덱스는 **0**부터 시작!!\n",
        "    *  리스트의 마지막 원소의 인덱스는 (원소개수-1)\n",
        "\n",
        "*    리스트는 원소들을 변경(추가/삭제)할 수 있음.\n",
        "    * tuple과 다른점 !!"
      ]
    },
    {
      "cell_type": "code",
      "metadata": {
        "colab": {
          "base_uri": "https://localhost:8080/"
        },
        "id": "sUCWBgtzl4Cn",
        "outputId": "75cf057f-fd12-424d-8138-5122e60f8fb9"
      },
      "source": [
        "# 숫자들을 저장하는 list\n",
        "numbers = [ 10, 20, 100, 90,80]\n",
        "print(numbers)\n",
        "print(type(numbers))"
      ],
      "execution_count": null,
      "outputs": [
        {
          "output_type": "stream",
          "text": [
            "[10, 20, 100, 90, 80]\n",
            "<class 'list'>\n"
          ],
          "name": "stdout"
        }
      ]
    },
    {
      "cell_type": "markdown",
      "metadata": {
        "id": "MM1QTXMip-rD"
      },
      "source": [
        "# indexing"
      ]
    },
    {
      "cell_type": "markdown",
      "metadata": {
        "id": "auGWtnU1qCSc"
      },
      "source": [
        "인덱스를 사용해서 리스트의 원소를 사용하는 방법"
      ]
    },
    {
      "cell_type": "code",
      "metadata": {
        "colab": {
          "base_uri": "https://localhost:8080/"
        },
        "id": "od2SsqBcn0lr",
        "outputId": "9d4e50cf-76b3-4a79-b6a8-619a8c62635a"
      },
      "source": [
        "print(numbers[0])# 리스트의 첫번째 원소\n",
        "print(numbers[3])# 리스트의 인덱스 4번 원소\n",
        "print(numbers[-1]) #리스트의 마지막 원소\n",
        "# print(numbers[5]) #> IndexError 발생 - 인덱스의 범위를 벗어난 인덱스를 사용했기 때문.\n"
      ],
      "execution_count": null,
      "outputs": [
        {
          "output_type": "stream",
          "text": [
            "10\n",
            "90\n",
            "80\n"
          ],
          "name": "stdout"
        }
      ]
    },
    {
      "cell_type": "markdown",
      "metadata": {
        "id": "pQ11eJ18xHwA"
      },
      "source": [
        "# slicing"
      ]
    },
    {
      "cell_type": "markdown",
      "metadata": {
        "id": "dPN0wuSzxY0x"
      },
      "source": [
        "\n",
        "\n",
        "```\n",
        "# 코드로 형식 지정됨\n",
        "```\n",
        "*    start <= index < end 범위의 인덱스 위치의 원소들을 선택\n",
        "*    start가 생략되면 list의 첫번째 원소부터 선택\n",
        "*    end가 생략되면 리스트의 마지막 원소까지 선택\n",
        "*    slicing의 결과는 *새로운 리스트* \n"
      ]
    },
    {
      "cell_type": "code",
      "metadata": {
        "colab": {
          "base_uri": "https://localhost:8080/"
        },
        "id": "W3rK3LO1xYCE",
        "outputId": "edc88fa2-80d9-499f-aefe-2ada5441c9b3"
      },
      "source": [
        "numbers[1:4] # 1<= index < 4 인덱스 범위의 원소들로 이루어진 리스트 "
      ],
      "execution_count": null,
      "outputs": [
        {
          "output_type": "execute_result",
          "data": {
            "text/plain": [
              "[123, 20, 100]"
            ]
          },
          "metadata": {
            "tags": []
          },
          "execution_count": 50
        }
      ]
    },
    {
      "cell_type": "code",
      "metadata": {
        "colab": {
          "base_uri": "https://localhost:8080/"
        },
        "id": "2Z-S9uVfxHbK",
        "outputId": "427ca747-6bae-4686-c515-a64eeefb7a8d"
      },
      "source": [
        "numbers[:3] # 0<= index <3 인덱스 범위의 원소들로 이루어진 리스트"
      ],
      "execution_count": null,
      "outputs": [
        {
          "output_type": "execute_result",
          "data": {
            "text/plain": [
              "[10, 20, 100]"
            ]
          },
          "metadata": {
            "tags": []
          },
          "execution_count": 17
        }
      ]
    },
    {
      "cell_type": "code",
      "metadata": {
        "id": "OT5pqbDdzWv0"
      },
      "source": [
        "numbers[3:] #3 <= index < 마지막 인덱스 범위의 원소들로 이루어진 리스트"
      ],
      "execution_count": null,
      "outputs": []
    },
    {
      "cell_type": "code",
      "metadata": {
        "id": "nfcF9WOPzfej"
      },
      "source": [
        "numbers[:] # 처음부터 끝까지"
      ],
      "execution_count": null,
      "outputs": []
    },
    {
      "cell_type": "code",
      "metadata": {
        "colab": {
          "base_uri": "https://localhost:8080/"
        },
        "id": "dcR3Wt7q0OBr",
        "outputId": "662b70c5-6ec5-4995-e740-28582b0eeadd"
      },
      "source": [
        "# 끝에서 3개 선택\n",
        "numbers[-3:]"
      ],
      "execution_count": null,
      "outputs": [
        {
          "output_type": "execute_result",
          "data": {
            "text/plain": [
              "[100, 90, 80]"
            ]
          },
          "metadata": {
            "tags": []
          },
          "execution_count": 18
        }
      ]
    },
    {
      "cell_type": "code",
      "metadata": {
        "colab": {
          "base_uri": "https://localhost:8080/"
        },
        "id": "fQcW-dks0Yoc",
        "outputId": "4bbe99b0-6d60-433a-ccb0-259e219126f1"
      },
      "source": [
        "print(numbers[1]) # 인덱스 1번 위치의 \"원소\" -> 숫자 1개\n",
        "print(numbers[1:2]) # 1<= index < 2 범위의 원소들로 이루어진 \"리스트\" -> 숫자 1개를 갖고 있는 \"리스트\""
      ],
      "execution_count": null,
      "outputs": [
        {
          "output_type": "stream",
          "text": [
            "20\n",
            "[20]\n"
          ],
          "name": "stdout"
        }
      ]
    },
    {
      "cell_type": "markdown",
      "metadata": {
        "id": "DZA6k9c_0Np7"
      },
      "source": [
        "## 문자열- 문자들의 리스트"
      ]
    },
    {
      "cell_type": "code",
      "metadata": {
        "colab": {
          "base_uri": "https://localhost:8080/"
        },
        "id": "lBZOx4Jf1roa",
        "outputId": "f9828084-3d10-426b-a98f-8425de5277e4"
      },
      "source": [
        "# 문자열 -> 인덱스, 인덱싱, 슬라이싱 \n",
        "message= 'Hello, Python!' #14개의 문자를 가지고 있는 문자열\n",
        "print(message[0]) # indexing\n",
        "print(message[13])\n",
        "print(message[-1])\n",
        "print(message[:5]) # slicing"
      ],
      "execution_count": null,
      "outputs": [
        {
          "output_type": "stream",
          "text": [
            "H\n",
            "!\n",
            "!\n",
            "Hello\n"
          ],
          "name": "stdout"
        }
      ]
    },
    {
      "cell_type": "markdown",
      "metadata": {
        "id": "S9vemK8b1rNE"
      },
      "source": [
        "# list의 산술 연산"
      ]
    },
    {
      "cell_type": "markdown",
      "metadata": {
        "id": "VV8k3B-m24SE"
      },
      "source": [
        "문자열의 산술 연산: `+,*`"
      ]
    },
    {
      "cell_type": "code",
      "metadata": {
        "colab": {
          "base_uri": "https://localhost:8080/",
          "height": 36
        },
        "id": "cKH8D-th3ezt",
        "outputId": "394894d3-8344-4864-d1e0-5377c2fac6de"
      },
      "source": [
        "'Hello'+'Python' # +: concatenate"
      ],
      "execution_count": null,
      "outputs": [
        {
          "output_type": "execute_result",
          "data": {
            "application/vnd.google.colaboratory.intrinsic+json": {
              "type": "string"
            },
            "text/plain": [
              "'HelloPython'"
            ]
          },
          "metadata": {
            "tags": []
          },
          "execution_count": 25
        }
      ]
    },
    {
      "cell_type": "code",
      "metadata": {
        "colab": {
          "base_uri": "https://localhost:8080/",
          "height": 36
        },
        "id": "IeswwSk43k2m",
        "outputId": "cad84a88-8fff-44c4-ea99-a766db0aefbc"
      },
      "source": [
        "'Hello'*3 # *: replicate"
      ],
      "execution_count": null,
      "outputs": [
        {
          "output_type": "execute_result",
          "data": {
            "application/vnd.google.colaboratory.intrinsic+json": {
              "type": "string"
            },
            "text/plain": [
              "'HelloHelloHello'"
            ]
          },
          "metadata": {
            "tags": []
          },
          "execution_count": 26
        }
      ]
    },
    {
      "cell_type": "markdown",
      "metadata": {
        "id": "ErTzU-e732yJ"
      },
      "source": [
        "list의 산술 연산: `+,*`"
      ]
    },
    {
      "cell_type": "code",
      "metadata": {
        "colab": {
          "base_uri": "https://localhost:8080/"
        },
        "id": "_rvty-C536FV",
        "outputId": "7d1e86b8-1179-4610-fb44-29dd3685a7e6"
      },
      "source": [
        "[1,2,3] + [10,20,30] #+ : concatenate (이어 붙이기)\n"
      ],
      "execution_count": null,
      "outputs": [
        {
          "output_type": "execute_result",
          "data": {
            "text/plain": [
              "[1, 2, 3, 10, 20, 30]"
            ]
          },
          "metadata": {
            "tags": []
          },
          "execution_count": 29
        }
      ]
    },
    {
      "cell_type": "code",
      "metadata": {
        "colab": {
          "base_uri": "https://localhost:8080/"
        },
        "id": "y2rO_XZL4N8w",
        "outputId": "313998c4-cb40-4849-85cc-64a1a735af81"
      },
      "source": [
        "[1,2,3] * 3 # *: replicate(복제하기)"
      ],
      "execution_count": null,
      "outputs": [
        {
          "output_type": "execute_result",
          "data": {
            "text/plain": [
              "[1, 2, 3, 1, 2, 3, 1, 2, 3]"
            ]
          },
          "metadata": {
            "tags": []
          },
          "execution_count": 30
        }
      ]
    },
    {
      "cell_type": "markdown",
      "metadata": {
        "id": "CrWQ-Z7T42g1"
      },
      "source": [
        "# list의 매서드(함수) - 기능 "
      ]
    },
    {
      "cell_type": "markdown",
      "metadata": {
        "id": "9beEoK0Y5QwG"
      },
      "source": [
        "## element(원소,요소) 추가 "
      ]
    },
    {
      "cell_type": "code",
      "metadata": {
        "colab": {
          "base_uri": "https://localhost:8080/"
        },
        "id": "-cNmMYxW5El4",
        "outputId": "dba696a5-878c-41c0-f488-46b12981aa48"
      },
      "source": [
        "# list.append(값) : 리스트의 가장 마지막에 새로운 원소를 추가.\n",
        "print(numbers)\n",
        "numbers.append(0,3) #새로운 원소추가"
      ],
      "execution_count": null,
      "outputs": [
        {
          "output_type": "stream",
          "text": [
            "[10, 123, 20, 100, 90, 80, 0, 0, 1, 2, 3, 1, 2, 3, [0], [0], 1, 2, 3, 0, (0, 3)]\n"
          ],
          "name": "stdout"
        }
      ]
    },
    {
      "cell_type": "code",
      "metadata": {
        "colab": {
          "base_uri": "https://localhost:8080/"
        },
        "id": "bVFkfiHz_H84",
        "outputId": "85feee35-a8df-4a1d-ac56-90da211f5602"
      },
      "source": [
        "#list.insert(index,object): list의 index위치에 object(값)을 추가(삽입)\n",
        "print(numbers) # insert 전\n",
        "numbers.insert(1,123) # index 1 위치에 123을 추가\n",
        "print(numbers) # insert 후"
      ],
      "execution_count": null,
      "outputs": [
        {
          "output_type": "stream",
          "text": [
            "[10, 20, 100, 90, 80, 0, 0]\n",
            "[10, 123, 20, 100, 90, 80, 0, 0]\n"
          ],
          "name": "stdout"
        }
      ]
    },
    {
      "cell_type": "code",
      "metadata": {
        "colab": {
          "base_uri": "https://localhost:8080/"
        },
        "id": "utEWH4G-_yvF",
        "outputId": "6ddb7e75-a900-453e-de62-4c0380622a4c"
      },
      "source": [
        "# list.extend(iterable): 리스트 이어 붙이기(concatenate). + 연산과 동일.\n",
        "print(numbers) # extend 전\n",
        "numbers.extend([1,2,3]) # numbers + [1,2,3]\n",
        "print(numbers) "
      ],
      "execution_count": null,
      "outputs": [
        {
          "output_type": "stream",
          "text": [
            "[10, 123, 20, 100, 90, 80, 0, 0, 1, 2, 3, 1, 2, 3, [0], [0]]\n",
            "[10, 123, 20, 100, 90, 80, 0, 0, 1, 2, 3, 1, 2, 3, [0], [0], 1, 2, 3]\n"
          ],
          "name": "stdout"
        }
      ]
    },
    {
      "cell_type": "markdown",
      "metadata": {
        "id": "WiapoRz_BcAx"
      },
      "source": [
        "## element 삭제"
      ]
    },
    {
      "cell_type": "code",
      "metadata": {
        "colab": {
          "base_uri": "https://localhost:8080/"
        },
        "id": "adzfPqNPAoCn",
        "outputId": "25eee737-dc2d-41df-a4cd-80da02212a80"
      },
      "source": [
        "# list.remove(값): 리스트에서 가장 먼저 등장하는 값으로 삭제\n",
        "numbers = [1,2,3,1,2,10,20]\n",
        "print(numbers)\n",
        "numbers.remove(1)\n",
        "print(numbers)"
      ],
      "execution_count": null,
      "outputs": [
        {
          "output_type": "stream",
          "text": [
            "[1, 2, 3, 1, 2, 10, 20]\n",
            "[2, 3, 1, 2, 10, 20]\n"
          ],
          "name": "stdout"
        }
      ]
    },
    {
      "cell_type": "code",
      "metadata": {
        "colab": {
          "base_uri": "https://localhost:8080/"
        },
        "id": "pj5qpKBMCdLT",
        "outputId": "4ef72d61-6332-4b03-83fd-0080f4beee16"
      },
      "source": [
        "# list.pop(index): 인덱스 위치의 원소를 삭제.index를 생략하면 가장 마지막 원소를 삭제\n",
        "numbers = [1,2,3,1,2,10,20]\n",
        "print(numbers) # 삭제전\n",
        "numbers.pop(1) # index 1 위치의 값을 삭제\n",
        "print(numbers) # 삭제후\n",
        "numbers.pop() # 가장 마지막 원소 삭제\n",
        "print(numbers)"
      ],
      "execution_count": null,
      "outputs": [
        {
          "output_type": "stream",
          "text": [
            "[1, 2, 3, 1, 2, 10, 20]\n",
            "[1, 3, 1, 2, 10, 20]\n",
            "[1, 3, 1, 2, 10]\n"
          ],
          "name": "stdout"
        }
      ]
    },
    {
      "cell_type": "code",
      "metadata": {
        "colab": {
          "base_uri": "https://localhost:8080/"
        },
        "id": "iX1kKySiDWhs",
        "outputId": "f7cd84a3-2b80-4872-d0ed-6f6bde8ff48e"
      },
      "source": [
        "# list.clear(): 리스트의 모든 원소 삭제\n",
        "numbers = [1,2,3,1,2,10,20]\n",
        "print(numbers) # 삭제전\n",
        "numbers.clear() # 모든 원소 삭제\n",
        "print(numbers) # 삭제후 -> empty list"
      ],
      "execution_count": null,
      "outputs": [
        {
          "output_type": "stream",
          "text": [
            "[1, 2, 3, 1, 2, 10, 20]\n",
            "[]\n"
          ],
          "name": "stdout"
        }
      ]
    },
    {
      "cell_type": "code",
      "metadata": {
        "id": "FY65S9UhDmCc"
      },
      "source": [
        ""
      ],
      "execution_count": null,
      "outputs": []
    },
    {
      "cell_type": "markdown",
      "metadata": {
        "id": "407RMkn3Dyxt"
      },
      "source": [
        "## 리스트의 값 수정 "
      ]
    },
    {
      "cell_type": "code",
      "metadata": {
        "colab": {
          "base_uri": "https://localhost:8080/"
        },
        "id": "N6EjjX2ID5Af",
        "outputId": "ef36c461-4460-4ba2-83ab-b8ab0dd9b2d8"
      },
      "source": [
        "# list[index] = value\n",
        "numbers=[1,2,3,4,5]\n",
        "print(numbers)\n",
        "numbers[0]= 100\n",
        "print(numbers)"
      ],
      "execution_count": null,
      "outputs": [
        {
          "output_type": "stream",
          "text": [
            "[1, 2, 3, 4, 5]\n",
            "[100, 2, 3, 4, 5]\n"
          ],
          "name": "stdout"
        }
      ]
    },
    {
      "cell_type": "markdown",
      "metadata": {
        "id": "4QrlStddEnaP"
      },
      "source": [
        "# list 와 for 반복문"
      ]
    },
    {
      "cell_type": "code",
      "metadata": {
        "colab": {
          "base_uri": "https://localhost:8080/"
        },
        "id": "1Q2Ss1-GE7Cz",
        "outputId": "43703a82-b1d2-40fc-8f18-b2a678e37455"
      },
      "source": [
        "numbers= [1,10,100,1000]\n",
        "# 리스트에서 값만 반복(iteration)\n",
        "for x in numbers:\n",
        "  print(x)\n"
      ],
      "execution_count": null,
      "outputs": [
        {
          "output_type": "stream",
          "text": [
            "1\n",
            "10\n",
            "100\n",
            "1000\n"
          ],
          "name": "stdout"
        }
      ]
    },
    {
      "cell_type": "code",
      "metadata": {
        "colab": {
          "base_uri": "https://localhost:8080/"
        },
        "id": "JtSCtoKQGE0e",
        "outputId": "20f00355-2fde-4aaa-98cd-8332ea135c11"
      },
      "source": [
        "# 리스트의 인덱스와 값을 동시에 반복(iteration)\n",
        "for index, value in enumerate(numbers):\n",
        "  print(index +1,'번째',value)\n",
        "for x, y in enumerate(numbers):\n",
        "  print(x +1,'번째',y)  "
      ],
      "execution_count": null,
      "outputs": [
        {
          "output_type": "stream",
          "text": [
            "1 번째 1\n",
            "2 번째 10\n",
            "3 번째 100\n",
            "4 번째 1000\n",
            "1 번째 1\n",
            "2 번째 10\n",
            "3 번째 100\n",
            "4 번째 1000\n"
          ],
          "name": "stdout"
        }
      ]
    },
    {
      "cell_type": "code",
      "metadata": {
        "id": "d3UMaingpuc1"
      },
      "source": [
        "import random # 난수 생성 함수들을 가지고 있는 모듈"
      ],
      "execution_count": 2,
      "outputs": []
    },
    {
      "cell_type": "markdown",
      "metadata": {
        "id": "0OUOKTa8D4qI"
      },
      "source": [
        "1. 빈 리스트(empty list) 생성"
      ]
    },
    {
      "cell_type": "code",
      "metadata": {
        "id": "rkgMBB4DqQyq"
      },
      "source": [
        "numbers=[] # empty list\n"
      ],
      "execution_count": 11,
      "outputs": []
    },
    {
      "cell_type": "markdown",
      "metadata": {
        "id": "5NpVqWySp7X_"
      },
      "source": [
        "2. 1에서 생성한 빈 리스트에 1~10 사이의 정수 난수 5개를 저장\n"
      ]
    },
    {
      "cell_type": "code",
      "metadata": {
        "colab": {
          "base_uri": "https://localhost:8080/"
        },
        "id": "yLgsC2u-qAFF",
        "outputId": "10720734-95e5-4b1a-a4a0-a07b6a3276e3"
      },
      "source": [
        "random.seed(1) # 난수가 만들어지는 순서를 고정.\n",
        "\n",
        "for i in range(5):\n",
        "  numbers.append(random.randrange(1,11))\n",
        "print(numbers)  "
      ],
      "execution_count": 12,
      "outputs": [
        {
          "output_type": "stream",
          "text": [
            "[3, 10, 2, 5, 2]\n"
          ],
          "name": "stdout"
        }
      ]
    },
    {
      "cell_type": "markdown",
      "metadata": {
        "id": "nqRxRxd6qyD9"
      },
      "source": [
        "3. 리스트에 저장된 모든 숫자들의 합(sum)을 계산하고 출력"
      ]
    },
    {
      "cell_type": "code",
      "metadata": {
        "colab": {
          "base_uri": "https://localhost:8080/"
        },
        "id": "XPXOqkxyrW-J",
        "outputId": "6047f846-6398-4c3f-eca0-68fd44342128"
      },
      "source": [
        "total= sum(numbers)\n",
        "print(total)"
      ],
      "execution_count": 16,
      "outputs": [
        {
          "output_type": "stream",
          "text": [
            "22\n"
          ],
          "name": "stdout"
        }
      ]
    },
    {
      "cell_type": "code",
      "metadata": {
        "colab": {
          "base_uri": "https://localhost:8080/"
        },
        "id": "lA3gF4jqsMKS",
        "outputId": "962654ac-e615-4cca-a564-507f7e5e5fa3"
      },
      "source": [
        "total= 0\n",
        "for i in numbers:\n",
        "   total += i\n",
        "print('total=',total)"
      ],
      "execution_count": 27,
      "outputs": [
        {
          "output_type": "stream",
          "text": [
            "total= 22\n"
          ],
          "name": "stdout"
        }
      ]
    },
    {
      "cell_type": "markdown",
      "metadata": {
        "id": "K-sWaoNvq1vX"
      },
      "source": [
        "4. 리스트에 저장된 모든 숫자들의 평균을 계산하고 출력"
      ]
    },
    {
      "cell_type": "code",
      "metadata": {
        "colab": {
          "base_uri": "https://localhost:8080/"
        },
        "id": "QNoY6GO6sEBC",
        "outputId": "d67286af-fa78-44a1-b339-d1e96d23c965"
      },
      "source": [
        "# len(반복 가능한 타입): 원소의 개수를 반환 \n",
        "avg= total/ len(numbers)\n",
        "print('average=',avg)"
      ],
      "execution_count": 24,
      "outputs": [
        {
          "output_type": "stream",
          "text": [
            "average= 4.4\n"
          ],
          "name": "stdout"
        }
      ]
    }
  ]
}