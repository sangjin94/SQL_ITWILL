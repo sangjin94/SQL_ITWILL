{
  "nbformat": 4,
  "nbformat_minor": 0,
  "metadata": {
    "colab": {
      "name": "py13_try.ipynb",
      "provenance": [],
      "collapsed_sections": [],
      "authorship_tag": "ABX9TyNs/4k73Vl7KNtIajLwdlYn",
      "include_colab_link": true
    },
    "kernelspec": {
      "name": "python3",
      "display_name": "Python 3"
    },
    "language_info": {
      "name": "python"
    }
  },
  "cells": [
    {
      "cell_type": "markdown",
      "metadata": {
        "id": "view-in-github",
        "colab_type": "text"
      },
      "source": [
        "<a href=\"https://colab.research.google.com/github/sangjin94/SQL_ITWILL/blob/main/py13_try.ipynb\" target=\"_parent\"><img src=\"https://colab.research.google.com/assets/colab-badge.svg\" alt=\"Open In Colab\"/></a>"
      ]
    },
    {
      "cell_type": "markdown",
      "metadata": {
        "id": "h0o-ipKihx7M"
      },
      "source": [
        "# 예외(exception), 오류(Error) 종류"
      ]
    },
    {
      "cell_type": "code",
      "metadata": {
        "id": "GbZMgxujhzQb"
      },
      "source": [
        "# prnit('Hello')  #> NameError: 사용하려는 함수 또는 변수 이름이 정의되지 않은 경우\n",
        "print('Hello')"
      ],
      "execution_count": null,
      "outputs": []
    },
    {
      "cell_type": "code",
      "metadata": {
        "id": "EbCCLMnKh9S4"
      },
      "source": [
        "# x += 1 #> NameError\n",
        "x = 0\n",
        "x += 1"
      ],
      "execution_count": null,
      "outputs": []
    },
    {
      "cell_type": "code",
      "metadata": {
        "id": "kzbbnCSEiRkn"
      },
      "source": [
        "# x= int('100.') #ValueError : 잘못된 값이 사용된 경우( 함수 argument로 전달된 경우)\n",
        "x= int('100')"
      ],
      "execution_count": 4,
      "outputs": []
    },
    {
      "cell_type": "code",
      "metadata": {
        "colab": {
          "base_uri": "https://localhost:8080/",
          "height": 36
        },
        "id": "POFXYEVGjSRa",
        "outputId": "73bc40ee-f33d-4e87-bc7b-a3d4d98e4796"
      },
      "source": [
        "# 100+ '200' #> TypeError : 잘못된 타입의 값이 사용된 경우 \n",
        "100 +200 \n",
        "'100' + '200'  "
      ],
      "execution_count": 7,
      "outputs": [
        {
          "output_type": "execute_result",
          "data": {
            "application/vnd.google.colaboratory.intrinsic+json": {
              "type": "string"
            },
            "text/plain": [
              "'100200'"
            ]
          },
          "metadata": {
            "tags": []
          },
          "execution_count": 7
        }
      ]
    },
    {
      "cell_type": "code",
      "metadata": {
        "colab": {
          "base_uri": "https://localhost:8080/"
        },
        "id": "w8cC4FbWlAoG",
        "outputId": "8c3913d5-c14a-4b64-92ba-48590fcea12f"
      },
      "source": [
        "numbers=[1,2,3]\n",
        "#print(numbers[3]) #> indexError: 리스트의 인덱스가 범위를 벗어나는경우\n",
        "print(numbers[2])\n"
      ],
      "execution_count": 8,
      "outputs": [
        {
          "output_type": "stream",
          "text": [
            "3\n"
          ],
          "name": "stdout"
        }
      ]
    },
    {
      "cell_type": "code",
      "metadata": {
        "colab": {
          "base_uri": "https://localhost:8080/"
        },
        "id": "kOqx-sh_lPoZ",
        "outputId": "d3316206-cb28-49e0-9bb0-42b4fc7c7747"
      },
      "source": [
        "# 123/0 #> ZeroDivisionError: 0으로 나누려고 할 때\n",
        "123/ 0.001"
      ],
      "execution_count": 9,
      "outputs": [
        {
          "output_type": "execute_result",
          "data": {
            "text/plain": [
              "123000.0"
            ]
          },
          "metadata": {
            "tags": []
          },
          "execution_count": 9
        }
      ]
    },
    {
      "cell_type": "markdown",
      "metadata": {
        "id": "u_kNQyILo0n-"
      },
      "source": [
        "# try-except 구문"
      ]
    },
    {
      "cell_type": "markdown",
      "metadata": {
        "id": "2S8UeQZQpTUt"
      },
      "source": [
        "프로그램 실행 중에 오류(예외)가 발생하는 경우 해결 방법:\n",
        "\n",
        "*  예외가 발생한 위치와 원인을 파악해서 예외가 발생하지 않도록 코드 수정.\n",
        "*  오류가 발생하더라도 프로그램이 종료되지 않고 계속 실행될 수 있도록 처리.\n",
        "\n",
        "```\n",
        "try:\n",
        "  실행할 코드들(블록)\n",
        "excetp [에러이름 [as 별명]]:\n",
        "  에러가 발생했을 때 실행할 문장들(블록)\n",
        "[else:\n",
        "  try 블록이 에러없이 정상적으로 모두 실행됬을 때 실행할 문장들]\n",
        "[finally:\n",
        " try 블록 실행중에 에러 발생 여부와 상관없이 항상 실행할 문장들]\n",
        "```\n",
        "\n"
      ]
    },
    {
      "cell_type": "code",
      "metadata": {
        "id": "V_LJMhOxxT5R"
      },
      "source": [
        "try:\n",
        "  x = float(input('숫자 x 입력>>>'))\n",
        "  y = float(input('숫자 y 입력>>>'))\n",
        "  print(f'{x} + {y} = {x+y}')\n",
        "  print(f'{x} - {y} = {x-y}')\n",
        "  print(f'{x} x {y} = {x*y}')\n",
        "  print(f'{x} / {y} = {x/y}')\n",
        "except :  # 모든 에러를 처리\n",
        "  print('오류발생')"
      ],
      "execution_count": null,
      "outputs": []
    },
    {
      "cell_type": "code",
      "metadata": {
        "id": "NgJ43Oj_FVu6"
      },
      "source": [
        "try:\n",
        "  x = float(input('숫자 x 입력>>>'))\n",
        "  y = float(input('숫자 y 입력>>>'))\n",
        "  print(f'{x} + {y} = {x+y}')\n",
        "  print(f'{x} - {y} = {x-y}')\n",
        "  print(f'{x} x {y} = {x*y}')\n",
        "  print(f'{x} / {y} = {x/y}')\n",
        "except ValueError: # ValueError 오류만 처리\n",
        "  print('ValueError가 발생!')"
      ],
      "execution_count": null,
      "outputs": []
    },
    {
      "cell_type": "code",
      "metadata": {
        "colab": {
          "base_uri": "https://localhost:8080/"
        },
        "id": "r8Lzo3iTrEYV",
        "outputId": "4457ddc0-fa1a-4c72-8428-d680f4f4a24d"
      },
      "source": [
        "try:\n",
        "  x = float(input('숫자 x 입력>>>'))\n",
        "  y = float(input('숫자 y 입력>>>'))\n",
        "  print(f'{x} + {y} = {x+y}')\n",
        "  print(f'{x} - {y} = {x-y}')\n",
        "  print(f'{x} x {y} = {x*y}')\n",
        "  print(f'{x} / {y} = {x/y}')\n",
        "except ValueError:\n",
        "  print('입력값은 숫자여야 합니다!')\n",
        "except ZeroDivisionError:\n",
        "  print('0으로는 나눌 수 없습니다.')"
      ],
      "execution_count": 16,
      "outputs": [
        {
          "output_type": "stream",
          "text": [
            "숫자 x 입력>>>3\n",
            "숫자 y 입력>>>0\n",
            "3.0 + 0.0 = 3.0\n",
            "3.0 - 0.0 = 3.0\n",
            "3.0 x 0.0 = 0.0\n",
            "0으로는 나눌 수 없습니다.\n"
          ],
          "name": "stdout"
        }
      ]
    },
    {
      "cell_type": "code",
      "metadata": {
        "colab": {
          "base_uri": "https://localhost:8080/"
        },
        "id": "eMjeUk-eGd9h",
        "outputId": "d2af1692-98fa-46c9-aed0-48879a234980"
      },
      "source": [
        "try: \n",
        "  n= int(input('정수입력>>>'))\n",
        "  print('n=',n)\n",
        "  print('[1] try 구문 끝')\n",
        "except ValueError as e: # ValueError가 발생했을 때 \n",
        "  print('[2]',e)\n",
        "else:  # 오류가 발생하지 않았을 때\n",
        "  print('[3] try에서 에러가 발생하지않은 경우')\n",
        "finally: # 항상\n",
        "  print('[4] finally')"
      ],
      "execution_count": 19,
      "outputs": [
        {
          "output_type": "stream",
          "text": [
            "정수입력>>>ㅗ\n",
            "[2] invalid literal for int() with base 10: 'ㅗ'\n",
            "[4] finally\n"
          ],
          "name": "stdout"
        }
      ]
    },
    {
      "cell_type": "markdown",
      "metadata": {
        "id": "rwHgP0lKJCy5"
      },
      "source": [
        "# try-except 응용"
      ]
    },
    {
      "cell_type": "markdown",
      "metadata": {
        "id": "3PKzSeNNJLkv"
      },
      "source": [
        "word counting "
      ]
    },
    {
      "cell_type": "code",
      "metadata": {
        "colab": {
          "base_uri": "https://localhost:8080/"
        },
        "id": "EiqVoxLuJGg_",
        "outputId": "e1e6acfe-8eb8-4b39-ebba-88e4ca03f20d"
      },
      "source": [
        "words=['one','two','two','three','three','three']\n",
        "word_counts={} #empty dict\n",
        "for w in words:\n",
        "  try:\n",
        "   word_counts[w] += 1 # word_counts[w] = word_counts[w] +1\n",
        "  except:\n",
        "   word_counts[w] = 1\n",
        "word_counts  "
      ],
      "execution_count": 24,
      "outputs": [
        {
          "output_type": "execute_result",
          "data": {
            "text/plain": [
              "{'one': 1, 'three': 3, 'two': 2}"
            ]
          },
          "metadata": {
            "tags": []
          },
          "execution_count": 24
        }
      ]
    },
    {
      "cell_type": "markdown",
      "metadata": {
        "id": "jzJfEN-sK4iG"
      },
      "source": [
        "정수를 입력받고 변수에 저장, 출력"
      ]
    },
    {
      "cell_type": "code",
      "metadata": {
        "colab": {
          "base_uri": "https://localhost:8080/"
        },
        "id": "F6uaJTcYLIZn",
        "outputId": "8f1f8291-c0f1-4200-eae4-fe878074854b"
      },
      "source": [
        "while True: # 무한 반복문\n",
        "  try:\n",
        "    n= int(input('정수 입력>>>'))\n",
        "    print('n=',n)\n",
        "    break # while 반복문 종료\n",
        "  except:\n",
        "    print('입력값은 정수여야 합니다!') \n",
        "    10\n",
        "    "
      ],
      "execution_count": 30,
      "outputs": [
        {
          "output_type": "stream",
          "text": [
            "입력값은 정수여야 합니다!\n",
            "입력값은 정수여야 합니다!\n",
            "정수 입력>>>10\n",
            "n= 10\n",
            "정수 입력>>>10\n",
            "정수 입력>>>10\n"
          ],
          "name": "stdout"
        }
      ]
    },
    {
      "cell_type": "code",
      "metadata": {
        "colab": {
          "base_uri": "https://localhost:8080/"
        },
        "id": "8SfVjHdOOqxp",
        "outputId": "25f16885-4944-41c2-de27-3c0391f8a918"
      },
      "source": [
        "while True: # 무한 반복문\n",
        "  try:\n",
        "    n= int(input('정수 입력>>>'))\n",
        "  except:  # 에러가 발생한 경우\n",
        "    print('입력값은 정수여야 합니다!') \n",
        "  else: # 에러가 발생하지 않은 경우\n",
        "    print('n=',n)\n",
        "    break # 무한 반복문 종료  "
      ],
      "execution_count": 31,
      "outputs": [
        {
          "output_type": "stream",
          "text": [
            "정수 입력>>>10\n",
            "n= 10\n"
          ],
          "name": "stdout"
        }
      ]
    },
    {
      "cell_type": "markdown",
      "metadata": {
        "id": "u1_pKDlqSeJ1"
      },
      "source": [
        "# 사용자 정의 에러 생성"
      ]
    },
    {
      "cell_type": "code",
      "metadata": {
        "colab": {
          "base_uri": "https://localhost:8080/"
        },
        "id": "a9m59dcKSg8h",
        "outputId": "03392e35-a544-46a9-d9bf-65df6afd50db"
      },
      "source": [
        "try: \n",
        "  age = int(input('나이 입력>>>'))\n",
        "  if age < 0: #입력받은 값이 0보다 작으면 \n",
        "    raise ValueError('나이는 0보다 크거나 같아야 합니다!')\n",
        "  print('나이=',age)\n",
        "except ValueError as e:\n",
        "  print(e)"
      ],
      "execution_count": 38,
      "outputs": [
        {
          "output_type": "stream",
          "text": [
            "나이 입력>>>-2\n",
            "나이는 0보다 크거나 같아야 합니다!\n"
          ],
          "name": "stdout"
        }
      ]
    }
  ]
}