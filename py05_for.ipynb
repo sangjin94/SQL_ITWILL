{
  "nbformat": 4,
  "nbformat_minor": 0,
  "metadata": {
    "colab": {
      "name": "py05_for.ipynb",
      "provenance": [],
      "collapsed_sections": [],
      "authorship_tag": "ABX9TyMdXIAw88k7+1fzzO18GTw0",
      "include_colab_link": true
    },
    "kernelspec": {
      "name": "python3",
      "display_name": "Python 3"
    },
    "language_info": {
      "name": "python"
    }
  },
  "cells": [
    {
      "cell_type": "markdown",
      "metadata": {
        "id": "view-in-github",
        "colab_type": "text"
      },
      "source": [
        "<a href=\"https://colab.research.google.com/github/sangjin94/SQL_ITWILL/blob/main/py05_for.ipynb\" target=\"_parent\"><img src=\"https://colab.research.google.com/assets/colab-badge.svg\" alt=\"Open In Colab\"/></a>"
      ]
    },
    {
      "cell_type": "markdown",
      "metadata": {
        "id": "oETs7bqELNP8"
      },
      "source": [
        "**for 반복문**\n",
        "\n",
        "\n",
        "\n",
        "```\n",
        "for 변수 in iterable-type:\n",
        "    반복해서 실행할 블록(문장들)\n",
        "```\n",
        "\n",
        "*    iterable-type: 반복 가능한 데이터 타입.\n",
        "    * range,list,tuple,dict,set,str,...\n"
      ]
    },
    {
      "cell_type": "code",
      "metadata": {
        "colab": {
          "base_uri": "https://localhost:8080/"
        },
        "id": "uvJGA1giK9Em",
        "outputId": "272f2ed2-86e0-43c8-ebc1-b27dfc4d390d"
      },
      "source": [
        "# range(start,stop,step) : start<= x < stop 범위의 step만큼 씩 증가하는 정수들을 생성.\n",
        "for x in range(1,5,1):\n",
        "  print(x)"
      ],
      "execution_count": null,
      "outputs": [
        {
          "output_type": "stream",
          "text": [
            "1\n",
            "2\n",
            "3\n",
            "4\n"
          ],
          "name": "stdout"
        }
      ]
    },
    {
      "cell_type": "code",
      "metadata": {
        "colab": {
          "base_uri": "https://localhost:8080/"
        },
        "id": "im7SAod9MFAU",
        "outputId": "422df3ed-2dba-4629-e024-a98d9210815c"
      },
      "source": [
        "# range(start,stop): start<= x < stop 범위의 1씩 증가하는 정수들을 생성.\n",
        "for x in range(0,5):\n",
        "  print(x)"
      ],
      "execution_count": null,
      "outputs": [
        {
          "output_type": "stream",
          "text": [
            "0\n",
            "1\n",
            "2\n",
            "3\n",
            "4\n"
          ],
          "name": "stdout"
        }
      ]
    },
    {
      "cell_type": "code",
      "metadata": {
        "colab": {
          "base_uri": "https://localhost:8080/"
        },
        "id": "5TkVUmBrNvTe",
        "outputId": "400f3c4f-5de4-4e28-9ffb-240ed7260cee"
      },
      "source": [
        "# range(stop): 0<= x < stop 범위의 1씩 증가하는 정수들을 생성. \n",
        "for x in range(5):\n",
        "  print(x)"
      ],
      "execution_count": null,
      "outputs": [
        {
          "output_type": "stream",
          "text": [
            "0\n",
            "1\n",
            "2\n",
            "3\n",
            "4\n"
          ],
          "name": "stdout"
        }
      ]
    },
    {
      "cell_type": "code",
      "metadata": {
        "colab": {
          "base_uri": "https://localhost:8080/"
        },
        "id": "YYKsCHiXPiR5",
        "outputId": "ab42ccbd-e957-45f3-a053-fb1016d837f0"
      },
      "source": [
        "# range(start,stop,step): start >= x > stop 범위의 step 만큼씩 감소하는 정수들을 생성.\n",
        "for x in range(5,0,-1):\n",
        "  print(x)"
      ],
      "execution_count": null,
      "outputs": [
        {
          "output_type": "stream",
          "text": [
            "5\n",
            "4\n",
            "3\n",
            "2\n",
            "1\n"
          ],
          "name": "stdout"
        }
      ]
    },
    {
      "cell_type": "markdown",
      "metadata": {
        "id": "9qdYClSyQ7B4"
      },
      "source": [
        "문자열(string): 문자들의 집합(순서가 있는 배열). --> 반복가능한 (iterable)\n",
        "데이터 타입"
      ]
    },
    {
      "cell_type": "code",
      "metadata": {
        "colab": {
          "base_uri": "https://localhost:8080/"
        },
        "id": "vlCfue6dRQan",
        "outputId": "d20f1c53-b90f-48ea-9c16-741f42864736"
      },
      "source": [
        "msg= '안녕하세요'\n",
        "for x in msg:\n",
        "  print(x)"
      ],
      "execution_count": null,
      "outputs": [
        {
          "output_type": "stream",
          "text": [
            "안\n",
            "녕\n",
            "하\n",
            "세\n",
            "요\n"
          ],
          "name": "stdout"
        }
      ]
    },
    {
      "cell_type": "markdown",
      "metadata": {
        "id": "50q23hGVSRp8"
      },
      "source": [
        "0 이상 10미만의 짝수들을 출력\n"
      ]
    },
    {
      "cell_type": "code",
      "metadata": {
        "colab": {
          "base_uri": "https://localhost:8080/"
        },
        "id": "-ySeZ-N3SVmN",
        "outputId": "325c730f-fe7c-4c8b-97de-f3d6594e7638"
      },
      "source": [
        "for x in range(0,10,2):\n",
        "  print(x)"
      ],
      "execution_count": null,
      "outputs": [
        {
          "output_type": "stream",
          "text": [
            "0\n",
            "2\n",
            "4\n",
            "6\n",
            "8\n"
          ],
          "name": "stdout"
        }
      ]
    },
    {
      "cell_type": "code",
      "metadata": {
        "colab": {
          "base_uri": "https://localhost:8080/"
        },
        "id": "BuMOMSK-UEXH",
        "outputId": "1aaaff79-9d04-469c-bb47-33b755438168"
      },
      "source": [
        "for n in range(10): # (0,1,2,3,4,5,6,7,8,9)\n",
        "  if n %2==0: # n을 2로 나눈 나머지가 0이면 (n이 짝수이면)\n",
        "    print(n)"
      ],
      "execution_count": null,
      "outputs": [
        {
          "output_type": "stream",
          "text": [
            "0\n",
            "2\n",
            "4\n",
            "6\n",
            "8\n"
          ],
          "name": "stdout"
        }
      ]
    },
    {
      "cell_type": "code",
      "metadata": {
        "colab": {
          "base_uri": "https://localhost:8080/"
        },
        "id": "fJ0ahsrPYs7o",
        "outputId": "5a38a136-0cf6-482f-f717-6a0522a6f625"
      },
      "source": [
        "for n in range(1,6):\n",
        "  print('*'*n)\n"
      ],
      "execution_count": null,
      "outputs": [
        {
          "output_type": "stream",
          "text": [
            "*\n",
            "**\n",
            "***\n",
            "****\n",
            "*****\n"
          ],
          "name": "stdout"
        }
      ]
    },
    {
      "cell_type": "code",
      "metadata": {
        "colab": {
          "base_uri": "https://localhost:8080/"
        },
        "id": "jdHPIJLubhl6",
        "outputId": "b1d624fc-0acf-4ff2-bb71-10f0ca858153"
      },
      "source": [
        "for i in range(1,10):\n",
        "  if i<6:\n",
        "    print('*'*i)\n",
        "  else:\n",
        "    print('*'*( 10 - i))"
      ],
      "execution_count": null,
      "outputs": [
        {
          "output_type": "stream",
          "text": [
            "*\n",
            "**\n",
            "***\n",
            "****\n",
            "*****\n",
            "****\n",
            "***\n",
            "**\n",
            "*\n"
          ],
          "name": "stdout"
        }
      ]
    },
    {
      "cell_type": "code",
      "metadata": {
        "colab": {
          "base_uri": "https://localhost:8080/"
        },
        "id": "tzpeZeruZwfr",
        "outputId": "b42299c7-9d26-4d4b-e2d6-693c8000beed"
      },
      "source": [
        "for n in range(1,6):\n",
        "  print('*'*n)\n",
        "for n in range(4,0,-1):\n",
        "  print('*'*n)"
      ],
      "execution_count": null,
      "outputs": [
        {
          "output_type": "stream",
          "text": [
            "*\n",
            "**\n",
            "***\n",
            "****\n",
            "*****\n",
            "****\n",
            "***\n",
            "**\n",
            "*\n"
          ],
          "name": "stdout"
        }
      ]
    },
    {
      "cell_type": "code",
      "metadata": {
        "colab": {
          "base_uri": "https://localhost:8080/"
        },
        "id": "s3e5DZBBf0KV",
        "outputId": "d5b380e9-b287-4f10-815e-0086d4f3a8a3"
      },
      "source": [
        "# abs(x): x의 절대 값을 반환\n",
        "for n in range(-4,5,1):\n",
        "  i= abs(n)\n",
        "  print(\"*\"*(5-i))\n"
      ],
      "execution_count": null,
      "outputs": [
        {
          "output_type": "stream",
          "text": [
            "*\n",
            "**\n",
            "***\n",
            "****\n",
            "*****\n",
            "****\n",
            "***\n",
            "**\n",
            "*\n"
          ],
          "name": "stdout"
        }
      ]
    },
    {
      "cell_type": "markdown",
      "metadata": {
        "id": "kboi6rgeiPgH"
      },
      "source": [
        "다음과 같이 구구단을 출력하는 코드를 작성하세요."
      ]
    },
    {
      "cell_type": "code",
      "metadata": {
        "colab": {
          "base_uri": "https://localhost:8080/"
        },
        "id": "ZjHevEN-huun",
        "outputId": "7a11b573-e8cb-4746-f1b2-11f62bd09804"
      },
      "source": [
        "for n in range(1,13):\n",
        " # print('12 x',n,'=',12*n) 도 가능\n",
        "    print(f'12 x {n}= {12*n}')\n",
        "    "
      ],
      "execution_count": null,
      "outputs": [
        {
          "output_type": "stream",
          "text": [
            "12 x 1= 12\n",
            "12 x 2= 24\n",
            "12 x 3= 36\n",
            "12 x 4= 48\n",
            "12 x 5= 60\n",
            "12 x 6= 72\n",
            "12 x 7= 84\n",
            "12 x 8= 96\n",
            "12 x 9= 108\n",
            "12 x 10= 120\n",
            "12 x 11= 132\n",
            "12 x 12= 144\n"
          ],
          "name": "stdout"
        }
      ]
    },
    {
      "cell_type": "markdown",
      "metadata": {
        "id": "1AswoLRloxtg"
      },
      "source": [
        "ctrl + /  커서가 있는 한 줄 또는 선택된 영역을 주석 토글(toggle)"
      ]
    },
    {
      "cell_type": "markdown",
      "metadata": {
        "id": "KYRDwkH5pNO-"
      },
      "source": [
        "**중첩 반복문(Nested Iteration)**"
      ]
    },
    {
      "cell_type": "code",
      "metadata": {
        "id": "DQ9bW1eYpU-T"
      },
      "source": [
        "dan=2 \n",
        "for n in range(1,10):\n",
        "  print(f'{dan} x {n} = {dan * n}')"
      ],
      "execution_count": null,
      "outputs": []
    },
    {
      "cell_type": "code",
      "metadata": {
        "id": "7KM8wCH8qHT0"
      },
      "source": [
        "for dan in range(2,10): # (2,3,4,5,6,7,8,9)\n",
        "  for n in range(1,10): #(1,2,3,4,5,6,7,8,9)\n",
        "    print(f'{dan} x {n} = {dan * n}')\n",
        "  print('-'*20)"
      ],
      "execution_count": null,
      "outputs": []
    },
    {
      "cell_type": "markdown",
      "metadata": {
        "id": "k2aqTFmTsrYi"
      },
      "source": [
        "# `break` 와 `continue`"
      ]
    },
    {
      "cell_type": "markdown",
      "metadata": {
        "id": "thNl5-wGs0Yk"
      },
      "source": [
        "*    `break` : iteration 종료. 반복문 바깥 코드를 실행. break가 포함되어 있는 가장\n",
        "가까운 반복문을 빠져나옴.\n",
        "*    `continue` : (반복문 블록 내부 실행문의 수행을 멈추고) 다음 iteration을 수행.  \n"
      ]
    },
    {
      "cell_type": "code",
      "metadata": {
        "colab": {
          "base_uri": "https://localhost:8080/"
        },
        "id": "gkbRkDH1tf3b",
        "outputId": "55a47049-c66e-43f1-f8d3-a8a46a73a931"
      },
      "source": [
        "for x in range(5): \n",
        "  if x == 2:\n",
        "    break\n",
        "  print(x)"
      ],
      "execution_count": null,
      "outputs": [
        {
          "output_type": "stream",
          "text": [
            "0\n",
            "1\n"
          ],
          "name": "stdout"
        }
      ]
    },
    {
      "cell_type": "code",
      "metadata": {
        "colab": {
          "base_uri": "https://localhost:8080/"
        },
        "id": "wGLzXOnnuggb",
        "outputId": "6039c64f-8fa5-436a-df5a-62b5229a9aac"
      },
      "source": [
        "for x in range(5):\n",
        "  if x== 2:\n",
        "    continue\n",
        "  print(x)"
      ],
      "execution_count": null,
      "outputs": [
        {
          "output_type": "stream",
          "text": [
            "0\n",
            "1\n",
            "3\n",
            "4\n"
          ],
          "name": "stdout"
        }
      ]
    },
    {
      "cell_type": "markdown",
      "metadata": {
        "id": "vINAwoev2cfJ"
      },
      "source": [
        ""
      ]
    },
    {
      "cell_type": "markdown",
      "metadata": {
        "id": "x23tHxUk11uE"
      },
      "source": [
        "다음과 같이 출력하는 코드를 작성하세요."
      ]
    },
    {
      "cell_type": "code",
      "metadata": {
        "id": "G8RjNa0n0ENT"
      },
      "source": [
        "for x in range(2,10):\n",
        "  for y in range(1,10):\n",
        "    if y == x+1:\n",
        "      break\n",
        "    print (f'{x} x {y} = {x*y}')\n",
        "    \n",
        "  print('-'*20)"
      ],
      "execution_count": null,
      "outputs": []
    },
    {
      "cell_type": "code",
      "metadata": {
        "id": "Zrs0nJLo1H4j"
      },
      "source": [
        "for x in range(2,10):\n",
        "  for y in range(1,10):\n",
        "    if y <= x:\n",
        "      print (f'{x} x {y} = {x*y}')\n",
        "    \n",
        "  print('-'*20)"
      ],
      "execution_count": null,
      "outputs": []
    },
    {
      "cell_type": "code",
      "metadata": {
        "id": "7iYnev5P5D0n"
      },
      "source": [
        "for x in range(2,10):\n",
        "  for y in range(1,x+1):\n",
        "      print (f'{x} x {y} = {x*y}')\n",
        "    \n",
        "  print('-'*20)"
      ],
      "execution_count": null,
      "outputs": []
    }
  ]
}