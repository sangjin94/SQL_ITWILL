{
  "nbformat": 4,
  "nbformat_minor": 0,
  "metadata": {
    "colab": {
      "name": "da01_intro.ipynb",
      "provenance": [],
      "collapsed_sections": [],
      "authorship_tag": "ABX9TyNgwlvkHLxq/ofgRAQ5FvcT",
      "include_colab_link": true
    },
    "kernelspec": {
      "name": "python3",
      "display_name": "Python 3"
    },
    "language_info": {
      "name": "python"
    }
  },
  "cells": [
    {
      "cell_type": "markdown",
      "metadata": {
        "id": "view-in-github",
        "colab_type": "text"
      },
      "source": [
        "<a href=\"https://colab.research.google.com/github/sangjin94/SQL_ITWILL/blob/main/da01_intro.ipynb\" target=\"_parent\"><img src=\"https://colab.research.google.com/assets/colab-badge.svg\" alt=\"Open In Colab\"/></a>"
      ]
    },
    {
      "cell_type": "markdown",
      "metadata": {
        "id": "iQmnXN90NOFg"
      },
      "source": [
        ""
      ]
    },
    {
      "cell_type": "markdown",
      "metadata": {
        "id": "lJ6n0sB3NPMB"
      },
      "source": [
        "* NumPy: 다차원 배열을 다루는 패키지. 머신러닝 패키지(scikit-learn)에서 중요하게 사용됨.\n",
        "* pandas: 데이터프레임(DataFrame)과 시리즈(Series)를 다루는 패키지. 데이터 분석에서 기본으로 사용됨.  \n",
        "* matplotlib: 데이터 시각화. \n",
        "* Google Colab에는 필요한 패키지들이 이미 설치되어 있음.\n",
        "  * import 문을 사용해서 모듈과 모듈의 함수, 클래스들을 사용할 수 있음."
      ]
    },
    {
      "cell_type": "code",
      "metadata": {
        "id": "QoqMMN57NDrX"
      },
      "source": [
        "import numpy as np\n",
        "import pandas as pd\n",
        "import matplotlib.pyplot as plt\n",
        "import matplotlib"
      ],
      "execution_count": 56,
      "outputs": []
    },
    {
      "cell_type": "code",
      "metadata": {
        "colab": {
          "base_uri": "https://localhost:8080/"
        },
        "id": "zc6lr82hPPfc",
        "outputId": "df71c522-9018-4e05-d561-83cda35129ae"
      },
      "source": [
        "# Google Colab에 설치된 패키지 버전 확인 - 가장 최신버전은아님\n",
        "print('Numpy version:',np.__version__)\n",
        "print('pandas version:',pd.__version__)\n",
        "print('matplotlib version:',matplotlib.__version__)"
      ],
      "execution_count": 57,
      "outputs": [
        {
          "output_type": "stream",
          "text": [
            "Numpy version: 1.19.5\n",
            "pandas version: 1.1.5\n",
            "matplotlib version: 3.2.2\n"
          ],
          "name": "stdout"
        }
      ]
    },
    {
      "cell_type": "markdown",
      "metadata": {
        "id": "Q95pGAYlBoi4"
      },
      "source": [
        "# Python list\n",
        "\n",
        "* 여러개의 값들을 저장할 수 있는 데이터 타입\n",
        "* 인덱스를 기반으로 값들을 저장하는 데이터 타입\n",
        "  * indexing: 인덱스로 원하는 위치의 값을 참조\n",
        "  * slicing: start <= index < end 범위의 값들의 부분집합(list)을 만듦.\n",
        "* `list + list`: extend 메서드와 비슷한 기능. 두 리스트를 이어붙여서 하나의 리스트로 만듦.\n",
        "* `list * int`,`int*list`: list의 원소들을 정수 개수만큼 반복해서 추가."
      ]
    },
    {
      "cell_type": "code",
      "metadata": {
        "id": "AGOiNgjPC8gD"
      },
      "source": [
        "num_list1=[1,2,3]\n",
        "num_list2=[10,20,30]"
      ],
      "execution_count": 58,
      "outputs": []
    },
    {
      "cell_type": "code",
      "metadata": {
        "colab": {
          "base_uri": "https://localhost:8080/"
        },
        "id": "0XcC1B8YDbHT",
        "outputId": "0e0fb855-174b-40a4-85ae-5a71186073c6"
      },
      "source": [
        "num_list1"
      ],
      "execution_count": 59,
      "outputs": [
        {
          "output_type": "execute_result",
          "data": {
            "text/plain": [
              "[1, 2, 3]"
            ]
          },
          "metadata": {
            "tags": []
          },
          "execution_count": 59
        }
      ]
    },
    {
      "cell_type": "code",
      "metadata": {
        "colab": {
          "base_uri": "https://localhost:8080/"
        },
        "id": "m7V9Rj9dDcYx",
        "outputId": "9b74883e-538f-421a-9720-e505464819db"
      },
      "source": [
        "print(num_list1[0]) # indexing\n",
        "print(num_list1[:1]) # slicing"
      ],
      "execution_count": 60,
      "outputs": [
        {
          "output_type": "stream",
          "text": [
            "1\n",
            "[1]\n"
          ],
          "name": "stdout"
        }
      ]
    },
    {
      "cell_type": "code",
      "metadata": {
        "colab": {
          "base_uri": "https://localhost:8080/"
        },
        "id": "fWRv59BBDlOR",
        "outputId": "4ecb0477-30cf-4ed2-c7b8-9f1fdf2b50a4"
      },
      "source": [
        "num_list1 + num_list2"
      ],
      "execution_count": 61,
      "outputs": [
        {
          "output_type": "execute_result",
          "data": {
            "text/plain": [
              "[1, 2, 3, 10, 20, 30]"
            ]
          },
          "metadata": {
            "tags": []
          },
          "execution_count": 61
        }
      ]
    },
    {
      "cell_type": "code",
      "metadata": {
        "colab": {
          "base_uri": "https://localhost:8080/"
        },
        "id": "uUzMNubLBq7Q",
        "outputId": "942e1162-35e6-4cdf-d57a-91a275ed07ab"
      },
      "source": [
        "num_list1.extend(num_list2)\n",
        "num_list1"
      ],
      "execution_count": 62,
      "outputs": [
        {
          "output_type": "execute_result",
          "data": {
            "text/plain": [
              "[1, 2, 3, 10, 20, 30]"
            ]
          },
          "metadata": {
            "tags": []
          },
          "execution_count": 62
        }
      ]
    },
    {
      "cell_type": "code",
      "metadata": {
        "colab": {
          "base_uri": "https://localhost:8080/"
        },
        "id": "sR0zNZE7EG4K",
        "outputId": "22568eb8-3085-4041-9603-a02cf665423e"
      },
      "source": [
        "num_list2*3"
      ],
      "execution_count": 63,
      "outputs": [
        {
          "output_type": "execute_result",
          "data": {
            "text/plain": [
              "[10, 20, 30, 10, 20, 30, 10, 20, 30]"
            ]
          },
          "metadata": {
            "tags": []
          },
          "execution_count": 63
        }
      ]
    },
    {
      "cell_type": "markdown",
      "metadata": {
        "id": "p21W_YYnEXPB"
      },
      "source": [
        "# NumPy(Numerical Python)\n",
        "\n",
        "* 배열(array)을 쉽고 빠르게 연산(+,-,*,/,...)하기 위한 라이브러리\n",
        "* NumPy 패키지의 대부분 기능(함수,메서드)들은 반복문의 기능을 가지고 있음. \n",
        "  * 같은 인덱스의 원소들끼리(element-wise) 연산을 수행함. \n",
        "* np.ndarray 클래스: NumPy 패키지의 기본 데이터 타입. n-dimensional array(n차원 배열)."
      ]
    },
    {
      "cell_type": "code",
      "metadata": {
        "colab": {
          "base_uri": "https://localhost:8080/"
        },
        "id": "5Wa9c08mFyX4",
        "outputId": "4be0aa37-6fa2-4653-fe1c-054b19931f96"
      },
      "source": [
        "num_list1=[1,2,3]\n",
        "num_list2=[10,20,30]\n",
        "# 같은 인데스의 원소들끼리 더하기한 결과\n",
        "add=[x+y for x,y in zip(num_list1,num_list2)]\n",
        "add"
      ],
      "execution_count": 64,
      "outputs": [
        {
          "output_type": "execute_result",
          "data": {
            "text/plain": [
              "[11, 22, 33]"
            ]
          },
          "metadata": {
            "tags": []
          },
          "execution_count": 64
        }
      ]
    },
    {
      "cell_type": "code",
      "metadata": {
        "colab": {
          "base_uri": "https://localhost:8080/"
        },
        "id": "f6E4nmb-GwRV",
        "outputId": "0aa8bd6b-0b27-408b-dfea-fbf9aad52f49"
      },
      "source": [
        "num_arr1= np.array([1,2,3])\n",
        "print(num_arr1)"
      ],
      "execution_count": 65,
      "outputs": [
        {
          "output_type": "stream",
          "text": [
            "[1 2 3]\n"
          ],
          "name": "stdout"
        }
      ]
    },
    {
      "cell_type": "code",
      "metadata": {
        "colab": {
          "base_uri": "https://localhost:8080/"
        },
        "id": "4vH-tJigHZV9",
        "outputId": "41bc9315-257b-472f-ccde-70649198f28b"
      },
      "source": [
        "num_arr2= np.array([10,20,30])\n",
        "print(num_arr2)"
      ],
      "execution_count": 66,
      "outputs": [
        {
          "output_type": "stream",
          "text": [
            "[10 20 30]\n"
          ],
          "name": "stdout"
        }
      ]
    },
    {
      "cell_type": "markdown",
      "metadata": {
        "id": "0jc1jG5cMNS-"
      },
      "source": [
        "np.ndarray에서 사칙연산은 같은 인덱스의 원소들끼리 수행됨."
      ]
    },
    {
      "cell_type": "code",
      "metadata": {
        "colab": {
          "base_uri": "https://localhost:8080/"
        },
        "id": "B_39QINXHdDo",
        "outputId": "216eadb1-a3ec-4e06-c3e0-8d4c96efa64b"
      },
      "source": [
        "num_arr1 + num_arr2"
      ],
      "execution_count": 67,
      "outputs": [
        {
          "output_type": "execute_result",
          "data": {
            "text/plain": [
              "array([11, 22, 33])"
            ]
          },
          "metadata": {
            "tags": []
          },
          "execution_count": 67
        }
      ]
    },
    {
      "cell_type": "code",
      "metadata": {
        "colab": {
          "base_uri": "https://localhost:8080/"
        },
        "id": "lMB8v88vIVNS",
        "outputId": "0ebf6c57-6f93-476c-d207-a9e992c2791e"
      },
      "source": [
        "num_arr1 * num_arr2"
      ],
      "execution_count": 68,
      "outputs": [
        {
          "output_type": "execute_result",
          "data": {
            "text/plain": [
              "array([10, 40, 90])"
            ]
          },
          "metadata": {
            "tags": []
          },
          "execution_count": 68
        }
      ]
    },
    {
      "cell_type": "code",
      "metadata": {
        "colab": {
          "base_uri": "https://localhost:8080/"
        },
        "id": "OL2lQNT8Ihy8",
        "outputId": "3d562fe3-9c83-4567-deed-1eabdbe3f03d"
      },
      "source": [
        "num_list1 * num_arr1 # 리스트와 array가 석여도 기능 작동 (numpy 기능)\n",
        "# np.array(num_list1)+num_arr1"
      ],
      "execution_count": 69,
      "outputs": [
        {
          "output_type": "execute_result",
          "data": {
            "text/plain": [
              "array([1, 4, 9])"
            ]
          },
          "metadata": {
            "tags": []
          },
          "execution_count": 69
        }
      ]
    },
    {
      "cell_type": "markdown",
      "metadata": {
        "id": "oBquU6czMezp"
      },
      "source": [
        "scalar multiplication: `np.array*number`,`number*np.ndarray`"
      ]
    },
    {
      "cell_type": "code",
      "metadata": {
        "colab": {
          "base_uri": "https://localhost:8080/"
        },
        "id": "0NvEkfFKI1cm",
        "outputId": "a74b827b-1ea5-4341-b87b-00f8e339b724"
      },
      "source": [
        "num_arr1 * 3 # element-wise 연산 수행"
      ],
      "execution_count": 70,
      "outputs": [
        {
          "output_type": "execute_result",
          "data": {
            "text/plain": [
              "array([3, 6, 9])"
            ]
          },
          "metadata": {
            "tags": []
          },
          "execution_count": 70
        }
      ]
    },
    {
      "cell_type": "code",
      "metadata": {
        "colab": {
          "base_uri": "https://localhost:8080/"
        },
        "id": "ePNWMAd4NYG6",
        "outputId": "e2a49e57-06e6-4b1b-b1cc-c03daa04cec3"
      },
      "source": [
        "print(num_arr1,num_arr2)\n",
        "# np.dot() 함수\n",
        "np.dot(num_arr1,num_arr2) # dot product = 1 * 10 + 2 * 20 + 3 * 30  "
      ],
      "execution_count": 71,
      "outputs": [
        {
          "output_type": "stream",
          "text": [
            "[1 2 3] [10 20 30]\n"
          ],
          "name": "stdout"
        },
        {
          "output_type": "execute_result",
          "data": {
            "text/plain": [
              "140"
            ]
          },
          "metadata": {
            "tags": []
          },
          "execution_count": 71
        }
      ]
    },
    {
      "cell_type": "code",
      "metadata": {
        "colab": {
          "base_uri": "https://localhost:8080/"
        },
        "id": "1f5zeWQJOQnk",
        "outputId": "b9d358a9-ea64-4fe4-fc4e-ed69d480f90b"
      },
      "source": [
        "# np.ndarray.dot() 매서드\n",
        "num_arr1.dot(num_arr2)"
      ],
      "execution_count": 72,
      "outputs": [
        {
          "output_type": "execute_result",
          "data": {
            "text/plain": [
              "140"
            ]
          },
          "metadata": {
            "tags": []
          },
          "execution_count": 72
        }
      ]
    },
    {
      "cell_type": "markdown",
      "metadata": {
        "id": "2E0yiem2P9cB"
      },
      "source": [
        "np.ndarray 클래스의 속성들(attributes)"
      ]
    },
    {
      "cell_type": "code",
      "metadata": {
        "colab": {
          "base_uri": "https://localhost:8080/"
        },
        "id": "To58TzDiQCQH",
        "outputId": "bd1443f9-53ec-45f3-a769-7b496ed8beff"
      },
      "source": [
        "print(num_arr1)\n",
        "print('ndim=',num_arr1.ndim) # 차원(dimension)\n",
        "print('',num_arr1.size) # size: 원소의 개수\n",
        "print('shape= ', num_arr1.shape) # shape: 각 차원에서의 원소의 개수\n",
        "print('dtype=', num_arr1.dtype) #dtype: 배열의 원소들의 데이터 타입"
      ],
      "execution_count": 73,
      "outputs": [
        {
          "output_type": "stream",
          "text": [
            "[1 2 3]\n",
            "ndim= 1\n",
            " 3\n",
            "shape=  (3,)\n",
            "dtype= int64\n"
          ],
          "name": "stdout"
        }
      ]
    },
    {
      "cell_type": "markdown",
      "metadata": {
        "id": "iNENf2A4RQbF"
      },
      "source": [
        "* Python 숫자 타입\n",
        "  * `int`: 정수\n",
        "  * `float`: 실수\n",
        "* NumPy 숫자 타입\n",
        "  * 정수:`int8`,`int16`,`int32`,`int64`  \n",
        "  * 실수: `float16`,`float32`,`float64`,..."
      ]
    },
    {
      "cell_type": "markdown",
      "metadata": {
        "id": "ljn94BmRTQzB"
      },
      "source": [
        "# 2차원 배열"
      ]
    },
    {
      "cell_type": "code",
      "metadata": {
        "colab": {
          "base_uri": "https://localhost:8080/"
        },
        "id": "9YWTxIe-TaqZ",
        "outputId": "4183b69d-3c21-4a01-e045-f2d01ced119b"
      },
      "source": [
        "arr_2d = np.array([[1,2,3],[4,5,6]])\n",
        "print(arr_2d)"
      ],
      "execution_count": 74,
      "outputs": [
        {
          "output_type": "stream",
          "text": [
            "[[1 2 3]\n",
            " [4 5 6]]\n"
          ],
          "name": "stdout"
        }
      ]
    },
    {
      "cell_type": "code",
      "metadata": {
        "colab": {
          "base_uri": "https://localhost:8080/"
        },
        "id": "OUv5tj3SQKxX",
        "outputId": "ca238536-3e7b-4ec9-986c-58d80acd0db4"
      },
      "source": [
        "print('ndim=',arr_2d.ndim)\n",
        "print('size=',arr_2d.size)\n",
        "print('shape=',arr_2d.shape)\n",
        "print('dtype=',arr_2d.dtype)"
      ],
      "execution_count": 75,
      "outputs": [
        {
          "output_type": "stream",
          "text": [
            "ndim= 2\n",
            "size= 6\n",
            "shape= (2, 3)\n",
            "dtype= int64\n"
          ],
          "name": "stdout"
        }
      ]
    },
    {
      "cell_type": "code",
      "metadata": {
        "colab": {
          "base_uri": "https://localhost:8080/"
        },
        "id": "-GbVMOFRn9KK",
        "outputId": "20a3d470-1c77-4090-e2db-6f7327149c59"
      },
      "source": [
        "arr_2d_2= np.array([[1,1,1],[2,2,2]])\n",
        "print(arr_2d_2)"
      ],
      "execution_count": 76,
      "outputs": [
        {
          "output_type": "stream",
          "text": [
            "[[1 1 1]\n",
            " [2 2 2]]\n"
          ],
          "name": "stdout"
        }
      ]
    },
    {
      "cell_type": "code",
      "metadata": {
        "colab": {
          "base_uri": "https://localhost:8080/"
        },
        "id": "U0aPjPazoagI",
        "outputId": "f0dde5ed-1d47-4501-87f1-b2b39ae9482f"
      },
      "source": [
        "print(arr_2d+arr_2d_2)"
      ],
      "execution_count": 77,
      "outputs": [
        {
          "output_type": "stream",
          "text": [
            "[[2 3 4]\n",
            " [6 7 8]]\n"
          ],
          "name": "stdout"
        }
      ]
    },
    {
      "cell_type": "markdown",
      "metadata": {
        "id": "broaFvjBooMf"
      },
      "source": [
        "2차원 ndarray의 dot product\n",
        "\n",
        "> `(n,m) @ (m,k) = (n,k)` 모양의 shape 가 만들어진다."
      ]
    },
    {
      "cell_type": "code",
      "metadata": {
        "colab": {
          "base_uri": "https://localhost:8080/"
        },
        "id": "5YgVefkApxNv",
        "outputId": "6f4249e3-5a61-4a6f-bea0-1168d206fac6"
      },
      "source": [
        "arr_1= np.array([[1,2,3],[4,5,6]])  # (2,3) shape\n",
        "arr_2= np.array([[1,2],[3,4],[5,6]]) # (3,2) shape\n",
        "print(np.dot(arr_1,arr_2)) # (2,2) shape"
      ],
      "execution_count": 78,
      "outputs": [
        {
          "output_type": "stream",
          "text": [
            "[[22 28]\n",
            " [49 64]]\n"
          ],
          "name": "stdout"
        }
      ]
    },
    {
      "cell_type": "code",
      "metadata": {
        "colab": {
          "base_uri": "https://localhost:8080/"
        },
        "id": "OOd_ocUuo92P",
        "outputId": "e7670180-a2b8-4b2d-edb6-5ac77757bab8"
      },
      "source": [
        "print(np.dot(arr_2,arr_1))"
      ],
      "execution_count": 79,
      "outputs": [
        {
          "output_type": "stream",
          "text": [
            "[[ 9 12 15]\n",
            " [19 26 33]\n",
            " [29 40 51]]\n"
          ],
          "name": "stdout"
        }
      ]
    },
    {
      "cell_type": "markdown",
      "metadata": {
        "id": "D8DuAsPtsn7G"
      },
      "source": [
        "# np.ndarray 객체 생성 함수"
      ]
    },
    {
      "cell_type": "markdown",
      "metadata": {
        "id": "9afAgA0Xs4sM"
      },
      "source": [
        "`np.array(object)`\n",
        "\n",
        "* object: 배열과 비슷한 객체. `list`,`tuple`,`ndarray`,... \n"
      ]
    },
    {
      "cell_type": "code",
      "metadata": {
        "colab": {
          "base_uri": "https://localhost:8080/"
        },
        "id": "w9WbbDeEsr1S",
        "outputId": "c68cbf33-ba11-4cc6-84ce-1ec949597230"
      },
      "source": [
        "# 0이상 10 이하의 짝수들로 이루어진 ndarray\n",
        "evens = np.array([2*x for x in range(6)])\n",
        "print(evens)"
      ],
      "execution_count": 80,
      "outputs": [
        {
          "output_type": "stream",
          "text": [
            "[ 0  2  4  6  8 10]\n"
          ],
          "name": "stdout"
        }
      ]
    },
    {
      "cell_type": "markdown",
      "metadata": {
        "id": "PXQlW6Lkt5zX"
      },
      "source": [
        "`np.arange(start,end,step)`\n",
        "\n",
        "* `range(start,end,step)` 사용 방법과 동일\n",
        "* 1차원 ndarray를 생성 "
      ]
    },
    {
      "cell_type": "code",
      "metadata": {
        "colab": {
          "base_uri": "https://localhost:8080/"
        },
        "id": "RQe6JPYvucOi",
        "outputId": "de717f5c-e757-44c7-a797-9e7ad666d4c2"
      },
      "source": [
        "# 1 이상 10이하의 홀수 \n",
        "odds= np.arange(1,11,2)\n",
        "print(odds)"
      ],
      "execution_count": 81,
      "outputs": [
        {
          "output_type": "stream",
          "text": [
            "[1 3 5 7 9]\n"
          ],
          "name": "stdout"
        }
      ]
    },
    {
      "cell_type": "markdown",
      "metadata": {
        "id": "hHic4zJovQKr"
      },
      "source": [
        "\n",
        "`np.ndarray.reshape(shape)` 메서드\n",
        "\n",
        "`np.reshape(array,newshape)`함수"
      ]
    },
    {
      "cell_type": "code",
      "metadata": {
        "colab": {
          "base_uri": "https://localhost:8080/"
        },
        "id": "PTzRwcNyvVHD",
        "outputId": "ece5b390-009d-4c7c-eb7f-0ad13c5416a9"
      },
      "source": [
        "arr=np.arange(12).reshape(3,4) # shape은 1차원인 경우 숫자, 2차원 이상인 경우 tuple로 전달.\n",
        "print(arr)"
      ],
      "execution_count": 82,
      "outputs": [
        {
          "output_type": "stream",
          "text": [
            "[[ 0  1  2  3]\n",
            " [ 4  5  6  7]\n",
            " [ 8  9 10 11]]\n"
          ],
          "name": "stdout"
        }
      ]
    },
    {
      "cell_type": "code",
      "metadata": {
        "colab": {
          "base_uri": "https://localhost:8080/"
        },
        "id": "kQlFHLPEwhyf",
        "outputId": "81be2670-32ec-429e-9368-6b3a29451ba7"
      },
      "source": [
        "arr_1d=np.arange(12)\n",
        "arr_2d=np.reshape(arr_1d,(3,4))\n",
        "print(arr_2d)"
      ],
      "execution_count": 83,
      "outputs": [
        {
          "output_type": "stream",
          "text": [
            "[[ 0  1  2  3]\n",
            " [ 4  5  6  7]\n",
            " [ 8  9 10 11]]\n"
          ],
          "name": "stdout"
        }
      ]
    },
    {
      "cell_type": "markdown",
      "metadata": {
        "id": "TY6cKak_1Mww"
      },
      "source": [
        "\n",
        "`np.random.rand(d0,d1,d2,...)` 함수\n",
        "\n",
        "* [0,1)<(0이상 1미만) 난수들로 이루어진 ndarray를 생성 \n",
        "* d0,d1,d2,... : ndarray의 각 차원의 원소의 개수"
      ]
    },
    {
      "cell_type": "code",
      "metadata": {
        "colab": {
          "base_uri": "https://localhost:8080/"
        },
        "id": "8iTCvKI82Ybw",
        "outputId": "30458937-8ad4-4772-9289-2ddbc1f9e54a"
      },
      "source": [
        "arr=np.random.rand(5) #0 이상 1미만의 난수 5개로 이루어진 1차원 ndarray\n",
        "print(arr)"
      ],
      "execution_count": 84,
      "outputs": [
        {
          "output_type": "stream",
          "text": [
            "[0.43915989 0.09806624 0.22374038 0.87535533 0.4607604 ]\n"
          ],
          "name": "stdout"
        }
      ]
    },
    {
      "cell_type": "code",
      "metadata": {
        "colab": {
          "base_uri": "https://localhost:8080/"
        },
        "id": "rvLM2C8M2z4m",
        "outputId": "88e5afad-b21e-4c56-ab15-fd97a8bbeddf"
      },
      "source": [
        "# [0,1) 난수 6개로 이루어진 (3,2) shape의 2차원 ndarray\n",
        "arr=np.random.rand(3,2)\n",
        "print(arr)"
      ],
      "execution_count": 85,
      "outputs": [
        {
          "output_type": "stream",
          "text": [
            "[[0.51854522 0.62804011]\n",
            " [0.58963233 0.25395639]\n",
            " [0.9202434  0.77675617]]\n"
          ],
          "name": "stdout"
        }
      ]
    },
    {
      "cell_type": "code",
      "metadata": {
        "id": "ugDAPVvmG3md"
      },
      "source": [
        ""
      ],
      "execution_count": 85,
      "outputs": []
    },
    {
      "cell_type": "markdown",
      "metadata": {
        "id": "JCLYO3C03NQv"
      },
      "source": [
        "`np.random.randn(d0,d1,...)` 함수\n",
        "\n",
        "*평균이 0이고 표준편차가 1인 표준정규분포(standard normal distribution)을 따르는 난수들의 배열을 생성\n",
        "* d0, d1, ...: 배열의 각 차원의 원소의 개수"
      ]
    },
    {
      "cell_type": "code",
      "metadata": {
        "colab": {
          "base_uri": "https://localhost:8080/"
        },
        "id": "HrHad9AxG7i6",
        "outputId": "f861a250-1536-469b-a261-bfc851b1a7d1"
      },
      "source": [
        "arr = np.random.randn(10)\n",
        "print(arr)"
      ],
      "execution_count": 86,
      "outputs": [
        {
          "output_type": "stream",
          "text": [
            "[ 0.63992529 -0.8659328  -0.06261795 -0.6607148   0.57844321  0.01439701\n",
            "  0.68283923  0.31254181 -0.62206292  0.60936635]\n"
          ],
          "name": "stdout"
        }
      ]
    },
    {
      "cell_type": "code",
      "metadata": {
        "colab": {
          "base_uri": "https://localhost:8080/"
        },
        "id": "zV9245GZG8fh",
        "outputId": "b1d1a2ec-69d9-4ea9-f8f7-a6888f848339"
      },
      "source": [
        "arr = np.random.randn(2, 3)\n",
        "print(arr)"
      ],
      "execution_count": 87,
      "outputs": [
        {
          "output_type": "stream",
          "text": [
            "[[ 0.7685114   0.64858705 -1.54228201]\n",
            " [ 0.96168326  1.7465887  -1.39383776]]\n"
          ],
          "name": "stdout"
        }
      ]
    },
    {
      "cell_type": "code",
      "metadata": {
        "colab": {
          "base_uri": "https://localhost:8080/"
        },
        "id": "gQbmgoWMG-A5",
        "outputId": "4db4b702-ac29-4992-88ea-515d698e8e74"
      },
      "source": [
        "\n",
        "# 0 이상 10 미만의 정수 난수 5개로 이루어진 1차원 ndarray\n",
        "arr = np.random.randint(0, 10, size=5)\n",
        "print(arr)"
      ],
      "execution_count": 88,
      "outputs": [
        {
          "output_type": "stream",
          "text": [
            "[2 6 6 2 7]\n"
          ],
          "name": "stdout"
        }
      ]
    },
    {
      "cell_type": "code",
      "metadata": {
        "colab": {
          "base_uri": "https://localhost:8080/"
        },
        "id": "p8uc0zYWG_Xn",
        "outputId": "01750012-a993-473b-d961-1dfd484cdc6f"
      },
      "source": [
        "np.random.seed(1)  # 난수를 생성하는 순서 고정\n",
        "\n",
        "# 0 이상 10 미만의 정수 난수 6개로 이루어진 (2, 3) shape의 2차원 ndarray\n",
        "arr = np.random.randint(10, size=(2, 3))  # 시작값 0은 생략 가능\n",
        "print(arr)"
      ],
      "execution_count": 89,
      "outputs": [
        {
          "output_type": "stream",
          "text": [
            "[[5 8 9]\n",
            " [5 0 0]]\n"
          ],
          "name": "stdout"
        }
      ]
    },
    {
      "cell_type": "markdown",
      "metadata": {
        "id": "AbPauXEjHAKz"
      },
      "source": [
        "# ndarray를 사용한 함수 그리기"
      ]
    },
    {
      "cell_type": "code",
      "metadata": {
        "colab": {
          "base_uri": "https://localhost:8080/"
        },
        "id": "NNItfGb4HCAU",
        "outputId": "67723186-7105-4bf6-fb2c-741c61f9624f"
      },
      "source": [
        "\n",
        "x = np.arange(-5, 6)  # [-5, -4, -3, -2, -1, 0, 1, 2, 3, 4, 5]\n",
        "y = x ** 2\n",
        "print(x)\n",
        "print(y)"
      ],
      "execution_count": 90,
      "outputs": [
        {
          "output_type": "stream",
          "text": [
            "[-5 -4 -3 -2 -1  0  1  2  3  4  5]\n",
            "[25 16  9  4  1  0  1  4  9 16 25]\n"
          ],
          "name": "stdout"
        }
      ]
    },
    {
      "cell_type": "code",
      "metadata": {
        "colab": {
          "base_uri": "https://localhost:8080/",
          "height": 265
        },
        "id": "FDyVa4LAHDKe",
        "outputId": "1fe32cd4-e7e4-44eb-dd23-9890f7dc328f"
      },
      "source": [
        "plt.plot(x, y)\n",
        "plt.grid()\n",
        "plt.show()"
      ],
      "execution_count": 91,
      "outputs": [
        {
          "output_type": "display_data",
          "data": {
            "image/png": "[encoded data removed]",
            "text/plain": [
              "<Figure size 432x288 with 1 Axes>"
            ]
          },
          "metadata": {
            "tags": [],
            "needs_background": "light"
          }
        }
      ]
    },
    {
      "cell_type": "code",
      "metadata": {
        "colab": {
          "base_uri": "https://localhost:8080/",
          "height": 265
        },
        "id": "ffRDZQVBHD5y",
        "outputId": "0e1d60c3-6035-4828-d500-798dcdc3794e"
      },
      "source": [
        "x = np.arange(-5, 5, 0.001)  # [-5, -4.999, -4.998, ..., 4.998, 4.999]\n",
        "y = x ** 2\n",
        "plt.plot(x, y)\n",
        "plt.grid()\n",
        "plt.show()"
      ],
      "execution_count": 92,
      "outputs": [
        {
          "output_type": "display_data",
          "data": {
            "image/png": "[encoded data removed]",
            "text/plain": [
              "<Figure size 432x288 with 1 Axes>"
            ]
          },
          "metadata": {
            "tags": [],
            "needs_background": "light"
          }
        }
      ]
    },
    {
      "cell_type": "code",
      "metadata": {
        "colab": {
          "base_uri": "https://localhost:8080/",
          "height": 265
        },
        "id": "FzDh1Jh8HE-1",
        "outputId": "21b8aa8e-887b-4793-9967-6dc173c51312"
      },
      "source": [
        "x = np.arange(-1.2, 1.2, 0.001)\n",
        "y = x ** 3 - x\n",
        "plt.plot(x, y)\n",
        "plt.grid()\n",
        "plt.show()"
      ],
      "execution_count": 93,
      "outputs": [
        {
          "output_type": "display_data",
          "data": {
            "image/png": "[encoded data removed]",
            "text/plain": [
              "<Figure size 432x288 with 1 Axes>"
            ]
          },
          "metadata": {
            "tags": [],
            "needs_background": "light"
          }
        }
      ]
    }
  ]
}