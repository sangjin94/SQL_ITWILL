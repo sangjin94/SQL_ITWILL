{
  "nbformat": 4,
  "nbformat_minor": 0,
  "metadata": {
    "colab": {
      "name": "py26_file.ipynb",
      "provenance": [],
      "collapsed_sections": [],
      "mount_file_id": "1n5qWCuBtCew1_qVhxaIHmItQV8mqkbgQ",
      "authorship_tag": "ABX9TyMUZgy8mlQuwAG7NkxV6D0q",
      "include_colab_link": true
    },
    "kernelspec": {
      "name": "python3",
      "display_name": "Python 3"
    },
    "language_info": {
      "name": "python"
    }
  },
  "cells": [
    {
      "cell_type": "markdown",
      "metadata": {
        "id": "view-in-github",
        "colab_type": "text"
      },
      "source": [
        "<a href=\"https://colab.research.google.com/github/sangjin94/SQL_ITWILL/blob/main/py26_file.ipynb\" target=\"_parent\"><img src=\"https://colab.research.google.com/assets/colab-badge.svg\" alt=\"Open In Colab\"/></a>"
      ]
    },
    {
      "cell_type": "markdown",
      "metadata": {
        "id": "6VMNDfCzFJ_2"
      },
      "source": [
        "* colab 연결\n",
        "* google drive를 마운트 (연결)\n",
        "* csv_exam.csv 파일을 google drive에 업로드\n",
        "* 업로드된 파일 경로 복사"
      ]
    },
    {
      "cell_type": "code",
      "metadata": {
        "id": "hbQ655bTDo6X"
      },
      "source": [
        "file_path='/content/drive/MyDrive/Colab Notebooks/lab_python/csv_exam.csv'"
      ],
      "execution_count": 2,
      "outputs": []
    },
    {
      "cell_type": "markdown",
      "metadata": {
        "id": "jQfBxCljJOxI"
      },
      "source": [
        "1. csv_exam.csv 파일을 오픈\n",
        "2. 파일에서 첫번째 줄을 읽고 아무동작없이 건너뜀.(파일의 첫번째 줄은 컬럼 이름이기 때문에)\n",
        "3. 파일의 두번째 줄부터 끝까지 4번 내용을 반복\n",
        "4. 각 줄에서 읽은 내용을 쉼표(,)로 구분(분리)한 리스트를 빈 리스트에 append\n",
        "> 결과값 :` [['1','1','50','98','50'] , ['2','1','60','97','60'] , [] , [] , ...]  `\n",
        "5. 2차원 리스트의 모든 값들을 숫자로 변환\n",
        "> `[[1,1,50,98,50] , [2,1,60,97,60] , [] , [] , ...]`\n",
        "6. 수학점수로만 이루어진 1차원 리스트 생성\n",
        "> `[50,60,45,...]`\n",
        "7. 수학 점수 최댓값, 최솟값, 평균\n",
        "8. 1반 학생들의 수학 점수 총점, 평균, 최댓값, 최솟값 "
      ]
    },
    {
      "cell_type": "code",
      "metadata": {
        "colab": {
          "base_uri": "https://localhost:8080/"
        },
        "id": "_KEHtp2yLLXg",
        "outputId": "ab7d1531-59ce-4b52-a211-ed6ed3d38766"
      },
      "source": [
        "with open(file_path,mode='r') as f: # 파일을 read text 모드로 오픈\n",
        "  f.readline() # 파일의 첫번째 줄을 읽고 skip\n",
        "  exam=[] # 각 줄의 내용을 저장할 빈 리스트\n",
        "  for line in f: # 파일의 두번째 줄부터 끝까지 반복\n",
        "    exam.append(line.strip().split(sep=','))\n",
        "exam"
      ],
      "execution_count": 3,
      "outputs": [
        {
          "output_type": "execute_result",
          "data": {
            "text/plain": [
              "[['1', '1', '50', '98', '50'],\n",
              " ['2', '1', '60', '97', '60'],\n",
              " ['3', '1', '45', '86', '78'],\n",
              " ['4', '1', '30', '98', '58'],\n",
              " ['5', '2', '25', '80', '65'],\n",
              " ['6', '2', '50', '89', '98'],\n",
              " ['7', '2', '80', '90', '45'],\n",
              " ['8', '2', '90', '78', '25'],\n",
              " ['9', '3', '20', '98', '15'],\n",
              " ['10', '3', '50', '98', '45'],\n",
              " ['11', '3', '65', '65', '65'],\n",
              " ['12', '3', '45', '85', '32'],\n",
              " ['13', '4', '46', '98', '65'],\n",
              " ['14', '4', '48', '87', '12'],\n",
              " ['15', '4', '75', '56', '78'],\n",
              " ['16', '4', '58', '98', '65'],\n",
              " ['17', '5', '65', '68', '98'],\n",
              " ['18', '5', '80', '78', '90'],\n",
              " ['19', '5', '89', '68', '87'],\n",
              " ['20', '5', '78', '83', '58']]"
            ]
          },
          "metadata": {
            "tags": []
          },
          "execution_count": 3
        }
      ]
    },
    {
      "cell_type": "code",
      "metadata": {
        "colab": {
          "base_uri": "https://localhost:8080/"
        },
        "id": "RUskNKYHY70z",
        "outputId": "68d4a074-e08d-4e98-b906-cc65c141352e"
      },
      "source": [
        "for i,row in enumerate(exam):\n",
        "  for j,x in enumerate(row):\n",
        "    exam[i][j]=int(x)\n",
        "exam"
      ],
      "execution_count": 4,
      "outputs": [
        {
          "output_type": "execute_result",
          "data": {
            "text/plain": [
              "[[1, 1, 50, 98, 50],\n",
              " [2, 1, 60, 97, 60],\n",
              " [3, 1, 45, 86, 78],\n",
              " [4, 1, 30, 98, 58],\n",
              " [5, 2, 25, 80, 65],\n",
              " [6, 2, 50, 89, 98],\n",
              " [7, 2, 80, 90, 45],\n",
              " [8, 2, 90, 78, 25],\n",
              " [9, 3, 20, 98, 15],\n",
              " [10, 3, 50, 98, 45],\n",
              " [11, 3, 65, 65, 65],\n",
              " [12, 3, 45, 85, 32],\n",
              " [13, 4, 46, 98, 65],\n",
              " [14, 4, 48, 87, 12],\n",
              " [15, 4, 75, 56, 78],\n",
              " [16, 4, 58, 98, 65],\n",
              " [17, 5, 65, 68, 98],\n",
              " [18, 5, 80, 78, 90],\n",
              " [19, 5, 89, 68, 87],\n",
              " [20, 5, 78, 83, 58]]"
            ]
          },
          "metadata": {
            "tags": []
          },
          "execution_count": 4
        }
      ]
    },
    {
      "cell_type": "code",
      "metadata": {
        "colab": {
          "base_uri": "https://localhost:8080/"
        },
        "id": "y3JtkLTPZ9ye",
        "outputId": "cdf2d63d-ae9f-4648-dc4d-973367d2b529"
      },
      "source": [
        "math=[]\n",
        "for i in exam:\n",
        "  math.append(i[2])\n",
        "print(math)"
      ],
      "execution_count": 5,
      "outputs": [
        {
          "output_type": "stream",
          "text": [
            "[50, 60, 45, 30, 25, 50, 80, 90, 20, 50, 65, 45, 46, 48, 75, 58, 65, 80, 89, 78]\n"
          ],
          "name": "stdout"
        }
      ]
    },
    {
      "cell_type": "code",
      "metadata": {
        "colab": {
          "base_uri": "https://localhost:8080/"
        },
        "id": "qkjqXyFmdv-E",
        "outputId": "70bcad08-93d2-433d-d08d-4fdb1adf0011"
      },
      "source": [
        "print('max:',max(math))\n",
        "print('min:',min(math))"
      ],
      "execution_count": 6,
      "outputs": [
        {
          "output_type": "stream",
          "text": [
            "max: 90\n",
            "min: 20\n"
          ],
          "name": "stdout"
        }
      ]
    },
    {
      "cell_type": "code",
      "metadata": {
        "colab": {
          "base_uri": "https://localhost:8080/"
        },
        "id": "IWxAF1h5eLc9",
        "outputId": "00f0540f-9144-42af-bb82-57afe3d6e3db"
      },
      "source": [
        "math_mean= sum(math)/ len(math)\n",
        "print(' mean:',math_mean)"
      ],
      "execution_count": 7,
      "outputs": [
        {
          "output_type": "stream",
          "text": [
            " mean: 57.45\n"
          ],
          "name": "stdout"
        }
      ]
    },
    {
      "cell_type": "code",
      "metadata": {
        "colab": {
          "base_uri": "https://localhost:8080/"
        },
        "id": "AixgOgbDeeST",
        "outputId": "8901543f-69fd-4f40-c283-c66bdf36396f"
      },
      "source": [
        "math_class1=[]  # 1반 학생들의 수학 점수를 저장할 리스트\n",
        "for row in exam: # 2차원 리스트에서 1차원 리스트를 하나씩 꺼내면서 반복\n",
        "  if row[1]== 1: # class 값이 1이면\n",
        "    math_class1.append(row[2]) # 수학 점수를 리스트에 추가\n",
        "\n",
        "print(math_class1)"
      ],
      "execution_count": 8,
      "outputs": [
        {
          "output_type": "stream",
          "text": [
            "[50, 60, 45, 30]\n"
          ],
          "name": "stdout"
        }
      ]
    },
    {
      "cell_type": "code",
      "metadata": {
        "colab": {
          "base_uri": "https://localhost:8080/"
        },
        "id": "iGANDSywfx5q",
        "outputId": "d726b336-ccbc-4da7-8e65-9f53503eba5d"
      },
      "source": [
        "print('총점:',sum(math_class1))\n",
        "print('평균:',sum(math_class1)/len(math_class1))\n",
        "print('max:',max(math_class1))\n",
        "print('min:',min(math_class1))"
      ],
      "execution_count": 9,
      "outputs": [
        {
          "output_type": "stream",
          "text": [
            "총점: 185\n",
            "평균: 46.25\n",
            "max: 60\n",
            "min: 30\n"
          ],
          "name": "stdout"
        }
      ]
    },
    {
      "cell_type": "markdown",
      "metadata": {
        "id": "640j7wpblhAT"
      },
      "source": [
        "\n",
        "* id, class, math, english, science를 속성으로 갖는 클래스 Student를 구현\n",
        "\n",
        "__init__\n",
        "__repr__\n",
        "* csv_exam.csv 파일을 열고, 한 줄씩 Student 객체를 생성하고 리스트에 추가(append)\n",
        "* 각 과목(수학, 영어, 과학)의 평균을 계산\n",
        "* 1반 학생들의 각 과목 평균을 계산"
      ]
    },
    {
      "cell_type": "code",
      "metadata": {
        "id": "igYvo46olgg1"
      },
      "source": [
        "class Student:\n",
        "  def __init__(self,id,class1,math,english,science):\n",
        "    self.id=id\n",
        "    self.class1=class1\n",
        "    self.math=math\n",
        "    self.english=english\n",
        "    self.science=science\n",
        "  \n",
        "  def __repr__(self):\n",
        "    return f'Student(id:{self.id} , class:{self.class1} , math:{self.math} , english:{self.english} , science:{self.science})'\n",
        "  \n",
        "  def avg1(self):\n",
        "    return (self.math+self.english+self.science)/3\n",
        "       "
      ],
      "execution_count": 26,
      "outputs": []
    },
    {
      "cell_type": "code",
      "metadata": {
        "id": "vOyPV8Rjc33w"
      },
      "source": [
        "class Student2:\n",
        "  def __init__(self,score):\n",
        "    self.id= int(score[0])\n",
        "    self.cls=int(score[1])\n",
        "    self.math=int(score[2])\n",
        "    self.english=int(score[3])\n",
        "    self.science=int(score[4])\n",
        "\n",
        "  def __repr__(self):\n",
        "    return f'id:{self.id} , class:{self.cls} , math:{self.math} , english:{self.english} , science:{self.science}'"
      ],
      "execution_count": 24,
      "outputs": []
    },
    {
      "cell_type": "code",
      "metadata": {
        "colab": {
          "base_uri": "https://localhost:8080/"
        },
        "id": "QnnAC93BLJm5",
        "outputId": "d6ff654d-c86c-4ac9-f227-38899e43d09e"
      },
      "source": [
        "exams= []\n",
        "with open(file_path) as f:\n",
        "  f.readline()\n",
        "  for line in f:\n",
        "    student= Student2(line.strip().split(sep=','))\n",
        "    exams.append(student)\n",
        "\n",
        "exams"
      ],
      "execution_count": 27,
      "outputs": [
        {
          "output_type": "execute_result",
          "data": {
            "text/plain": [
              "[id:1 , class:1 , math:50 , english:98 , science:50,\n",
              " id:2 , class:1 , math:60 , english:97 , science:60,\n",
              " id:3 , class:1 , math:45 , english:86 , science:78,\n",
              " id:4 , class:1 , math:30 , english:98 , science:58,\n",
              " id:5 , class:2 , math:25 , english:80 , science:65,\n",
              " id:6 , class:2 , math:50 , english:89 , science:98,\n",
              " id:7 , class:2 , math:80 , english:90 , science:45,\n",
              " id:8 , class:2 , math:90 , english:78 , science:25,\n",
              " id:9 , class:3 , math:20 , english:98 , science:15,\n",
              " id:10 , class:3 , math:50 , english:98 , science:45,\n",
              " id:11 , class:3 , math:65 , english:65 , science:65,\n",
              " id:12 , class:3 , math:45 , english:85 , science:32,\n",
              " id:13 , class:4 , math:46 , english:98 , science:65,\n",
              " id:14 , class:4 , math:48 , english:87 , science:12,\n",
              " id:15 , class:4 , math:75 , english:56 , science:78,\n",
              " id:16 , class:4 , math:58 , english:98 , science:65,\n",
              " id:17 , class:5 , math:65 , english:68 , science:98,\n",
              " id:18 , class:5 , math:80 , english:78 , science:90,\n",
              " id:19 , class:5 , math:89 , english:68 , science:87,\n",
              " id:20 , class:5 , math:78 , english:83 , science:58]"
            ]
          },
          "metadata": {
            "tags": []
          },
          "execution_count": 27
        }
      ]
    },
    {
      "cell_type": "code",
      "metadata": {
        "id": "_-CdQ8wFmxA8"
      },
      "source": [
        "with open(file_path) as f:\n",
        "  stu=[]\n",
        "for i,row in enumerate(exam):\n",
        "  stu.append(Student(exam[i][0],exam[i][1],exam[i][2],exam[i][3],exam[i][4]))  \n"
      ],
      "execution_count": 28,
      "outputs": []
    },
    {
      "cell_type": "code",
      "metadata": {
        "colab": {
          "base_uri": "https://localhost:8080/"
        },
        "id": "U2WO-t_2cjuI",
        "outputId": "8f4cbf2a-fbf0-4fa6-b124-e9fb7fa937f1"
      },
      "source": [
        "stu"
      ],
      "execution_count": 29,
      "outputs": [
        {
          "output_type": "execute_result",
          "data": {
            "text/plain": [
              "[Student(id:1 , class:1 , math:50 , english:98 , science:50),\n",
              " Student(id:2 , class:1 , math:60 , english:97 , science:60),\n",
              " Student(id:3 , class:1 , math:45 , english:86 , science:78),\n",
              " Student(id:4 , class:1 , math:30 , english:98 , science:58),\n",
              " Student(id:5 , class:2 , math:25 , english:80 , science:65),\n",
              " Student(id:6 , class:2 , math:50 , english:89 , science:98),\n",
              " Student(id:7 , class:2 , math:80 , english:90 , science:45),\n",
              " Student(id:8 , class:2 , math:90 , english:78 , science:25),\n",
              " Student(id:9 , class:3 , math:20 , english:98 , science:15),\n",
              " Student(id:10 , class:3 , math:50 , english:98 , science:45),\n",
              " Student(id:11 , class:3 , math:65 , english:65 , science:65),\n",
              " Student(id:12 , class:3 , math:45 , english:85 , science:32),\n",
              " Student(id:13 , class:4 , math:46 , english:98 , science:65),\n",
              " Student(id:14 , class:4 , math:48 , english:87 , science:12),\n",
              " Student(id:15 , class:4 , math:75 , english:56 , science:78),\n",
              " Student(id:16 , class:4 , math:58 , english:98 , science:65),\n",
              " Student(id:17 , class:5 , math:65 , english:68 , science:98),\n",
              " Student(id:18 , class:5 , math:80 , english:78 , science:90),\n",
              " Student(id:19 , class:5 , math:89 , english:68 , science:87),\n",
              " Student(id:20 , class:5 , math:78 , english:83 , science:58)]"
            ]
          },
          "metadata": {
            "tags": []
          },
          "execution_count": 29
        }
      ]
    },
    {
      "cell_type": "code",
      "metadata": {
        "colab": {
          "base_uri": "https://localhost:8080/"
        },
        "id": "671fUDY2K53Z",
        "outputId": "133404ba-8f26-41e1-dfb1-d74152c64c76"
      },
      "source": [
        "stu[3].math"
      ],
      "execution_count": 32,
      "outputs": [
        {
          "output_type": "execute_result",
          "data": {
            "text/plain": [
              "30"
            ]
          },
          "metadata": {
            "tags": []
          },
          "execution_count": 32
        }
      ]
    },
    {
      "cell_type": "code",
      "metadata": {
        "colab": {
          "base_uri": "https://localhost:8080/"
        },
        "id": "5UPpAaPNi3Zl",
        "outputId": "40be8f3e-8e5b-48e9-e60f-5597bc68fef2"
      },
      "source": [
        "# exam에서 수학 점수들만 저장한 리스트\n",
        "maths=[s.math for s in exams]\n",
        "maths"
      ],
      "execution_count": 33,
      "outputs": [
        {
          "output_type": "execute_result",
          "data": {
            "text/plain": [
              "[50,\n",
              " 60,\n",
              " 45,\n",
              " 30,\n",
              " 25,\n",
              " 50,\n",
              " 80,\n",
              " 90,\n",
              " 20,\n",
              " 50,\n",
              " 65,\n",
              " 45,\n",
              " 46,\n",
              " 48,\n",
              " 75,\n",
              " 58,\n",
              " 65,\n",
              " 80,\n",
              " 89,\n",
              " 78]"
            ]
          },
          "metadata": {
            "tags": []
          },
          "execution_count": 33
        }
      ]
    },
    {
      "cell_type": "code",
      "metadata": {
        "colab": {
          "base_uri": "https://localhost:8080/"
        },
        "id": "aoKZWIeXNZMt",
        "outputId": "b75a413f-ba14-4e5a-ffb5-e9bdda3ee5b7"
      },
      "source": [
        "len(stu)"
      ],
      "execution_count": 14,
      "outputs": [
        {
          "output_type": "execute_result",
          "data": {
            "text/plain": [
              "20"
            ]
          },
          "metadata": {
            "tags": []
          },
          "execution_count": 14
        }
      ]
    },
    {
      "cell_type": "code",
      "metadata": {
        "id": "fXV1FYlzs9-I"
      },
      "source": [
        "s=0\n",
        "for i in range(len(stu)):\n",
        "  s += stu[i].math\n",
        "math_avg= s/len(stu)"
      ],
      "execution_count": 15,
      "outputs": []
    },
    {
      "cell_type": "code",
      "metadata": {
        "id": "3r1PXGYKOAz1"
      },
      "source": [
        "s=0\n",
        "for i in range(len(stu)):\n",
        "  s += stu[i].english\n",
        "english_avg= s/len(stu)"
      ],
      "execution_count": 16,
      "outputs": []
    },
    {
      "cell_type": "code",
      "metadata": {
        "id": "VdT63iZkOHU2"
      },
      "source": [
        "s=0\n",
        "for i in range(len(stu)):\n",
        "  s += stu[i].science\n",
        "science_avg= s/len(stu)"
      ],
      "execution_count": 17,
      "outputs": []
    },
    {
      "cell_type": "code",
      "metadata": {
        "colab": {
          "base_uri": "https://localhost:8080/"
        },
        "id": "ZFB4SZ02Nnke",
        "outputId": "def1c26c-a4ae-4e52-b9a4-6cb8386e3690"
      },
      "source": [
        "print(math_avg)\n",
        "print(english_avg)\n",
        "print(science_avg)"
      ],
      "execution_count": 18,
      "outputs": [
        {
          "output_type": "stream",
          "text": [
            "57.45\n",
            "84.9\n",
            "59.45\n"
          ],
          "name": "stdout"
        }
      ]
    },
    {
      "cell_type": "code",
      "metadata": {
        "id": "pQw3E-tKOYOh"
      },
      "source": [
        "i_math=0\n",
        "i_english=0\n",
        "i_science=0\n",
        "i_stu_num=0\n",
        "for i in stu:\n",
        "  if i.class1==1:\n",
        "    i_stu_num += 1 \n",
        "    i_math += i.math\n",
        "    i_english += i.english\n",
        "    i_science += i.science"
      ],
      "execution_count": 19,
      "outputs": []
    },
    {
      "cell_type": "code",
      "metadata": {
        "colab": {
          "base_uri": "https://localhost:8080/"
        },
        "id": "qo8lG31aPSLV",
        "outputId": "f2857336-46eb-42fa-c2b0-daf34efa7b7a"
      },
      "source": [
        "print('1반 수학 평균',i_math/i_stu_num)\n",
        "print('1반 과학 평균',i_science/i_stu_num)\n",
        "print('1반 영어 평균',i_english/i_stu_num)"
      ],
      "execution_count": 20,
      "outputs": [
        {
          "output_type": "stream",
          "text": [
            "1반 수학 평균 46.25\n",
            "1반 과학 평균 61.5\n",
            "1반 영어 평균 94.75\n"
          ],
          "name": "stdout"
        }
      ]
    }
  ]
}