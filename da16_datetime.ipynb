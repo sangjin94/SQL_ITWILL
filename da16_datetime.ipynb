{
  "nbformat": 4,
  "nbformat_minor": 0,
  "metadata": {
    "colab": {
      "name": "da16_datetime.ipynb",
      "provenance": [],
      "collapsed_sections": [],
      "authorship_tag": "ABX9TyMJFMYBgKlzmJLttDc7roqx",
      "include_colab_link": true
    },
    "kernelspec": {
      "name": "python3",
      "display_name": "Python 3"
    },
    "language_info": {
      "name": "python"
    }
  },
  "cells": [
    {
      "cell_type": "markdown",
      "metadata": {
        "id": "view-in-github",
        "colab_type": "text"
      },
      "source": [
        "<a href=\"https://colab.research.google.com/github/sangjin94/SQL_ITWILL/blob/main/da16_datetime.ipynb\" target=\"_parent\"><img src=\"https://colab.research.google.com/assets/colab-badge.svg\" alt=\"Open In Colab\"/></a>"
      ]
    },
    {
      "cell_type": "markdown",
      "metadata": {
        "id": "TaD52h1yNdjY"
      },
      "source": [
        "* python `datetime` 모듈\n",
        "  * `datetime` 클래스: 날짜(date), 시간(time)과 관련된 정보들을 저장, 표현할 수 있는 기능(메서드)들을 가지고 있는 데이터 타입.\n",
        "  * 파이썬 docs에서 datetime "
      ]
    },
    {
      "cell_type": "code",
      "metadata": {
        "id": "rXkTlo7GOhkP"
      },
      "source": [
        "import datetime # datetime 모듈을 import"
      ],
      "execution_count": 272,
      "outputs": []
    },
    {
      "cell_type": "code",
      "metadata": {
        "colab": {
          "base_uri": "https://localhost:8080/"
        },
        "id": "wyH7x-VzNNWn",
        "outputId": "01784fe4-4724-46c7-8655-1500b8761a83"
      },
      "source": [
        "datetime.datetime.now() #> Colab 가상 머신의 현재 시간을 리턴함. +9시간하면 한국시간 \n",
        "# datetime 모듈에 있는 datetime 클래스에 있는 now() 매서드 호출 "
      ],
      "execution_count": 273,
      "outputs": [
        {
          "output_type": "execute_result",
          "data": {
            "text/plain": [
              "datetime.datetime(2021, 8, 19, 6, 47, 2, 881762)"
            ]
          },
          "metadata": {},
          "execution_count": 273
        }
      ]
    },
    {
      "cell_type": "code",
      "metadata": {
        "id": "hIJCp613QK8E"
      },
      "source": [
        "from datetime import datetime # datetime 모듈에서 datetime 클래스를 import"
      ],
      "execution_count": 274,
      "outputs": []
    },
    {
      "cell_type": "code",
      "metadata": {
        "colab": {
          "base_uri": "https://localhost:8080/"
        },
        "id": "9fTDC2tWQU-C",
        "outputId": "719e21cb-3706-4641-9d0b-9f8a9b0fb386"
      },
      "source": [
        "datetime.now()\n",
        "#datetime 클래스의 now() 매서드 호출"
      ],
      "execution_count": 275,
      "outputs": [
        {
          "output_type": "execute_result",
          "data": {
            "text/plain": [
              "datetime.datetime(2021, 8, 19, 6, 47, 2, 938192)"
            ]
          },
          "metadata": {},
          "execution_count": 275
        }
      ]
    },
    {
      "cell_type": "markdown",
      "metadata": {
        "id": "j_p247QRRMpu"
      },
      "source": [
        "* datetime 클래스의 메서드"
      ]
    },
    {
      "cell_type": "code",
      "metadata": {
        "id": "GrxyNIooRO3x"
      },
      "source": [
        "# datetime.now(): 코드가 실행되는 컴퓨터 OS에서 설정된  시간대의 현재 시간을 리턴\n",
        "curr_dt= datetime.now()"
      ],
      "execution_count": 276,
      "outputs": []
    },
    {
      "cell_type": "code",
      "metadata": {
        "colab": {
          "base_uri": "https://localhost:8080/"
        },
        "id": "vUIG4woYRlTt",
        "outputId": "be69595a-3a7a-41d5-c241-9cb52f128961"
      },
      "source": [
        "curr_dt # expression을 출력"
      ],
      "execution_count": 277,
      "outputs": [
        {
          "output_type": "execute_result",
          "data": {
            "text/plain": [
              "datetime.datetime(2021, 8, 19, 6, 47, 2, 950875)"
            ]
          },
          "metadata": {},
          "execution_count": 277
        }
      ]
    },
    {
      "cell_type": "code",
      "metadata": {
        "colab": {
          "base_uri": "https://localhost:8080/"
        },
        "id": "YpqX7BWoRpdH",
        "outputId": "f2d11f8d-5034-4fd7-d216-d729fea608c4"
      },
      "source": [
        "print(curr_dt) # statement"
      ],
      "execution_count": 278,
      "outputs": [
        {
          "output_type": "stream",
          "text": [
            "2021-08-19 06:47:02.950875\n"
          ],
          "name": "stdout"
        }
      ]
    },
    {
      "cell_type": "markdown",
      "metadata": {
        "id": "lqCrGkz3SL_s"
      },
      "source": [
        "* UTC(Coordinates Universal Timezone): 그리니치 천문대 기준 시간 \n",
        "* KST(Korean Standard Timezone): 한국 표준시 . UTC + 09:00"
      ]
    },
    {
      "cell_type": "code",
      "metadata": {
        "colab": {
          "base_uri": "https://localhost:8080/"
        },
        "id": "CfKaQZXaT8Ui",
        "outputId": "1478812e-e760-48b3-8fb0-657447f0a95a"
      },
      "source": [
        "# datetime.datetime 클래스의 속성들(year,month,hour,minute,second)\n",
        "print(type(curr_dt))\n",
        "print(curr_dt.year)\n",
        "print(curr_dt.month)\n",
        "print(curr_dt.hour)\n",
        "print(curr_dt.minute)\n",
        "print(curr_dt.second)\n",
        "print(f'{curr_dt.hour}:{curr_dt.minute}:{curr_dt.second}')"
      ],
      "execution_count": 279,
      "outputs": [
        {
          "output_type": "stream",
          "text": [
            "<class 'datetime.datetime'>\n",
            "2021\n",
            "8\n",
            "6\n",
            "47\n",
            "2\n",
            "6:47:2\n"
          ],
          "name": "stdout"
        }
      ]
    },
    {
      "cell_type": "code",
      "metadata": {
        "colab": {
          "base_uri": "https://localhost:8080/"
        },
        "id": "9dJbwQ-nVYPL",
        "outputId": "39f306ae-810c-42bd-ec90-b6362e8bd9b4"
      },
      "source": [
        "# datetime.datetime() 생성자 함수\n",
        "yesterday= datetime(2021,8,17)\n",
        "print(yesterday)"
      ],
      "execution_count": 280,
      "outputs": [
        {
          "output_type": "stream",
          "text": [
            "2021-08-17 00:00:00\n"
          ],
          "name": "stdout"
        }
      ]
    },
    {
      "cell_type": "code",
      "metadata": {
        "colab": {
          "base_uri": "https://localhost:8080/"
        },
        "id": "_l4VnYwhWlAF",
        "outputId": "a0ce936d-f9f7-477d-acd4-5c0e752725c4"
      },
      "source": [
        "tomorrow=datetime(2021,8,19,17,20)\n",
        "print(tomorrow)"
      ],
      "execution_count": 281,
      "outputs": [
        {
          "output_type": "stream",
          "text": [
            "2021-08-19 17:20:00\n"
          ],
          "name": "stdout"
        }
      ]
    },
    {
      "cell_type": "code",
      "metadata": {
        "colab": {
          "base_uri": "https://localhost:8080/"
        },
        "id": "V_udytXYWqOF",
        "outputId": "950ab9a7-e7d2-47ee-a28e-a4bdc278cbb6"
      },
      "source": [
        "tomorrow-yesterday # datetime 타입의 변수들으 뺄셈 결과는 timedelta 클래스 타입"
      ],
      "execution_count": 282,
      "outputs": [
        {
          "output_type": "execute_result",
          "data": {
            "text/plain": [
              "datetime.timedelta(days=2, seconds=62400)"
            ]
          },
          "metadata": {},
          "execution_count": 282
        }
      ]
    },
    {
      "cell_type": "markdown",
      "metadata": {
        "id": "bSe4PpKbbNYW"
      },
      "source": [
        "* `datetime`(날짜/시간) 객체 <---> `str`(문자열) 객체\n",
        "  * `datetime.strftime(포맷문자열)`: `datetime` 객체를 포맷 문자열로 형식으로 formatting이 된 문자열로 변환해서 리턴.\n",
        "  * `datetime.strptime(문자열,포맷문자열)`: 문자열(str)을 `datetime`객체로 변환(parsing). \n",
        "\n",
        "* 날짜 포맷 문자열\n",
        "  * `%p` AM/PM(오전/오후) 표시\n",
        "  * 연도(year): `%Y`(4자리연도),`%y`(2자리연도)\n",
        "  * 월(month): `%m`(2자리 숫자),`%B`(월 이름),`%b`(월 이름의 약자)\n",
        "  * 일(day): `%d`(2자리 숫자)\n",
        "  * 시(hour): `%H`(24시간 형식. 0~23 ),`%i`(12시간 형식. 1~12)\n",
        "  * 분(minute):`%M`(2자리 숫자. 00~59)\n",
        "  * 초(second):`%S`(2자리 숫자. 00~59)"
      ]
    },
    {
      "cell_type": "code",
      "metadata": {
        "colab": {
          "base_uri": "https://localhost:8080/"
        },
        "id": "hDdYEQCMWyD-",
        "outputId": "5b602857-8ac2-4d7c-bae9-927c7310dfe1"
      },
      "source": [
        "curr_dt=datetime.now()\n",
        "print(curr_dt)"
      ],
      "execution_count": 283,
      "outputs": [
        {
          "output_type": "stream",
          "text": [
            "2021-08-19 06:47:03.059689\n"
          ],
          "name": "stdout"
        }
      ]
    },
    {
      "cell_type": "code",
      "metadata": {
        "colab": {
          "base_uri": "https://localhost:8080/",
          "height": 36
        },
        "id": "5Ydka_FPeCF6",
        "outputId": "395083a8-1a4b-4023-968e-803e03cdad79"
      },
      "source": [
        "curr_dt.strftime('%Y/%m/%d') # argument로 전달된 포맷으로 formatting된 문자열을 리턴"
      ],
      "execution_count": 284,
      "outputs": [
        {
          "output_type": "execute_result",
          "data": {
            "application/vnd.google.colaboratory.intrinsic+json": {
              "type": "string"
            },
            "text/plain": [
              "'2021/08/19'"
            ]
          },
          "metadata": {},
          "execution_count": 284
        }
      ]
    },
    {
      "cell_type": "code",
      "metadata": {
        "colab": {
          "base_uri": "https://localhost:8080/",
          "height": 36
        },
        "id": "_2WxN6khfBCK",
        "outputId": "52879dc7-2004-4bc4-8fbc-bf2282758a8e"
      },
      "source": [
        "curr_dt.strftime('%b-%d-%y')"
      ],
      "execution_count": 285,
      "outputs": [
        {
          "output_type": "execute_result",
          "data": {
            "application/vnd.google.colaboratory.intrinsic+json": {
              "type": "string"
            },
            "text/plain": [
              "'Aug-19-21'"
            ]
          },
          "metadata": {},
          "execution_count": 285
        }
      ]
    },
    {
      "cell_type": "code",
      "metadata": {
        "colab": {
          "base_uri": "https://localhost:8080/",
          "height": 36
        },
        "id": "_r8D_bJqfuXP",
        "outputId": "b4f3ba2d-a870-4a74-b937-99b32315e0b4"
      },
      "source": [
        "curr_dt.strftime('%I-%M-%S-%p') # %p AM/PM(오전/오후) 표시"
      ],
      "execution_count": 286,
      "outputs": [
        {
          "output_type": "execute_result",
          "data": {
            "application/vnd.google.colaboratory.intrinsic+json": {
              "type": "string"
            },
            "text/plain": [
              "'06-47-03-AM'"
            ]
          },
          "metadata": {},
          "execution_count": 286
        }
      ]
    },
    {
      "cell_type": "markdown",
      "metadata": {
        "id": "lGsqwCfWgCoi"
      },
      "source": [
        "str ---> datetime "
      ]
    },
    {
      "cell_type": "code",
      "metadata": {
        "colab": {
          "base_uri": "https://localhost:8080/"
        },
        "id": "QW6yOR4zgFZ2",
        "outputId": "040c7774-61f4-4807-d032-657d7fb285be"
      },
      "source": [
        "# datetime.strptime(string,format): format 형식의 문자열 string을 datetime 객체로 변환 리턴\n",
        "datetime.strptime('2021-08-18 18:04:30','%Y-%m-%d %H:%M:%S')"
      ],
      "execution_count": 287,
      "outputs": [
        {
          "output_type": "execute_result",
          "data": {
            "text/plain": [
              "datetime.datetime(2021, 8, 18, 18, 4, 30)"
            ]
          },
          "metadata": {},
          "execution_count": 287
        }
      ]
    },
    {
      "cell_type": "code",
      "metadata": {
        "colab": {
          "base_uri": "https://localhost:8080/"
        },
        "id": "ukZIyGsohApE",
        "outputId": "22a335cc-34e1-4923-d6c2-fcca9fec5b63"
      },
      "source": [
        "datetime.strptime('08-18-21','%m-%d-%y') "
      ],
      "execution_count": 288,
      "outputs": [
        {
          "output_type": "execute_result",
          "data": {
            "text/plain": [
              "datetime.datetime(2021, 8, 18, 0, 0)"
            ]
          },
          "metadata": {},
          "execution_count": 288
        }
      ]
    },
    {
      "cell_type": "code",
      "metadata": {
        "colab": {
          "base_uri": "https://localhost:8080/"
        },
        "id": "Ggi5yGFIiMsY",
        "outputId": "c12ebccf-2c93-4c7a-abb3-3ed836f72bc3"
      },
      "source": [
        "datetime.strptime('18-08-21','%y-%m-%d')# 우리나라 방식(년-월-일)"
      ],
      "execution_count": 289,
      "outputs": [
        {
          "output_type": "execute_result",
          "data": {
            "text/plain": [
              "datetime.datetime(2018, 8, 21, 0, 0)"
            ]
          },
          "metadata": {},
          "execution_count": 289
        }
      ]
    },
    {
      "cell_type": "code",
      "metadata": {
        "colab": {
          "base_uri": "https://localhost:8080/"
        },
        "id": "iZRT6d0vibDf",
        "outputId": "473a67e6-a170-4e7b-ab47-f623e4b4de6a"
      },
      "source": [
        "datetime.strptime('18-08-21','%d-%m-%y')# 영국 방식(일-월-년)"
      ],
      "execution_count": 290,
      "outputs": [
        {
          "output_type": "execute_result",
          "data": {
            "text/plain": [
              "datetime.datetime(2021, 8, 18, 0, 0)"
            ]
          },
          "metadata": {},
          "execution_count": 290
        }
      ]
    },
    {
      "cell_type": "markdown",
      "metadata": {
        "id": "NSZpO1Do4l2B"
      },
      "source": [
        "* timestamp( UNIX time, POSIX time, epoch time,..) 1970년 1월 1일 0시 0분 0초를 시작으로해서 1초마다 1씩 증가하는 숫자. \n",
        "* `datetime.fromtimestamp` 메서드: `timestamp`(숫자) ---> `datetime`객체 "
      ]
    },
    {
      "cell_type": "code",
      "metadata": {
        "colab": {
          "base_uri": "https://localhost:8080/"
        },
        "id": "JbGNZzYO5mQ-",
        "outputId": "efc5bc7b-6fd5-4863-e40c-2d76ac300306"
      },
      "source": [
        "curr_dt= datetime.now()\n",
        "print(curr_dt)"
      ],
      "execution_count": 291,
      "outputs": [
        {
          "output_type": "stream",
          "text": [
            "2021-08-19 06:47:03.168398\n"
          ],
          "name": "stdout"
        }
      ]
    },
    {
      "cell_type": "code",
      "metadata": {
        "colab": {
          "base_uri": "https://localhost:8080/"
        },
        "id": "3WyxbmAb6BAu",
        "outputId": "3590ede6-4715-4449-8034-8f4a4bd00d38"
      },
      "source": [
        "ts=curr_dt.timestamp()\n",
        "print(ts)\n",
        "print(type(ts))"
      ],
      "execution_count": 292,
      "outputs": [
        {
          "output_type": "stream",
          "text": [
            "1629355623.168398\n",
            "<class 'float'>\n"
          ],
          "name": "stdout"
        }
      ]
    },
    {
      "cell_type": "code",
      "metadata": {
        "colab": {
          "base_uri": "https://localhost:8080/"
        },
        "id": "0AZcGqWr63GC",
        "outputId": "a5d1bc2c-23f2-4e9f-f0db-bf71e911f07f"
      },
      "source": [
        "dt= datetime.fromtimestamp(1629334480)\n",
        "print(dt)\n",
        "print(type(dt))"
      ],
      "execution_count": 293,
      "outputs": [
        {
          "output_type": "stream",
          "text": [
            "2021-08-19 00:54:40\n",
            "<class 'datetime.datetime'>\n"
          ],
          "name": "stdout"
        }
      ]
    },
    {
      "cell_type": "code",
      "metadata": {
        "id": "w1h50uYZ7mRL"
      },
      "source": [
        "ratings_file='https://github.com/wesm/pydata-book/raw/2nd-edition/datasets/movielens/ratings.dat'"
      ],
      "execution_count": 294,
      "outputs": []
    },
    {
      "cell_type": "code",
      "metadata": {
        "id": "mrUd4JG37ps1"
      },
      "source": [
        "import pandas as pd"
      ],
      "execution_count": 295,
      "outputs": []
    },
    {
      "cell_type": "code",
      "metadata": {
        "id": "UTXx908L7rTM"
      },
      "source": [
        "ratings=pd.read_csv(ratings_file,sep='::',engine='python',\n",
        "                    names=['user_id','moive_id','rating','ts'],\n",
        "                    nrows=10) # 파일에서 10개 행만 읽음"
      ],
      "execution_count": 296,
      "outputs": []
    },
    {
      "cell_type": "code",
      "metadata": {
        "colab": {
          "base_uri": "https://localhost:8080/",
          "height": 362
        },
        "id": "US-sSD458PMo",
        "outputId": "001b7864-1a2d-4aa6-8ae7-0f94920bfb91"
      },
      "source": [
        "ratings"
      ],
      "execution_count": 297,
      "outputs": [
        {
          "output_type": "execute_result",
          "data": {
            "text/html": [
              "<div>\n",
              "<style scoped>\n",
              "    .dataframe tbody tr th:only-of-type {\n",
              "        vertical-align: middle;\n",
              "    }\n",
              "\n",
              "    .dataframe tbody tr th {\n",
              "        vertical-align: top;\n",
              "    }\n",
              "\n",
              "    .dataframe thead th {\n",
              "        text-align: right;\n",
              "    }\n",
              "</style>\n",
              "<table border=\"1\" class=\"dataframe\">\n",
              "  <thead>\n",
              "    <tr style=\"text-align: right;\">\n",
              "      <th></th>\n",
              "      <th>user_id</th>\n",
              "      <th>moive_id</th>\n",
              "      <th>rating</th>\n",
              "      <th>ts</th>\n",
              "    </tr>\n",
              "  </thead>\n",
              "  <tbody>\n",
              "    <tr>\n",
              "      <th>0</th>\n",
              "      <td>1</td>\n",
              "      <td>1193</td>\n",
              "      <td>5</td>\n",
              "      <td>978300760</td>\n",
              "    </tr>\n",
              "    <tr>\n",
              "      <th>1</th>\n",
              "      <td>1</td>\n",
              "      <td>661</td>\n",
              "      <td>3</td>\n",
              "      <td>978302109</td>\n",
              "    </tr>\n",
              "    <tr>\n",
              "      <th>2</th>\n",
              "      <td>1</td>\n",
              "      <td>914</td>\n",
              "      <td>3</td>\n",
              "      <td>978301968</td>\n",
              "    </tr>\n",
              "    <tr>\n",
              "      <th>3</th>\n",
              "      <td>1</td>\n",
              "      <td>3408</td>\n",
              "      <td>4</td>\n",
              "      <td>978300275</td>\n",
              "    </tr>\n",
              "    <tr>\n",
              "      <th>4</th>\n",
              "      <td>1</td>\n",
              "      <td>2355</td>\n",
              "      <td>5</td>\n",
              "      <td>978824291</td>\n",
              "    </tr>\n",
              "    <tr>\n",
              "      <th>5</th>\n",
              "      <td>1</td>\n",
              "      <td>1197</td>\n",
              "      <td>3</td>\n",
              "      <td>978302268</td>\n",
              "    </tr>\n",
              "    <tr>\n",
              "      <th>6</th>\n",
              "      <td>1</td>\n",
              "      <td>1287</td>\n",
              "      <td>5</td>\n",
              "      <td>978302039</td>\n",
              "    </tr>\n",
              "    <tr>\n",
              "      <th>7</th>\n",
              "      <td>1</td>\n",
              "      <td>2804</td>\n",
              "      <td>5</td>\n",
              "      <td>978300719</td>\n",
              "    </tr>\n",
              "    <tr>\n",
              "      <th>8</th>\n",
              "      <td>1</td>\n",
              "      <td>594</td>\n",
              "      <td>4</td>\n",
              "      <td>978302268</td>\n",
              "    </tr>\n",
              "    <tr>\n",
              "      <th>9</th>\n",
              "      <td>1</td>\n",
              "      <td>919</td>\n",
              "      <td>4</td>\n",
              "      <td>978301368</td>\n",
              "    </tr>\n",
              "  </tbody>\n",
              "</table>\n",
              "</div>"
            ],
            "text/plain": [
              "   user_id  moive_id  rating         ts\n",
              "0        1      1193       5  978300760\n",
              "1        1       661       3  978302109\n",
              "2        1       914       3  978301968\n",
              "3        1      3408       4  978300275\n",
              "4        1      2355       5  978824291\n",
              "5        1      1197       3  978302268\n",
              "6        1      1287       5  978302039\n",
              "7        1      2804       5  978300719\n",
              "8        1       594       4  978302268\n",
              "9        1       919       4  978301368"
            ]
          },
          "metadata": {},
          "execution_count": 297
        }
      ]
    },
    {
      "cell_type": "code",
      "metadata": {
        "id": "_hBt4_od8n5m"
      },
      "source": [
        "dates=[] # rating 데이터프레임의 ts값(timestamp)을 datetime 객체로 변환한 값들을 저장하기 위한 리스트\n",
        "for ts in ratings['ts']: # ts 컬럼의 값들을 처음부터 끝까지 반복하면서\n",
        "  dates.append(datetime.fromtimestamp(ts)) #숫자를 datetime으로 변환 후 리스트에 추가\n",
        "\n",
        "# dates에 저장된 값들을 파생변수로 데이터프레임에 추가\n",
        "ratings['dt']=pd.Series(dates) "
      ],
      "execution_count": 298,
      "outputs": []
    },
    {
      "cell_type": "code",
      "metadata": {
        "colab": {
          "base_uri": "https://localhost:8080/",
          "height": 362
        },
        "id": "gUdx8zrn9nHO",
        "outputId": "a9bc5936-09be-4d1c-a122-a3b98fffb0f8"
      },
      "source": [
        "ratings"
      ],
      "execution_count": 299,
      "outputs": [
        {
          "output_type": "execute_result",
          "data": {
            "text/html": [
              "<div>\n",
              "<style scoped>\n",
              "    .dataframe tbody tr th:only-of-type {\n",
              "        vertical-align: middle;\n",
              "    }\n",
              "\n",
              "    .dataframe tbody tr th {\n",
              "        vertical-align: top;\n",
              "    }\n",
              "\n",
              "    .dataframe thead th {\n",
              "        text-align: right;\n",
              "    }\n",
              "</style>\n",
              "<table border=\"1\" class=\"dataframe\">\n",
              "  <thead>\n",
              "    <tr style=\"text-align: right;\">\n",
              "      <th></th>\n",
              "      <th>user_id</th>\n",
              "      <th>moive_id</th>\n",
              "      <th>rating</th>\n",
              "      <th>ts</th>\n",
              "      <th>dt</th>\n",
              "    </tr>\n",
              "  </thead>\n",
              "  <tbody>\n",
              "    <tr>\n",
              "      <th>0</th>\n",
              "      <td>1</td>\n",
              "      <td>1193</td>\n",
              "      <td>5</td>\n",
              "      <td>978300760</td>\n",
              "      <td>2000-12-31 22:12:40</td>\n",
              "    </tr>\n",
              "    <tr>\n",
              "      <th>1</th>\n",
              "      <td>1</td>\n",
              "      <td>661</td>\n",
              "      <td>3</td>\n",
              "      <td>978302109</td>\n",
              "      <td>2000-12-31 22:35:09</td>\n",
              "    </tr>\n",
              "    <tr>\n",
              "      <th>2</th>\n",
              "      <td>1</td>\n",
              "      <td>914</td>\n",
              "      <td>3</td>\n",
              "      <td>978301968</td>\n",
              "      <td>2000-12-31 22:32:48</td>\n",
              "    </tr>\n",
              "    <tr>\n",
              "      <th>3</th>\n",
              "      <td>1</td>\n",
              "      <td>3408</td>\n",
              "      <td>4</td>\n",
              "      <td>978300275</td>\n",
              "      <td>2000-12-31 22:04:35</td>\n",
              "    </tr>\n",
              "    <tr>\n",
              "      <th>4</th>\n",
              "      <td>1</td>\n",
              "      <td>2355</td>\n",
              "      <td>5</td>\n",
              "      <td>978824291</td>\n",
              "      <td>2001-01-06 23:38:11</td>\n",
              "    </tr>\n",
              "    <tr>\n",
              "      <th>5</th>\n",
              "      <td>1</td>\n",
              "      <td>1197</td>\n",
              "      <td>3</td>\n",
              "      <td>978302268</td>\n",
              "      <td>2000-12-31 22:37:48</td>\n",
              "    </tr>\n",
              "    <tr>\n",
              "      <th>6</th>\n",
              "      <td>1</td>\n",
              "      <td>1287</td>\n",
              "      <td>5</td>\n",
              "      <td>978302039</td>\n",
              "      <td>2000-12-31 22:33:59</td>\n",
              "    </tr>\n",
              "    <tr>\n",
              "      <th>7</th>\n",
              "      <td>1</td>\n",
              "      <td>2804</td>\n",
              "      <td>5</td>\n",
              "      <td>978300719</td>\n",
              "      <td>2000-12-31 22:11:59</td>\n",
              "    </tr>\n",
              "    <tr>\n",
              "      <th>8</th>\n",
              "      <td>1</td>\n",
              "      <td>594</td>\n",
              "      <td>4</td>\n",
              "      <td>978302268</td>\n",
              "      <td>2000-12-31 22:37:48</td>\n",
              "    </tr>\n",
              "    <tr>\n",
              "      <th>9</th>\n",
              "      <td>1</td>\n",
              "      <td>919</td>\n",
              "      <td>4</td>\n",
              "      <td>978301368</td>\n",
              "      <td>2000-12-31 22:22:48</td>\n",
              "    </tr>\n",
              "  </tbody>\n",
              "</table>\n",
              "</div>"
            ],
            "text/plain": [
              "   user_id  moive_id  rating         ts                  dt\n",
              "0        1      1193       5  978300760 2000-12-31 22:12:40\n",
              "1        1       661       3  978302109 2000-12-31 22:35:09\n",
              "2        1       914       3  978301968 2000-12-31 22:32:48\n",
              "3        1      3408       4  978300275 2000-12-31 22:04:35\n",
              "4        1      2355       5  978824291 2001-01-06 23:38:11\n",
              "5        1      1197       3  978302268 2000-12-31 22:37:48\n",
              "6        1      1287       5  978302039 2000-12-31 22:33:59\n",
              "7        1      2804       5  978300719 2000-12-31 22:11:59\n",
              "8        1       594       4  978302268 2000-12-31 22:37:48\n",
              "9        1       919       4  978301368 2000-12-31 22:22:48"
            ]
          },
          "metadata": {},
          "execution_count": 299
        }
      ]
    },
    {
      "cell_type": "code",
      "metadata": {
        "colab": {
          "base_uri": "https://localhost:8080/",
          "height": 362
        },
        "id": "Ej8ehVKl_nDC",
        "outputId": "39bd51e0-a181-4927-e917-3bed2035a8b2"
      },
      "source": [
        "# pd.to_datetime() 함수: 문자열 Series 또는 숫자 Series를 datetime Series로 변환\n",
        "ratings['dt2']=pd.to_datetime(ratings['ts'],unit='s')\n",
        "#> unit: timestamp(숫자)가 저장하고 있는 시간의 단위\n",
        "#(s;초, ms : milli_second,us:micro_second,ns: nano_second)\n",
        "ratings"
      ],
      "execution_count": 300,
      "outputs": [
        {
          "output_type": "execute_result",
          "data": {
            "text/html": [
              "<div>\n",
              "<style scoped>\n",
              "    .dataframe tbody tr th:only-of-type {\n",
              "        vertical-align: middle;\n",
              "    }\n",
              "\n",
              "    .dataframe tbody tr th {\n",
              "        vertical-align: top;\n",
              "    }\n",
              "\n",
              "    .dataframe thead th {\n",
              "        text-align: right;\n",
              "    }\n",
              "</style>\n",
              "<table border=\"1\" class=\"dataframe\">\n",
              "  <thead>\n",
              "    <tr style=\"text-align: right;\">\n",
              "      <th></th>\n",
              "      <th>user_id</th>\n",
              "      <th>moive_id</th>\n",
              "      <th>rating</th>\n",
              "      <th>ts</th>\n",
              "      <th>dt</th>\n",
              "      <th>dt2</th>\n",
              "    </tr>\n",
              "  </thead>\n",
              "  <tbody>\n",
              "    <tr>\n",
              "      <th>0</th>\n",
              "      <td>1</td>\n",
              "      <td>1193</td>\n",
              "      <td>5</td>\n",
              "      <td>978300760</td>\n",
              "      <td>2000-12-31 22:12:40</td>\n",
              "      <td>2000-12-31 22:12:40</td>\n",
              "    </tr>\n",
              "    <tr>\n",
              "      <th>1</th>\n",
              "      <td>1</td>\n",
              "      <td>661</td>\n",
              "      <td>3</td>\n",
              "      <td>978302109</td>\n",
              "      <td>2000-12-31 22:35:09</td>\n",
              "      <td>2000-12-31 22:35:09</td>\n",
              "    </tr>\n",
              "    <tr>\n",
              "      <th>2</th>\n",
              "      <td>1</td>\n",
              "      <td>914</td>\n",
              "      <td>3</td>\n",
              "      <td>978301968</td>\n",
              "      <td>2000-12-31 22:32:48</td>\n",
              "      <td>2000-12-31 22:32:48</td>\n",
              "    </tr>\n",
              "    <tr>\n",
              "      <th>3</th>\n",
              "      <td>1</td>\n",
              "      <td>3408</td>\n",
              "      <td>4</td>\n",
              "      <td>978300275</td>\n",
              "      <td>2000-12-31 22:04:35</td>\n",
              "      <td>2000-12-31 22:04:35</td>\n",
              "    </tr>\n",
              "    <tr>\n",
              "      <th>4</th>\n",
              "      <td>1</td>\n",
              "      <td>2355</td>\n",
              "      <td>5</td>\n",
              "      <td>978824291</td>\n",
              "      <td>2001-01-06 23:38:11</td>\n",
              "      <td>2001-01-06 23:38:11</td>\n",
              "    </tr>\n",
              "    <tr>\n",
              "      <th>5</th>\n",
              "      <td>1</td>\n",
              "      <td>1197</td>\n",
              "      <td>3</td>\n",
              "      <td>978302268</td>\n",
              "      <td>2000-12-31 22:37:48</td>\n",
              "      <td>2000-12-31 22:37:48</td>\n",
              "    </tr>\n",
              "    <tr>\n",
              "      <th>6</th>\n",
              "      <td>1</td>\n",
              "      <td>1287</td>\n",
              "      <td>5</td>\n",
              "      <td>978302039</td>\n",
              "      <td>2000-12-31 22:33:59</td>\n",
              "      <td>2000-12-31 22:33:59</td>\n",
              "    </tr>\n",
              "    <tr>\n",
              "      <th>7</th>\n",
              "      <td>1</td>\n",
              "      <td>2804</td>\n",
              "      <td>5</td>\n",
              "      <td>978300719</td>\n",
              "      <td>2000-12-31 22:11:59</td>\n",
              "      <td>2000-12-31 22:11:59</td>\n",
              "    </tr>\n",
              "    <tr>\n",
              "      <th>8</th>\n",
              "      <td>1</td>\n",
              "      <td>594</td>\n",
              "      <td>4</td>\n",
              "      <td>978302268</td>\n",
              "      <td>2000-12-31 22:37:48</td>\n",
              "      <td>2000-12-31 22:37:48</td>\n",
              "    </tr>\n",
              "    <tr>\n",
              "      <th>9</th>\n",
              "      <td>1</td>\n",
              "      <td>919</td>\n",
              "      <td>4</td>\n",
              "      <td>978301368</td>\n",
              "      <td>2000-12-31 22:22:48</td>\n",
              "      <td>2000-12-31 22:22:48</td>\n",
              "    </tr>\n",
              "  </tbody>\n",
              "</table>\n",
              "</div>"
            ],
            "text/plain": [
              "   user_id  moive_id  rating         ts                  dt                 dt2\n",
              "0        1      1193       5  978300760 2000-12-31 22:12:40 2000-12-31 22:12:40\n",
              "1        1       661       3  978302109 2000-12-31 22:35:09 2000-12-31 22:35:09\n",
              "2        1       914       3  978301968 2000-12-31 22:32:48 2000-12-31 22:32:48\n",
              "3        1      3408       4  978300275 2000-12-31 22:04:35 2000-12-31 22:04:35\n",
              "4        1      2355       5  978824291 2001-01-06 23:38:11 2001-01-06 23:38:11\n",
              "5        1      1197       3  978302268 2000-12-31 22:37:48 2000-12-31 22:37:48\n",
              "6        1      1287       5  978302039 2000-12-31 22:33:59 2000-12-31 22:33:59\n",
              "7        1      2804       5  978300719 2000-12-31 22:11:59 2000-12-31 22:11:59\n",
              "8        1       594       4  978302268 2000-12-31 22:37:48 2000-12-31 22:37:48\n",
              "9        1       919       4  978301368 2000-12-31 22:22:48 2000-12-31 22:22:48"
            ]
          },
          "metadata": {},
          "execution_count": 300
        }
      ]
    },
    {
      "cell_type": "markdown",
      "metadata": {
        "id": "KNIAEtDGFFxQ"
      },
      "source": [
        "CSV파일 날짜/시간 처리"
      ]
    },
    {
      "cell_type": "code",
      "metadata": {
        "id": "lhcwAsc2E0Ca"
      },
      "source": [
        "file_path='https://github.com/wesm/pydata-book/raw/2nd-edition/examples/spx.csv'"
      ],
      "execution_count": 301,
      "outputs": []
    },
    {
      "cell_type": "code",
      "metadata": {
        "id": "gBgKuk3xFNEf"
      },
      "source": [
        "df=pd.read_csv(file_path)"
      ],
      "execution_count": 302,
      "outputs": []
    },
    {
      "cell_type": "code",
      "metadata": {
        "colab": {
          "base_uri": "https://localhost:8080/",
          "height": 205
        },
        "id": "LeFZSe34FbXl",
        "outputId": "6155a83c-514e-4551-f11f-11230b53b01c"
      },
      "source": [
        "df.head()"
      ],
      "execution_count": 303,
      "outputs": [
        {
          "output_type": "execute_result",
          "data": {
            "text/html": [
              "<div>\n",
              "<style scoped>\n",
              "    .dataframe tbody tr th:only-of-type {\n",
              "        vertical-align: middle;\n",
              "    }\n",
              "\n",
              "    .dataframe tbody tr th {\n",
              "        vertical-align: top;\n",
              "    }\n",
              "\n",
              "    .dataframe thead th {\n",
              "        text-align: right;\n",
              "    }\n",
              "</style>\n",
              "<table border=\"1\" class=\"dataframe\">\n",
              "  <thead>\n",
              "    <tr style=\"text-align: right;\">\n",
              "      <th></th>\n",
              "      <th>Date</th>\n",
              "      <th>SPX</th>\n",
              "    </tr>\n",
              "  </thead>\n",
              "  <tbody>\n",
              "    <tr>\n",
              "      <th>0</th>\n",
              "      <td>1990-02-01 00:00:00</td>\n",
              "      <td>328.79</td>\n",
              "    </tr>\n",
              "    <tr>\n",
              "      <th>1</th>\n",
              "      <td>1990-02-02 00:00:00</td>\n",
              "      <td>330.92</td>\n",
              "    </tr>\n",
              "    <tr>\n",
              "      <th>2</th>\n",
              "      <td>1990-02-05 00:00:00</td>\n",
              "      <td>331.85</td>\n",
              "    </tr>\n",
              "    <tr>\n",
              "      <th>3</th>\n",
              "      <td>1990-02-06 00:00:00</td>\n",
              "      <td>329.66</td>\n",
              "    </tr>\n",
              "    <tr>\n",
              "      <th>4</th>\n",
              "      <td>1990-02-07 00:00:00</td>\n",
              "      <td>333.75</td>\n",
              "    </tr>\n",
              "  </tbody>\n",
              "</table>\n",
              "</div>"
            ],
            "text/plain": [
              "                  Date     SPX\n",
              "0  1990-02-01 00:00:00  328.79\n",
              "1  1990-02-02 00:00:00  330.92\n",
              "2  1990-02-05 00:00:00  331.85\n",
              "3  1990-02-06 00:00:00  329.66\n",
              "4  1990-02-07 00:00:00  333.75"
            ]
          },
          "metadata": {},
          "execution_count": 303
        }
      ]
    },
    {
      "cell_type": "markdown",
      "metadata": {
        "id": "Og2VOWSaFtg_"
      },
      "source": [
        "데이터프레임의 Date 컬럼의 데이터 타입?"
      ]
    },
    {
      "cell_type": "code",
      "metadata": {
        "colab": {
          "base_uri": "https://localhost:8080/"
        },
        "id": "wRfCei5TF15l",
        "outputId": "c8a02b27-3bf8-4204-cb5e-42d3d0cf514f"
      },
      "source": [
        "df.info() #Date 컬럼의 데이터 타입은 object -> 문자열(str)"
      ],
      "execution_count": 304,
      "outputs": [
        {
          "output_type": "stream",
          "text": [
            "<class 'pandas.core.frame.DataFrame'>\n",
            "RangeIndex: 5472 entries, 0 to 5471\n",
            "Data columns (total 2 columns):\n",
            " #   Column  Non-Null Count  Dtype  \n",
            "---  ------  --------------  -----  \n",
            " 0   Date    5472 non-null   object \n",
            " 1   SPX     5472 non-null   float64\n",
            "dtypes: float64(1), object(1)\n",
            "memory usage: 85.6+ KB\n"
          ],
          "name": "stdout"
        }
      ]
    },
    {
      "cell_type": "code",
      "metadata": {
        "colab": {
          "base_uri": "https://localhost:8080/"
        },
        "id": "9pDK-fsJGhUc",
        "outputId": "27409823-7009-40fa-c641-d8a858fa6f56"
      },
      "source": [
        "# 연도별 주식 가격의 평균, 최소 ,최대\n",
        "df['year']=df['Date'].str[:4].astype('int')\n",
        "df.info()"
      ],
      "execution_count": 305,
      "outputs": [
        {
          "output_type": "stream",
          "text": [
            "<class 'pandas.core.frame.DataFrame'>\n",
            "RangeIndex: 5472 entries, 0 to 5471\n",
            "Data columns (total 3 columns):\n",
            " #   Column  Non-Null Count  Dtype  \n",
            "---  ------  --------------  -----  \n",
            " 0   Date    5472 non-null   object \n",
            " 1   SPX     5472 non-null   float64\n",
            " 2   year    5472 non-null   int64  \n",
            "dtypes: float64(1), int64(1), object(1)\n",
            "memory usage: 128.4+ KB\n"
          ],
          "name": "stdout"
        }
      ]
    },
    {
      "cell_type": "code",
      "metadata": {
        "id": "9aNN8CoTG4As"
      },
      "source": [
        "df['dt']=pd.to_datetime(df['Date'])"
      ],
      "execution_count": 306,
      "outputs": []
    },
    {
      "cell_type": "code",
      "metadata": {
        "colab": {
          "base_uri": "https://localhost:8080/",
          "height": 768
        },
        "id": "vsrFr8pHHBf-",
        "outputId": "40bd11c6-af65-4d92-bc10-9a30f25897d7"
      },
      "source": [
        "df.groupby('year')['SPX'].agg(['mean','min','max'])"
      ],
      "execution_count": 307,
      "outputs": [
        {
          "output_type": "execute_result",
          "data": {
            "text/html": [
              "<div>\n",
              "<style scoped>\n",
              "    .dataframe tbody tr th:only-of-type {\n",
              "        vertical-align: middle;\n",
              "    }\n",
              "\n",
              "    .dataframe tbody tr th {\n",
              "        vertical-align: top;\n",
              "    }\n",
              "\n",
              "    .dataframe thead th {\n",
              "        text-align: right;\n",
              "    }\n",
              "</style>\n",
              "<table border=\"1\" class=\"dataframe\">\n",
              "  <thead>\n",
              "    <tr style=\"text-align: right;\">\n",
              "      <th></th>\n",
              "      <th>mean</th>\n",
              "      <th>min</th>\n",
              "      <th>max</th>\n",
              "    </tr>\n",
              "    <tr>\n",
              "      <th>year</th>\n",
              "      <th></th>\n",
              "      <th></th>\n",
              "      <th></th>\n",
              "    </tr>\n",
              "  </thead>\n",
              "  <tbody>\n",
              "    <tr>\n",
              "      <th>1990</th>\n",
              "      <td>334.123506</td>\n",
              "      <td>295.46</td>\n",
              "      <td>368.95</td>\n",
              "    </tr>\n",
              "    <tr>\n",
              "      <th>1991</th>\n",
              "      <td>376.186324</td>\n",
              "      <td>311.49</td>\n",
              "      <td>417.09</td>\n",
              "    </tr>\n",
              "    <tr>\n",
              "      <th>1992</th>\n",
              "      <td>415.747008</td>\n",
              "      <td>394.50</td>\n",
              "      <td>441.28</td>\n",
              "    </tr>\n",
              "    <tr>\n",
              "      <th>1993</th>\n",
              "      <td>451.614822</td>\n",
              "      <td>429.05</td>\n",
              "      <td>470.94</td>\n",
              "    </tr>\n",
              "    <tr>\n",
              "      <th>1994</th>\n",
              "      <td>460.416508</td>\n",
              "      <td>438.92</td>\n",
              "      <td>482.00</td>\n",
              "    </tr>\n",
              "    <tr>\n",
              "      <th>1995</th>\n",
              "      <td>541.719087</td>\n",
              "      <td>459.11</td>\n",
              "      <td>621.69</td>\n",
              "    </tr>\n",
              "    <tr>\n",
              "      <th>1996</th>\n",
              "      <td>670.494843</td>\n",
              "      <td>598.48</td>\n",
              "      <td>757.03</td>\n",
              "    </tr>\n",
              "    <tr>\n",
              "      <th>1997</th>\n",
              "      <td>873.427787</td>\n",
              "      <td>737.01</td>\n",
              "      <td>983.79</td>\n",
              "    </tr>\n",
              "    <tr>\n",
              "      <th>1998</th>\n",
              "      <td>1085.503254</td>\n",
              "      <td>927.69</td>\n",
              "      <td>1241.81</td>\n",
              "    </tr>\n",
              "    <tr>\n",
              "      <th>1999</th>\n",
              "      <td>1327.329563</td>\n",
              "      <td>1212.19</td>\n",
              "      <td>1469.25</td>\n",
              "    </tr>\n",
              "    <tr>\n",
              "      <th>2000</th>\n",
              "      <td>1427.221071</td>\n",
              "      <td>1264.74</td>\n",
              "      <td>1527.46</td>\n",
              "    </tr>\n",
              "    <tr>\n",
              "      <th>2001</th>\n",
              "      <td>1194.178992</td>\n",
              "      <td>965.80</td>\n",
              "      <td>1373.73</td>\n",
              "    </tr>\n",
              "    <tr>\n",
              "      <th>2002</th>\n",
              "      <td>993.934802</td>\n",
              "      <td>776.76</td>\n",
              "      <td>1172.51</td>\n",
              "    </tr>\n",
              "    <tr>\n",
              "      <th>2003</th>\n",
              "      <td>965.227540</td>\n",
              "      <td>800.73</td>\n",
              "      <td>1111.92</td>\n",
              "    </tr>\n",
              "    <tr>\n",
              "      <th>2004</th>\n",
              "      <td>1130.649444</td>\n",
              "      <td>1063.23</td>\n",
              "      <td>1213.55</td>\n",
              "    </tr>\n",
              "    <tr>\n",
              "      <th>2005</th>\n",
              "      <td>1207.229444</td>\n",
              "      <td>1137.50</td>\n",
              "      <td>1272.74</td>\n",
              "    </tr>\n",
              "    <tr>\n",
              "      <th>2006</th>\n",
              "      <td>1310.461633</td>\n",
              "      <td>1223.69</td>\n",
              "      <td>1427.09</td>\n",
              "    </tr>\n",
              "    <tr>\n",
              "      <th>2007</th>\n",
              "      <td>1477.184343</td>\n",
              "      <td>1374.12</td>\n",
              "      <td>1565.15</td>\n",
              "    </tr>\n",
              "    <tr>\n",
              "      <th>2008</th>\n",
              "      <td>1220.042055</td>\n",
              "      <td>752.44</td>\n",
              "      <td>1447.16</td>\n",
              "    </tr>\n",
              "    <tr>\n",
              "      <th>2009</th>\n",
              "      <td>948.046389</td>\n",
              "      <td>676.53</td>\n",
              "      <td>1127.78</td>\n",
              "    </tr>\n",
              "    <tr>\n",
              "      <th>2010</th>\n",
              "      <td>1139.965516</td>\n",
              "      <td>1022.58</td>\n",
              "      <td>1259.78</td>\n",
              "    </tr>\n",
              "    <tr>\n",
              "      <th>2011</th>\n",
              "      <td>1276.093015</td>\n",
              "      <td>1099.23</td>\n",
              "      <td>1363.61</td>\n",
              "    </tr>\n",
              "  </tbody>\n",
              "</table>\n",
              "</div>"
            ],
            "text/plain": [
              "             mean      min      max\n",
              "year                               \n",
              "1990   334.123506   295.46   368.95\n",
              "1991   376.186324   311.49   417.09\n",
              "1992   415.747008   394.50   441.28\n",
              "1993   451.614822   429.05   470.94\n",
              "1994   460.416508   438.92   482.00\n",
              "1995   541.719087   459.11   621.69\n",
              "1996   670.494843   598.48   757.03\n",
              "1997   873.427787   737.01   983.79\n",
              "1998  1085.503254   927.69  1241.81\n",
              "1999  1327.329563  1212.19  1469.25\n",
              "2000  1427.221071  1264.74  1527.46\n",
              "2001  1194.178992   965.80  1373.73\n",
              "2002   993.934802   776.76  1172.51\n",
              "2003   965.227540   800.73  1111.92\n",
              "2004  1130.649444  1063.23  1213.55\n",
              "2005  1207.229444  1137.50  1272.74\n",
              "2006  1310.461633  1223.69  1427.09\n",
              "2007  1477.184343  1374.12  1565.15\n",
              "2008  1220.042055   752.44  1447.16\n",
              "2009   948.046389   676.53  1127.78\n",
              "2010  1139.965516  1022.58  1259.78\n",
              "2011  1276.093015  1099.23  1363.61"
            ]
          },
          "metadata": {},
          "execution_count": 307
        }
      ]
    },
    {
      "cell_type": "markdown",
      "metadata": {
        "id": "WBJ9-2B8I4x4"
      },
      "source": [
        "Date 컬럼의 타입이 문자열인 경우, 주기별(연도별, 분기별, 월별, ...) 통계를 계산하기 위해서는 문자열을 parsing 해서 파생변수를 추가하고  groupby 계산을 해야함.\n",
        "Date 컬럼의 타입이 datetime인 경우, 그런 계산들을 간단히 수행할 수 있음."
      ]
    },
    {
      "cell_type": "code",
      "metadata": {
        "colab": {
          "base_uri": "https://localhost:8080/"
        },
        "id": "GzzOHRrxJX0i",
        "outputId": "b97c5338-6c5c-4887-87bc-184f4cb07416"
      },
      "source": [
        "df.info()"
      ],
      "execution_count": 308,
      "outputs": [
        {
          "output_type": "stream",
          "text": [
            "<class 'pandas.core.frame.DataFrame'>\n",
            "RangeIndex: 5472 entries, 0 to 5471\n",
            "Data columns (total 4 columns):\n",
            " #   Column  Non-Null Count  Dtype         \n",
            "---  ------  --------------  -----         \n",
            " 0   Date    5472 non-null   object        \n",
            " 1   SPX     5472 non-null   float64       \n",
            " 2   year    5472 non-null   int64         \n",
            " 3   dt      5472 non-null   datetime64[ns]\n",
            "dtypes: datetime64[ns](1), float64(1), int64(1), object(1)\n",
            "memory usage: 171.1+ KB\n"
          ],
          "name": "stdout"
        }
      ]
    },
    {
      "cell_type": "code",
      "metadata": {
        "id": "LGDHjwrSKBjA"
      },
      "source": [
        "# 새로 추가된 dt 컬럼을 index로 변환\n",
        "df=df.set_index('dt')"
      ],
      "execution_count": 309,
      "outputs": []
    },
    {
      "cell_type": "code",
      "metadata": {
        "colab": {
          "base_uri": "https://localhost:8080/",
          "height": 768
        },
        "id": "_hWTTdN3KWMv",
        "outputId": "b5d94acf-9973-4b50-bdfb-94295f60e99e"
      },
      "source": [
        "# df에서 datetime 타입의 인덱스를 사용해서 연도별 SPX 컬럼의 평균,최솟값,최댓값을 계산 \n",
        "df.resample('Y')['SPX'].agg(['mean','min','max'])"
      ],
      "execution_count": 310,
      "outputs": [
        {
          "output_type": "execute_result",
          "data": {
            "text/html": [
              "<div>\n",
              "<style scoped>\n",
              "    .dataframe tbody tr th:only-of-type {\n",
              "        vertical-align: middle;\n",
              "    }\n",
              "\n",
              "    .dataframe tbody tr th {\n",
              "        vertical-align: top;\n",
              "    }\n",
              "\n",
              "    .dataframe thead th {\n",
              "        text-align: right;\n",
              "    }\n",
              "</style>\n",
              "<table border=\"1\" class=\"dataframe\">\n",
              "  <thead>\n",
              "    <tr style=\"text-align: right;\">\n",
              "      <th></th>\n",
              "      <th>mean</th>\n",
              "      <th>min</th>\n",
              "      <th>max</th>\n",
              "    </tr>\n",
              "    <tr>\n",
              "      <th>dt</th>\n",
              "      <th></th>\n",
              "      <th></th>\n",
              "      <th></th>\n",
              "    </tr>\n",
              "  </thead>\n",
              "  <tbody>\n",
              "    <tr>\n",
              "      <th>1990-12-31</th>\n",
              "      <td>334.123506</td>\n",
              "      <td>295.46</td>\n",
              "      <td>368.95</td>\n",
              "    </tr>\n",
              "    <tr>\n",
              "      <th>1991-12-31</th>\n",
              "      <td>376.186324</td>\n",
              "      <td>311.49</td>\n",
              "      <td>417.09</td>\n",
              "    </tr>\n",
              "    <tr>\n",
              "      <th>1992-12-31</th>\n",
              "      <td>415.747008</td>\n",
              "      <td>394.50</td>\n",
              "      <td>441.28</td>\n",
              "    </tr>\n",
              "    <tr>\n",
              "      <th>1993-12-31</th>\n",
              "      <td>451.614822</td>\n",
              "      <td>429.05</td>\n",
              "      <td>470.94</td>\n",
              "    </tr>\n",
              "    <tr>\n",
              "      <th>1994-12-31</th>\n",
              "      <td>460.416508</td>\n",
              "      <td>438.92</td>\n",
              "      <td>482.00</td>\n",
              "    </tr>\n",
              "    <tr>\n",
              "      <th>1995-12-31</th>\n",
              "      <td>541.719087</td>\n",
              "      <td>459.11</td>\n",
              "      <td>621.69</td>\n",
              "    </tr>\n",
              "    <tr>\n",
              "      <th>1996-12-31</th>\n",
              "      <td>670.494843</td>\n",
              "      <td>598.48</td>\n",
              "      <td>757.03</td>\n",
              "    </tr>\n",
              "    <tr>\n",
              "      <th>1997-12-31</th>\n",
              "      <td>873.427787</td>\n",
              "      <td>737.01</td>\n",
              "      <td>983.79</td>\n",
              "    </tr>\n",
              "    <tr>\n",
              "      <th>1998-12-31</th>\n",
              "      <td>1085.503254</td>\n",
              "      <td>927.69</td>\n",
              "      <td>1241.81</td>\n",
              "    </tr>\n",
              "    <tr>\n",
              "      <th>1999-12-31</th>\n",
              "      <td>1327.329563</td>\n",
              "      <td>1212.19</td>\n",
              "      <td>1469.25</td>\n",
              "    </tr>\n",
              "    <tr>\n",
              "      <th>2000-12-31</th>\n",
              "      <td>1427.221071</td>\n",
              "      <td>1264.74</td>\n",
              "      <td>1527.46</td>\n",
              "    </tr>\n",
              "    <tr>\n",
              "      <th>2001-12-31</th>\n",
              "      <td>1194.178992</td>\n",
              "      <td>965.80</td>\n",
              "      <td>1373.73</td>\n",
              "    </tr>\n",
              "    <tr>\n",
              "      <th>2002-12-31</th>\n",
              "      <td>993.934802</td>\n",
              "      <td>776.76</td>\n",
              "      <td>1172.51</td>\n",
              "    </tr>\n",
              "    <tr>\n",
              "      <th>2003-12-31</th>\n",
              "      <td>965.227540</td>\n",
              "      <td>800.73</td>\n",
              "      <td>1111.92</td>\n",
              "    </tr>\n",
              "    <tr>\n",
              "      <th>2004-12-31</th>\n",
              "      <td>1130.649444</td>\n",
              "      <td>1063.23</td>\n",
              "      <td>1213.55</td>\n",
              "    </tr>\n",
              "    <tr>\n",
              "      <th>2005-12-31</th>\n",
              "      <td>1207.229444</td>\n",
              "      <td>1137.50</td>\n",
              "      <td>1272.74</td>\n",
              "    </tr>\n",
              "    <tr>\n",
              "      <th>2006-12-31</th>\n",
              "      <td>1310.461633</td>\n",
              "      <td>1223.69</td>\n",
              "      <td>1427.09</td>\n",
              "    </tr>\n",
              "    <tr>\n",
              "      <th>2007-12-31</th>\n",
              "      <td>1477.184343</td>\n",
              "      <td>1374.12</td>\n",
              "      <td>1565.15</td>\n",
              "    </tr>\n",
              "    <tr>\n",
              "      <th>2008-12-31</th>\n",
              "      <td>1220.042055</td>\n",
              "      <td>752.44</td>\n",
              "      <td>1447.16</td>\n",
              "    </tr>\n",
              "    <tr>\n",
              "      <th>2009-12-31</th>\n",
              "      <td>948.046389</td>\n",
              "      <td>676.53</td>\n",
              "      <td>1127.78</td>\n",
              "    </tr>\n",
              "    <tr>\n",
              "      <th>2010-12-31</th>\n",
              "      <td>1139.965516</td>\n",
              "      <td>1022.58</td>\n",
              "      <td>1259.78</td>\n",
              "    </tr>\n",
              "    <tr>\n",
              "      <th>2011-12-31</th>\n",
              "      <td>1276.093015</td>\n",
              "      <td>1099.23</td>\n",
              "      <td>1363.61</td>\n",
              "    </tr>\n",
              "  </tbody>\n",
              "</table>\n",
              "</div>"
            ],
            "text/plain": [
              "                   mean      min      max\n",
              "dt                                       \n",
              "1990-12-31   334.123506   295.46   368.95\n",
              "1991-12-31   376.186324   311.49   417.09\n",
              "1992-12-31   415.747008   394.50   441.28\n",
              "1993-12-31   451.614822   429.05   470.94\n",
              "1994-12-31   460.416508   438.92   482.00\n",
              "1995-12-31   541.719087   459.11   621.69\n",
              "1996-12-31   670.494843   598.48   757.03\n",
              "1997-12-31   873.427787   737.01   983.79\n",
              "1998-12-31  1085.503254   927.69  1241.81\n",
              "1999-12-31  1327.329563  1212.19  1469.25\n",
              "2000-12-31  1427.221071  1264.74  1527.46\n",
              "2001-12-31  1194.178992   965.80  1373.73\n",
              "2002-12-31   993.934802   776.76  1172.51\n",
              "2003-12-31   965.227540   800.73  1111.92\n",
              "2004-12-31  1130.649444  1063.23  1213.55\n",
              "2005-12-31  1207.229444  1137.50  1272.74\n",
              "2006-12-31  1310.461633  1223.69  1427.09\n",
              "2007-12-31  1477.184343  1374.12  1565.15\n",
              "2008-12-31  1220.042055   752.44  1447.16\n",
              "2009-12-31   948.046389   676.53  1127.78\n",
              "2010-12-31  1139.965516  1022.58  1259.78\n",
              "2011-12-31  1276.093015  1099.23  1363.61"
            ]
          },
          "metadata": {},
          "execution_count": 310
        }
      ]
    },
    {
      "cell_type": "code",
      "metadata": {
        "colab": {
          "base_uri": "https://localhost:8080/",
          "height": 454
        },
        "id": "Izl3IhpUL07M",
        "outputId": "e45122f8-1a22-47da-8639-e088109513e3"
      },
      "source": [
        "# 분기(Quarter)별 통계\n",
        "df.resample('Q')['SPX'].agg(['mean','min','max'])"
      ],
      "execution_count": 311,
      "outputs": [
        {
          "output_type": "execute_result",
          "data": {
            "text/html": [
              "<div>\n",
              "<style scoped>\n",
              "    .dataframe tbody tr th:only-of-type {\n",
              "        vertical-align: middle;\n",
              "    }\n",
              "\n",
              "    .dataframe tbody tr th {\n",
              "        vertical-align: top;\n",
              "    }\n",
              "\n",
              "    .dataframe thead th {\n",
              "        text-align: right;\n",
              "    }\n",
              "</style>\n",
              "<table border=\"1\" class=\"dataframe\">\n",
              "  <thead>\n",
              "    <tr style=\"text-align: right;\">\n",
              "      <th></th>\n",
              "      <th>mean</th>\n",
              "      <th>min</th>\n",
              "      <th>max</th>\n",
              "    </tr>\n",
              "    <tr>\n",
              "      <th>dt</th>\n",
              "      <th></th>\n",
              "      <th></th>\n",
              "      <th></th>\n",
              "    </tr>\n",
              "  </thead>\n",
              "  <tbody>\n",
              "    <tr>\n",
              "      <th>1990-03-31</th>\n",
              "      <td>334.751951</td>\n",
              "      <td>324.15</td>\n",
              "      <td>343.53</td>\n",
              "    </tr>\n",
              "    <tr>\n",
              "      <th>1990-06-30</th>\n",
              "      <td>349.796508</td>\n",
              "      <td>329.11</td>\n",
              "      <td>367.40</td>\n",
              "    </tr>\n",
              "    <tr>\n",
              "      <th>1990-09-30</th>\n",
              "      <td>335.881746</td>\n",
              "      <td>300.97</td>\n",
              "      <td>368.95</td>\n",
              "    </tr>\n",
              "    <tr>\n",
              "      <th>1990-12-31</th>\n",
              "      <td>316.562031</td>\n",
              "      <td>295.46</td>\n",
              "      <td>331.75</td>\n",
              "    </tr>\n",
              "    <tr>\n",
              "      <th>1991-03-31</th>\n",
              "      <td>352.282951</td>\n",
              "      <td>311.49</td>\n",
              "      <td>376.72</td>\n",
              "    </tr>\n",
              "    <tr>\n",
              "      <th>...</th>\n",
              "      <td>...</td>\n",
              "      <td>...</td>\n",
              "      <td>...</td>\n",
              "    </tr>\n",
              "    <tr>\n",
              "      <th>2010-12-31</th>\n",
              "      <td>1204.585625</td>\n",
              "      <td>1137.03</td>\n",
              "      <td>1259.78</td>\n",
              "    </tr>\n",
              "    <tr>\n",
              "      <th>2011-03-31</th>\n",
              "      <td>1302.529032</td>\n",
              "      <td>1256.88</td>\n",
              "      <td>1343.01</td>\n",
              "    </tr>\n",
              "    <tr>\n",
              "      <th>2011-06-30</th>\n",
              "      <td>1318.332857</td>\n",
              "      <td>1265.42</td>\n",
              "      <td>1363.61</td>\n",
              "    </tr>\n",
              "    <tr>\n",
              "      <th>2011-09-30</th>\n",
              "      <td>1225.268437</td>\n",
              "      <td>1119.46</td>\n",
              "      <td>1353.22</td>\n",
              "    </tr>\n",
              "    <tr>\n",
              "      <th>2011-12-31</th>\n",
              "      <td>1171.356000</td>\n",
              "      <td>1099.23</td>\n",
              "      <td>1224.58</td>\n",
              "    </tr>\n",
              "  </tbody>\n",
              "</table>\n",
              "<p>88 rows × 3 columns</p>\n",
              "</div>"
            ],
            "text/plain": [
              "                   mean      min      max\n",
              "dt                                       \n",
              "1990-03-31   334.751951   324.15   343.53\n",
              "1990-06-30   349.796508   329.11   367.40\n",
              "1990-09-30   335.881746   300.97   368.95\n",
              "1990-12-31   316.562031   295.46   331.75\n",
              "1991-03-31   352.282951   311.49   376.72\n",
              "...                 ...      ...      ...\n",
              "2010-12-31  1204.585625  1137.03  1259.78\n",
              "2011-03-31  1302.529032  1256.88  1343.01\n",
              "2011-06-30  1318.332857  1265.42  1363.61\n",
              "2011-09-30  1225.268437  1119.46  1353.22\n",
              "2011-12-31  1171.356000  1099.23  1224.58\n",
              "\n",
              "[88 rows x 3 columns]"
            ]
          },
          "metadata": {},
          "execution_count": 311
        }
      ]
    },
    {
      "cell_type": "code",
      "metadata": {
        "colab": {
          "base_uri": "https://localhost:8080/",
          "height": 454
        },
        "id": "XgpNeFC_MaL7",
        "outputId": "b6b3383f-1860-4e99-fc2a-111cfaf5f54d"
      },
      "source": [
        "# 월(Month)별 통계\n",
        "df.resample('M')['SPX'].agg(['mean','min','max'])"
      ],
      "execution_count": 312,
      "outputs": [
        {
          "output_type": "execute_result",
          "data": {
            "text/html": [
              "<div>\n",
              "<style scoped>\n",
              "    .dataframe tbody tr th:only-of-type {\n",
              "        vertical-align: middle;\n",
              "    }\n",
              "\n",
              "    .dataframe tbody tr th {\n",
              "        vertical-align: top;\n",
              "    }\n",
              "\n",
              "    .dataframe thead th {\n",
              "        text-align: right;\n",
              "    }\n",
              "</style>\n",
              "<table border=\"1\" class=\"dataframe\">\n",
              "  <thead>\n",
              "    <tr style=\"text-align: right;\">\n",
              "      <th></th>\n",
              "      <th>mean</th>\n",
              "      <th>min</th>\n",
              "      <th>max</th>\n",
              "    </tr>\n",
              "    <tr>\n",
              "      <th>dt</th>\n",
              "      <th></th>\n",
              "      <th></th>\n",
              "      <th></th>\n",
              "    </tr>\n",
              "  </thead>\n",
              "  <tbody>\n",
              "    <tr>\n",
              "      <th>1990-02-28</th>\n",
              "      <td>330.452632</td>\n",
              "      <td>324.15</td>\n",
              "      <td>334.89</td>\n",
              "    </tr>\n",
              "    <tr>\n",
              "      <th>1990-03-31</th>\n",
              "      <td>338.465000</td>\n",
              "      <td>332.74</td>\n",
              "      <td>343.53</td>\n",
              "    </tr>\n",
              "    <tr>\n",
              "      <th>1990-04-30</th>\n",
              "      <td>338.178000</td>\n",
              "      <td>329.11</td>\n",
              "      <td>344.74</td>\n",
              "    </tr>\n",
              "    <tr>\n",
              "      <th>1990-05-31</th>\n",
              "      <td>350.250000</td>\n",
              "      <td>332.25</td>\n",
              "      <td>361.23</td>\n",
              "    </tr>\n",
              "    <tr>\n",
              "      <th>1990-06-30</th>\n",
              "      <td>360.386667</td>\n",
              "      <td>352.06</td>\n",
              "      <td>367.40</td>\n",
              "    </tr>\n",
              "    <tr>\n",
              "      <th>...</th>\n",
              "      <td>...</td>\n",
              "      <td>...</td>\n",
              "      <td>...</td>\n",
              "    </tr>\n",
              "    <tr>\n",
              "      <th>2011-06-30</th>\n",
              "      <td>1287.288636</td>\n",
              "      <td>1265.42</td>\n",
              "      <td>1320.64</td>\n",
              "    </tr>\n",
              "    <tr>\n",
              "      <th>2011-07-31</th>\n",
              "      <td>1325.184500</td>\n",
              "      <td>1292.28</td>\n",
              "      <td>1353.22</td>\n",
              "    </tr>\n",
              "    <tr>\n",
              "      <th>2011-08-31</th>\n",
              "      <td>1185.305652</td>\n",
              "      <td>1119.46</td>\n",
              "      <td>1286.94</td>\n",
              "    </tr>\n",
              "    <tr>\n",
              "      <th>2011-09-30</th>\n",
              "      <td>1173.879048</td>\n",
              "      <td>1129.56</td>\n",
              "      <td>1216.01</td>\n",
              "    </tr>\n",
              "    <tr>\n",
              "      <th>2011-10-31</th>\n",
              "      <td>1171.356000</td>\n",
              "      <td>1099.23</td>\n",
              "      <td>1224.58</td>\n",
              "    </tr>\n",
              "  </tbody>\n",
              "</table>\n",
              "<p>261 rows × 3 columns</p>\n",
              "</div>"
            ],
            "text/plain": [
              "                   mean      min      max\n",
              "dt                                       \n",
              "1990-02-28   330.452632   324.15   334.89\n",
              "1990-03-31   338.465000   332.74   343.53\n",
              "1990-04-30   338.178000   329.11   344.74\n",
              "1990-05-31   350.250000   332.25   361.23\n",
              "1990-06-30   360.386667   352.06   367.40\n",
              "...                 ...      ...      ...\n",
              "2011-06-30  1287.288636  1265.42  1320.64\n",
              "2011-07-31  1325.184500  1292.28  1353.22\n",
              "2011-08-31  1185.305652  1119.46  1286.94\n",
              "2011-09-30  1173.879048  1129.56  1216.01\n",
              "2011-10-31  1171.356000  1099.23  1224.58\n",
              "\n",
              "[261 rows x 3 columns]"
            ]
          },
          "metadata": {},
          "execution_count": 312
        }
      ]
    },
    {
      "cell_type": "code",
      "metadata": {
        "id": "oJamUEIcNrON"
      },
      "source": [
        "# CSV 파일을 읽을 때, 날짜/시간 포맷의 문자열을 datetime 객체로 자동 변환\n",
        "df2=pd.read_csv(file_path,parse_dates=['Date'])"
      ],
      "execution_count": 313,
      "outputs": []
    },
    {
      "cell_type": "code",
      "metadata": {
        "colab": {
          "base_uri": "https://localhost:8080/",
          "height": 205
        },
        "id": "AsYfgjQnN9C1",
        "outputId": "e4d45ea7-cdd2-49ea-e71b-a5c14f1fe61f"
      },
      "source": [
        "df2.head()"
      ],
      "execution_count": 314,
      "outputs": [
        {
          "output_type": "execute_result",
          "data": {
            "text/html": [
              "<div>\n",
              "<style scoped>\n",
              "    .dataframe tbody tr th:only-of-type {\n",
              "        vertical-align: middle;\n",
              "    }\n",
              "\n",
              "    .dataframe tbody tr th {\n",
              "        vertical-align: top;\n",
              "    }\n",
              "\n",
              "    .dataframe thead th {\n",
              "        text-align: right;\n",
              "    }\n",
              "</style>\n",
              "<table border=\"1\" class=\"dataframe\">\n",
              "  <thead>\n",
              "    <tr style=\"text-align: right;\">\n",
              "      <th></th>\n",
              "      <th>Date</th>\n",
              "      <th>SPX</th>\n",
              "    </tr>\n",
              "  </thead>\n",
              "  <tbody>\n",
              "    <tr>\n",
              "      <th>0</th>\n",
              "      <td>1990-02-01</td>\n",
              "      <td>328.79</td>\n",
              "    </tr>\n",
              "    <tr>\n",
              "      <th>1</th>\n",
              "      <td>1990-02-02</td>\n",
              "      <td>330.92</td>\n",
              "    </tr>\n",
              "    <tr>\n",
              "      <th>2</th>\n",
              "      <td>1990-02-05</td>\n",
              "      <td>331.85</td>\n",
              "    </tr>\n",
              "    <tr>\n",
              "      <th>3</th>\n",
              "      <td>1990-02-06</td>\n",
              "      <td>329.66</td>\n",
              "    </tr>\n",
              "    <tr>\n",
              "      <th>4</th>\n",
              "      <td>1990-02-07</td>\n",
              "      <td>333.75</td>\n",
              "    </tr>\n",
              "  </tbody>\n",
              "</table>\n",
              "</div>"
            ],
            "text/plain": [
              "        Date     SPX\n",
              "0 1990-02-01  328.79\n",
              "1 1990-02-02  330.92\n",
              "2 1990-02-05  331.85\n",
              "3 1990-02-06  329.66\n",
              "4 1990-02-07  333.75"
            ]
          },
          "metadata": {},
          "execution_count": 314
        }
      ]
    },
    {
      "cell_type": "code",
      "metadata": {
        "colab": {
          "base_uri": "https://localhost:8080/"
        },
        "id": "c6KQMRFfN_wC",
        "outputId": "fe4ce2af-0fa4-482d-c945-e0438954d297"
      },
      "source": [
        "df2.info()"
      ],
      "execution_count": 315,
      "outputs": [
        {
          "output_type": "stream",
          "text": [
            "<class 'pandas.core.frame.DataFrame'>\n",
            "RangeIndex: 5472 entries, 0 to 5471\n",
            "Data columns (total 2 columns):\n",
            " #   Column  Non-Null Count  Dtype         \n",
            "---  ------  --------------  -----         \n",
            " 0   Date    5472 non-null   datetime64[ns]\n",
            " 1   SPX     5472 non-null   float64       \n",
            "dtypes: datetime64[ns](1), float64(1)\n",
            "memory usage: 85.6 KB\n"
          ],
          "name": "stdout"
        }
      ]
    },
    {
      "cell_type": "code",
      "metadata": {
        "colab": {
          "base_uri": "https://localhost:8080/",
          "height": 237
        },
        "id": "yaquec__Obxa",
        "outputId": "00464b11-0d69-44f4-f86b-bce0da591e51"
      },
      "source": [
        "# datetime 객체를 저장하는 컬럼을 (row) index로 설정 -> resample 매서드를 사용하기 위해서\n",
        "df2=df2.set_index('Date')\n",
        "df2.head()"
      ],
      "execution_count": 316,
      "outputs": [
        {
          "output_type": "execute_result",
          "data": {
            "text/html": [
              "<div>\n",
              "<style scoped>\n",
              "    .dataframe tbody tr th:only-of-type {\n",
              "        vertical-align: middle;\n",
              "    }\n",
              "\n",
              "    .dataframe tbody tr th {\n",
              "        vertical-align: top;\n",
              "    }\n",
              "\n",
              "    .dataframe thead th {\n",
              "        text-align: right;\n",
              "    }\n",
              "</style>\n",
              "<table border=\"1\" class=\"dataframe\">\n",
              "  <thead>\n",
              "    <tr style=\"text-align: right;\">\n",
              "      <th></th>\n",
              "      <th>SPX</th>\n",
              "    </tr>\n",
              "    <tr>\n",
              "      <th>Date</th>\n",
              "      <th></th>\n",
              "    </tr>\n",
              "  </thead>\n",
              "  <tbody>\n",
              "    <tr>\n",
              "      <th>1990-02-01</th>\n",
              "      <td>328.79</td>\n",
              "    </tr>\n",
              "    <tr>\n",
              "      <th>1990-02-02</th>\n",
              "      <td>330.92</td>\n",
              "    </tr>\n",
              "    <tr>\n",
              "      <th>1990-02-05</th>\n",
              "      <td>331.85</td>\n",
              "    </tr>\n",
              "    <tr>\n",
              "      <th>1990-02-06</th>\n",
              "      <td>329.66</td>\n",
              "    </tr>\n",
              "    <tr>\n",
              "      <th>1990-02-07</th>\n",
              "      <td>333.75</td>\n",
              "    </tr>\n",
              "  </tbody>\n",
              "</table>\n",
              "</div>"
            ],
            "text/plain": [
              "               SPX\n",
              "Date              \n",
              "1990-02-01  328.79\n",
              "1990-02-02  330.92\n",
              "1990-02-05  331.85\n",
              "1990-02-06  329.66\n",
              "1990-02-07  333.75"
            ]
          },
          "metadata": {},
          "execution_count": 316
        }
      ]
    },
    {
      "cell_type": "code",
      "metadata": {
        "id": "AgAEln0fSI6i"
      },
      "source": [
        "df3= pd.read_csv(file_path,parse_dates=['Date'],index_col=['Date'])\n",
        "#> parse_dates: datetime객체로 변환할 컬럼들의 리스트\n",
        "# parse_dates 파라미터를 사용하는 대신에, pd.to_datetime() 함수를 이용할 수도 있음.\n",
        "#> index_col: (row) index로 만들 컬럼들의 리스트. \n",
        "# index_col 파라미터를 사용하는 대신에, pd.DataFrame.set_index() 메서드를 이용할 수도 있음. "
      ],
      "execution_count": 317,
      "outputs": []
    },
    {
      "cell_type": "code",
      "metadata": {
        "colab": {
          "base_uri": "https://localhost:8080/",
          "height": 237
        },
        "id": "bLRHOUqrShyY",
        "outputId": "1542dc32-bf27-4faf-c29f-681ce9e27c91"
      },
      "source": [
        "df3.head()"
      ],
      "execution_count": 318,
      "outputs": [
        {
          "output_type": "execute_result",
          "data": {
            "text/html": [
              "<div>\n",
              "<style scoped>\n",
              "    .dataframe tbody tr th:only-of-type {\n",
              "        vertical-align: middle;\n",
              "    }\n",
              "\n",
              "    .dataframe tbody tr th {\n",
              "        vertical-align: top;\n",
              "    }\n",
              "\n",
              "    .dataframe thead th {\n",
              "        text-align: right;\n",
              "    }\n",
              "</style>\n",
              "<table border=\"1\" class=\"dataframe\">\n",
              "  <thead>\n",
              "    <tr style=\"text-align: right;\">\n",
              "      <th></th>\n",
              "      <th>SPX</th>\n",
              "    </tr>\n",
              "    <tr>\n",
              "      <th>Date</th>\n",
              "      <th></th>\n",
              "    </tr>\n",
              "  </thead>\n",
              "  <tbody>\n",
              "    <tr>\n",
              "      <th>1990-02-01</th>\n",
              "      <td>328.79</td>\n",
              "    </tr>\n",
              "    <tr>\n",
              "      <th>1990-02-02</th>\n",
              "      <td>330.92</td>\n",
              "    </tr>\n",
              "    <tr>\n",
              "      <th>1990-02-05</th>\n",
              "      <td>331.85</td>\n",
              "    </tr>\n",
              "    <tr>\n",
              "      <th>1990-02-06</th>\n",
              "      <td>329.66</td>\n",
              "    </tr>\n",
              "    <tr>\n",
              "      <th>1990-02-07</th>\n",
              "      <td>333.75</td>\n",
              "    </tr>\n",
              "  </tbody>\n",
              "</table>\n",
              "</div>"
            ],
            "text/plain": [
              "               SPX\n",
              "Date              \n",
              "1990-02-01  328.79\n",
              "1990-02-02  330.92\n",
              "1990-02-05  331.85\n",
              "1990-02-06  329.66\n",
              "1990-02-07  333.75"
            ]
          },
          "metadata": {},
          "execution_count": 318
        }
      ]
    },
    {
      "cell_type": "code",
      "metadata": {
        "colab": {
          "base_uri": "https://localhost:8080/"
        },
        "id": "rs12HPw5Sm1g",
        "outputId": "b053393d-5333-4c95-a32b-efe476028add"
      },
      "source": [
        "df3.info()"
      ],
      "execution_count": 319,
      "outputs": [
        {
          "output_type": "stream",
          "text": [
            "<class 'pandas.core.frame.DataFrame'>\n",
            "DatetimeIndex: 5472 entries, 1990-02-01 to 2011-10-14\n",
            "Data columns (total 1 columns):\n",
            " #   Column  Non-Null Count  Dtype  \n",
            "---  ------  --------------  -----  \n",
            " 0   SPX     5472 non-null   float64\n",
            "dtypes: float64(1)\n",
            "memory usage: 85.5 KB\n"
          ],
          "name": "stdout"
        }
      ]
    },
    {
      "cell_type": "markdown",
      "metadata": {
        "id": "5_YWeZ0BVc5E"
      },
      "source": [
        "* github에 저장된 banklist.csv 파일을 읽고, 데이터 프레임을 생성\n",
        "* datetime 타입으로 변환할 수 있는 컬럼(들)을 타입 변환\n",
        "* 연도별 파산한 은행 숫자를 찾고, 시각화 \n",
        "* 분기별 파산한 은행 숫자를 찾고, 시각화\n",
        "* 파산한 날짜를 인덱스로 "
      ]
    },
    {
      "cell_type": "code",
      "metadata": {
        "id": "tRf2IXaRV9_f"
      },
      "source": [
        "import matplotlib.pyplot as plt\n",
        "import seaborn as sns\n",
        "import pandas as pd\n"
      ],
      "execution_count": 320,
      "outputs": []
    },
    {
      "cell_type": "code",
      "metadata": {
        "id": "n2Karfe4T8tp"
      },
      "source": [
        "bank_file='https://github.com/JakeOh/202105_itw_bd26/raw/main/datasets/banklist.csv'"
      ],
      "execution_count": 321,
      "outputs": []
    },
    {
      "cell_type": "code",
      "metadata": {
        "id": "7kVYjJ7AUBPn"
      },
      "source": [
        "banklist=pd.read_csv(bank_file,parse_dates=['Closing Date','Updated Date'],index_col=['Closing Date'])"
      ],
      "execution_count": 322,
      "outputs": []
    },
    {
      "cell_type": "code",
      "metadata": {
        "colab": {
          "base_uri": "https://localhost:8080/",
          "height": 454
        },
        "id": "7VW7GtRjWbqF",
        "outputId": "c08e6bad-b75a-4fb9-ca46-7c3a43c0b5e7"
      },
      "source": [
        "banklist"
      ],
      "execution_count": 323,
      "outputs": [
        {
          "output_type": "execute_result",
          "data": {
            "text/html": [
              "<div>\n",
              "<style scoped>\n",
              "    .dataframe tbody tr th:only-of-type {\n",
              "        vertical-align: middle;\n",
              "    }\n",
              "\n",
              "    .dataframe tbody tr th {\n",
              "        vertical-align: top;\n",
              "    }\n",
              "\n",
              "    .dataframe thead th {\n",
              "        text-align: right;\n",
              "    }\n",
              "</style>\n",
              "<table border=\"1\" class=\"dataframe\">\n",
              "  <thead>\n",
              "    <tr style=\"text-align: right;\">\n",
              "      <th></th>\n",
              "      <th>Bank Name</th>\n",
              "      <th>City</th>\n",
              "      <th>ST</th>\n",
              "      <th>CERT</th>\n",
              "      <th>Acquiring Institution</th>\n",
              "      <th>Updated Date</th>\n",
              "    </tr>\n",
              "    <tr>\n",
              "      <th>Closing Date</th>\n",
              "      <th></th>\n",
              "      <th></th>\n",
              "      <th></th>\n",
              "      <th></th>\n",
              "      <th></th>\n",
              "      <th></th>\n",
              "    </tr>\n",
              "  </thead>\n",
              "  <tbody>\n",
              "    <tr>\n",
              "      <th>2017-12-15</th>\n",
              "      <td>Washington Federal Bank for Savings</td>\n",
              "      <td>Chicago</td>\n",
              "      <td>IL</td>\n",
              "      <td>30570</td>\n",
              "      <td>Royal Savings Bank</td>\n",
              "      <td>2017-12-20</td>\n",
              "    </tr>\n",
              "    <tr>\n",
              "      <th>2017-10-13</th>\n",
              "      <td>The Farmers and Merchants State Bank of Argonia</td>\n",
              "      <td>Argonia</td>\n",
              "      <td>KS</td>\n",
              "      <td>17719</td>\n",
              "      <td>Conway Bank</td>\n",
              "      <td>2017-10-20</td>\n",
              "    </tr>\n",
              "    <tr>\n",
              "      <th>2017-05-26</th>\n",
              "      <td>Fayette County Bank</td>\n",
              "      <td>Saint Elmo</td>\n",
              "      <td>IL</td>\n",
              "      <td>1802</td>\n",
              "      <td>United Fidelity Bank, fsb</td>\n",
              "      <td>2017-07-26</td>\n",
              "    </tr>\n",
              "    <tr>\n",
              "      <th>2017-05-05</th>\n",
              "      <td>Guaranty Bank, (d/b/a BestBank in Georgia &amp; Mi...</td>\n",
              "      <td>Milwaukee</td>\n",
              "      <td>WI</td>\n",
              "      <td>30003</td>\n",
              "      <td>First-Citizens Bank &amp; Trust Company</td>\n",
              "      <td>2017-07-26</td>\n",
              "    </tr>\n",
              "    <tr>\n",
              "      <th>2017-04-28</th>\n",
              "      <td>First NBC Bank</td>\n",
              "      <td>New Orleans</td>\n",
              "      <td>LA</td>\n",
              "      <td>58302</td>\n",
              "      <td>Whitney Bank</td>\n",
              "      <td>2017-12-05</td>\n",
              "    </tr>\n",
              "    <tr>\n",
              "      <th>...</th>\n",
              "      <td>...</td>\n",
              "      <td>...</td>\n",
              "      <td>...</td>\n",
              "      <td>...</td>\n",
              "      <td>...</td>\n",
              "      <td>...</td>\n",
              "    </tr>\n",
              "    <tr>\n",
              "      <th>2001-07-27</th>\n",
              "      <td>Superior Bank, FSB</td>\n",
              "      <td>Hinsdale</td>\n",
              "      <td>IL</td>\n",
              "      <td>32646</td>\n",
              "      <td>Superior Federal, FSB</td>\n",
              "      <td>2014-08-19</td>\n",
              "    </tr>\n",
              "    <tr>\n",
              "      <th>2001-05-03</th>\n",
              "      <td>Malta National Bank</td>\n",
              "      <td>Malta</td>\n",
              "      <td>OH</td>\n",
              "      <td>6629</td>\n",
              "      <td>North Valley Bank</td>\n",
              "      <td>2002-11-18</td>\n",
              "    </tr>\n",
              "    <tr>\n",
              "      <th>2001-02-02</th>\n",
              "      <td>First Alliance Bank &amp; Trust Co.</td>\n",
              "      <td>Manchester</td>\n",
              "      <td>NH</td>\n",
              "      <td>34264</td>\n",
              "      <td>Southern New Hampshire Bank &amp; Trust</td>\n",
              "      <td>2003-02-18</td>\n",
              "    </tr>\n",
              "    <tr>\n",
              "      <th>2000-12-14</th>\n",
              "      <td>National State Bank of Metropolis</td>\n",
              "      <td>Metropolis</td>\n",
              "      <td>IL</td>\n",
              "      <td>3815</td>\n",
              "      <td>Banterra Bank of Marion</td>\n",
              "      <td>2005-03-17</td>\n",
              "    </tr>\n",
              "    <tr>\n",
              "      <th>2000-10-13</th>\n",
              "      <td>Bank of Honolulu</td>\n",
              "      <td>Honolulu</td>\n",
              "      <td>HI</td>\n",
              "      <td>21029</td>\n",
              "      <td>Bank of the Orient</td>\n",
              "      <td>2005-03-17</td>\n",
              "    </tr>\n",
              "  </tbody>\n",
              "</table>\n",
              "<p>555 rows × 6 columns</p>\n",
              "</div>"
            ],
            "text/plain": [
              "                                                      Bank Name  ... Updated Date\n",
              "Closing Date                                                     ...             \n",
              "2017-12-15                  Washington Federal Bank for Savings  ...   2017-12-20\n",
              "2017-10-13      The Farmers and Merchants State Bank of Argonia  ...   2017-10-20\n",
              "2017-05-26                                  Fayette County Bank  ...   2017-07-26\n",
              "2017-05-05    Guaranty Bank, (d/b/a BestBank in Georgia & Mi...  ...   2017-07-26\n",
              "2017-04-28                                       First NBC Bank  ...   2017-12-05\n",
              "...                                                         ...  ...          ...\n",
              "2001-07-27                                   Superior Bank, FSB  ...   2014-08-19\n",
              "2001-05-03                                  Malta National Bank  ...   2002-11-18\n",
              "2001-02-02                      First Alliance Bank & Trust Co.  ...   2003-02-18\n",
              "2000-12-14                    National State Bank of Metropolis  ...   2005-03-17\n",
              "2000-10-13                                     Bank of Honolulu  ...   2005-03-17\n",
              "\n",
              "[555 rows x 6 columns]"
            ]
          },
          "metadata": {},
          "execution_count": 323
        }
      ]
    },
    {
      "cell_type": "code",
      "metadata": {
        "colab": {
          "base_uri": "https://localhost:8080/"
        },
        "id": "ReF88rAvxgpU",
        "outputId": "91076537-6617-462f-a666-d961b3058048"
      },
      "source": [
        "Year_bank2=banklist.resample('Y').size() # 아래함수와 같음\n",
        "Year_bank2"
      ],
      "execution_count": 324,
      "outputs": [
        {
          "output_type": "execute_result",
          "data": {
            "text/plain": [
              "Closing Date\n",
              "2000-12-31      2\n",
              "2001-12-31      4\n",
              "2002-12-31     11\n",
              "2003-12-31      3\n",
              "2004-12-31      4\n",
              "2005-12-31      0\n",
              "2006-12-31      0\n",
              "2007-12-31      3\n",
              "2008-12-31     25\n",
              "2009-12-31    140\n",
              "2010-12-31    157\n",
              "2011-12-31     92\n",
              "2012-12-31     51\n",
              "2013-12-31     24\n",
              "2014-12-31     18\n",
              "2015-12-31      8\n",
              "2016-12-31      5\n",
              "2017-12-31      8\n",
              "Freq: A-DEC, dtype: int64"
            ]
          },
          "metadata": {},
          "execution_count": 324
        }
      ]
    },
    {
      "cell_type": "code",
      "metadata": {
        "colab": {
          "base_uri": "https://localhost:8080/"
        },
        "id": "QJ53hIh7WwbX",
        "outputId": "cb1faf7e-0ec6-4fbd-8653-2c2e4e7eb31f"
      },
      "source": [
        "Year_bank=banklist.resample('Y')['Bank Name'].agg('count')\n",
        "Year_bank"
      ],
      "execution_count": 325,
      "outputs": [
        {
          "output_type": "execute_result",
          "data": {
            "text/plain": [
              "Closing Date\n",
              "2000-12-31      2\n",
              "2001-12-31      4\n",
              "2002-12-31     11\n",
              "2003-12-31      3\n",
              "2004-12-31      4\n",
              "2005-12-31      0\n",
              "2006-12-31      0\n",
              "2007-12-31      3\n",
              "2008-12-31     25\n",
              "2009-12-31    140\n",
              "2010-12-31    157\n",
              "2011-12-31     92\n",
              "2012-12-31     51\n",
              "2013-12-31     24\n",
              "2014-12-31     18\n",
              "2015-12-31      8\n",
              "2016-12-31      5\n",
              "2017-12-31      8\n",
              "Freq: A-DEC, Name: Bank Name, dtype: int64"
            ]
          },
          "metadata": {},
          "execution_count": 325
        }
      ]
    },
    {
      "cell_type": "code",
      "metadata": {
        "colab": {
          "base_uri": "https://localhost:8080/",
          "height": 297
        },
        "id": "QtTEzdCZXW0N",
        "outputId": "1fce9a41-f2ec-4462-e3cb-142fd86da013"
      },
      "source": [
        "sns.barplot(y=Year_bank.values,x=Year_bank.index)"
      ],
      "execution_count": 326,
      "outputs": [
        {
          "output_type": "execute_result",
          "data": {
            "text/plain": [
              "<matplotlib.axes._subplots.AxesSubplot at 0x7f0b8b49a250>"
            ]
          },
          "metadata": {},
          "execution_count": 326
        },
        {
          "output_type": "display_data",
          "data": {
            "image/png": "[encoded data removed]",
            "text/plain": [
              "<Figure size 432x288 with 1 Axes>"
            ]
          },
          "metadata": {
            "needs_background": "light"
          }
        }
      ]
    },
    {
      "cell_type": "code",
      "metadata": {
        "id": "-6f8JZdzXNnl"
      },
      "source": [
        "Q_bank=banklist.resample('Q')['Bank Name'].agg('count')"
      ],
      "execution_count": 327,
      "outputs": []
    },
    {
      "cell_type": "code",
      "metadata": {
        "colab": {
          "base_uri": "https://localhost:8080/",
          "height": 265
        },
        "id": "lRnbw8gEyHJz",
        "outputId": "2e432a77-fd3f-49a5-811b-262f2dcec53c"
      },
      "source": [
        "plt.plot(Year_bank,marker='o')\n",
        "plt.grid()\n",
        "plt.show()"
      ],
      "execution_count": 328,
      "outputs": [
        {
          "output_type": "display_data",
          "data": {
            "image/png": "[encoded data removed]",
            "text/plain": [
              "<Figure size 432x288 with 1 Axes>"
            ]
          },
          "metadata": {
            "needs_background": "light"
          }
        }
      ]
    },
    {
      "cell_type": "code",
      "metadata": {
        "colab": {
          "base_uri": "https://localhost:8080/",
          "height": 297
        },
        "id": "AbIBFGpvXqfT",
        "outputId": "c5f8a232-2b01-49ae-c157-ce73c641c416"
      },
      "source": [
        "sns.barplot(y=Q_bank.values,x=Q_bank.index)"
      ],
      "execution_count": 329,
      "outputs": [
        {
          "output_type": "execute_result",
          "data": {
            "text/plain": [
              "<matplotlib.axes._subplots.AxesSubplot at 0x7f0b8b7ca810>"
            ]
          },
          "metadata": {},
          "execution_count": 329
        },
        {
          "output_type": "display_data",
          "data": {
            "image/png": "[encoded data removed]",
            "text/plain": [
              "<Figure size 432x288 with 1 Axes>"
            ]
          },
          "metadata": {
            "needs_background": "light"
          }
        }
      ]
    },
    {
      "cell_type": "markdown",
      "metadata": {
        "id": "EJR7PUIr2N-K"
      },
      "source": [
        "대기 중 NO2 농도 측정 데이터"
      ]
    },
    {
      "cell_type": "code",
      "metadata": {
        "id": "J8AN_MEb2OT-"
      },
      "source": [
        "no2_file='https://github.com/pandas-dev/pandas/raw/master/doc/data/air_quality_no2_long.csv'"
      ],
      "execution_count": 330,
      "outputs": []
    },
    {
      "cell_type": "markdown",
      "metadata": {
        "id": "LM6A2-FX2aI2"
      },
      "source": [
        "* csv 파일을 읽고 DataFrame을 생성\n",
        "* datetime타입으로 변환할 수 있는 컬럼을 변환"
      ]
    },
    {
      "cell_type": "code",
      "metadata": {
        "id": "5yMjw-tv2roN"
      },
      "source": [
        "air_quality=pd.read_csv(no2_file)"
      ],
      "execution_count": 331,
      "outputs": []
    },
    {
      "cell_type": "code",
      "metadata": {
        "id": "y4vd84QK3Ck0"
      },
      "source": [
        "air_quality['date.utc']=pd.to_datetime(air_quality['date.utc'])"
      ],
      "execution_count": 332,
      "outputs": []
    },
    {
      "cell_type": "markdown",
      "metadata": {
        "id": "5Pa6nOYd9oK9"
      },
      "source": [
        "datetime64 타입의 컬럼에서도 min,max 메서드를 사용할 수 있음. "
      ]
    },
    {
      "cell_type": "code",
      "metadata": {
        "colab": {
          "base_uri": "https://localhost:8080/"
        },
        "id": "RGQi3V7o32M2",
        "outputId": "6e067173-09b6-42c1-908c-25a3290885f6"
      },
      "source": [
        "air_quality['date.utc'].min()"
      ],
      "execution_count": 333,
      "outputs": [
        {
          "output_type": "execute_result",
          "data": {
            "text/plain": [
              "Timestamp('2019-05-07 01:00:00+0000', tz='UTC')"
            ]
          },
          "metadata": {},
          "execution_count": 333
        }
      ]
    },
    {
      "cell_type": "code",
      "metadata": {
        "colab": {
          "base_uri": "https://localhost:8080/"
        },
        "id": "8FgIN_FS9lVv",
        "outputId": "13819877-7aa5-4659-effb-a6afde7772fa"
      },
      "source": [
        "air_quality['date.utc'].max()"
      ],
      "execution_count": 334,
      "outputs": [
        {
          "output_type": "execute_result",
          "data": {
            "text/plain": [
              "Timestamp('2019-06-21 00:00:00+0000', tz='UTC')"
            ]
          },
          "metadata": {},
          "execution_count": 334
        }
      ]
    },
    {
      "cell_type": "markdown",
      "metadata": {
        "id": "4M-HWMy4-5yd"
      },
      "source": [
        "datetime64 타입의 컬럼에서 년/월/일/시/분/초/요일 등의 정보 추출"
      ]
    },
    {
      "cell_type": "code",
      "metadata": {
        "colab": {
          "base_uri": "https://localhost:8080/"
        },
        "id": "whpga-ut-9AN",
        "outputId": "0dbe2742-cbb3-4335-d456-b9351973936b"
      },
      "source": [
        "air_quality['date.utc'].dt.year"
      ],
      "execution_count": 335,
      "outputs": [
        {
          "output_type": "execute_result",
          "data": {
            "text/plain": [
              "0       2019\n",
              "1       2019\n",
              "2       2019\n",
              "3       2019\n",
              "4       2019\n",
              "        ... \n",
              "2063    2019\n",
              "2064    2019\n",
              "2065    2019\n",
              "2066    2019\n",
              "2067    2019\n",
              "Name: date.utc, Length: 2068, dtype: int64"
            ]
          },
          "metadata": {},
          "execution_count": 335
        }
      ]
    },
    {
      "cell_type": "code",
      "metadata": {
        "colab": {
          "base_uri": "https://localhost:8080/"
        },
        "id": "J1Sx4ioc_uLx",
        "outputId": "ed4a2127-ecca-4cb6-a124-0225fef0ece2"
      },
      "source": [
        "air_quality['date.utc'].dt.month"
      ],
      "execution_count": 336,
      "outputs": [
        {
          "output_type": "execute_result",
          "data": {
            "text/plain": [
              "0       6\n",
              "1       6\n",
              "2       6\n",
              "3       6\n",
              "4       6\n",
              "       ..\n",
              "2063    5\n",
              "2064    5\n",
              "2065    5\n",
              "2066    5\n",
              "2067    5\n",
              "Name: date.utc, Length: 2068, dtype: int64"
            ]
          },
          "metadata": {},
          "execution_count": 336
        }
      ]
    },
    {
      "cell_type": "code",
      "metadata": {
        "colab": {
          "base_uri": "https://localhost:8080/"
        },
        "id": "-wSIoC0lAG4c",
        "outputId": "aea723c4-0676-4810-c8fa-f48f62d5e287"
      },
      "source": [
        "air_quality['date.utc'].dt.weekday # datetime에서 요일 정보 추출\n",
        "# 0(월요일),1(화요일),...,5(토요일),6(일요일)"
      ],
      "execution_count": 337,
      "outputs": [
        {
          "output_type": "execute_result",
          "data": {
            "text/plain": [
              "0       4\n",
              "1       3\n",
              "2       3\n",
              "3       3\n",
              "4       3\n",
              "       ..\n",
              "2063    1\n",
              "2064    1\n",
              "2065    1\n",
              "2066    1\n",
              "2067    1\n",
              "Name: date.utc, Length: 2068, dtype: int64"
            ]
          },
          "metadata": {},
          "execution_count": 337
        }
      ]
    },
    {
      "cell_type": "markdown",
      "metadata": {
        "id": "ICaNURApBSSa"
      },
      "source": [
        "하루 중 언제 NO2의 농도가 가장 높을까? \n",
        "  * 시간대별 도시별 NO2 평균 계산,시각화"
      ]
    },
    {
      "cell_type": "code",
      "metadata": {
        "id": "GINbcfbCBZIO"
      },
      "source": [
        "air_quality['hour']=air_quality['date.utc'].dt.hour"
      ],
      "execution_count": 338,
      "outputs": []
    },
    {
      "cell_type": "code",
      "metadata": {
        "colab": {
          "base_uri": "https://localhost:8080/",
          "height": 422
        },
        "id": "FoNepR5CByHB",
        "outputId": "dd9b534a-3c2b-45ab-9034-1d6997332f83"
      },
      "source": [
        "air_quality"
      ],
      "execution_count": 339,
      "outputs": [
        {
          "output_type": "execute_result",
          "data": {
            "text/html": [
              "<div>\n",
              "<style scoped>\n",
              "    .dataframe tbody tr th:only-of-type {\n",
              "        vertical-align: middle;\n",
              "    }\n",
              "\n",
              "    .dataframe tbody tr th {\n",
              "        vertical-align: top;\n",
              "    }\n",
              "\n",
              "    .dataframe thead th {\n",
              "        text-align: right;\n",
              "    }\n",
              "</style>\n",
              "<table border=\"1\" class=\"dataframe\">\n",
              "  <thead>\n",
              "    <tr style=\"text-align: right;\">\n",
              "      <th></th>\n",
              "      <th>city</th>\n",
              "      <th>country</th>\n",
              "      <th>date.utc</th>\n",
              "      <th>location</th>\n",
              "      <th>parameter</th>\n",
              "      <th>value</th>\n",
              "      <th>unit</th>\n",
              "      <th>hour</th>\n",
              "    </tr>\n",
              "  </thead>\n",
              "  <tbody>\n",
              "    <tr>\n",
              "      <th>0</th>\n",
              "      <td>Paris</td>\n",
              "      <td>FR</td>\n",
              "      <td>2019-06-21 00:00:00+00:00</td>\n",
              "      <td>FR04014</td>\n",
              "      <td>no2</td>\n",
              "      <td>20.0</td>\n",
              "      <td>µg/m³</td>\n",
              "      <td>0</td>\n",
              "    </tr>\n",
              "    <tr>\n",
              "      <th>1</th>\n",
              "      <td>Paris</td>\n",
              "      <td>FR</td>\n",
              "      <td>2019-06-20 23:00:00+00:00</td>\n",
              "      <td>FR04014</td>\n",
              "      <td>no2</td>\n",
              "      <td>21.8</td>\n",
              "      <td>µg/m³</td>\n",
              "      <td>23</td>\n",
              "    </tr>\n",
              "    <tr>\n",
              "      <th>2</th>\n",
              "      <td>Paris</td>\n",
              "      <td>FR</td>\n",
              "      <td>2019-06-20 22:00:00+00:00</td>\n",
              "      <td>FR04014</td>\n",
              "      <td>no2</td>\n",
              "      <td>26.5</td>\n",
              "      <td>µg/m³</td>\n",
              "      <td>22</td>\n",
              "    </tr>\n",
              "    <tr>\n",
              "      <th>3</th>\n",
              "      <td>Paris</td>\n",
              "      <td>FR</td>\n",
              "      <td>2019-06-20 21:00:00+00:00</td>\n",
              "      <td>FR04014</td>\n",
              "      <td>no2</td>\n",
              "      <td>24.9</td>\n",
              "      <td>µg/m³</td>\n",
              "      <td>21</td>\n",
              "    </tr>\n",
              "    <tr>\n",
              "      <th>4</th>\n",
              "      <td>Paris</td>\n",
              "      <td>FR</td>\n",
              "      <td>2019-06-20 20:00:00+00:00</td>\n",
              "      <td>FR04014</td>\n",
              "      <td>no2</td>\n",
              "      <td>21.4</td>\n",
              "      <td>µg/m³</td>\n",
              "      <td>20</td>\n",
              "    </tr>\n",
              "    <tr>\n",
              "      <th>...</th>\n",
              "      <td>...</td>\n",
              "      <td>...</td>\n",
              "      <td>...</td>\n",
              "      <td>...</td>\n",
              "      <td>...</td>\n",
              "      <td>...</td>\n",
              "      <td>...</td>\n",
              "      <td>...</td>\n",
              "    </tr>\n",
              "    <tr>\n",
              "      <th>2063</th>\n",
              "      <td>London</td>\n",
              "      <td>GB</td>\n",
              "      <td>2019-05-07 06:00:00+00:00</td>\n",
              "      <td>London Westminster</td>\n",
              "      <td>no2</td>\n",
              "      <td>26.0</td>\n",
              "      <td>µg/m³</td>\n",
              "      <td>6</td>\n",
              "    </tr>\n",
              "    <tr>\n",
              "      <th>2064</th>\n",
              "      <td>London</td>\n",
              "      <td>GB</td>\n",
              "      <td>2019-05-07 04:00:00+00:00</td>\n",
              "      <td>London Westminster</td>\n",
              "      <td>no2</td>\n",
              "      <td>16.0</td>\n",
              "      <td>µg/m³</td>\n",
              "      <td>4</td>\n",
              "    </tr>\n",
              "    <tr>\n",
              "      <th>2065</th>\n",
              "      <td>London</td>\n",
              "      <td>GB</td>\n",
              "      <td>2019-05-07 03:00:00+00:00</td>\n",
              "      <td>London Westminster</td>\n",
              "      <td>no2</td>\n",
              "      <td>19.0</td>\n",
              "      <td>µg/m³</td>\n",
              "      <td>3</td>\n",
              "    </tr>\n",
              "    <tr>\n",
              "      <th>2066</th>\n",
              "      <td>London</td>\n",
              "      <td>GB</td>\n",
              "      <td>2019-05-07 02:00:00+00:00</td>\n",
              "      <td>London Westminster</td>\n",
              "      <td>no2</td>\n",
              "      <td>19.0</td>\n",
              "      <td>µg/m³</td>\n",
              "      <td>2</td>\n",
              "    </tr>\n",
              "    <tr>\n",
              "      <th>2067</th>\n",
              "      <td>London</td>\n",
              "      <td>GB</td>\n",
              "      <td>2019-05-07 01:00:00+00:00</td>\n",
              "      <td>London Westminster</td>\n",
              "      <td>no2</td>\n",
              "      <td>23.0</td>\n",
              "      <td>µg/m³</td>\n",
              "      <td>1</td>\n",
              "    </tr>\n",
              "  </tbody>\n",
              "</table>\n",
              "<p>2068 rows × 8 columns</p>\n",
              "</div>"
            ],
            "text/plain": [
              "        city country                  date.utc  ... value   unit  hour\n",
              "0      Paris      FR 2019-06-21 00:00:00+00:00  ...  20.0  µg/m³     0\n",
              "1      Paris      FR 2019-06-20 23:00:00+00:00  ...  21.8  µg/m³    23\n",
              "2      Paris      FR 2019-06-20 22:00:00+00:00  ...  26.5  µg/m³    22\n",
              "3      Paris      FR 2019-06-20 21:00:00+00:00  ...  24.9  µg/m³    21\n",
              "4      Paris      FR 2019-06-20 20:00:00+00:00  ...  21.4  µg/m³    20\n",
              "...      ...     ...                       ...  ...   ...    ...   ...\n",
              "2063  London      GB 2019-05-07 06:00:00+00:00  ...  26.0  µg/m³     6\n",
              "2064  London      GB 2019-05-07 04:00:00+00:00  ...  16.0  µg/m³     4\n",
              "2065  London      GB 2019-05-07 03:00:00+00:00  ...  19.0  µg/m³     3\n",
              "2066  London      GB 2019-05-07 02:00:00+00:00  ...  19.0  µg/m³     2\n",
              "2067  London      GB 2019-05-07 01:00:00+00:00  ...  23.0  µg/m³     1\n",
              "\n",
              "[2068 rows x 8 columns]"
            ]
          },
          "metadata": {},
          "execution_count": 339
        }
      ]
    },
    {
      "cell_type": "code",
      "metadata": {
        "colab": {
          "base_uri": "https://localhost:8080/"
        },
        "id": "DgfDJsyEB0-M",
        "outputId": "1edf1f6d-c6dd-40fc-e058-24a7633dbf75"
      },
      "source": [
        "air_quality_hour=air_quality.groupby(['city','hour'])['value'].mean() #Groupby의 결과는 Series로 변환됨\n",
        "air_quality_hour"
      ],
      "execution_count": 340,
      "outputs": [
        {
          "output_type": "execute_result",
          "data": {
            "text/plain": [
              "city       hour\n",
              "Antwerpen  0       24.750000\n",
              "           1       25.838235\n",
              "           2       21.000000\n",
              "           3       21.333333\n",
              "           4       24.833333\n",
              "                     ...    \n",
              "Paris      19      26.635714\n",
              "           20      29.707143\n",
              "           21      33.237209\n",
              "           22      35.400000\n",
              "           23      34.288095\n",
              "Name: value, Length: 72, dtype: float64"
            ]
          },
          "metadata": {},
          "execution_count": 340
        }
      ]
    },
    {
      "cell_type": "code",
      "metadata": {
        "id": "LdHuPwwzDi_m"
      },
      "source": [
        "air_quality_hour=air_quality_hour.reset_index() # 모든 인덱스를 컬럼으로 변환(Series -> DataFrame)"
      ],
      "execution_count": 341,
      "outputs": []
    },
    {
      "cell_type": "code",
      "metadata": {
        "colab": {
          "base_uri": "https://localhost:8080/",
          "height": 422
        },
        "id": "y8tgC02-D7Uf",
        "outputId": "39a2ff7f-4fb2-4f66-cd04-4bc97ef7d3b4"
      },
      "source": [
        "air_quality_hour"
      ],
      "execution_count": 342,
      "outputs": [
        {
          "output_type": "execute_result",
          "data": {
            "text/html": [
              "<div>\n",
              "<style scoped>\n",
              "    .dataframe tbody tr th:only-of-type {\n",
              "        vertical-align: middle;\n",
              "    }\n",
              "\n",
              "    .dataframe tbody tr th {\n",
              "        vertical-align: top;\n",
              "    }\n",
              "\n",
              "    .dataframe thead th {\n",
              "        text-align: right;\n",
              "    }\n",
              "</style>\n",
              "<table border=\"1\" class=\"dataframe\">\n",
              "  <thead>\n",
              "    <tr style=\"text-align: right;\">\n",
              "      <th></th>\n",
              "      <th>city</th>\n",
              "      <th>hour</th>\n",
              "      <th>value</th>\n",
              "    </tr>\n",
              "  </thead>\n",
              "  <tbody>\n",
              "    <tr>\n",
              "      <th>0</th>\n",
              "      <td>Antwerpen</td>\n",
              "      <td>0</td>\n",
              "      <td>24.750000</td>\n",
              "    </tr>\n",
              "    <tr>\n",
              "      <th>1</th>\n",
              "      <td>Antwerpen</td>\n",
              "      <td>1</td>\n",
              "      <td>25.838235</td>\n",
              "    </tr>\n",
              "    <tr>\n",
              "      <th>2</th>\n",
              "      <td>Antwerpen</td>\n",
              "      <td>2</td>\n",
              "      <td>21.000000</td>\n",
              "    </tr>\n",
              "    <tr>\n",
              "      <th>3</th>\n",
              "      <td>Antwerpen</td>\n",
              "      <td>3</td>\n",
              "      <td>21.333333</td>\n",
              "    </tr>\n",
              "    <tr>\n",
              "      <th>4</th>\n",
              "      <td>Antwerpen</td>\n",
              "      <td>4</td>\n",
              "      <td>24.833333</td>\n",
              "    </tr>\n",
              "    <tr>\n",
              "      <th>...</th>\n",
              "      <td>...</td>\n",
              "      <td>...</td>\n",
              "      <td>...</td>\n",
              "    </tr>\n",
              "    <tr>\n",
              "      <th>67</th>\n",
              "      <td>Paris</td>\n",
              "      <td>19</td>\n",
              "      <td>26.635714</td>\n",
              "    </tr>\n",
              "    <tr>\n",
              "      <th>68</th>\n",
              "      <td>Paris</td>\n",
              "      <td>20</td>\n",
              "      <td>29.707143</td>\n",
              "    </tr>\n",
              "    <tr>\n",
              "      <th>69</th>\n",
              "      <td>Paris</td>\n",
              "      <td>21</td>\n",
              "      <td>33.237209</td>\n",
              "    </tr>\n",
              "    <tr>\n",
              "      <th>70</th>\n",
              "      <td>Paris</td>\n",
              "      <td>22</td>\n",
              "      <td>35.400000</td>\n",
              "    </tr>\n",
              "    <tr>\n",
              "      <th>71</th>\n",
              "      <td>Paris</td>\n",
              "      <td>23</td>\n",
              "      <td>34.288095</td>\n",
              "    </tr>\n",
              "  </tbody>\n",
              "</table>\n",
              "<p>72 rows × 3 columns</p>\n",
              "</div>"
            ],
            "text/plain": [
              "         city  hour      value\n",
              "0   Antwerpen     0  24.750000\n",
              "1   Antwerpen     1  25.838235\n",
              "2   Antwerpen     2  21.000000\n",
              "3   Antwerpen     3  21.333333\n",
              "4   Antwerpen     4  24.833333\n",
              "..        ...   ...        ...\n",
              "67      Paris    19  26.635714\n",
              "68      Paris    20  29.707143\n",
              "69      Paris    21  33.237209\n",
              "70      Paris    22  35.400000\n",
              "71      Paris    23  34.288095\n",
              "\n",
              "[72 rows x 3 columns]"
            ]
          },
          "metadata": {},
          "execution_count": 342
        }
      ]
    },
    {
      "cell_type": "code",
      "metadata": {
        "colab": {
          "base_uri": "https://localhost:8080/",
          "height": 279
        },
        "id": "R46leaGID8t4",
        "outputId": "6987e308-8e75-4fe1-f815-9df0ad75c228"
      },
      "source": [
        "sns.lineplot(data=air_quality_hour, x='hour',y='value',hue='city',style='city')\n",
        "plt.show()"
      ],
      "execution_count": 343,
      "outputs": [
        {
          "output_type": "display_data",
          "data": {
            "image/png": "[encoded data removed]",
            "text/plain": [
              "<Figure size 432x288 with 1 Axes>"
            ]
          },
          "metadata": {
            "needs_background": "light"
          }
        }
      ]
    },
    {
      "cell_type": "code",
      "metadata": {
        "id": "5dlU6p0ZGkSA"
      },
      "source": [
        "result = air_quality.pivot_table(values='value', index=air_quality['date.utc'].dt.hour, columns='city')"
      ],
      "execution_count": 344,
      "outputs": []
    },
    {
      "cell_type": "code",
      "metadata": {
        "colab": {
          "base_uri": "https://localhost:8080/",
          "height": 831
        },
        "id": "jd9eNJeVGkog",
        "outputId": "a975dcd4-6709-4718-d0f2-c6734c9079e1"
      },
      "source": [
        "result"
      ],
      "execution_count": 345,
      "outputs": [
        {
          "output_type": "execute_result",
          "data": {
            "text/html": [
              "<div>\n",
              "<style scoped>\n",
              "    .dataframe tbody tr th:only-of-type {\n",
              "        vertical-align: middle;\n",
              "    }\n",
              "\n",
              "    .dataframe tbody tr th {\n",
              "        vertical-align: top;\n",
              "    }\n",
              "\n",
              "    .dataframe thead th {\n",
              "        text-align: right;\n",
              "    }\n",
              "</style>\n",
              "<table border=\"1\" class=\"dataframe\">\n",
              "  <thead>\n",
              "    <tr style=\"text-align: right;\">\n",
              "      <th>city</th>\n",
              "      <th>Antwerpen</th>\n",
              "      <th>London</th>\n",
              "      <th>Paris</th>\n",
              "    </tr>\n",
              "    <tr>\n",
              "      <th>date.utc</th>\n",
              "      <th></th>\n",
              "      <th></th>\n",
              "      <th></th>\n",
              "    </tr>\n",
              "  </thead>\n",
              "  <tbody>\n",
              "    <tr>\n",
              "      <th>0</th>\n",
              "      <td>24.750000</td>\n",
              "      <td>24.292683</td>\n",
              "      <td>31.683333</td>\n",
              "    </tr>\n",
              "    <tr>\n",
              "      <th>1</th>\n",
              "      <td>25.838235</td>\n",
              "      <td>24.757576</td>\n",
              "      <td>27.433333</td>\n",
              "    </tr>\n",
              "    <tr>\n",
              "      <th>2</th>\n",
              "      <td>21.000000</td>\n",
              "      <td>21.800000</td>\n",
              "      <td>25.964286</td>\n",
              "    </tr>\n",
              "    <tr>\n",
              "      <th>3</th>\n",
              "      <td>21.333333</td>\n",
              "      <td>21.536585</td>\n",
              "      <td>25.234211</td>\n",
              "    </tr>\n",
              "    <tr>\n",
              "      <th>4</th>\n",
              "      <td>24.833333</td>\n",
              "      <td>18.976190</td>\n",
              "      <td>27.257895</td>\n",
              "    </tr>\n",
              "    <tr>\n",
              "      <th>5</th>\n",
              "      <td>29.500000</td>\n",
              "      <td>19.048780</td>\n",
              "      <td>35.534211</td>\n",
              "    </tr>\n",
              "    <tr>\n",
              "      <th>6</th>\n",
              "      <td>33.333333</td>\n",
              "      <td>20.976190</td>\n",
              "      <td>40.102381</td>\n",
              "    </tr>\n",
              "    <tr>\n",
              "      <th>7</th>\n",
              "      <td>37.666667</td>\n",
              "      <td>21.452381</td>\n",
              "      <td>40.569767</td>\n",
              "    </tr>\n",
              "    <tr>\n",
              "      <th>8</th>\n",
              "      <td>34.833333</td>\n",
              "      <td>21.238095</td>\n",
              "      <td>36.458140</td>\n",
              "    </tr>\n",
              "    <tr>\n",
              "      <th>9</th>\n",
              "      <td>27.666667</td>\n",
              "      <td>21.857143</td>\n",
              "      <td>30.076744</td>\n",
              "    </tr>\n",
              "    <tr>\n",
              "      <th>10</th>\n",
              "      <td>21.250000</td>\n",
              "      <td>21.560976</td>\n",
              "      <td>23.658140</td>\n",
              "    </tr>\n",
              "    <tr>\n",
              "      <th>11</th>\n",
              "      <td>21.000000</td>\n",
              "      <td>22.121951</td>\n",
              "      <td>20.461905</td>\n",
              "    </tr>\n",
              "    <tr>\n",
              "      <th>12</th>\n",
              "      <td>25.250000</td>\n",
              "      <td>23.400000</td>\n",
              "      <td>18.571429</td>\n",
              "    </tr>\n",
              "    <tr>\n",
              "      <th>13</th>\n",
              "      <td>23.250000</td>\n",
              "      <td>24.175000</td>\n",
              "      <td>17.958140</td>\n",
              "    </tr>\n",
              "    <tr>\n",
              "      <th>14</th>\n",
              "      <td>23.750000</td>\n",
              "      <td>25.900000</td>\n",
              "      <td>17.772093</td>\n",
              "    </tr>\n",
              "    <tr>\n",
              "      <th>15</th>\n",
              "      <td>29.250000</td>\n",
              "      <td>28.682927</td>\n",
              "      <td>18.854762</td>\n",
              "    </tr>\n",
              "    <tr>\n",
              "      <th>16</th>\n",
              "      <td>17.500000</td>\n",
              "      <td>28.951220</td>\n",
              "      <td>21.266667</td>\n",
              "    </tr>\n",
              "    <tr>\n",
              "      <th>17</th>\n",
              "      <td>18.500000</td>\n",
              "      <td>30.073171</td>\n",
              "      <td>23.585714</td>\n",
              "    </tr>\n",
              "    <tr>\n",
              "      <th>18</th>\n",
              "      <td>25.500000</td>\n",
              "      <td>30.121951</td>\n",
              "      <td>24.204762</td>\n",
              "    </tr>\n",
              "    <tr>\n",
              "      <th>19</th>\n",
              "      <td>30.750000</td>\n",
              "      <td>29.560976</td>\n",
              "      <td>26.635714</td>\n",
              "    </tr>\n",
              "    <tr>\n",
              "      <th>20</th>\n",
              "      <td>27.500000</td>\n",
              "      <td>29.121951</td>\n",
              "      <td>29.707143</td>\n",
              "    </tr>\n",
              "    <tr>\n",
              "      <th>21</th>\n",
              "      <td>25.750000</td>\n",
              "      <td>28.853659</td>\n",
              "      <td>33.237209</td>\n",
              "    </tr>\n",
              "    <tr>\n",
              "      <th>22</th>\n",
              "      <td>26.500000</td>\n",
              "      <td>28.969697</td>\n",
              "      <td>35.400000</td>\n",
              "    </tr>\n",
              "    <tr>\n",
              "      <th>23</th>\n",
              "      <td>23.000000</td>\n",
              "      <td>28.414634</td>\n",
              "      <td>34.288095</td>\n",
              "    </tr>\n",
              "  </tbody>\n",
              "</table>\n",
              "</div>"
            ],
            "text/plain": [
              "city      Antwerpen     London      Paris\n",
              "date.utc                                 \n",
              "0         24.750000  24.292683  31.683333\n",
              "1         25.838235  24.757576  27.433333\n",
              "2         21.000000  21.800000  25.964286\n",
              "3         21.333333  21.536585  25.234211\n",
              "4         24.833333  18.976190  27.257895\n",
              "5         29.500000  19.048780  35.534211\n",
              "6         33.333333  20.976190  40.102381\n",
              "7         37.666667  21.452381  40.569767\n",
              "8         34.833333  21.238095  36.458140\n",
              "9         27.666667  21.857143  30.076744\n",
              "10        21.250000  21.560976  23.658140\n",
              "11        21.000000  22.121951  20.461905\n",
              "12        25.250000  23.400000  18.571429\n",
              "13        23.250000  24.175000  17.958140\n",
              "14        23.750000  25.900000  17.772093\n",
              "15        29.250000  28.682927  18.854762\n",
              "16        17.500000  28.951220  21.266667\n",
              "17        18.500000  30.073171  23.585714\n",
              "18        25.500000  30.121951  24.204762\n",
              "19        30.750000  29.560976  26.635714\n",
              "20        27.500000  29.121951  29.707143\n",
              "21        25.750000  28.853659  33.237209\n",
              "22        26.500000  28.969697  35.400000\n",
              "23        23.000000  28.414634  34.288095"
            ]
          },
          "metadata": {},
          "execution_count": 345
        }
      ]
    },
    {
      "cell_type": "code",
      "metadata": {
        "colab": {
          "base_uri": "https://localhost:8080/",
          "height": 265
        },
        "id": "SDVK14h3GiJl",
        "outputId": "cb156dba-8e79-4672-f8d7-e4dbe4e53082"
      },
      "source": [
        "plt.plot(result['Antwerpen'], linestyle='-', marker='o', label='Antwerpen')\n",
        "plt.plot(result['Paris'], linestyle='--', marker='o', label='Paris')\n",
        "plt.plot(result['London'], linestyle=':', marker='o', label='London')\n",
        "plt.legend()\n",
        "plt.show()"
      ],
      "execution_count": 346,
      "outputs": [
        {
          "output_type": "display_data",
          "data": {
            "image/png": "[encoded data removed]",
            "text/plain": [
              "<Figure size 432x288 with 1 Axes>"
            ]
          },
          "metadata": {
            "needs_background": "light"
          }
        }
      ]
    },
    {
      "cell_type": "markdown",
      "metadata": {
        "id": "eB9p_eQcJLEG"
      },
      "source": [
        " 일요일 중 어느요일에 NO2 농도가 가장 높을까?\n",
        "  * 요일별 도시별 NO2 평균 계산,시각화"
      ]
    },
    {
      "cell_type": "code",
      "metadata": {
        "id": "ISxDPXnnJSE_"
      },
      "source": [
        "air_quality['weekday']=air_quality['date.utc'].dt.weekday"
      ],
      "execution_count": 347,
      "outputs": []
    },
    {
      "cell_type": "code",
      "metadata": {
        "colab": {
          "base_uri": "https://localhost:8080/",
          "height": 422
        },
        "id": "d3YMGvTFJhB3",
        "outputId": "31bba3ef-0d2a-48e0-a69b-67ad7daa6833"
      },
      "source": [
        "air_quality"
      ],
      "execution_count": 348,
      "outputs": [
        {
          "output_type": "execute_result",
          "data": {
            "text/html": [
              "<div>\n",
              "<style scoped>\n",
              "    .dataframe tbody tr th:only-of-type {\n",
              "        vertical-align: middle;\n",
              "    }\n",
              "\n",
              "    .dataframe tbody tr th {\n",
              "        vertical-align: top;\n",
              "    }\n",
              "\n",
              "    .dataframe thead th {\n",
              "        text-align: right;\n",
              "    }\n",
              "</style>\n",
              "<table border=\"1\" class=\"dataframe\">\n",
              "  <thead>\n",
              "    <tr style=\"text-align: right;\">\n",
              "      <th></th>\n",
              "      <th>city</th>\n",
              "      <th>country</th>\n",
              "      <th>date.utc</th>\n",
              "      <th>location</th>\n",
              "      <th>parameter</th>\n",
              "      <th>value</th>\n",
              "      <th>unit</th>\n",
              "      <th>hour</th>\n",
              "      <th>weekday</th>\n",
              "    </tr>\n",
              "  </thead>\n",
              "  <tbody>\n",
              "    <tr>\n",
              "      <th>0</th>\n",
              "      <td>Paris</td>\n",
              "      <td>FR</td>\n",
              "      <td>2019-06-21 00:00:00+00:00</td>\n",
              "      <td>FR04014</td>\n",
              "      <td>no2</td>\n",
              "      <td>20.0</td>\n",
              "      <td>µg/m³</td>\n",
              "      <td>0</td>\n",
              "      <td>4</td>\n",
              "    </tr>\n",
              "    <tr>\n",
              "      <th>1</th>\n",
              "      <td>Paris</td>\n",
              "      <td>FR</td>\n",
              "      <td>2019-06-20 23:00:00+00:00</td>\n",
              "      <td>FR04014</td>\n",
              "      <td>no2</td>\n",
              "      <td>21.8</td>\n",
              "      <td>µg/m³</td>\n",
              "      <td>23</td>\n",
              "      <td>3</td>\n",
              "    </tr>\n",
              "    <tr>\n",
              "      <th>2</th>\n",
              "      <td>Paris</td>\n",
              "      <td>FR</td>\n",
              "      <td>2019-06-20 22:00:00+00:00</td>\n",
              "      <td>FR04014</td>\n",
              "      <td>no2</td>\n",
              "      <td>26.5</td>\n",
              "      <td>µg/m³</td>\n",
              "      <td>22</td>\n",
              "      <td>3</td>\n",
              "    </tr>\n",
              "    <tr>\n",
              "      <th>3</th>\n",
              "      <td>Paris</td>\n",
              "      <td>FR</td>\n",
              "      <td>2019-06-20 21:00:00+00:00</td>\n",
              "      <td>FR04014</td>\n",
              "      <td>no2</td>\n",
              "      <td>24.9</td>\n",
              "      <td>µg/m³</td>\n",
              "      <td>21</td>\n",
              "      <td>3</td>\n",
              "    </tr>\n",
              "    <tr>\n",
              "      <th>4</th>\n",
              "      <td>Paris</td>\n",
              "      <td>FR</td>\n",
              "      <td>2019-06-20 20:00:00+00:00</td>\n",
              "      <td>FR04014</td>\n",
              "      <td>no2</td>\n",
              "      <td>21.4</td>\n",
              "      <td>µg/m³</td>\n",
              "      <td>20</td>\n",
              "      <td>3</td>\n",
              "    </tr>\n",
              "    <tr>\n",
              "      <th>...</th>\n",
              "      <td>...</td>\n",
              "      <td>...</td>\n",
              "      <td>...</td>\n",
              "      <td>...</td>\n",
              "      <td>...</td>\n",
              "      <td>...</td>\n",
              "      <td>...</td>\n",
              "      <td>...</td>\n",
              "      <td>...</td>\n",
              "    </tr>\n",
              "    <tr>\n",
              "      <th>2063</th>\n",
              "      <td>London</td>\n",
              "      <td>GB</td>\n",
              "      <td>2019-05-07 06:00:00+00:00</td>\n",
              "      <td>London Westminster</td>\n",
              "      <td>no2</td>\n",
              "      <td>26.0</td>\n",
              "      <td>µg/m³</td>\n",
              "      <td>6</td>\n",
              "      <td>1</td>\n",
              "    </tr>\n",
              "    <tr>\n",
              "      <th>2064</th>\n",
              "      <td>London</td>\n",
              "      <td>GB</td>\n",
              "      <td>2019-05-07 04:00:00+00:00</td>\n",
              "      <td>London Westminster</td>\n",
              "      <td>no2</td>\n",
              "      <td>16.0</td>\n",
              "      <td>µg/m³</td>\n",
              "      <td>4</td>\n",
              "      <td>1</td>\n",
              "    </tr>\n",
              "    <tr>\n",
              "      <th>2065</th>\n",
              "      <td>London</td>\n",
              "      <td>GB</td>\n",
              "      <td>2019-05-07 03:00:00+00:00</td>\n",
              "      <td>London Westminster</td>\n",
              "      <td>no2</td>\n",
              "      <td>19.0</td>\n",
              "      <td>µg/m³</td>\n",
              "      <td>3</td>\n",
              "      <td>1</td>\n",
              "    </tr>\n",
              "    <tr>\n",
              "      <th>2066</th>\n",
              "      <td>London</td>\n",
              "      <td>GB</td>\n",
              "      <td>2019-05-07 02:00:00+00:00</td>\n",
              "      <td>London Westminster</td>\n",
              "      <td>no2</td>\n",
              "      <td>19.0</td>\n",
              "      <td>µg/m³</td>\n",
              "      <td>2</td>\n",
              "      <td>1</td>\n",
              "    </tr>\n",
              "    <tr>\n",
              "      <th>2067</th>\n",
              "      <td>London</td>\n",
              "      <td>GB</td>\n",
              "      <td>2019-05-07 01:00:00+00:00</td>\n",
              "      <td>London Westminster</td>\n",
              "      <td>no2</td>\n",
              "      <td>23.0</td>\n",
              "      <td>µg/m³</td>\n",
              "      <td>1</td>\n",
              "      <td>1</td>\n",
              "    </tr>\n",
              "  </tbody>\n",
              "</table>\n",
              "<p>2068 rows × 9 columns</p>\n",
              "</div>"
            ],
            "text/plain": [
              "        city country                  date.utc  ...   unit hour  weekday\n",
              "0      Paris      FR 2019-06-21 00:00:00+00:00  ...  µg/m³    0        4\n",
              "1      Paris      FR 2019-06-20 23:00:00+00:00  ...  µg/m³   23        3\n",
              "2      Paris      FR 2019-06-20 22:00:00+00:00  ...  µg/m³   22        3\n",
              "3      Paris      FR 2019-06-20 21:00:00+00:00  ...  µg/m³   21        3\n",
              "4      Paris      FR 2019-06-20 20:00:00+00:00  ...  µg/m³   20        3\n",
              "...      ...     ...                       ...  ...    ...  ...      ...\n",
              "2063  London      GB 2019-05-07 06:00:00+00:00  ...  µg/m³    6        1\n",
              "2064  London      GB 2019-05-07 04:00:00+00:00  ...  µg/m³    4        1\n",
              "2065  London      GB 2019-05-07 03:00:00+00:00  ...  µg/m³    3        1\n",
              "2066  London      GB 2019-05-07 02:00:00+00:00  ...  µg/m³    2        1\n",
              "2067  London      GB 2019-05-07 01:00:00+00:00  ...  µg/m³    1        1\n",
              "\n",
              "[2068 rows x 9 columns]"
            ]
          },
          "metadata": {},
          "execution_count": 348
        }
      ]
    },
    {
      "cell_type": "code",
      "metadata": {
        "colab": {
          "base_uri": "https://localhost:8080/"
        },
        "id": "Xo6PA2jPJjAZ",
        "outputId": "abc19e9d-4492-43e1-b5e4-fe6f0299a150"
      },
      "source": [
        "air_quality_weekday=air_quality.groupby(['weekday','city'])['value'].mean()\n",
        "air_quality_weekday"
      ],
      "execution_count": 349,
      "outputs": [
        {
          "output_type": "execute_result",
          "data": {
            "text/plain": [
              "weekday  city     \n",
              "0        Antwerpen    27.875000\n",
              "         London       23.969697\n",
              "         Paris        24.856250\n",
              "1        Antwerpen    22.214286\n",
              "         London       24.885714\n",
              "         Paris        30.999359\n",
              "2        Antwerpen    21.125000\n",
              "         London       23.460432\n",
              "         Paris        29.165753\n",
              "3        Antwerpen    27.500000\n",
              "         London       24.780142\n",
              "         Paris        28.600690\n",
              "4        Antwerpen    28.400000\n",
              "         London       26.446809\n",
              "         Paris        31.617986\n",
              "5        Antwerpen    33.500000\n",
              "         London       24.977612\n",
              "         Paris        25.266154\n",
              "6        Antwerpen    21.896552\n",
              "         London       24.859155\n",
              "         Paris        23.274306\n",
              "Name: value, dtype: float64"
            ]
          },
          "metadata": {},
          "execution_count": 349
        }
      ]
    },
    {
      "cell_type": "code",
      "metadata": {
        "colab": {
          "base_uri": "https://localhost:8080/",
          "height": 706
        },
        "id": "M7ITDeJVJ1k-",
        "outputId": "df469dd2-df26-4c5f-9542-88a0c33b521d"
      },
      "source": [
        "air_quality_weekday=air_quality_weekday.reset_index() # reset_index를 이용해서 인덱스들을 컬럼으로 변환\n",
        "air_quality_weekday"
      ],
      "execution_count": 350,
      "outputs": [
        {
          "output_type": "execute_result",
          "data": {
            "text/html": [
              "<div>\n",
              "<style scoped>\n",
              "    .dataframe tbody tr th:only-of-type {\n",
              "        vertical-align: middle;\n",
              "    }\n",
              "\n",
              "    .dataframe tbody tr th {\n",
              "        vertical-align: top;\n",
              "    }\n",
              "\n",
              "    .dataframe thead th {\n",
              "        text-align: right;\n",
              "    }\n",
              "</style>\n",
              "<table border=\"1\" class=\"dataframe\">\n",
              "  <thead>\n",
              "    <tr style=\"text-align: right;\">\n",
              "      <th></th>\n",
              "      <th>weekday</th>\n",
              "      <th>city</th>\n",
              "      <th>value</th>\n",
              "    </tr>\n",
              "  </thead>\n",
              "  <tbody>\n",
              "    <tr>\n",
              "      <th>0</th>\n",
              "      <td>0</td>\n",
              "      <td>Antwerpen</td>\n",
              "      <td>27.875000</td>\n",
              "    </tr>\n",
              "    <tr>\n",
              "      <th>1</th>\n",
              "      <td>0</td>\n",
              "      <td>London</td>\n",
              "      <td>23.969697</td>\n",
              "    </tr>\n",
              "    <tr>\n",
              "      <th>2</th>\n",
              "      <td>0</td>\n",
              "      <td>Paris</td>\n",
              "      <td>24.856250</td>\n",
              "    </tr>\n",
              "    <tr>\n",
              "      <th>3</th>\n",
              "      <td>1</td>\n",
              "      <td>Antwerpen</td>\n",
              "      <td>22.214286</td>\n",
              "    </tr>\n",
              "    <tr>\n",
              "      <th>4</th>\n",
              "      <td>1</td>\n",
              "      <td>London</td>\n",
              "      <td>24.885714</td>\n",
              "    </tr>\n",
              "    <tr>\n",
              "      <th>5</th>\n",
              "      <td>1</td>\n",
              "      <td>Paris</td>\n",
              "      <td>30.999359</td>\n",
              "    </tr>\n",
              "    <tr>\n",
              "      <th>6</th>\n",
              "      <td>2</td>\n",
              "      <td>Antwerpen</td>\n",
              "      <td>21.125000</td>\n",
              "    </tr>\n",
              "    <tr>\n",
              "      <th>7</th>\n",
              "      <td>2</td>\n",
              "      <td>London</td>\n",
              "      <td>23.460432</td>\n",
              "    </tr>\n",
              "    <tr>\n",
              "      <th>8</th>\n",
              "      <td>2</td>\n",
              "      <td>Paris</td>\n",
              "      <td>29.165753</td>\n",
              "    </tr>\n",
              "    <tr>\n",
              "      <th>9</th>\n",
              "      <td>3</td>\n",
              "      <td>Antwerpen</td>\n",
              "      <td>27.500000</td>\n",
              "    </tr>\n",
              "    <tr>\n",
              "      <th>10</th>\n",
              "      <td>3</td>\n",
              "      <td>London</td>\n",
              "      <td>24.780142</td>\n",
              "    </tr>\n",
              "    <tr>\n",
              "      <th>11</th>\n",
              "      <td>3</td>\n",
              "      <td>Paris</td>\n",
              "      <td>28.600690</td>\n",
              "    </tr>\n",
              "    <tr>\n",
              "      <th>12</th>\n",
              "      <td>4</td>\n",
              "      <td>Antwerpen</td>\n",
              "      <td>28.400000</td>\n",
              "    </tr>\n",
              "    <tr>\n",
              "      <th>13</th>\n",
              "      <td>4</td>\n",
              "      <td>London</td>\n",
              "      <td>26.446809</td>\n",
              "    </tr>\n",
              "    <tr>\n",
              "      <th>14</th>\n",
              "      <td>4</td>\n",
              "      <td>Paris</td>\n",
              "      <td>31.617986</td>\n",
              "    </tr>\n",
              "    <tr>\n",
              "      <th>15</th>\n",
              "      <td>5</td>\n",
              "      <td>Antwerpen</td>\n",
              "      <td>33.500000</td>\n",
              "    </tr>\n",
              "    <tr>\n",
              "      <th>16</th>\n",
              "      <td>5</td>\n",
              "      <td>London</td>\n",
              "      <td>24.977612</td>\n",
              "    </tr>\n",
              "    <tr>\n",
              "      <th>17</th>\n",
              "      <td>5</td>\n",
              "      <td>Paris</td>\n",
              "      <td>25.266154</td>\n",
              "    </tr>\n",
              "    <tr>\n",
              "      <th>18</th>\n",
              "      <td>6</td>\n",
              "      <td>Antwerpen</td>\n",
              "      <td>21.896552</td>\n",
              "    </tr>\n",
              "    <tr>\n",
              "      <th>19</th>\n",
              "      <td>6</td>\n",
              "      <td>London</td>\n",
              "      <td>24.859155</td>\n",
              "    </tr>\n",
              "    <tr>\n",
              "      <th>20</th>\n",
              "      <td>6</td>\n",
              "      <td>Paris</td>\n",
              "      <td>23.274306</td>\n",
              "    </tr>\n",
              "  </tbody>\n",
              "</table>\n",
              "</div>"
            ],
            "text/plain": [
              "    weekday       city      value\n",
              "0         0  Antwerpen  27.875000\n",
              "1         0     London  23.969697\n",
              "2         0      Paris  24.856250\n",
              "3         1  Antwerpen  22.214286\n",
              "4         1     London  24.885714\n",
              "5         1      Paris  30.999359\n",
              "6         2  Antwerpen  21.125000\n",
              "7         2     London  23.460432\n",
              "8         2      Paris  29.165753\n",
              "9         3  Antwerpen  27.500000\n",
              "10        3     London  24.780142\n",
              "11        3      Paris  28.600690\n",
              "12        4  Antwerpen  28.400000\n",
              "13        4     London  26.446809\n",
              "14        4      Paris  31.617986\n",
              "15        5  Antwerpen  33.500000\n",
              "16        5     London  24.977612\n",
              "17        5      Paris  25.266154\n",
              "18        6  Antwerpen  21.896552\n",
              "19        6     London  24.859155\n",
              "20        6      Paris  23.274306"
            ]
          },
          "metadata": {},
          "execution_count": 350
        }
      ]
    },
    {
      "cell_type": "code",
      "metadata": {
        "colab": {
          "base_uri": "https://localhost:8080/",
          "height": 299
        },
        "id": "YufHLoD8J9wh",
        "outputId": "53a9565e-0754-4429-bc0f-0cf676a89bb4"
      },
      "source": [
        "sns.lineplot(data=air_quality_weekday,x='weekday',y='value',hue='city',style='city',marker='o')"
      ],
      "execution_count": 354,
      "outputs": [
        {
          "output_type": "execute_result",
          "data": {
            "text/plain": [
              "<matplotlib.axes._subplots.AxesSubplot at 0x7f0b8b0080d0>"
            ]
          },
          "metadata": {},
          "execution_count": 354
        },
        {
          "output_type": "display_data",
          "data": {
            "image/png": "[encoded data removed]",
            "text/plain": [
              "<Figure size 432x288 with 1 Axes>"
            ]
          },
          "metadata": {
            "needs_background": "light"
          }
        }
      ]
    },
    {
      "cell_type": "code",
      "metadata": {
        "id": "rdP_SyXKK6CE"
      },
      "source": [
        "result=air_quality_weekday.pivot_table(values='value',index='weekday',columns='city')"
      ],
      "execution_count": 358,
      "outputs": []
    },
    {
      "cell_type": "code",
      "metadata": {
        "colab": {
          "base_uri": "https://localhost:8080/",
          "height": 299
        },
        "id": "nP3GQeEMOgp8",
        "outputId": "19572282-ec42-472f-a0cd-8f0e6c3046ba"
      },
      "source": [
        "result"
      ],
      "execution_count": 359,
      "outputs": [
        {
          "output_type": "execute_result",
          "data": {
            "text/html": [
              "<div>\n",
              "<style scoped>\n",
              "    .dataframe tbody tr th:only-of-type {\n",
              "        vertical-align: middle;\n",
              "    }\n",
              "\n",
              "    .dataframe tbody tr th {\n",
              "        vertical-align: top;\n",
              "    }\n",
              "\n",
              "    .dataframe thead th {\n",
              "        text-align: right;\n",
              "    }\n",
              "</style>\n",
              "<table border=\"1\" class=\"dataframe\">\n",
              "  <thead>\n",
              "    <tr style=\"text-align: right;\">\n",
              "      <th>city</th>\n",
              "      <th>Antwerpen</th>\n",
              "      <th>London</th>\n",
              "      <th>Paris</th>\n",
              "    </tr>\n",
              "    <tr>\n",
              "      <th>weekday</th>\n",
              "      <th></th>\n",
              "      <th></th>\n",
              "      <th></th>\n",
              "    </tr>\n",
              "  </thead>\n",
              "  <tbody>\n",
              "    <tr>\n",
              "      <th>0</th>\n",
              "      <td>27.875000</td>\n",
              "      <td>23.969697</td>\n",
              "      <td>24.856250</td>\n",
              "    </tr>\n",
              "    <tr>\n",
              "      <th>1</th>\n",
              "      <td>22.214286</td>\n",
              "      <td>24.885714</td>\n",
              "      <td>30.999359</td>\n",
              "    </tr>\n",
              "    <tr>\n",
              "      <th>2</th>\n",
              "      <td>21.125000</td>\n",
              "      <td>23.460432</td>\n",
              "      <td>29.165753</td>\n",
              "    </tr>\n",
              "    <tr>\n",
              "      <th>3</th>\n",
              "      <td>27.500000</td>\n",
              "      <td>24.780142</td>\n",
              "      <td>28.600690</td>\n",
              "    </tr>\n",
              "    <tr>\n",
              "      <th>4</th>\n",
              "      <td>28.400000</td>\n",
              "      <td>26.446809</td>\n",
              "      <td>31.617986</td>\n",
              "    </tr>\n",
              "    <tr>\n",
              "      <th>5</th>\n",
              "      <td>33.500000</td>\n",
              "      <td>24.977612</td>\n",
              "      <td>25.266154</td>\n",
              "    </tr>\n",
              "    <tr>\n",
              "      <th>6</th>\n",
              "      <td>21.896552</td>\n",
              "      <td>24.859155</td>\n",
              "      <td>23.274306</td>\n",
              "    </tr>\n",
              "  </tbody>\n",
              "</table>\n",
              "</div>"
            ],
            "text/plain": [
              "city     Antwerpen     London      Paris\n",
              "weekday                                 \n",
              "0        27.875000  23.969697  24.856250\n",
              "1        22.214286  24.885714  30.999359\n",
              "2        21.125000  23.460432  29.165753\n",
              "3        27.500000  24.780142  28.600690\n",
              "4        28.400000  26.446809  31.617986\n",
              "5        33.500000  24.977612  25.266154\n",
              "6        21.896552  24.859155  23.274306"
            ]
          },
          "metadata": {},
          "execution_count": 359
        }
      ]
    },
    {
      "cell_type": "code",
      "metadata": {
        "colab": {
          "base_uri": "https://localhost:8080/",
          "height": 267
        },
        "id": "VKSFE8IYPAE5",
        "outputId": "e0dd0b55-6613-4a14-e7f2-b17e833ed005"
      },
      "source": [
        "plt.plot(result['Antwerpen'],'o-',label='Antwerpen')\n",
        "plt.plot(result['London'],'o--',label='London')\n",
        "plt.plot(result['Paris'],'o:',label='Paris')\n",
        "plt.legend()\n",
        "plt.show()"
      ],
      "execution_count": 361,
      "outputs": [
        {
          "output_type": "display_data",
          "data": {
            "image/png": "[encoded data removed]",
            "text/plain": [
              "<Figure size 432x288 with 1 Axes>"
            ]
          },
          "metadata": {
            "needs_background": "light"
          }
        }
      ]
    },
    {
      "cell_type": "markdown",
      "metadata": {
        "id": "4tPWTZ1LPrcU"
      },
      "source": [
        "# DatetimeIndex를 사용한 Slicing"
      ]
    },
    {
      "cell_type": "code",
      "metadata": {
        "colab": {
          "base_uri": "https://localhost:8080/",
          "height": 205
        },
        "id": "ThIO-8s5Pw27",
        "outputId": "ee002938-b0ca-4510-f227-eb385f702e0a"
      },
      "source": [
        "air_quality.head()"
      ],
      "execution_count": 364,
      "outputs": [
        {
          "output_type": "execute_result",
          "data": {
            "text/html": [
              "<div>\n",
              "<style scoped>\n",
              "    .dataframe tbody tr th:only-of-type {\n",
              "        vertical-align: middle;\n",
              "    }\n",
              "\n",
              "    .dataframe tbody tr th {\n",
              "        vertical-align: top;\n",
              "    }\n",
              "\n",
              "    .dataframe thead th {\n",
              "        text-align: right;\n",
              "    }\n",
              "</style>\n",
              "<table border=\"1\" class=\"dataframe\">\n",
              "  <thead>\n",
              "    <tr style=\"text-align: right;\">\n",
              "      <th></th>\n",
              "      <th>city</th>\n",
              "      <th>country</th>\n",
              "      <th>date.utc</th>\n",
              "      <th>location</th>\n",
              "      <th>parameter</th>\n",
              "      <th>value</th>\n",
              "      <th>unit</th>\n",
              "      <th>hour</th>\n",
              "      <th>weekday</th>\n",
              "    </tr>\n",
              "  </thead>\n",
              "  <tbody>\n",
              "    <tr>\n",
              "      <th>0</th>\n",
              "      <td>Paris</td>\n",
              "      <td>FR</td>\n",
              "      <td>2019-06-21 00:00:00+00:00</td>\n",
              "      <td>FR04014</td>\n",
              "      <td>no2</td>\n",
              "      <td>20.0</td>\n",
              "      <td>µg/m³</td>\n",
              "      <td>0</td>\n",
              "      <td>4</td>\n",
              "    </tr>\n",
              "    <tr>\n",
              "      <th>1</th>\n",
              "      <td>Paris</td>\n",
              "      <td>FR</td>\n",
              "      <td>2019-06-20 23:00:00+00:00</td>\n",
              "      <td>FR04014</td>\n",
              "      <td>no2</td>\n",
              "      <td>21.8</td>\n",
              "      <td>µg/m³</td>\n",
              "      <td>23</td>\n",
              "      <td>3</td>\n",
              "    </tr>\n",
              "    <tr>\n",
              "      <th>2</th>\n",
              "      <td>Paris</td>\n",
              "      <td>FR</td>\n",
              "      <td>2019-06-20 22:00:00+00:00</td>\n",
              "      <td>FR04014</td>\n",
              "      <td>no2</td>\n",
              "      <td>26.5</td>\n",
              "      <td>µg/m³</td>\n",
              "      <td>22</td>\n",
              "      <td>3</td>\n",
              "    </tr>\n",
              "    <tr>\n",
              "      <th>3</th>\n",
              "      <td>Paris</td>\n",
              "      <td>FR</td>\n",
              "      <td>2019-06-20 21:00:00+00:00</td>\n",
              "      <td>FR04014</td>\n",
              "      <td>no2</td>\n",
              "      <td>24.9</td>\n",
              "      <td>µg/m³</td>\n",
              "      <td>21</td>\n",
              "      <td>3</td>\n",
              "    </tr>\n",
              "    <tr>\n",
              "      <th>4</th>\n",
              "      <td>Paris</td>\n",
              "      <td>FR</td>\n",
              "      <td>2019-06-20 20:00:00+00:00</td>\n",
              "      <td>FR04014</td>\n",
              "      <td>no2</td>\n",
              "      <td>21.4</td>\n",
              "      <td>µg/m³</td>\n",
              "      <td>20</td>\n",
              "      <td>3</td>\n",
              "    </tr>\n",
              "  </tbody>\n",
              "</table>\n",
              "</div>"
            ],
            "text/plain": [
              "    city country                  date.utc  ...   unit hour  weekday\n",
              "0  Paris      FR 2019-06-21 00:00:00+00:00  ...  µg/m³    0        4\n",
              "1  Paris      FR 2019-06-20 23:00:00+00:00  ...  µg/m³   23        3\n",
              "2  Paris      FR 2019-06-20 22:00:00+00:00  ...  µg/m³   22        3\n",
              "3  Paris      FR 2019-06-20 21:00:00+00:00  ...  µg/m³   21        3\n",
              "4  Paris      FR 2019-06-20 20:00:00+00:00  ...  µg/m³   20        3\n",
              "\n",
              "[5 rows x 9 columns]"
            ]
          },
          "metadata": {},
          "execution_count": 364
        }
      ]
    },
    {
      "cell_type": "code",
      "metadata": {
        "id": "TMPaSPr_P5RC"
      },
      "source": [
        "# 'date.utc' 컬럼을 인덱스로 변환 \n",
        "air_quality=air_quality.set_index('date.utc')"
      ],
      "execution_count": 365,
      "outputs": []
    },
    {
      "cell_type": "code",
      "metadata": {
        "colab": {
          "base_uri": "https://localhost:8080/",
          "height": 237
        },
        "id": "xlKMqL48QD6Q",
        "outputId": "73715eff-23ca-44df-bb8d-ddc825a01597"
      },
      "source": [
        "air_quality.head()"
      ],
      "execution_count": 367,
      "outputs": [
        {
          "output_type": "execute_result",
          "data": {
            "text/html": [
              "<div>\n",
              "<style scoped>\n",
              "    .dataframe tbody tr th:only-of-type {\n",
              "        vertical-align: middle;\n",
              "    }\n",
              "\n",
              "    .dataframe tbody tr th {\n",
              "        vertical-align: top;\n",
              "    }\n",
              "\n",
              "    .dataframe thead th {\n",
              "        text-align: right;\n",
              "    }\n",
              "</style>\n",
              "<table border=\"1\" class=\"dataframe\">\n",
              "  <thead>\n",
              "    <tr style=\"text-align: right;\">\n",
              "      <th></th>\n",
              "      <th>city</th>\n",
              "      <th>country</th>\n",
              "      <th>location</th>\n",
              "      <th>parameter</th>\n",
              "      <th>value</th>\n",
              "      <th>unit</th>\n",
              "      <th>hour</th>\n",
              "      <th>weekday</th>\n",
              "    </tr>\n",
              "    <tr>\n",
              "      <th>date.utc</th>\n",
              "      <th></th>\n",
              "      <th></th>\n",
              "      <th></th>\n",
              "      <th></th>\n",
              "      <th></th>\n",
              "      <th></th>\n",
              "      <th></th>\n",
              "      <th></th>\n",
              "    </tr>\n",
              "  </thead>\n",
              "  <tbody>\n",
              "    <tr>\n",
              "      <th>2019-06-21 00:00:00+00:00</th>\n",
              "      <td>Paris</td>\n",
              "      <td>FR</td>\n",
              "      <td>FR04014</td>\n",
              "      <td>no2</td>\n",
              "      <td>20.0</td>\n",
              "      <td>µg/m³</td>\n",
              "      <td>0</td>\n",
              "      <td>4</td>\n",
              "    </tr>\n",
              "    <tr>\n",
              "      <th>2019-06-20 23:00:00+00:00</th>\n",
              "      <td>Paris</td>\n",
              "      <td>FR</td>\n",
              "      <td>FR04014</td>\n",
              "      <td>no2</td>\n",
              "      <td>21.8</td>\n",
              "      <td>µg/m³</td>\n",
              "      <td>23</td>\n",
              "      <td>3</td>\n",
              "    </tr>\n",
              "    <tr>\n",
              "      <th>2019-06-20 22:00:00+00:00</th>\n",
              "      <td>Paris</td>\n",
              "      <td>FR</td>\n",
              "      <td>FR04014</td>\n",
              "      <td>no2</td>\n",
              "      <td>26.5</td>\n",
              "      <td>µg/m³</td>\n",
              "      <td>22</td>\n",
              "      <td>3</td>\n",
              "    </tr>\n",
              "    <tr>\n",
              "      <th>2019-06-20 21:00:00+00:00</th>\n",
              "      <td>Paris</td>\n",
              "      <td>FR</td>\n",
              "      <td>FR04014</td>\n",
              "      <td>no2</td>\n",
              "      <td>24.9</td>\n",
              "      <td>µg/m³</td>\n",
              "      <td>21</td>\n",
              "      <td>3</td>\n",
              "    </tr>\n",
              "    <tr>\n",
              "      <th>2019-06-20 20:00:00+00:00</th>\n",
              "      <td>Paris</td>\n",
              "      <td>FR</td>\n",
              "      <td>FR04014</td>\n",
              "      <td>no2</td>\n",
              "      <td>21.4</td>\n",
              "      <td>µg/m³</td>\n",
              "      <td>20</td>\n",
              "      <td>3</td>\n",
              "    </tr>\n",
              "  </tbody>\n",
              "</table>\n",
              "</div>"
            ],
            "text/plain": [
              "                            city country location  ...   unit  hour weekday\n",
              "date.utc                                           ...                     \n",
              "2019-06-21 00:00:00+00:00  Paris      FR  FR04014  ...  µg/m³     0       4\n",
              "2019-06-20 23:00:00+00:00  Paris      FR  FR04014  ...  µg/m³    23       3\n",
              "2019-06-20 22:00:00+00:00  Paris      FR  FR04014  ...  µg/m³    22       3\n",
              "2019-06-20 21:00:00+00:00  Paris      FR  FR04014  ...  µg/m³    21       3\n",
              "2019-06-20 20:00:00+00:00  Paris      FR  FR04014  ...  µg/m³    20       3\n",
              "\n",
              "[5 rows x 8 columns]"
            ]
          },
          "metadata": {},
          "execution_count": 367
        }
      ]
    },
    {
      "cell_type": "code",
      "metadata": {
        "colab": {
          "base_uri": "https://localhost:8080/",
          "height": 1000
        },
        "id": "OBrPQSfLQ1Ru",
        "outputId": "6eca0993-1a46-46d5-efb5-f6e40eba42da"
      },
      "source": [
        "#2019-06-01 데이터 추출\n",
        "air_quality.loc['2019-06-01']"
      ],
      "execution_count": 377,
      "outputs": [
        {
          "output_type": "execute_result",
          "data": {
            "text/html": [
              "<div>\n",
              "<style scoped>\n",
              "    .dataframe tbody tr th:only-of-type {\n",
              "        vertical-align: middle;\n",
              "    }\n",
              "\n",
              "    .dataframe tbody tr th {\n",
              "        vertical-align: top;\n",
              "    }\n",
              "\n",
              "    .dataframe thead th {\n",
              "        text-align: right;\n",
              "    }\n",
              "</style>\n",
              "<table border=\"1\" class=\"dataframe\">\n",
              "  <thead>\n",
              "    <tr style=\"text-align: right;\">\n",
              "      <th></th>\n",
              "      <th>city</th>\n",
              "      <th>country</th>\n",
              "      <th>location</th>\n",
              "      <th>parameter</th>\n",
              "      <th>value</th>\n",
              "      <th>unit</th>\n",
              "      <th>hour</th>\n",
              "      <th>weekday</th>\n",
              "    </tr>\n",
              "    <tr>\n",
              "      <th>date.utc</th>\n",
              "      <th></th>\n",
              "      <th></th>\n",
              "      <th></th>\n",
              "      <th></th>\n",
              "      <th></th>\n",
              "      <th></th>\n",
              "      <th></th>\n",
              "      <th></th>\n",
              "    </tr>\n",
              "  </thead>\n",
              "  <tbody>\n",
              "    <tr>\n",
              "      <th>2019-06-01 23:00:00+00:00</th>\n",
              "      <td>Paris</td>\n",
              "      <td>FR</td>\n",
              "      <td>FR04014</td>\n",
              "      <td>no2</td>\n",
              "      <td>32.7</td>\n",
              "      <td>µg/m³</td>\n",
              "      <td>23</td>\n",
              "      <td>5</td>\n",
              "    </tr>\n",
              "    <tr>\n",
              "      <th>2019-06-01 22:00:00+00:00</th>\n",
              "      <td>Paris</td>\n",
              "      <td>FR</td>\n",
              "      <td>FR04014</td>\n",
              "      <td>no2</td>\n",
              "      <td>48.1</td>\n",
              "      <td>µg/m³</td>\n",
              "      <td>22</td>\n",
              "      <td>5</td>\n",
              "    </tr>\n",
              "    <tr>\n",
              "      <th>2019-06-01 21:00:00+00:00</th>\n",
              "      <td>Paris</td>\n",
              "      <td>FR</td>\n",
              "      <td>FR04014</td>\n",
              "      <td>no2</td>\n",
              "      <td>49.4</td>\n",
              "      <td>µg/m³</td>\n",
              "      <td>21</td>\n",
              "      <td>5</td>\n",
              "    </tr>\n",
              "    <tr>\n",
              "      <th>2019-06-01 20:00:00+00:00</th>\n",
              "      <td>Paris</td>\n",
              "      <td>FR</td>\n",
              "      <td>FR04014</td>\n",
              "      <td>no2</td>\n",
              "      <td>43.6</td>\n",
              "      <td>µg/m³</td>\n",
              "      <td>20</td>\n",
              "      <td>5</td>\n",
              "    </tr>\n",
              "    <tr>\n",
              "      <th>2019-06-01 19:00:00+00:00</th>\n",
              "      <td>Paris</td>\n",
              "      <td>FR</td>\n",
              "      <td>FR04014</td>\n",
              "      <td>no2</td>\n",
              "      <td>24.6</td>\n",
              "      <td>µg/m³</td>\n",
              "      <td>19</td>\n",
              "      <td>5</td>\n",
              "    </tr>\n",
              "    <tr>\n",
              "      <th>2019-06-01 18:00:00+00:00</th>\n",
              "      <td>Paris</td>\n",
              "      <td>FR</td>\n",
              "      <td>FR04014</td>\n",
              "      <td>no2</td>\n",
              "      <td>14.5</td>\n",
              "      <td>µg/m³</td>\n",
              "      <td>18</td>\n",
              "      <td>5</td>\n",
              "    </tr>\n",
              "    <tr>\n",
              "      <th>2019-06-01 17:00:00+00:00</th>\n",
              "      <td>Paris</td>\n",
              "      <td>FR</td>\n",
              "      <td>FR04014</td>\n",
              "      <td>no2</td>\n",
              "      <td>11.8</td>\n",
              "      <td>µg/m³</td>\n",
              "      <td>17</td>\n",
              "      <td>5</td>\n",
              "    </tr>\n",
              "    <tr>\n",
              "      <th>2019-06-01 16:00:00+00:00</th>\n",
              "      <td>Paris</td>\n",
              "      <td>FR</td>\n",
              "      <td>FR04014</td>\n",
              "      <td>no2</td>\n",
              "      <td>11.8</td>\n",
              "      <td>µg/m³</td>\n",
              "      <td>16</td>\n",
              "      <td>5</td>\n",
              "    </tr>\n",
              "    <tr>\n",
              "      <th>2019-06-01 15:00:00+00:00</th>\n",
              "      <td>Paris</td>\n",
              "      <td>FR</td>\n",
              "      <td>FR04014</td>\n",
              "      <td>no2</td>\n",
              "      <td>10.2</td>\n",
              "      <td>µg/m³</td>\n",
              "      <td>15</td>\n",
              "      <td>5</td>\n",
              "    </tr>\n",
              "    <tr>\n",
              "      <th>2019-06-01 14:00:00+00:00</th>\n",
              "      <td>Paris</td>\n",
              "      <td>FR</td>\n",
              "      <td>FR04014</td>\n",
              "      <td>no2</td>\n",
              "      <td>10.0</td>\n",
              "      <td>µg/m³</td>\n",
              "      <td>14</td>\n",
              "      <td>5</td>\n",
              "    </tr>\n",
              "    <tr>\n",
              "      <th>2019-06-01 13:00:00+00:00</th>\n",
              "      <td>Paris</td>\n",
              "      <td>FR</td>\n",
              "      <td>FR04014</td>\n",
              "      <td>no2</td>\n",
              "      <td>10.2</td>\n",
              "      <td>µg/m³</td>\n",
              "      <td>13</td>\n",
              "      <td>5</td>\n",
              "    </tr>\n",
              "    <tr>\n",
              "      <th>2019-06-01 12:00:00+00:00</th>\n",
              "      <td>Paris</td>\n",
              "      <td>FR</td>\n",
              "      <td>FR04014</td>\n",
              "      <td>no2</td>\n",
              "      <td>10.4</td>\n",
              "      <td>µg/m³</td>\n",
              "      <td>12</td>\n",
              "      <td>5</td>\n",
              "    </tr>\n",
              "    <tr>\n",
              "      <th>2019-06-01 11:00:00+00:00</th>\n",
              "      <td>Paris</td>\n",
              "      <td>FR</td>\n",
              "      <td>FR04014</td>\n",
              "      <td>no2</td>\n",
              "      <td>12.2</td>\n",
              "      <td>µg/m³</td>\n",
              "      <td>11</td>\n",
              "      <td>5</td>\n",
              "    </tr>\n",
              "    <tr>\n",
              "      <th>2019-06-01 10:00:00+00:00</th>\n",
              "      <td>Paris</td>\n",
              "      <td>FR</td>\n",
              "      <td>FR04014</td>\n",
              "      <td>no2</td>\n",
              "      <td>13.8</td>\n",
              "      <td>µg/m³</td>\n",
              "      <td>10</td>\n",
              "      <td>5</td>\n",
              "    </tr>\n",
              "    <tr>\n",
              "      <th>2019-06-01 09:00:00+00:00</th>\n",
              "      <td>Paris</td>\n",
              "      <td>FR</td>\n",
              "      <td>FR04014</td>\n",
              "      <td>no2</td>\n",
              "      <td>23.9</td>\n",
              "      <td>µg/m³</td>\n",
              "      <td>9</td>\n",
              "      <td>5</td>\n",
              "    </tr>\n",
              "    <tr>\n",
              "      <th>2019-06-01 08:00:00+00:00</th>\n",
              "      <td>Paris</td>\n",
              "      <td>FR</td>\n",
              "      <td>FR04014</td>\n",
              "      <td>no2</td>\n",
              "      <td>33.3</td>\n",
              "      <td>µg/m³</td>\n",
              "      <td>8</td>\n",
              "      <td>5</td>\n",
              "    </tr>\n",
              "    <tr>\n",
              "      <th>2019-06-01 07:00:00+00:00</th>\n",
              "      <td>Paris</td>\n",
              "      <td>FR</td>\n",
              "      <td>FR04014</td>\n",
              "      <td>no2</td>\n",
              "      <td>46.4</td>\n",
              "      <td>µg/m³</td>\n",
              "      <td>7</td>\n",
              "      <td>5</td>\n",
              "    </tr>\n",
              "    <tr>\n",
              "      <th>2019-06-01 06:00:00+00:00</th>\n",
              "      <td>Paris</td>\n",
              "      <td>FR</td>\n",
              "      <td>FR04014</td>\n",
              "      <td>no2</td>\n",
              "      <td>44.6</td>\n",
              "      <td>µg/m³</td>\n",
              "      <td>6</td>\n",
              "      <td>5</td>\n",
              "    </tr>\n",
              "    <tr>\n",
              "      <th>2019-06-01 02:00:00+00:00</th>\n",
              "      <td>Paris</td>\n",
              "      <td>FR</td>\n",
              "      <td>FR04014</td>\n",
              "      <td>no2</td>\n",
              "      <td>68.1</td>\n",
              "      <td>µg/m³</td>\n",
              "      <td>2</td>\n",
              "      <td>5</td>\n",
              "    </tr>\n",
              "    <tr>\n",
              "      <th>2019-06-01 01:00:00+00:00</th>\n",
              "      <td>Paris</td>\n",
              "      <td>FR</td>\n",
              "      <td>FR04014</td>\n",
              "      <td>no2</td>\n",
              "      <td>74.8</td>\n",
              "      <td>µg/m³</td>\n",
              "      <td>1</td>\n",
              "      <td>5</td>\n",
              "    </tr>\n",
              "    <tr>\n",
              "      <th>2019-06-01 00:00:00+00:00</th>\n",
              "      <td>Paris</td>\n",
              "      <td>FR</td>\n",
              "      <td>FR04014</td>\n",
              "      <td>no2</td>\n",
              "      <td>84.7</td>\n",
              "      <td>µg/m³</td>\n",
              "      <td>0</td>\n",
              "      <td>5</td>\n",
              "    </tr>\n",
              "    <tr>\n",
              "      <th>2019-06-01 01:00:00+00:00</th>\n",
              "      <td>Antwerpen</td>\n",
              "      <td>BE</td>\n",
              "      <td>BETR801</td>\n",
              "      <td>no2</td>\n",
              "      <td>52.5</td>\n",
              "      <td>µg/m³</td>\n",
              "      <td>1</td>\n",
              "      <td>5</td>\n",
              "    </tr>\n",
              "    <tr>\n",
              "      <th>2019-06-01 23:00:00+00:00</th>\n",
              "      <td>London</td>\n",
              "      <td>GB</td>\n",
              "      <td>London Westminster</td>\n",
              "      <td>no2</td>\n",
              "      <td>52.0</td>\n",
              "      <td>µg/m³</td>\n",
              "      <td>23</td>\n",
              "      <td>5</td>\n",
              "    </tr>\n",
              "    <tr>\n",
              "      <th>2019-06-01 22:00:00+00:00</th>\n",
              "      <td>London</td>\n",
              "      <td>GB</td>\n",
              "      <td>London Westminster</td>\n",
              "      <td>no2</td>\n",
              "      <td>52.0</td>\n",
              "      <td>µg/m³</td>\n",
              "      <td>22</td>\n",
              "      <td>5</td>\n",
              "    </tr>\n",
              "    <tr>\n",
              "      <th>2019-06-01 21:00:00+00:00</th>\n",
              "      <td>London</td>\n",
              "      <td>GB</td>\n",
              "      <td>London Westminster</td>\n",
              "      <td>no2</td>\n",
              "      <td>44.0</td>\n",
              "      <td>µg/m³</td>\n",
              "      <td>21</td>\n",
              "      <td>5</td>\n",
              "    </tr>\n",
              "    <tr>\n",
              "      <th>2019-06-01 20:00:00+00:00</th>\n",
              "      <td>London</td>\n",
              "      <td>GB</td>\n",
              "      <td>London Westminster</td>\n",
              "      <td>no2</td>\n",
              "      <td>41.0</td>\n",
              "      <td>µg/m³</td>\n",
              "      <td>20</td>\n",
              "      <td>5</td>\n",
              "    </tr>\n",
              "    <tr>\n",
              "      <th>2019-06-01 19:00:00+00:00</th>\n",
              "      <td>London</td>\n",
              "      <td>GB</td>\n",
              "      <td>London Westminster</td>\n",
              "      <td>no2</td>\n",
              "      <td>38.0</td>\n",
              "      <td>µg/m³</td>\n",
              "      <td>19</td>\n",
              "      <td>5</td>\n",
              "    </tr>\n",
              "    <tr>\n",
              "      <th>2019-06-01 18:00:00+00:00</th>\n",
              "      <td>London</td>\n",
              "      <td>GB</td>\n",
              "      <td>London Westminster</td>\n",
              "      <td>no2</td>\n",
              "      <td>36.0</td>\n",
              "      <td>µg/m³</td>\n",
              "      <td>18</td>\n",
              "      <td>5</td>\n",
              "    </tr>\n",
              "    <tr>\n",
              "      <th>2019-06-01 17:00:00+00:00</th>\n",
              "      <td>London</td>\n",
              "      <td>GB</td>\n",
              "      <td>London Westminster</td>\n",
              "      <td>no2</td>\n",
              "      <td>32.0</td>\n",
              "      <td>µg/m³</td>\n",
              "      <td>17</td>\n",
              "      <td>5</td>\n",
              "    </tr>\n",
              "    <tr>\n",
              "      <th>2019-06-01 16:00:00+00:00</th>\n",
              "      <td>London</td>\n",
              "      <td>GB</td>\n",
              "      <td>London Westminster</td>\n",
              "      <td>no2</td>\n",
              "      <td>31.0</td>\n",
              "      <td>µg/m³</td>\n",
              "      <td>16</td>\n",
              "      <td>5</td>\n",
              "    </tr>\n",
              "    <tr>\n",
              "      <th>2019-06-01 15:00:00+00:00</th>\n",
              "      <td>London</td>\n",
              "      <td>GB</td>\n",
              "      <td>London Westminster</td>\n",
              "      <td>no2</td>\n",
              "      <td>33.0</td>\n",
              "      <td>µg/m³</td>\n",
              "      <td>15</td>\n",
              "      <td>5</td>\n",
              "    </tr>\n",
              "    <tr>\n",
              "      <th>2019-06-01 14:00:00+00:00</th>\n",
              "      <td>London</td>\n",
              "      <td>GB</td>\n",
              "      <td>London Westminster</td>\n",
              "      <td>no2</td>\n",
              "      <td>36.0</td>\n",
              "      <td>µg/m³</td>\n",
              "      <td>14</td>\n",
              "      <td>5</td>\n",
              "    </tr>\n",
              "    <tr>\n",
              "      <th>2019-06-01 13:00:00+00:00</th>\n",
              "      <td>London</td>\n",
              "      <td>GB</td>\n",
              "      <td>London Westminster</td>\n",
              "      <td>no2</td>\n",
              "      <td>33.0</td>\n",
              "      <td>µg/m³</td>\n",
              "      <td>13</td>\n",
              "      <td>5</td>\n",
              "    </tr>\n",
              "    <tr>\n",
              "      <th>2019-06-01 12:00:00+00:00</th>\n",
              "      <td>London</td>\n",
              "      <td>GB</td>\n",
              "      <td>London Westminster</td>\n",
              "      <td>no2</td>\n",
              "      <td>28.0</td>\n",
              "      <td>µg/m³</td>\n",
              "      <td>12</td>\n",
              "      <td>5</td>\n",
              "    </tr>\n",
              "    <tr>\n",
              "      <th>2019-06-01 11:00:00+00:00</th>\n",
              "      <td>London</td>\n",
              "      <td>GB</td>\n",
              "      <td>London Westminster</td>\n",
              "      <td>no2</td>\n",
              "      <td>19.0</td>\n",
              "      <td>µg/m³</td>\n",
              "      <td>11</td>\n",
              "      <td>5</td>\n",
              "    </tr>\n",
              "    <tr>\n",
              "      <th>2019-06-01 10:00:00+00:00</th>\n",
              "      <td>London</td>\n",
              "      <td>GB</td>\n",
              "      <td>London Westminster</td>\n",
              "      <td>no2</td>\n",
              "      <td>12.0</td>\n",
              "      <td>µg/m³</td>\n",
              "      <td>10</td>\n",
              "      <td>5</td>\n",
              "    </tr>\n",
              "    <tr>\n",
              "      <th>2019-06-01 09:00:00+00:00</th>\n",
              "      <td>London</td>\n",
              "      <td>GB</td>\n",
              "      <td>London Westminster</td>\n",
              "      <td>no2</td>\n",
              "      <td>9.0</td>\n",
              "      <td>µg/m³</td>\n",
              "      <td>9</td>\n",
              "      <td>5</td>\n",
              "    </tr>\n",
              "    <tr>\n",
              "      <th>2019-06-01 08:00:00+00:00</th>\n",
              "      <td>London</td>\n",
              "      <td>GB</td>\n",
              "      <td>London Westminster</td>\n",
              "      <td>no2</td>\n",
              "      <td>8.0</td>\n",
              "      <td>µg/m³</td>\n",
              "      <td>8</td>\n",
              "      <td>5</td>\n",
              "    </tr>\n",
              "    <tr>\n",
              "      <th>2019-06-01 07:00:00+00:00</th>\n",
              "      <td>London</td>\n",
              "      <td>GB</td>\n",
              "      <td>London Westminster</td>\n",
              "      <td>no2</td>\n",
              "      <td>2.0</td>\n",
              "      <td>µg/m³</td>\n",
              "      <td>7</td>\n",
              "      <td>5</td>\n",
              "    </tr>\n",
              "    <tr>\n",
              "      <th>2019-06-01 06:00:00+00:00</th>\n",
              "      <td>London</td>\n",
              "      <td>GB</td>\n",
              "      <td>London Westminster</td>\n",
              "      <td>no2</td>\n",
              "      <td>4.0</td>\n",
              "      <td>µg/m³</td>\n",
              "      <td>6</td>\n",
              "      <td>5</td>\n",
              "    </tr>\n",
              "    <tr>\n",
              "      <th>2019-06-01 05:00:00+00:00</th>\n",
              "      <td>London</td>\n",
              "      <td>GB</td>\n",
              "      <td>London Westminster</td>\n",
              "      <td>no2</td>\n",
              "      <td>11.0</td>\n",
              "      <td>µg/m³</td>\n",
              "      <td>5</td>\n",
              "      <td>5</td>\n",
              "    </tr>\n",
              "    <tr>\n",
              "      <th>2019-06-01 04:00:00+00:00</th>\n",
              "      <td>London</td>\n",
              "      <td>GB</td>\n",
              "      <td>London Westminster</td>\n",
              "      <td>no2</td>\n",
              "      <td>11.0</td>\n",
              "      <td>µg/m³</td>\n",
              "      <td>4</td>\n",
              "      <td>5</td>\n",
              "    </tr>\n",
              "    <tr>\n",
              "      <th>2019-06-01 03:00:00+00:00</th>\n",
              "      <td>London</td>\n",
              "      <td>GB</td>\n",
              "      <td>London Westminster</td>\n",
              "      <td>no2</td>\n",
              "      <td>16.0</td>\n",
              "      <td>µg/m³</td>\n",
              "      <td>3</td>\n",
              "      <td>5</td>\n",
              "    </tr>\n",
              "    <tr>\n",
              "      <th>2019-06-01 02:00:00+00:00</th>\n",
              "      <td>London</td>\n",
              "      <td>GB</td>\n",
              "      <td>London Westminster</td>\n",
              "      <td>no2</td>\n",
              "      <td>16.0</td>\n",
              "      <td>µg/m³</td>\n",
              "      <td>2</td>\n",
              "      <td>5</td>\n",
              "    </tr>\n",
              "    <tr>\n",
              "      <th>2019-06-01 01:00:00+00:00</th>\n",
              "      <td>London</td>\n",
              "      <td>GB</td>\n",
              "      <td>London Westminster</td>\n",
              "      <td>no2</td>\n",
              "      <td>22.0</td>\n",
              "      <td>µg/m³</td>\n",
              "      <td>1</td>\n",
              "      <td>5</td>\n",
              "    </tr>\n",
              "    <tr>\n",
              "      <th>2019-06-01 00:00:00+00:00</th>\n",
              "      <td>London</td>\n",
              "      <td>GB</td>\n",
              "      <td>London Westminster</td>\n",
              "      <td>no2</td>\n",
              "      <td>22.0</td>\n",
              "      <td>µg/m³</td>\n",
              "      <td>0</td>\n",
              "      <td>5</td>\n",
              "    </tr>\n",
              "  </tbody>\n",
              "</table>\n",
              "</div>"
            ],
            "text/plain": [
              "                                city country  ... hour weekday\n",
              "date.utc                                      ...             \n",
              "2019-06-01 23:00:00+00:00      Paris      FR  ...   23       5\n",
              "2019-06-01 22:00:00+00:00      Paris      FR  ...   22       5\n",
              "2019-06-01 21:00:00+00:00      Paris      FR  ...   21       5\n",
              "2019-06-01 20:00:00+00:00      Paris      FR  ...   20       5\n",
              "2019-06-01 19:00:00+00:00      Paris      FR  ...   19       5\n",
              "2019-06-01 18:00:00+00:00      Paris      FR  ...   18       5\n",
              "2019-06-01 17:00:00+00:00      Paris      FR  ...   17       5\n",
              "2019-06-01 16:00:00+00:00      Paris      FR  ...   16       5\n",
              "2019-06-01 15:00:00+00:00      Paris      FR  ...   15       5\n",
              "2019-06-01 14:00:00+00:00      Paris      FR  ...   14       5\n",
              "2019-06-01 13:00:00+00:00      Paris      FR  ...   13       5\n",
              "2019-06-01 12:00:00+00:00      Paris      FR  ...   12       5\n",
              "2019-06-01 11:00:00+00:00      Paris      FR  ...   11       5\n",
              "2019-06-01 10:00:00+00:00      Paris      FR  ...   10       5\n",
              "2019-06-01 09:00:00+00:00      Paris      FR  ...    9       5\n",
              "2019-06-01 08:00:00+00:00      Paris      FR  ...    8       5\n",
              "2019-06-01 07:00:00+00:00      Paris      FR  ...    7       5\n",
              "2019-06-01 06:00:00+00:00      Paris      FR  ...    6       5\n",
              "2019-06-01 02:00:00+00:00      Paris      FR  ...    2       5\n",
              "2019-06-01 01:00:00+00:00      Paris      FR  ...    1       5\n",
              "2019-06-01 00:00:00+00:00      Paris      FR  ...    0       5\n",
              "2019-06-01 01:00:00+00:00  Antwerpen      BE  ...    1       5\n",
              "2019-06-01 23:00:00+00:00     London      GB  ...   23       5\n",
              "2019-06-01 22:00:00+00:00     London      GB  ...   22       5\n",
              "2019-06-01 21:00:00+00:00     London      GB  ...   21       5\n",
              "2019-06-01 20:00:00+00:00     London      GB  ...   20       5\n",
              "2019-06-01 19:00:00+00:00     London      GB  ...   19       5\n",
              "2019-06-01 18:00:00+00:00     London      GB  ...   18       5\n",
              "2019-06-01 17:00:00+00:00     London      GB  ...   17       5\n",
              "2019-06-01 16:00:00+00:00     London      GB  ...   16       5\n",
              "2019-06-01 15:00:00+00:00     London      GB  ...   15       5\n",
              "2019-06-01 14:00:00+00:00     London      GB  ...   14       5\n",
              "2019-06-01 13:00:00+00:00     London      GB  ...   13       5\n",
              "2019-06-01 12:00:00+00:00     London      GB  ...   12       5\n",
              "2019-06-01 11:00:00+00:00     London      GB  ...   11       5\n",
              "2019-06-01 10:00:00+00:00     London      GB  ...   10       5\n",
              "2019-06-01 09:00:00+00:00     London      GB  ...    9       5\n",
              "2019-06-01 08:00:00+00:00     London      GB  ...    8       5\n",
              "2019-06-01 07:00:00+00:00     London      GB  ...    7       5\n",
              "2019-06-01 06:00:00+00:00     London      GB  ...    6       5\n",
              "2019-06-01 05:00:00+00:00     London      GB  ...    5       5\n",
              "2019-06-01 04:00:00+00:00     London      GB  ...    4       5\n",
              "2019-06-01 03:00:00+00:00     London      GB  ...    3       5\n",
              "2019-06-01 02:00:00+00:00     London      GB  ...    2       5\n",
              "2019-06-01 01:00:00+00:00     London      GB  ...    1       5\n",
              "2019-06-01 00:00:00+00:00     London      GB  ...    0       5\n",
              "\n",
              "[46 rows x 8 columns]"
            ]
          },
          "metadata": {},
          "execution_count": 377
        }
      ]
    },
    {
      "cell_type": "code",
      "metadata": {
        "colab": {
          "base_uri": "https://localhost:8080/",
          "height": 454
        },
        "id": "LW1r4ovlSDhV",
        "outputId": "d480b92b-c30c-479f-f3a8-b4e0a780d2f6"
      },
      "source": [
        "#2019-06-15 ~2019-06-16 데이터 추출\n",
        "air_quality.loc['2019-06-15':'2019-06-16']"
      ],
      "execution_count": 378,
      "outputs": [
        {
          "output_type": "execute_result",
          "data": {
            "text/html": [
              "<div>\n",
              "<style scoped>\n",
              "    .dataframe tbody tr th:only-of-type {\n",
              "        vertical-align: middle;\n",
              "    }\n",
              "\n",
              "    .dataframe tbody tr th {\n",
              "        vertical-align: top;\n",
              "    }\n",
              "\n",
              "    .dataframe thead th {\n",
              "        text-align: right;\n",
              "    }\n",
              "</style>\n",
              "<table border=\"1\" class=\"dataframe\">\n",
              "  <thead>\n",
              "    <tr style=\"text-align: right;\">\n",
              "      <th></th>\n",
              "      <th>city</th>\n",
              "      <th>country</th>\n",
              "      <th>location</th>\n",
              "      <th>parameter</th>\n",
              "      <th>value</th>\n",
              "      <th>unit</th>\n",
              "      <th>hour</th>\n",
              "      <th>weekday</th>\n",
              "    </tr>\n",
              "    <tr>\n",
              "      <th>date.utc</th>\n",
              "      <th></th>\n",
              "      <th></th>\n",
              "      <th></th>\n",
              "      <th></th>\n",
              "      <th></th>\n",
              "      <th></th>\n",
              "      <th></th>\n",
              "      <th></th>\n",
              "    </tr>\n",
              "  </thead>\n",
              "  <tbody>\n",
              "    <tr>\n",
              "      <th>2019-06-16 23:00:00+00:00</th>\n",
              "      <td>Paris</td>\n",
              "      <td>FR</td>\n",
              "      <td>FR04014</td>\n",
              "      <td>no2</td>\n",
              "      <td>67.3</td>\n",
              "      <td>µg/m³</td>\n",
              "      <td>23</td>\n",
              "      <td>6</td>\n",
              "    </tr>\n",
              "    <tr>\n",
              "      <th>2019-06-16 22:00:00+00:00</th>\n",
              "      <td>Paris</td>\n",
              "      <td>FR</td>\n",
              "      <td>FR04014</td>\n",
              "      <td>no2</td>\n",
              "      <td>56.6</td>\n",
              "      <td>µg/m³</td>\n",
              "      <td>22</td>\n",
              "      <td>6</td>\n",
              "    </tr>\n",
              "    <tr>\n",
              "      <th>2019-06-16 21:00:00+00:00</th>\n",
              "      <td>Paris</td>\n",
              "      <td>FR</td>\n",
              "      <td>FR04014</td>\n",
              "      <td>no2</td>\n",
              "      <td>42.7</td>\n",
              "      <td>µg/m³</td>\n",
              "      <td>21</td>\n",
              "      <td>6</td>\n",
              "    </tr>\n",
              "    <tr>\n",
              "      <th>2019-06-16 20:00:00+00:00</th>\n",
              "      <td>Paris</td>\n",
              "      <td>FR</td>\n",
              "      <td>FR04014</td>\n",
              "      <td>no2</td>\n",
              "      <td>23.3</td>\n",
              "      <td>µg/m³</td>\n",
              "      <td>20</td>\n",
              "      <td>6</td>\n",
              "    </tr>\n",
              "    <tr>\n",
              "      <th>2019-06-16 19:00:00+00:00</th>\n",
              "      <td>Paris</td>\n",
              "      <td>FR</td>\n",
              "      <td>FR04014</td>\n",
              "      <td>no2</td>\n",
              "      <td>14.4</td>\n",
              "      <td>µg/m³</td>\n",
              "      <td>19</td>\n",
              "      <td>6</td>\n",
              "    </tr>\n",
              "    <tr>\n",
              "      <th>...</th>\n",
              "      <td>...</td>\n",
              "      <td>...</td>\n",
              "      <td>...</td>\n",
              "      <td>...</td>\n",
              "      <td>...</td>\n",
              "      <td>...</td>\n",
              "      <td>...</td>\n",
              "      <td>...</td>\n",
              "    </tr>\n",
              "    <tr>\n",
              "      <th>2019-06-15 07:00:00+00:00</th>\n",
              "      <td>London</td>\n",
              "      <td>GB</td>\n",
              "      <td>London Westminster</td>\n",
              "      <td>no2</td>\n",
              "      <td>13.0</td>\n",
              "      <td>µg/m³</td>\n",
              "      <td>7</td>\n",
              "      <td>5</td>\n",
              "    </tr>\n",
              "    <tr>\n",
              "      <th>2019-06-15 06:00:00+00:00</th>\n",
              "      <td>London</td>\n",
              "      <td>GB</td>\n",
              "      <td>London Westminster</td>\n",
              "      <td>no2</td>\n",
              "      <td>13.0</td>\n",
              "      <td>µg/m³</td>\n",
              "      <td>6</td>\n",
              "      <td>5</td>\n",
              "    </tr>\n",
              "    <tr>\n",
              "      <th>2019-06-15 05:00:00+00:00</th>\n",
              "      <td>London</td>\n",
              "      <td>GB</td>\n",
              "      <td>London Westminster</td>\n",
              "      <td>no2</td>\n",
              "      <td>10.0</td>\n",
              "      <td>µg/m³</td>\n",
              "      <td>5</td>\n",
              "      <td>5</td>\n",
              "    </tr>\n",
              "    <tr>\n",
              "      <th>2019-06-15 04:00:00+00:00</th>\n",
              "      <td>London</td>\n",
              "      <td>GB</td>\n",
              "      <td>London Westminster</td>\n",
              "      <td>no2</td>\n",
              "      <td>10.0</td>\n",
              "      <td>µg/m³</td>\n",
              "      <td>4</td>\n",
              "      <td>5</td>\n",
              "    </tr>\n",
              "    <tr>\n",
              "      <th>2019-06-15 00:00:00+00:00</th>\n",
              "      <td>London</td>\n",
              "      <td>GB</td>\n",
              "      <td>London Westminster</td>\n",
              "      <td>no2</td>\n",
              "      <td>26.0</td>\n",
              "      <td>µg/m³</td>\n",
              "      <td>0</td>\n",
              "      <td>5</td>\n",
              "    </tr>\n",
              "  </tbody>\n",
              "</table>\n",
              "<p>91 rows × 8 columns</p>\n",
              "</div>"
            ],
            "text/plain": [
              "                             city country  ... hour weekday\n",
              "date.utc                                   ...             \n",
              "2019-06-16 23:00:00+00:00   Paris      FR  ...   23       6\n",
              "2019-06-16 22:00:00+00:00   Paris      FR  ...   22       6\n",
              "2019-06-16 21:00:00+00:00   Paris      FR  ...   21       6\n",
              "2019-06-16 20:00:00+00:00   Paris      FR  ...   20       6\n",
              "2019-06-16 19:00:00+00:00   Paris      FR  ...   19       6\n",
              "...                           ...     ...  ...  ...     ...\n",
              "2019-06-15 07:00:00+00:00  London      GB  ...    7       5\n",
              "2019-06-15 06:00:00+00:00  London      GB  ...    6       5\n",
              "2019-06-15 05:00:00+00:00  London      GB  ...    5       5\n",
              "2019-06-15 04:00:00+00:00  London      GB  ...    4       5\n",
              "2019-06-15 00:00:00+00:00  London      GB  ...    0       5\n",
              "\n",
              "[91 rows x 8 columns]"
            ]
          },
          "metadata": {},
          "execution_count": 378
        }
      ]
    },
    {
      "cell_type": "code",
      "metadata": {
        "colab": {
          "base_uri": "https://localhost:8080/",
          "height": 279
        },
        "id": "X7ddQkD5Rr2q",
        "outputId": "36a928bc-35ce-44c5-9d3d-081ceaa5870c"
      },
      "source": [
        "# 2019-05-20 0시~2019-05-21 23시 no2 농도 변화를 도시별로 linplot\n",
        "plt.figure(figsize=(10,4))\n",
        "sns.lineplot(x=air_quality.loc['2019-05-20 00:00:00':'2019-05-21 23:00:00'].index,hue=air_quality.loc['2019-05-20 00:00:00':'2019-05-21 23:00:00']['city'],y=air_quality.loc['2019-05-20 00:00:00':'2019-05-21 23:00:00']['value'])\n",
        "plt.show()"
      ],
      "execution_count": 384,
      "outputs": [
        {
          "output_type": "display_data",
          "data": {
            "image/png": "[encoded data removed]",
            "text/plain": [
              "<Figure size 720x288 with 1 Axes>"
            ]
          },
          "metadata": {
            "needs_background": "light"
          }
        }
      ]
    }
  ]
}