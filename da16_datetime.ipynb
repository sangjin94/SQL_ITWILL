{
  "nbformat": 4,
  "nbformat_minor": 0,
  "metadata": {
    "colab": {
      "name": "da16_datetime.ipynb",
      "provenance": [],
      "authorship_tag": "ABX9TyM+0dWlnvsPW6OrErpdLjyG",
      "include_colab_link": true
    },
    "kernelspec": {
      "name": "python3",
      "display_name": "Python 3"
    },
    "language_info": {
      "name": "python"
    }
  },
  "cells": [
    {
      "cell_type": "markdown",
      "metadata": {
        "id": "view-in-github",
        "colab_type": "text"
      },
      "source": [
        "<a href=\"https://colab.research.google.com/github/sangjin94/SQL_ITWILL/blob/main/da16_datetime.ipynb\" target=\"_parent\"><img src=\"https://colab.research.google.com/assets/colab-badge.svg\" alt=\"Open In Colab\"/></a>"
      ]
    },
    {
      "cell_type": "markdown",
      "metadata": {
        "id": "TaD52h1yNdjY"
      },
      "source": [
        "* python `datetime` 모듈\n",
        "  * `datetime` 클래스: 날짜(date), 시간(time)과 관련된 정보들을 저장, 표현할 수 있는 기능(메서드)들을 가지고 있는 데이터 타입.\n",
        "  * 파이썬 docs에서 datetime "
      ]
    },
    {
      "cell_type": "code",
      "metadata": {
        "id": "rXkTlo7GOhkP"
      },
      "source": [
        "import datetime # datetime 모듈을 import"
      ],
      "execution_count": 1,
      "outputs": []
    },
    {
      "cell_type": "code",
      "metadata": {
        "colab": {
          "base_uri": "https://localhost:8080/"
        },
        "id": "wyH7x-VzNNWn",
        "outputId": "a1669dbb-014a-4886-ccfd-1f2b7206a59d"
      },
      "source": [
        "datetime.datetime.now() #> Colab 가상 머신의 현재 시간을 리턴함. +9시간하면 한국시간 \n",
        "# datetime 모듈에 있는 datetime 클래스에 있는 now() 매서드 호출 "
      ],
      "execution_count": 4,
      "outputs": [
        {
          "output_type": "execute_result",
          "data": {
            "text/plain": [
              "datetime.datetime(2021, 8, 18, 7, 48, 38, 780219)"
            ]
          },
          "metadata": {
            "tags": []
          },
          "execution_count": 4
        }
      ]
    },
    {
      "cell_type": "code",
      "metadata": {
        "id": "hIJCp613QK8E"
      },
      "source": [
        "from datetime import datetime # datetime 모듈에서 datetime 클래스를 import"
      ],
      "execution_count": 5,
      "outputs": []
    },
    {
      "cell_type": "code",
      "metadata": {
        "colab": {
          "base_uri": "https://localhost:8080/"
        },
        "id": "9fTDC2tWQU-C",
        "outputId": "a16dc137-0a12-4e43-9f48-3a97f4e98ae4"
      },
      "source": [
        "datetime.now()\n",
        "#datetime 클래스의 now() 매서드 호출"
      ],
      "execution_count": 6,
      "outputs": [
        {
          "output_type": "execute_result",
          "data": {
            "text/plain": [
              "datetime.datetime(2021, 8, 18, 7, 55, 0, 97241)"
            ]
          },
          "metadata": {
            "tags": []
          },
          "execution_count": 6
        }
      ]
    },
    {
      "cell_type": "markdown",
      "metadata": {
        "id": "j_p247QRRMpu"
      },
      "source": [
        "* datetime 클래스의 메서드"
      ]
    },
    {
      "cell_type": "code",
      "metadata": {
        "id": "GrxyNIooRO3x"
      },
      "source": [
        "# datetime.now(): 코드가 실행되는 컴퓨터 OS에서 설정된  시간대의 현재 시간을 리턴\n",
        "curr_dt= datetime.now()"
      ],
      "execution_count": 14,
      "outputs": []
    },
    {
      "cell_type": "code",
      "metadata": {
        "colab": {
          "base_uri": "https://localhost:8080/"
        },
        "id": "vUIG4woYRlTt",
        "outputId": "bf2cbb59-075d-48ed-beee-491bdc2eab23"
      },
      "source": [
        "curr_dt # expression을 출력"
      ],
      "execution_count": 15,
      "outputs": [
        {
          "output_type": "execute_result",
          "data": {
            "text/plain": [
              "datetime.datetime(2021, 8, 18, 8, 11, 27, 66795)"
            ]
          },
          "metadata": {
            "tags": []
          },
          "execution_count": 15
        }
      ]
    },
    {
      "cell_type": "code",
      "metadata": {
        "colab": {
          "base_uri": "https://localhost:8080/"
        },
        "id": "YpqX7BWoRpdH",
        "outputId": "cc501952-9fb5-46f8-bf00-b8472530d0a1"
      },
      "source": [
        "print(curr_dt) # statement"
      ],
      "execution_count": 16,
      "outputs": [
        {
          "output_type": "stream",
          "text": [
            "2021-08-18 08:11:27.066795\n"
          ],
          "name": "stdout"
        }
      ]
    },
    {
      "cell_type": "markdown",
      "metadata": {
        "id": "lqCrGkz3SL_s"
      },
      "source": [
        "* UTC(Coordinates Universal Timezone): 그리니치 천문대 기준 시간 \n",
        "* KST(Korean Standard Timezone): 한국 표준시 . UTC + 09:00"
      ]
    },
    {
      "cell_type": "code",
      "metadata": {
        "colab": {
          "base_uri": "https://localhost:8080/"
        },
        "id": "CfKaQZXaT8Ui",
        "outputId": "f4961693-ceda-42a6-9d6c-aee054c3aca5"
      },
      "source": [
        "# datetime.datetime 클래스의 속성들(year,month,hour,minute,second)\n",
        "print(type(curr_dt))\n",
        "print(curr_dt.year)\n",
        "print(curr_dt.month)\n",
        "print(curr_dt.hour)\n",
        "print(curr_dt.minute)\n",
        "print(curr_dt.second)\n",
        "print(f'{curr_dt.hour}:{curr_dt.minute}:{curr_dt.second}')"
      ],
      "execution_count": 24,
      "outputs": [
        {
          "output_type": "stream",
          "text": [
            "<class 'datetime.datetime'>\n",
            "2021\n",
            "8\n",
            "8\n",
            "11\n",
            "27\n",
            "8:11:27\n"
          ],
          "name": "stdout"
        }
      ]
    },
    {
      "cell_type": "code",
      "metadata": {
        "colab": {
          "base_uri": "https://localhost:8080/"
        },
        "id": "9dJbwQ-nVYPL",
        "outputId": "5a65dca2-c52e-47e8-cdc1-83d82416898e"
      },
      "source": [
        "# datetime.datetime() 생성자 함수\n",
        "yesterday= datetime(2021,8,17)\n",
        "print(yesterday)"
      ],
      "execution_count": 26,
      "outputs": [
        {
          "output_type": "stream",
          "text": [
            "2021-08-17 00:00:00\n"
          ],
          "name": "stdout"
        }
      ]
    },
    {
      "cell_type": "code",
      "metadata": {
        "colab": {
          "base_uri": "https://localhost:8080/"
        },
        "id": "_l4VnYwhWlAF",
        "outputId": "ec39eb05-e301-446c-d151-17a320586ca8"
      },
      "source": [
        "tomorrow=datetime(2021,8,19,17,20)\n",
        "print(tomorrow)"
      ],
      "execution_count": 27,
      "outputs": [
        {
          "output_type": "stream",
          "text": [
            "2021-08-19 17:20:00\n"
          ],
          "name": "stdout"
        }
      ]
    },
    {
      "cell_type": "code",
      "metadata": {
        "colab": {
          "base_uri": "https://localhost:8080/"
        },
        "id": "V_udytXYWqOF",
        "outputId": "6f2b99ba-0e68-48c4-a972-17bf9da08f24"
      },
      "source": [
        "tomorrow-yesterday # datetime 타입의 변수들으 뺄셈 결과는 timedelta 클래스 타입"
      ],
      "execution_count": 28,
      "outputs": [
        {
          "output_type": "execute_result",
          "data": {
            "text/plain": [
              "datetime.timedelta(days=2, seconds=62400)"
            ]
          },
          "metadata": {
            "tags": []
          },
          "execution_count": 28
        }
      ]
    },
    {
      "cell_type": "markdown",
      "metadata": {
        "id": "bSe4PpKbbNYW"
      },
      "source": [
        "* `datetime`(날짜/시간) 객체 <---> `str`(문자열) 객체\n",
        "  * `datetime.strftime(포맷문자열)`: `datetime` 객체를 포맷 문자열로 형식으로 formatting이 된 문자열로 변환해서 리턴.\n",
        "  * `datetime.strptime(문자열,포맷문자열)`: 문자열(str)을 `datetime`객체로 변환(parsing). \n",
        "\n",
        "* 날짜 포맷 문자열\n",
        "  * `%p` AM/PM(오전/오후) 표시\n",
        "  * 연도(year): `%Y`(4자리연도),`%y`(2자리연도)\n",
        "  * 월(month): `%m`(2자리 숫자),`%B`(월 이름),`%b`(월 이름의 약자)\n",
        "  * 일(day): `%d`(2자리 숫자)\n",
        "  * 시(hour): `%H`(24시간 형식. 0~23 ),`%i`(12시간 형식. 1~12)\n",
        "  * 분(minute):`%M`(2자리 숫자. 00~59)\n",
        "  * 초(second):`%S`(2자리 숫자. 00~59)"
      ]
    },
    {
      "cell_type": "code",
      "metadata": {
        "colab": {
          "base_uri": "https://localhost:8080/"
        },
        "id": "hDdYEQCMWyD-",
        "outputId": "f0b784da-3ea6-46ee-f65c-15edd2d1b2f3"
      },
      "source": [
        "curr_dt=datetime.now()\n",
        "print(curr_dt)"
      ],
      "execution_count": 29,
      "outputs": [
        {
          "output_type": "stream",
          "text": [
            "2021-08-18 08:53:55.373084\n"
          ],
          "name": "stdout"
        }
      ]
    },
    {
      "cell_type": "code",
      "metadata": {
        "colab": {
          "base_uri": "https://localhost:8080/",
          "height": 34
        },
        "id": "5Ydka_FPeCF6",
        "outputId": "bc2cd204-4a87-496f-83d8-af13f779e756"
      },
      "source": [
        "curr_dt.strftime('%Y/%m/%d') # argument로 전달된 포맷으로 formatting된 문자열을 리턴"
      ],
      "execution_count": 30,
      "outputs": [
        {
          "output_type": "execute_result",
          "data": {
            "application/vnd.google.colaboratory.intrinsic+json": {
              "type": "string"
            },
            "text/plain": [
              "'2021/08/18'"
            ]
          },
          "metadata": {
            "tags": []
          },
          "execution_count": 30
        }
      ]
    },
    {
      "cell_type": "code",
      "metadata": {
        "colab": {
          "base_uri": "https://localhost:8080/",
          "height": 34
        },
        "id": "_2WxN6khfBCK",
        "outputId": "acaf2c7a-bd1d-432b-e2d4-579201b8fc8c"
      },
      "source": [
        "curr_dt.strftime('%b-%d-%y')"
      ],
      "execution_count": 31,
      "outputs": [
        {
          "output_type": "execute_result",
          "data": {
            "application/vnd.google.colaboratory.intrinsic+json": {
              "type": "string"
            },
            "text/plain": [
              "'Aug-18-21'"
            ]
          },
          "metadata": {
            "tags": []
          },
          "execution_count": 31
        }
      ]
    },
    {
      "cell_type": "code",
      "metadata": {
        "colab": {
          "base_uri": "https://localhost:8080/",
          "height": 34
        },
        "id": "_r8D_bJqfuXP",
        "outputId": "07656217-47fc-40aa-ab51-eec1b499e9cb"
      },
      "source": [
        "curr_dt.strftime('%I-%M-%S-%p') # %p AM/PM(오전/오후) 표시"
      ],
      "execution_count": 33,
      "outputs": [
        {
          "output_type": "execute_result",
          "data": {
            "application/vnd.google.colaboratory.intrinsic+json": {
              "type": "string"
            },
            "text/plain": [
              "'08-53-55-AM'"
            ]
          },
          "metadata": {
            "tags": []
          },
          "execution_count": 33
        }
      ]
    },
    {
      "cell_type": "markdown",
      "metadata": {
        "id": "lGsqwCfWgCoi"
      },
      "source": [
        "str ---> datetime "
      ]
    },
    {
      "cell_type": "code",
      "metadata": {
        "colab": {
          "base_uri": "https://localhost:8080/"
        },
        "id": "QW6yOR4zgFZ2",
        "outputId": "cdfae144-6d61-4728-9f09-401f2aae88cf"
      },
      "source": [
        "# datetime.strptime(string,format): format 형식의 문자열 string을 datetime 객체로 변환 리턴\n",
        "datetime.strptime('2021-08-18 18:04:30','%Y-%m-%d %H:%M:%S')"
      ],
      "execution_count": 34,
      "outputs": [
        {
          "output_type": "execute_result",
          "data": {
            "text/plain": [
              "datetime.datetime(2021, 8, 18, 18, 4, 30)"
            ]
          },
          "metadata": {
            "tags": []
          },
          "execution_count": 34
        }
      ]
    },
    {
      "cell_type": "code",
      "metadata": {
        "colab": {
          "base_uri": "https://localhost:8080/"
        },
        "id": "ukZIyGsohApE",
        "outputId": "34b9e3cb-364a-45db-ce29-49edb07e3d39"
      },
      "source": [
        "datetime.strptime('08-18-21','%m-%d-%y') "
      ],
      "execution_count": 43,
      "outputs": [
        {
          "output_type": "execute_result",
          "data": {
            "text/plain": [
              "datetime.datetime(2021, 8, 18, 0, 0)"
            ]
          },
          "metadata": {
            "tags": []
          },
          "execution_count": 43
        }
      ]
    },
    {
      "cell_type": "code",
      "metadata": {
        "colab": {
          "base_uri": "https://localhost:8080/"
        },
        "id": "Ggi5yGFIiMsY",
        "outputId": "88c42299-b98b-4b4f-99a4-447d664c70e8"
      },
      "source": [
        "datetime.strptime('18-08-21','%y-%m-%d')# 우리나라 방식(년-월-일)"
      ],
      "execution_count": 42,
      "outputs": [
        {
          "output_type": "execute_result",
          "data": {
            "text/plain": [
              "datetime.datetime(2018, 8, 21, 0, 0)"
            ]
          },
          "metadata": {
            "tags": []
          },
          "execution_count": 42
        }
      ]
    },
    {
      "cell_type": "code",
      "metadata": {
        "colab": {
          "base_uri": "https://localhost:8080/"
        },
        "id": "iZRT6d0vibDf",
        "outputId": "78ed7b4f-17f9-4837-97aa-77d686c85d09"
      },
      "source": [
        "datetime.strptime('18-08-21','%d-%m-%y')# 영국 방식(일-월-년)"
      ],
      "execution_count": 41,
      "outputs": [
        {
          "output_type": "execute_result",
          "data": {
            "text/plain": [
              "datetime.datetime(2021, 8, 18, 0, 0)"
            ]
          },
          "metadata": {
            "tags": []
          },
          "execution_count": 41
        }
      ]
    }
  ]
}