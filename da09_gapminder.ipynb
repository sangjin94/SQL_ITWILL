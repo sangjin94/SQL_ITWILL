{
  "nbformat": 4,
  "nbformat_minor": 0,
  "metadata": {
    "colab": {
      "name": "da09_gapminder.ipynb",
      "provenance": [],
      "collapsed_sections": [],
      "include_colab_link": true
    },
    "kernelspec": {
      "name": "python3",
      "display_name": "Python 3"
    },
    "language_info": {
      "name": "python"
    }
  },
  "cells": [
    {
      "cell_type": "markdown",
      "metadata": {
        "id": "view-in-github",
        "colab_type": "text"
      },
      "source": [
        "<a href=\"https://colab.research.google.com/github/sangjin94/SQL_ITWILL/blob/main/da09_gapminder.ipynb\" target=\"_parent\"><img src=\"https://colab.research.google.com/assets/colab-badge.svg\" alt=\"Open In Colab\"/></a>"
      ]
    },
    {
      "cell_type": "code",
      "metadata": {
        "id": "uE3r3pjwrNDN"
      },
      "source": [
        "import pandas as pd\n",
        "import numpy as np\n",
        "import seaborn as sns\n",
        "import matplotlib.pyplot as plt"
      ],
      "execution_count": 44,
      "outputs": []
    },
    {
      "cell_type": "markdown",
      "metadata": {
        "id": "xERNo8pDlqBK"
      },
      "source": [
        "* github에 저장된 gapminder.tsv 파일을 읽고, DataFrame 생성하세요."
      ]
    },
    {
      "cell_type": "code",
      "metadata": {
        "id": "TWAs1nMjlVAL"
      },
      "source": [
        "file_path = 'https://github.com/JakeOh/202105_itw_bd26/raw/main/datasets/gapminder.tsv'\n",
        "df=pd.read_csv(file_path,sep='\\t') \n",
        "# 탭으로 값들이 구분된 파일인 경우 sep= '\\t'"
      ],
      "execution_count": 7,
      "outputs": []
    },
    {
      "cell_type": "code",
      "metadata": {
        "colab": {
          "base_uri": "https://localhost:8080/",
          "height": 420
        },
        "id": "xddho_0HrcP5",
        "outputId": "7bbbc507-fcd6-4622-e810-b66d588d045e"
      },
      "source": [
        "df"
      ],
      "execution_count": 8,
      "outputs": [
        {
          "output_type": "execute_result",
          "data": {
            "text/html": [
              "<div>\n",
              "<style scoped>\n",
              "    .dataframe tbody tr th:only-of-type {\n",
              "        vertical-align: middle;\n",
              "    }\n",
              "\n",
              "    .dataframe tbody tr th {\n",
              "        vertical-align: top;\n",
              "    }\n",
              "\n",
              "    .dataframe thead th {\n",
              "        text-align: right;\n",
              "    }\n",
              "</style>\n",
              "<table border=\"1\" class=\"dataframe\">\n",
              "  <thead>\n",
              "    <tr style=\"text-align: right;\">\n",
              "      <th></th>\n",
              "      <th>country</th>\n",
              "      <th>continent</th>\n",
              "      <th>year</th>\n",
              "      <th>lifeExp</th>\n",
              "      <th>pop</th>\n",
              "      <th>gdpPercap</th>\n",
              "    </tr>\n",
              "  </thead>\n",
              "  <tbody>\n",
              "    <tr>\n",
              "      <th>0</th>\n",
              "      <td>Afghanistan</td>\n",
              "      <td>Asia</td>\n",
              "      <td>1952</td>\n",
              "      <td>28.801</td>\n",
              "      <td>8425333</td>\n",
              "      <td>779.445314</td>\n",
              "    </tr>\n",
              "    <tr>\n",
              "      <th>1</th>\n",
              "      <td>Afghanistan</td>\n",
              "      <td>Asia</td>\n",
              "      <td>1957</td>\n",
              "      <td>30.332</td>\n",
              "      <td>9240934</td>\n",
              "      <td>820.853030</td>\n",
              "    </tr>\n",
              "    <tr>\n",
              "      <th>2</th>\n",
              "      <td>Afghanistan</td>\n",
              "      <td>Asia</td>\n",
              "      <td>1962</td>\n",
              "      <td>31.997</td>\n",
              "      <td>10267083</td>\n",
              "      <td>853.100710</td>\n",
              "    </tr>\n",
              "    <tr>\n",
              "      <th>3</th>\n",
              "      <td>Afghanistan</td>\n",
              "      <td>Asia</td>\n",
              "      <td>1967</td>\n",
              "      <td>34.020</td>\n",
              "      <td>11537966</td>\n",
              "      <td>836.197138</td>\n",
              "    </tr>\n",
              "    <tr>\n",
              "      <th>4</th>\n",
              "      <td>Afghanistan</td>\n",
              "      <td>Asia</td>\n",
              "      <td>1972</td>\n",
              "      <td>36.088</td>\n",
              "      <td>13079460</td>\n",
              "      <td>739.981106</td>\n",
              "    </tr>\n",
              "    <tr>\n",
              "      <th>...</th>\n",
              "      <td>...</td>\n",
              "      <td>...</td>\n",
              "      <td>...</td>\n",
              "      <td>...</td>\n",
              "      <td>...</td>\n",
              "      <td>...</td>\n",
              "    </tr>\n",
              "    <tr>\n",
              "      <th>1699</th>\n",
              "      <td>Zimbabwe</td>\n",
              "      <td>Africa</td>\n",
              "      <td>1987</td>\n",
              "      <td>62.351</td>\n",
              "      <td>9216418</td>\n",
              "      <td>706.157306</td>\n",
              "    </tr>\n",
              "    <tr>\n",
              "      <th>1700</th>\n",
              "      <td>Zimbabwe</td>\n",
              "      <td>Africa</td>\n",
              "      <td>1992</td>\n",
              "      <td>60.377</td>\n",
              "      <td>10704340</td>\n",
              "      <td>693.420786</td>\n",
              "    </tr>\n",
              "    <tr>\n",
              "      <th>1701</th>\n",
              "      <td>Zimbabwe</td>\n",
              "      <td>Africa</td>\n",
              "      <td>1997</td>\n",
              "      <td>46.809</td>\n",
              "      <td>11404948</td>\n",
              "      <td>792.449960</td>\n",
              "    </tr>\n",
              "    <tr>\n",
              "      <th>1702</th>\n",
              "      <td>Zimbabwe</td>\n",
              "      <td>Africa</td>\n",
              "      <td>2002</td>\n",
              "      <td>39.989</td>\n",
              "      <td>11926563</td>\n",
              "      <td>672.038623</td>\n",
              "    </tr>\n",
              "    <tr>\n",
              "      <th>1703</th>\n",
              "      <td>Zimbabwe</td>\n",
              "      <td>Africa</td>\n",
              "      <td>2007</td>\n",
              "      <td>43.487</td>\n",
              "      <td>12311143</td>\n",
              "      <td>469.709298</td>\n",
              "    </tr>\n",
              "  </tbody>\n",
              "</table>\n",
              "<p>1704 rows × 6 columns</p>\n",
              "</div>"
            ],
            "text/plain": [
              "          country continent  year  lifeExp       pop   gdpPercap\n",
              "0     Afghanistan      Asia  1952   28.801   8425333  779.445314\n",
              "1     Afghanistan      Asia  1957   30.332   9240934  820.853030\n",
              "2     Afghanistan      Asia  1962   31.997  10267083  853.100710\n",
              "3     Afghanistan      Asia  1967   34.020  11537966  836.197138\n",
              "4     Afghanistan      Asia  1972   36.088  13079460  739.981106\n",
              "...           ...       ...   ...      ...       ...         ...\n",
              "1699     Zimbabwe    Africa  1987   62.351   9216418  706.157306\n",
              "1700     Zimbabwe    Africa  1992   60.377  10704340  693.420786\n",
              "1701     Zimbabwe    Africa  1997   46.809  11404948  792.449960\n",
              "1702     Zimbabwe    Africa  2002   39.989  11926563  672.038623\n",
              "1703     Zimbabwe    Africa  2007   43.487  12311143  469.709298\n",
              "\n",
              "[1704 rows x 6 columns]"
            ]
          },
          "metadata": {
            "tags": []
          },
          "execution_count": 8
        }
      ]
    },
    {
      "cell_type": "markdown",
      "metadata": {
        "id": "qeiNhXJ1l1OS"
      },
      "source": [
        "* DataFrame의 정보를 출력하세요."
      ]
    },
    {
      "cell_type": "code",
      "metadata": {
        "colab": {
          "base_uri": "https://localhost:8080/"
        },
        "id": "gsPjw2sCrvvy",
        "outputId": "23ad58ef-d3e6-4c6e-c07e-4fb358ffe208"
      },
      "source": [
        "df.info()"
      ],
      "execution_count": 9,
      "outputs": [
        {
          "output_type": "stream",
          "text": [
            "<class 'pandas.core.frame.DataFrame'>\n",
            "RangeIndex: 1704 entries, 0 to 1703\n",
            "Data columns (total 6 columns):\n",
            " #   Column     Non-Null Count  Dtype  \n",
            "---  ------     --------------  -----  \n",
            " 0   country    1704 non-null   object \n",
            " 1   continent  1704 non-null   object \n",
            " 2   year       1704 non-null   int64  \n",
            " 3   lifeExp    1704 non-null   float64\n",
            " 4   pop        1704 non-null   int64  \n",
            " 5   gdpPercap  1704 non-null   float64\n",
            "dtypes: float64(2), int64(2), object(2)\n",
            "memory usage: 80.0+ KB\n"
          ],
          "name": "stdout"
        }
      ]
    },
    {
      "cell_type": "markdown",
      "metadata": {
        "id": "LYj5-YmUl8Ta"
      },
      "source": [
        "* DataFrame에서 첫 5개 row와 마지막 5개 row를 출력하세요."
      ]
    },
    {
      "cell_type": "code",
      "metadata": {
        "colab": {
          "base_uri": "https://localhost:8080/",
          "height": 204
        },
        "id": "crGrow6RsFF7",
        "outputId": "9ff41ee4-deef-41fd-c862-3ef7703c4219"
      },
      "source": [
        "df.head() # df.iloc[: 5]"
      ],
      "execution_count": 10,
      "outputs": [
        {
          "output_type": "execute_result",
          "data": {
            "text/html": [
              "<div>\n",
              "<style scoped>\n",
              "    .dataframe tbody tr th:only-of-type {\n",
              "        vertical-align: middle;\n",
              "    }\n",
              "\n",
              "    .dataframe tbody tr th {\n",
              "        vertical-align: top;\n",
              "    }\n",
              "\n",
              "    .dataframe thead th {\n",
              "        text-align: right;\n",
              "    }\n",
              "</style>\n",
              "<table border=\"1\" class=\"dataframe\">\n",
              "  <thead>\n",
              "    <tr style=\"text-align: right;\">\n",
              "      <th></th>\n",
              "      <th>country</th>\n",
              "      <th>continent</th>\n",
              "      <th>year</th>\n",
              "      <th>lifeExp</th>\n",
              "      <th>pop</th>\n",
              "      <th>gdpPercap</th>\n",
              "    </tr>\n",
              "  </thead>\n",
              "  <tbody>\n",
              "    <tr>\n",
              "      <th>0</th>\n",
              "      <td>Afghanistan</td>\n",
              "      <td>Asia</td>\n",
              "      <td>1952</td>\n",
              "      <td>28.801</td>\n",
              "      <td>8425333</td>\n",
              "      <td>779.445314</td>\n",
              "    </tr>\n",
              "    <tr>\n",
              "      <th>1</th>\n",
              "      <td>Afghanistan</td>\n",
              "      <td>Asia</td>\n",
              "      <td>1957</td>\n",
              "      <td>30.332</td>\n",
              "      <td>9240934</td>\n",
              "      <td>820.853030</td>\n",
              "    </tr>\n",
              "    <tr>\n",
              "      <th>2</th>\n",
              "      <td>Afghanistan</td>\n",
              "      <td>Asia</td>\n",
              "      <td>1962</td>\n",
              "      <td>31.997</td>\n",
              "      <td>10267083</td>\n",
              "      <td>853.100710</td>\n",
              "    </tr>\n",
              "    <tr>\n",
              "      <th>3</th>\n",
              "      <td>Afghanistan</td>\n",
              "      <td>Asia</td>\n",
              "      <td>1967</td>\n",
              "      <td>34.020</td>\n",
              "      <td>11537966</td>\n",
              "      <td>836.197138</td>\n",
              "    </tr>\n",
              "    <tr>\n",
              "      <th>4</th>\n",
              "      <td>Afghanistan</td>\n",
              "      <td>Asia</td>\n",
              "      <td>1972</td>\n",
              "      <td>36.088</td>\n",
              "      <td>13079460</td>\n",
              "      <td>739.981106</td>\n",
              "    </tr>\n",
              "  </tbody>\n",
              "</table>\n",
              "</div>"
            ],
            "text/plain": [
              "       country continent  year  lifeExp       pop   gdpPercap\n",
              "0  Afghanistan      Asia  1952   28.801   8425333  779.445314\n",
              "1  Afghanistan      Asia  1957   30.332   9240934  820.853030\n",
              "2  Afghanistan      Asia  1962   31.997  10267083  853.100710\n",
              "3  Afghanistan      Asia  1967   34.020  11537966  836.197138\n",
              "4  Afghanistan      Asia  1972   36.088  13079460  739.981106"
            ]
          },
          "metadata": {
            "tags": []
          },
          "execution_count": 10
        }
      ]
    },
    {
      "cell_type": "code",
      "metadata": {
        "colab": {
          "base_uri": "https://localhost:8080/",
          "height": 204
        },
        "id": "5Vjewj1dsHol",
        "outputId": "130f45e4-dffc-41aa-de51-32caf8bac514"
      },
      "source": [
        "df.tail() # df.iloc[-5:]"
      ],
      "execution_count": 11,
      "outputs": [
        {
          "output_type": "execute_result",
          "data": {
            "text/html": [
              "<div>\n",
              "<style scoped>\n",
              "    .dataframe tbody tr th:only-of-type {\n",
              "        vertical-align: middle;\n",
              "    }\n",
              "\n",
              "    .dataframe tbody tr th {\n",
              "        vertical-align: top;\n",
              "    }\n",
              "\n",
              "    .dataframe thead th {\n",
              "        text-align: right;\n",
              "    }\n",
              "</style>\n",
              "<table border=\"1\" class=\"dataframe\">\n",
              "  <thead>\n",
              "    <tr style=\"text-align: right;\">\n",
              "      <th></th>\n",
              "      <th>country</th>\n",
              "      <th>continent</th>\n",
              "      <th>year</th>\n",
              "      <th>lifeExp</th>\n",
              "      <th>pop</th>\n",
              "      <th>gdpPercap</th>\n",
              "    </tr>\n",
              "  </thead>\n",
              "  <tbody>\n",
              "    <tr>\n",
              "      <th>1699</th>\n",
              "      <td>Zimbabwe</td>\n",
              "      <td>Africa</td>\n",
              "      <td>1987</td>\n",
              "      <td>62.351</td>\n",
              "      <td>9216418</td>\n",
              "      <td>706.157306</td>\n",
              "    </tr>\n",
              "    <tr>\n",
              "      <th>1700</th>\n",
              "      <td>Zimbabwe</td>\n",
              "      <td>Africa</td>\n",
              "      <td>1992</td>\n",
              "      <td>60.377</td>\n",
              "      <td>10704340</td>\n",
              "      <td>693.420786</td>\n",
              "    </tr>\n",
              "    <tr>\n",
              "      <th>1701</th>\n",
              "      <td>Zimbabwe</td>\n",
              "      <td>Africa</td>\n",
              "      <td>1997</td>\n",
              "      <td>46.809</td>\n",
              "      <td>11404948</td>\n",
              "      <td>792.449960</td>\n",
              "    </tr>\n",
              "    <tr>\n",
              "      <th>1702</th>\n",
              "      <td>Zimbabwe</td>\n",
              "      <td>Africa</td>\n",
              "      <td>2002</td>\n",
              "      <td>39.989</td>\n",
              "      <td>11926563</td>\n",
              "      <td>672.038623</td>\n",
              "    </tr>\n",
              "    <tr>\n",
              "      <th>1703</th>\n",
              "      <td>Zimbabwe</td>\n",
              "      <td>Africa</td>\n",
              "      <td>2007</td>\n",
              "      <td>43.487</td>\n",
              "      <td>12311143</td>\n",
              "      <td>469.709298</td>\n",
              "    </tr>\n",
              "  </tbody>\n",
              "</table>\n",
              "</div>"
            ],
            "text/plain": [
              "       country continent  year  lifeExp       pop   gdpPercap\n",
              "1699  Zimbabwe    Africa  1987   62.351   9216418  706.157306\n",
              "1700  Zimbabwe    Africa  1992   60.377  10704340  693.420786\n",
              "1701  Zimbabwe    Africa  1997   46.809  11404948  792.449960\n",
              "1702  Zimbabwe    Africa  2002   39.989  11926563  672.038623\n",
              "1703  Zimbabwe    Africa  2007   43.487  12311143  469.709298"
            ]
          },
          "metadata": {
            "tags": []
          },
          "execution_count": 11
        }
      ]
    },
    {
      "cell_type": "markdown",
      "metadata": {
        "id": "fU7TT-s3mIxy"
      },
      "source": [
        "* DataFrame에서 숫자 타입 변수들의 기술 통계량을 출력하세요."
      ]
    },
    {
      "cell_type": "code",
      "metadata": {
        "colab": {
          "base_uri": "https://localhost:8080/",
          "height": 297
        },
        "id": "QfjTCpRQsQF0",
        "outputId": "66f58773-4909-4c32-f28e-12fd7afcc276"
      },
      "source": [
        "df.describe()"
      ],
      "execution_count": 12,
      "outputs": [
        {
          "output_type": "execute_result",
          "data": {
            "text/html": [
              "<div>\n",
              "<style scoped>\n",
              "    .dataframe tbody tr th:only-of-type {\n",
              "        vertical-align: middle;\n",
              "    }\n",
              "\n",
              "    .dataframe tbody tr th {\n",
              "        vertical-align: top;\n",
              "    }\n",
              "\n",
              "    .dataframe thead th {\n",
              "        text-align: right;\n",
              "    }\n",
              "</style>\n",
              "<table border=\"1\" class=\"dataframe\">\n",
              "  <thead>\n",
              "    <tr style=\"text-align: right;\">\n",
              "      <th></th>\n",
              "      <th>year</th>\n",
              "      <th>lifeExp</th>\n",
              "      <th>pop</th>\n",
              "      <th>gdpPercap</th>\n",
              "    </tr>\n",
              "  </thead>\n",
              "  <tbody>\n",
              "    <tr>\n",
              "      <th>count</th>\n",
              "      <td>1704.00000</td>\n",
              "      <td>1704.000000</td>\n",
              "      <td>1.704000e+03</td>\n",
              "      <td>1704.000000</td>\n",
              "    </tr>\n",
              "    <tr>\n",
              "      <th>mean</th>\n",
              "      <td>1979.50000</td>\n",
              "      <td>59.474439</td>\n",
              "      <td>2.960121e+07</td>\n",
              "      <td>7215.327081</td>\n",
              "    </tr>\n",
              "    <tr>\n",
              "      <th>std</th>\n",
              "      <td>17.26533</td>\n",
              "      <td>12.917107</td>\n",
              "      <td>1.061579e+08</td>\n",
              "      <td>9857.454543</td>\n",
              "    </tr>\n",
              "    <tr>\n",
              "      <th>min</th>\n",
              "      <td>1952.00000</td>\n",
              "      <td>23.599000</td>\n",
              "      <td>6.001100e+04</td>\n",
              "      <td>241.165877</td>\n",
              "    </tr>\n",
              "    <tr>\n",
              "      <th>25%</th>\n",
              "      <td>1965.75000</td>\n",
              "      <td>48.198000</td>\n",
              "      <td>2.793664e+06</td>\n",
              "      <td>1202.060309</td>\n",
              "    </tr>\n",
              "    <tr>\n",
              "      <th>50%</th>\n",
              "      <td>1979.50000</td>\n",
              "      <td>60.712500</td>\n",
              "      <td>7.023596e+06</td>\n",
              "      <td>3531.846989</td>\n",
              "    </tr>\n",
              "    <tr>\n",
              "      <th>75%</th>\n",
              "      <td>1993.25000</td>\n",
              "      <td>70.845500</td>\n",
              "      <td>1.958522e+07</td>\n",
              "      <td>9325.462346</td>\n",
              "    </tr>\n",
              "    <tr>\n",
              "      <th>max</th>\n",
              "      <td>2007.00000</td>\n",
              "      <td>82.603000</td>\n",
              "      <td>1.318683e+09</td>\n",
              "      <td>113523.132900</td>\n",
              "    </tr>\n",
              "  </tbody>\n",
              "</table>\n",
              "</div>"
            ],
            "text/plain": [
              "             year      lifeExp           pop      gdpPercap\n",
              "count  1704.00000  1704.000000  1.704000e+03    1704.000000\n",
              "mean   1979.50000    59.474439  2.960121e+07    7215.327081\n",
              "std      17.26533    12.917107  1.061579e+08    9857.454543\n",
              "min    1952.00000    23.599000  6.001100e+04     241.165877\n",
              "25%    1965.75000    48.198000  2.793664e+06    1202.060309\n",
              "50%    1979.50000    60.712500  7.023596e+06    3531.846989\n",
              "75%    1993.25000    70.845500  1.958522e+07    9325.462346\n",
              "max    2007.00000    82.603000  1.318683e+09  113523.132900"
            ]
          },
          "metadata": {
            "tags": []
          },
          "execution_count": 12
        }
      ]
    },
    {
      "cell_type": "markdown",
      "metadata": {
        "id": "Sqk_XuDamQkS"
      },
      "source": [
        "* DataFrame에 있는 국가 이름의 개수를 찾으세요."
      ]
    },
    {
      "cell_type": "code",
      "metadata": {
        "colab": {
          "base_uri": "https://localhost:8080/"
        },
        "id": "E2Y37oSn5xRt",
        "outputId": "c00742b3-35ed-48c5-d0aa-c3b53834ef2d"
      },
      "source": [
        "len(df['country'].unique())"
      ],
      "execution_count": 85,
      "outputs": [
        {
          "output_type": "execute_result",
          "data": {
            "text/plain": [
              "142"
            ]
          },
          "metadata": {
            "tags": []
          },
          "execution_count": 85
        }
      ]
    },
    {
      "cell_type": "code",
      "metadata": {
        "colab": {
          "base_uri": "https://localhost:8080/"
        },
        "id": "JL3sEdX6scLj",
        "outputId": "f288b6b2-1ae8-411a-fac0-cf56d0c43493"
      },
      "source": [
        "df['country'].value_counts()"
      ],
      "execution_count": 13,
      "outputs": [
        {
          "output_type": "execute_result",
          "data": {
            "text/plain": [
              "El Salvador        12\n",
              "Iran               12\n",
              "Colombia           12\n",
              "Bolivia            12\n",
              "Libya              12\n",
              "                   ..\n",
              "Chile              12\n",
              "Slovak Republic    12\n",
              "Algeria            12\n",
              "United Kingdom     12\n",
              "Italy              12\n",
              "Name: country, Length: 142, dtype: int64"
            ]
          },
          "metadata": {
            "tags": []
          },
          "execution_count": 13
        }
      ]
    },
    {
      "cell_type": "markdown",
      "metadata": {
        "id": "60CmtnsqmZ67"
      },
      "source": [
        "* DataFrame에 있는 (중복되지 않는) 모든 대륙 이름들을 찾으세요."
      ]
    },
    {
      "cell_type": "code",
      "metadata": {
        "colab": {
          "base_uri": "https://localhost:8080/"
        },
        "id": "f5OBb2Za54wl",
        "outputId": "1086c1f9-9b99-429b-8f0d-12738db1846f"
      },
      "source": [
        "(df['country'].unique())"
      ],
      "execution_count": 86,
      "outputs": [
        {
          "output_type": "execute_result",
          "data": {
            "text/plain": [
              "array(['Afghanistan', 'Albania', 'Algeria', 'Angola', 'Argentina',\n",
              "       'Australia', 'Austria', 'Bahrain', 'Bangladesh', 'Belgium',\n",
              "       'Benin', 'Bolivia', 'Bosnia and Herzegovina', 'Botswana', 'Brazil',\n",
              "       'Bulgaria', 'Burkina Faso', 'Burundi', 'Cambodia', 'Cameroon',\n",
              "       'Canada', 'Central African Republic', 'Chad', 'Chile', 'China',\n",
              "       'Colombia', 'Comoros', 'Congo, Dem. Rep.', 'Congo, Rep.',\n",
              "       'Costa Rica', \"Cote d'Ivoire\", 'Croatia', 'Cuba', 'Czech Republic',\n",
              "       'Denmark', 'Djibouti', 'Dominican Republic', 'Ecuador', 'Egypt',\n",
              "       'El Salvador', 'Equatorial Guinea', 'Eritrea', 'Ethiopia',\n",
              "       'Finland', 'France', 'Gabon', 'Gambia', 'Germany', 'Ghana',\n",
              "       'Greece', 'Guatemala', 'Guinea', 'Guinea-Bissau', 'Haiti',\n",
              "       'Honduras', 'Hong Kong, China', 'Hungary', 'Iceland', 'India',\n",
              "       'Indonesia', 'Iran', 'Iraq', 'Ireland', 'Israel', 'Italy',\n",
              "       'Jamaica', 'Japan', 'Jordan', 'Kenya', 'Korea, Dem. Rep.',\n",
              "       'Korea, Rep.', 'Kuwait', 'Lebanon', 'Lesotho', 'Liberia', 'Libya',\n",
              "       'Madagascar', 'Malawi', 'Malaysia', 'Mali', 'Mauritania',\n",
              "       'Mauritius', 'Mexico', 'Mongolia', 'Montenegro', 'Morocco',\n",
              "       'Mozambique', 'Myanmar', 'Namibia', 'Nepal', 'Netherlands',\n",
              "       'New Zealand', 'Nicaragua', 'Niger', 'Nigeria', 'Norway', 'Oman',\n",
              "       'Pakistan', 'Panama', 'Paraguay', 'Peru', 'Philippines', 'Poland',\n",
              "       'Portugal', 'Puerto Rico', 'Reunion', 'Romania', 'Rwanda',\n",
              "       'Sao Tome and Principe', 'Saudi Arabia', 'Senegal', 'Serbia',\n",
              "       'Sierra Leone', 'Singapore', 'Slovak Republic', 'Slovenia',\n",
              "       'Somalia', 'South Africa', 'Spain', 'Sri Lanka', 'Sudan',\n",
              "       'Swaziland', 'Sweden', 'Switzerland', 'Syria', 'Taiwan',\n",
              "       'Tanzania', 'Thailand', 'Togo', 'Trinidad and Tobago', 'Tunisia',\n",
              "       'Turkey', 'Uganda', 'United Kingdom', 'United States', 'Uruguay',\n",
              "       'Venezuela', 'Vietnam', 'West Bank and Gaza', 'Yemen, Rep.',\n",
              "       'Zambia', 'Zimbabwe'], dtype=object)"
            ]
          },
          "metadata": {
            "tags": []
          },
          "execution_count": 86
        }
      ]
    },
    {
      "cell_type": "code",
      "metadata": {
        "colab": {
          "base_uri": "https://localhost:8080/"
        },
        "id": "rGOLDJ9ntI3N",
        "outputId": "34263685-0897-4e0d-93a8-b110993c8302"
      },
      "source": [
        "df['country'].value_counts().index"
      ],
      "execution_count": 14,
      "outputs": [
        {
          "output_type": "execute_result",
          "data": {
            "text/plain": [
              "Index(['El Salvador', 'Iran', 'Colombia', 'Bolivia', 'Libya', 'Nigeria',\n",
              "       'Iraq', 'Iceland', 'Oman', 'Jordan',\n",
              "       ...\n",
              "       'China', 'Malawi', 'Cote d'Ivoire', 'Sri Lanka', 'Myanmar', 'Chile',\n",
              "       'Slovak Republic', 'Algeria', 'United Kingdom', 'Italy'],\n",
              "      dtype='object', length=142)"
            ]
          },
          "metadata": {
            "tags": []
          },
          "execution_count": 14
        }
      ]
    },
    {
      "cell_type": "markdown",
      "metadata": {
        "id": "f-nN5onCmnst"
      },
      "source": [
        "* DataFrame에 있는 연도의 개수를 찾으세요."
      ]
    },
    {
      "cell_type": "code",
      "metadata": {
        "colab": {
          "base_uri": "https://localhost:8080/"
        },
        "id": "FrkPvVgOtQsS",
        "outputId": "13967136-b149-427a-fd50-609115b7a639"
      },
      "source": [
        "len(df['year'].unique())"
      ],
      "execution_count": 87,
      "outputs": [
        {
          "output_type": "execute_result",
          "data": {
            "text/plain": [
              "12"
            ]
          },
          "metadata": {
            "tags": []
          },
          "execution_count": 87
        }
      ]
    },
    {
      "cell_type": "markdown",
      "metadata": {
        "id": "fWjGxRDWmyOR"
      },
      "source": [
        "* DataFrame에서 국가 이름, 연도, 1인당 GDP 컬럼을 선택하세요."
      ]
    },
    {
      "cell_type": "code",
      "metadata": {
        "colab": {
          "base_uri": "https://localhost:8080/",
          "height": 420
        },
        "id": "yzIEWppXtcO_",
        "outputId": "a555a5b8-a798-4dfe-ff1c-9531bbada315"
      },
      "source": [
        "df[[\"country\",\"year\",\"gdpPercap\"]]"
      ],
      "execution_count": 25,
      "outputs": [
        {
          "output_type": "execute_result",
          "data": {
            "text/html": [
              "<div>\n",
              "<style scoped>\n",
              "    .dataframe tbody tr th:only-of-type {\n",
              "        vertical-align: middle;\n",
              "    }\n",
              "\n",
              "    .dataframe tbody tr th {\n",
              "        vertical-align: top;\n",
              "    }\n",
              "\n",
              "    .dataframe thead th {\n",
              "        text-align: right;\n",
              "    }\n",
              "</style>\n",
              "<table border=\"1\" class=\"dataframe\">\n",
              "  <thead>\n",
              "    <tr style=\"text-align: right;\">\n",
              "      <th></th>\n",
              "      <th>country</th>\n",
              "      <th>year</th>\n",
              "      <th>gdpPercap</th>\n",
              "    </tr>\n",
              "  </thead>\n",
              "  <tbody>\n",
              "    <tr>\n",
              "      <th>0</th>\n",
              "      <td>Afghanistan</td>\n",
              "      <td>1952</td>\n",
              "      <td>779.445314</td>\n",
              "    </tr>\n",
              "    <tr>\n",
              "      <th>1</th>\n",
              "      <td>Afghanistan</td>\n",
              "      <td>1957</td>\n",
              "      <td>820.853030</td>\n",
              "    </tr>\n",
              "    <tr>\n",
              "      <th>2</th>\n",
              "      <td>Afghanistan</td>\n",
              "      <td>1962</td>\n",
              "      <td>853.100710</td>\n",
              "    </tr>\n",
              "    <tr>\n",
              "      <th>3</th>\n",
              "      <td>Afghanistan</td>\n",
              "      <td>1967</td>\n",
              "      <td>836.197138</td>\n",
              "    </tr>\n",
              "    <tr>\n",
              "      <th>4</th>\n",
              "      <td>Afghanistan</td>\n",
              "      <td>1972</td>\n",
              "      <td>739.981106</td>\n",
              "    </tr>\n",
              "    <tr>\n",
              "      <th>...</th>\n",
              "      <td>...</td>\n",
              "      <td>...</td>\n",
              "      <td>...</td>\n",
              "    </tr>\n",
              "    <tr>\n",
              "      <th>1699</th>\n",
              "      <td>Zimbabwe</td>\n",
              "      <td>1987</td>\n",
              "      <td>706.157306</td>\n",
              "    </tr>\n",
              "    <tr>\n",
              "      <th>1700</th>\n",
              "      <td>Zimbabwe</td>\n",
              "      <td>1992</td>\n",
              "      <td>693.420786</td>\n",
              "    </tr>\n",
              "    <tr>\n",
              "      <th>1701</th>\n",
              "      <td>Zimbabwe</td>\n",
              "      <td>1997</td>\n",
              "      <td>792.449960</td>\n",
              "    </tr>\n",
              "    <tr>\n",
              "      <th>1702</th>\n",
              "      <td>Zimbabwe</td>\n",
              "      <td>2002</td>\n",
              "      <td>672.038623</td>\n",
              "    </tr>\n",
              "    <tr>\n",
              "      <th>1703</th>\n",
              "      <td>Zimbabwe</td>\n",
              "      <td>2007</td>\n",
              "      <td>469.709298</td>\n",
              "    </tr>\n",
              "  </tbody>\n",
              "</table>\n",
              "<p>1704 rows × 3 columns</p>\n",
              "</div>"
            ],
            "text/plain": [
              "          country  year   gdpPercap\n",
              "0     Afghanistan  1952  779.445314\n",
              "1     Afghanistan  1957  820.853030\n",
              "2     Afghanistan  1962  853.100710\n",
              "3     Afghanistan  1967  836.197138\n",
              "4     Afghanistan  1972  739.981106\n",
              "...           ...   ...         ...\n",
              "1699     Zimbabwe  1987  706.157306\n",
              "1700     Zimbabwe  1992  693.420786\n",
              "1701     Zimbabwe  1997  792.449960\n",
              "1702     Zimbabwe  2002  672.038623\n",
              "1703     Zimbabwe  2007  469.709298\n",
              "\n",
              "[1704 rows x 3 columns]"
            ]
          },
          "metadata": {
            "tags": []
          },
          "execution_count": 25
        }
      ]
    },
    {
      "cell_type": "markdown",
      "metadata": {
        "id": "0Tl2VtBJm-Nq"
      },
      "source": [
        "* DataFrame에서 1인당 GDP의 최솟값, 최댓값을 찾으세요."
      ]
    },
    {
      "cell_type": "code",
      "metadata": {
        "colab": {
          "base_uri": "https://localhost:8080/"
        },
        "id": "xiMEDHVmvdC3",
        "outputId": "bbfa8588-a2b4-4a86-be9e-4df0041adf9c"
      },
      "source": [
        "df['gdpPercap'].max()"
      ],
      "execution_count": 26,
      "outputs": [
        {
          "output_type": "execute_result",
          "data": {
            "text/plain": [
              "113523.1329"
            ]
          },
          "metadata": {
            "tags": []
          },
          "execution_count": 26
        }
      ]
    },
    {
      "cell_type": "code",
      "metadata": {
        "colab": {
          "base_uri": "https://localhost:8080/"
        },
        "id": "vw3Bnvc3vgpo",
        "outputId": "6a7c5b8d-4b91-46ba-c3c3-3be91282e71f"
      },
      "source": [
        "df['gdpPercap'].min()"
      ],
      "execution_count": 27,
      "outputs": [
        {
          "output_type": "execute_result",
          "data": {
            "text/plain": [
              "241.16587650000002"
            ]
          },
          "metadata": {
            "tags": []
          },
          "execution_count": 27
        }
      ]
    },
    {
      "cell_type": "markdown",
      "metadata": {
        "id": "avZhht9RnFaS"
      },
      "source": [
        "* DataFrame에서 1인당 GDP가 최소/최대인 row를 찾으세요."
      ]
    },
    {
      "cell_type": "code",
      "metadata": {
        "colab": {
          "base_uri": "https://localhost:8080/",
          "height": 80
        },
        "id": "glcFN8hh8qKR",
        "outputId": "9a61b587-de93-41a9-c23b-5e68b4ef6d53"
      },
      "source": [
        "df[df.gdpPercap==df.gdpPercap.max()]"
      ],
      "execution_count": 88,
      "outputs": [
        {
          "output_type": "execute_result",
          "data": {
            "text/html": [
              "<div>\n",
              "<style scoped>\n",
              "    .dataframe tbody tr th:only-of-type {\n",
              "        vertical-align: middle;\n",
              "    }\n",
              "\n",
              "    .dataframe tbody tr th {\n",
              "        vertical-align: top;\n",
              "    }\n",
              "\n",
              "    .dataframe thead th {\n",
              "        text-align: right;\n",
              "    }\n",
              "</style>\n",
              "<table border=\"1\" class=\"dataframe\">\n",
              "  <thead>\n",
              "    <tr style=\"text-align: right;\">\n",
              "      <th></th>\n",
              "      <th>country</th>\n",
              "      <th>continent</th>\n",
              "      <th>year</th>\n",
              "      <th>lifeExp</th>\n",
              "      <th>pop</th>\n",
              "      <th>gdpPercap</th>\n",
              "    </tr>\n",
              "  </thead>\n",
              "  <tbody>\n",
              "    <tr>\n",
              "      <th>853</th>\n",
              "      <td>Kuwait</td>\n",
              "      <td>Asia</td>\n",
              "      <td>1957</td>\n",
              "      <td>58.033</td>\n",
              "      <td>212846</td>\n",
              "      <td>113523.1329</td>\n",
              "    </tr>\n",
              "  </tbody>\n",
              "</table>\n",
              "</div>"
            ],
            "text/plain": [
              "    country continent  year  lifeExp     pop    gdpPercap\n",
              "853  Kuwait      Asia  1957   58.033  212846  113523.1329"
            ]
          },
          "metadata": {
            "tags": []
          },
          "execution_count": 88
        }
      ]
    },
    {
      "cell_type": "code",
      "metadata": {
        "colab": {
          "base_uri": "https://localhost:8080/",
          "height": 80
        },
        "id": "UqUnhfqCvvFP",
        "outputId": "a5912f15-c7ca-4848-c913-da5ce02236eb"
      },
      "source": [
        "df[df['gdpPercap']==df['gdpPercap'].max()]"
      ],
      "execution_count": 29,
      "outputs": [
        {
          "output_type": "execute_result",
          "data": {
            "text/html": [
              "<div>\n",
              "<style scoped>\n",
              "    .dataframe tbody tr th:only-of-type {\n",
              "        vertical-align: middle;\n",
              "    }\n",
              "\n",
              "    .dataframe tbody tr th {\n",
              "        vertical-align: top;\n",
              "    }\n",
              "\n",
              "    .dataframe thead th {\n",
              "        text-align: right;\n",
              "    }\n",
              "</style>\n",
              "<table border=\"1\" class=\"dataframe\">\n",
              "  <thead>\n",
              "    <tr style=\"text-align: right;\">\n",
              "      <th></th>\n",
              "      <th>country</th>\n",
              "      <th>continent</th>\n",
              "      <th>year</th>\n",
              "      <th>lifeExp</th>\n",
              "      <th>pop</th>\n",
              "      <th>gdpPercap</th>\n",
              "    </tr>\n",
              "  </thead>\n",
              "  <tbody>\n",
              "    <tr>\n",
              "      <th>853</th>\n",
              "      <td>Kuwait</td>\n",
              "      <td>Asia</td>\n",
              "      <td>1957</td>\n",
              "      <td>58.033</td>\n",
              "      <td>212846</td>\n",
              "      <td>113523.1329</td>\n",
              "    </tr>\n",
              "  </tbody>\n",
              "</table>\n",
              "</div>"
            ],
            "text/plain": [
              "    country continent  year  lifeExp     pop    gdpPercap\n",
              "853  Kuwait      Asia  1957   58.033  212846  113523.1329"
            ]
          },
          "metadata": {
            "tags": []
          },
          "execution_count": 29
        }
      ]
    },
    {
      "cell_type": "code",
      "metadata": {
        "colab": {
          "base_uri": "https://localhost:8080/",
          "height": 80
        },
        "id": "RZUt5HFMv9tX",
        "outputId": "13d69264-8754-4a25-e5e6-8bd35fd53920"
      },
      "source": [
        "df[df['gdpPercap']==df['gdpPercap'].min()]"
      ],
      "execution_count": 30,
      "outputs": [
        {
          "output_type": "execute_result",
          "data": {
            "text/html": [
              "<div>\n",
              "<style scoped>\n",
              "    .dataframe tbody tr th:only-of-type {\n",
              "        vertical-align: middle;\n",
              "    }\n",
              "\n",
              "    .dataframe tbody tr th {\n",
              "        vertical-align: top;\n",
              "    }\n",
              "\n",
              "    .dataframe thead th {\n",
              "        text-align: right;\n",
              "    }\n",
              "</style>\n",
              "<table border=\"1\" class=\"dataframe\">\n",
              "  <thead>\n",
              "    <tr style=\"text-align: right;\">\n",
              "      <th></th>\n",
              "      <th>country</th>\n",
              "      <th>continent</th>\n",
              "      <th>year</th>\n",
              "      <th>lifeExp</th>\n",
              "      <th>pop</th>\n",
              "      <th>gdpPercap</th>\n",
              "    </tr>\n",
              "  </thead>\n",
              "  <tbody>\n",
              "    <tr>\n",
              "      <th>334</th>\n",
              "      <td>Congo, Dem. Rep.</td>\n",
              "      <td>Africa</td>\n",
              "      <td>2002</td>\n",
              "      <td>44.966</td>\n",
              "      <td>55379852</td>\n",
              "      <td>241.165877</td>\n",
              "    </tr>\n",
              "  </tbody>\n",
              "</table>\n",
              "</div>"
            ],
            "text/plain": [
              "              country continent  year  lifeExp       pop   gdpPercap\n",
              "334  Congo, Dem. Rep.    Africa  2002   44.966  55379852  241.165877"
            ]
          },
          "metadata": {
            "tags": []
          },
          "execution_count": 30
        }
      ]
    },
    {
      "cell_type": "code",
      "metadata": {
        "colab": {
          "base_uri": "https://localhost:8080/",
          "height": 111
        },
        "id": "Kl6BMLEU9gmB",
        "outputId": "b2c4b71e-082b-45df-8cc2-e53cab2e2d4a"
      },
      "source": [
        "df[(df.gdpPercap==df.gdpPercap.max())|\n",
        "   (df.gdpPercap==df.gdpPercap.min())]"
      ],
      "execution_count": 90,
      "outputs": [
        {
          "output_type": "execute_result",
          "data": {
            "text/html": [
              "<div>\n",
              "<style scoped>\n",
              "    .dataframe tbody tr th:only-of-type {\n",
              "        vertical-align: middle;\n",
              "    }\n",
              "\n",
              "    .dataframe tbody tr th {\n",
              "        vertical-align: top;\n",
              "    }\n",
              "\n",
              "    .dataframe thead th {\n",
              "        text-align: right;\n",
              "    }\n",
              "</style>\n",
              "<table border=\"1\" class=\"dataframe\">\n",
              "  <thead>\n",
              "    <tr style=\"text-align: right;\">\n",
              "      <th></th>\n",
              "      <th>country</th>\n",
              "      <th>continent</th>\n",
              "      <th>year</th>\n",
              "      <th>lifeExp</th>\n",
              "      <th>pop</th>\n",
              "      <th>gdpPercap</th>\n",
              "    </tr>\n",
              "  </thead>\n",
              "  <tbody>\n",
              "    <tr>\n",
              "      <th>334</th>\n",
              "      <td>Congo, Dem. Rep.</td>\n",
              "      <td>Africa</td>\n",
              "      <td>2002</td>\n",
              "      <td>44.966</td>\n",
              "      <td>55379852</td>\n",
              "      <td>241.165877</td>\n",
              "    </tr>\n",
              "    <tr>\n",
              "      <th>853</th>\n",
              "      <td>Kuwait</td>\n",
              "      <td>Asia</td>\n",
              "      <td>1957</td>\n",
              "      <td>58.033</td>\n",
              "      <td>212846</td>\n",
              "      <td>113523.132900</td>\n",
              "    </tr>\n",
              "  </tbody>\n",
              "</table>\n",
              "</div>"
            ],
            "text/plain": [
              "              country continent  year  lifeExp       pop      gdpPercap\n",
              "334  Congo, Dem. Rep.    Africa  2002   44.966  55379852     241.165877\n",
              "853            Kuwait      Asia  1957   58.033    212846  113523.132900"
            ]
          },
          "metadata": {
            "tags": []
          },
          "execution_count": 90
        }
      ]
    },
    {
      "cell_type": "markdown",
      "metadata": {
        "id": "4ZvZF2XonLL6"
      },
      "source": [
        "* DataFrame에서 기대수명(lifeExp)의 최솟값/최댓값을 찾으세요."
      ]
    },
    {
      "cell_type": "code",
      "metadata": {
        "colab": {
          "base_uri": "https://localhost:8080/"
        },
        "id": "1TmeiOSLwAHG",
        "outputId": "b9d0dd56-0249-45c3-bf7e-66de190a3ec1"
      },
      "source": [
        "df['lifeExp'].max()"
      ],
      "execution_count": 31,
      "outputs": [
        {
          "output_type": "execute_result",
          "data": {
            "text/plain": [
              "82.603"
            ]
          },
          "metadata": {
            "tags": []
          },
          "execution_count": 31
        }
      ]
    },
    {
      "cell_type": "code",
      "metadata": {
        "colab": {
          "base_uri": "https://localhost:8080/"
        },
        "id": "rWirG72xwD08",
        "outputId": "059f4976-5f8a-484c-a418-523e728108f9"
      },
      "source": [
        "df['lifeExp'].min()"
      ],
      "execution_count": 32,
      "outputs": [
        {
          "output_type": "execute_result",
          "data": {
            "text/plain": [
              "23.599"
            ]
          },
          "metadata": {
            "tags": []
          },
          "execution_count": 32
        }
      ]
    },
    {
      "cell_type": "markdown",
      "metadata": {
        "id": "qr81jztTncKz"
      },
      "source": [
        "* DataFrame에서 기대수명(lifeExp)이 최소/최대인 row를 찾으세요."
      ]
    },
    {
      "cell_type": "code",
      "metadata": {
        "colab": {
          "base_uri": "https://localhost:8080/",
          "height": 80
        },
        "id": "M4CU-izXwI8p",
        "outputId": "05799f34-2e6d-4053-c03f-0ad4714ff1b2"
      },
      "source": [
        "df[df['lifeExp']==df['lifeExp'].max()]"
      ],
      "execution_count": 34,
      "outputs": [
        {
          "output_type": "execute_result",
          "data": {
            "text/html": [
              "<div>\n",
              "<style scoped>\n",
              "    .dataframe tbody tr th:only-of-type {\n",
              "        vertical-align: middle;\n",
              "    }\n",
              "\n",
              "    .dataframe tbody tr th {\n",
              "        vertical-align: top;\n",
              "    }\n",
              "\n",
              "    .dataframe thead th {\n",
              "        text-align: right;\n",
              "    }\n",
              "</style>\n",
              "<table border=\"1\" class=\"dataframe\">\n",
              "  <thead>\n",
              "    <tr style=\"text-align: right;\">\n",
              "      <th></th>\n",
              "      <th>country</th>\n",
              "      <th>continent</th>\n",
              "      <th>year</th>\n",
              "      <th>lifeExp</th>\n",
              "      <th>pop</th>\n",
              "      <th>gdpPercap</th>\n",
              "    </tr>\n",
              "  </thead>\n",
              "  <tbody>\n",
              "    <tr>\n",
              "      <th>803</th>\n",
              "      <td>Japan</td>\n",
              "      <td>Asia</td>\n",
              "      <td>2007</td>\n",
              "      <td>82.603</td>\n",
              "      <td>127467972</td>\n",
              "      <td>31656.06806</td>\n",
              "    </tr>\n",
              "  </tbody>\n",
              "</table>\n",
              "</div>"
            ],
            "text/plain": [
              "    country continent  year  lifeExp        pop    gdpPercap\n",
              "803   Japan      Asia  2007   82.603  127467972  31656.06806"
            ]
          },
          "metadata": {
            "tags": []
          },
          "execution_count": 34
        }
      ]
    },
    {
      "cell_type": "code",
      "metadata": {
        "colab": {
          "base_uri": "https://localhost:8080/",
          "height": 80
        },
        "id": "Y75pDBIjwGfL",
        "outputId": "2febb310-3151-4f16-8244-1eb7d3b93451"
      },
      "source": [
        "df[df['lifeExp']==df['lifeExp'].min()]"
      ],
      "execution_count": 33,
      "outputs": [
        {
          "output_type": "execute_result",
          "data": {
            "text/html": [
              "<div>\n",
              "<style scoped>\n",
              "    .dataframe tbody tr th:only-of-type {\n",
              "        vertical-align: middle;\n",
              "    }\n",
              "\n",
              "    .dataframe tbody tr th {\n",
              "        vertical-align: top;\n",
              "    }\n",
              "\n",
              "    .dataframe thead th {\n",
              "        text-align: right;\n",
              "    }\n",
              "</style>\n",
              "<table border=\"1\" class=\"dataframe\">\n",
              "  <thead>\n",
              "    <tr style=\"text-align: right;\">\n",
              "      <th></th>\n",
              "      <th>country</th>\n",
              "      <th>continent</th>\n",
              "      <th>year</th>\n",
              "      <th>lifeExp</th>\n",
              "      <th>pop</th>\n",
              "      <th>gdpPercap</th>\n",
              "    </tr>\n",
              "  </thead>\n",
              "  <tbody>\n",
              "    <tr>\n",
              "      <th>1292</th>\n",
              "      <td>Rwanda</td>\n",
              "      <td>Africa</td>\n",
              "      <td>1992</td>\n",
              "      <td>23.599</td>\n",
              "      <td>7290203</td>\n",
              "      <td>737.068595</td>\n",
              "    </tr>\n",
              "  </tbody>\n",
              "</table>\n",
              "</div>"
            ],
            "text/plain": [
              "     country continent  year  lifeExp      pop   gdpPercap\n",
              "1292  Rwanda    Africa  1992   23.599  7290203  737.068595"
            ]
          },
          "metadata": {
            "tags": []
          },
          "execution_count": 33
        }
      ]
    },
    {
      "cell_type": "markdown",
      "metadata": {
        "id": "XgPMi0zEnsYJ"
      },
      "source": [
        "* 연도별 기대수명(lifeExp)의 평균을 출력하세요."
      ]
    },
    {
      "cell_type": "code",
      "metadata": {
        "colab": {
          "base_uri": "https://localhost:8080/"
        },
        "id": "S-p8fF5_wMRs",
        "outputId": "b4b8b7c2-5838-49d4-bb50-60d05702b576"
      },
      "source": [
        "df.groupby('year')['lifeExp'].mean()"
      ],
      "execution_count": 91,
      "outputs": [
        {
          "output_type": "execute_result",
          "data": {
            "text/plain": [
              "year\n",
              "1952    49.057620\n",
              "1957    51.507401\n",
              "1962    53.609249\n",
              "1967    55.678290\n",
              "1972    57.647386\n",
              "1977    59.570157\n",
              "1982    61.533197\n",
              "1987    63.212613\n",
              "1992    64.160338\n",
              "1997    65.014676\n",
              "2002    65.694923\n",
              "2007    67.007423\n",
              "Name: lifeExp, dtype: float64"
            ]
          },
          "metadata": {
            "tags": []
          },
          "execution_count": 91
        }
      ]
    },
    {
      "cell_type": "code",
      "metadata": {
        "colab": {
          "base_uri": "https://localhost:8080/"
        },
        "id": "mYJ8y2GRBzQh",
        "outputId": "9354b5ba-aad6-4da4-fd81-d0d6532edd16"
      },
      "source": [
        "df['lifeExp'].groupby(df['year']).mean()"
      ],
      "execution_count": 95,
      "outputs": [
        {
          "output_type": "execute_result",
          "data": {
            "text/plain": [
              "year\n",
              "1952    49.057620\n",
              "1957    51.507401\n",
              "1962    53.609249\n",
              "1967    55.678290\n",
              "1972    57.647386\n",
              "1977    59.570157\n",
              "1982    61.533197\n",
              "1987    63.212613\n",
              "1992    64.160338\n",
              "1997    65.014676\n",
              "2002    65.694923\n",
              "2007    67.007423\n",
              "Name: lifeExp, dtype: float64"
            ]
          },
          "metadata": {
            "tags": []
          },
          "execution_count": 95
        }
      ]
    },
    {
      "cell_type": "code",
      "metadata": {
        "colab": {
          "base_uri": "https://localhost:8080/"
        },
        "id": "iTOMfxL7x2Cj",
        "outputId": "c384fbc3-b893-48cf-e066-e99347e4b03d"
      },
      "source": [
        "years= df['year'].unique()\n",
        "\n",
        "lifeExp_by_year=[] #연도별 기대수명의 평균을 저장할 리스트\n",
        "\n",
        "for y in years:\n",
        "  subset= df[df.year==y] # 데이터프레임에서 각 연도 부분집합 - 분리(split)\n",
        "  avg= subset['lifeExp'].mean() #부분집합에서 평균계산 - 적용(apply)\n",
        "  lifeExp_by_year.append(avg) #리스트에 계산된 평균값을 추가 - 결합 (aggregate)\n",
        "# 리스트를 pd.Series 객체로 변환\n",
        "lifeExp_by_year = pd.Series(data=lifeExp_by_year,index=years,name='lifeExp')\n",
        "lifeExp_by_year"
      ],
      "execution_count": 102,
      "outputs": [
        {
          "output_type": "execute_result",
          "data": {
            "text/plain": [
              "1952    49.057620\n",
              "1957    51.507401\n",
              "1962    53.609249\n",
              "1967    55.678290\n",
              "1972    57.647386\n",
              "1977    59.570157\n",
              "1982    61.533197\n",
              "1987    63.212613\n",
              "1992    64.160338\n",
              "1997    65.014676\n",
              "2002    65.694923\n",
              "2007    67.007423\n",
              "Name: lifeExp, dtype: float64"
            ]
          },
          "metadata": {
            "tags": []
          },
          "execution_count": 102
        }
      ]
    },
    {
      "cell_type": "markdown",
      "metadata": {
        "id": "Nsp61RZVn9kz"
      },
      "source": [
        "* 연도별 기대수명(lifeExp)의 평균을 그래프로 그리세요."
      ]
    },
    {
      "cell_type": "code",
      "metadata": {
        "colab": {
          "base_uri": "https://localhost:8080/",
          "height": 279
        },
        "id": "r2VyqXXTxlo1",
        "outputId": "017565d1-afe9-4a88-a52a-fcb0e1c4e5e7"
      },
      "source": [
        "# pd.Series 객체의 index 속성과 values 속성을 각각 x축, y축 으로 설정해서 그래프를 그림\n",
        "sns.lineplot(x=lifeExp_avg.index,y=lifeExp_avg.values,data=lifeExp_avg,marker='o')\n",
        "plt.grid()\n",
        "plt.show()"
      ],
      "execution_count": 108,
      "outputs": [
        {
          "output_type": "display_data",
          "data": {
            "image/png": "[encoded data removed]",
            "text/plain": [
              "<Figure size 432x288 with 1 Axes>"
            ]
          },
          "metadata": {
            "tags": [],
            "needs_background": "light"
          }
        }
      ]
    },
    {
      "cell_type": "code",
      "metadata": {
        "colab": {
          "base_uri": "https://localhost:8080/",
          "height": 297
        },
        "id": "lJp4UJ5gMa2u",
        "outputId": "1b0fe9b1-0211-4623-e8af-7c9e1fe6eccd"
      },
      "source": [
        "# seaborn 모듈의 함수들은 그룹별 통계(estimator)를 계산해서 그래프를 그려주는 기능을 가지고 있음.\n",
        "# estimator의 기본값은 평균(mean)\n",
        "sns.lineplot(x='year',y='lifeExp',data=df,marker='o',err_style=None)\n",
        "plt.grid()\n",
        "plt.show()"
      ],
      "execution_count": 109,
      "outputs": [
        {
          "output_type": "execute_result",
          "data": {
            "text/plain": [
              "<matplotlib.axes._subplots.AxesSubplot at 0x7fc5d6deb3d0>"
            ]
          },
          "metadata": {
            "tags": []
          },
          "execution_count": 109
        },
        {
          "output_type": "display_data",
          "data": {
            "image/png": "[encoded data removed]",
            "text/plain": [
              "<Figure size 432x288 with 1 Axes>"
            ]
          },
          "metadata": {
            "tags": [],
            "needs_background": "light"
          }
        }
      ]
    },
    {
      "cell_type": "markdown",
      "metadata": {
        "id": "SOapFlpioICZ"
      },
      "source": [
        "* 연도별 1인당 GDP의 평균을 출력하세요."
      ]
    },
    {
      "cell_type": "code",
      "metadata": {
        "colab": {
          "base_uri": "https://localhost:8080/"
        },
        "id": "4O91_dtUhOYM",
        "outputId": "7f563cfc-096c-4e45-e0f3-4cb233e298d2"
      },
      "source": [
        "gdp_by_year=[] # 연도별 1인당 GDP를 저장하기 위한 리스트\n",
        "for y in years:\n",
        "  subset=df[df.year==y]  # 각 연도별 부분집합 - 분리(split)\n",
        "  avg= subset['gdpPercap'].mean() # 각 부분집합에서 통계값 계산 -적용(Apply)\n",
        "  gdp_by_year.append(avg) # 계산된 값을 리스트 추가- 결합(Combine)\n",
        "\n",
        "# 리스트를 pd.Series 객체 변환\n",
        "gdp_by_year= pd.Series(data=gdp_by_year,index=years,name='gdpPercap')\n",
        "gdp_by_year"
      ],
      "execution_count": 115,
      "outputs": [
        {
          "output_type": "execute_result",
          "data": {
            "text/plain": [
              "1952     3725.276046\n",
              "1957     4299.408345\n",
              "1962     4725.812342\n",
              "1967     5483.653047\n",
              "1972     6770.082815\n",
              "1977     7313.166421\n",
              "1982     7518.901673\n",
              "1987     7900.920218\n",
              "1992     8158.608521\n",
              "1997     9090.175363\n",
              "2002     9917.848365\n",
              "2007    11680.071820\n",
              "Name: gdpPercap, dtype: float64"
            ]
          },
          "metadata": {
            "tags": []
          },
          "execution_count": 115
        }
      ]
    },
    {
      "cell_type": "code",
      "metadata": {
        "colab": {
          "base_uri": "https://localhost:8080/"
        },
        "id": "6-8AtoAozVTa",
        "outputId": "824e951b-7bc2-4b00-ad96-4fcca7c7bb59"
      },
      "source": [
        "df.groupby('year')['gdpPercap'].mean()"
      ],
      "execution_count": 116,
      "outputs": [
        {
          "output_type": "execute_result",
          "data": {
            "text/plain": [
              "year\n",
              "1952     3725.276046\n",
              "1957     4299.408345\n",
              "1962     4725.812342\n",
              "1967     5483.653047\n",
              "1972     6770.082815\n",
              "1977     7313.166421\n",
              "1982     7518.901673\n",
              "1987     7900.920218\n",
              "1992     8158.608521\n",
              "1997     9090.175363\n",
              "2002     9917.848365\n",
              "2007    11680.071820\n",
              "Name: gdpPercap, dtype: float64"
            ]
          },
          "metadata": {
            "tags": []
          },
          "execution_count": 116
        }
      ]
    },
    {
      "cell_type": "markdown",
      "metadata": {
        "id": "UR77IWTMoMlR"
      },
      "source": [
        "* 연도별 1인당 GDP의 평균을 그래프로 그리세요."
      ]
    },
    {
      "cell_type": "code",
      "metadata": {
        "id": "GyE-RlA3zevP"
      },
      "source": [
        "gdpPercap_avg=df.groupby('year').mean()['gdpPercap']"
      ],
      "execution_count": 66,
      "outputs": []
    },
    {
      "cell_type": "code",
      "metadata": {
        "colab": {
          "base_uri": "https://localhost:8080/",
          "height": 281
        },
        "id": "HLCgYo2SzkNF",
        "outputId": "143fde8a-cbb4-42f5-d6d3-94b79a95ceed"
      },
      "source": [
        "sns.lineplot(x=gdpPercap_avg.index,y=gdpPercap_avg.values,data=gdpPercap_avg,marker='o')\n",
        "plt.grid()\n",
        "plt.show()"
      ],
      "execution_count": 119,
      "outputs": [
        {
          "output_type": "display_data",
          "data": {
            "image/png": "[encoded data removed]",
            "text/plain": [
              "<Figure size 432x288 with 1 Axes>"
            ]
          },
          "metadata": {
            "tags": [],
            "needs_background": "light"
          }
        }
      ]
    },
    {
      "cell_type": "code",
      "metadata": {
        "colab": {
          "base_uri": "https://localhost:8080/",
          "height": 281
        },
        "id": "ilf7hMWolYVT",
        "outputId": "53a76fc3-e912-4278-fd3c-251fe8423792"
      },
      "source": [
        "# seaborn 모듈의 함수들을 그룹별 통계 함수 적용 기능을 가지고 있음.\n",
        "sns.lineplot(x='year',y='gdpPercap',data=df,err_style=None,marker='o')\n",
        "plt.grid()\n",
        "plt.show()"
      ],
      "execution_count": 124,
      "outputs": [
        {
          "output_type": "display_data",
          "data": {
            "image/png": "[encoded data removed]",
            "text/plain": [
              "<Figure size 432x288 with 1 Axes>"
            ]
          },
          "metadata": {
            "tags": [],
            "needs_background": "light"
          }
        }
      ]
    },
    {
      "cell_type": "markdown",
      "metadata": {
        "id": "YdEVHdFqoVkh"
      },
      "source": [
        "* 연도별 전세계 인구를 출력하세요."
      ]
    },
    {
      "cell_type": "code",
      "metadata": {
        "id": "clhbpI4AzuyG"
      },
      "source": [
        "pop_by_year=df.groupby('year')['pop'].sum()"
      ],
      "execution_count": 128,
      "outputs": []
    },
    {
      "cell_type": "markdown",
      "metadata": {
        "id": "oNVKoD0CoZXB"
      },
      "source": [
        "* 연도별 전세계 인구를 그래프로 그리세요."
      ]
    },
    {
      "cell_type": "code",
      "metadata": {
        "colab": {
          "base_uri": "https://localhost:8080/",
          "height": 290
        },
        "id": "5yZYE9YCmQCZ",
        "outputId": "f37d20f1-eb59-4d79-f3f1-e14214f763ff"
      },
      "source": [
        "sns.lineplot(data=pop_by_year)\n",
        "plt.grid()\n",
        "plt.show()"
      ],
      "execution_count": 129,
      "outputs": [
        {
          "output_type": "display_data",
          "data": {
            "image/png": "[encoded data removed]",
            "text/plain": [
              "<Figure size 432x288 with 1 Axes>"
            ]
          },
          "metadata": {
            "tags": [],
            "needs_background": "light"
          }
        }
      ]
    },
    {
      "cell_type": "code",
      "metadata": {
        "colab": {
          "base_uri": "https://localhost:8080/",
          "height": 290
        },
        "id": "epyceDp4orHA",
        "outputId": "34569715-1c54-49ef-bb3b-ba1de6fcbcd5"
      },
      "source": [
        "# seaborn 모듈의 시각화 함수에서 직접 groupby 연산을 수행\n",
        "# groupby 연산이 평균인 경우에는 생략가능, 평균이 아닌경우에는 명시.\n",
        "# estimator의 기본값(default argument)은 'mean'\n",
        "sns.lineplot(data=df,x='year',y='pop',estimator='sum',\n",
        "             marker='o',err_style=None)\n",
        "plt.grid()\n",
        "plt.show()"
      ],
      "execution_count": 132,
      "outputs": [
        {
          "output_type": "display_data",
          "data": {
            "image/png": "[encoded data removed]",
            "text/plain": [
              "<Figure size 432x288 with 1 Axes>"
            ]
          },
          "metadata": {
            "tags": [],
            "needs_background": "light"
          }
        }
      ]
    },
    {
      "cell_type": "markdown",
      "metadata": {
        "id": "iOSoOLBfocbJ"
      },
      "source": [
        "* 연도별 대륙별 전세계 인구를 출력하세요"
      ]
    },
    {
      "cell_type": "code",
      "metadata": {
        "colab": {
          "base_uri": "https://localhost:8080/"
        },
        "id": "l7WmYAm20DTA",
        "outputId": "42ad032a-e69e-4cc3-a1d0-e4e17134f0d9"
      },
      "source": [
        "df.groupby(['year','continent'])['pop'].sum()"
      ],
      "execution_count": 126,
      "outputs": [
        {
          "output_type": "execute_result",
          "data": {
            "text/plain": [
              "year  continent\n",
              "1952  Africa        237640501\n",
              "      Americas      345152446\n",
              "      Asia         1395357351\n",
              "      Europe        418120846\n",
              "      Oceania        10686006\n",
              "1957  Africa        264837738\n",
              "      Americas      386953916\n",
              "      Asia         1562780599\n",
              "      Europe        437890351\n",
              "      Oceania        11941976\n",
              "1962  Africa        296516865\n",
              "      Americas      433270254\n",
              "      Asia         1696357182\n",
              "      Europe        460355155\n",
              "      Oceania        13283518\n",
              "1967  Africa        335289489\n",
              "      Americas      480746623\n",
              "      Asia         1905662900\n",
              "      Europe        481178958\n",
              "      Oceania        14600414\n",
              "1972  Africa        379879541\n",
              "      Americas      529384210\n",
              "      Asia         2150972248\n",
              "      Europe        500635059\n",
              "      Oceania        16106100\n",
              "1977  Africa        433061021\n",
              "      Americas      578067699\n",
              "      Asia         2384513556\n",
              "      Europe        517164531\n",
              "      Oceania        17239000\n",
              "1982  Africa        499348587\n",
              "      Americas      630290920\n",
              "      Asia         2610135582\n",
              "      Europe        531266901\n",
              "      Oceania        18394850\n",
              "1987  Africa        574834110\n",
              "      Americas      682753971\n",
              "      Asia         2871220762\n",
              "      Europe        543094160\n",
              "      Oceania        19574415\n",
              "1992  Africa        659081517\n",
              "      Americas      739274104\n",
              "      Asia         3133292191\n",
              "      Europe        558142797\n",
              "      Oceania        20919651\n",
              "1997  Africa        743832984\n",
              "      Americas      796900410\n",
              "      Asia         3383285500\n",
              "      Europe        568944148\n",
              "      Oceania        22241430\n",
              "2002  Africa        833723916\n",
              "      Americas      849772762\n",
              "      Asia         3601802203\n",
              "      Europe        578223869\n",
              "      Oceania        23454829\n",
              "2007  Africa        929539692\n",
              "      Americas      898871184\n",
              "      Asia         3811953827\n",
              "      Europe        586098529\n",
              "      Oceania        24549947\n",
              "Name: pop, dtype: int64"
            ]
          },
          "metadata": {
            "tags": []
          },
          "execution_count": 126
        }
      ]
    },
    {
      "cell_type": "markdown",
      "metadata": {
        "id": "JRiW4h2poh9i"
      },
      "source": [
        "* 연도별 대륙별 전세계 인구를 그래프로 그리세요."
      ]
    },
    {
      "cell_type": "code",
      "metadata": {
        "colab": {
          "base_uri": "https://localhost:8080/",
          "height": 290
        },
        "id": "n3nO-Uxg0MWK",
        "outputId": "36784777-43b8-4366-ef15-8cb0c6be2b22"
      },
      "source": [
        "sns.lineplot(data=df,x='year',y='pop',hue='continent',estimator='sum',err_style=None,marker='o')\n",
        "plt.grid()\n",
        "plt.show()\n"
      ],
      "execution_count": 139,
      "outputs": [
        {
          "output_type": "display_data",
          "data": {
            "image/png": "[encoded data removed]",
            "text/plain": [
              "<Figure size 432x288 with 1 Axes>"
            ]
          },
          "metadata": {
            "tags": [],
            "needs_background": "light"
          }
        }
      ]
    },
    {
      "cell_type": "markdown",
      "metadata": {
        "id": "NMO6pShUov9y"
      },
      "source": [
        "* 대한민국의 레코드만 출력하세요."
      ]
    },
    {
      "cell_type": "code",
      "metadata": {
        "colab": {
          "base_uri": "https://localhost:8080/"
        },
        "id": "UZD0gG5FrgaH",
        "outputId": "4041212a-5d5a-4ddd-c020-2d5b617e398e"
      },
      "source": [
        "df['country'].unique()"
      ],
      "execution_count": 135,
      "outputs": [
        {
          "output_type": "execute_result",
          "data": {
            "text/plain": [
              "array(['Afghanistan', 'Albania', 'Algeria', 'Angola', 'Argentina',\n",
              "       'Australia', 'Austria', 'Bahrain', 'Bangladesh', 'Belgium',\n",
              "       'Benin', 'Bolivia', 'Bosnia and Herzegovina', 'Botswana', 'Brazil',\n",
              "       'Bulgaria', 'Burkina Faso', 'Burundi', 'Cambodia', 'Cameroon',\n",
              "       'Canada', 'Central African Republic', 'Chad', 'Chile', 'China',\n",
              "       'Colombia', 'Comoros', 'Congo, Dem. Rep.', 'Congo, Rep.',\n",
              "       'Costa Rica', \"Cote d'Ivoire\", 'Croatia', 'Cuba', 'Czech Republic',\n",
              "       'Denmark', 'Djibouti', 'Dominican Republic', 'Ecuador', 'Egypt',\n",
              "       'El Salvador', 'Equatorial Guinea', 'Eritrea', 'Ethiopia',\n",
              "       'Finland', 'France', 'Gabon', 'Gambia', 'Germany', 'Ghana',\n",
              "       'Greece', 'Guatemala', 'Guinea', 'Guinea-Bissau', 'Haiti',\n",
              "       'Honduras', 'Hong Kong, China', 'Hungary', 'Iceland', 'India',\n",
              "       'Indonesia', 'Iran', 'Iraq', 'Ireland', 'Israel', 'Italy',\n",
              "       'Jamaica', 'Japan', 'Jordan', 'Kenya', 'Korea, Dem. Rep.',\n",
              "       'Korea, Rep.', 'Kuwait', 'Lebanon', 'Lesotho', 'Liberia', 'Libya',\n",
              "       'Madagascar', 'Malawi', 'Malaysia', 'Mali', 'Mauritania',\n",
              "       'Mauritius', 'Mexico', 'Mongolia', 'Montenegro', 'Morocco',\n",
              "       'Mozambique', 'Myanmar', 'Namibia', 'Nepal', 'Netherlands',\n",
              "       'New Zealand', 'Nicaragua', 'Niger', 'Nigeria', 'Norway', 'Oman',\n",
              "       'Pakistan', 'Panama', 'Paraguay', 'Peru', 'Philippines', 'Poland',\n",
              "       'Portugal', 'Puerto Rico', 'Reunion', 'Romania', 'Rwanda',\n",
              "       'Sao Tome and Principe', 'Saudi Arabia', 'Senegal', 'Serbia',\n",
              "       'Sierra Leone', 'Singapore', 'Slovak Republic', 'Slovenia',\n",
              "       'Somalia', 'South Africa', 'Spain', 'Sri Lanka', 'Sudan',\n",
              "       'Swaziland', 'Sweden', 'Switzerland', 'Syria', 'Taiwan',\n",
              "       'Tanzania', 'Thailand', 'Togo', 'Trinidad and Tobago', 'Tunisia',\n",
              "       'Turkey', 'Uganda', 'United Kingdom', 'United States', 'Uruguay',\n",
              "       'Venezuela', 'Vietnam', 'West Bank and Gaza', 'Yemen, Rep.',\n",
              "       'Zambia', 'Zimbabwe'], dtype=object)"
            ]
          },
          "metadata": {
            "tags": []
          },
          "execution_count": 135
        }
      ]
    },
    {
      "cell_type": "code",
      "metadata": {
        "id": "OkjYsVY_mxe6",
        "colab": {
          "base_uri": "https://localhost:8080/",
          "height": 422
        },
        "outputId": "9f2f0e75-4d45-4353-d726-d9414280322b"
      },
      "source": [
        "df[df['country']=='Korea, Rep.']"
      ],
      "execution_count": 136,
      "outputs": [
        {
          "output_type": "execute_result",
          "data": {
            "text/html": [
              "<div>\n",
              "<style scoped>\n",
              "    .dataframe tbody tr th:only-of-type {\n",
              "        vertical-align: middle;\n",
              "    }\n",
              "\n",
              "    .dataframe tbody tr th {\n",
              "        vertical-align: top;\n",
              "    }\n",
              "\n",
              "    .dataframe thead th {\n",
              "        text-align: right;\n",
              "    }\n",
              "</style>\n",
              "<table border=\"1\" class=\"dataframe\">\n",
              "  <thead>\n",
              "    <tr style=\"text-align: right;\">\n",
              "      <th></th>\n",
              "      <th>country</th>\n",
              "      <th>continent</th>\n",
              "      <th>year</th>\n",
              "      <th>lifeExp</th>\n",
              "      <th>pop</th>\n",
              "      <th>gdpPercap</th>\n",
              "    </tr>\n",
              "  </thead>\n",
              "  <tbody>\n",
              "    <tr>\n",
              "      <th>840</th>\n",
              "      <td>Korea, Rep.</td>\n",
              "      <td>Asia</td>\n",
              "      <td>1952</td>\n",
              "      <td>47.453</td>\n",
              "      <td>20947571</td>\n",
              "      <td>1030.592226</td>\n",
              "    </tr>\n",
              "    <tr>\n",
              "      <th>841</th>\n",
              "      <td>Korea, Rep.</td>\n",
              "      <td>Asia</td>\n",
              "      <td>1957</td>\n",
              "      <td>52.681</td>\n",
              "      <td>22611552</td>\n",
              "      <td>1487.593537</td>\n",
              "    </tr>\n",
              "    <tr>\n",
              "      <th>842</th>\n",
              "      <td>Korea, Rep.</td>\n",
              "      <td>Asia</td>\n",
              "      <td>1962</td>\n",
              "      <td>55.292</td>\n",
              "      <td>26420307</td>\n",
              "      <td>1536.344387</td>\n",
              "    </tr>\n",
              "    <tr>\n",
              "      <th>843</th>\n",
              "      <td>Korea, Rep.</td>\n",
              "      <td>Asia</td>\n",
              "      <td>1967</td>\n",
              "      <td>57.716</td>\n",
              "      <td>30131000</td>\n",
              "      <td>2029.228142</td>\n",
              "    </tr>\n",
              "    <tr>\n",
              "      <th>844</th>\n",
              "      <td>Korea, Rep.</td>\n",
              "      <td>Asia</td>\n",
              "      <td>1972</td>\n",
              "      <td>62.612</td>\n",
              "      <td>33505000</td>\n",
              "      <td>3030.876650</td>\n",
              "    </tr>\n",
              "    <tr>\n",
              "      <th>845</th>\n",
              "      <td>Korea, Rep.</td>\n",
              "      <td>Asia</td>\n",
              "      <td>1977</td>\n",
              "      <td>64.766</td>\n",
              "      <td>36436000</td>\n",
              "      <td>4657.221020</td>\n",
              "    </tr>\n",
              "    <tr>\n",
              "      <th>846</th>\n",
              "      <td>Korea, Rep.</td>\n",
              "      <td>Asia</td>\n",
              "      <td>1982</td>\n",
              "      <td>67.123</td>\n",
              "      <td>39326000</td>\n",
              "      <td>5622.942464</td>\n",
              "    </tr>\n",
              "    <tr>\n",
              "      <th>847</th>\n",
              "      <td>Korea, Rep.</td>\n",
              "      <td>Asia</td>\n",
              "      <td>1987</td>\n",
              "      <td>69.810</td>\n",
              "      <td>41622000</td>\n",
              "      <td>8533.088805</td>\n",
              "    </tr>\n",
              "    <tr>\n",
              "      <th>848</th>\n",
              "      <td>Korea, Rep.</td>\n",
              "      <td>Asia</td>\n",
              "      <td>1992</td>\n",
              "      <td>72.244</td>\n",
              "      <td>43805450</td>\n",
              "      <td>12104.278720</td>\n",
              "    </tr>\n",
              "    <tr>\n",
              "      <th>849</th>\n",
              "      <td>Korea, Rep.</td>\n",
              "      <td>Asia</td>\n",
              "      <td>1997</td>\n",
              "      <td>74.647</td>\n",
              "      <td>46173816</td>\n",
              "      <td>15993.527960</td>\n",
              "    </tr>\n",
              "    <tr>\n",
              "      <th>850</th>\n",
              "      <td>Korea, Rep.</td>\n",
              "      <td>Asia</td>\n",
              "      <td>2002</td>\n",
              "      <td>77.045</td>\n",
              "      <td>47969150</td>\n",
              "      <td>19233.988180</td>\n",
              "    </tr>\n",
              "    <tr>\n",
              "      <th>851</th>\n",
              "      <td>Korea, Rep.</td>\n",
              "      <td>Asia</td>\n",
              "      <td>2007</td>\n",
              "      <td>78.623</td>\n",
              "      <td>49044790</td>\n",
              "      <td>23348.139730</td>\n",
              "    </tr>\n",
              "  </tbody>\n",
              "</table>\n",
              "</div>"
            ],
            "text/plain": [
              "         country continent  year  lifeExp       pop     gdpPercap\n",
              "840  Korea, Rep.      Asia  1952   47.453  20947571   1030.592226\n",
              "841  Korea, Rep.      Asia  1957   52.681  22611552   1487.593537\n",
              "842  Korea, Rep.      Asia  1962   55.292  26420307   1536.344387\n",
              "843  Korea, Rep.      Asia  1967   57.716  30131000   2029.228142\n",
              "844  Korea, Rep.      Asia  1972   62.612  33505000   3030.876650\n",
              "845  Korea, Rep.      Asia  1977   64.766  36436000   4657.221020\n",
              "846  Korea, Rep.      Asia  1982   67.123  39326000   5622.942464\n",
              "847  Korea, Rep.      Asia  1987   69.810  41622000   8533.088805\n",
              "848  Korea, Rep.      Asia  1992   72.244  43805450  12104.278720\n",
              "849  Korea, Rep.      Asia  1997   74.647  46173816  15993.527960\n",
              "850  Korea, Rep.      Asia  2002   77.045  47969150  19233.988180\n",
              "851  Korea, Rep.      Asia  2007   78.623  49044790  23348.139730"
            ]
          },
          "metadata": {
            "tags": []
          },
          "execution_count": 136
        }
      ]
    }
  ]
}