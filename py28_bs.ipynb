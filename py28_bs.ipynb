{
  "nbformat": 4,
  "nbformat_minor": 0,
  "metadata": {
    "colab": {
      "name": "py28_bs.ipynb",
      "provenance": [],
      "collapsed_sections": [],
      "mount_file_id": "1fKvtfLPGDbz_ue5o7PeVKBO0CMdF04Va",
      "authorship_tag": "ABX9TyNYl5EcObcAn+KRNRpipvDT",
      "include_colab_link": true
    },
    "kernelspec": {
      "name": "python3",
      "display_name": "Python 3"
    },
    "language_info": {
      "name": "python"
    }
  },
  "cells": [
    {
      "cell_type": "markdown",
      "metadata": {
        "id": "view-in-github",
        "colab_type": "text"
      },
      "source": [
        "<a href=\"https://colab.research.google.com/github/sangjin94/SQL_ITWILL/blob/main/py28_bs.ipynb\" target=\"_parent\"><img src=\"https://colab.research.google.com/assets/colab-badge.svg\" alt=\"Open In Colab\"/></a>"
      ]
    },
    {
      "cell_type": "code",
      "metadata": {
        "id": "tJc_juyz28oB"
      },
      "source": [
        "web03='/content/drive/MyDrive/Colab Notebooks/lab_python/web03.html'"
      ],
      "execution_count": 1,
      "outputs": []
    },
    {
      "cell_type": "code",
      "metadata": {
        "id": "rguxtsV73WS5"
      },
      "source": [
        "from bs4 import BeautifulSoup"
      ],
      "execution_count": 3,
      "outputs": []
    },
    {
      "cell_type": "markdown",
      "metadata": {
        "id": "3VdnsKRC3ZR-"
      },
      "source": [
        "# CSS Selector\n",
        "\n",
        "HTML요소(element)들을 찾는 방법\n",
        "\n",
        "* tag_name\n",
        "* .class_name\n",
        "* #id_name"
      ]
    },
    {
      "cell_type": "code",
      "metadata": {
        "id": "G0ZM2KWU4F-6"
      },
      "source": [
        "with open(file=web03) as html:\n",
        "  # HTML 파일을 오픈해서 BeautifulSoup 객체를 생성\n",
        "  soup=BeautifulSoup(markup=html,features='html5lib')"
      ],
      "execution_count": 7,
      "outputs": []
    },
    {
      "cell_type": "markdown",
      "metadata": {
        "id": "lMZRt1H542ku"
      },
      "source": [
        "## Tag Selector"
      ]
    },
    {
      "cell_type": "code",
      "metadata": {
        "colab": {
          "base_uri": "https://localhost:8080/"
        },
        "id": "s2aFy1wk3Yp5",
        "outputId": "826ce2bf-e6a2-425a-b527-c16e2b68c7b0"
      },
      "source": [
        "# BS.select('css-selector'): css-selector로 찾을 수 있는 모든 요소들의 리스트\n",
        "# 태그 이름이 'div'인 모든 요소들\n",
        "soup.select('div')"
      ],
      "execution_count": 9,
      "outputs": [
        {
          "output_type": "execute_result",
          "data": {
            "text/plain": [
              "[<div class=\"c1\">여기는 c1 클래스입니다.</div>,\n",
              " <div class=\"c1\">여기도 c1 클래스입니다.</div>,\n",
              " <div class=\"c2\">여기는 c2 클래스입니다.</div>,\n",
              " <div class=\"c2\" id=\"id1\">여기는 c2 클래스, 아이디는 id1입니다.</div>]"
            ]
          },
          "metadata": {
            "tags": []
          },
          "execution_count": 9
        }
      ]
    },
    {
      "cell_type": "code",
      "metadata": {
        "colab": {
          "base_uri": "https://localhost:8080/"
        },
        "id": "QjsYSrq448Su",
        "outputId": "15eab2cf-4c46-4f2e-ba8a-84797f454914"
      },
      "source": [
        "# 태그 이름이 'a' 인 모든 요소들\n",
        "soup.select('a')"
      ],
      "execution_count": 10,
      "outputs": [
        {
          "output_type": "execute_result",
          "data": {
            "text/plain": [
              "[<a href=\"https://www.daum.net/\">다음</a>,\n",
              " <a href=\"https://www.naver.com/\">네이버</a>,\n",
              " <a href=\"https://www.google.com/\">구글</a>]"
            ]
          },
          "metadata": {
            "tags": []
          },
          "execution_count": 10
        }
      ]
    },
    {
      "cell_type": "code",
      "metadata": {
        "colab": {
          "base_uri": "https://localhost:8080/"
        },
        "id": "FwdsZjpD5RTF",
        "outputId": "111c104e-adff-4685-e02a-b8cbf8d72257"
      },
      "source": [
        "# 태그 이름이 'h1' 인 모든 요소들 \n",
        "soup.select('h1')"
      ],
      "execution_count": 11,
      "outputs": [
        {
          "output_type": "execute_result",
          "data": {
            "text/plain": [
              "[<h1>CSS(Cascade Style Sheet)</h1>]"
            ]
          },
          "metadata": {
            "tags": []
          },
          "execution_count": 11
        }
      ]
    },
    {
      "cell_type": "markdown",
      "metadata": {
        "id": "Gc3i4bot6nLX"
      },
      "source": [
        "## Class Seletor"
      ]
    },
    {
      "cell_type": "code",
      "metadata": {
        "colab": {
          "base_uri": "https://localhost:8080/"
        },
        "id": "gNTqCfjN5XQ4",
        "outputId": "d9fd3236-6060-408b-b440-3345a4374b9a"
      },
      "source": [
        "# Class 속성의 값이 'menu_item'인 모든 요소들\n",
        "# soup.find_all(attrs={'class':'menu_item'})\n",
        "soup.select('.menu_item')"
      ],
      "execution_count": 12,
      "outputs": [
        {
          "output_type": "execute_result",
          "data": {
            "text/plain": [
              "[<li class=\"menu_item\">  <!-- list item -->\n",
              "             <a href=\"https://www.daum.net/\">다음</a>\n",
              "         </li>, <li class=\"menu_item\">  <!-- list item -->\n",
              "             <a href=\"https://www.naver.com/\">네이버</a>\n",
              "         </li>, <li class=\"menu_item\">  <!-- list item -->\n",
              "             <a href=\"https://www.google.com/\">구글</a>\n",
              "         </li>]"
            ]
          },
          "metadata": {
            "tags": []
          },
          "execution_count": 12
        }
      ]
    },
    {
      "cell_type": "code",
      "metadata": {
        "colab": {
          "base_uri": "https://localhost:8080/"
        },
        "id": "vp5vKko87Aeb",
        "outputId": "ac90bfc9-ec2c-4ff2-cc98-dc20cfe3fca2"
      },
      "source": [
        "# class 속성의 값이 'c1'인 모든 요소들\n",
        "soup.select('.c1')"
      ],
      "execution_count": 13,
      "outputs": [
        {
          "output_type": "execute_result",
          "data": {
            "text/plain": [
              "[<div class=\"c1\">여기는 c1 클래스입니다.</div>, <div class=\"c1\">여기도 c1 클래스입니다.</div>]"
            ]
          },
          "metadata": {
            "tags": []
          },
          "execution_count": 13
        }
      ]
    },
    {
      "cell_type": "markdown",
      "metadata": {
        "id": "r-Bk_1ms7U3T"
      },
      "source": [
        "# ID selector"
      ]
    },
    {
      "cell_type": "code",
      "metadata": {
        "colab": {
          "base_uri": "https://localhost:8080/"
        },
        "id": "plfHXwFE7X1f",
        "outputId": "6337de9a-6c18-4cff-86ba-3d0aa8debafa"
      },
      "source": [
        "# id 속성의 값이 'id1'인 모든 요소들\n",
        "soup.select('#id1')"
      ],
      "execution_count": 14,
      "outputs": [
        {
          "output_type": "execute_result",
          "data": {
            "text/plain": [
              "[<div class=\"c2\" id=\"id1\">여기는 c2 클래스, 아이디는 id1입니다.</div>]"
            ]
          },
          "metadata": {
            "tags": []
          },
          "execution_count": 14
        }
      ]
    },
    {
      "cell_type": "markdown",
      "metadata": {
        "id": "D__wMq5h8n5M"
      },
      "source": [
        "tag, class, id selector는 연결해서 사용가능"
      ]
    },
    {
      "cell_type": "code",
      "metadata": {
        "colab": {
          "base_uri": "https://localhost:8080/"
        },
        "id": "VA-_bv4M8vfy",
        "outputId": "6054f45d-1a66-413e-b588-88e30e5f34a1"
      },
      "source": [
        "# 태그 이름이 'div' 이고, class 속성의 값이 'c1' 인 모든 요소들\n",
        "# soup.find_all(name='div',attrs={'class':'c1'})\n",
        "soup.select('div.c1')"
      ],
      "execution_count": 18,
      "outputs": [
        {
          "output_type": "execute_result",
          "data": {
            "text/plain": [
              "[<div class=\"c1\">여기는 c1 클래스입니다.</div>, <div class=\"c1\">여기도 c1 클래스입니다.</div>]"
            ]
          },
          "metadata": {
            "tags": []
          },
          "execution_count": 18
        }
      ]
    },
    {
      "cell_type": "code",
      "metadata": {
        "colab": {
          "base_uri": "https://localhost:8080/"
        },
        "id": "PfhogxpJ9KMW",
        "outputId": "160c110b-ec7a-4d17-94cd-7c4816a9a6ec"
      },
      "source": [
        "# 태그 이름이 'div'이고, id 속성의 값이 'id1'인 모든 요소들\n",
        "# soup.find_all(name='div',attrs={'id':'id1'})\n",
        "soup.select('div#id1')"
      ],
      "execution_count": 19,
      "outputs": [
        {
          "output_type": "execute_result",
          "data": {
            "text/plain": [
              "[<div class=\"c2\" id=\"id1\">여기는 c2 클래스, 아이디는 id1입니다.</div>]"
            ]
          },
          "metadata": {
            "tags": []
          },
          "execution_count": 19
        }
      ]
    }
  ]
}