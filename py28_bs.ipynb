{
  "nbformat": 4,
  "nbformat_minor": 0,
  "metadata": {
    "colab": {
      "name": "py28_bs.ipynb",
      "provenance": [],
      "collapsed_sections": [],
      "mount_file_id": "1fKvtfLPGDbz_ue5o7PeVKBO0CMdF04Va",
      "authorship_tag": "ABX9TyNtKQKe+r0KiXijJ6XdEIXp",
      "include_colab_link": true
    },
    "kernelspec": {
      "name": "python3",
      "display_name": "Python 3"
    },
    "language_info": {
      "name": "python"
    }
  },
  "cells": [
    {
      "cell_type": "markdown",
      "metadata": {
        "id": "view-in-github",
        "colab_type": "text"
      },
      "source": [
        "<a href=\"https://colab.research.google.com/github/sangjin94/SQL_ITWILL/blob/main/py28_bs.ipynb\" target=\"_parent\"><img src=\"https://colab.research.google.com/assets/colab-badge.svg\" alt=\"Open In Colab\"/></a>"
      ]
    },
    {
      "cell_type": "code",
      "metadata": {
        "id": "tJc_juyz28oB"
      },
      "source": [
        "web03='/content/drive/MyDrive/Colab Notebooks/lab_python/web03.html'"
      ],
      "execution_count": 1,
      "outputs": []
    },
    {
      "cell_type": "code",
      "metadata": {
        "id": "rguxtsV73WS5"
      },
      "source": [
        "from bs4 import BeautifulSoup"
      ],
      "execution_count": 2,
      "outputs": []
    },
    {
      "cell_type": "markdown",
      "metadata": {
        "id": "3VdnsKRC3ZR-"
      },
      "source": [
        "# CSS Selector\n",
        "\n",
        "HTML요소(element)들을 찾는 방법\n",
        "\n",
        "* `tag_name`\n",
        "* `.class_name`\n",
        "* `#id_name`\n",
        "* `selector1, selector2, selector3,...`\n",
        "* `ancestor descendent...`\n",
        "* `parent > child`\n",
        "* ` selector:pseudo-selector`"
      ]
    },
    {
      "cell_type": "code",
      "metadata": {
        "id": "G0ZM2KWU4F-6"
      },
      "source": [
        "with open(file=web03) as html:\n",
        "  # HTML 파일을 오픈해서 BeautifulSoup 객체를 생성\n",
        "  soup=BeautifulSoup(markup=html,features='html5lib')"
      ],
      "execution_count": 3,
      "outputs": []
    },
    {
      "cell_type": "markdown",
      "metadata": {
        "id": "lMZRt1H542ku"
      },
      "source": [
        "# Tag Selector"
      ]
    },
    {
      "cell_type": "code",
      "metadata": {
        "colab": {
          "base_uri": "https://localhost:8080/"
        },
        "id": "s2aFy1wk3Yp5",
        "outputId": "a03c0309-32ad-4416-ba3a-758f294cf1ba"
      },
      "source": [
        "# BS.select('css-selector'): css-selector로 찾을 수 있는 모든 요소들의 리스트\n",
        "# 태그 이름이 'div'인 모든 요소들\n",
        "soup.select('div')"
      ],
      "execution_count": 4,
      "outputs": [
        {
          "output_type": "execute_result",
          "data": {
            "text/plain": [
              "[<div class=\"c1\">여기는 c1 클래스입니다.</div>,\n",
              " <div class=\"c1\">여기도 c1 클래스입니다.</div>,\n",
              " <div class=\"c2\">여기는 c2 클래스입니다.</div>,\n",
              " <div class=\"c2\" id=\"id1\">여기는 c2 클래스, 아이디는 id1입니다.</div>]"
            ]
          },
          "metadata": {
            "tags": []
          },
          "execution_count": 4
        }
      ]
    },
    {
      "cell_type": "code",
      "metadata": {
        "colab": {
          "base_uri": "https://localhost:8080/"
        },
        "id": "QjsYSrq448Su",
        "outputId": "dcc4c721-5a7b-461b-dc3a-51a7b6b910f7"
      },
      "source": [
        "# 태그 이름이 'a' 인 모든 요소들\n",
        "soup.select('a')"
      ],
      "execution_count": 5,
      "outputs": [
        {
          "output_type": "execute_result",
          "data": {
            "text/plain": [
              "[<a href=\"https://www.daum.net/\">다음</a>,\n",
              " <a href=\"https://www.naver.com/\">네이버</a>,\n",
              " <a href=\"https://www.google.com/\">구글</a>]"
            ]
          },
          "metadata": {
            "tags": []
          },
          "execution_count": 5
        }
      ]
    },
    {
      "cell_type": "code",
      "metadata": {
        "colab": {
          "base_uri": "https://localhost:8080/"
        },
        "id": "FwdsZjpD5RTF",
        "outputId": "0b923eef-3d34-4150-958a-ef56f5ef2d25"
      },
      "source": [
        "# 태그 이름이 'h1' 인 모든 요소들 \n",
        "soup.select('h1')"
      ],
      "execution_count": 6,
      "outputs": [
        {
          "output_type": "execute_result",
          "data": {
            "text/plain": [
              "[<h1>CSS(Cascade Style Sheet)</h1>]"
            ]
          },
          "metadata": {
            "tags": []
          },
          "execution_count": 6
        }
      ]
    },
    {
      "cell_type": "markdown",
      "metadata": {
        "id": "Gc3i4bot6nLX"
      },
      "source": [
        "# Class Seletor"
      ]
    },
    {
      "cell_type": "code",
      "metadata": {
        "colab": {
          "base_uri": "https://localhost:8080/"
        },
        "id": "gNTqCfjN5XQ4",
        "outputId": "0f3c89ea-2906-4745-9d03-be192ffe7f19"
      },
      "source": [
        "# Class 속성의 값이 'menu_item'인 모든 요소들\n",
        "# soup.find_all(attrs={'class':'menu_item'})\n",
        "soup.select('.menu_item')"
      ],
      "execution_count": 7,
      "outputs": [
        {
          "output_type": "execute_result",
          "data": {
            "text/plain": [
              "[<li class=\"menu_item\">  <!-- list item -->\n",
              "             <a href=\"https://www.daum.net/\">다음</a>\n",
              "         </li>, <li class=\"menu_item\">  <!-- list item -->\n",
              "             <a href=\"https://www.naver.com/\">네이버</a>\n",
              "         </li>, <li class=\"menu_item\">  <!-- list item -->\n",
              "             <a href=\"https://www.google.com/\">구글</a>\n",
              "         </li>]"
            ]
          },
          "metadata": {
            "tags": []
          },
          "execution_count": 7
        }
      ]
    },
    {
      "cell_type": "code",
      "metadata": {
        "colab": {
          "base_uri": "https://localhost:8080/"
        },
        "id": "vp5vKko87Aeb",
        "outputId": "c375879d-edf4-4c20-cb6d-bd2b1a277ace"
      },
      "source": [
        "# class 속성의 값이 'c1'인 모든 요소들\n",
        "soup.select('.c1')"
      ],
      "execution_count": 8,
      "outputs": [
        {
          "output_type": "execute_result",
          "data": {
            "text/plain": [
              "[<div class=\"c1\">여기는 c1 클래스입니다.</div>, <div class=\"c1\">여기도 c1 클래스입니다.</div>]"
            ]
          },
          "metadata": {
            "tags": []
          },
          "execution_count": 8
        }
      ]
    },
    {
      "cell_type": "markdown",
      "metadata": {
        "id": "r-Bk_1ms7U3T"
      },
      "source": [
        "# ID selector"
      ]
    },
    {
      "cell_type": "code",
      "metadata": {
        "colab": {
          "base_uri": "https://localhost:8080/"
        },
        "id": "plfHXwFE7X1f",
        "outputId": "870d238c-fbdf-4760-fe76-933153fe1ca8"
      },
      "source": [
        "# id 속성의 값이 'id1'인 모든 요소들\n",
        "soup.select('#id1')"
      ],
      "execution_count": 9,
      "outputs": [
        {
          "output_type": "execute_result",
          "data": {
            "text/plain": [
              "[<div class=\"c2\" id=\"id1\">여기는 c2 클래스, 아이디는 id1입니다.</div>]"
            ]
          },
          "metadata": {
            "tags": []
          },
          "execution_count": 9
        }
      ]
    },
    {
      "cell_type": "markdown",
      "metadata": {
        "id": "D__wMq5h8n5M"
      },
      "source": [
        "tag, class, id selector는 연결해서 사용가능"
      ]
    },
    {
      "cell_type": "code",
      "metadata": {
        "colab": {
          "base_uri": "https://localhost:8080/"
        },
        "id": "VA-_bv4M8vfy",
        "outputId": "c370249b-5c8c-4add-ec83-43b48ef8c530"
      },
      "source": [
        "# 태그 이름이 'div' 이고, class 속성의 값이 'c1' 인 모든 요소들\n",
        "# soup.find_all(name='div',attrs={'class':'c1'})\n",
        "soup.select('div.c1')"
      ],
      "execution_count": 10,
      "outputs": [
        {
          "output_type": "execute_result",
          "data": {
            "text/plain": [
              "[<div class=\"c1\">여기는 c1 클래스입니다.</div>, <div class=\"c1\">여기도 c1 클래스입니다.</div>]"
            ]
          },
          "metadata": {
            "tags": []
          },
          "execution_count": 10
        }
      ]
    },
    {
      "cell_type": "code",
      "metadata": {
        "colab": {
          "base_uri": "https://localhost:8080/"
        },
        "id": "PfhogxpJ9KMW",
        "outputId": "aa11e61b-8f68-4726-9ef8-74650ddc9557"
      },
      "source": [
        "# 태그 이름이 'div'이고, id 속성의 값이 'id1'인 모든 요소들\n",
        "# soup.find_all(name='div',attrs={'id':'id1'})\n",
        "soup.select('div#id1')"
      ],
      "execution_count": 11,
      "outputs": [
        {
          "output_type": "execute_result",
          "data": {
            "text/plain": [
              "[<div class=\"c2\" id=\"id1\">여기는 c2 클래스, 아이디는 id1입니다.</div>]"
            ]
          },
          "metadata": {
            "tags": []
          },
          "execution_count": 11
        }
      ]
    },
    {
      "cell_type": "markdown",
      "metadata": {
        "id": "laF2-bC5jn94"
      },
      "source": [
        "# 여러 요소를 함께 선택"
      ]
    },
    {
      "cell_type": "code",
      "metadata": {
        "colab": {
          "base_uri": "https://localhost:8080/"
        },
        "id": "LZV5vmd8jzlL",
        "outputId": "6524c29a-7c3c-44a1-c932-bacf4245a55a"
      },
      "source": [
        "# 클래스 이름이 'c1'이거나 또는 클래스 이름이 'c2'인 요소들\n",
        "soup.select('.c1,.c2')"
      ],
      "execution_count": 12,
      "outputs": [
        {
          "output_type": "execute_result",
          "data": {
            "text/plain": [
              "[<div class=\"c1\">여기는 c1 클래스입니다.</div>,\n",
              " <div class=\"c1\">여기도 c1 클래스입니다.</div>,\n",
              " <div class=\"c2\">여기는 c2 클래스입니다.</div>,\n",
              " <div class=\"c2\" id=\"id1\">여기는 c2 클래스, 아이디는 id1입니다.</div>]"
            ]
          },
          "metadata": {
            "tags": []
          },
          "execution_count": 12
        }
      ]
    },
    {
      "cell_type": "code",
      "metadata": {
        "colab": {
          "base_uri": "https://localhost:8080/"
        },
        "id": "nO6LnvICkDZ3",
        "outputId": "8c3711ec-bc40-4d76-f3e5-cbac99eb26b2"
      },
      "source": [
        "# div 태그 중에 클래스 이름이 'c1' 이거나 , div 태그 중에 id 값이 'id1'인 요소들\n",
        "soup.select('div.c1,div#id1')"
      ],
      "execution_count": 14,
      "outputs": [
        {
          "output_type": "execute_result",
          "data": {
            "text/plain": [
              "[<div class=\"c1\">여기는 c1 클래스입니다.</div>,\n",
              " <div class=\"c1\">여기도 c1 클래스입니다.</div>,\n",
              " <div class=\"c2\" id=\"id1\">여기는 c2 클래스, 아이디는 id1입니다.</div>]"
            ]
          },
          "metadata": {
            "tags": []
          },
          "execution_count": 14
        }
      ]
    },
    {
      "cell_type": "markdown",
      "metadata": {
        "id": "ZClReHXJlIcQ"
      },
      "source": [
        "# Traversing"
      ]
    },
    {
      "cell_type": "markdown",
      "metadata": {
        "id": "a9r47zEtlLB6"
      },
      "source": [
        "## 조상(ancestor) 요소 아래에 있는 자손(descendent) 요소 찾기"
      ]
    },
    {
      "cell_type": "code",
      "metadata": {
        "colab": {
          "base_uri": "https://localhost:8080/"
        },
        "id": "B-R7sVTclVoP",
        "outputId": "253e82fb-0c5c-4ad5-b00a-79183213c25b"
      },
      "source": [
        "# ul 태그중 클래스 이름이 'menu'인 요소의 자손들 중에서 a 태그 요소들 \n",
        "soup.select('ul.menu a')"
      ],
      "execution_count": 15,
      "outputs": [
        {
          "output_type": "execute_result",
          "data": {
            "text/plain": [
              "[<a href=\"https://www.daum.net/\">다음</a>,\n",
              " <a href=\"https://www.naver.com/\">네이버</a>,\n",
              " <a href=\"https://www.google.com/\">구글</a>]"
            ]
          },
          "metadata": {
            "tags": []
          },
          "execution_count": 15
        }
      ]
    },
    {
      "cell_type": "markdown",
      "metadata": {
        "id": "9JyzCF6Br0D5"
      },
      "source": [
        "## 부모(parent) 요소 바로 아래 자식(child) 요소를 선택"
      ]
    },
    {
      "cell_type": "code",
      "metadata": {
        "colab": {
          "base_uri": "https://localhost:8080/"
        },
        "id": "euLg66Kgr8i9",
        "outputId": "3103c036-61a3-43b9-e35f-52d604313d8d"
      },
      "source": [
        "# ul 태그중 클래스 이름이 'menu'인 요소 아래의 클래스 이름이 'menu_item' 요소의 자식 요소-\n",
        "soup.select('ul.menu > .menu_item > a')"
      ],
      "execution_count": 18,
      "outputs": [
        {
          "output_type": "execute_result",
          "data": {
            "text/plain": [
              "[<a href=\"https://www.daum.net/\">다음</a>,\n",
              " <a href=\"https://www.naver.com/\">네이버</a>,\n",
              " <a href=\"https://www.google.com/\">구글</a>]"
            ]
          },
          "metadata": {
            "tags": []
          },
          "execution_count": 18
        }
      ]
    },
    {
      "cell_type": "markdown",
      "metadata": {
        "id": "N6fRTBNkt8gp"
      },
      "source": [
        "# Pseudo selector"
      ]
    },
    {
      "cell_type": "code",
      "metadata": {
        "colab": {
          "base_uri": "https://localhost:8080/"
        },
        "id": "D9yBoCqitjo6",
        "outputId": "b3ca7cbb-8d03-4b0e-8c38-efeadd002df7"
      },
      "source": [
        "# a 태그들 중 3번째 요소\n",
        "soup.select('a:nth-of-type(1)')"
      ],
      "execution_count": 23,
      "outputs": [
        {
          "output_type": "execute_result",
          "data": {
            "text/plain": [
              "[<a href=\"https://www.daum.net/\">다음</a>]"
            ]
          },
          "metadata": {
            "tags": []
          },
          "execution_count": 23
        }
      ]
    },
    {
      "cell_type": "markdown",
      "metadata": {
        "id": "xRl9dd8EtZ2P"
      },
      "source": [
        ""
      ]
    }
  ]
}