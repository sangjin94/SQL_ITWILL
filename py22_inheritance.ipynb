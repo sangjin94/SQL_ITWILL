{
  "nbformat": 4,
  "nbformat_minor": 0,
  "metadata": {
    "colab": {
      "name": "py22_inheritance.ipynb",
      "provenance": [],
      "collapsed_sections": [],
      "authorship_tag": "ABX9TyNh2feNz4QnaKNe8HD5TBa4",
      "include_colab_link": true
    },
    "kernelspec": {
      "name": "python3",
      "display_name": "Python 3"
    },
    "language_info": {
      "name": "python"
    }
  },
  "cells": [
    {
      "cell_type": "markdown",
      "metadata": {
        "id": "view-in-github",
        "colab_type": "text"
      },
      "source": [
        "<a href=\"https://colab.research.google.com/github/sangjin94/SQL_ITWILL/blob/main/py22_inheritance.ipynb\" target=\"_parent\"><img src=\"https://colab.research.google.com/assets/colab-badge.svg\" alt=\"Open In Colab\"/></a>"
      ]
    },
    {
      "cell_type": "markdown",
      "metadata": {
        "id": "gG8ahWUngCXI"
      },
      "source": [
        "# 상속(Inheritance)\n",
        "\n",
        "* super class (상위 클래스), parent class(부모 클래스), base class(기본 클래스)  \n",
        "* sub class (하위 클래스), child class(자식 클래스), derived class(유도 클래스)\n",
        "* 상속: 상위 클래스의 속성들(attributes)과 기능들(method)을 하위 클래스에서 재사용(reuse)하는 것.\n",
        "* IS-A 관계가 성립하는 객체들은 상속을 사용해서 구현함.\n",
        "  * 학생은 사람이다. (Student **IS A** person.)\n",
        "    * 학생 - sub class\n",
        "    * 사람 - super class\n",
        "* HAS-A 관계가 성립하는 객체들은 _일반적으로_ 상속이 아니라 , attribute(속성)을 사용해서 클래스를 구현함.     \n",
        "  * 학생은 점수를 가지고 있다. (Student **Has A** score.)\n",
        "    * 학생 클래스의 속성 중의 하나로 Score 클래스의 객체를 저장하는 방식으로 구현 "
      ]
    },
    {
      "cell_type": "code",
      "metadata": {
        "id": "aUOLLXixbjel"
      },
      "source": [
        "class Person:\n",
        "  def __init__(self,name):\n",
        "    self.name=name\n",
        "\n",
        "  def say_hello(self):\n",
        "    print(f'안녕하세요. 저는 {self.name}입니다.')"
      ],
      "execution_count": 6,
      "outputs": []
    },
    {
      "cell_type": "code",
      "metadata": {
        "id": "Ep7RljNHphsq"
      },
      "source": [
        "#Person 클래스의  인스턴스 생성\n",
        "ssam=Person('오쌤')"
      ],
      "execution_count": 5,
      "outputs": []
    },
    {
      "cell_type": "code",
      "metadata": {
        "colab": {
          "base_uri": "https://localhost:8080/"
        },
        "id": "KrTTO5Xlprii",
        "outputId": "fa30db35-1d26-470e-eb2f-9475c9a16e5b"
      },
      "source": [
        "ssam.say_hello() # 인스턴스의 매서드 호출"
      ],
      "execution_count": 7,
      "outputs": [
        {
          "output_type": "stream",
          "text": [
            "안녕하세요. 저는 오쌤입니다.\n"
          ],
          "name": "stdout"
        }
      ]
    },
    {
      "cell_type": "markdown",
      "metadata": {
        "id": "5tlVVHP4pwJR"
      },
      "source": [
        "Person 클래스를 상속받는 Student 클래스를 정의\n",
        "\n",
        "\n",
        "```\n",
        "class SubClass(SuperClass):\n",
        "  pass\n",
        "```\n",
        "\n"
      ]
    },
    {
      "cell_type": "code",
      "metadata": {
        "id": "TRPYulCVp2XD"
      },
      "source": [
        "class Student(Person): #Student 클래스는 Person 클래스를 상속한다. Student 클래스는 Person 클래스를 확장한다.\n",
        "  def say_hello2(self):\n",
        "      print('저는 학생입니다.')"
      ],
      "execution_count": 12,
      "outputs": []
    },
    {
      "cell_type": "code",
      "metadata": {
        "id": "tWL4P0jEqnEh"
      },
      "source": [
        "# Student 클래스의 인스턴스 생성\n",
        "stu= Student('상진')"
      ],
      "execution_count": 13,
      "outputs": []
    },
    {
      "cell_type": "code",
      "metadata": {
        "colab": {
          "base_uri": "https://localhost:8080/"
        },
        "id": "bYODTFVsrrUb",
        "outputId": "b275bdb8-1d5e-4ef6-b938-c03ec85c67bc"
      },
      "source": [
        "stu.say_hello() # 부모 객체로부터 상속받은 메서드를 호출\n",
        "stu.say_hello2() # 자식 객체만 가지고 있는 매서드를 호출"
      ],
      "execution_count": 16,
      "outputs": [
        {
          "output_type": "stream",
          "text": [
            "안녕하세요. 저는 상진입니다.\n",
            "저는 학생입니다.\n"
          ],
          "name": "stdout"
        }
      ]
    },
    {
      "cell_type": "markdown",
      "metadata": {
        "id": "qaijXxJitU1L"
      },
      "source": [
        "# Method Override \n",
        "\n",
        "* 상위 클래스의 매서드를 하위 클래스에서 같은 이름으로 재정의 하는 것(덮어쓰는 것).\n",
        "* 하위 클래스에서 overriding된 상위 클래스의 매서드를 호출하기 위해서는 `super().method_name(arg)` 와 같은 방식을 사용함."
      ]
    },
    {
      "cell_type": "code",
      "metadata": {
        "id": "rX7sY7FVuUXr"
      },
      "source": [
        "# 회사원은 사람이다.( Besiness person IS A  Person)\n",
        "class BusinessPerson(Person):\n",
        "  # __init__ 매서드의 override\n",
        "  def __init__(self, name,company=None):\n",
        "    # 부모 클래스의 __init__ 매서드를 직접 호출할 떄 argument name을 전달.\n",
        "    super().__init__(name)\n",
        "    self.company= company\n",
        "\n",
        "  # method override : 부모 클래스인 Person의 say_hello() 매서드를 재정의.\n",
        "  def say_hello(self):\n",
        "    super().say_hello() #부모 클래스의 say_hello()를 직접 호출- 부모클래스의 기능을 사용\n",
        "    print(f'저는{self.company} 회사원입니다.')  # 부모 클래스의 기능을 확장. "
      ],
      "execution_count": 33,
      "outputs": []
    },
    {
      "cell_type": "code",
      "metadata": {
        "id": "5XUJVLhevN4w"
      },
      "source": [
        "# BusinessPerson 클래스의 인스턴스 생성\n",
        "person1=BusinessPerson('gil_dong','아이티윌')"
      ],
      "execution_count": 34,
      "outputs": []
    },
    {
      "cell_type": "code",
      "metadata": {
        "colab": {
          "base_uri": "https://localhost:8080/"
        },
        "id": "VhdSci0L3M92",
        "outputId": "73ac8d0b-2a19-4a81-9814-d05134d804be"
      },
      "source": [
        "person1.say_hello()"
      ],
      "execution_count": 35,
      "outputs": [
        {
          "output_type": "stream",
          "text": [
            "안녕하세요. 저는 gil_dong입니다.\n",
            "저는아이티윌 회사원입니다.\n"
          ],
          "name": "stdout"
        }
      ]
    },
    {
      "cell_type": "markdown",
      "metadata": {
        "id": "ooAPUo1p8XkG"
      },
      "source": [
        "# `isinstance` 함수\n",
        "\n",
        "객체가 어떤 클래스의 인스턴스인 지(True) 아닌 지(False)를 리턴하는 함수."
      ]
    },
    {
      "cell_type": "code",
      "metadata": {
        "colab": {
          "base_uri": "https://localhost:8080/"
        },
        "id": "pZm7fszp8cVw",
        "outputId": "88e36455-254e-4b2e-ae34-d429b7df9c2e"
      },
      "source": [
        "array=[1,2,3]\n",
        "print(isinstance(array,list))\n",
        "print(isinstance(array,dict))"
      ],
      "execution_count": 37,
      "outputs": [
        {
          "output_type": "stream",
          "text": [
            "True\n",
            "False\n"
          ],
          "name": "stdout"
        }
      ]
    },
    {
      "cell_type": "markdown",
      "metadata": {
        "id": "XxRfASG7-IwT"
      },
      "source": [
        "## 상속과 `isintance` 함수"
      ]
    },
    {
      "cell_type": "code",
      "metadata": {
        "id": "LbFWu_VY-PzJ"
      },
      "source": [
        "class Car:\n",
        "  pass\n",
        "\n",
        "#  전기자동차는 자동차이다. (IS-A)\n",
        "class ElectricCar(Car):\n",
        "  pass"
      ],
      "execution_count": 38,
      "outputs": []
    },
    {
      "cell_type": "code",
      "metadata": {
        "colab": {
          "base_uri": "https://localhost:8080/"
        },
        "id": "aFMDcYxu_L9Q",
        "outputId": "c7a2b096-f77e-4179-cf8f-89d00523b722"
      },
      "source": [
        "car1= Car() # Car 클래스의 인스턴스를 생성\n",
        "print(isinstance(car1,Car))\n",
        "print(isinstance(car1,ElectricCar))"
      ],
      "execution_count": 40,
      "outputs": [
        {
          "output_type": "stream",
          "text": [
            "True\n",
            "False\n"
          ],
          "name": "stdout"
        }
      ]
    },
    {
      "cell_type": "code",
      "metadata": {
        "colab": {
          "base_uri": "https://localhost:8080/"
        },
        "id": "LOdfWYbH_rIS",
        "outputId": "2bbc9d1a-3999-4429-a039-309c6b6d3cf5"
      },
      "source": [
        "tesla=ElectricCar() # ElectricCar 클래스의 인스턴스 생성\n",
        "print(isinstance(tesla,Car))\n",
        "print(isinstance(tesla,ElectricCar))"
      ],
      "execution_count": 42,
      "outputs": [
        {
          "output_type": "stream",
          "text": [
            "True\n",
            "True\n"
          ],
          "name": "stdout"
        }
      ]
    },
    {
      "cell_type": "markdown",
      "metadata": {
        "id": "76OB_974EKnE"
      },
      "source": [
        "`isinstance` 함수 활용 "
      ]
    },
    {
      "cell_type": "code",
      "metadata": {
        "id": "Ob5ah-aAEJ1-"
      },
      "source": [
        "class Animal:\n",
        "  def move(self): \n",
        "      pass\n",
        "\n",
        "# 강아지는 동물이다. (IS-A)\n",
        "class Dog(Animal):\n",
        "  #method override\n",
        "  def move(self):\n",
        "    print('강아지가 총총총..')\n",
        "\n",
        "# 새는 동물이다. (IS-A)\n",
        "class Bird(Animal):\n",
        "  def move(self):\n",
        "    print('새가 훨훨~~')\n",
        "\n",
        "# 나무는 동물이다(X). 동물은 나무다(X).\n",
        "class Tree:\n",
        "  pass               "
      ],
      "execution_count": 43,
      "outputs": []
    },
    {
      "cell_type": "code",
      "metadata": {
        "colab": {
          "base_uri": "https://localhost:8080/"
        },
        "id": "mP8Jv18pF6oA",
        "outputId": "61daa64c-e989-44c2-b5f5-4e0b525f1bf6"
      },
      "source": [
        "joy= Dog() # Dog 클래스 인스턴스(객체)\n",
        "chamsae=Bird() # Bird 클래스 인스턴스(객체)\n",
        "tree= Tree() # Tree 클래스 인스턴스(객체)\n",
        "\n",
        "array=[joy,chamsae,tree]\n",
        "for x in array:\n",
        "  if isinstance(x,Animal):\n",
        "    x.move()"
      ],
      "execution_count": 45,
      "outputs": [
        {
          "output_type": "stream",
          "text": [
            "강아지가 총총총..\n",
            "새가 훨훨~~\n"
          ],
          "name": "stdout"
        }
      ]
    }
  ]
}