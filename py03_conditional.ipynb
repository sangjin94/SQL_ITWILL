{
  "nbformat": 4,
  "nbformat_minor": 0,
  "metadata": {
    "colab": {
      "name": "py03_conditional.ipynb",
      "provenance": [],
      "authorship_tag": "ABX9TyOCRN+x8gJ2y/PbZitgBDFo",
      "include_colab_link": true
    },
    "kernelspec": {
      "name": "python3",
      "display_name": "Python 3"
    },
    "language_info": {
      "name": "python"
    }
  },
  "cells": [
    {
      "cell_type": "markdown",
      "metadata": {
        "id": "view-in-github",
        "colab_type": "text"
      },
      "source": [
        "<a href=\"https://colab.research.google.com/github/sangjin94/SQL_ITWILL/blob/main/py03_conditional.ipynb\" target=\"_parent\"><img src=\"https://colab.research.google.com/assets/colab-badge.svg\" alt=\"Open In Colab\"/></a>"
      ]
    },
    {
      "cell_type": "markdown",
      "metadata": {
        "id": "8d47Eupxdww5"
      },
      "source": [
        "# 조건문(Conditional Statement)\n"
      ]
    },
    {
      "cell_type": "markdown",
      "metadata": {
        "id": "1TNFFnxMeNEN"
      },
      "source": [
        "조건에 따라서 실행할 문장들을 작성하는 방법"
      ]
    },
    {
      "cell_type": "markdown",
      "metadata": {
        "id": "fIn4kIYbedQd"
      },
      "source": [
        "## else 없는 조건문 \n"
      ]
    },
    {
      "cell_type": "markdown",
      "metadata": {
        "id": "CpgKnS-denPG"
      },
      "source": [
        "\n",
        "\n",
        "```\n",
        "if 조건식: \n",
        "    조건식을 만족할 때 (조건식이 True가 될 때) 실행할 코드 블록(문장들)\n",
        "\n",
        "```\n",
        "\n",
        "*    `if 조건식` 뒤에는 반드시 콜론(:)을 사용해야 함.\n",
        "*    if 블록은 반드시 들여쓰기(indentation)를 해야 함.\n"
      ]
    },
    {
      "cell_type": "code",
      "metadata": {
        "colab": {
          "base_uri": "https://localhost:8080/"
        },
        "id": "WYMW0Lk8d2o0",
        "outputId": "17ce6e31-9e8e-4968-f2fa-5ad506b02e5c"
      },
      "source": [
        "number = 100 # 100을 number 변수에 저장. \n",
        "if number>0 : # number가 0보다 크면\n",
        "  print(f'{number}은(는) 양수입니다.') \n",
        "  print('if 블록 내부 끝')\n",
        "print('if 블록 바깥')"
      ],
      "execution_count": null,
      "outputs": [
        {
          "output_type": "stream",
          "text": [
            "100은(는) 양수입니다.\n",
            "if 블록 내부 끝\n",
            "if 블록 바깥\n"
          ],
          "name": "stdout"
        }
      ]
    },
    {
      "cell_type": "markdown",
      "metadata": {
        "id": "qqC75d2sjrJv"
      },
      "source": [
        "## else 있는 조건문 "
      ]
    },
    {
      "cell_type": "markdown",
      "metadata": {
        "id": "icPpF6Ehjvys"
      },
      "source": [
        "\n",
        "\n",
        "```\n",
        "if 조건식:\n",
        "    조건식을 만족할 때(조건식이 True가 될 때) 실행할 블록\n",
        "else: \n",
        "    조건식을 만족하지 못할 때(조건식이 False가 될 때) 실행할 블록\n",
        "```\n",
        "\n",
        "*    if 조건식과 else 뒤에는 반드시 콜론(:)을 사용해야 함.\n",
        "*    if 블록과 else 블록은 반드시 들여쓰기를 해야 함. \n"
      ]
    },
    {
      "cell_type": "code",
      "metadata": {
        "colab": {
          "base_uri": "https://localhost:8080/"
        },
        "id": "wzaVFlP1c889",
        "outputId": "d06aa505-305b-47cf-c723-72c502fedfc6"
      },
      "source": [
        "number =123\n",
        "if number>0: #number가 0보다 크면\n",
        "  print(f'{number}은(는) 양수입니다.')\n",
        "else:  # 그렇지 않으면(number가 0보다 크지 않으면)\n",
        "  print(f'{number}은(는) 음수입니다.')\n",
        "print('if-else 문 바깥')"
      ],
      "execution_count": null,
      "outputs": [
        {
          "output_type": "stream",
          "text": [
            "123은(는) 양수입니다.\n",
            "if-else 문 바깥\n"
          ],
          "name": "stdout"
        }
      ]
    },
    {
      "cell_type": "code",
      "metadata": {
        "id": "RULmpyk4rzMd"
      },
      "source": [
        "# 정수(integer)를 입력 받아서 변수에 저장\n",
        "# 입력받은 정수가 짝수이면, 'even' 출력\n",
        "# 그렇지 않으면, 'odd' 출력"
      ],
      "execution_count": null,
      "outputs": []
    },
    {
      "cell_type": "code",
      "metadata": {
        "colab": {
          "base_uri": "https://localhost:8080/"
        },
        "id": "EPsujB4xsC3_",
        "outputId": "1ba43990-a054-4ea7-be8a-6b6c773a2727"
      },
      "source": [
        "number=int(input('정수입력>>>'))\n",
        "if number % 2 == 0:\n",
        "  print('even')\n",
        "else:\n",
        "   print('odd')\n",
        "  "
      ],
      "execution_count": null,
      "outputs": [
        {
          "output_type": "stream",
          "text": [
            "정수입력>>>30\n",
            "even\n"
          ],
          "name": "stdout"
        }
      ]
    },
    {
      "cell_type": "markdown",
      "metadata": {
        "id": "15iyM2EcuwSn"
      },
      "source": [
        "#Chained Conditionals(if-elif-else)\n"
      ]
    },
    {
      "cell_type": "markdown",
      "metadata": {
        "id": "exFG7bAou138"
      },
      "source": [
        "\n",
        "\n",
        "```\n",
        "if 조건식1:\n",
        "    조건식1을 만족할 때 실행할 코드 블록 \n",
        "elif 조건식2:\n",
        "    조건식2를 만족할 떄 실행할 코드 블록\n",
        "...\n",
        "else:\n",
        "    위의 모든 조건식들을 만족하지 못할 떄 실행할 코드 블록\n",
        "```\n",
        "\n",
        "* elif 조건식은 1개 이상일 수 있음.\n",
        "* else 블록은 생략할 수 있음.\n",
        "* 모든 블록들은 들여쓰기가 되어야 함.\n"
      ]
    },
    {
      "cell_type": "code",
      "metadata": {
        "colab": {
          "base_uri": "https://localhost:8080/"
        },
        "id": "4S4xUOKVwtlR",
        "outputId": "53ce0229-2d57-4f79-91b1-b2562ec7b508"
      },
      "source": [
        "number = 0\n",
        "\n",
        "if number > 0: # 만약 number가 0보다 크면 \n",
        "    print('양수')\n",
        "elif number < 0 : #그렇지 않고(0보다  크지 않고), number가 0보다 작으면 \n",
        "    print('음수')\n",
        "else:\n",
        "  print('zero')\n",
        "print('===end===')"
      ],
      "execution_count": null,
      "outputs": [
        {
          "output_type": "stream",
          "text": [
            "zero\n",
            "===end===\n"
          ],
          "name": "stdout"
        }
      ]
    },
    {
      "cell_type": "code",
      "metadata": {
        "id": "N6mhNIdQyw4d"
      },
      "source": [
        "# 중첩 조건문(nested conditionals)"
      ],
      "execution_count": null,
      "outputs": []
    },
    {
      "cell_type": "markdown",
      "metadata": {
        "id": "adfeUAQBy05S"
      },
      "source": [
        "*    `if`블록, `elif` 블록 또는 `else` 블록 안에서 조건문 (if, if-else,if-elif-else)이 사용되는 경우\n",
        "*    중첩 조건문을 사용할 때는 들여쓰기를 주의해야 함. 들여쓰기 방법에 따라서 완전히 다른 실행 코드(로직)이 될 수 있음. \n",
        "*    중첩 조건문은 `elif`를 사용하거나 논리 연산자(`and`,`or`)를 사용해서 \n",
        "중첩되지 않는 조건문으로 만들 수 있음.\n",
        "\n",
        "\n",
        "```\n",
        "if condition1:\n",
        "  if condition2:\n",
        "     statements\n",
        "  else:\n",
        "     statements\n",
        "\n",
        "if condition1:\n",
        "    statements\n",
        "else: \n",
        "    if condition2:\n",
        "       statements\n",
        "    else:\n",
        "     statements\n",
        "```"
      ]
    },
    {
      "cell_type": "code",
      "metadata": {
        "colab": {
          "base_uri": "https://localhost:8080/"
        },
        "id": "7UxN78YT4X9B",
        "outputId": "b900fbd5-7c27-41c8-ebb6-a04c94d77da2"
      },
      "source": [
        "number = -100\n",
        "\n",
        "if number>0: # number가 0보다 크면\n",
        "  print('positive number')\n",
        "else:  # 그렇지 않으면 (number가 0보다 크지 않으면)\n",
        "  if number<0: \n",
        "    print('negative number')\n",
        "  else: # 그렇지 않으면 (number가 0보다 크지 않고, 0보다 작지도 않으면)\n",
        "    print('zero')\n",
        "print('===end===')"
      ],
      "execution_count": null,
      "outputs": [
        {
          "output_type": "stream",
          "text": [
            "negative number\n",
            "===end===\n"
          ],
          "name": "stdout"
        }
      ]
    },
    {
      "cell_type": "markdown",
      "metadata": {
        "id": "PIDKKSQJ5r14"
      },
      "source": [
        "## Exercise"
      ]
    },
    {
      "cell_type": "markdown",
      "metadata": {
        "id": "PVoZqxvL5vwp"
      },
      "source": [
        "* 정수 3개를 입력받고 변수에 저장\n",
        "* 정수 3개의 평균을 계산하고 출력\n",
        "* 평균이\n",
        "     * 90 이상이면, 'A'\n",
        "     * 80 이상이면, 'B'\n",
        "     * 70 이상이면, 'C'\n",
        "     * 70 미만이면, 'F' 출력"
      ]
    },
    {
      "cell_type": "code",
      "metadata": {
        "colab": {
          "base_uri": "https://localhost:8080/"
        },
        "id": "qZOsBAXr7G-g",
        "outputId": "eae6a28d-ec94-41aa-d4de-8ac4b76a108c"
      },
      "source": [
        "score1=int(input())\n",
        "score2=int(input())\n",
        "score3=int(input())\n",
        "print((score1+score2+score3)/3)\n",
        "avg= (score1+score2+score3)/3\n",
        "if avg >= 90:\n",
        "  print('A')\n",
        "elif avg >= 80:\n",
        "  print('B')\n",
        "elif avg >= 70:\n",
        "  print('C')\n",
        "else: print('F')"
      ],
      "execution_count": null,
      "outputs": [
        {
          "output_type": "stream",
          "text": [
            "50\n",
            "60\n",
            "80\n",
            "63.333333333333336\n",
            "F\n"
          ],
          "name": "stdout"
        }
      ]
    }
  ]
}