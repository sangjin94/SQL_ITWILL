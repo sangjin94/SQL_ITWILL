{
  "nbformat": 4,
  "nbformat_minor": 0,
  "metadata": {
    "colab": {
      "name": "da17_categorical.ipynb",
      "provenance": [],
      "collapsed_sections": [],
      "authorship_tag": "ABX9TyN6aOay5Qe8SZ0wJF9kCPNS",
      "include_colab_link": true
    },
    "kernelspec": {
      "name": "python3",
      "display_name": "Python 3"
    },
    "language_info": {
      "name": "python"
    }
  },
  "cells": [
    {
      "cell_type": "markdown",
      "metadata": {
        "id": "view-in-github",
        "colab_type": "text"
      },
      "source": [
        "<a href=\"https://colab.research.google.com/github/sangjin94/SQL_ITWILL/blob/main/da17_categorical.ipynb\" target=\"_parent\"><img src=\"https://colab.research.google.com/assets/colab-badge.svg\" alt=\"Open In Colab\"/></a>"
      ]
    },
    {
      "cell_type": "markdown",
      "metadata": {
        "id": "Tu-dUNj9Zfjn"
      },
      "source": [
        "# Categorical Data"
      ]
    },
    {
      "cell_type": "code",
      "metadata": {
        "id": "B08A99-lZ8x_"
      },
      "source": [
        "import numpy as np\n",
        "import pandas as pd"
      ],
      "execution_count": 2,
      "outputs": []
    },
    {
      "cell_type": "code",
      "metadata": {
        "id": "fzqFaBS4ZXE3"
      },
      "source": [
        "movie_rating = pd.DataFrame({'user_id':np.arange(1,1_000_001),\n",
        "                             'gender':['M']*500_000+['F']*500_000,\n",
        "                             'rating': np.random.randint(1,6,size=1000000)})"
      ],
      "execution_count": 3,
      "outputs": []
    },
    {
      "cell_type": "code",
      "metadata": {
        "colab": {
          "base_uri": "https://localhost:8080/"
        },
        "id": "KHGxwSItZ1dE",
        "outputId": "56df2dda-7a9a-4716-9d05-a668ce5526dd"
      },
      "source": [
        "movie_rating.info()\n",
        "#> gender 컬럼의 타입은 object(문자열)\n",
        "#> rating 컬럼의 타입은 int64(정수)\n",
        "#> memory usage: 22.9+ MB"
      ],
      "execution_count": 6,
      "outputs": [
        {
          "output_type": "stream",
          "text": [
            "<class 'pandas.core.frame.DataFrame'>\n",
            "RangeIndex: 1000000 entries, 0 to 999999\n",
            "Data columns (total 3 columns):\n",
            " #   Column   Non-Null Count    Dtype \n",
            "---  ------   --------------    ----- \n",
            " 0   user_id  1000000 non-null  int64 \n",
            " 1   gender   1000000 non-null  object\n",
            " 2   rating   1000000 non-null  int64 \n",
            "dtypes: int64(2), object(1)\n",
            "memory usage: 22.9+ MB\n"
          ],
          "name": "stdout"
        }
      ]
    },
    {
      "cell_type": "code",
      "metadata": {
        "colab": {
          "base_uri": "https://localhost:8080/"
        },
        "id": "W7-vTt6CbWPw",
        "outputId": "933e5f77-e244-428f-f38c-7c39dcf91703"
      },
      "source": [
        "movie_rating['gender'].value_counts()"
      ],
      "execution_count": 9,
      "outputs": [
        {
          "output_type": "execute_result",
          "data": {
            "text/plain": [
              "M    500000\n",
              "F    500000\n",
              "Name: gender, dtype: int64"
            ]
          },
          "metadata": {},
          "execution_count": 9
        }
      ]
    },
    {
      "cell_type": "code",
      "metadata": {
        "colab": {
          "base_uri": "https://localhost:8080/"
        },
        "id": "jKFjBLBJbiBo",
        "outputId": "b2605c7b-91ac-4fc5-af6e-7e5f7a32cd6b"
      },
      "source": [
        "movie_rating['rating'].value_counts()"
      ],
      "execution_count": 10,
      "outputs": [
        {
          "output_type": "execute_result",
          "data": {
            "text/plain": [
              "1    200600\n",
              "3    200071\n",
              "2    199938\n",
              "5    199803\n",
              "4    199588\n",
              "Name: rating, dtype: int64"
            ]
          },
          "metadata": {},
          "execution_count": 10
        }
      ]
    },
    {
      "cell_type": "code",
      "metadata": {
        "id": "rZk0EXFQcbY7"
      },
      "source": [
        "# gender 컬럼의 타입 object에서 category 타입으로 변환\n",
        "movie_rating['gender']=movie_rating['gender'].astype('category')"
      ],
      "execution_count": 12,
      "outputs": []
    },
    {
      "cell_type": "code",
      "metadata": {
        "colab": {
          "base_uri": "https://localhost:8080/"
        },
        "id": "gJ1fzqc9cnSY",
        "outputId": "784e14be-95ae-4257-d760-3003254fd7e8"
      },
      "source": [
        "movie_rating.info()\n",
        "#> memory usage: 16.2 MB"
      ],
      "execution_count": 14,
      "outputs": [
        {
          "output_type": "stream",
          "text": [
            "<class 'pandas.core.frame.DataFrame'>\n",
            "RangeIndex: 1000000 entries, 0 to 999999\n",
            "Data columns (total 3 columns):\n",
            " #   Column   Non-Null Count    Dtype   \n",
            "---  ------   --------------    -----   \n",
            " 0   user_id  1000000 non-null  int64   \n",
            " 1   gender   1000000 non-null  category\n",
            " 2   rating   1000000 non-null  int64   \n",
            "dtypes: category(1), int64(2)\n",
            "memory usage: 16.2 MB\n"
          ],
          "name": "stdout"
        }
      ]
    },
    {
      "cell_type": "code",
      "metadata": {
        "id": "lIsDSbUfcywC"
      },
      "source": [
        "# rating 컬럼의 타입 int64에서 category 타입으로 변환\n",
        "movie_rating['rating']=movie_rating['rating'].astype('category')"
      ],
      "execution_count": 15,
      "outputs": []
    },
    {
      "cell_type": "code",
      "metadata": {
        "colab": {
          "base_uri": "https://localhost:8080/"
        },
        "id": "E7m57-8Dc4A9",
        "outputId": "474a59af-8069-43a4-8304-b49ed9ed11bd"
      },
      "source": [
        "movie_rating.info()\n",
        "#> memory usage: 9.5 MB"
      ],
      "execution_count": 16,
      "outputs": [
        {
          "output_type": "stream",
          "text": [
            "<class 'pandas.core.frame.DataFrame'>\n",
            "RangeIndex: 1000000 entries, 0 to 999999\n",
            "Data columns (total 3 columns):\n",
            " #   Column   Non-Null Count    Dtype   \n",
            "---  ------   --------------    -----   \n",
            " 0   user_id  1000000 non-null  int64   \n",
            " 1   gender   1000000 non-null  category\n",
            " 2   rating   1000000 non-null  category\n",
            "dtypes: category(2), int64(1)\n",
            "memory usage: 9.5 MB\n"
          ],
          "name": "stdout"
        }
      ]
    },
    {
      "cell_type": "code",
      "metadata": {
        "colab": {
          "base_uri": "https://localhost:8080/",
          "height": 422
        },
        "id": "gsexJa_beBqz",
        "outputId": "4fea9819-8a25-4b7c-a0c9-c16073cb3fe7"
      },
      "source": [
        "movie_rating"
      ],
      "execution_count": 17,
      "outputs": [
        {
          "output_type": "execute_result",
          "data": {
            "text/html": [
              "<div>\n",
              "<style scoped>\n",
              "    .dataframe tbody tr th:only-of-type {\n",
              "        vertical-align: middle;\n",
              "    }\n",
              "\n",
              "    .dataframe tbody tr th {\n",
              "        vertical-align: top;\n",
              "    }\n",
              "\n",
              "    .dataframe thead th {\n",
              "        text-align: right;\n",
              "    }\n",
              "</style>\n",
              "<table border=\"1\" class=\"dataframe\">\n",
              "  <thead>\n",
              "    <tr style=\"text-align: right;\">\n",
              "      <th></th>\n",
              "      <th>user_id</th>\n",
              "      <th>gender</th>\n",
              "      <th>rating</th>\n",
              "    </tr>\n",
              "  </thead>\n",
              "  <tbody>\n",
              "    <tr>\n",
              "      <th>0</th>\n",
              "      <td>1</td>\n",
              "      <td>M</td>\n",
              "      <td>5</td>\n",
              "    </tr>\n",
              "    <tr>\n",
              "      <th>1</th>\n",
              "      <td>2</td>\n",
              "      <td>M</td>\n",
              "      <td>5</td>\n",
              "    </tr>\n",
              "    <tr>\n",
              "      <th>2</th>\n",
              "      <td>3</td>\n",
              "      <td>M</td>\n",
              "      <td>2</td>\n",
              "    </tr>\n",
              "    <tr>\n",
              "      <th>3</th>\n",
              "      <td>4</td>\n",
              "      <td>M</td>\n",
              "      <td>4</td>\n",
              "    </tr>\n",
              "    <tr>\n",
              "      <th>4</th>\n",
              "      <td>5</td>\n",
              "      <td>M</td>\n",
              "      <td>4</td>\n",
              "    </tr>\n",
              "    <tr>\n",
              "      <th>...</th>\n",
              "      <td>...</td>\n",
              "      <td>...</td>\n",
              "      <td>...</td>\n",
              "    </tr>\n",
              "    <tr>\n",
              "      <th>999995</th>\n",
              "      <td>999996</td>\n",
              "      <td>F</td>\n",
              "      <td>1</td>\n",
              "    </tr>\n",
              "    <tr>\n",
              "      <th>999996</th>\n",
              "      <td>999997</td>\n",
              "      <td>F</td>\n",
              "      <td>2</td>\n",
              "    </tr>\n",
              "    <tr>\n",
              "      <th>999997</th>\n",
              "      <td>999998</td>\n",
              "      <td>F</td>\n",
              "      <td>3</td>\n",
              "    </tr>\n",
              "    <tr>\n",
              "      <th>999998</th>\n",
              "      <td>999999</td>\n",
              "      <td>F</td>\n",
              "      <td>1</td>\n",
              "    </tr>\n",
              "    <tr>\n",
              "      <th>999999</th>\n",
              "      <td>1000000</td>\n",
              "      <td>F</td>\n",
              "      <td>2</td>\n",
              "    </tr>\n",
              "  </tbody>\n",
              "</table>\n",
              "<p>1000000 rows × 3 columns</p>\n",
              "</div>"
            ],
            "text/plain": [
              "        user_id gender rating\n",
              "0             1      M      5\n",
              "1             2      M      5\n",
              "2             3      M      2\n",
              "3             4      M      4\n",
              "4             5      M      4\n",
              "...         ...    ...    ...\n",
              "999995   999996      F      1\n",
              "999996   999997      F      2\n",
              "999997   999998      F      3\n",
              "999998   999999      F      1\n",
              "999999  1000000      F      2\n",
              "\n",
              "[1000000 rows x 3 columns]"
            ]
          },
          "metadata": {},
          "execution_count": 17
        }
      ]
    },
    {
      "cell_type": "markdown",
      "metadata": {
        "id": "j8AMaV8Ld-kZ"
      },
      "source": [
        "# 연속형 변수를 카테고리 타입으로 변환"
      ]
    },
    {
      "cell_type": "code",
      "metadata": {
        "id": "tPI1bHByek1s"
      },
      "source": [
        "df= pd.DataFrame({'id':np.arange(1,11),'age':np.random.randint(10,90,size=10)})"
      ],
      "execution_count": 23,
      "outputs": []
    },
    {
      "cell_type": "code",
      "metadata": {
        "colab": {
          "base_uri": "https://localhost:8080/",
          "height": 362
        },
        "id": "FSAPw2y3ewnV",
        "outputId": "fcccc5ae-adee-4053-f2ad-328a559037dc"
      },
      "source": [
        "df"
      ],
      "execution_count": 24,
      "outputs": [
        {
          "output_type": "execute_result",
          "data": {
            "text/html": [
              "<div>\n",
              "<style scoped>\n",
              "    .dataframe tbody tr th:only-of-type {\n",
              "        vertical-align: middle;\n",
              "    }\n",
              "\n",
              "    .dataframe tbody tr th {\n",
              "        vertical-align: top;\n",
              "    }\n",
              "\n",
              "    .dataframe thead th {\n",
              "        text-align: right;\n",
              "    }\n",
              "</style>\n",
              "<table border=\"1\" class=\"dataframe\">\n",
              "  <thead>\n",
              "    <tr style=\"text-align: right;\">\n",
              "      <th></th>\n",
              "      <th>id</th>\n",
              "      <th>age</th>\n",
              "    </tr>\n",
              "  </thead>\n",
              "  <tbody>\n",
              "    <tr>\n",
              "      <th>0</th>\n",
              "      <td>1</td>\n",
              "      <td>66</td>\n",
              "    </tr>\n",
              "    <tr>\n",
              "      <th>1</th>\n",
              "      <td>2</td>\n",
              "      <td>71</td>\n",
              "    </tr>\n",
              "    <tr>\n",
              "      <th>2</th>\n",
              "      <td>3</td>\n",
              "      <td>26</td>\n",
              "    </tr>\n",
              "    <tr>\n",
              "      <th>3</th>\n",
              "      <td>4</td>\n",
              "      <td>10</td>\n",
              "    </tr>\n",
              "    <tr>\n",
              "      <th>4</th>\n",
              "      <td>5</td>\n",
              "      <td>20</td>\n",
              "    </tr>\n",
              "    <tr>\n",
              "      <th>5</th>\n",
              "      <td>6</td>\n",
              "      <td>30</td>\n",
              "    </tr>\n",
              "    <tr>\n",
              "      <th>6</th>\n",
              "      <td>7</td>\n",
              "      <td>73</td>\n",
              "    </tr>\n",
              "    <tr>\n",
              "      <th>7</th>\n",
              "      <td>8</td>\n",
              "      <td>42</td>\n",
              "    </tr>\n",
              "    <tr>\n",
              "      <th>8</th>\n",
              "      <td>9</td>\n",
              "      <td>14</td>\n",
              "    </tr>\n",
              "    <tr>\n",
              "      <th>9</th>\n",
              "      <td>10</td>\n",
              "      <td>24</td>\n",
              "    </tr>\n",
              "  </tbody>\n",
              "</table>\n",
              "</div>"
            ],
            "text/plain": [
              "   id  age\n",
              "0   1   66\n",
              "1   2   71\n",
              "2   3   26\n",
              "3   4   10\n",
              "4   5   20\n",
              "5   6   30\n",
              "6   7   73\n",
              "7   8   42\n",
              "8   9   14\n",
              "9  10   24"
            ]
          },
          "metadata": {},
          "execution_count": 24
        }
      ]
    },
    {
      "cell_type": "code",
      "metadata": {
        "id": "AezjoQIneyV4"
      },
      "source": [
        "df['ages']=pd.cut(x=df['age'],bins=np.arange(10,100,10),right=False)\n",
        "# bins:구간의 경계값들로 이루어진 배열\n",
        "# right: 구간의 오른쪽 경계를 포함할 지 말지 결정. 기본값은 True ( 왼쪽은 포함안됨 . False는 반대)"
      ],
      "execution_count": 35,
      "outputs": []
    },
    {
      "cell_type": "code",
      "metadata": {
        "colab": {
          "base_uri": "https://localhost:8080/"
        },
        "id": "bwI25HWRfSVH",
        "outputId": "919d2009-1202-4649-a4e3-e7339606732a"
      },
      "source": [
        "df.info()"
      ],
      "execution_count": 37,
      "outputs": [
        {
          "output_type": "stream",
          "text": [
            "<class 'pandas.core.frame.DataFrame'>\n",
            "RangeIndex: 10 entries, 0 to 9\n",
            "Data columns (total 3 columns):\n",
            " #   Column  Non-Null Count  Dtype   \n",
            "---  ------  --------------  -----   \n",
            " 0   id      10 non-null     int64   \n",
            " 1   age     10 non-null     int64   \n",
            " 2   ages    10 non-null     category\n",
            "dtypes: category(1), int64(2)\n",
            "memory usage: 746.0 bytes\n"
          ],
          "name": "stdout"
        }
      ]
    },
    {
      "cell_type": "code",
      "metadata": {
        "colab": {
          "base_uri": "https://localhost:8080/"
        },
        "id": "Qchc9HAmmNDo",
        "outputId": "3af58d81-e49c-4964-c500-f06e571482cc"
      },
      "source": [
        "df.groupby('ages').size() # df['ages'],value_counts()"
      ],
      "execution_count": 38,
      "outputs": [
        {
          "output_type": "execute_result",
          "data": {
            "text/plain": [
              "ages\n",
              "[10, 20)    2\n",
              "[20, 30)    3\n",
              "[30, 40)    1\n",
              "[40, 50)    1\n",
              "[50, 60)    0\n",
              "[60, 70)    1\n",
              "[70, 80)    2\n",
              "[80, 90)    0\n",
              "dtype: int64"
            ]
          },
          "metadata": {},
          "execution_count": 38
        }
      ]
    },
    {
      "cell_type": "markdown",
      "metadata": {
        "id": "Hh4XH0ifmUrR"
      },
      "source": [
        "pd.cut() 함수에서 bins 파라미터의 구간 경계값들은 일정한 간격일 필요는 없다."
      ]
    },
    {
      "cell_type": "code",
      "metadata": {
        "colab": {
          "base_uri": "https://localhost:8080/",
          "height": 362
        },
        "id": "Q4UOjl1Nma_3",
        "outputId": "a97e00e7-cbd4-403c-9f44-72c9fbccd4f3"
      },
      "source": [
        "df['age_level']=pd.cut(x=df['age'],bins=[0,20,60,100],labels=['young','middle','old'])\n",
        "#> bins: 구간의 경계값들로 이루어진 배열(리스트)\n",
        "#> labels: 구간의 레이블(이름)\n",
        "df"
      ],
      "execution_count": 40,
      "outputs": [
        {
          "output_type": "execute_result",
          "data": {
            "text/html": [
              "<div>\n",
              "<style scoped>\n",
              "    .dataframe tbody tr th:only-of-type {\n",
              "        vertical-align: middle;\n",
              "    }\n",
              "\n",
              "    .dataframe tbody tr th {\n",
              "        vertical-align: top;\n",
              "    }\n",
              "\n",
              "    .dataframe thead th {\n",
              "        text-align: right;\n",
              "    }\n",
              "</style>\n",
              "<table border=\"1\" class=\"dataframe\">\n",
              "  <thead>\n",
              "    <tr style=\"text-align: right;\">\n",
              "      <th></th>\n",
              "      <th>id</th>\n",
              "      <th>age</th>\n",
              "      <th>ages</th>\n",
              "      <th>age_level</th>\n",
              "    </tr>\n",
              "  </thead>\n",
              "  <tbody>\n",
              "    <tr>\n",
              "      <th>0</th>\n",
              "      <td>1</td>\n",
              "      <td>66</td>\n",
              "      <td>[60, 70)</td>\n",
              "      <td>old</td>\n",
              "    </tr>\n",
              "    <tr>\n",
              "      <th>1</th>\n",
              "      <td>2</td>\n",
              "      <td>71</td>\n",
              "      <td>[70, 80)</td>\n",
              "      <td>old</td>\n",
              "    </tr>\n",
              "    <tr>\n",
              "      <th>2</th>\n",
              "      <td>3</td>\n",
              "      <td>26</td>\n",
              "      <td>[20, 30)</td>\n",
              "      <td>middle</td>\n",
              "    </tr>\n",
              "    <tr>\n",
              "      <th>3</th>\n",
              "      <td>4</td>\n",
              "      <td>10</td>\n",
              "      <td>[10, 20)</td>\n",
              "      <td>young</td>\n",
              "    </tr>\n",
              "    <tr>\n",
              "      <th>4</th>\n",
              "      <td>5</td>\n",
              "      <td>20</td>\n",
              "      <td>[20, 30)</td>\n",
              "      <td>young</td>\n",
              "    </tr>\n",
              "    <tr>\n",
              "      <th>5</th>\n",
              "      <td>6</td>\n",
              "      <td>30</td>\n",
              "      <td>[30, 40)</td>\n",
              "      <td>middle</td>\n",
              "    </tr>\n",
              "    <tr>\n",
              "      <th>6</th>\n",
              "      <td>7</td>\n",
              "      <td>73</td>\n",
              "      <td>[70, 80)</td>\n",
              "      <td>old</td>\n",
              "    </tr>\n",
              "    <tr>\n",
              "      <th>7</th>\n",
              "      <td>8</td>\n",
              "      <td>42</td>\n",
              "      <td>[40, 50)</td>\n",
              "      <td>middle</td>\n",
              "    </tr>\n",
              "    <tr>\n",
              "      <th>8</th>\n",
              "      <td>9</td>\n",
              "      <td>14</td>\n",
              "      <td>[10, 20)</td>\n",
              "      <td>young</td>\n",
              "    </tr>\n",
              "    <tr>\n",
              "      <th>9</th>\n",
              "      <td>10</td>\n",
              "      <td>24</td>\n",
              "      <td>[20, 30)</td>\n",
              "      <td>middle</td>\n",
              "    </tr>\n",
              "  </tbody>\n",
              "</table>\n",
              "</div>"
            ],
            "text/plain": [
              "   id  age      ages age_level\n",
              "0   1   66  [60, 70)       old\n",
              "1   2   71  [70, 80)       old\n",
              "2   3   26  [20, 30)    middle\n",
              "3   4   10  [10, 20)     young\n",
              "4   5   20  [20, 30)     young\n",
              "5   6   30  [30, 40)    middle\n",
              "6   7   73  [70, 80)       old\n",
              "7   8   42  [40, 50)    middle\n",
              "8   9   14  [10, 20)     young\n",
              "9  10   24  [20, 30)    middle"
            ]
          },
          "metadata": {},
          "execution_count": 40
        }
      ]
    }
  ]
}