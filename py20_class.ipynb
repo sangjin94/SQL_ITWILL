{
  "nbformat": 4,
  "nbformat_minor": 0,
  "metadata": {
    "colab": {
      "name": "py20_class.ipynb",
      "provenance": [],
      "collapsed_sections": [],
      "include_colab_link": true
    },
    "kernelspec": {
      "name": "python3",
      "display_name": "Python 3"
    },
    "language_info": {
      "name": "python"
    }
  },
  "cells": [
    {
      "cell_type": "markdown",
      "metadata": {
        "id": "view-in-github",
        "colab_type": "text"
      },
      "source": [
        "<a href=\"https://colab.research.google.com/github/sangjin94/SQL_ITWILL/blob/main/py20_class.ipynb\" target=\"_parent\"><img src=\"https://colab.research.google.com/assets/colab-badge.svg\" alt=\"Open In Colab\"/></a>"
      ]
    },
    {
      "cell_type": "code",
      "metadata": {
        "id": "epGWtyPYp0NR"
      },
      "source": [
        "import math  # math.sqrt() 함수를 사용하기 위해서"
      ],
      "execution_count": null,
      "outputs": []
    },
    {
      "cell_type": "code",
      "metadata": {
        "id": "AwYowxtoqEpV"
      },
      "source": [
        "# class 선언(정의)\n",
        "class Point:\n",
        "    \"\"\"2차원 평면의 점의 좌표를 표현하는 클래스\"\"\"\n",
        "\n",
        "    def __init__(self, x=0, y=0):\n",
        "        # 인스턴스의 속성들을 초기화\n",
        "        self.x = x\n",
        "        self.y = y\n",
        "\n",
        "    def move(self, dx, dy):\n",
        "        \"\"\"점의 좌표를 원래 위치에서 x축의 방향으로 dx만큼, y축의 방향으로 dy만큼 이동시키는 메서드\"\"\"\n",
        "        self.x += dx  # self.x = self.x + dx\n",
        "        self.y += dy\n",
        "\n",
        "    def distance_to(self, other):\n",
        "        \"\"\"다른 Point 객체 other까지의 거리를 반환하는 메서드\n",
        "        두 점 (x1, y1)과 (x2, y2) 사이의 거리 d = sqrt((x1 - x2)**2 + (y1 - y2)**2)\n",
        "        \"\"\"\n",
        "        d = math.sqrt((self.x - other.x)**2 + (self.y - other.y)**2)\n",
        "        return d"
      ],
      "execution_count": null,
      "outputs": []
    },
    {
      "cell_type": "code",
      "metadata": {
        "colab": {
          "base_uri": "https://localhost:8080/"
        },
        "id": "Om-KoFhgs_te",
        "outputId": "7f8a1ec3-8f64-459c-dbad-c7e361a02109"
      },
      "source": [
        "# class 객체 생성\n",
        "pt1 = Point()  # __init__ 메서드의 default argument가 사용됨.\n",
        "print(pt1)\n",
        "print(f'(x={pt1.x}, y={pt1.y})')  # pt1.x, pt1.y: 인스턴스 속성 참조"
      ],
      "execution_count": null,
      "outputs": [
        {
          "output_type": "stream",
          "text": [
            "<__main__.Point object at 0x7f613636ce50>\n",
            "(x=0, y=0)\n"
          ],
          "name": "stdout"
        }
      ]
    },
    {
      "cell_type": "code",
      "metadata": {
        "colab": {
          "base_uri": "https://localhost:8080/"
        },
        "id": "Nkwcdz022uKC",
        "outputId": "835d50a6-7d95-4324-9de2-6e5559fc7b4e"
      },
      "source": [
        "# pt1을 x축으로 2만큼, y축으로 3만큼 이동\n",
        "pt1.move(dx=2, dy=3)\n",
        "# 이동 후 점의 좌표 출력\n",
        "print(f'(x={pt1.x}, y={pt1.y})')"
      ],
      "execution_count": null,
      "outputs": [
        {
          "output_type": "stream",
          "text": [
            "(x=2, y=3)\n"
          ],
          "name": "stdout"
        }
      ]
    },
    {
      "cell_type": "code",
      "metadata": {
        "colab": {
          "base_uri": "https://localhost:8080/"
        },
        "id": "1s_cA6AvvNC9",
        "outputId": "98caf697-1eb9-4978-d82f-7247943a0d2d"
      },
      "source": [
        "pt2 = Point(1, 1)  # 생성자 호출(positional argument)\n",
        "print(pt2)\n",
        "print(f'(x={pt2.x}, y={pt2.y})')"
      ],
      "execution_count": null,
      "outputs": [
        {
          "output_type": "stream",
          "text": [
            "<__main__.Point object at 0x7f6136425950>\n",
            "(x=1, y=1)\n"
          ],
          "name": "stdout"
        }
      ]
    },
    {
      "cell_type": "code",
      "metadata": {
        "colab": {
          "base_uri": "https://localhost:8080/"
        },
        "id": "ZZBE_6k95hbK",
        "outputId": "f68bc816-fd45-40a3-8885-4bbfb816e1d3"
      },
      "source": [
        "# pt2를 x축의 방향으로 1만큼, y축의 방향으로 -2만큼 이동\n",
        "pt2.move(dx=1, dy=-2)\n",
        "# 이동 후 점의 좌표\n",
        "print(f'(x={pt2.x}, y={pt2.y})')"
      ],
      "execution_count": null,
      "outputs": [
        {
          "output_type": "stream",
          "text": [
            "(x=2, y=-1)\n"
          ],
          "name": "stdout"
        }
      ]
    },
    {
      "cell_type": "code",
      "metadata": {
        "colab": {
          "base_uri": "https://localhost:8080/"
        },
        "id": "HAfF9Byf-6ES",
        "outputId": "a9573218-fd57-4ed0-a2f2-9737396749fa"
      },
      "source": [
        "# pt1에서 pt2까지의 거리\n",
        "dist = pt1.distance_to(pt2)\n",
        "print(dist)"
      ],
      "execution_count": null,
      "outputs": [
        {
          "output_type": "stream",
          "text": [
            "4.0\n"
          ],
          "name": "stdout"
        }
      ]
    },
    {
      "cell_type": "code",
      "metadata": {
        "id": "mpMkECdxTpio"
      },
      "source": [
        "class Rectangle:\n",
        "    \"\"\"2차원 평면에서 직사각형을 표현하는 클래스\"\"\"\n",
        "\n",
        "    def __init__(self, x=0, y=0, width=0, height=0):\n",
        "        \"\"\"직사각형 객체의 속성들을 초기화.\n",
        "        x, y: 직사각형의 꼭지점의 x/y 좌표. 기본값은 0.\n",
        "        width: 직사각형의 가로 길이. 기본값은 0.\n",
        "        height: 직사각형의 세로 길이. 기본값은 0.\n",
        "        \"\"\"\n",
        "        self.x = x\n",
        "        self.y = y\n",
        "        self.width= width\n",
        "        self.height= height \n",
        "\n",
        "    def area(self):\n",
        "        \"\"\"직사각형의 넓이를 리턴하는 메서드\"\"\"\n",
        "        return self.width * self.height\n",
        "\n",
        "    def perimeter(self):\n",
        "        \"\"\"직사각형의 둘레길이를 리턴하는 메서드\"\"\"\n",
        "        return 2*(self.width + self.height)\n",
        "\n",
        "    def resize(self,dw=0,dh=0):\n",
        "        \"\"\"직사각형의 가로 길이를 dw만큼, 세로 길이는 dh만큼 변경하는 메서드.\n",
        "        dw와 dh의 기본값은 0.\n",
        "        \"\"\"\n",
        "        self.width += dw\n",
        "        self.height += dh\n",
        "\n",
        "    def center(self):\n",
        "        \"\"\"직사각형의 중심의 좌표를 리턴하는 메서드\"\"\"\n",
        "        center_x=self.x+self.width /2\n",
        "        center_y=self.y+self.height/2\n",
        "        return center_x,center_y"
      ],
      "execution_count": 16,
      "outputs": []
    },
    {
      "cell_type": "code",
      "metadata": {
        "colab": {
          "base_uri": "https://localhost:8080/"
        },
        "id": "_br5ix-xkLJ3",
        "outputId": "769a2d94-e0a6-450c-9e35-e7eae27385b8"
      },
      "source": [
        "# (0,0) 에 꼭지점이 있고, 가로길이가 2, 세로길이가 3인 직사각형 생성\n",
        "rect1 = Rectangle(width=2,height=3)\n",
        "print(rect1)\n",
        "print(f'Rectangle(x={rect1.x},y={rect1.y},w={rect1.width},h={rect1.height})')"
      ],
      "execution_count": 17,
      "outputs": [
        {
          "output_type": "stream",
          "text": [
            "<__main__.Rectangle object at 0x7f04580f4910>\n",
            "Rectangle(x=0,y=0,w=2,h=3)\n"
          ],
          "name": "stdout"
        }
      ]
    },
    {
      "cell_type": "code",
      "metadata": {
        "colab": {
          "base_uri": "https://localhost:8080/"
        },
        "id": "Jms5UFQ_mnnu",
        "outputId": "8234891d-9e92-4be4-fe05-462151c408d3"
      },
      "source": [
        "#rect1의 넓이\n",
        "rect1.area()"
      ],
      "execution_count": 18,
      "outputs": [
        {
          "output_type": "execute_result",
          "data": {
            "text/plain": [
              "6"
            ]
          },
          "metadata": {
            "tags": []
          },
          "execution_count": 18
        }
      ]
    },
    {
      "cell_type": "code",
      "metadata": {
        "colab": {
          "base_uri": "https://localhost:8080/"
        },
        "id": "NUepS3D_nu61",
        "outputId": "253028e1-740c-4cf6-c6cf-2286ff1735b6"
      },
      "source": [
        "#rect1의 둘레길이\n",
        "rect1.perimeter()"
      ],
      "execution_count": 19,
      "outputs": [
        {
          "output_type": "execute_result",
          "data": {
            "text/plain": [
              "10"
            ]
          },
          "metadata": {
            "tags": []
          },
          "execution_count": 19
        }
      ]
    },
    {
      "cell_type": "code",
      "metadata": {
        "colab": {
          "base_uri": "https://localhost:8080/"
        },
        "id": "spybBQ-DnznN",
        "outputId": "a847cfd5-97f4-4647-f147-d72f07a201d7"
      },
      "source": [
        "#rect1의 중심의 좌표\n",
        "rect1.center()"
      ],
      "execution_count": 20,
      "outputs": [
        {
          "output_type": "execute_result",
          "data": {
            "text/plain": [
              "(1.0, 1.5)"
            ]
          },
          "metadata": {
            "tags": []
          },
          "execution_count": 20
        }
      ]
    },
    {
      "cell_type": "code",
      "metadata": {
        "colab": {
          "base_uri": "https://localhost:8080/"
        },
        "id": "o2vlPPu2oxwc",
        "outputId": "acbe9fa7-2d20-43ff-cdc8-f9ce1230ab89"
      },
      "source": [
        "#rect1의 가로 길이 4만큼 증가\n",
        "rect1.resize(dw=4)\n",
        "print(f'Rectangle(x={rect1.x},y={rect1.y},w={rect1.width},h={rect1.height}')\n",
        "# 가로 길이 변경 후 넓이\n",
        "rect1.area()"
      ],
      "execution_count": 22,
      "outputs": [
        {
          "output_type": "stream",
          "text": [
            "Rectangle(x=0,y=0,w=10,h=3\n"
          ],
          "name": "stdout"
        },
        {
          "output_type": "execute_result",
          "data": {
            "text/plain": [
              "30"
            ]
          },
          "metadata": {
            "tags": []
          },
          "execution_count": 22
        }
      ]
    },
    {
      "cell_type": "markdown",
      "metadata": {
        "id": "CdVEChwAuHWk"
      },
      "source": [
        "# magic method"
      ]
    },
    {
      "cell_type": "code",
      "metadata": {
        "colab": {
          "base_uri": "https://localhost:8080/"
        },
        "id": "4LCx_9aPuH8o",
        "outputId": "cd8af82c-f3fb-4eb7-ebb7-ecc88a7ec15f"
      },
      "source": [
        "numbers = [1,2,3] # 클래스 list의 객체(인스턴스) 생성\n",
        "print(numbers) "
      ],
      "execution_count": 23,
      "outputs": [
        {
          "output_type": "stream",
          "text": [
            "[1, 2, 3]\n"
          ],
          "name": "stdout"
        }
      ]
    },
    {
      "cell_type": "code",
      "metadata": {
        "colab": {
          "base_uri": "https://localhost:8080/"
        },
        "id": "LMZTqW6DvtH_",
        "outputId": "bf2edd4e-e3a8-409d-c83d-3ccc23106963"
      },
      "source": [
        "dir(numbers) #numbers 객체의 속성, 매서드들을 나열하는 함수"
      ],
      "execution_count": 25,
      "outputs": [
        {
          "output_type": "execute_result",
          "data": {
            "text/plain": [
              "['__add__',\n",
              " '__class__',\n",
              " '__contains__',\n",
              " '__delattr__',\n",
              " '__delitem__',\n",
              " '__dir__',\n",
              " '__doc__',\n",
              " '__eq__',\n",
              " '__format__',\n",
              " '__ge__',\n",
              " '__getattribute__',\n",
              " '__getitem__',\n",
              " '__gt__',\n",
              " '__hash__',\n",
              " '__iadd__',\n",
              " '__imul__',\n",
              " '__init__',\n",
              " '__init_subclass__',\n",
              " '__iter__',\n",
              " '__le__',\n",
              " '__len__',\n",
              " '__lt__',\n",
              " '__mul__',\n",
              " '__ne__',\n",
              " '__new__',\n",
              " '__reduce__',\n",
              " '__reduce_ex__',\n",
              " '__repr__',\n",
              " '__reversed__',\n",
              " '__rmul__',\n",
              " '__setattr__',\n",
              " '__setitem__',\n",
              " '__sizeof__',\n",
              " '__str__',\n",
              " '__subclasshook__',\n",
              " 'append',\n",
              " 'clear',\n",
              " 'copy',\n",
              " 'count',\n",
              " 'extend',\n",
              " 'index',\n",
              " 'insert',\n",
              " 'pop',\n",
              " 'remove',\n",
              " 'reverse',\n",
              " 'sort']"
            ]
          },
          "metadata": {
            "tags": []
          },
          "execution_count": 25
        }
      ]
    },
    {
      "cell_type": "code",
      "metadata": {
        "colab": {
          "base_uri": "https://localhost:8080/"
        },
        "id": "q-B2i-a2u9Jb",
        "outputId": "ef5100d1-df5a-42c7-ab27-b52790cb378b"
      },
      "source": [
        "num_tuple= tuple([1,2,3]) # 클래스 tuple의 인스턴스 생성\n",
        "print(num_tuple) # num_tuple\n",
        "num_tuple"
      ],
      "execution_count": 58,
      "outputs": [
        {
          "output_type": "stream",
          "text": [
            "(1, 2, 3)\n"
          ],
          "name": "stdout"
        },
        {
          "output_type": "execute_result",
          "data": {
            "text/plain": [
              "(1, 2, 3)"
            ]
          },
          "metadata": {
            "tags": []
          },
          "execution_count": 58
        }
      ]
    },
    {
      "cell_type": "code",
      "metadata": {
        "id": "Csdwu6hfw7Ri"
      },
      "source": [
        "class Myclass:\n",
        "  \n",
        "  # 생성자를 호출하면 자동으로 호출되는 매서드\n",
        "  def __init__(self):\n",
        "    print('Myclass 객체 생성')\n",
        "\n",
        "  # print함수가 호출하는 매서드 : 파라미터는 없음. 리턴 값은 문자열.\n",
        "  def __str__(self):\n",
        "    return 'MyClass 객체'\n",
        "  \n",
        "  # expression을 자동으로 출력할 때 호출되는 메서드\n",
        "  # print 함수가 __str__함수를 호출하지 못했을 때 자동으로 호출되는 매서드.\n",
        "  def __repr__(self):\n",
        "    return 'MyClass 인스턴스'\n"
      ],
      "execution_count": 53,
      "outputs": []
    },
    {
      "cell_type": "code",
      "metadata": {
        "colab": {
          "base_uri": "https://localhost:8080/"
        },
        "id": "Hxv0gMajxJ9h",
        "outputId": "0891566d-0a75-40a3-ac0e-442efa1fe1b6"
      },
      "source": [
        "my_cls= Myclass() # Myclass 클래스 생성자 호출-> 인스턴스 생성"
      ],
      "execution_count": 55,
      "outputs": [
        {
          "output_type": "stream",
          "text": [
            "Myclass 객체 생성\n"
          ],
          "name": "stdout"
        }
      ]
    },
    {
      "cell_type": "code",
      "metadata": {
        "colab": {
          "base_uri": "https://localhost:8080/"
        },
        "id": "KKZ92puVxTDq",
        "outputId": "de005273-3c89-40a7-db1f-803f7b10b3f3"
      },
      "source": [
        "print(my_cls)"
      ],
      "execution_count": 56,
      "outputs": [
        {
          "output_type": "stream",
          "text": [
            "MyClass 객체\n"
          ],
          "name": "stdout"
        }
      ]
    },
    {
      "cell_type": "code",
      "metadata": {
        "colab": {
          "base_uri": "https://localhost:8080/"
        },
        "id": "0E5sYzFWygLL",
        "outputId": "aa720805-ba01-4432-e46e-d7059c40a319"
      },
      "source": [
        "my_cls # 식(expression)"
      ],
      "execution_count": 57,
      "outputs": [
        {
          "output_type": "execute_result",
          "data": {
            "text/plain": [
              "MyClass 인스턴스"
            ]
          },
          "metadata": {
            "tags": []
          },
          "execution_count": 57
        }
      ]
    },
    {
      "cell_type": "code",
      "metadata": {
        "colab": {
          "base_uri": "https://localhost:8080/"
        },
        "id": "IdDqvfJW1v6a",
        "outputId": "79d6ccf6-094e-459f-8b21-e47df602c335"
      },
      "source": [
        "id(my_cls) # 객체가 생성된 주소를 리턴"
      ],
      "execution_count": 59,
      "outputs": [
        {
          "output_type": "execute_result",
          "data": {
            "text/plain": [
              "139656566333584"
            ]
          },
          "metadata": {
            "tags": []
          },
          "execution_count": 59
        }
      ]
    },
    {
      "cell_type": "code",
      "metadata": {
        "id": "yg4fPGVv7uf4"
      },
      "source": [
        "class Mypoint:\n",
        "  def __init__(self,x=0,y=0):\n",
        "    self.x= x\n",
        "    self.y= y\n",
        "\n",
        "  def __repr__(self):\n",
        "      return f'({self.x},{self.y})'  "
      ],
      "execution_count": 65,
      "outputs": []
    },
    {
      "cell_type": "code",
      "metadata": {
        "colab": {
          "base_uri": "https://localhost:8080/"
        },
        "id": "zZdvHkzf8FBJ",
        "outputId": "7606a7d8-e58f-42ae-a6d0-4f56b6851b06"
      },
      "source": [
        "my_pt=Mypoint()\n",
        "print(my_pt) #statement(문장)\n",
        "#> print함수 my_pt 객체의 __str__매서드를 호출하려고 시도.\n",
        "#> __str__매서드가 없으면 대신 __repr__매서드를 호출\n",
        "my_pt # expression(식)"
      ],
      "execution_count": 66,
      "outputs": [
        {
          "output_type": "stream",
          "text": [
            "(0,0)\n"
          ],
          "name": "stdout"
        },
        {
          "output_type": "execute_result",
          "data": {
            "text/plain": [
              "(0,0)"
            ]
          },
          "metadata": {
            "tags": []
          },
          "execution_count": 66
        }
      ]
    }
  ]
}