{
  "nbformat": 4,
  "nbformat_minor": 0,
  "metadata": {
    "colab": {
      "name": "py20_class.ipynb",
      "provenance": [],
      "collapsed_sections": [],
      "include_colab_link": true
    },
    "kernelspec": {
      "name": "python3",
      "display_name": "Python 3"
    },
    "language_info": {
      "name": "python"
    }
  },
  "cells": [
    {
      "cell_type": "markdown",
      "metadata": {
        "id": "view-in-github",
        "colab_type": "text"
      },
      "source": [
        "<a href=\"https://colab.research.google.com/github/sangjin94/SQL_ITWILL/blob/main/py20_class.ipynb\" target=\"_parent\"><img src=\"https://colab.research.google.com/assets/colab-badge.svg\" alt=\"Open In Colab\"/></a>"
      ]
    },
    {
      "cell_type": "code",
      "metadata": {
        "id": "epGWtyPYp0NR"
      },
      "source": [
        "import math  # math.sqrt() 함수를 사용하기 위해서"
      ],
      "execution_count": null,
      "outputs": []
    },
    {
      "cell_type": "code",
      "metadata": {
        "id": "AwYowxtoqEpV"
      },
      "source": [
        "# class 선언(정의)\n",
        "class Point:\n",
        "    \"\"\"2차원 평면의 점의 좌표를 표현하는 클래스\"\"\"\n",
        "\n",
        "    def __init__(self, x=0, y=0):\n",
        "        # 인스턴스의 속성들을 초기화\n",
        "        self.x = x\n",
        "        self.y = y\n",
        "\n",
        "    def move(self, dx, dy):\n",
        "        \"\"\"점의 좌표를 원래 위치에서 x축의 방향으로 dx만큼, y축의 방향으로 dy만큼 이동시키는 메서드\"\"\"\n",
        "        self.x += dx  # self.x = self.x + dx\n",
        "        self.y += dy\n",
        "\n",
        "    def distance_to(self, other):\n",
        "        \"\"\"다른 Point 객체 other까지의 거리를 반환하는 메서드\n",
        "        두 점 (x1, y1)과 (x2, y2) 사이의 거리 d = sqrt((x1 - x2)**2 + (y1 - y2)**2)\n",
        "        \"\"\"\n",
        "        d = math.sqrt((self.x - other.x)**2 + (self.y - other.y)**2)\n",
        "        return d"
      ],
      "execution_count": null,
      "outputs": []
    },
    {
      "cell_type": "code",
      "metadata": {
        "colab": {
          "base_uri": "https://localhost:8080/"
        },
        "id": "Om-KoFhgs_te",
        "outputId": "7f8a1ec3-8f64-459c-dbad-c7e361a02109"
      },
      "source": [
        "# class 객체 생성\n",
        "pt1 = Point()  # __init__ 메서드의 default argument가 사용됨.\n",
        "print(pt1)\n",
        "print(f'(x={pt1.x}, y={pt1.y})')  # pt1.x, pt1.y: 인스턴스 속성 참조"
      ],
      "execution_count": null,
      "outputs": [
        {
          "output_type": "stream",
          "text": [
            "<__main__.Point object at 0x7f613636ce50>\n",
            "(x=0, y=0)\n"
          ],
          "name": "stdout"
        }
      ]
    },
    {
      "cell_type": "code",
      "metadata": {
        "colab": {
          "base_uri": "https://localhost:8080/"
        },
        "id": "Nkwcdz022uKC",
        "outputId": "835d50a6-7d95-4324-9de2-6e5559fc7b4e"
      },
      "source": [
        "# pt1을 x축으로 2만큼, y축으로 3만큼 이동\n",
        "pt1.move(dx=2, dy=3)\n",
        "# 이동 후 점의 좌표 출력\n",
        "print(f'(x={pt1.x}, y={pt1.y})')"
      ],
      "execution_count": null,
      "outputs": [
        {
          "output_type": "stream",
          "text": [
            "(x=2, y=3)\n"
          ],
          "name": "stdout"
        }
      ]
    },
    {
      "cell_type": "code",
      "metadata": {
        "colab": {
          "base_uri": "https://localhost:8080/"
        },
        "id": "1s_cA6AvvNC9",
        "outputId": "98caf697-1eb9-4978-d82f-7247943a0d2d"
      },
      "source": [
        "pt2 = Point(1, 1)  # 생성자 호출(positional argument)\n",
        "print(pt2)\n",
        "print(f'(x={pt2.x}, y={pt2.y})')"
      ],
      "execution_count": null,
      "outputs": [
        {
          "output_type": "stream",
          "text": [
            "<__main__.Point object at 0x7f6136425950>\n",
            "(x=1, y=1)\n"
          ],
          "name": "stdout"
        }
      ]
    },
    {
      "cell_type": "code",
      "metadata": {
        "colab": {
          "base_uri": "https://localhost:8080/"
        },
        "id": "ZZBE_6k95hbK",
        "outputId": "f68bc816-fd45-40a3-8885-4bbfb816e1d3"
      },
      "source": [
        "# pt2를 x축의 방향으로 1만큼, y축의 방향으로 -2만큼 이동\n",
        "pt2.move(dx=1, dy=-2)\n",
        "# 이동 후 점의 좌표\n",
        "print(f'(x={pt2.x}, y={pt2.y})')"
      ],
      "execution_count": null,
      "outputs": [
        {
          "output_type": "stream",
          "text": [
            "(x=2, y=-1)\n"
          ],
          "name": "stdout"
        }
      ]
    },
    {
      "cell_type": "code",
      "metadata": {
        "colab": {
          "base_uri": "https://localhost:8080/"
        },
        "id": "HAfF9Byf-6ES",
        "outputId": "a9573218-fd57-4ed0-a2f2-9737396749fa"
      },
      "source": [
        "# pt1에서 pt2까지의 거리\n",
        "dist = pt1.distance_to(pt2)\n",
        "print(dist)"
      ],
      "execution_count": null,
      "outputs": [
        {
          "output_type": "stream",
          "text": [
            "4.0\n"
          ],
          "name": "stdout"
        }
      ]
    },
    {
      "cell_type": "code",
      "metadata": {
        "id": "mpMkECdxTpio"
      },
      "source": [
        "class Rectangle:\n",
        "    \"\"\"2차원 평면에서 직사각형을 표현하는 클래스\"\"\"\n",
        "\n",
        "    def __init__(self, x, y, width, height):\n",
        "        \"\"\"직사각형 객체의 속성들을 초기화.\n",
        "        x, y: 직사각형의 꼭지점의 x/y 좌표. 기본값은 0.\n",
        "        width: 직사각형의 가로 길이. 기본값은 0.\n",
        "        height: 직사각형의 세로 길이. 기본값은 0.\n",
        "        \"\"\"\n",
        "        pass\n",
        "\n",
        "    def area(self):\n",
        "        \"\"\"직사각형의 넓이를 리턴하는 메서드\"\"\"\n",
        "        pass\n",
        "\n",
        "    def perimeter(self):\n",
        "        \"\"\"직사각형의 둘레길이를 리턴하는 메서드\"\"\"\n",
        "        pass\n",
        "\n",
        "    def resize(self):\n",
        "        \"\"\"직사각형의 가로 길이를 dw만큼, 세로 길이는 dh만큼 변경하는 메서드.\n",
        "        dw와 dh의 기본값은 0.\n",
        "        \"\"\"\n",
        "        pass\n",
        "\n",
        "    def center(self):\n",
        "        \"\"\"직사각형의 중심의 좌표를 리턴하는 메서드\"\"\"\n",
        "        pass"
      ],
      "execution_count": null,
      "outputs": []
    }
  ]
}