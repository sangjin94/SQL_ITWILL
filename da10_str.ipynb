{
  "nbformat": 4,
  "nbformat_minor": 0,
  "metadata": {
    "colab": {
      "name": "da10_str.ipynb",
      "provenance": [],
      "collapsed_sections": [],
      "authorship_tag": "ABX9TyND3iaAPFyLDL4g7V0wE2co",
      "include_colab_link": true
    },
    "kernelspec": {
      "name": "python3",
      "display_name": "Python 3"
    },
    "language_info": {
      "name": "python"
    }
  },
  "cells": [
    {
      "cell_type": "markdown",
      "metadata": {
        "id": "view-in-github",
        "colab_type": "text"
      },
      "source": [
        "<a href=\"https://colab.research.google.com/github/sangjin94/SQL_ITWILL/blob/main/da10_str.ipynb\" target=\"_parent\"><img src=\"https://colab.research.google.com/assets/colab-badge.svg\" alt=\"Open In Colab\"/></a>"
      ]
    },
    {
      "cell_type": "code",
      "metadata": {
        "id": "4U7K2I2ovUgi"
      },
      "source": [
        "import pandas as pd\n",
        "import seaborn as sns\n",
        "import numpy as np\n",
        "import matplotlib.pyplot as plt"
      ],
      "execution_count": 2,
      "outputs": []
    },
    {
      "cell_type": "markdown",
      "metadata": {
        "id": "1XTWIpLtu4vb"
      },
      "source": [
        "DataFrame의 문자열 컬럼 다루기"
      ]
    },
    {
      "cell_type": "code",
      "metadata": {
        "id": "8TTu-Zpju4XQ"
      },
      "source": [
        "file_path='https://github.com/wesm/pydata-book/raw/2nd-edition/datasets/movielens/movies.dat'"
      ],
      "execution_count": 3,
      "outputs": []
    },
    {
      "cell_type": "markdown",
      "metadata": {
        "id": "lpKAZj1xvcKV"
      },
      "source": [
        "* pd.read_csv 함수를 사용해서 movies.dat 파일을 읽고 DataFrame 생성\n",
        "* 데이터프레임 정보,head,...\n",
        "* 장르가 'Animation'인 영화는 몇 개?\n",
        "* 장르가 로맨틱 코미디인 영화(Ramance & Comedy) 영화는 몇 개?\n",
        "* 연도별 영화 개봉 숫자, 시각화"
      ]
    },
    {
      "cell_type": "code",
      "metadata": {
        "id": "eJvSAUxSu18J"
      },
      "source": [
        "mv=pd.read_csv(file_path,\n",
        "               sep='::', # sep=구분자(seperator) 값들을 구분하기 위해 사용된 문자열\n",
        "               encoding='cp1252', # encoding= 파일의 문자열 저장 방식.\n",
        "               header=None,\n",
        "               engine='python',   # RarserWarning을 제거하기 위해서\n",
        "               names=['moive_id','title','genres']) # names= 컬럼 이름으로 사용할 리스트"
      ],
      "execution_count": 4,
      "outputs": []
    },
    {
      "cell_type": "markdown",
      "metadata": {
        "id": "2e3HZ1U2OV-0"
      },
      "source": [
        "* seperator\n",
        "  * `','`: 쉼표\n",
        "  * `'\\t'`: 탭 문자\n",
        "  * `r'\\s+'`: 한글자 이상의 공백을 의미하는 정규 표현식(regular expression)\n",
        "\n",
        "* encoding\n",
        "  * `utf-8`: Linux,MacOS,Unix OS에서 사용되는 기본 문자열 저장 방식\n",
        "  * `cp949`: 한글 MS Windows에서 기본으로 사용되는 문자열 저장 방식.\n",
        "  * `cp1252`: 영문 MS Window에서 기본으로 사용되는 문자열 저장 방식."
      ]
    },
    {
      "cell_type": "code",
      "metadata": {
        "colab": {
          "base_uri": "https://localhost:8080/"
        },
        "id": "xFqfpndz4Mnq",
        "outputId": "18be7921-3e5a-4309-9197-350b3208168a"
      },
      "source": [
        "mv.info()"
      ],
      "execution_count": 5,
      "outputs": [
        {
          "output_type": "stream",
          "text": [
            "<class 'pandas.core.frame.DataFrame'>\n",
            "RangeIndex: 3883 entries, 0 to 3882\n",
            "Data columns (total 3 columns):\n",
            " #   Column    Non-Null Count  Dtype \n",
            "---  ------    --------------  ----- \n",
            " 0   moive_id  3883 non-null   int64 \n",
            " 1   title     3883 non-null   object\n",
            " 2   genres    3883 non-null   object\n",
            "dtypes: int64(1), object(2)\n",
            "memory usage: 91.1+ KB\n"
          ],
          "name": "stdout"
        }
      ]
    },
    {
      "cell_type": "code",
      "metadata": {
        "colab": {
          "base_uri": "https://localhost:8080/",
          "height": 204
        },
        "id": "ML-1z5o94QMm",
        "outputId": "6b6ffbcc-2d8e-4696-9cc8-3e031316b299"
      },
      "source": [
        "mv.head()"
      ],
      "execution_count": 6,
      "outputs": [
        {
          "output_type": "execute_result",
          "data": {
            "text/html": [
              "<div>\n",
              "<style scoped>\n",
              "    .dataframe tbody tr th:only-of-type {\n",
              "        vertical-align: middle;\n",
              "    }\n",
              "\n",
              "    .dataframe tbody tr th {\n",
              "        vertical-align: top;\n",
              "    }\n",
              "\n",
              "    .dataframe thead th {\n",
              "        text-align: right;\n",
              "    }\n",
              "</style>\n",
              "<table border=\"1\" class=\"dataframe\">\n",
              "  <thead>\n",
              "    <tr style=\"text-align: right;\">\n",
              "      <th></th>\n",
              "      <th>moive_id</th>\n",
              "      <th>title</th>\n",
              "      <th>genres</th>\n",
              "    </tr>\n",
              "  </thead>\n",
              "  <tbody>\n",
              "    <tr>\n",
              "      <th>0</th>\n",
              "      <td>1</td>\n",
              "      <td>Toy Story (1995)</td>\n",
              "      <td>Animation|Children's|Comedy</td>\n",
              "    </tr>\n",
              "    <tr>\n",
              "      <th>1</th>\n",
              "      <td>2</td>\n",
              "      <td>Jumanji (1995)</td>\n",
              "      <td>Adventure|Children's|Fantasy</td>\n",
              "    </tr>\n",
              "    <tr>\n",
              "      <th>2</th>\n",
              "      <td>3</td>\n",
              "      <td>Grumpier Old Men (1995)</td>\n",
              "      <td>Comedy|Romance</td>\n",
              "    </tr>\n",
              "    <tr>\n",
              "      <th>3</th>\n",
              "      <td>4</td>\n",
              "      <td>Waiting to Exhale (1995)</td>\n",
              "      <td>Comedy|Drama</td>\n",
              "    </tr>\n",
              "    <tr>\n",
              "      <th>4</th>\n",
              "      <td>5</td>\n",
              "      <td>Father of the Bride Part II (1995)</td>\n",
              "      <td>Comedy</td>\n",
              "    </tr>\n",
              "  </tbody>\n",
              "</table>\n",
              "</div>"
            ],
            "text/plain": [
              "   moive_id                               title                        genres\n",
              "0         1                    Toy Story (1995)   Animation|Children's|Comedy\n",
              "1         2                      Jumanji (1995)  Adventure|Children's|Fantasy\n",
              "2         3             Grumpier Old Men (1995)                Comedy|Romance\n",
              "3         4            Waiting to Exhale (1995)                  Comedy|Drama\n",
              "4         5  Father of the Bride Part II (1995)                        Comedy"
            ]
          },
          "metadata": {
            "tags": []
          },
          "execution_count": 6
        }
      ]
    },
    {
      "cell_type": "code",
      "metadata": {
        "colab": {
          "base_uri": "https://localhost:8080/",
          "height": 204
        },
        "id": "KyiZ6yuS4Rx4",
        "outputId": "c2548dfa-ff0e-4ddd-8924-5b168434f0bb"
      },
      "source": [
        "mv.tail()"
      ],
      "execution_count": 7,
      "outputs": [
        {
          "output_type": "execute_result",
          "data": {
            "text/html": [
              "<div>\n",
              "<style scoped>\n",
              "    .dataframe tbody tr th:only-of-type {\n",
              "        vertical-align: middle;\n",
              "    }\n",
              "\n",
              "    .dataframe tbody tr th {\n",
              "        vertical-align: top;\n",
              "    }\n",
              "\n",
              "    .dataframe thead th {\n",
              "        text-align: right;\n",
              "    }\n",
              "</style>\n",
              "<table border=\"1\" class=\"dataframe\">\n",
              "  <thead>\n",
              "    <tr style=\"text-align: right;\">\n",
              "      <th></th>\n",
              "      <th>moive_id</th>\n",
              "      <th>title</th>\n",
              "      <th>genres</th>\n",
              "    </tr>\n",
              "  </thead>\n",
              "  <tbody>\n",
              "    <tr>\n",
              "      <th>3878</th>\n",
              "      <td>3948</td>\n",
              "      <td>Meet the Parents (2000)</td>\n",
              "      <td>Comedy</td>\n",
              "    </tr>\n",
              "    <tr>\n",
              "      <th>3879</th>\n",
              "      <td>3949</td>\n",
              "      <td>Requiem for a Dream (2000)</td>\n",
              "      <td>Drama</td>\n",
              "    </tr>\n",
              "    <tr>\n",
              "      <th>3880</th>\n",
              "      <td>3950</td>\n",
              "      <td>Tigerland (2000)</td>\n",
              "      <td>Drama</td>\n",
              "    </tr>\n",
              "    <tr>\n",
              "      <th>3881</th>\n",
              "      <td>3951</td>\n",
              "      <td>Two Family House (2000)</td>\n",
              "      <td>Drama</td>\n",
              "    </tr>\n",
              "    <tr>\n",
              "      <th>3882</th>\n",
              "      <td>3952</td>\n",
              "      <td>Contender, The (2000)</td>\n",
              "      <td>Drama|Thriller</td>\n",
              "    </tr>\n",
              "  </tbody>\n",
              "</table>\n",
              "</div>"
            ],
            "text/plain": [
              "      moive_id                       title          genres\n",
              "3878      3948     Meet the Parents (2000)          Comedy\n",
              "3879      3949  Requiem for a Dream (2000)           Drama\n",
              "3880      3950            Tigerland (2000)           Drama\n",
              "3881      3951     Two Family House (2000)           Drama\n",
              "3882      3952       Contender, The (2000)  Drama|Thriller"
            ]
          },
          "metadata": {
            "tags": []
          },
          "execution_count": 7
        }
      ]
    },
    {
      "cell_type": "code",
      "metadata": {
        "colab": {
          "base_uri": "https://localhost:8080/"
        },
        "id": "IGQhlZcK6oir",
        "outputId": "165d8d56-aaf7-49db-cca7-df0328f00b5d"
      },
      "source": [
        "# Animation 장르의 영화들 - genres 컬럼의 문자열이 'Animation`을 포함\n",
        "st=mv['genres'].str.contains('Animation')\n",
        "len(mv[st])"
      ],
      "execution_count": 19,
      "outputs": [
        {
          "output_type": "execute_result",
          "data": {
            "text/plain": [
              "105"
            ]
          },
          "metadata": {
            "tags": []
          },
          "execution_count": 19
        }
      ]
    },
    {
      "cell_type": "code",
      "metadata": {
        "colab": {
          "base_uri": "https://localhost:8080/",
          "height": 420
        },
        "id": "-8rHZ10VDl8G",
        "outputId": "c41fc8f1-691b-45e6-ea81-b94da802c6e9"
      },
      "source": [
        "# 장르가 로맨틱 코미디인 영화(Ramance & Comedy) 영화는 몇 개?\n",
        "st=mv['genres'].str.contains('Romance')\n",
        "st2=mv[st]\n",
        "st2[st2['genres'].str.contains('Comedy')]"
      ],
      "execution_count": 9,
      "outputs": [
        {
          "output_type": "execute_result",
          "data": {
            "text/html": [
              "<div>\n",
              "<style scoped>\n",
              "    .dataframe tbody tr th:only-of-type {\n",
              "        vertical-align: middle;\n",
              "    }\n",
              "\n",
              "    .dataframe tbody tr th {\n",
              "        vertical-align: top;\n",
              "    }\n",
              "\n",
              "    .dataframe thead th {\n",
              "        text-align: right;\n",
              "    }\n",
              "</style>\n",
              "<table border=\"1\" class=\"dataframe\">\n",
              "  <thead>\n",
              "    <tr style=\"text-align: right;\">\n",
              "      <th></th>\n",
              "      <th>moive_id</th>\n",
              "      <th>title</th>\n",
              "      <th>genres</th>\n",
              "    </tr>\n",
              "  </thead>\n",
              "  <tbody>\n",
              "    <tr>\n",
              "      <th>2</th>\n",
              "      <td>3</td>\n",
              "      <td>Grumpier Old Men (1995)</td>\n",
              "      <td>Comedy|Romance</td>\n",
              "    </tr>\n",
              "    <tr>\n",
              "      <th>6</th>\n",
              "      <td>7</td>\n",
              "      <td>Sabrina (1995)</td>\n",
              "      <td>Comedy|Romance</td>\n",
              "    </tr>\n",
              "    <tr>\n",
              "      <th>10</th>\n",
              "      <td>11</td>\n",
              "      <td>American President, The (1995)</td>\n",
              "      <td>Comedy|Drama|Romance</td>\n",
              "    </tr>\n",
              "    <tr>\n",
              "      <th>38</th>\n",
              "      <td>39</td>\n",
              "      <td>Clueless (1995)</td>\n",
              "      <td>Comedy|Romance</td>\n",
              "    </tr>\n",
              "    <tr>\n",
              "      <th>63</th>\n",
              "      <td>64</td>\n",
              "      <td>Two if by Sea (1996)</td>\n",
              "      <td>Comedy|Romance</td>\n",
              "    </tr>\n",
              "    <tr>\n",
              "      <th>...</th>\n",
              "      <td>...</td>\n",
              "      <td>...</td>\n",
              "      <td>...</td>\n",
              "    </tr>\n",
              "    <tr>\n",
              "      <th>3679</th>\n",
              "      <td>3748</td>\n",
              "      <td>Match, The (1999)</td>\n",
              "      <td>Comedy|Romance</td>\n",
              "    </tr>\n",
              "    <tr>\n",
              "      <th>3759</th>\n",
              "      <td>3829</td>\n",
              "      <td>Mad About Mambo (2000)</td>\n",
              "      <td>Comedy|Romance</td>\n",
              "    </tr>\n",
              "    <tr>\n",
              "      <th>3804</th>\n",
              "      <td>3874</td>\n",
              "      <td>Couch in New York, A (1996)</td>\n",
              "      <td>Comedy|Romance</td>\n",
              "    </tr>\n",
              "    <tr>\n",
              "      <th>3815</th>\n",
              "      <td>3885</td>\n",
              "      <td>Love &amp; Sex (2000)</td>\n",
              "      <td>Comedy|Romance</td>\n",
              "    </tr>\n",
              "    <tr>\n",
              "      <th>3839</th>\n",
              "      <td>3909</td>\n",
              "      <td>Woman on Top (2000)</td>\n",
              "      <td>Comedy|Romance</td>\n",
              "    </tr>\n",
              "  </tbody>\n",
              "</table>\n",
              "<p>204 rows × 3 columns</p>\n",
              "</div>"
            ],
            "text/plain": [
              "      moive_id                           title                genres\n",
              "2            3         Grumpier Old Men (1995)        Comedy|Romance\n",
              "6            7                  Sabrina (1995)        Comedy|Romance\n",
              "10          11  American President, The (1995)  Comedy|Drama|Romance\n",
              "38          39                 Clueless (1995)        Comedy|Romance\n",
              "63          64            Two if by Sea (1996)        Comedy|Romance\n",
              "...        ...                             ...                   ...\n",
              "3679      3748               Match, The (1999)        Comedy|Romance\n",
              "3759      3829          Mad About Mambo (2000)        Comedy|Romance\n",
              "3804      3874     Couch in New York, A (1996)        Comedy|Romance\n",
              "3815      3885               Love & Sex (2000)        Comedy|Romance\n",
              "3839      3909             Woman on Top (2000)        Comedy|Romance\n",
              "\n",
              "[204 rows x 3 columns]"
            ]
          },
          "metadata": {
            "tags": []
          },
          "execution_count": 9
        }
      ]
    },
    {
      "cell_type": "code",
      "metadata": {
        "id": "pJWKxMoOSoTv"
      },
      "source": [
        ""
      ],
      "execution_count": 9,
      "outputs": []
    },
    {
      "cell_type": "code",
      "metadata": {
        "colab": {
          "base_uri": "https://localhost:8080/"
        },
        "id": "7uvADvw7ErPy",
        "outputId": "4b5282bb-a613-41bf-c36e-12b22dc43007"
      },
      "source": [
        "mv['title']"
      ],
      "execution_count": 10,
      "outputs": [
        {
          "output_type": "execute_result",
          "data": {
            "text/plain": [
              "0                         Toy Story (1995)\n",
              "1                           Jumanji (1995)\n",
              "2                  Grumpier Old Men (1995)\n",
              "3                 Waiting to Exhale (1995)\n",
              "4       Father of the Bride Part II (1995)\n",
              "                       ...                \n",
              "3878               Meet the Parents (2000)\n",
              "3879            Requiem for a Dream (2000)\n",
              "3880                      Tigerland (2000)\n",
              "3881               Two Family House (2000)\n",
              "3882                 Contender, The (2000)\n",
              "Name: title, Length: 3883, dtype: object"
            ]
          },
          "metadata": {
            "tags": []
          },
          "execution_count": 10
        }
      ]
    },
    {
      "cell_type": "code",
      "metadata": {
        "colab": {
          "base_uri": "https://localhost:8080/",
          "height": 35
        },
        "id": "Vkr3PV0RXxjs",
        "outputId": "75aba744-b4eb-4783-ba09-c8d86ede88c9"
      },
      "source": [
        "# 연도별 영화 개봉 숫자, 시각화\n",
        "t='Toy Story(1995)'\n",
        "t[-5:-1]"
      ],
      "execution_count": 11,
      "outputs": [
        {
          "output_type": "execute_result",
          "data": {
            "application/vnd.google.colaboratory.intrinsic+json": {
              "type": "string"
            },
            "text/plain": [
              "'1995'"
            ]
          },
          "metadata": {
            "tags": []
          },
          "execution_count": 11
        }
      ]
    },
    {
      "cell_type": "code",
      "metadata": {
        "colab": {
          "base_uri": "https://localhost:8080/"
        },
        "id": "fodCIeF6ZWfg",
        "outputId": "82dbad0c-cef2-4627-fefe-4fdff234b7d8"
      },
      "source": [
        "mv.title[-5:-1]\n",
        "#> movies 데이터 프레임의 title 컬럼 중에서 끝에서 5번째 부터 끝에서 1번째 전까지 선택\n",
        "#> mv.title.iloc[-5:-1]와 동일한 코드"
      ],
      "execution_count": 12,
      "outputs": [
        {
          "output_type": "execute_result",
          "data": {
            "text/plain": [
              "3878       Meet the Parents (2000)\n",
              "3879    Requiem for a Dream (2000)\n",
              "3880              Tigerland (2000)\n",
              "3881       Two Family House (2000)\n",
              "Name: title, dtype: object"
            ]
          },
          "metadata": {
            "tags": []
          },
          "execution_count": 12
        }
      ]
    },
    {
      "cell_type": "code",
      "metadata": {
        "colab": {
          "base_uri": "https://localhost:8080/"
        },
        "id": "rDvQy1DKZjjE",
        "outputId": "0d555d2b-ebcb-46b6-94f5-3eacdda1278b"
      },
      "source": [
        "mv.title.str[-5:-1]\n",
        "#> movies 데이터 프레임의 title 컬럼의 문자열들을 각각 -5~-1 까지 slicing -> pd.Series"
      ],
      "execution_count": 13,
      "outputs": [
        {
          "output_type": "execute_result",
          "data": {
            "text/plain": [
              "0       1995\n",
              "1       1995\n",
              "2       1995\n",
              "3       1995\n",
              "4       1995\n",
              "        ... \n",
              "3878    2000\n",
              "3879    2000\n",
              "3880    2000\n",
              "3881    2000\n",
              "3882    2000\n",
              "Name: title, Length: 3883, dtype: object"
            ]
          },
          "metadata": {
            "tags": []
          },
          "execution_count": 13
        }
      ]
    },
    {
      "cell_type": "code",
      "metadata": {
        "colab": {
          "base_uri": "https://localhost:8080/"
        },
        "id": "bQ7enhmVZZca",
        "outputId": "e7bde04f-642d-4170-d80a-824d7c7aabb4"
      },
      "source": [
        "mv.title.str[-5:-1].astype('int')\n",
        "#> 문자열(Object)들을 원소로 갖는 Series를 정수(int)를 원소를 갖는 Series로 변환."
      ],
      "execution_count": 14,
      "outputs": [
        {
          "output_type": "execute_result",
          "data": {
            "text/plain": [
              "0       1995\n",
              "1       1995\n",
              "2       1995\n",
              "3       1995\n",
              "4       1995\n",
              "        ... \n",
              "3878    2000\n",
              "3879    2000\n",
              "3880    2000\n",
              "3881    2000\n",
              "3882    2000\n",
              "Name: title, Length: 3883, dtype: int64"
            ]
          },
          "metadata": {
            "tags": []
          },
          "execution_count": 14
        }
      ]
    },
    {
      "cell_type": "code",
      "metadata": {
        "id": "EEknHbHhbXBc"
      },
      "source": [
        "# movies 데이터프레임에 영화 개봉 연도(year) 컬럼(파생 변수)를 추가\n",
        "mv['year']=mv.title.str[-5:-1].astype(int)"
      ],
      "execution_count": 15,
      "outputs": []
    },
    {
      "cell_type": "code",
      "metadata": {
        "colab": {
          "base_uri": "https://localhost:8080/"
        },
        "id": "CED5xSJpb0mT",
        "outputId": "65023b97-7865-4cac-a303-9a4fd46fade5"
      },
      "source": [
        "mv.year.value_counts()"
      ],
      "execution_count": 16,
      "outputs": [
        {
          "output_type": "execute_result",
          "data": {
            "text/plain": [
              "1996    345\n",
              "1995    342\n",
              "1998    337\n",
              "1997    315\n",
              "1999    283\n",
              "       ... \n",
              "1923      3\n",
              "1929      3\n",
              "1922      2\n",
              "1920      2\n",
              "1921      1\n",
              "Name: year, Length: 81, dtype: int64"
            ]
          },
          "metadata": {
            "tags": []
          },
          "execution_count": 16
        }
      ]
    },
    {
      "cell_type": "code",
      "metadata": {
        "colab": {
          "base_uri": "https://localhost:8080/",
          "height": 265
        },
        "id": "dNmztl2UcCou",
        "outputId": "4af7b8b2-fdbc-47c0-dc68-09fda218d328"
      },
      "source": [
        "sns.barplot(x=mv.year.value_counts().index,y=mv.year.value_counts().values)\n",
        "plt.show()"
      ],
      "execution_count": 17,
      "outputs": [
        {
          "output_type": "display_data",
          "data": {
            "image/png": "[encoded data removed]",
            "text/plain": [
              "<Figure size 432x288 with 1 Axes>"
            ]
          },
          "metadata": {
            "tags": [],
            "needs_background": "light"
          }
        }
      ]
    },
    {
      "cell_type": "markdown",
      "metadata": {
        "id": "6RjuUdf_c3zL"
      },
      "source": [
        "`value_counts` 메서드의 결과는 값들의 내림차순으로 정렬되어 있음.\n",
        "인덱스가 정렬되어 있지 않기 때문에, 선들이 지그재그로 그려지게 됨. \n",
        "`value_counts`의 결과를 인덱스의 오름차순으로 정렬할 필요가 있음. "
      ]
    },
    {
      "cell_type": "markdown",
      "metadata": {
        "id": "0XtpFqC7zsCX"
      },
      "source": [
        "* movies 데이터프레임에 가장 자주 등장하는 장르 이름 상위 10개 찾고, 시각화"
      ]
    },
    {
      "cell_type": "code",
      "metadata": {
        "id": "kHDLubhadVnD"
      },
      "source": [
        "arr=['animation','drama','animation','comedy','drama','comedy','drama']"
      ],
      "execution_count": 25,
      "outputs": []
    },
    {
      "cell_type": "code",
      "metadata": {
        "colab": {
          "base_uri": "https://localhost:8080/"
        },
        "id": "b_-MHgCg4BLj",
        "outputId": "a0938bf9-263e-4640-b2cd-000bad228e16"
      },
      "source": [
        "#arr 원소를 key로 하고, 그 원소가 리스트에 나오는 횟수를 value로 하는 dict를 생성. \n",
        "arr_cnt={} # empty dict\n",
        "for x in arr: # 리스트에서 원소를 하나씩 꺼내면서 반복\n",
        "  if x in arr_cnt.keys():\n",
        "    arr_cnt[x] +=1  # 숫자를 1 증가\n",
        "  else: # 원소가 dict의 key로 존재하지 않으면, 처음 나오는 경우이므로\n",
        "    arr_cnt[x] = 1 \n",
        "\n",
        "print(arr_cnt)"
      ],
      "execution_count": 26,
      "outputs": [
        {
          "output_type": "stream",
          "text": [
            "{'animation': 2, 'drama': 3, 'comedy': 2}\n"
          ],
          "name": "stdout"
        }
      ]
    },
    {
      "cell_type": "code",
      "metadata": {
        "colab": {
          "base_uri": "https://localhost:8080/"
        },
        "id": "egRcCRPE8UeG",
        "outputId": "dbedc88e-9dbd-4c6f-8486-532143a11e82"
      },
      "source": [
        "arr_cnt.items() # (key,value) 튜플들의 리스트"
      ],
      "execution_count": 28,
      "outputs": [
        {
          "output_type": "execute_result",
          "data": {
            "text/plain": [
              "dict_items([('animation', 2), ('drama', 3), ('comedy', 2)])"
            ]
          },
          "metadata": {
            "tags": []
          },
          "execution_count": 28
        }
      ]
    },
    {
      "cell_type": "code",
      "metadata": {
        "colab": {
          "base_uri": "https://localhost:8080/"
        },
        "id": "bEjVbqXG6eYc",
        "outputId": "d7ab485c-b459-47ca-d207-c668a3f6554f"
      },
      "source": [
        "# dict를 value로 정렬: {'animation':2,'comedy':2,'drama':3}\n",
        "result=sorted(arr_cnt.items(),key= lambda x: x[1],reverse=True)\n",
        "print(result)\n",
        "result2=dict(result)\n",
        "print(result2)"
      ],
      "execution_count": 30,
      "outputs": [
        {
          "output_type": "stream",
          "text": [
            "[('drama', 3), ('animation', 2), ('comedy', 2)]\n",
            "{'drama': 3, 'animation': 2, 'comedy': 2}\n"
          ],
          "name": "stdout"
        }
      ]
    },
    {
      "cell_type": "code",
      "metadata": {
        "colab": {
          "base_uri": "https://localhost:8080/"
        },
        "id": "RNrZKfxK9pt_",
        "outputId": "c043f516-06ae-4e3f-f5ea-da41698516d5"
      },
      "source": [
        "# pandas를 사용한 단어 개수 세기\n",
        "pd.value_counts(arr) # 단어들이 index가 되고, 그 단어의 등장 횟수가 value인 pd.Series 객체"
      ],
      "execution_count": 34,
      "outputs": [
        {
          "output_type": "execute_result",
          "data": {
            "text/plain": [
              "drama        3\n",
              "comedy       2\n",
              "animation    2\n",
              "dtype: int64"
            ]
          },
          "metadata": {
            "tags": []
          },
          "execution_count": 34
        }
      ]
    },
    {
      "cell_type": "code",
      "metadata": {
        "id": "z-y7x5DPCrn3"
      },
      "source": [
        "genres=[] # 개별 영화 장르를 저장할 리스트 \n",
        "for s in mv.genres:\n",
        "  genres.extend(s.split('|'))\n",
        "\n",
        "genres_count=pd.value_counts(genres) # value_count 함수는 값들의 내림차순으로 정렬된 Series를 리턴"
      ],
      "execution_count": 42,
      "outputs": []
    },
    {
      "cell_type": "code",
      "metadata": {
        "colab": {
          "base_uri": "https://localhost:8080/"
        },
        "id": "Y2Fot9I7Fu_8",
        "outputId": "37d157ee-3893-4d24-ba68-64228d112ce8"
      },
      "source": [
        "top10= genres_count.head(n=10)\n",
        "top10"
      ],
      "execution_count": 43,
      "outputs": [
        {
          "output_type": "execute_result",
          "data": {
            "text/plain": [
              "Drama         1603\n",
              "Comedy        1200\n",
              "Action         503\n",
              "Thriller       492\n",
              "Romance        471\n",
              "Horror         343\n",
              "Adventure      283\n",
              "Sci-Fi         276\n",
              "Children's     251\n",
              "Crime          211\n",
              "dtype: int64"
            ]
          },
          "metadata": {
            "tags": []
          },
          "execution_count": 43
        }
      ]
    },
    {
      "cell_type": "code",
      "metadata": {
        "colab": {
          "base_uri": "https://localhost:8080/",
          "height": 265
        },
        "id": "wxpIdJYpGfQ0",
        "outputId": "9e375176-7f65-40a5-ca34-0af9486b0223"
      },
      "source": [
        "sns.barplot(x=top10.values,y=top10.index)\n",
        "plt.show()"
      ],
      "execution_count": 44,
      "outputs": [
        {
          "output_type": "display_data",
          "data": {
            "image/png": "[encoded data removed]",
            "text/plain": [
              "<Figure size 432x288 with 1 Axes>"
            ]
          },
          "metadata": {
            "tags": [],
            "needs_background": "light"
          }
        }
      ]
    }
  ]
}