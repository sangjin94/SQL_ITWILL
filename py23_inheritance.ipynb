{
  "nbformat": 4,
  "nbformat_minor": 0,
  "metadata": {
    "colab": {
      "name": "py23_inheritance.ipynb",
      "provenance": [],
      "collapsed_sections": [],
      "authorship_tag": "ABX9TyMcD6xmlGB4JR0NcEEXtrRR",
      "include_colab_link": true
    },
    "kernelspec": {
      "name": "python3",
      "display_name": "Python 3"
    },
    "language_info": {
      "name": "python"
    }
  },
  "cells": [
    {
      "cell_type": "markdown",
      "metadata": {
        "id": "view-in-github",
        "colab_type": "text"
      },
      "source": [
        "<a href=\"https://colab.research.google.com/github/sangjin94/SQL_ITWILL/blob/main/py23_inheritance.ipynb\" target=\"_parent\"><img src=\"https://colab.research.google.com/assets/colab-badge.svg\" alt=\"Open In Colab\"/></a>"
      ]
    },
    {
      "cell_type": "code",
      "metadata": {
        "id": "n0JdyIp_Il0x"
      },
      "source": [
        "import math # math.pi 변수의 값을 사용하기 위해서"
      ],
      "execution_count": 1,
      "outputs": []
    },
    {
      "cell_type": "code",
      "metadata": {
        "colab": {
          "base_uri": "https://localhost:8080/"
        },
        "id": "hX9jItR_I0qs",
        "outputId": "5ebb892c-d425-43c5-9fdf-0b1275db941f"
      },
      "source": [
        "print(math.pi)"
      ],
      "execution_count": 3,
      "outputs": [
        {
          "output_type": "stream",
          "text": [
            "3.141592653589793\n"
          ],
          "name": "stdout"
        }
      ]
    },
    {
      "cell_type": "code",
      "metadata": {
        "id": "eH07iGX6JUDM"
      },
      "source": [
        "class Point:\n",
        "  \"\"\"2차원 평면 상의 한 점의 좌표를 표현하는 클래스\"\"\"\n",
        "  def __init__(self,x=0,y=0):\n",
        "    self.x=x\n",
        "    self.y=y\n",
        "  \n",
        "  def __repr__(self):\n",
        "    # Point(0,0) 포맷\n",
        "   return f'Point({self.x},{self.y})'\n",
        "\n",
        "  def move(self,dx,dy):\n",
        "    \"\"\" 점의 좌표를 x축의 방향으로 dx만큼, y축의 방향으로 dy만큼 이동시키고, 이동된 객체를 리턴\"\"\"\n",
        "    self.x += dx\n",
        "    self.y += dy\n",
        "    return self  "
      ],
      "execution_count": 16,
      "outputs": []
    },
    {
      "cell_type": "code",
      "metadata": {
        "id": "Ew22hTi4KU8s"
      },
      "source": [
        "point1=Point(1,2)"
      ],
      "execution_count": 66,
      "outputs": []
    },
    {
      "cell_type": "code",
      "metadata": {
        "colab": {
          "base_uri": "https://localhost:8080/"
        },
        "id": "EN8bq1PcKeOf",
        "outputId": "fe4cfecc-54e6-48ec-9619-c178ec2fe511"
      },
      "source": [
        "print(point1)\n",
        "point1.move(3,5)"
      ],
      "execution_count": 67,
      "outputs": [
        {
          "output_type": "stream",
          "text": [
            "Point(1,2)\n"
          ],
          "name": "stdout"
        },
        {
          "output_type": "execute_result",
          "data": {
            "text/plain": [
              "Point(4,7)"
            ]
          },
          "metadata": {
            "tags": []
          },
          "execution_count": 67
        }
      ]
    },
    {
      "cell_type": "code",
      "metadata": {
        "id": "q-rbVkKBKNlC"
      },
      "source": [
        "# 도형은 점을 가지고 있다. (HAS-A)\n",
        "class Shape:\n",
        "  def __init__(self,Point):\n",
        "    self.point= Point # Point 인스턴스를 속성으로 저장\n",
        "\n",
        "  def __repr__(self):\n",
        "    # Shape(point=Point(0,0))포맷\n",
        "    return f'Point({self.point.x},{self.point.y})'\n",
        "  \n",
        "  def move(self,dx,dy):\n",
        "    \"\"\"도형을 x축의 방향으로 dx만큼, y축의 방향으로 dy만큼 이동시키는 매서드\n",
        "    도형이 가지고 있는 Point 객체를 이동시킴.\n",
        "    \"\"\"\n",
        "    self.point.x += dx\n",
        "    self.point.y += dy\n",
        "    return self  \n",
        "\n",
        "  def area(self):\n",
        "    \"\"\" 도형의 넓이를 계산해서 리턴\"\"\"\n",
        "    raise NotImplementedError('넓이를 계산하는 메서드를 반드시 구현!')\n",
        "\n",
        "  def perimeter(self):\n",
        "    \"\"\"도형의 둘레의 길이를 계산해서 리턴\"\"\"\n",
        "    raise NotImplementedError('둘레의 길이를 계산하는 메서드를 반드시 구현해야함.')  "
      ],
      "execution_count": 68,
      "outputs": []
    },
    {
      "cell_type": "code",
      "metadata": {
        "colab": {
          "base_uri": "https://localhost:8080/"
        },
        "id": "FKFewMm-Pz8l",
        "outputId": "62a1cba9-e9c3-4a7f-827d-35a275ca5e2f"
      },
      "source": [
        "shape1=Shape(point1)\n",
        "shape1.move(3,5)"
      ],
      "execution_count": 69,
      "outputs": [
        {
          "output_type": "execute_result",
          "data": {
            "text/plain": [
              "Point(7,12)"
            ]
          },
          "metadata": {
            "tags": []
          },
          "execution_count": 69
        }
      ]
    },
    {
      "cell_type": "code",
      "metadata": {
        "id": "ZsVDiJUALdlA"
      },
      "source": [
        "# 원은 도형이다.(IS-A) -> Shape 클래스를 상속하는 클래스 \n",
        "# 1) __init__(원의중심 x좌표, 원의중심 y좌표, 반지름(radius)) 구현\n",
        "# 2) Shape 클래스의 area, perimeter 메서드를 override \n",
        "class Circle(Shape):\n",
        "  def __init__(self,Point,radius):\n",
        "    super().__init__(Point)\n",
        "    self.radius= radius\n",
        "\n",
        "  def area(self):\n",
        "    return print(f'원의 넓이 ={(self.radius **2)*math.pi}')\n",
        "  def perimeter(self):\n",
        "    return print(f'원의 둘레 ={(self.radius*2)*math.pi}') \n",
        "   "
      ],
      "execution_count": 100,
      "outputs": []
    },
    {
      "cell_type": "code",
      "metadata": {
        "colab": {
          "base_uri": "https://localhost:8080/"
        },
        "id": "3U33FPkkSt1Q",
        "outputId": "9198e964-6dd9-4726-ff71-8011e0b1878f"
      },
      "source": [
        "circle1= Circle(point1,4)\n",
        "circle1.area()\n",
        "circle1.perimeter()"
      ],
      "execution_count": 101,
      "outputs": [
        {
          "output_type": "stream",
          "text": [
            "원의 넓이 =50.26548245743669\n",
            "원의 둘레 =25.132741228718345\n"
          ],
          "name": "stdout"
        }
      ]
    },
    {
      "cell_type": "code",
      "metadata": {
        "id": "t8wgegq8KxYf"
      },
      "source": [
        "# 직사각형은 도형이다. (IS-A)-> Shape클래스를 상속하는 클래스\n",
        "# 1)__init__(꼭지점 x 좌표, 꼭지점 y좌표 , 가로길이, 세로길이) 구현\n",
        "# 2) area,perimeter 매서드를 override\n",
        "class Rectangle(Shape):\n",
        "  def __init__(self,Point,width,height):\n",
        "    super().__init__(Point)\n",
        "    self.width= width\n",
        "    self.height= height\n",
        "\n",
        "  def area(self):\n",
        "    return print(f'넓이 ={self.height*self.width}')\n",
        "  def perimeter(self):\n",
        "    return print(f'둘레 ={(self.height+ self.width)*2}') "
      ],
      "execution_count": 108,
      "outputs": []
    },
    {
      "cell_type": "code",
      "metadata": {
        "colab": {
          "base_uri": "https://localhost:8080/"
        },
        "id": "y7xBvnKwZgrW",
        "outputId": "79eddf56-5b7e-44c4-ea2f-5b0a79d8b8d5"
      },
      "source": [
        "rectangle1=Rectangle(point1,5,10)\n",
        "rectangle1.area()\n",
        "rectangle1.perimeter()"
      ],
      "execution_count": 109,
      "outputs": [
        {
          "output_type": "stream",
          "text": [
            "넓이 =50\n",
            "둘레 =30\n"
          ],
          "name": "stdout"
        }
      ]
    },
    {
      "cell_type": "code",
      "metadata": {
        "id": "sIx7fUa7N5e7"
      },
      "source": [
        "# 정사각형은 직사각형이다. (IS-A)-> Rectangle 클래스를 상속하는 클래스\n",
        "# 1) __init__(꼭지점 x좌표, 꼭지점 y좌표,한변의 길이)\n",
        "# 2) area, perimeter를 override 해야하나?\n",
        "class Square(Rectangle):\n",
        "  def __init__(self,line):\n",
        "    self.width= line\n",
        "    self.height= line"
      ],
      "execution_count": 110,
      "outputs": []
    },
    {
      "cell_type": "code",
      "metadata": {
        "colab": {
          "base_uri": "https://localhost:8080/"
        },
        "id": "YEDFs1lvZ1tI",
        "outputId": "94996af9-7990-45bc-aab7-2092f5bd56a0"
      },
      "source": [
        "square1=Square(30)\n",
        "square1.area()\n",
        "square1.perimeter()"
      ],
      "execution_count": 111,
      "outputs": [
        {
          "output_type": "stream",
          "text": [
            "넓이 =900\n",
            "둘레 =120\n"
          ],
          "name": "stdout"
        }
      ]
    }
  ]
}