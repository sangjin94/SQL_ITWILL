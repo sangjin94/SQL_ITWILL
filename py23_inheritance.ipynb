{
  "nbformat": 4,
  "nbformat_minor": 0,
  "metadata": {
    "colab": {
      "name": "py23_inheritance.ipynb",
      "provenance": [],
      "collapsed_sections": [],
      "authorship_tag": "ABX9TyNHm11AmXTiBXOC9t4TfSmH",
      "include_colab_link": true
    },
    "kernelspec": {
      "name": "python3",
      "display_name": "Python 3"
    },
    "language_info": {
      "name": "python"
    }
  },
  "cells": [
    {
      "cell_type": "markdown",
      "metadata": {
        "id": "view-in-github",
        "colab_type": "text"
      },
      "source": [
        "<a href=\"https://colab.research.google.com/github/sangjin94/SQL_ITWILL/blob/main/py23_inheritance.ipynb\" target=\"_parent\"><img src=\"https://colab.research.google.com/assets/colab-badge.svg\" alt=\"Open In Colab\"/></a>"
      ]
    },
    {
      "cell_type": "code",
      "metadata": {
        "id": "n0JdyIp_Il0x"
      },
      "source": [
        "import math # math.pi 변수의 값을 사용하기 위해서"
      ],
      "execution_count": 21,
      "outputs": []
    },
    {
      "cell_type": "code",
      "metadata": {
        "colab": {
          "base_uri": "https://localhost:8080/"
        },
        "id": "hX9jItR_I0qs",
        "outputId": "5ebb892c-d425-43c5-9fdf-0b1275db941f"
      },
      "source": [
        "print(math.pi)"
      ],
      "execution_count": null,
      "outputs": [
        {
          "output_type": "stream",
          "text": [
            "3.141592653589793\n"
          ],
          "name": "stdout"
        }
      ]
    },
    {
      "cell_type": "code",
      "metadata": {
        "id": "eH07iGX6JUDM"
      },
      "source": [
        "class Point:\n",
        "  \"\"\"2차원 평면 상의 한 점의 좌표를 표현하는 클래스\"\"\"\n",
        "  def __init__(self,x=0,y=0):\n",
        "    self.x=x\n",
        "    self.y=y\n",
        "  \n",
        "  def __repr__(self):\n",
        "    # Point(0,0) 포맷\n",
        "   return f'Point({self.x},{self.y})'\n",
        "\n",
        "  def move(self,dx,dy):\n",
        "    \"\"\" 점의 좌표를 x축의 방향으로 dx만큼, y축의 방향으로 dy만큼 이동시키고, 이동된 객체를 리턴\"\"\"\n",
        "    self.x += dx\n",
        "    self.y += dy\n",
        "    return self  "
      ],
      "execution_count": 4,
      "outputs": []
    },
    {
      "cell_type": "code",
      "metadata": {
        "id": "Ew22hTi4KU8s"
      },
      "source": [
        "point1=Point(1,2)"
      ],
      "execution_count": 5,
      "outputs": []
    },
    {
      "cell_type": "code",
      "metadata": {
        "colab": {
          "base_uri": "https://localhost:8080/"
        },
        "id": "EN8bq1PcKeOf",
        "outputId": "b364d972-912c-4f2c-d6d6-4590b45629aa"
      },
      "source": [
        "print(point1)\n",
        "point1.move(3,5)"
      ],
      "execution_count": 6,
      "outputs": [
        {
          "output_type": "stream",
          "text": [
            "Point(1,2)\n"
          ],
          "name": "stdout"
        },
        {
          "output_type": "execute_result",
          "data": {
            "text/plain": [
              "Point(4,7)"
            ]
          },
          "metadata": {
            "tags": []
          },
          "execution_count": 6
        }
      ]
    },
    {
      "cell_type": "code",
      "metadata": {
        "id": "q-rbVkKBKNlC"
      },
      "source": [
        "# 도형은 점을 가지고 있다. (HAS-A)\n",
        "class Shape:\n",
        "  def __init__(self,Point):\n",
        "    self.point= Point # Point 인스턴스를 속성으로 저장\n",
        "\n",
        "  def __repr__(self):\n",
        "    # Shape(point=Point(0,0))포맷\n",
        "    return f'Point=({self.point})' # self.point.__repr__() 매서드가 자동으로 호출됨.\n",
        "  \n",
        "  def move(self,dx,dy):\n",
        "    \"\"\"도형을 x축의 방향으로 dx만큼, y축의 방향으로 dy만큼 이동시키는 매서드\n",
        "    도형이 가지고 있는 Point 객체를 이동시킴.\n",
        "    \"\"\"\n",
        "    self.point = self.point.move(dx,dy)\n",
        "    return self  \n",
        "\n",
        "  def area(self):\n",
        "    \"\"\" 도형의 넓이를 계산해서 리턴\n",
        "    Shape 클래스를 상속받는 하위 클래스에서 area() 구현하도록 함.\n",
        "    \"\"\"\n",
        "    raise NotImplementedError('넓이를 계산하는 메서드를 반드시 구현!')\n",
        "\n",
        "  def perimeter(self):\n",
        "    \"\"\"도형의 둘레의 길이를 계산해서 리턴\n",
        "    Shape 클래스를 상속받는 하위 클래스에서 perimeter() 구현하도록 함.\n",
        "    \"\"\"\n",
        "    raise NotImplementedError('둘레의 길이를 계산하는 메서드를 반드시 구현해야함.')  "
      ],
      "execution_count": 17,
      "outputs": []
    },
    {
      "cell_type": "code",
      "metadata": {
        "colab": {
          "base_uri": "https://localhost:8080/"
        },
        "id": "FKFewMm-Pz8l",
        "outputId": "e8de5733-a877-4135-bd73-016e947ab2f4"
      },
      "source": [
        "shape1=Shape(point1)\n",
        "shape1.move(3,5).move(-5,-20)"
      ],
      "execution_count": 16,
      "outputs": [
        {
          "output_type": "execute_result",
          "data": {
            "text/plain": [
              "Point=(Point(10,-18))"
            ]
          },
          "metadata": {
            "tags": []
          },
          "execution_count": 16
        }
      ]
    },
    {
      "cell_type": "code",
      "metadata": {
        "colab": {
          "base_uri": "https://localhost:8080/",
          "height": 312
        },
        "id": "tl2FuUp8B89j",
        "outputId": "52d399b0-3be9-477d-8dfa-cd079c8208a5"
      },
      "source": [
        "shape1.area()"
      ],
      "execution_count": 22,
      "outputs": [
        {
          "output_type": "error",
          "ename": "NotImplementedError",
          "evalue": "ignored",
          "traceback": [
            "\u001b[0;31m---------------------------------------------------------------------------\u001b[0m",
            "\u001b[0;31mNotImplementedError\u001b[0m                       Traceback (most recent call last)",
            "\u001b[0;32m<ipython-input-22-342f40479b17>\u001b[0m in \u001b[0;36m<module>\u001b[0;34m()\u001b[0m\n\u001b[0;32m----> 1\u001b[0;31m \u001b[0mshape1\u001b[0m\u001b[0;34m.\u001b[0m\u001b[0marea\u001b[0m\u001b[0;34m(\u001b[0m\u001b[0;34m)\u001b[0m\u001b[0;34m\u001b[0m\u001b[0;34m\u001b[0m\u001b[0m\n\u001b[0m",
            "\u001b[0;32m<ipython-input-12-031c29b74a89>\u001b[0m in \u001b[0;36marea\u001b[0;34m(self)\u001b[0m\n\u001b[1;32m     17\u001b[0m   \u001b[0;32mdef\u001b[0m \u001b[0marea\u001b[0m\u001b[0;34m(\u001b[0m\u001b[0mself\u001b[0m\u001b[0;34m)\u001b[0m\u001b[0;34m:\u001b[0m\u001b[0;34m\u001b[0m\u001b[0;34m\u001b[0m\u001b[0m\n\u001b[1;32m     18\u001b[0m     \u001b[0;34m\"\"\" 도형의 넓이를 계산해서 리턴\"\"\"\u001b[0m\u001b[0;34m\u001b[0m\u001b[0;34m\u001b[0m\u001b[0m\n\u001b[0;32m---> 19\u001b[0;31m     \u001b[0;32mraise\u001b[0m \u001b[0mNotImplementedError\u001b[0m\u001b[0;34m(\u001b[0m\u001b[0;34m'넓이를 계산하는 메서드를 반드시 구현!'\u001b[0m\u001b[0;34m)\u001b[0m\u001b[0;34m\u001b[0m\u001b[0;34m\u001b[0m\u001b[0m\n\u001b[0m\u001b[1;32m     20\u001b[0m \u001b[0;34m\u001b[0m\u001b[0m\n\u001b[1;32m     21\u001b[0m   \u001b[0;32mdef\u001b[0m \u001b[0mperimeter\u001b[0m\u001b[0;34m(\u001b[0m\u001b[0mself\u001b[0m\u001b[0;34m)\u001b[0m\u001b[0;34m:\u001b[0m\u001b[0;34m\u001b[0m\u001b[0;34m\u001b[0m\u001b[0m\n",
            "\u001b[0;31mNotImplementedError\u001b[0m: 넓이를 계산하는 메서드를 반드시 구현!"
          ]
        }
      ]
    },
    {
      "cell_type": "code",
      "metadata": {
        "id": "ZsVDiJUALdlA"
      },
      "source": [
        "# 원은 도형이다.(IS-A) -> Shape 클래스를 상속하는 클래스 \n",
        "# 1) __init__(원의중심 x좌표, 원의중심 y좌표, 반지름(radius)) 구현\n",
        "# 2) Shape 클래스의 area, perimeter 메서드를 override \n",
        "class Circle(Shape):\n",
        "  \"\"\" 2차원 평면 상의 원(중심과 반지름) 을 표현하는 클래스 \"\"\"\n",
        "  def __init__(self,point,radius):\n",
        "    super().__init__(Point) # Shape 클래스의 생성자 호출\n",
        "    self.radius= radius\n",
        "# override\n",
        "  def __repr__(self):\n",
        "    # self.point: 부모 Shape 객체로 부터 상속받은 속성\n",
        "    # self.radius: Circle 객체가 가지고 있는 속성\n",
        "    return f'Circle(center={self.point},radius={self.radius}'\n",
        "  def area(self):\n",
        "    return (self.radius **2)*math.pi\n",
        "  def perimeter(self):\n",
        "    return (self.radius*2)*math.pi\n",
        "   "
      ],
      "execution_count": 67,
      "outputs": []
    },
    {
      "cell_type": "code",
      "metadata": {
        "colab": {
          "base_uri": "https://localhost:8080/"
        },
        "id": "3U33FPkkSt1Q",
        "outputId": "1f373b55-131c-4111-acce-cb511434ee93"
      },
      "source": [
        "circle1= Circle(point1,4)\n",
        "print(circle1)\n",
        "print('넓이',circle1.area())\n",
        "print('둘레',circle1.perimeter())"
      ],
      "execution_count": 31,
      "outputs": [
        {
          "output_type": "stream",
          "text": [
            "Circle(center=Point(10,-18),radius=4\n",
            "넓이 50.26548245743669\n",
            "둘레 25.132741228718345\n"
          ],
          "name": "stdout"
        }
      ]
    },
    {
      "cell_type": "code",
      "metadata": {
        "colab": {
          "base_uri": "https://localhost:8080/"
        },
        "id": "4Q_lwyI6Nikt",
        "outputId": "1b266884-a9e7-4d6e-f242-e0de0f190e46"
      },
      "source": [
        "circle1.move(1,2)"
      ],
      "execution_count": 32,
      "outputs": [
        {
          "output_type": "execute_result",
          "data": {
            "text/plain": [
              "Circle(center=Point(11,-16),radius=4"
            ]
          },
          "metadata": {
            "tags": []
          },
          "execution_count": 32
        }
      ]
    },
    {
      "cell_type": "code",
      "metadata": {
        "id": "t8wgegq8KxYf"
      },
      "source": [
        "# 직사각형은 도형이다. (IS-A)-> Shape클래스를 상속하는 클래스\n",
        "# 1)__init__(꼭지점 x 좌표, 꼭지점 y좌표 , 가로길이, 세로길이) 구현\n",
        "# 2) area,perimeter 매서드를 override\n",
        "class Rectangle(Shape):\n",
        "  def __init__(self,point,width,height):\n",
        "    super().__init__(Point)\n",
        "    self.width= width\n",
        "    self.height= height\n",
        "  # override\n",
        "  def __repr__(self):\n",
        "    return f'Rectangle(corner={self.point},width={self.width},height={self.height})'\n",
        "  \n",
        "  # 부모 클래스인 Shape에서 구현되지않은 area, perimeter 메서드를 override해서 구현함.\n",
        "  def area(self):\n",
        "    return self.height*self.width\n",
        "  def perimeter(self):\n",
        "    return (self.height+ self.width)*2 "
      ],
      "execution_count": 71,
      "outputs": []
    },
    {
      "cell_type": "code",
      "metadata": {
        "colab": {
          "base_uri": "https://localhost:8080/"
        },
        "id": "y7xBvnKwZgrW",
        "outputId": "f389f593-92f7-4c46-e472-ba90293cf03b"
      },
      "source": [
        "rectangle1=Rectangle(point1,5,10)\n",
        "print(rectangle1.area())\n",
        "print(rectangle1.perimeter())\n",
        "print(rectangle1)"
      ],
      "execution_count": 59,
      "outputs": [
        {
          "output_type": "stream",
          "text": [
            "50\n",
            "30\n",
            "Rectangle(corner=Point(11,-16),width=5,height=10)\n"
          ],
          "name": "stdout"
        }
      ]
    },
    {
      "cell_type": "code",
      "metadata": {
        "id": "sIx7fUa7N5e7"
      },
      "source": [
        "# 정사각형은 직사각형이다. (IS-A)-> Rectangle 클래스를 상속하는 클래스\n",
        "# 1) __init__(꼭지점 x좌표, 꼭지점 y좌표,한변의 길이)\n",
        "# 2) area, perimeter를 override 해야하나?\n",
        "class Square(Rectangle):\n",
        "  \"\"\"2차원 평면 상의 직사각형(꼭지점의 x/y좌표, 한변의 길이 )을 표현\"\"\"\n",
        "  def __init__(self,point,side=0):\n",
        "    super().__init__(point,side,side)\n",
        "  \n",
        "  def __repr__(self):\n",
        "    return f'Square(corner={self.point},side={self.width})'"
      ],
      "execution_count": 72,
      "outputs": []
    },
    {
      "cell_type": "code",
      "metadata": {
        "colab": {
          "base_uri": "https://localhost:8080/"
        },
        "id": "YEDFs1lvZ1tI",
        "outputId": "209ec232-db2b-4ba9-f674-24e9c30ea439"
      },
      "source": [
        "square1=Square(point1,3)\n",
        "print(square1.area())\n",
        "print(square1.perimeter())\n",
        "print(square1)"
      ],
      "execution_count": 64,
      "outputs": [
        {
          "output_type": "stream",
          "text": [
            "9\n",
            "12\n",
            "Square(corner=Point(11,-16),side=3)\n"
          ],
          "name": "stdout"
        }
      ]
    },
    {
      "cell_type": "markdown",
      "metadata": {
        "id": "hSnNaGb94MxF"
      },
      "source": [
        "상위 클래스에서 NotImplementedError를 발생 시키는 매서드를 정의한 이유:\n",
        "\n",
        "* 상속받는 모든 하위 클래스가 **반드시** 같은 이름의 메서드를 override하는 것을 강제하기 위해서.  \n",
        "* 모든 하위 클래스가 같은 이름의(구현된) 메서드를 갖게 되면, 일관된 형식으로 기능을 사용할수 있게 되기 때문에. "
      ]
    },
    {
      "cell_type": "code",
      "metadata": {
        "colab": {
          "base_uri": "https://localhost:8080/"
        },
        "id": "nTFaXooA4UHy",
        "outputId": "ec9f981f-559d-4a84-ba23-1ddb5e5dd6d9"
      },
      "source": [
        "# 여러가지 도형들을 저장하는 리스트 \n",
        "pt1=Point(1,1)\n",
        "shapes=[\n",
        "        Circle(pt1,radius=5),\n",
        "        Rectangle(pt1,width=4,height=3),\n",
        "        Square(pt1,side=5)\n",
        "]\n",
        "for s in shapes: \n",
        "  print(s,'넓이:',s.area())"
      ],
      "execution_count": 77,
      "outputs": [
        {
          "output_type": "stream",
          "text": [
            "Circle(center=<class '__main__.Point'>,radius=5 넓이: 78.53981633974483\n",
            "Rectangle(corner=<class '__main__.Point'>,width=4,height=3) 넓이: 12\n",
            "Square(corner=<class '__main__.Point'>,side=5) 넓이: 25\n"
          ],
          "name": "stdout"
        }
      ]
    }
  ]
}