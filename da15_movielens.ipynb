{
  "nbformat": 4,
  "nbformat_minor": 0,
  "metadata": {
    "colab": {
      "name": "da15_movielens.ipynb",
      "provenance": [],
      "collapsed_sections": [],
      "authorship_tag": "ABX9TyO1kQ7HKoAA5wIL0hSfR1//",
      "include_colab_link": true
    },
    "kernelspec": {
      "name": "python3",
      "display_name": "Python 3"
    },
    "language_info": {
      "name": "python"
    }
  },
  "cells": [
    {
      "cell_type": "markdown",
      "metadata": {
        "id": "view-in-github",
        "colab_type": "text"
      },
      "source": [
        "<a href=\"https://colab.research.google.com/github/sangjin94/SQL_ITWILL/blob/main/da15_movielens.ipynb\" target=\"_parent\"><img src=\"https://colab.research.google.com/assets/colab-badge.svg\" alt=\"Open In Colab\"/></a>"
      ]
    },
    {
      "cell_type": "code",
      "metadata": {
        "id": "_2P7R3zY4Cvz"
      },
      "source": [
        "import matplotlib.pyplot as plt\n",
        "import numpy as np\n",
        "import pandas as pd\n",
        "import seaborn as sns"
      ],
      "execution_count": null,
      "outputs": []
    },
    {
      "cell_type": "code",
      "metadata": {
        "id": "SgeSl3E04WTG"
      },
      "source": [
        "# 데이터 파일들이 저장된 경로\n",
        "movies_file='https://github.com/wesm/pydata-book/raw/2nd-edition/datasets/movielens/movies.dat'\n",
        "ratings_file='https://github.com/wesm/pydata-book/raw/2nd-edition/datasets/movielens/ratings.dat'\n",
        "users_file='https://github.com/wesm/pydata-book/raw/2nd-edition/datasets/movielens/users.dat'\n"
      ],
      "execution_count": null,
      "outputs": []
    },
    {
      "cell_type": "markdown",
      "metadata": {
        "id": "MJydEUJ65kbL"
      },
      "source": [
        "각 파일을 읽고 데이터 프레임 3개를 생성."
      ]
    },
    {
      "cell_type": "code",
      "metadata": {
        "id": "c_mw3P0R_Fz9"
      },
      "source": [
        "# 데이터 프레임의 컬럼 이름들\n",
        "movies_col=['movie_id','title','genres']\n",
        "ratings_col=['user_id','movie_id','rating','timestamp']\n",
        "user_col=['user_id','gender','age','occupation','zip_code']"
      ],
      "execution_count": null,
      "outputs": []
    },
    {
      "cell_type": "code",
      "metadata": {
        "id": "vdq-91qa5vCB"
      },
      "source": [
        "movies=pd.read_csv(movies_file,sep='::',engine='python',encoding='cp1252',names=movies_col)\n",
        "ratings=pd.read_csv(ratings_file,sep='::',engine='python',names=ratings_col)\n",
        "users=pd.read_csv(users_file,sep='::',engine='python',names=user_col)"
      ],
      "execution_count": null,
      "outputs": []
    },
    {
      "cell_type": "code",
      "metadata": {
        "colab": {
          "base_uri": "https://localhost:8080/",
          "height": 422
        },
        "id": "-ize6rmJ-qmo",
        "outputId": "49e1a4b5-11fa-494f-9c91-45fb56d58a38"
      },
      "source": [
        "movies"
      ],
      "execution_count": null,
      "outputs": [
        {
          "output_type": "execute_result",
          "data": {
            "text/html": [
              "<div>\n",
              "<style scoped>\n",
              "    .dataframe tbody tr th:only-of-type {\n",
              "        vertical-align: middle;\n",
              "    }\n",
              "\n",
              "    .dataframe tbody tr th {\n",
              "        vertical-align: top;\n",
              "    }\n",
              "\n",
              "    .dataframe thead th {\n",
              "        text-align: right;\n",
              "    }\n",
              "</style>\n",
              "<table border=\"1\" class=\"dataframe\">\n",
              "  <thead>\n",
              "    <tr style=\"text-align: right;\">\n",
              "      <th></th>\n",
              "      <th>movie_id</th>\n",
              "      <th>title</th>\n",
              "      <th>genres</th>\n",
              "    </tr>\n",
              "  </thead>\n",
              "  <tbody>\n",
              "    <tr>\n",
              "      <th>0</th>\n",
              "      <td>1</td>\n",
              "      <td>Toy Story (1995)</td>\n",
              "      <td>Animation|Children's|Comedy</td>\n",
              "    </tr>\n",
              "    <tr>\n",
              "      <th>1</th>\n",
              "      <td>2</td>\n",
              "      <td>Jumanji (1995)</td>\n",
              "      <td>Adventure|Children's|Fantasy</td>\n",
              "    </tr>\n",
              "    <tr>\n",
              "      <th>2</th>\n",
              "      <td>3</td>\n",
              "      <td>Grumpier Old Men (1995)</td>\n",
              "      <td>Comedy|Romance</td>\n",
              "    </tr>\n",
              "    <tr>\n",
              "      <th>3</th>\n",
              "      <td>4</td>\n",
              "      <td>Waiting to Exhale (1995)</td>\n",
              "      <td>Comedy|Drama</td>\n",
              "    </tr>\n",
              "    <tr>\n",
              "      <th>4</th>\n",
              "      <td>5</td>\n",
              "      <td>Father of the Bride Part II (1995)</td>\n",
              "      <td>Comedy</td>\n",
              "    </tr>\n",
              "    <tr>\n",
              "      <th>...</th>\n",
              "      <td>...</td>\n",
              "      <td>...</td>\n",
              "      <td>...</td>\n",
              "    </tr>\n",
              "    <tr>\n",
              "      <th>3878</th>\n",
              "      <td>3948</td>\n",
              "      <td>Meet the Parents (2000)</td>\n",
              "      <td>Comedy</td>\n",
              "    </tr>\n",
              "    <tr>\n",
              "      <th>3879</th>\n",
              "      <td>3949</td>\n",
              "      <td>Requiem for a Dream (2000)</td>\n",
              "      <td>Drama</td>\n",
              "    </tr>\n",
              "    <tr>\n",
              "      <th>3880</th>\n",
              "      <td>3950</td>\n",
              "      <td>Tigerland (2000)</td>\n",
              "      <td>Drama</td>\n",
              "    </tr>\n",
              "    <tr>\n",
              "      <th>3881</th>\n",
              "      <td>3951</td>\n",
              "      <td>Two Family House (2000)</td>\n",
              "      <td>Drama</td>\n",
              "    </tr>\n",
              "    <tr>\n",
              "      <th>3882</th>\n",
              "      <td>3952</td>\n",
              "      <td>Contender, The (2000)</td>\n",
              "      <td>Drama|Thriller</td>\n",
              "    </tr>\n",
              "  </tbody>\n",
              "</table>\n",
              "<p>3883 rows × 3 columns</p>\n",
              "</div>"
            ],
            "text/plain": [
              "      movie_id  ...                        genres\n",
              "0            1  ...   Animation|Children's|Comedy\n",
              "1            2  ...  Adventure|Children's|Fantasy\n",
              "2            3  ...                Comedy|Romance\n",
              "3            4  ...                  Comedy|Drama\n",
              "4            5  ...                        Comedy\n",
              "...        ...  ...                           ...\n",
              "3878      3948  ...                        Comedy\n",
              "3879      3949  ...                         Drama\n",
              "3880      3950  ...                         Drama\n",
              "3881      3951  ...                         Drama\n",
              "3882      3952  ...                Drama|Thriller\n",
              "\n",
              "[3883 rows x 3 columns]"
            ]
          },
          "metadata": {
            "tags": []
          },
          "execution_count": 72
        }
      ]
    },
    {
      "cell_type": "code",
      "metadata": {
        "colab": {
          "base_uri": "https://localhost:8080/",
          "height": 422
        },
        "id": "yz3PIYZT-930",
        "outputId": "8fff5e42-d8ba-4255-a18e-40472cf87282"
      },
      "source": [
        "ratings"
      ],
      "execution_count": null,
      "outputs": [
        {
          "output_type": "execute_result",
          "data": {
            "text/html": [
              "<div>\n",
              "<style scoped>\n",
              "    .dataframe tbody tr th:only-of-type {\n",
              "        vertical-align: middle;\n",
              "    }\n",
              "\n",
              "    .dataframe tbody tr th {\n",
              "        vertical-align: top;\n",
              "    }\n",
              "\n",
              "    .dataframe thead th {\n",
              "        text-align: right;\n",
              "    }\n",
              "</style>\n",
              "<table border=\"1\" class=\"dataframe\">\n",
              "  <thead>\n",
              "    <tr style=\"text-align: right;\">\n",
              "      <th></th>\n",
              "      <th>user_id</th>\n",
              "      <th>movie_id</th>\n",
              "      <th>rating</th>\n",
              "      <th>timestamp</th>\n",
              "    </tr>\n",
              "  </thead>\n",
              "  <tbody>\n",
              "    <tr>\n",
              "      <th>0</th>\n",
              "      <td>1</td>\n",
              "      <td>1193</td>\n",
              "      <td>5</td>\n",
              "      <td>978300760</td>\n",
              "    </tr>\n",
              "    <tr>\n",
              "      <th>1</th>\n",
              "      <td>1</td>\n",
              "      <td>661</td>\n",
              "      <td>3</td>\n",
              "      <td>978302109</td>\n",
              "    </tr>\n",
              "    <tr>\n",
              "      <th>2</th>\n",
              "      <td>1</td>\n",
              "      <td>914</td>\n",
              "      <td>3</td>\n",
              "      <td>978301968</td>\n",
              "    </tr>\n",
              "    <tr>\n",
              "      <th>3</th>\n",
              "      <td>1</td>\n",
              "      <td>3408</td>\n",
              "      <td>4</td>\n",
              "      <td>978300275</td>\n",
              "    </tr>\n",
              "    <tr>\n",
              "      <th>4</th>\n",
              "      <td>1</td>\n",
              "      <td>2355</td>\n",
              "      <td>5</td>\n",
              "      <td>978824291</td>\n",
              "    </tr>\n",
              "    <tr>\n",
              "      <th>...</th>\n",
              "      <td>...</td>\n",
              "      <td>...</td>\n",
              "      <td>...</td>\n",
              "      <td>...</td>\n",
              "    </tr>\n",
              "    <tr>\n",
              "      <th>1000204</th>\n",
              "      <td>6040</td>\n",
              "      <td>1091</td>\n",
              "      <td>1</td>\n",
              "      <td>956716541</td>\n",
              "    </tr>\n",
              "    <tr>\n",
              "      <th>1000205</th>\n",
              "      <td>6040</td>\n",
              "      <td>1094</td>\n",
              "      <td>5</td>\n",
              "      <td>956704887</td>\n",
              "    </tr>\n",
              "    <tr>\n",
              "      <th>1000206</th>\n",
              "      <td>6040</td>\n",
              "      <td>562</td>\n",
              "      <td>5</td>\n",
              "      <td>956704746</td>\n",
              "    </tr>\n",
              "    <tr>\n",
              "      <th>1000207</th>\n",
              "      <td>6040</td>\n",
              "      <td>1096</td>\n",
              "      <td>4</td>\n",
              "      <td>956715648</td>\n",
              "    </tr>\n",
              "    <tr>\n",
              "      <th>1000208</th>\n",
              "      <td>6040</td>\n",
              "      <td>1097</td>\n",
              "      <td>4</td>\n",
              "      <td>956715569</td>\n",
              "    </tr>\n",
              "  </tbody>\n",
              "</table>\n",
              "<p>1000209 rows × 4 columns</p>\n",
              "</div>"
            ],
            "text/plain": [
              "         user_id  movie_id  rating  timestamp\n",
              "0              1      1193       5  978300760\n",
              "1              1       661       3  978302109\n",
              "2              1       914       3  978301968\n",
              "3              1      3408       4  978300275\n",
              "4              1      2355       5  978824291\n",
              "...          ...       ...     ...        ...\n",
              "1000204     6040      1091       1  956716541\n",
              "1000205     6040      1094       5  956704887\n",
              "1000206     6040       562       5  956704746\n",
              "1000207     6040      1096       4  956715648\n",
              "1000208     6040      1097       4  956715569\n",
              "\n",
              "[1000209 rows x 4 columns]"
            ]
          },
          "metadata": {
            "tags": []
          },
          "execution_count": 73
        }
      ]
    },
    {
      "cell_type": "code",
      "metadata": {
        "colab": {
          "base_uri": "https://localhost:8080/",
          "height": 422
        },
        "id": "yx7fF9Oe--8d",
        "outputId": "a213f3f9-dad5-4afb-dd38-bb99ed627180"
      },
      "source": [
        "users"
      ],
      "execution_count": null,
      "outputs": [
        {
          "output_type": "execute_result",
          "data": {
            "text/html": [
              "<div>\n",
              "<style scoped>\n",
              "    .dataframe tbody tr th:only-of-type {\n",
              "        vertical-align: middle;\n",
              "    }\n",
              "\n",
              "    .dataframe tbody tr th {\n",
              "        vertical-align: top;\n",
              "    }\n",
              "\n",
              "    .dataframe thead th {\n",
              "        text-align: right;\n",
              "    }\n",
              "</style>\n",
              "<table border=\"1\" class=\"dataframe\">\n",
              "  <thead>\n",
              "    <tr style=\"text-align: right;\">\n",
              "      <th></th>\n",
              "      <th>user_id</th>\n",
              "      <th>gender</th>\n",
              "      <th>age</th>\n",
              "      <th>occupation</th>\n",
              "      <th>zip_code</th>\n",
              "    </tr>\n",
              "  </thead>\n",
              "  <tbody>\n",
              "    <tr>\n",
              "      <th>0</th>\n",
              "      <td>1</td>\n",
              "      <td>F</td>\n",
              "      <td>1</td>\n",
              "      <td>10</td>\n",
              "      <td>48067</td>\n",
              "    </tr>\n",
              "    <tr>\n",
              "      <th>1</th>\n",
              "      <td>2</td>\n",
              "      <td>M</td>\n",
              "      <td>56</td>\n",
              "      <td>16</td>\n",
              "      <td>70072</td>\n",
              "    </tr>\n",
              "    <tr>\n",
              "      <th>2</th>\n",
              "      <td>3</td>\n",
              "      <td>M</td>\n",
              "      <td>25</td>\n",
              "      <td>15</td>\n",
              "      <td>55117</td>\n",
              "    </tr>\n",
              "    <tr>\n",
              "      <th>3</th>\n",
              "      <td>4</td>\n",
              "      <td>M</td>\n",
              "      <td>45</td>\n",
              "      <td>7</td>\n",
              "      <td>02460</td>\n",
              "    </tr>\n",
              "    <tr>\n",
              "      <th>4</th>\n",
              "      <td>5</td>\n",
              "      <td>M</td>\n",
              "      <td>25</td>\n",
              "      <td>20</td>\n",
              "      <td>55455</td>\n",
              "    </tr>\n",
              "    <tr>\n",
              "      <th>...</th>\n",
              "      <td>...</td>\n",
              "      <td>...</td>\n",
              "      <td>...</td>\n",
              "      <td>...</td>\n",
              "      <td>...</td>\n",
              "    </tr>\n",
              "    <tr>\n",
              "      <th>6035</th>\n",
              "      <td>6036</td>\n",
              "      <td>F</td>\n",
              "      <td>25</td>\n",
              "      <td>15</td>\n",
              "      <td>32603</td>\n",
              "    </tr>\n",
              "    <tr>\n",
              "      <th>6036</th>\n",
              "      <td>6037</td>\n",
              "      <td>F</td>\n",
              "      <td>45</td>\n",
              "      <td>1</td>\n",
              "      <td>76006</td>\n",
              "    </tr>\n",
              "    <tr>\n",
              "      <th>6037</th>\n",
              "      <td>6038</td>\n",
              "      <td>F</td>\n",
              "      <td>56</td>\n",
              "      <td>1</td>\n",
              "      <td>14706</td>\n",
              "    </tr>\n",
              "    <tr>\n",
              "      <th>6038</th>\n",
              "      <td>6039</td>\n",
              "      <td>F</td>\n",
              "      <td>45</td>\n",
              "      <td>0</td>\n",
              "      <td>01060</td>\n",
              "    </tr>\n",
              "    <tr>\n",
              "      <th>6039</th>\n",
              "      <td>6040</td>\n",
              "      <td>M</td>\n",
              "      <td>25</td>\n",
              "      <td>6</td>\n",
              "      <td>11106</td>\n",
              "    </tr>\n",
              "  </tbody>\n",
              "</table>\n",
              "<p>6040 rows × 5 columns</p>\n",
              "</div>"
            ],
            "text/plain": [
              "      user_id gender  age  occupation zip_code\n",
              "0           1      F    1          10    48067\n",
              "1           2      M   56          16    70072\n",
              "2           3      M   25          15    55117\n",
              "3           4      M   45           7    02460\n",
              "4           5      M   25          20    55455\n",
              "...       ...    ...  ...         ...      ...\n",
              "6035     6036      F   25          15    32603\n",
              "6036     6037      F   45           1    76006\n",
              "6037     6038      F   56           1    14706\n",
              "6038     6039      F   45           0    01060\n",
              "6039     6040      M   25           6    11106\n",
              "\n",
              "[6040 rows x 5 columns]"
            ]
          },
          "metadata": {
            "tags": []
          },
          "execution_count": 74
        }
      ]
    },
    {
      "cell_type": "code",
      "metadata": {
        "colab": {
          "base_uri": "https://localhost:8080/",
          "height": 440
        },
        "id": "4ODkMOMWBiHP",
        "outputId": "db9ba7de-97d1-4d6a-d9ba-fdafd5839a0c"
      },
      "source": [
        "total_df=movies.merge(ratings).merge(users)\n",
        "total_df"
      ],
      "execution_count": null,
      "outputs": [
        {
          "output_type": "execute_result",
          "data": {
            "text/html": [
              "<div>\n",
              "<style scoped>\n",
              "    .dataframe tbody tr th:only-of-type {\n",
              "        vertical-align: middle;\n",
              "    }\n",
              "\n",
              "    .dataframe tbody tr th {\n",
              "        vertical-align: top;\n",
              "    }\n",
              "\n",
              "    .dataframe thead th {\n",
              "        text-align: right;\n",
              "    }\n",
              "</style>\n",
              "<table border=\"1\" class=\"dataframe\">\n",
              "  <thead>\n",
              "    <tr style=\"text-align: right;\">\n",
              "      <th></th>\n",
              "      <th>movie_id</th>\n",
              "      <th>title</th>\n",
              "      <th>genres</th>\n",
              "      <th>user_id</th>\n",
              "      <th>rating</th>\n",
              "      <th>timestamp</th>\n",
              "      <th>gender</th>\n",
              "      <th>age</th>\n",
              "      <th>occupation</th>\n",
              "      <th>zip_code</th>\n",
              "    </tr>\n",
              "  </thead>\n",
              "  <tbody>\n",
              "    <tr>\n",
              "      <th>0</th>\n",
              "      <td>1</td>\n",
              "      <td>Toy Story (1995)</td>\n",
              "      <td>Animation|Children's|Comedy</td>\n",
              "      <td>1</td>\n",
              "      <td>5</td>\n",
              "      <td>978824268</td>\n",
              "      <td>F</td>\n",
              "      <td>1</td>\n",
              "      <td>10</td>\n",
              "      <td>48067</td>\n",
              "    </tr>\n",
              "    <tr>\n",
              "      <th>1</th>\n",
              "      <td>48</td>\n",
              "      <td>Pocahontas (1995)</td>\n",
              "      <td>Animation|Children's|Musical|Romance</td>\n",
              "      <td>1</td>\n",
              "      <td>5</td>\n",
              "      <td>978824351</td>\n",
              "      <td>F</td>\n",
              "      <td>1</td>\n",
              "      <td>10</td>\n",
              "      <td>48067</td>\n",
              "    </tr>\n",
              "    <tr>\n",
              "      <th>2</th>\n",
              "      <td>150</td>\n",
              "      <td>Apollo 13 (1995)</td>\n",
              "      <td>Drama</td>\n",
              "      <td>1</td>\n",
              "      <td>5</td>\n",
              "      <td>978301777</td>\n",
              "      <td>F</td>\n",
              "      <td>1</td>\n",
              "      <td>10</td>\n",
              "      <td>48067</td>\n",
              "    </tr>\n",
              "    <tr>\n",
              "      <th>3</th>\n",
              "      <td>260</td>\n",
              "      <td>Star Wars: Episode IV - A New Hope (1977)</td>\n",
              "      <td>Action|Adventure|Fantasy|Sci-Fi</td>\n",
              "      <td>1</td>\n",
              "      <td>4</td>\n",
              "      <td>978300760</td>\n",
              "      <td>F</td>\n",
              "      <td>1</td>\n",
              "      <td>10</td>\n",
              "      <td>48067</td>\n",
              "    </tr>\n",
              "    <tr>\n",
              "      <th>4</th>\n",
              "      <td>527</td>\n",
              "      <td>Schindler's List (1993)</td>\n",
              "      <td>Drama|War</td>\n",
              "      <td>1</td>\n",
              "      <td>5</td>\n",
              "      <td>978824195</td>\n",
              "      <td>F</td>\n",
              "      <td>1</td>\n",
              "      <td>10</td>\n",
              "      <td>48067</td>\n",
              "    </tr>\n",
              "    <tr>\n",
              "      <th>...</th>\n",
              "      <td>...</td>\n",
              "      <td>...</td>\n",
              "      <td>...</td>\n",
              "      <td>...</td>\n",
              "      <td>...</td>\n",
              "      <td>...</td>\n",
              "      <td>...</td>\n",
              "      <td>...</td>\n",
              "      <td>...</td>\n",
              "      <td>...</td>\n",
              "    </tr>\n",
              "    <tr>\n",
              "      <th>1000204</th>\n",
              "      <td>3513</td>\n",
              "      <td>Rules of Engagement (2000)</td>\n",
              "      <td>Drama|Thriller</td>\n",
              "      <td>5727</td>\n",
              "      <td>4</td>\n",
              "      <td>958489970</td>\n",
              "      <td>M</td>\n",
              "      <td>25</td>\n",
              "      <td>4</td>\n",
              "      <td>92843</td>\n",
              "    </tr>\n",
              "    <tr>\n",
              "      <th>1000205</th>\n",
              "      <td>3535</td>\n",
              "      <td>American Psycho (2000)</td>\n",
              "      <td>Comedy|Horror|Thriller</td>\n",
              "      <td>5727</td>\n",
              "      <td>2</td>\n",
              "      <td>958489970</td>\n",
              "      <td>M</td>\n",
              "      <td>25</td>\n",
              "      <td>4</td>\n",
              "      <td>92843</td>\n",
              "    </tr>\n",
              "    <tr>\n",
              "      <th>1000206</th>\n",
              "      <td>3536</td>\n",
              "      <td>Keeping the Faith (2000)</td>\n",
              "      <td>Comedy|Romance</td>\n",
              "      <td>5727</td>\n",
              "      <td>5</td>\n",
              "      <td>958489902</td>\n",
              "      <td>M</td>\n",
              "      <td>25</td>\n",
              "      <td>4</td>\n",
              "      <td>92843</td>\n",
              "    </tr>\n",
              "    <tr>\n",
              "      <th>1000207</th>\n",
              "      <td>3555</td>\n",
              "      <td>U-571 (2000)</td>\n",
              "      <td>Action|Thriller</td>\n",
              "      <td>5727</td>\n",
              "      <td>3</td>\n",
              "      <td>958490699</td>\n",
              "      <td>M</td>\n",
              "      <td>25</td>\n",
              "      <td>4</td>\n",
              "      <td>92843</td>\n",
              "    </tr>\n",
              "    <tr>\n",
              "      <th>1000208</th>\n",
              "      <td>3578</td>\n",
              "      <td>Gladiator (2000)</td>\n",
              "      <td>Action|Drama</td>\n",
              "      <td>5727</td>\n",
              "      <td>5</td>\n",
              "      <td>958490171</td>\n",
              "      <td>M</td>\n",
              "      <td>25</td>\n",
              "      <td>4</td>\n",
              "      <td>92843</td>\n",
              "    </tr>\n",
              "  </tbody>\n",
              "</table>\n",
              "<p>1000209 rows × 10 columns</p>\n",
              "</div>"
            ],
            "text/plain": [
              "         movie_id  ... zip_code\n",
              "0               1  ...    48067\n",
              "1              48  ...    48067\n",
              "2             150  ...    48067\n",
              "3             260  ...    48067\n",
              "4             527  ...    48067\n",
              "...           ...  ...      ...\n",
              "1000204      3513  ...    92843\n",
              "1000205      3535  ...    92843\n",
              "1000206      3536  ...    92843\n",
              "1000207      3555  ...    92843\n",
              "1000208      3578  ...    92843\n",
              "\n",
              "[1000209 rows x 10 columns]"
            ]
          },
          "metadata": {
            "tags": []
          },
          "execution_count": 75
        }
      ]
    },
    {
      "cell_type": "markdown",
      "metadata": {
        "id": "YolpbJ66JRf8"
      },
      "source": [
        "데이터 프레임 탐색"
      ]
    },
    {
      "cell_type": "code",
      "metadata": {
        "colab": {
          "base_uri": "https://localhost:8080/",
          "height": 299
        },
        "id": "0xUS6VXQJQon",
        "outputId": "ff079b00-848f-4ad3-9758-7a4ec34251b4"
      },
      "source": [
        "# 숫자 타입 변수의 기술 통계량 \n",
        "total_df.describe()"
      ],
      "execution_count": null,
      "outputs": [
        {
          "output_type": "execute_result",
          "data": {
            "text/html": [
              "<div>\n",
              "<style scoped>\n",
              "    .dataframe tbody tr th:only-of-type {\n",
              "        vertical-align: middle;\n",
              "    }\n",
              "\n",
              "    .dataframe tbody tr th {\n",
              "        vertical-align: top;\n",
              "    }\n",
              "\n",
              "    .dataframe thead th {\n",
              "        text-align: right;\n",
              "    }\n",
              "</style>\n",
              "<table border=\"1\" class=\"dataframe\">\n",
              "  <thead>\n",
              "    <tr style=\"text-align: right;\">\n",
              "      <th></th>\n",
              "      <th>movie_id</th>\n",
              "      <th>user_id</th>\n",
              "      <th>rating</th>\n",
              "      <th>timestamp</th>\n",
              "      <th>age</th>\n",
              "      <th>occupation</th>\n",
              "    </tr>\n",
              "  </thead>\n",
              "  <tbody>\n",
              "    <tr>\n",
              "      <th>count</th>\n",
              "      <td>1.000209e+06</td>\n",
              "      <td>1.000209e+06</td>\n",
              "      <td>1.000209e+06</td>\n",
              "      <td>1.000209e+06</td>\n",
              "      <td>1.000209e+06</td>\n",
              "      <td>1.000209e+06</td>\n",
              "    </tr>\n",
              "    <tr>\n",
              "      <th>mean</th>\n",
              "      <td>1.865540e+03</td>\n",
              "      <td>3.024512e+03</td>\n",
              "      <td>3.581564e+00</td>\n",
              "      <td>9.722437e+08</td>\n",
              "      <td>2.973831e+01</td>\n",
              "      <td>8.036138e+00</td>\n",
              "    </tr>\n",
              "    <tr>\n",
              "      <th>std</th>\n",
              "      <td>1.096041e+03</td>\n",
              "      <td>1.728413e+03</td>\n",
              "      <td>1.117102e+00</td>\n",
              "      <td>1.215256e+07</td>\n",
              "      <td>1.175198e+01</td>\n",
              "      <td>6.531336e+00</td>\n",
              "    </tr>\n",
              "    <tr>\n",
              "      <th>min</th>\n",
              "      <td>1.000000e+00</td>\n",
              "      <td>1.000000e+00</td>\n",
              "      <td>1.000000e+00</td>\n",
              "      <td>9.567039e+08</td>\n",
              "      <td>1.000000e+00</td>\n",
              "      <td>0.000000e+00</td>\n",
              "    </tr>\n",
              "    <tr>\n",
              "      <th>25%</th>\n",
              "      <td>1.030000e+03</td>\n",
              "      <td>1.506000e+03</td>\n",
              "      <td>3.000000e+00</td>\n",
              "      <td>9.653026e+08</td>\n",
              "      <td>2.500000e+01</td>\n",
              "      <td>2.000000e+00</td>\n",
              "    </tr>\n",
              "    <tr>\n",
              "      <th>50%</th>\n",
              "      <td>1.835000e+03</td>\n",
              "      <td>3.070000e+03</td>\n",
              "      <td>4.000000e+00</td>\n",
              "      <td>9.730180e+08</td>\n",
              "      <td>2.500000e+01</td>\n",
              "      <td>7.000000e+00</td>\n",
              "    </tr>\n",
              "    <tr>\n",
              "      <th>75%</th>\n",
              "      <td>2.770000e+03</td>\n",
              "      <td>4.476000e+03</td>\n",
              "      <td>4.000000e+00</td>\n",
              "      <td>9.752209e+08</td>\n",
              "      <td>3.500000e+01</td>\n",
              "      <td>1.400000e+01</td>\n",
              "    </tr>\n",
              "    <tr>\n",
              "      <th>max</th>\n",
              "      <td>3.952000e+03</td>\n",
              "      <td>6.040000e+03</td>\n",
              "      <td>5.000000e+00</td>\n",
              "      <td>1.046455e+09</td>\n",
              "      <td>5.600000e+01</td>\n",
              "      <td>2.000000e+01</td>\n",
              "    </tr>\n",
              "  </tbody>\n",
              "</table>\n",
              "</div>"
            ],
            "text/plain": [
              "           movie_id       user_id  ...           age    occupation\n",
              "count  1.000209e+06  1.000209e+06  ...  1.000209e+06  1.000209e+06\n",
              "mean   1.865540e+03  3.024512e+03  ...  2.973831e+01  8.036138e+00\n",
              "std    1.096041e+03  1.728413e+03  ...  1.175198e+01  6.531336e+00\n",
              "min    1.000000e+00  1.000000e+00  ...  1.000000e+00  0.000000e+00\n",
              "25%    1.030000e+03  1.506000e+03  ...  2.500000e+01  2.000000e+00\n",
              "50%    1.835000e+03  3.070000e+03  ...  2.500000e+01  7.000000e+00\n",
              "75%    2.770000e+03  4.476000e+03  ...  3.500000e+01  1.400000e+01\n",
              "max    3.952000e+03  6.040000e+03  ...  5.600000e+01  2.000000e+01\n",
              "\n",
              "[8 rows x 6 columns]"
            ]
          },
          "metadata": {
            "tags": []
          },
          "execution_count": 76
        }
      ]
    },
    {
      "cell_type": "code",
      "metadata": {
        "colab": {
          "base_uri": "https://localhost:8080/"
        },
        "id": "aSIlZznjKK-J",
        "outputId": "30212c6a-a104-4149-fc23-3b57d1c575dd"
      },
      "source": [
        "# 다른 이름의 영화 제목 개수- movies 에는 rating에 없는 영화들(사용자평점이 없는 영화들)이 있었다.\n",
        "len(total_df['title'].unique())"
      ],
      "execution_count": null,
      "outputs": [
        {
          "output_type": "execute_result",
          "data": {
            "text/plain": [
              "3706"
            ]
          },
          "metadata": {
            "tags": []
          },
          "execution_count": 77
        }
      ]
    },
    {
      "cell_type": "code",
      "metadata": {
        "colab": {
          "base_uri": "https://localhost:8080/"
        },
        "id": "x6kwxTnFKw_p",
        "outputId": "f642de0b-dbbe-4673-e771-b8f18438f5aa"
      },
      "source": [
        "#영화 평점의 개수(빈도수)\n",
        "rating_count=total_df['rating'].value_counts()\n",
        "rating_count"
      ],
      "execution_count": null,
      "outputs": [
        {
          "output_type": "execute_result",
          "data": {
            "text/plain": [
              "4    348971\n",
              "3    261197\n",
              "5    226310\n",
              "2    107557\n",
              "1     56174\n",
              "Name: rating, dtype: int64"
            ]
          },
          "metadata": {
            "tags": []
          },
          "execution_count": 78
        }
      ]
    },
    {
      "cell_type": "code",
      "metadata": {
        "colab": {
          "base_uri": "https://localhost:8080/",
          "height": 279
        },
        "id": "vYtHcaDpLf6j",
        "outputId": "6e8fb58f-2fc5-48cb-b83d-9abb52b61080"
      },
      "source": [
        "sns.barplot(x=rating_count.index,y=rating_count.values)\n",
        "plt.xlabel('rating')\n",
        "plt.ylabel('count')\n",
        "plt.show()"
      ],
      "execution_count": null,
      "outputs": [
        {
          "output_type": "display_data",
          "data": {
            "image/png": "[encoded data removed]",
            "text/plain": [
              "<Figure size 432x288 with 1 Axes>"
            ]
          },
          "metadata": {
            "tags": [],
            "needs_background": "light"
          }
        }
      ]
    },
    {
      "cell_type": "code",
      "metadata": {
        "colab": {
          "base_uri": "https://localhost:8080/"
        },
        "id": "AZ5-7SwoL8_C",
        "outputId": "c9ba4036-b1df-468b-a034-fce637a124dd"
      },
      "source": [
        "# 연령대 빈도수\n",
        "age_counts=total_df['age'].value_counts()\n",
        "age_counts"
      ],
      "execution_count": null,
      "outputs": [
        {
          "output_type": "execute_result",
          "data": {
            "text/plain": [
              "25    395556\n",
              "35    199003\n",
              "18    183536\n",
              "45     83633\n",
              "50     72490\n",
              "56     38780\n",
              "1      27211\n",
              "Name: age, dtype: int64"
            ]
          },
          "metadata": {
            "tags": []
          },
          "execution_count": 80
        }
      ]
    },
    {
      "cell_type": "code",
      "metadata": {
        "colab": {
          "base_uri": "https://localhost:8080/",
          "height": 279
        },
        "id": "2TWz_FewMJgT",
        "outputId": "be37563e-fb99-4ee1-a012-8458b974d0e5"
      },
      "source": [
        "sns.barplot(x=age_counts.index,y=age_counts.values)\n",
        "plt.xlabel('age')\n",
        "plt.ylabel('count')\n",
        "plt.show()"
      ],
      "execution_count": null,
      "outputs": [
        {
          "output_type": "display_data",
          "data": {
            "image/png": "[encoded data removed]",
            "text/plain": [
              "<Figure size 432x288 with 1 Axes>"
            ]
          },
          "metadata": {
            "tags": [],
            "needs_background": "light"
          }
        }
      ]
    },
    {
      "cell_type": "code",
      "metadata": {
        "colab": {
          "base_uri": "https://localhost:8080/"
        },
        "id": "gdSDaxHWMd5a",
        "outputId": "4c606768-da0e-40e1-8df0-e2672a6441e5"
      },
      "source": [
        "# 사용자 성비\n",
        "gender_counts= total_df['gender'].value_counts()\n",
        "gender_counts"
      ],
      "execution_count": null,
      "outputs": [
        {
          "output_type": "execute_result",
          "data": {
            "text/plain": [
              "M    753769\n",
              "F    246440\n",
              "Name: gender, dtype: int64"
            ]
          },
          "metadata": {
            "tags": []
          },
          "execution_count": 82
        }
      ]
    },
    {
      "cell_type": "code",
      "metadata": {
        "colab": {
          "base_uri": "https://localhost:8080/",
          "height": 265
        },
        "id": "tMQeosR2MuvF",
        "outputId": "0a2fa268-a924-41e4-9572-2375367d2eb3"
      },
      "source": [
        "sns.barplot(x=gender_counts.index,y=gender_counts.values)\n",
        "plt.show()"
      ],
      "execution_count": null,
      "outputs": [
        {
          "output_type": "display_data",
          "data": {
            "image/png": "[encoded data removed]",
            "text/plain": [
              "<Figure size 432x288 with 1 Axes>"
            ]
          },
          "metadata": {
            "tags": [],
            "needs_background": "light"
          }
        }
      ]
    },
    {
      "cell_type": "code",
      "metadata": {
        "colab": {
          "base_uri": "https://localhost:8080/"
        },
        "id": "aeH6ZsrJNJHM",
        "outputId": "a1c0f6db-a5e7-4ce3-e174-e712db7d829b"
      },
      "source": [
        "# 직업코드 (occupation) 빈도수\n",
        "occ_counts= total_df['occupation'].value_counts()\n",
        "occ_counts"
      ],
      "execution_count": null,
      "outputs": [
        {
          "output_type": "execute_result",
          "data": {
            "text/plain": [
              "4     131032\n",
              "0     130499\n",
              "7     105425\n",
              "1      85351\n",
              "17     72816\n",
              "20     60397\n",
              "12     57214\n",
              "2      50068\n",
              "14     49109\n",
              "16     46021\n",
              "6      37205\n",
              "3      31623\n",
              "10     23290\n",
              "15     22951\n",
              "5      21850\n",
              "11     20563\n",
              "19     14904\n",
              "13     13754\n",
              "18     12086\n",
              "9      11345\n",
              "8       2706\n",
              "Name: occupation, dtype: int64"
            ]
          },
          "metadata": {
            "tags": []
          },
          "execution_count": 84
        }
      ]
    },
    {
      "cell_type": "code",
      "metadata": {
        "colab": {
          "base_uri": "https://localhost:8080/",
          "height": 279
        },
        "id": "qI5tmkQJNeGn",
        "outputId": "c8072120-6016-429d-8d05-89042280b4ff"
      },
      "source": [
        "sns.barplot(x=occ_counts.index,y=occ_counts.values)\n",
        "plt.xlabel('occupation')\n",
        "plt.show()"
      ],
      "execution_count": null,
      "outputs": [
        {
          "output_type": "display_data",
          "data": {
            "image/png": "[encoded data removed]",
            "text/plain": [
              "<Figure size 432x288 with 1 Axes>"
            ]
          },
          "metadata": {
            "tags": [],
            "needs_background": "light"
          }
        }
      ]
    },
    {
      "cell_type": "code",
      "metadata": {
        "colab": {
          "base_uri": "https://localhost:8080/"
        },
        "id": "IxGwPfQuHE8n",
        "outputId": "00cbaef4-161b-4d5b-9fc8-7cdbdcd44b7d"
      },
      "source": [
        "# 영화 제목별 평점의 평균 \n",
        "rating_top=total_df.groupby('title')['rating'].mean()\n",
        "rating_top"
      ],
      "execution_count": null,
      "outputs": [
        {
          "output_type": "execute_result",
          "data": {
            "text/plain": [
              "title\n",
              "$1,000,000 Duck (1971)                        3.027027\n",
              "'Night Mother (1986)                          3.371429\n",
              "'Til There Was You (1997)                     2.692308\n",
              "'burbs, The (1989)                            2.910891\n",
              "...And Justice for All (1979)                 3.713568\n",
              "                                                ...   \n",
              "Zed & Two Noughts, A (1985)                   3.413793\n",
              "Zero Effect (1998)                            3.750831\n",
              "Zero Kelvin (Kjærlighetens kjøtere) (1995)    3.500000\n",
              "Zeus and Roxanne (1997)                       2.521739\n",
              "eXistenZ (1999)                               3.256098\n",
              "Name: rating, Length: 3706, dtype: float64"
            ]
          },
          "metadata": {
            "tags": []
          },
          "execution_count": 86
        }
      ]
    },
    {
      "cell_type": "code",
      "metadata": {
        "colab": {
          "base_uri": "https://localhost:8080/"
        },
        "id": "FVaeMk_2CEvY",
        "outputId": "1a09ce33-fa35-45a0-c287-da9492ddd0ac"
      },
      "source": [
        "# 제목별 평점 평균 내림차순 정렬\n",
        "rating_top10=rating_top.sort_values(ascending=False).head(n=10)\n",
        "rating_top10"
      ],
      "execution_count": null,
      "outputs": [
        {
          "output_type": "execute_result",
          "data": {
            "text/plain": [
              "title\n",
              "Gate of Heavenly Peace, The (1995)           5.0\n",
              "Lured (1947)                                 5.0\n",
              "Ulysses (Ulisse) (1954)                      5.0\n",
              "Smashing Time (1967)                         5.0\n",
              "Follow the Bitch (1998)                      5.0\n",
              "Song of Freedom (1936)                       5.0\n",
              "Bittersweet Motel (2000)                     5.0\n",
              "Baby, The (1973)                             5.0\n",
              "One Little Indian (1973)                     5.0\n",
              "Schlafes Bruder (Brother of Sleep) (1995)    5.0\n",
              "Name: rating, dtype: float64"
            ]
          },
          "metadata": {
            "tags": []
          },
          "execution_count": 87
        }
      ]
    },
    {
      "cell_type": "code",
      "metadata": {
        "colab": {
          "base_uri": "https://localhost:8080/",
          "height": 454
        },
        "id": "HnMXazhNTVSl",
        "outputId": "90cf5ba1-9ee2-4c07-b07a-829fa34a8f9d"
      },
      "source": [
        "# 영화 제목 빈도수, 평점 평균\n",
        "total_df.groupby('title')['rating'].agg(['count','mean']).sort_values(by='mean',ascending=False)"
      ],
      "execution_count": null,
      "outputs": [
        {
          "output_type": "execute_result",
          "data": {
            "text/html": [
              "<div>\n",
              "<style scoped>\n",
              "    .dataframe tbody tr th:only-of-type {\n",
              "        vertical-align: middle;\n",
              "    }\n",
              "\n",
              "    .dataframe tbody tr th {\n",
              "        vertical-align: top;\n",
              "    }\n",
              "\n",
              "    .dataframe thead th {\n",
              "        text-align: right;\n",
              "    }\n",
              "</style>\n",
              "<table border=\"1\" class=\"dataframe\">\n",
              "  <thead>\n",
              "    <tr style=\"text-align: right;\">\n",
              "      <th></th>\n",
              "      <th>count</th>\n",
              "      <th>mean</th>\n",
              "    </tr>\n",
              "    <tr>\n",
              "      <th>title</th>\n",
              "      <th></th>\n",
              "      <th></th>\n",
              "    </tr>\n",
              "  </thead>\n",
              "  <tbody>\n",
              "    <tr>\n",
              "      <th>Ulysses (Ulisse) (1954)</th>\n",
              "      <td>1</td>\n",
              "      <td>5.0</td>\n",
              "    </tr>\n",
              "    <tr>\n",
              "      <th>Lured (1947)</th>\n",
              "      <td>1</td>\n",
              "      <td>5.0</td>\n",
              "    </tr>\n",
              "    <tr>\n",
              "      <th>Follow the Bitch (1998)</th>\n",
              "      <td>1</td>\n",
              "      <td>5.0</td>\n",
              "    </tr>\n",
              "    <tr>\n",
              "      <th>Bittersweet Motel (2000)</th>\n",
              "      <td>1</td>\n",
              "      <td>5.0</td>\n",
              "    </tr>\n",
              "    <tr>\n",
              "      <th>Song of Freedom (1936)</th>\n",
              "      <td>1</td>\n",
              "      <td>5.0</td>\n",
              "    </tr>\n",
              "    <tr>\n",
              "      <th>...</th>\n",
              "      <td>...</td>\n",
              "      <td>...</td>\n",
              "    </tr>\n",
              "    <tr>\n",
              "      <th>Fantastic Night, The (La Nuit Fantastique) (1949)</th>\n",
              "      <td>1</td>\n",
              "      <td>1.0</td>\n",
              "    </tr>\n",
              "    <tr>\n",
              "      <th>Cheetah (1989)</th>\n",
              "      <td>1</td>\n",
              "      <td>1.0</td>\n",
              "    </tr>\n",
              "    <tr>\n",
              "      <th>Torso (Corpi Presentano Tracce di Violenza Carnale) (1973)</th>\n",
              "      <td>2</td>\n",
              "      <td>1.0</td>\n",
              "    </tr>\n",
              "    <tr>\n",
              "      <th>Mutters Courage (1995)</th>\n",
              "      <td>1</td>\n",
              "      <td>1.0</td>\n",
              "    </tr>\n",
              "    <tr>\n",
              "      <th>Windows (1980)</th>\n",
              "      <td>1</td>\n",
              "      <td>1.0</td>\n",
              "    </tr>\n",
              "  </tbody>\n",
              "</table>\n",
              "<p>3706 rows × 2 columns</p>\n",
              "</div>"
            ],
            "text/plain": [
              "                                                    count  mean\n",
              "title                                                          \n",
              "Ulysses (Ulisse) (1954)                                 1   5.0\n",
              "Lured (1947)                                            1   5.0\n",
              "Follow the Bitch (1998)                                 1   5.0\n",
              "Bittersweet Motel (2000)                                1   5.0\n",
              "Song of Freedom (1936)                                  1   5.0\n",
              "...                                                   ...   ...\n",
              "Fantastic Night, The (La Nuit Fantastique) (1949)       1   1.0\n",
              "Cheetah (1989)                                          1   1.0\n",
              "Torso (Corpi Presentano Tracce di Violenza Carn...      2   1.0\n",
              "Mutters Courage (1995)                                  1   1.0\n",
              "Windows (1980)                                          1   1.0\n",
              "\n",
              "[3706 rows x 2 columns]"
            ]
          },
          "metadata": {
            "tags": []
          },
          "execution_count": 88
        }
      ]
    },
    {
      "cell_type": "markdown",
      "metadata": {
        "id": "tEmnx3IPUS17"
      },
      "source": [
        "리뷰 건수가 1개 또는 2개 밖에 없는 영화들의 평점 평균을 계산하는 것은 큰 의미가 없을것 같다. 일정 숫자 이상의 리뷰 건수가 있는 영화들만 선택해서 평점 분석을 하는 것이 더 의미가 있을 것 같다. "
      ]
    },
    {
      "cell_type": "code",
      "metadata": {
        "colab": {
          "base_uri": "https://localhost:8080/"
        },
        "id": "WXcNN9HKUiK9",
        "outputId": "a4d43f60-df50-492a-d609-3104aff9944c"
      },
      "source": [
        "# 영화 제목별 리뷰 건수 \n",
        "title_counts=total_df.groupby('title').size()\n",
        "title_counts"
      ],
      "execution_count": null,
      "outputs": [
        {
          "output_type": "execute_result",
          "data": {
            "text/plain": [
              "title\n",
              "$1,000,000 Duck (1971)                         37\n",
              "'Night Mother (1986)                           70\n",
              "'Til There Was You (1997)                      52\n",
              "'burbs, The (1989)                            303\n",
              "...And Justice for All (1979)                 199\n",
              "                                             ... \n",
              "Zed & Two Noughts, A (1985)                    29\n",
              "Zero Effect (1998)                            301\n",
              "Zero Kelvin (Kjærlighetens kjøtere) (1995)      2\n",
              "Zeus and Roxanne (1997)                        23\n",
              "eXistenZ (1999)                               410\n",
              "Length: 3706, dtype: int64"
            ]
          },
          "metadata": {
            "tags": []
          },
          "execution_count": 89
        }
      ]
    },
    {
      "cell_type": "code",
      "metadata": {
        "colab": {
          "base_uri": "https://localhost:8080/"
        },
        "id": "wWnLEE6JVQCP",
        "outputId": "6cfac2d9-29f5-415c-e5e3-9720704585d2"
      },
      "source": [
        "title_counts.describe()"
      ],
      "execution_count": null,
      "outputs": [
        {
          "output_type": "execute_result",
          "data": {
            "text/plain": [
              "count    3706.000000\n",
              "mean      269.889099\n",
              "std       384.047838\n",
              "min         1.000000\n",
              "25%        33.000000\n",
              "50%       123.500000\n",
              "75%       350.000000\n",
              "max      3428.000000\n",
              "dtype: float64"
            ]
          },
          "metadata": {
            "tags": []
          },
          "execution_count": 90
        }
      ]
    },
    {
      "cell_type": "code",
      "metadata": {
        "id": "zHW9EGiL7-Du"
      },
      "source": [
        "# 150건 이상의 리뷰를 받은 영화제목\n",
        "indexer= title_counts[title_counts>=150].index"
      ],
      "execution_count": null,
      "outputs": []
    },
    {
      "cell_type": "code",
      "metadata": {
        "colab": {
          "base_uri": "https://localhost:8080/"
        },
        "id": "NmKAhVXL8WP1",
        "outputId": "920cf14e-88e1-466e-881d-7c5d92c9766d"
      },
      "source": [
        "len(indexer)"
      ],
      "execution_count": null,
      "outputs": [
        {
          "output_type": "execute_result",
          "data": {
            "text/plain": [
              "1683"
            ]
          },
          "metadata": {
            "tags": []
          },
          "execution_count": 92
        }
      ]
    },
    {
      "cell_type": "code",
      "metadata": {
        "id": "Ez3T0iuT82xW"
      },
      "source": [
        "by_title_150=rating_top.loc[indexer]"
      ],
      "execution_count": null,
      "outputs": []
    },
    {
      "cell_type": "code",
      "metadata": {
        "colab": {
          "base_uri": "https://localhost:8080/"
        },
        "id": "4EyfcQZm982M",
        "outputId": "d0c2d5df-e083-4096-d009-c62a6e77f438"
      },
      "source": [
        "# 150건 이상의 리뷰를 받은 영화들 중 평점 평균 상위 10개 \n",
        "by_title_150.sort_values(ascending=False).head(10)"
      ],
      "execution_count": null,
      "outputs": [
        {
          "output_type": "execute_result",
          "data": {
            "text/plain": [
              "title\n",
              "Seven Samurai (The Magnificent Seven) (Shichinin no samurai) (1954)    4.560510\n",
              "Shawshank Redemption, The (1994)                                       4.554558\n",
              "Godfather, The (1972)                                                  4.524966\n",
              "Close Shave, A (1995)                                                  4.520548\n",
              "Usual Suspects, The (1995)                                             4.517106\n",
              "Schindler's List (1993)                                                4.510417\n",
              "Wrong Trousers, The (1993)                                             4.507937\n",
              "Sunset Blvd. (a.k.a. Sunset Boulevard) (1950)                          4.491489\n",
              "Raiders of the Lost Ark (1981)                                         4.477725\n",
              "Rear Window (1954)                                                     4.476190\n",
              "Name: rating, dtype: float64"
            ]
          },
          "metadata": {
            "tags": []
          },
          "execution_count": 94
        }
      ]
    },
    {
      "cell_type": "code",
      "metadata": {
        "colab": {
          "base_uri": "https://localhost:8080/"
        },
        "id": "zIz2hWtf-NCb",
        "outputId": "d5a0a31d-32b8-499b-a3ac-664a0c0e4067"
      },
      "source": [
        "# 150건 이상의 리뷰를 받은 영화들 중 평점 평균 하위 10개 \n",
        "by_title_150.sort_values(ascending=True).head(10)"
      ],
      "execution_count": null,
      "outputs": [
        {
          "output_type": "execute_result",
          "data": {
            "text/plain": [
              "title\n",
              "Battlefield Earth (2000)                            1.611111\n",
              "Baby Geniuses (1999)                                1.701220\n",
              "Police Academy 5: Assignment: Miami Beach (1988)    1.766667\n",
              "Stop! Or My Mom Will Shoot (1992)                   1.782123\n",
              "Jaws 3-D (1983)                                     1.852381\n",
              "Speed 2: Cruise Control (1997)                      1.871935\n",
              "Spice World (1997)                                  1.873684\n",
              "Super Mario Bros. (1993)                            1.874286\n",
              "Home Alone 3 (1997)                                 1.876623\n",
              "Superman IV: The Quest for Peace (1987)             1.888554\n",
              "Name: rating, dtype: float64"
            ]
          },
          "metadata": {
            "tags": []
          },
          "execution_count": 95
        }
      ]
    },
    {
      "cell_type": "code",
      "metadata": {
        "colab": {
          "base_uri": "https://localhost:8080/",
          "height": 454
        },
        "id": "iSft74rTAL0a",
        "outputId": "e32775bc-2934-4c59-abec-164b14a9007f"
      },
      "source": [
        "# 150건 이상의 리뷰를 받은 영화들 중에서 성별 영화 평점 평균\n",
        "total_df.groupby(['title','gender'])['rating'].mean().unstack()"
      ],
      "execution_count": null,
      "outputs": [
        {
          "output_type": "execute_result",
          "data": {
            "text/html": [
              "<div>\n",
              "<style scoped>\n",
              "    .dataframe tbody tr th:only-of-type {\n",
              "        vertical-align: middle;\n",
              "    }\n",
              "\n",
              "    .dataframe tbody tr th {\n",
              "        vertical-align: top;\n",
              "    }\n",
              "\n",
              "    .dataframe thead th {\n",
              "        text-align: right;\n",
              "    }\n",
              "</style>\n",
              "<table border=\"1\" class=\"dataframe\">\n",
              "  <thead>\n",
              "    <tr style=\"text-align: right;\">\n",
              "      <th>gender</th>\n",
              "      <th>F</th>\n",
              "      <th>M</th>\n",
              "    </tr>\n",
              "    <tr>\n",
              "      <th>title</th>\n",
              "      <th></th>\n",
              "      <th></th>\n",
              "    </tr>\n",
              "  </thead>\n",
              "  <tbody>\n",
              "    <tr>\n",
              "      <th>$1,000,000 Duck (1971)</th>\n",
              "      <td>3.375000</td>\n",
              "      <td>2.761905</td>\n",
              "    </tr>\n",
              "    <tr>\n",
              "      <th>'Night Mother (1986)</th>\n",
              "      <td>3.388889</td>\n",
              "      <td>3.352941</td>\n",
              "    </tr>\n",
              "    <tr>\n",
              "      <th>'Til There Was You (1997)</th>\n",
              "      <td>2.675676</td>\n",
              "      <td>2.733333</td>\n",
              "    </tr>\n",
              "    <tr>\n",
              "      <th>'burbs, The (1989)</th>\n",
              "      <td>2.793478</td>\n",
              "      <td>2.962085</td>\n",
              "    </tr>\n",
              "    <tr>\n",
              "      <th>...And Justice for All (1979)</th>\n",
              "      <td>3.828571</td>\n",
              "      <td>3.689024</td>\n",
              "    </tr>\n",
              "    <tr>\n",
              "      <th>...</th>\n",
              "      <td>...</td>\n",
              "      <td>...</td>\n",
              "    </tr>\n",
              "    <tr>\n",
              "      <th>Zed &amp; Two Noughts, A (1985)</th>\n",
              "      <td>3.500000</td>\n",
              "      <td>3.380952</td>\n",
              "    </tr>\n",
              "    <tr>\n",
              "      <th>Zero Effect (1998)</th>\n",
              "      <td>3.864407</td>\n",
              "      <td>3.723140</td>\n",
              "    </tr>\n",
              "    <tr>\n",
              "      <th>Zero Kelvin (Kjærlighetens kjøtere) (1995)</th>\n",
              "      <td>NaN</td>\n",
              "      <td>3.500000</td>\n",
              "    </tr>\n",
              "    <tr>\n",
              "      <th>Zeus and Roxanne (1997)</th>\n",
              "      <td>2.777778</td>\n",
              "      <td>2.357143</td>\n",
              "    </tr>\n",
              "    <tr>\n",
              "      <th>eXistenZ (1999)</th>\n",
              "      <td>3.098592</td>\n",
              "      <td>3.289086</td>\n",
              "    </tr>\n",
              "  </tbody>\n",
              "</table>\n",
              "<p>3706 rows × 2 columns</p>\n",
              "</div>"
            ],
            "text/plain": [
              "gender                                             F         M\n",
              "title                                                         \n",
              "$1,000,000 Duck (1971)                      3.375000  2.761905\n",
              "'Night Mother (1986)                        3.388889  3.352941\n",
              "'Til There Was You (1997)                   2.675676  2.733333\n",
              "'burbs, The (1989)                          2.793478  2.962085\n",
              "...And Justice for All (1979)               3.828571  3.689024\n",
              "...                                              ...       ...\n",
              "Zed & Two Noughts, A (1985)                 3.500000  3.380952\n",
              "Zero Effect (1998)                          3.864407  3.723140\n",
              "Zero Kelvin (Kjærlighetens kjøtere) (1995)       NaN  3.500000\n",
              "Zeus and Roxanne (1997)                     2.777778  2.357143\n",
              "eXistenZ (1999)                             3.098592  3.289086\n",
              "\n",
              "[3706 rows x 2 columns]"
            ]
          },
          "metadata": {
            "tags": []
          },
          "execution_count": 96
        }
      ]
    },
    {
      "cell_type": "code",
      "metadata": {
        "id": "Lfb4OhxZChrd"
      },
      "source": [
        "by_gender=total_df.pivot_table(values='rating',index='title',columns='gender')"
      ],
      "execution_count": null,
      "outputs": []
    },
    {
      "cell_type": "code",
      "metadata": {
        "colab": {
          "base_uri": "https://localhost:8080/",
          "height": 454
        },
        "id": "-14aqEVnC2Sl",
        "outputId": "5dde2482-9abd-4573-9322-02c4a69b23e8"
      },
      "source": [
        "by_gender"
      ],
      "execution_count": null,
      "outputs": [
        {
          "output_type": "execute_result",
          "data": {
            "text/html": [
              "<div>\n",
              "<style scoped>\n",
              "    .dataframe tbody tr th:only-of-type {\n",
              "        vertical-align: middle;\n",
              "    }\n",
              "\n",
              "    .dataframe tbody tr th {\n",
              "        vertical-align: top;\n",
              "    }\n",
              "\n",
              "    .dataframe thead th {\n",
              "        text-align: right;\n",
              "    }\n",
              "</style>\n",
              "<table border=\"1\" class=\"dataframe\">\n",
              "  <thead>\n",
              "    <tr style=\"text-align: right;\">\n",
              "      <th>gender</th>\n",
              "      <th>F</th>\n",
              "      <th>M</th>\n",
              "    </tr>\n",
              "    <tr>\n",
              "      <th>title</th>\n",
              "      <th></th>\n",
              "      <th></th>\n",
              "    </tr>\n",
              "  </thead>\n",
              "  <tbody>\n",
              "    <tr>\n",
              "      <th>$1,000,000 Duck (1971)</th>\n",
              "      <td>3.375000</td>\n",
              "      <td>2.761905</td>\n",
              "    </tr>\n",
              "    <tr>\n",
              "      <th>'Night Mother (1986)</th>\n",
              "      <td>3.388889</td>\n",
              "      <td>3.352941</td>\n",
              "    </tr>\n",
              "    <tr>\n",
              "      <th>'Til There Was You (1997)</th>\n",
              "      <td>2.675676</td>\n",
              "      <td>2.733333</td>\n",
              "    </tr>\n",
              "    <tr>\n",
              "      <th>'burbs, The (1989)</th>\n",
              "      <td>2.793478</td>\n",
              "      <td>2.962085</td>\n",
              "    </tr>\n",
              "    <tr>\n",
              "      <th>...And Justice for All (1979)</th>\n",
              "      <td>3.828571</td>\n",
              "      <td>3.689024</td>\n",
              "    </tr>\n",
              "    <tr>\n",
              "      <th>...</th>\n",
              "      <td>...</td>\n",
              "      <td>...</td>\n",
              "    </tr>\n",
              "    <tr>\n",
              "      <th>Zed &amp; Two Noughts, A (1985)</th>\n",
              "      <td>3.500000</td>\n",
              "      <td>3.380952</td>\n",
              "    </tr>\n",
              "    <tr>\n",
              "      <th>Zero Effect (1998)</th>\n",
              "      <td>3.864407</td>\n",
              "      <td>3.723140</td>\n",
              "    </tr>\n",
              "    <tr>\n",
              "      <th>Zero Kelvin (Kjærlighetens kjøtere) (1995)</th>\n",
              "      <td>NaN</td>\n",
              "      <td>3.500000</td>\n",
              "    </tr>\n",
              "    <tr>\n",
              "      <th>Zeus and Roxanne (1997)</th>\n",
              "      <td>2.777778</td>\n",
              "      <td>2.357143</td>\n",
              "    </tr>\n",
              "    <tr>\n",
              "      <th>eXistenZ (1999)</th>\n",
              "      <td>3.098592</td>\n",
              "      <td>3.289086</td>\n",
              "    </tr>\n",
              "  </tbody>\n",
              "</table>\n",
              "<p>3706 rows × 2 columns</p>\n",
              "</div>"
            ],
            "text/plain": [
              "gender                                             F         M\n",
              "title                                                         \n",
              "$1,000,000 Duck (1971)                      3.375000  2.761905\n",
              "'Night Mother (1986)                        3.388889  3.352941\n",
              "'Til There Was You (1997)                   2.675676  2.733333\n",
              "'burbs, The (1989)                          2.793478  2.962085\n",
              "...And Justice for All (1979)               3.828571  3.689024\n",
              "...                                              ...       ...\n",
              "Zed & Two Noughts, A (1985)                 3.500000  3.380952\n",
              "Zero Effect (1998)                          3.864407  3.723140\n",
              "Zero Kelvin (Kjærlighetens kjøtere) (1995)       NaN  3.500000\n",
              "Zeus and Roxanne (1997)                     2.777778  2.357143\n",
              "eXistenZ (1999)                             3.098592  3.289086\n",
              "\n",
              "[3706 rows x 2 columns]"
            ]
          },
          "metadata": {
            "tags": []
          },
          "execution_count": 98
        }
      ]
    },
    {
      "cell_type": "code",
      "metadata": {
        "id": "uSQy_pgKC6FU"
      },
      "source": [
        "by_gender_150 = by_gender.loc[indexer]"
      ],
      "execution_count": null,
      "outputs": []
    },
    {
      "cell_type": "code",
      "metadata": {
        "id": "3jzkpzcfDBb4"
      },
      "source": [
        "# 남성 평점 평균과 여성 평점 평균의 차이(diff)를 파생 변수로 추가\n",
        "by_gender_150['diff']= by_gender_150['M']-by_gender_150['F']"
      ],
      "execution_count": null,
      "outputs": []
    },
    {
      "cell_type": "code",
      "metadata": {
        "id": "GUUsl0uoAdAG"
      },
      "source": [
        "# 여성  평점 상위 10개 영화"
      ],
      "execution_count": null,
      "outputs": []
    },
    {
      "cell_type": "code",
      "metadata": {
        "colab": {
          "base_uri": "https://localhost:8080/",
          "height": 393
        },
        "id": "lYlh7dkfDUiq",
        "outputId": "96106f58-b809-4798-e297-8dc2b3df9d4f"
      },
      "source": [
        "by_gender_150.sort_values(by='F',ascending=False).head(10)"
      ],
      "execution_count": null,
      "outputs": [
        {
          "output_type": "execute_result",
          "data": {
            "text/html": [
              "<div>\n",
              "<style scoped>\n",
              "    .dataframe tbody tr th:only-of-type {\n",
              "        vertical-align: middle;\n",
              "    }\n",
              "\n",
              "    .dataframe tbody tr th {\n",
              "        vertical-align: top;\n",
              "    }\n",
              "\n",
              "    .dataframe thead th {\n",
              "        text-align: right;\n",
              "    }\n",
              "</style>\n",
              "<table border=\"1\" class=\"dataframe\">\n",
              "  <thead>\n",
              "    <tr style=\"text-align: right;\">\n",
              "      <th>gender</th>\n",
              "      <th>F</th>\n",
              "      <th>M</th>\n",
              "      <th>diff</th>\n",
              "    </tr>\n",
              "    <tr>\n",
              "      <th>title</th>\n",
              "      <th></th>\n",
              "      <th></th>\n",
              "      <th></th>\n",
              "    </tr>\n",
              "  </thead>\n",
              "  <tbody>\n",
              "    <tr>\n",
              "      <th>Close Shave, A (1995)</th>\n",
              "      <td>4.644444</td>\n",
              "      <td>4.473795</td>\n",
              "      <td>-0.170650</td>\n",
              "    </tr>\n",
              "    <tr>\n",
              "      <th>Wrong Trousers, The (1993)</th>\n",
              "      <td>4.588235</td>\n",
              "      <td>4.478261</td>\n",
              "      <td>-0.109974</td>\n",
              "    </tr>\n",
              "    <tr>\n",
              "      <th>General, The (1927)</th>\n",
              "      <td>4.575758</td>\n",
              "      <td>4.329480</td>\n",
              "      <td>-0.246278</td>\n",
              "    </tr>\n",
              "    <tr>\n",
              "      <th>Sunset Blvd. (a.k.a. Sunset Boulevard) (1950)</th>\n",
              "      <td>4.572650</td>\n",
              "      <td>4.464589</td>\n",
              "      <td>-0.108060</td>\n",
              "    </tr>\n",
              "    <tr>\n",
              "      <th>Wallace &amp; Gromit: The Best of Aardman Animation (1996)</th>\n",
              "      <td>4.563107</td>\n",
              "      <td>4.385075</td>\n",
              "      <td>-0.178032</td>\n",
              "    </tr>\n",
              "    <tr>\n",
              "      <th>Schindler's List (1993)</th>\n",
              "      <td>4.562602</td>\n",
              "      <td>4.491415</td>\n",
              "      <td>-0.071187</td>\n",
              "    </tr>\n",
              "    <tr>\n",
              "      <th>Grand Illusion (Grande illusion, La) (1937)</th>\n",
              "      <td>4.560976</td>\n",
              "      <td>4.266129</td>\n",
              "      <td>-0.294847</td>\n",
              "    </tr>\n",
              "    <tr>\n",
              "      <th>Shawshank Redemption, The (1994)</th>\n",
              "      <td>4.539075</td>\n",
              "      <td>4.560625</td>\n",
              "      <td>0.021550</td>\n",
              "    </tr>\n",
              "    <tr>\n",
              "      <th>Grand Day Out, A (1992)</th>\n",
              "      <td>4.537879</td>\n",
              "      <td>4.293255</td>\n",
              "      <td>-0.244624</td>\n",
              "    </tr>\n",
              "    <tr>\n",
              "      <th>To Kill a Mockingbird (1962)</th>\n",
              "      <td>4.536667</td>\n",
              "      <td>4.372611</td>\n",
              "      <td>-0.164055</td>\n",
              "    </tr>\n",
              "  </tbody>\n",
              "</table>\n",
              "</div>"
            ],
            "text/plain": [
              "gender                                                     F  ...      diff\n",
              "title                                                         ...          \n",
              "Close Shave, A (1995)                               4.644444  ... -0.170650\n",
              "Wrong Trousers, The (1993)                          4.588235  ... -0.109974\n",
              "General, The (1927)                                 4.575758  ... -0.246278\n",
              "Sunset Blvd. (a.k.a. Sunset Boulevard) (1950)       4.572650  ... -0.108060\n",
              "Wallace & Gromit: The Best of Aardman Animation...  4.563107  ... -0.178032\n",
              "Schindler's List (1993)                             4.562602  ... -0.071187\n",
              "Grand Illusion (Grande illusion, La) (1937)         4.560976  ... -0.294847\n",
              "Shawshank Redemption, The (1994)                    4.539075  ...  0.021550\n",
              "Grand Day Out, A (1992)                             4.537879  ... -0.244624\n",
              "To Kill a Mockingbird (1962)                        4.536667  ... -0.164055\n",
              "\n",
              "[10 rows x 3 columns]"
            ]
          },
          "metadata": {
            "tags": []
          },
          "execution_count": 102
        }
      ]
    },
    {
      "cell_type": "code",
      "metadata": {
        "id": "ewWK-9eeAe55"
      },
      "source": [
        "# 남성  평점 상위 10개 영화"
      ],
      "execution_count": null,
      "outputs": []
    },
    {
      "cell_type": "code",
      "metadata": {
        "colab": {
          "base_uri": "https://localhost:8080/",
          "height": 393
        },
        "id": "MAS2nqnaDiFf",
        "outputId": "52f86bda-0ae7-43ba-b555-6b80d3fe2f28"
      },
      "source": [
        "by_gender_150.sort_values(by='M',ascending=False).head(10)"
      ],
      "execution_count": null,
      "outputs": [
        {
          "output_type": "execute_result",
          "data": {
            "text/html": [
              "<div>\n",
              "<style scoped>\n",
              "    .dataframe tbody tr th:only-of-type {\n",
              "        vertical-align: middle;\n",
              "    }\n",
              "\n",
              "    .dataframe tbody tr th {\n",
              "        vertical-align: top;\n",
              "    }\n",
              "\n",
              "    .dataframe thead th {\n",
              "        text-align: right;\n",
              "    }\n",
              "</style>\n",
              "<table border=\"1\" class=\"dataframe\">\n",
              "  <thead>\n",
              "    <tr style=\"text-align: right;\">\n",
              "      <th>gender</th>\n",
              "      <th>F</th>\n",
              "      <th>M</th>\n",
              "      <th>diff</th>\n",
              "    </tr>\n",
              "    <tr>\n",
              "      <th>title</th>\n",
              "      <th></th>\n",
              "      <th></th>\n",
              "      <th></th>\n",
              "    </tr>\n",
              "  </thead>\n",
              "  <tbody>\n",
              "    <tr>\n",
              "      <th>Godfather, The (1972)</th>\n",
              "      <td>4.314700</td>\n",
              "      <td>4.583333</td>\n",
              "      <td>0.268634</td>\n",
              "    </tr>\n",
              "    <tr>\n",
              "      <th>Seven Samurai (The Magnificent Seven) (Shichinin no samurai) (1954)</th>\n",
              "      <td>4.481132</td>\n",
              "      <td>4.576628</td>\n",
              "      <td>0.095496</td>\n",
              "    </tr>\n",
              "    <tr>\n",
              "      <th>Shawshank Redemption, The (1994)</th>\n",
              "      <td>4.539075</td>\n",
              "      <td>4.560625</td>\n",
              "      <td>0.021550</td>\n",
              "    </tr>\n",
              "    <tr>\n",
              "      <th>Raiders of the Lost Ark (1981)</th>\n",
              "      <td>4.332168</td>\n",
              "      <td>4.520597</td>\n",
              "      <td>0.188429</td>\n",
              "    </tr>\n",
              "    <tr>\n",
              "      <th>Usual Suspects, The (1995)</th>\n",
              "      <td>4.513317</td>\n",
              "      <td>4.518248</td>\n",
              "      <td>0.004931</td>\n",
              "    </tr>\n",
              "    <tr>\n",
              "      <th>Star Wars: Episode IV - A New Hope (1977)</th>\n",
              "      <td>4.302937</td>\n",
              "      <td>4.495307</td>\n",
              "      <td>0.192371</td>\n",
              "    </tr>\n",
              "    <tr>\n",
              "      <th>Schindler's List (1993)</th>\n",
              "      <td>4.562602</td>\n",
              "      <td>4.491415</td>\n",
              "      <td>-0.071187</td>\n",
              "    </tr>\n",
              "    <tr>\n",
              "      <th>Paths of Glory (1957)</th>\n",
              "      <td>4.392857</td>\n",
              "      <td>4.485149</td>\n",
              "      <td>0.092291</td>\n",
              "    </tr>\n",
              "    <tr>\n",
              "      <th>Wrong Trousers, The (1993)</th>\n",
              "      <td>4.588235</td>\n",
              "      <td>4.478261</td>\n",
              "      <td>-0.109974</td>\n",
              "    </tr>\n",
              "    <tr>\n",
              "      <th>Close Shave, A (1995)</th>\n",
              "      <td>4.644444</td>\n",
              "      <td>4.473795</td>\n",
              "      <td>-0.170650</td>\n",
              "    </tr>\n",
              "  </tbody>\n",
              "</table>\n",
              "</div>"
            ],
            "text/plain": [
              "gender                                                     F  ...      diff\n",
              "title                                                         ...          \n",
              "Godfather, The (1972)                               4.314700  ...  0.268634\n",
              "Seven Samurai (The Magnificent Seven) (Shichini...  4.481132  ...  0.095496\n",
              "Shawshank Redemption, The (1994)                    4.539075  ...  0.021550\n",
              "Raiders of the Lost Ark (1981)                      4.332168  ...  0.188429\n",
              "Usual Suspects, The (1995)                          4.513317  ...  0.004931\n",
              "Star Wars: Episode IV - A New Hope (1977)           4.302937  ...  0.192371\n",
              "Schindler's List (1993)                             4.562602  ... -0.071187\n",
              "Paths of Glory (1957)                               4.392857  ...  0.092291\n",
              "Wrong Trousers, The (1993)                          4.588235  ... -0.109974\n",
              "Close Shave, A (1995)                               4.644444  ... -0.170650\n",
              "\n",
              "[10 rows x 3 columns]"
            ]
          },
          "metadata": {
            "tags": []
          },
          "execution_count": 104
        }
      ]
    },
    {
      "cell_type": "markdown",
      "metadata": {
        "id": "X5w6GhY8KHbp"
      },
      "source": [
        "남녀 평점의 차이가 큰 영화 - 남녀 선호도가 차이나는 영화\n",
        "\n",
        "* 여성 평점 평균이 높은 경우\n",
        "* 남성 평점 평균이 높은 경"
      ]
    },
    {
      "cell_type": "code",
      "metadata": {
        "colab": {
          "base_uri": "https://localhost:8080/",
          "height": 393
        },
        "id": "I0t4GAH8KtuE",
        "outputId": "58d20748-bcce-4af4-c08c-bd4e72b3966a"
      },
      "source": [
        "# 150건 이상의 리뷰를 받은 영화들 중에서 여성들의 평점이 남성에 비해서 높은 영화 상위 10개\n",
        "# ascending=True 생략 -> 오름차순 정렬 -> 작은 숫자부터 큰 숫자 순으로 정렬\n",
        "by_gender_150.sort_values(by='diff').head(n=10)"
      ],
      "execution_count": null,
      "outputs": [
        {
          "output_type": "execute_result",
          "data": {
            "text/html": [
              "<div>\n",
              "<style scoped>\n",
              "    .dataframe tbody tr th:only-of-type {\n",
              "        vertical-align: middle;\n",
              "    }\n",
              "\n",
              "    .dataframe tbody tr th {\n",
              "        vertical-align: top;\n",
              "    }\n",
              "\n",
              "    .dataframe thead th {\n",
              "        text-align: right;\n",
              "    }\n",
              "</style>\n",
              "<table border=\"1\" class=\"dataframe\">\n",
              "  <thead>\n",
              "    <tr style=\"text-align: right;\">\n",
              "      <th>gender</th>\n",
              "      <th>F</th>\n",
              "      <th>M</th>\n",
              "      <th>diff</th>\n",
              "    </tr>\n",
              "    <tr>\n",
              "      <th>title</th>\n",
              "      <th></th>\n",
              "      <th></th>\n",
              "      <th></th>\n",
              "    </tr>\n",
              "  </thead>\n",
              "  <tbody>\n",
              "    <tr>\n",
              "      <th>Dirty Dancing (1987)</th>\n",
              "      <td>3.790378</td>\n",
              "      <td>2.959596</td>\n",
              "      <td>-0.830782</td>\n",
              "    </tr>\n",
              "    <tr>\n",
              "      <th>Home Alone 3 (1997)</th>\n",
              "      <td>2.486486</td>\n",
              "      <td>1.683761</td>\n",
              "      <td>-0.802726</td>\n",
              "    </tr>\n",
              "    <tr>\n",
              "      <th>To Wong Foo, Thanks for Everything! Julie Newmar (1995)</th>\n",
              "      <td>3.486842</td>\n",
              "      <td>2.795276</td>\n",
              "      <td>-0.691567</td>\n",
              "    </tr>\n",
              "    <tr>\n",
              "      <th>Jumpin' Jack Flash (1986)</th>\n",
              "      <td>3.254717</td>\n",
              "      <td>2.578358</td>\n",
              "      <td>-0.676359</td>\n",
              "    </tr>\n",
              "    <tr>\n",
              "      <th>Dracula: Dead and Loving It (1995)</th>\n",
              "      <td>2.892857</td>\n",
              "      <td>2.250000</td>\n",
              "      <td>-0.642857</td>\n",
              "    </tr>\n",
              "    <tr>\n",
              "      <th>Grease (1978)</th>\n",
              "      <td>3.975265</td>\n",
              "      <td>3.367041</td>\n",
              "      <td>-0.608224</td>\n",
              "    </tr>\n",
              "    <tr>\n",
              "      <th>Police Academy 4: Citizens on Patrol (1987)</th>\n",
              "      <td>2.406250</td>\n",
              "      <td>1.802817</td>\n",
              "      <td>-0.603433</td>\n",
              "    </tr>\n",
              "    <tr>\n",
              "      <th>Brokedown Palace (1999)</th>\n",
              "      <td>3.312500</td>\n",
              "      <td>2.723577</td>\n",
              "      <td>-0.588923</td>\n",
              "    </tr>\n",
              "    <tr>\n",
              "      <th>Relic, The (1997)</th>\n",
              "      <td>3.309524</td>\n",
              "      <td>2.723077</td>\n",
              "      <td>-0.586447</td>\n",
              "    </tr>\n",
              "    <tr>\n",
              "      <th>Angels in the Outfield (1994)</th>\n",
              "      <td>3.162500</td>\n",
              "      <td>2.580838</td>\n",
              "      <td>-0.581662</td>\n",
              "    </tr>\n",
              "  </tbody>\n",
              "</table>\n",
              "</div>"
            ],
            "text/plain": [
              "gender                                                     F  ...      diff\n",
              "title                                                         ...          \n",
              "Dirty Dancing (1987)                                3.790378  ... -0.830782\n",
              "Home Alone 3 (1997)                                 2.486486  ... -0.802726\n",
              "To Wong Foo, Thanks for Everything! Julie Newma...  3.486842  ... -0.691567\n",
              "Jumpin' Jack Flash (1986)                           3.254717  ... -0.676359\n",
              "Dracula: Dead and Loving It (1995)                  2.892857  ... -0.642857\n",
              "Grease (1978)                                       3.975265  ... -0.608224\n",
              "Police Academy 4: Citizens on Patrol (1987)         2.406250  ... -0.603433\n",
              "Brokedown Palace (1999)                             3.312500  ... -0.588923\n",
              "Relic, The (1997)                                   3.309524  ... -0.586447\n",
              "Angels in the Outfield (1994)                       3.162500  ... -0.581662\n",
              "\n",
              "[10 rows x 3 columns]"
            ]
          },
          "metadata": {
            "tags": []
          },
          "execution_count": 105
        }
      ]
    },
    {
      "cell_type": "code",
      "metadata": {
        "colab": {
          "base_uri": "https://localhost:8080/",
          "height": 393
        },
        "id": "Utu5izL6LpsG",
        "outputId": "1c7e0055-5034-4a53-a763-309ac9c620d2"
      },
      "source": [
        "# 150건 이상의 리뷰를 받은 영화들 중에서 남성들의 평점이 여성에 비해서 높은 영화 상위 10개\n",
        "by_gender_150.sort_values(by='diff',ascending=False).head(n=10)"
      ],
      "execution_count": null,
      "outputs": [
        {
          "output_type": "execute_result",
          "data": {
            "text/html": [
              "<div>\n",
              "<style scoped>\n",
              "    .dataframe tbody tr th:only-of-type {\n",
              "        vertical-align: middle;\n",
              "    }\n",
              "\n",
              "    .dataframe tbody tr th {\n",
              "        vertical-align: top;\n",
              "    }\n",
              "\n",
              "    .dataframe thead th {\n",
              "        text-align: right;\n",
              "    }\n",
              "</style>\n",
              "<table border=\"1\" class=\"dataframe\">\n",
              "  <thead>\n",
              "    <tr style=\"text-align: right;\">\n",
              "      <th>gender</th>\n",
              "      <th>F</th>\n",
              "      <th>M</th>\n",
              "      <th>diff</th>\n",
              "    </tr>\n",
              "    <tr>\n",
              "      <th>title</th>\n",
              "      <th></th>\n",
              "      <th></th>\n",
              "      <th></th>\n",
              "    </tr>\n",
              "  </thead>\n",
              "  <tbody>\n",
              "    <tr>\n",
              "      <th>Lifeforce (1985)</th>\n",
              "      <td>2.250000</td>\n",
              "      <td>2.994152</td>\n",
              "      <td>0.744152</td>\n",
              "    </tr>\n",
              "    <tr>\n",
              "      <th>Quest for Fire (1981)</th>\n",
              "      <td>2.578947</td>\n",
              "      <td>3.309677</td>\n",
              "      <td>0.730730</td>\n",
              "    </tr>\n",
              "    <tr>\n",
              "      <th>Good, The Bad and The Ugly, The (1966)</th>\n",
              "      <td>3.494949</td>\n",
              "      <td>4.221300</td>\n",
              "      <td>0.726351</td>\n",
              "    </tr>\n",
              "    <tr>\n",
              "      <th>No Escape (1994)</th>\n",
              "      <td>2.300000</td>\n",
              "      <td>2.994048</td>\n",
              "      <td>0.694048</td>\n",
              "    </tr>\n",
              "    <tr>\n",
              "      <th>Kentucky Fried Movie, The (1977)</th>\n",
              "      <td>2.878788</td>\n",
              "      <td>3.555147</td>\n",
              "      <td>0.676359</td>\n",
              "    </tr>\n",
              "    <tr>\n",
              "      <th>Tora! Tora! Tora! (1970)</th>\n",
              "      <td>3.090909</td>\n",
              "      <td>3.737705</td>\n",
              "      <td>0.646796</td>\n",
              "    </tr>\n",
              "    <tr>\n",
              "      <th>Up in Smoke (1978)</th>\n",
              "      <td>2.944444</td>\n",
              "      <td>3.585227</td>\n",
              "      <td>0.640783</td>\n",
              "    </tr>\n",
              "    <tr>\n",
              "      <th>Dumb &amp; Dumber (1994)</th>\n",
              "      <td>2.697987</td>\n",
              "      <td>3.336595</td>\n",
              "      <td>0.638608</td>\n",
              "    </tr>\n",
              "    <tr>\n",
              "      <th>Friday the 13th: The Final Chapter (1984)</th>\n",
              "      <td>1.636364</td>\n",
              "      <td>2.258503</td>\n",
              "      <td>0.622140</td>\n",
              "    </tr>\n",
              "    <tr>\n",
              "      <th>Longest Day, The (1962)</th>\n",
              "      <td>3.411765</td>\n",
              "      <td>4.031447</td>\n",
              "      <td>0.619682</td>\n",
              "    </tr>\n",
              "  </tbody>\n",
              "</table>\n",
              "</div>"
            ],
            "text/plain": [
              "gender                                            F         M      diff\n",
              "title                                                                  \n",
              "Lifeforce (1985)                           2.250000  2.994152  0.744152\n",
              "Quest for Fire (1981)                      2.578947  3.309677  0.730730\n",
              "Good, The Bad and The Ugly, The (1966)     3.494949  4.221300  0.726351\n",
              "No Escape (1994)                           2.300000  2.994048  0.694048\n",
              "Kentucky Fried Movie, The (1977)           2.878788  3.555147  0.676359\n",
              "Tora! Tora! Tora! (1970)                   3.090909  3.737705  0.646796\n",
              "Up in Smoke (1978)                         2.944444  3.585227  0.640783\n",
              "Dumb & Dumber (1994)                       2.697987  3.336595  0.638608\n",
              "Friday the 13th: The Final Chapter (1984)  1.636364  2.258503  0.622140\n",
              "Longest Day, The (1962)                    3.411765  4.031447  0.619682"
            ]
          },
          "metadata": {
            "tags": []
          },
          "execution_count": 106
        }
      ]
    },
    {
      "cell_type": "markdown",
      "metadata": {
        "id": "IvjNq3YYNzuI"
      },
      "source": [
        "성별과 상관없이, 영화의 선호도가 차이가 큰 영화들 - 평점 표준편차"
      ]
    },
    {
      "cell_type": "code",
      "metadata": {
        "id": "yYynQpUiN92J"
      },
      "source": [
        "#영화 제목별 평점평균, 표준편차\n",
        "by_title= total_df.groupby('title')['rating'].agg(['mean','std'])"
      ],
      "execution_count": null,
      "outputs": []
    },
    {
      "cell_type": "code",
      "metadata": {
        "colab": {
          "base_uri": "https://localhost:8080/",
          "height": 454
        },
        "id": "pekd7q2yOxqh",
        "outputId": "bd3a7f4e-c0a1-47b9-b65a-189cac39ee81"
      },
      "source": [
        "by_title"
      ],
      "execution_count": null,
      "outputs": [
        {
          "output_type": "execute_result",
          "data": {
            "text/html": [
              "<div>\n",
              "<style scoped>\n",
              "    .dataframe tbody tr th:only-of-type {\n",
              "        vertical-align: middle;\n",
              "    }\n",
              "\n",
              "    .dataframe tbody tr th {\n",
              "        vertical-align: top;\n",
              "    }\n",
              "\n",
              "    .dataframe thead th {\n",
              "        text-align: right;\n",
              "    }\n",
              "</style>\n",
              "<table border=\"1\" class=\"dataframe\">\n",
              "  <thead>\n",
              "    <tr style=\"text-align: right;\">\n",
              "      <th></th>\n",
              "      <th>mean</th>\n",
              "      <th>std</th>\n",
              "    </tr>\n",
              "    <tr>\n",
              "      <th>title</th>\n",
              "      <th></th>\n",
              "      <th></th>\n",
              "    </tr>\n",
              "  </thead>\n",
              "  <tbody>\n",
              "    <tr>\n",
              "      <th>$1,000,000 Duck (1971)</th>\n",
              "      <td>3.027027</td>\n",
              "      <td>1.092563</td>\n",
              "    </tr>\n",
              "    <tr>\n",
              "      <th>'Night Mother (1986)</th>\n",
              "      <td>3.371429</td>\n",
              "      <td>1.118636</td>\n",
              "    </tr>\n",
              "    <tr>\n",
              "      <th>'Til There Was You (1997)</th>\n",
              "      <td>2.692308</td>\n",
              "      <td>1.020159</td>\n",
              "    </tr>\n",
              "    <tr>\n",
              "      <th>'burbs, The (1989)</th>\n",
              "      <td>2.910891</td>\n",
              "      <td>1.107760</td>\n",
              "    </tr>\n",
              "    <tr>\n",
              "      <th>...And Justice for All (1979)</th>\n",
              "      <td>3.713568</td>\n",
              "      <td>0.878110</td>\n",
              "    </tr>\n",
              "    <tr>\n",
              "      <th>...</th>\n",
              "      <td>...</td>\n",
              "      <td>...</td>\n",
              "    </tr>\n",
              "    <tr>\n",
              "      <th>Zed &amp; Two Noughts, A (1985)</th>\n",
              "      <td>3.413793</td>\n",
              "      <td>1.052794</td>\n",
              "    </tr>\n",
              "    <tr>\n",
              "      <th>Zero Effect (1998)</th>\n",
              "      <td>3.750831</td>\n",
              "      <td>1.042932</td>\n",
              "    </tr>\n",
              "    <tr>\n",
              "      <th>Zero Kelvin (Kjærlighetens kjøtere) (1995)</th>\n",
              "      <td>3.500000</td>\n",
              "      <td>0.707107</td>\n",
              "    </tr>\n",
              "    <tr>\n",
              "      <th>Zeus and Roxanne (1997)</th>\n",
              "      <td>2.521739</td>\n",
              "      <td>1.122884</td>\n",
              "    </tr>\n",
              "    <tr>\n",
              "      <th>eXistenZ (1999)</th>\n",
              "      <td>3.256098</td>\n",
              "      <td>1.178568</td>\n",
              "    </tr>\n",
              "  </tbody>\n",
              "</table>\n",
              "<p>3706 rows × 2 columns</p>\n",
              "</div>"
            ],
            "text/plain": [
              "                                                mean       std\n",
              "title                                                         \n",
              "$1,000,000 Duck (1971)                      3.027027  1.092563\n",
              "'Night Mother (1986)                        3.371429  1.118636\n",
              "'Til There Was You (1997)                   2.692308  1.020159\n",
              "'burbs, The (1989)                          2.910891  1.107760\n",
              "...And Justice for All (1979)               3.713568  0.878110\n",
              "...                                              ...       ...\n",
              "Zed & Two Noughts, A (1985)                 3.413793  1.052794\n",
              "Zero Effect (1998)                          3.750831  1.042932\n",
              "Zero Kelvin (Kjærlighetens kjøtere) (1995)  3.500000  0.707107\n",
              "Zeus and Roxanne (1997)                     2.521739  1.122884\n",
              "eXistenZ (1999)                             3.256098  1.178568\n",
              "\n",
              "[3706 rows x 2 columns]"
            ]
          },
          "metadata": {
            "tags": []
          },
          "execution_count": 108
        }
      ]
    },
    {
      "cell_type": "code",
      "metadata": {
        "id": "WSs3RFM5OiP7"
      },
      "source": [
        "by_title_150 = by_title.loc[indexer]"
      ],
      "execution_count": null,
      "outputs": []
    },
    {
      "cell_type": "code",
      "metadata": {
        "colab": {
          "base_uri": "https://localhost:8080/",
          "height": 454
        },
        "id": "QOh2lqpAPGKb",
        "outputId": "d53c221a-5acc-4ec1-cadd-b2ddf266b730"
      },
      "source": [
        "by_title_150"
      ],
      "execution_count": null,
      "outputs": [
        {
          "output_type": "execute_result",
          "data": {
            "text/html": [
              "<div>\n",
              "<style scoped>\n",
              "    .dataframe tbody tr th:only-of-type {\n",
              "        vertical-align: middle;\n",
              "    }\n",
              "\n",
              "    .dataframe tbody tr th {\n",
              "        vertical-align: top;\n",
              "    }\n",
              "\n",
              "    .dataframe thead th {\n",
              "        text-align: right;\n",
              "    }\n",
              "</style>\n",
              "<table border=\"1\" class=\"dataframe\">\n",
              "  <thead>\n",
              "    <tr style=\"text-align: right;\">\n",
              "      <th></th>\n",
              "      <th>mean</th>\n",
              "      <th>std</th>\n",
              "    </tr>\n",
              "    <tr>\n",
              "      <th>title</th>\n",
              "      <th></th>\n",
              "      <th></th>\n",
              "    </tr>\n",
              "  </thead>\n",
              "  <tbody>\n",
              "    <tr>\n",
              "      <th>'burbs, The (1989)</th>\n",
              "      <td>2.910891</td>\n",
              "      <td>1.107760</td>\n",
              "    </tr>\n",
              "    <tr>\n",
              "      <th>...And Justice for All (1979)</th>\n",
              "      <td>3.713568</td>\n",
              "      <td>0.878110</td>\n",
              "    </tr>\n",
              "    <tr>\n",
              "      <th>10 Things I Hate About You (1999)</th>\n",
              "      <td>3.422857</td>\n",
              "      <td>0.989815</td>\n",
              "    </tr>\n",
              "    <tr>\n",
              "      <th>101 Dalmatians (1961)</th>\n",
              "      <td>3.596460</td>\n",
              "      <td>0.982103</td>\n",
              "    </tr>\n",
              "    <tr>\n",
              "      <th>101 Dalmatians (1996)</th>\n",
              "      <td>3.046703</td>\n",
              "      <td>1.098717</td>\n",
              "    </tr>\n",
              "    <tr>\n",
              "      <th>...</th>\n",
              "      <td>...</td>\n",
              "      <td>...</td>\n",
              "    </tr>\n",
              "    <tr>\n",
              "      <th>Young Guns (1988)</th>\n",
              "      <td>3.418149</td>\n",
              "      <td>1.017437</td>\n",
              "    </tr>\n",
              "    <tr>\n",
              "      <th>Young Guns II (1990)</th>\n",
              "      <td>2.907859</td>\n",
              "      <td>1.071959</td>\n",
              "    </tr>\n",
              "    <tr>\n",
              "      <th>Young Sherlock Holmes (1985)</th>\n",
              "      <td>3.390501</td>\n",
              "      <td>0.891176</td>\n",
              "    </tr>\n",
              "    <tr>\n",
              "      <th>Zero Effect (1998)</th>\n",
              "      <td>3.750831</td>\n",
              "      <td>1.042932</td>\n",
              "    </tr>\n",
              "    <tr>\n",
              "      <th>eXistenZ (1999)</th>\n",
              "      <td>3.256098</td>\n",
              "      <td>1.178568</td>\n",
              "    </tr>\n",
              "  </tbody>\n",
              "</table>\n",
              "<p>1683 rows × 2 columns</p>\n",
              "</div>"
            ],
            "text/plain": [
              "                                       mean       std\n",
              "title                                                \n",
              "'burbs, The (1989)                 2.910891  1.107760\n",
              "...And Justice for All (1979)      3.713568  0.878110\n",
              "10 Things I Hate About You (1999)  3.422857  0.989815\n",
              "101 Dalmatians (1961)              3.596460  0.982103\n",
              "101 Dalmatians (1996)              3.046703  1.098717\n",
              "...                                     ...       ...\n",
              "Young Guns (1988)                  3.418149  1.017437\n",
              "Young Guns II (1990)               2.907859  1.071959\n",
              "Young Sherlock Holmes (1985)       3.390501  0.891176\n",
              "Zero Effect (1998)                 3.750831  1.042932\n",
              "eXistenZ (1999)                    3.256098  1.178568\n",
              "\n",
              "[1683 rows x 2 columns]"
            ]
          },
          "metadata": {
            "tags": []
          },
          "execution_count": 110
        }
      ]
    },
    {
      "cell_type": "code",
      "metadata": {
        "colab": {
          "base_uri": "https://localhost:8080/",
          "height": 454
        },
        "id": "wwB7zbzRPI6Z",
        "outputId": "633284be-d067-488a-be88-a2f883d1b1eb"
      },
      "source": [
        "# 표준편차 내림차순 정렬\n",
        "by_title_150.sort_values(by='std',ascending=False)"
      ],
      "execution_count": null,
      "outputs": [
        {
          "output_type": "execute_result",
          "data": {
            "text/html": [
              "<div>\n",
              "<style scoped>\n",
              "    .dataframe tbody tr th:only-of-type {\n",
              "        vertical-align: middle;\n",
              "    }\n",
              "\n",
              "    .dataframe tbody tr th {\n",
              "        vertical-align: top;\n",
              "    }\n",
              "\n",
              "    .dataframe thead th {\n",
              "        text-align: right;\n",
              "    }\n",
              "</style>\n",
              "<table border=\"1\" class=\"dataframe\">\n",
              "  <thead>\n",
              "    <tr style=\"text-align: right;\">\n",
              "      <th></th>\n",
              "      <th>mean</th>\n",
              "      <th>std</th>\n",
              "    </tr>\n",
              "    <tr>\n",
              "      <th>title</th>\n",
              "      <th></th>\n",
              "      <th></th>\n",
              "    </tr>\n",
              "  </thead>\n",
              "  <tbody>\n",
              "    <tr>\n",
              "      <th>Plan 9 from Outer Space (1958)</th>\n",
              "      <td>2.634538</td>\n",
              "      <td>1.455998</td>\n",
              "    </tr>\n",
              "    <tr>\n",
              "      <th>Texas Chainsaw Massacre, The (1974)</th>\n",
              "      <td>3.222672</td>\n",
              "      <td>1.332448</td>\n",
              "    </tr>\n",
              "    <tr>\n",
              "      <th>Dumb &amp; Dumber (1994)</th>\n",
              "      <td>3.192424</td>\n",
              "      <td>1.321333</td>\n",
              "    </tr>\n",
              "    <tr>\n",
              "      <th>Blair Witch Project, The (1999)</th>\n",
              "      <td>3.031528</td>\n",
              "      <td>1.316368</td>\n",
              "    </tr>\n",
              "    <tr>\n",
              "      <th>Natural Born Killers (1994)</th>\n",
              "      <td>3.144286</td>\n",
              "      <td>1.307198</td>\n",
              "    </tr>\n",
              "    <tr>\n",
              "      <th>...</th>\n",
              "      <td>...</td>\n",
              "      <td>...</td>\n",
              "    </tr>\n",
              "    <tr>\n",
              "      <th>Wrong Trousers, The (1993)</th>\n",
              "      <td>4.507937</td>\n",
              "      <td>0.708666</td>\n",
              "    </tr>\n",
              "    <tr>\n",
              "      <th>Shawshank Redemption, The (1994)</th>\n",
              "      <td>4.554558</td>\n",
              "      <td>0.700443</td>\n",
              "    </tr>\n",
              "    <tr>\n",
              "      <th>Great Escape, The (1963)</th>\n",
              "      <td>4.376437</td>\n",
              "      <td>0.692585</td>\n",
              "    </tr>\n",
              "    <tr>\n",
              "      <th>Rear Window (1954)</th>\n",
              "      <td>4.476190</td>\n",
              "      <td>0.688946</td>\n",
              "    </tr>\n",
              "    <tr>\n",
              "      <th>Close Shave, A (1995)</th>\n",
              "      <td>4.520548</td>\n",
              "      <td>0.667143</td>\n",
              "    </tr>\n",
              "  </tbody>\n",
              "</table>\n",
              "<p>1683 rows × 2 columns</p>\n",
              "</div>"
            ],
            "text/plain": [
              "                                         mean       std\n",
              "title                                                  \n",
              "Plan 9 from Outer Space (1958)       2.634538  1.455998\n",
              "Texas Chainsaw Massacre, The (1974)  3.222672  1.332448\n",
              "Dumb & Dumber (1994)                 3.192424  1.321333\n",
              "Blair Witch Project, The (1999)      3.031528  1.316368\n",
              "Natural Born Killers (1994)          3.144286  1.307198\n",
              "...                                       ...       ...\n",
              "Wrong Trousers, The (1993)           4.507937  0.708666\n",
              "Shawshank Redemption, The (1994)     4.554558  0.700443\n",
              "Great Escape, The (1963)             4.376437  0.692585\n",
              "Rear Window (1954)                   4.476190  0.688946\n",
              "Close Shave, A (1995)                4.520548  0.667143\n",
              "\n",
              "[1683 rows x 2 columns]"
            ]
          },
          "metadata": {
            "tags": []
          },
          "execution_count": 111
        }
      ]
    },
    {
      "cell_type": "code",
      "metadata": {
        "id": "bCFFS8-UkvDC"
      },
      "source": [
        "df= total_df"
      ],
      "execution_count": null,
      "outputs": []
    },
    {
      "cell_type": "code",
      "metadata": {
        "id": "ZECQhEkFlQl7"
      },
      "source": [
        "# 선호도 차이가 적은 영화 - 평점 평균 표준편차가 작은 영화 "
      ],
      "execution_count": null,
      "outputs": []
    },
    {
      "cell_type": "code",
      "metadata": {
        "colab": {
          "base_uri": "https://localhost:8080/"
        },
        "id": "KOe8_9mxk1A5",
        "outputId": "ba38367b-81e0-4404-b4b3-5ccd8de93646"
      },
      "source": [
        "df.loc[df.title=='Plan 9 from Outer Space (1958)','rating'].describe()"
      ],
      "execution_count": null,
      "outputs": [
        {
          "output_type": "execute_result",
          "data": {
            "text/plain": [
              "count    249.000000\n",
              "mean       2.634538\n",
              "std        1.455998\n",
              "min        1.000000\n",
              "25%        1.000000\n",
              "50%        2.000000\n",
              "75%        4.000000\n",
              "max        5.000000\n",
              "Name: rating, dtype: float64"
            ]
          },
          "metadata": {
            "tags": []
          },
          "execution_count": 114
        }
      ]
    },
    {
      "cell_type": "code",
      "metadata": {
        "id": "-F4FcBmCyyRx"
      },
      "source": [
        "# movies 데이터 프레임에서 title 컬럼을 인덱스로 변환\n",
        "movies_with_idx=movies.set_index('title')"
      ],
      "execution_count": null,
      "outputs": []
    },
    {
      "cell_type": "code",
      "metadata": {
        "colab": {
          "base_uri": "https://localhost:8080/",
          "height": 454
        },
        "id": "I1VM6gPIzEPS",
        "outputId": "9891fa5e-62d0-471a-ff1f-b5b16ae6f08b"
      },
      "source": [
        "movies_with_idx.loc[indexer] # 150건 이상의 리뷰가 있는 영화들 "
      ],
      "execution_count": null,
      "outputs": [
        {
          "output_type": "execute_result",
          "data": {
            "text/html": [
              "<div>\n",
              "<style scoped>\n",
              "    .dataframe tbody tr th:only-of-type {\n",
              "        vertical-align: middle;\n",
              "    }\n",
              "\n",
              "    .dataframe tbody tr th {\n",
              "        vertical-align: top;\n",
              "    }\n",
              "\n",
              "    .dataframe thead th {\n",
              "        text-align: right;\n",
              "    }\n",
              "</style>\n",
              "<table border=\"1\" class=\"dataframe\">\n",
              "  <thead>\n",
              "    <tr style=\"text-align: right;\">\n",
              "      <th></th>\n",
              "      <th>movie_id</th>\n",
              "      <th>genres</th>\n",
              "    </tr>\n",
              "    <tr>\n",
              "      <th>title</th>\n",
              "      <th></th>\n",
              "      <th></th>\n",
              "    </tr>\n",
              "  </thead>\n",
              "  <tbody>\n",
              "    <tr>\n",
              "      <th>'burbs, The (1989)</th>\n",
              "      <td>2072</td>\n",
              "      <td>Comedy</td>\n",
              "    </tr>\n",
              "    <tr>\n",
              "      <th>...And Justice for All (1979)</th>\n",
              "      <td>3420</td>\n",
              "      <td>Drama|Thriller</td>\n",
              "    </tr>\n",
              "    <tr>\n",
              "      <th>10 Things I Hate About You (1999)</th>\n",
              "      <td>2572</td>\n",
              "      <td>Comedy|Romance</td>\n",
              "    </tr>\n",
              "    <tr>\n",
              "      <th>101 Dalmatians (1961)</th>\n",
              "      <td>2085</td>\n",
              "      <td>Animation|Children's</td>\n",
              "    </tr>\n",
              "    <tr>\n",
              "      <th>101 Dalmatians (1996)</th>\n",
              "      <td>1367</td>\n",
              "      <td>Children's|Comedy</td>\n",
              "    </tr>\n",
              "    <tr>\n",
              "      <th>...</th>\n",
              "      <td>...</td>\n",
              "      <td>...</td>\n",
              "    </tr>\n",
              "    <tr>\n",
              "      <th>Young Guns (1988)</th>\n",
              "      <td>1378</td>\n",
              "      <td>Action|Comedy|Western</td>\n",
              "    </tr>\n",
              "    <tr>\n",
              "      <th>Young Guns II (1990)</th>\n",
              "      <td>1379</td>\n",
              "      <td>Action|Comedy|Western</td>\n",
              "    </tr>\n",
              "    <tr>\n",
              "      <th>Young Sherlock Holmes (1985)</th>\n",
              "      <td>2414</td>\n",
              "      <td>Action|Adventure|Mystery</td>\n",
              "    </tr>\n",
              "    <tr>\n",
              "      <th>Zero Effect (1998)</th>\n",
              "      <td>1845</td>\n",
              "      <td>Comedy|Thriller</td>\n",
              "    </tr>\n",
              "    <tr>\n",
              "      <th>eXistenZ (1999)</th>\n",
              "      <td>2600</td>\n",
              "      <td>Action|Sci-Fi|Thriller</td>\n",
              "    </tr>\n",
              "  </tbody>\n",
              "</table>\n",
              "<p>1683 rows × 2 columns</p>\n",
              "</div>"
            ],
            "text/plain": [
              "                                   movie_id                    genres\n",
              "title                                                                \n",
              "'burbs, The (1989)                     2072                    Comedy\n",
              "...And Justice for All (1979)          3420            Drama|Thriller\n",
              "10 Things I Hate About You (1999)      2572            Comedy|Romance\n",
              "101 Dalmatians (1961)                  2085      Animation|Children's\n",
              "101 Dalmatians (1996)                  1367         Children's|Comedy\n",
              "...                                     ...                       ...\n",
              "Young Guns (1988)                      1378     Action|Comedy|Western\n",
              "Young Guns II (1990)                   1379     Action|Comedy|Western\n",
              "Young Sherlock Holmes (1985)           2414  Action|Adventure|Mystery\n",
              "Zero Effect (1998)                     1845           Comedy|Thriller\n",
              "eXistenZ (1999)                        2600    Action|Sci-Fi|Thriller\n",
              "\n",
              "[1683 rows x 2 columns]"
            ]
          },
          "metadata": {
            "tags": []
          },
          "execution_count": 118
        }
      ]
    },
    {
      "cell_type": "markdown",
      "metadata": {
        "id": "vWwgU9Xsl2nR"
      },
      "source": [
        "* 150건 이상 리뷰를 받은 영화들 중에서,  평점 평균 4.0 이상인 영화들에서 자주 등장하는 영화 장르 상위 10개 "
      ]
    },
    {
      "cell_type": "code",
      "metadata": {
        "colab": {
          "base_uri": "https://localhost:8080/"
        },
        "id": "pdCa3Aa5l57f",
        "outputId": "15df2b1d-4bb7-4006-828d-6c7396ccecc9"
      },
      "source": [
        "idx_over4=by_title_150[by_title_150['mean']>=4].index\n",
        "idx_over4 #> 150건 이상 리뷰를 받은 영화들 중에서, 평점 평균 4.0 이상인 영화 제목들"
      ],
      "execution_count": null,
      "outputs": [
        {
          "output_type": "execute_result",
          "data": {
            "text/plain": [
              "Index(['12 Angry Men (1957)', '2001: A Space Odyssey (1968)',\n",
              "       '39 Steps, The (1935)',\n",
              "       '400 Blows, The (Les Quatre cents coups) (1959)', '8 1/2 (1963)',\n",
              "       'African Queen, The (1951)', 'Alien (1979)', 'Aliens (1986)',\n",
              "       'All About Eve (1950)',\n",
              "       'All About My Mother (Todo Sobre Mi Madre) (1999)',\n",
              "       ...\n",
              "       'West Side Story (1961)', 'When Harry Met Sally... (1989)',\n",
              "       'When We Were Kings (1996)', 'Who's Afraid of Virginia Woolf? (1966)',\n",
              "       'Wild Bunch, The (1969)',\n",
              "       'Wings of Desire (Der Himmel über Berlin) (1987)',\n",
              "       'Wizard of Oz, The (1939)', 'Wrong Trousers, The (1993)',\n",
              "       'Yojimbo (1961)', 'Young Frankenstein (1974)'],\n",
              "      dtype='object', name='title', length=283)"
            ]
          },
          "metadata": {
            "tags": []
          },
          "execution_count": 119
        }
      ]
    },
    {
      "cell_type": "code",
      "metadata": {
        "colab": {
          "base_uri": "https://localhost:8080/",
          "height": 454
        },
        "id": "8nV0v8Sa1Yki",
        "outputId": "f3282802-0cb2-4ff7-f1c1-25ac60f70d9f"
      },
      "source": [
        "movies_over4= movies_with_idx.loc[idx_over4]\n",
        "movies_over4"
      ],
      "execution_count": null,
      "outputs": [
        {
          "output_type": "execute_result",
          "data": {
            "text/html": [
              "<div>\n",
              "<style scoped>\n",
              "    .dataframe tbody tr th:only-of-type {\n",
              "        vertical-align: middle;\n",
              "    }\n",
              "\n",
              "    .dataframe tbody tr th {\n",
              "        vertical-align: top;\n",
              "    }\n",
              "\n",
              "    .dataframe thead th {\n",
              "        text-align: right;\n",
              "    }\n",
              "</style>\n",
              "<table border=\"1\" class=\"dataframe\">\n",
              "  <thead>\n",
              "    <tr style=\"text-align: right;\">\n",
              "      <th></th>\n",
              "      <th>movie_id</th>\n",
              "      <th>genres</th>\n",
              "    </tr>\n",
              "    <tr>\n",
              "      <th>title</th>\n",
              "      <th></th>\n",
              "      <th></th>\n",
              "    </tr>\n",
              "  </thead>\n",
              "  <tbody>\n",
              "    <tr>\n",
              "      <th>12 Angry Men (1957)</th>\n",
              "      <td>1203</td>\n",
              "      <td>Drama</td>\n",
              "    </tr>\n",
              "    <tr>\n",
              "      <th>2001: A Space Odyssey (1968)</th>\n",
              "      <td>924</td>\n",
              "      <td>Drama|Mystery|Sci-Fi|Thriller</td>\n",
              "    </tr>\n",
              "    <tr>\n",
              "      <th>39 Steps, The (1935)</th>\n",
              "      <td>965</td>\n",
              "      <td>Thriller</td>\n",
              "    </tr>\n",
              "    <tr>\n",
              "      <th>400 Blows, The (Les Quatre cents coups) (1959)</th>\n",
              "      <td>2731</td>\n",
              "      <td>Drama</td>\n",
              "    </tr>\n",
              "    <tr>\n",
              "      <th>8 1/2 (1963)</th>\n",
              "      <td>1251</td>\n",
              "      <td>Drama</td>\n",
              "    </tr>\n",
              "    <tr>\n",
              "      <th>...</th>\n",
              "      <td>...</td>\n",
              "      <td>...</td>\n",
              "    </tr>\n",
              "    <tr>\n",
              "      <th>Wings of Desire (Der Himmel über Berlin) (1987)</th>\n",
              "      <td>1211</td>\n",
              "      <td>Comedy|Drama|Romance</td>\n",
              "    </tr>\n",
              "    <tr>\n",
              "      <th>Wizard of Oz, The (1939)</th>\n",
              "      <td>919</td>\n",
              "      <td>Adventure|Children's|Drama|Musical</td>\n",
              "    </tr>\n",
              "    <tr>\n",
              "      <th>Wrong Trousers, The (1993)</th>\n",
              "      <td>1148</td>\n",
              "      <td>Animation|Comedy</td>\n",
              "    </tr>\n",
              "    <tr>\n",
              "      <th>Yojimbo (1961)</th>\n",
              "      <td>3030</td>\n",
              "      <td>Comedy|Drama|Western</td>\n",
              "    </tr>\n",
              "    <tr>\n",
              "      <th>Young Frankenstein (1974)</th>\n",
              "      <td>1278</td>\n",
              "      <td>Comedy|Horror</td>\n",
              "    </tr>\n",
              "  </tbody>\n",
              "</table>\n",
              "<p>283 rows × 2 columns</p>\n",
              "</div>"
            ],
            "text/plain": [
              "                                                 movie_id                              genres\n",
              "title                                                                                        \n",
              "12 Angry Men (1957)                                  1203                               Drama\n",
              "2001: A Space Odyssey (1968)                          924       Drama|Mystery|Sci-Fi|Thriller\n",
              "39 Steps, The (1935)                                  965                            Thriller\n",
              "400 Blows, The (Les Quatre cents coups) (1959)       2731                               Drama\n",
              "8 1/2 (1963)                                         1251                               Drama\n",
              "...                                                   ...                                 ...\n",
              "Wings of Desire (Der Himmel über Berlin) (1987)      1211                Comedy|Drama|Romance\n",
              "Wizard of Oz, The (1939)                              919  Adventure|Children's|Drama|Musical\n",
              "Wrong Trousers, The (1993)                           1148                    Animation|Comedy\n",
              "Yojimbo (1961)                                       3030                Comedy|Drama|Western\n",
              "Young Frankenstein (1974)                            1278                       Comedy|Horror\n",
              "\n",
              "[283 rows x 2 columns]"
            ]
          },
          "metadata": {
            "tags": []
          },
          "execution_count": 120
        }
      ]
    },
    {
      "cell_type": "code",
      "metadata": {
        "id": "FHKdAwCq1klK"
      },
      "source": [
        "genres_over4=[]\n",
        "for s in movies_over4['genres']:\n",
        "  genres_over4.extend(s.split(sep='|'))\n",
        "  "
      ],
      "execution_count": null,
      "outputs": []
    },
    {
      "cell_type": "code",
      "metadata": {
        "id": "_HVtdqs42D5f"
      },
      "source": [
        "genres_over4=pd.Series(genres_over4)"
      ],
      "execution_count": null,
      "outputs": []
    },
    {
      "cell_type": "code",
      "metadata": {
        "colab": {
          "base_uri": "https://localhost:8080/"
        },
        "id": "gnz9DoD82Wad",
        "outputId": "fc4ed22d-2292-418d-9f3b-1ed0e00acf04"
      },
      "source": [
        "genres_counts=genres_over4.value_counts().head(10)\n",
        "genres_counts"
      ],
      "execution_count": null,
      "outputs": [
        {
          "output_type": "execute_result",
          "data": {
            "text/plain": [
              "Drama        134\n",
              "Comedy        82\n",
              "Thriller      51\n",
              "Romance       38\n",
              "War           36\n",
              "Action        36\n",
              "Crime         26\n",
              "Mystery       21\n",
              "Sci-Fi        19\n",
              "Adventure     17\n",
              "dtype: int64"
            ]
          },
          "metadata": {
            "tags": []
          },
          "execution_count": 131
        }
      ]
    },
    {
      "cell_type": "code",
      "metadata": {
        "colab": {
          "base_uri": "https://localhost:8080/",
          "height": 299
        },
        "id": "wNwShA8-3B84",
        "outputId": "d445f29c-8a4b-4f5a-9e3e-c67a0e3a3a80"
      },
      "source": [
        "sns.barplot(x=genres_counts.values,y=genres_counts.index)\n",
        "plt.title('Genres with mean rating 4.0+')"
      ],
      "execution_count": null,
      "outputs": [
        {
          "output_type": "execute_result",
          "data": {
            "text/plain": [
              "Text(0.5, 1.0, 'Genres with mean rating 4.0+')"
            ]
          },
          "metadata": {
            "tags": []
          },
          "execution_count": 133
        },
        {
          "output_type": "display_data",
          "data": {
            "image/png": "[encoded data removed]",
            "text/plain": [
              "<Figure size 432x288 with 1 Axes>"
            ]
          },
          "metadata": {
            "tags": [],
            "needs_background": "light"
          }
        }
      ]
    },
    {
      "cell_type": "markdown",
      "metadata": {
        "id": "SwP1CKsZsSwe"
      },
      "source": [
        "* 150건 이상 리뷰를 받은 영화들 중에서, 여성 평점 평균 4.0 이상인 영화들에서 자주 등장하는 영화 장르 상위 10개"
      ]
    },
    {
      "cell_type": "code",
      "metadata": {
        "colab": {
          "base_uri": "https://localhost:8080/"
        },
        "id": "fSw8EpNM4mpB",
        "outputId": "75576b76-45cb-4a4e-f13a-09c11c676eca"
      },
      "source": [
        "idx_female =by_gender_150[by_gender_150['F']>=4.0].index\n",
        "idx_female"
      ],
      "execution_count": null,
      "outputs": [
        {
          "output_type": "execute_result",
          "data": {
            "text/plain": [
              "Index(['12 Angry Men (1957)', '400 Blows, The (Les Quatre cents coups) (1959)',\n",
              "       '8 1/2 (1963)', 'Adventures of Robin Hood, The (1938)',\n",
              "       'Affair to Remember, An (1957)', 'African Queen, The (1951)',\n",
              "       'All About Eve (1950)',\n",
              "       'All About My Mother (Todo Sobre Mi Madre) (1999)',\n",
              "       'All That Jazz (1979)', 'Almost Famous (2000)',\n",
              "       ...\n",
              "       'When We Were Kings (1996)', 'Who's Afraid of Virginia Woolf? (1966)',\n",
              "       'Willy Wonka and the Chocolate Factory (1971)',\n",
              "       'Wings of Desire (Der Himmel über Berlin) (1987)', 'Witness (1985)',\n",
              "       'Wizard of Oz, The (1939)', 'Wonder Boys (2000)',\n",
              "       'Wrong Trousers, The (1993)', 'Yojimbo (1961)',\n",
              "       'Young Frankenstein (1974)'],\n",
              "      dtype='object', name='title', length=279)"
            ]
          },
          "metadata": {
            "tags": []
          },
          "execution_count": 136
        }
      ]
    },
    {
      "cell_type": "code",
      "metadata": {
        "colab": {
          "base_uri": "https://localhost:8080/",
          "height": 454
        },
        "id": "qEiBQMXl45yr",
        "outputId": "a7cc52ae-5a5f-43df-e325-b02e6626ad57"
      },
      "source": [
        "female_movies=movies_with_idx.loc[idx_female]\n",
        "female_movies # 150건 이상 리뷰를 받은 영화들 중에서 ,여성 평점 평균 4.0 이상인 영화의 장르"
      ],
      "execution_count": null,
      "outputs": [
        {
          "output_type": "execute_result",
          "data": {
            "text/html": [
              "<div>\n",
              "<style scoped>\n",
              "    .dataframe tbody tr th:only-of-type {\n",
              "        vertical-align: middle;\n",
              "    }\n",
              "\n",
              "    .dataframe tbody tr th {\n",
              "        vertical-align: top;\n",
              "    }\n",
              "\n",
              "    .dataframe thead th {\n",
              "        text-align: right;\n",
              "    }\n",
              "</style>\n",
              "<table border=\"1\" class=\"dataframe\">\n",
              "  <thead>\n",
              "    <tr style=\"text-align: right;\">\n",
              "      <th></th>\n",
              "      <th>movie_id</th>\n",
              "      <th>genres</th>\n",
              "    </tr>\n",
              "    <tr>\n",
              "      <th>title</th>\n",
              "      <th></th>\n",
              "      <th></th>\n",
              "    </tr>\n",
              "  </thead>\n",
              "  <tbody>\n",
              "    <tr>\n",
              "      <th>12 Angry Men (1957)</th>\n",
              "      <td>1203</td>\n",
              "      <td>Drama</td>\n",
              "    </tr>\n",
              "    <tr>\n",
              "      <th>400 Blows, The (Les Quatre cents coups) (1959)</th>\n",
              "      <td>2731</td>\n",
              "      <td>Drama</td>\n",
              "    </tr>\n",
              "    <tr>\n",
              "      <th>8 1/2 (1963)</th>\n",
              "      <td>1251</td>\n",
              "      <td>Drama</td>\n",
              "    </tr>\n",
              "    <tr>\n",
              "      <th>Adventures of Robin Hood, The (1938)</th>\n",
              "      <td>940</td>\n",
              "      <td>Action|Adventure</td>\n",
              "    </tr>\n",
              "    <tr>\n",
              "      <th>Affair to Remember, An (1957)</th>\n",
              "      <td>932</td>\n",
              "      <td>Romance</td>\n",
              "    </tr>\n",
              "    <tr>\n",
              "      <th>...</th>\n",
              "      <td>...</td>\n",
              "      <td>...</td>\n",
              "    </tr>\n",
              "    <tr>\n",
              "      <th>Wizard of Oz, The (1939)</th>\n",
              "      <td>919</td>\n",
              "      <td>Adventure|Children's|Drama|Musical</td>\n",
              "    </tr>\n",
              "    <tr>\n",
              "      <th>Wonder Boys (2000)</th>\n",
              "      <td>3317</td>\n",
              "      <td>Comedy|Drama</td>\n",
              "    </tr>\n",
              "    <tr>\n",
              "      <th>Wrong Trousers, The (1993)</th>\n",
              "      <td>1148</td>\n",
              "      <td>Animation|Comedy</td>\n",
              "    </tr>\n",
              "    <tr>\n",
              "      <th>Yojimbo (1961)</th>\n",
              "      <td>3030</td>\n",
              "      <td>Comedy|Drama|Western</td>\n",
              "    </tr>\n",
              "    <tr>\n",
              "      <th>Young Frankenstein (1974)</th>\n",
              "      <td>1278</td>\n",
              "      <td>Comedy|Horror</td>\n",
              "    </tr>\n",
              "  </tbody>\n",
              "</table>\n",
              "<p>279 rows × 2 columns</p>\n",
              "</div>"
            ],
            "text/plain": [
              "                                                movie_id                              genres\n",
              "title                                                                                       \n",
              "12 Angry Men (1957)                                 1203                               Drama\n",
              "400 Blows, The (Les Quatre cents coups) (1959)      2731                               Drama\n",
              "8 1/2 (1963)                                        1251                               Drama\n",
              "Adventures of Robin Hood, The (1938)                 940                    Action|Adventure\n",
              "Affair to Remember, An (1957)                        932                             Romance\n",
              "...                                                  ...                                 ...\n",
              "Wizard of Oz, The (1939)                             919  Adventure|Children's|Drama|Musical\n",
              "Wonder Boys (2000)                                  3317                        Comedy|Drama\n",
              "Wrong Trousers, The (1993)                          1148                    Animation|Comedy\n",
              "Yojimbo (1961)                                      3030                Comedy|Drama|Western\n",
              "Young Frankenstein (1974)                           1278                       Comedy|Horror\n",
              "\n",
              "[279 rows x 2 columns]"
            ]
          },
          "metadata": {
            "tags": []
          },
          "execution_count": 138
        }
      ]
    },
    {
      "cell_type": "code",
      "metadata": {
        "id": "Td5jx6IC5cvz"
      },
      "source": [
        "female_genres=[] # 여성 평점 평균 4.0 이상 인 영화들의 장르들을 저장할 리스트\n",
        "for s in female_movies['genres']:\n",
        "  female_genres.extend(s.split(sep='|'))\n",
        "\n",
        "female_genres= pd.Series(female_genres)   # 리스트를 pd.Series 객체로 변환 \n"
      ],
      "execution_count": null,
      "outputs": []
    },
    {
      "cell_type": "code",
      "metadata": {
        "colab": {
          "base_uri": "https://localhost:8080/"
        },
        "id": "UhkIQbq4594O",
        "outputId": "455ddf42-9f9f-48fb-a96b-f60273feef17"
      },
      "source": [
        "female_genres_counts=female_genres.value_counts().head(10) # 상위 10개 \n",
        "female_genres_counts"
      ],
      "execution_count": null,
      "outputs": [
        {
          "output_type": "execute_result",
          "data": {
            "text/plain": [
              "Drama        145\n",
              "Comedy        82\n",
              "Romance       47\n",
              "Thriller      40\n",
              "War           32\n",
              "Action        24\n",
              "Mystery       22\n",
              "Crime         21\n",
              "Musical       17\n",
              "Adventure     15\n",
              "dtype: int64"
            ]
          },
          "metadata": {
            "tags": []
          },
          "execution_count": 148
        }
      ]
    },
    {
      "cell_type": "code",
      "metadata": {
        "colab": {
          "base_uri": "https://localhost:8080/",
          "height": 281
        },
        "id": "Y_nKtUD06WWf",
        "outputId": "94a9a235-5f22-426b-f695-a5efad9a31c5"
      },
      "source": [
        "sns.barplot(x=female_genres_counts.values,y=female_genres_counts.index)\n",
        "plt.title('Genres with female rating mean 4.0+')\n",
        "plt.show()"
      ],
      "execution_count": null,
      "outputs": [
        {
          "output_type": "display_data",
          "data": {
            "image/png": "[encoded data removed]",
            "text/plain": [
              "<Figure size 432x288 with 1 Axes>"
            ]
          },
          "metadata": {
            "tags": [],
            "needs_background": "light"
          }
        }
      ]
    },
    {
      "cell_type": "markdown",
      "metadata": {
        "id": "C-3K3TjlsSaH"
      },
      "source": [
        "* 150건 이상 리뷰를 받은 영화들 중에서, 남성 평점 평균 4.0 이상인 영화들에서 자주 등장하는 영화 장르 상위 10개"
      ]
    },
    {
      "cell_type": "code",
      "metadata": {
        "colab": {
          "base_uri": "https://localhost:8080/"
        },
        "id": "_oKlkg-zAdso",
        "outputId": "967de92a-2028-41df-ab15-751dc4af0abc"
      },
      "source": [
        "idx_male =by_gender_150[by_gender_150['M']>=4.0].index\n",
        "idx_male"
      ],
      "execution_count": null,
      "outputs": [
        {
          "output_type": "execute_result",
          "data": {
            "text/plain": [
              "Index(['12 Angry Men (1957)', '2001: A Space Odyssey (1968)',\n",
              "       '39 Steps, The (1935)',\n",
              "       '400 Blows, The (Les Quatre cents coups) (1959)', '8 1/2 (1963)',\n",
              "       'African Queen, The (1951)', 'Airplane! (1980)', 'Alien (1979)',\n",
              "       'Aliens (1986)', 'All About Eve (1950)',\n",
              "       ...\n",
              "       'Waiting for Guffman (1996)',\n",
              "       'Wallace & Gromit: The Best of Aardman Animation (1996)',\n",
              "       'When We Were Kings (1996)', 'Who's Afraid of Virginia Woolf? (1966)',\n",
              "       'Wild Bunch, The (1969)',\n",
              "       'Wings of Desire (Der Himmel über Berlin) (1987)',\n",
              "       'Wizard of Oz, The (1939)', 'Wrong Trousers, The (1993)',\n",
              "       'Yojimbo (1961)', 'Young Frankenstein (1974)'],\n",
              "      dtype='object', name='title', length=278)"
            ]
          },
          "metadata": {
            "tags": []
          },
          "execution_count": 150
        }
      ]
    },
    {
      "cell_type": "code",
      "metadata": {
        "colab": {
          "base_uri": "https://localhost:8080/",
          "height": 454
        },
        "id": "1yM5ri3yAgO_",
        "outputId": "ffb6435b-d87b-4e0e-b3b6-487d5e3d80d1"
      },
      "source": [
        "male_movies=movies_with_idx.loc[idx_male]\n",
        "male_movies # 150건 이상 리뷰를 받은 영화들 중에서 ,남성 평점 평균 4.0 이상인 영화의 장르"
      ],
      "execution_count": null,
      "outputs": [
        {
          "output_type": "execute_result",
          "data": {
            "text/html": [
              "<div>\n",
              "<style scoped>\n",
              "    .dataframe tbody tr th:only-of-type {\n",
              "        vertical-align: middle;\n",
              "    }\n",
              "\n",
              "    .dataframe tbody tr th {\n",
              "        vertical-align: top;\n",
              "    }\n",
              "\n",
              "    .dataframe thead th {\n",
              "        text-align: right;\n",
              "    }\n",
              "</style>\n",
              "<table border=\"1\" class=\"dataframe\">\n",
              "  <thead>\n",
              "    <tr style=\"text-align: right;\">\n",
              "      <th></th>\n",
              "      <th>movie_id</th>\n",
              "      <th>genres</th>\n",
              "    </tr>\n",
              "    <tr>\n",
              "      <th>title</th>\n",
              "      <th></th>\n",
              "      <th></th>\n",
              "    </tr>\n",
              "  </thead>\n",
              "  <tbody>\n",
              "    <tr>\n",
              "      <th>12 Angry Men (1957)</th>\n",
              "      <td>1203</td>\n",
              "      <td>Drama</td>\n",
              "    </tr>\n",
              "    <tr>\n",
              "      <th>2001: A Space Odyssey (1968)</th>\n",
              "      <td>924</td>\n",
              "      <td>Drama|Mystery|Sci-Fi|Thriller</td>\n",
              "    </tr>\n",
              "    <tr>\n",
              "      <th>39 Steps, The (1935)</th>\n",
              "      <td>965</td>\n",
              "      <td>Thriller</td>\n",
              "    </tr>\n",
              "    <tr>\n",
              "      <th>400 Blows, The (Les Quatre cents coups) (1959)</th>\n",
              "      <td>2731</td>\n",
              "      <td>Drama</td>\n",
              "    </tr>\n",
              "    <tr>\n",
              "      <th>8 1/2 (1963)</th>\n",
              "      <td>1251</td>\n",
              "      <td>Drama</td>\n",
              "    </tr>\n",
              "    <tr>\n",
              "      <th>...</th>\n",
              "      <td>...</td>\n",
              "      <td>...</td>\n",
              "    </tr>\n",
              "    <tr>\n",
              "      <th>Wings of Desire (Der Himmel über Berlin) (1987)</th>\n",
              "      <td>1211</td>\n",
              "      <td>Comedy|Drama|Romance</td>\n",
              "    </tr>\n",
              "    <tr>\n",
              "      <th>Wizard of Oz, The (1939)</th>\n",
              "      <td>919</td>\n",
              "      <td>Adventure|Children's|Drama|Musical</td>\n",
              "    </tr>\n",
              "    <tr>\n",
              "      <th>Wrong Trousers, The (1993)</th>\n",
              "      <td>1148</td>\n",
              "      <td>Animation|Comedy</td>\n",
              "    </tr>\n",
              "    <tr>\n",
              "      <th>Yojimbo (1961)</th>\n",
              "      <td>3030</td>\n",
              "      <td>Comedy|Drama|Western</td>\n",
              "    </tr>\n",
              "    <tr>\n",
              "      <th>Young Frankenstein (1974)</th>\n",
              "      <td>1278</td>\n",
              "      <td>Comedy|Horror</td>\n",
              "    </tr>\n",
              "  </tbody>\n",
              "</table>\n",
              "<p>278 rows × 2 columns</p>\n",
              "</div>"
            ],
            "text/plain": [
              "                                                 movie_id                              genres\n",
              "title                                                                                        \n",
              "12 Angry Men (1957)                                  1203                               Drama\n",
              "2001: A Space Odyssey (1968)                          924       Drama|Mystery|Sci-Fi|Thriller\n",
              "39 Steps, The (1935)                                  965                            Thriller\n",
              "400 Blows, The (Les Quatre cents coups) (1959)       2731                               Drama\n",
              "8 1/2 (1963)                                         1251                               Drama\n",
              "...                                                   ...                                 ...\n",
              "Wings of Desire (Der Himmel über Berlin) (1987)      1211                Comedy|Drama|Romance\n",
              "Wizard of Oz, The (1939)                              919  Adventure|Children's|Drama|Musical\n",
              "Wrong Trousers, The (1993)                           1148                    Animation|Comedy\n",
              "Yojimbo (1961)                                       3030                Comedy|Drama|Western\n",
              "Young Frankenstein (1974)                            1278                       Comedy|Horror\n",
              "\n",
              "[278 rows x 2 columns]"
            ]
          },
          "metadata": {
            "tags": []
          },
          "execution_count": 151
        }
      ]
    },
    {
      "cell_type": "code",
      "metadata": {
        "colab": {
          "base_uri": "https://localhost:8080/"
        },
        "id": "glhcWcY_AmmJ",
        "outputId": "dde403a0-efa8-4436-ce02-681b0dbc0203"
      },
      "source": [
        "male_genres=[] # 남성 평점 평균 4.0 이상 인 영화들의 장르들을 저장할 리스트\n",
        "for s in male_movies['genres']:\n",
        "  male_genres.extend(s.split(sep='|'))\n",
        "\n",
        "male_genres= pd.Series(male_genres)   # 리스트를 pd.Series 객체로 변환 \n",
        "male_genres"
      ],
      "execution_count": null,
      "outputs": [
        {
          "output_type": "execute_result",
          "data": {
            "text/plain": [
              "0         Drama\n",
              "1         Drama\n",
              "2       Mystery\n",
              "3        Sci-Fi\n",
              "4      Thriller\n",
              "         ...   \n",
              "511      Comedy\n",
              "512       Drama\n",
              "513     Western\n",
              "514      Comedy\n",
              "515      Horror\n",
              "Length: 516, dtype: object"
            ]
          },
          "metadata": {
            "tags": []
          },
          "execution_count": 155
        }
      ]
    },
    {
      "cell_type": "code",
      "metadata": {
        "colab": {
          "base_uri": "https://localhost:8080/"
        },
        "id": "zwhW3p8nA3C_",
        "outputId": "5fb8c407-f104-40d5-b8a7-920d0a35c11e"
      },
      "source": [
        "male_genres_counts=male_genres.value_counts().head(10)\n",
        "male_genres_counts"
      ],
      "execution_count": null,
      "outputs": [
        {
          "output_type": "execute_result",
          "data": {
            "text/plain": [
              "Drama        131\n",
              "Comedy        80\n",
              "Thriller      49\n",
              "Action        39\n",
              "War           36\n",
              "Romance       32\n",
              "Crime         26\n",
              "Mystery       19\n",
              "Sci-Fi        19\n",
              "Adventure     17\n",
              "dtype: int64"
            ]
          },
          "metadata": {
            "tags": []
          },
          "execution_count": 158
        }
      ]
    },
    {
      "cell_type": "code",
      "metadata": {
        "colab": {
          "base_uri": "https://localhost:8080/",
          "height": 281
        },
        "id": "qHpbisCiBBZG",
        "outputId": "bf3fc48a-52fb-4319-8dc1-5b8c8df1b1c0"
      },
      "source": [
        "sns.barplot(x=male_genres_counts.values,y=male_genres_counts.index)\n",
        "plt.title('Genres with male rating mean 4.0+')\n",
        "plt.show()"
      ],
      "execution_count": null,
      "outputs": [
        {
          "output_type": "display_data",
          "data": {
            "image/png": "[encoded data removed]",
            "text/plain": [
              "<Figure size 432x288 with 1 Axes>"
            ]
          },
          "metadata": {
            "tags": [],
            "needs_background": "light"
          }
        }
      ]
    },
    {
      "cell_type": "markdown",
      "metadata": {
        "id": "f1PfblhICUsg"
      },
      "source": [
        "* 150건 이상의 리뷰가 있는 영화들 중에서, 평점의 표준편차가 큰 영화 상위 50개"
      ]
    },
    {
      "cell_type": "code",
      "metadata": {
        "id": "1ORXgi4VCTV_"
      },
      "source": [
        "std_top_50=by_title_150.sort_values('std',ascending=False).head(50)\n",
        "std_top_50=std_top_50.index"
      ],
      "execution_count": null,
      "outputs": []
    },
    {
      "cell_type": "code",
      "metadata": {
        "colab": {
          "base_uri": "https://localhost:8080/",
          "height": 1000
        },
        "id": "QtA_wTY7DRa4",
        "outputId": "d2ea94db-9c35-4b5f-e4be-6a42abb7564e"
      },
      "source": [
        "std_top_50_genres=movies_with_idx.loc[std_top_50]\n",
        "std_top_50_genres"
      ],
      "execution_count": null,
      "outputs": [
        {
          "output_type": "execute_result",
          "data": {
            "text/html": [
              "<div>\n",
              "<style scoped>\n",
              "    .dataframe tbody tr th:only-of-type {\n",
              "        vertical-align: middle;\n",
              "    }\n",
              "\n",
              "    .dataframe tbody tr th {\n",
              "        vertical-align: top;\n",
              "    }\n",
              "\n",
              "    .dataframe thead th {\n",
              "        text-align: right;\n",
              "    }\n",
              "</style>\n",
              "<table border=\"1\" class=\"dataframe\">\n",
              "  <thead>\n",
              "    <tr style=\"text-align: right;\">\n",
              "      <th></th>\n",
              "      <th>movie_id</th>\n",
              "      <th>genres</th>\n",
              "    </tr>\n",
              "    <tr>\n",
              "      <th>title</th>\n",
              "      <th></th>\n",
              "      <th></th>\n",
              "    </tr>\n",
              "  </thead>\n",
              "  <tbody>\n",
              "    <tr>\n",
              "      <th>Plan 9 from Outer Space (1958)</th>\n",
              "      <td>1924</td>\n",
              "      <td>Horror|Sci-Fi</td>\n",
              "    </tr>\n",
              "    <tr>\n",
              "      <th>Texas Chainsaw Massacre, The (1974)</th>\n",
              "      <td>2459</td>\n",
              "      <td>Horror</td>\n",
              "    </tr>\n",
              "    <tr>\n",
              "      <th>Dumb &amp; Dumber (1994)</th>\n",
              "      <td>231</td>\n",
              "      <td>Comedy</td>\n",
              "    </tr>\n",
              "    <tr>\n",
              "      <th>Blair Witch Project, The (1999)</th>\n",
              "      <td>2710</td>\n",
              "      <td>Horror</td>\n",
              "    </tr>\n",
              "    <tr>\n",
              "      <th>Natural Born Killers (1994)</th>\n",
              "      <td>288</td>\n",
              "      <td>Action|Thriller</td>\n",
              "    </tr>\n",
              "    <tr>\n",
              "      <th>Idle Hands (1999)</th>\n",
              "      <td>2606</td>\n",
              "      <td>Comedy|Horror</td>\n",
              "    </tr>\n",
              "    <tr>\n",
              "      <th>Pink Flamingos (1972)</th>\n",
              "      <td>2361</td>\n",
              "      <td>Comedy</td>\n",
              "    </tr>\n",
              "    <tr>\n",
              "      <th>Transformers: The Movie, The (1986)</th>\n",
              "      <td>1205</td>\n",
              "      <td>Action|Animation|Children's|Sci-Fi|Thriller|War</td>\n",
              "    </tr>\n",
              "    <tr>\n",
              "      <th>Very Bad Things (1998)</th>\n",
              "      <td>2387</td>\n",
              "      <td>Comedy|Crime</td>\n",
              "    </tr>\n",
              "    <tr>\n",
              "      <th>Tank Girl (1995)</th>\n",
              "      <td>327</td>\n",
              "      <td>Action|Comedy|Musical|Sci-Fi</td>\n",
              "    </tr>\n",
              "    <tr>\n",
              "      <th>Hellraiser: Bloodline (1996)</th>\n",
              "      <td>611</td>\n",
              "      <td>Action|Horror|Sci-Fi</td>\n",
              "    </tr>\n",
              "    <tr>\n",
              "      <th>Eraserhead (1977)</th>\n",
              "      <td>3676</td>\n",
              "      <td>Drama|Horror</td>\n",
              "    </tr>\n",
              "    <tr>\n",
              "      <th>Rocky Horror Picture Show, The (1975)</th>\n",
              "      <td>2657</td>\n",
              "      <td>Comedy|Horror|Musical|Sci-Fi</td>\n",
              "    </tr>\n",
              "    <tr>\n",
              "      <th>Eyes Wide Shut (1999)</th>\n",
              "      <td>2712</td>\n",
              "      <td>Drama</td>\n",
              "    </tr>\n",
              "    <tr>\n",
              "      <th>Evita (1996)</th>\n",
              "      <td>1416</td>\n",
              "      <td>Drama|Musical</td>\n",
              "    </tr>\n",
              "    <tr>\n",
              "      <th>Adventures of Rocky and Bullwinkle, The (2000)</th>\n",
              "      <td>3754</td>\n",
              "      <td>Animation|Children's|Comedy</td>\n",
              "    </tr>\n",
              "    <tr>\n",
              "      <th>Dancer in the Dark (2000)</th>\n",
              "      <td>3910</td>\n",
              "      <td>Drama|Musical</td>\n",
              "    </tr>\n",
              "    <tr>\n",
              "      <th>Billy Madison (1995)</th>\n",
              "      <td>216</td>\n",
              "      <td>Comedy</td>\n",
              "    </tr>\n",
              "    <tr>\n",
              "      <th>Fear and Loathing in Las Vegas (1998)</th>\n",
              "      <td>1884</td>\n",
              "      <td>Comedy|Drama</td>\n",
              "    </tr>\n",
              "    <tr>\n",
              "      <th>Bicentennial Man (1999)</th>\n",
              "      <td>3156</td>\n",
              "      <td>Comedy|Drama|Sci-Fi</td>\n",
              "    </tr>\n",
              "    <tr>\n",
              "      <th>Twin Peaks: Fire Walk with Me (1992)</th>\n",
              "      <td>3262</td>\n",
              "      <td>Drama|Mystery</td>\n",
              "    </tr>\n",
              "    <tr>\n",
              "      <th>Hellraiser (1987)</th>\n",
              "      <td>3917</td>\n",
              "      <td>Horror</td>\n",
              "    </tr>\n",
              "    <tr>\n",
              "      <th>Babe: Pig in the City (1998)</th>\n",
              "      <td>2384</td>\n",
              "      <td>Children's|Comedy</td>\n",
              "    </tr>\n",
              "    <tr>\n",
              "      <th>Wes Craven's New Nightmare (1994)</th>\n",
              "      <td>366</td>\n",
              "      <td>Horror</td>\n",
              "    </tr>\n",
              "    <tr>\n",
              "      <th>Superstar (1999)</th>\n",
              "      <td>2907</td>\n",
              "      <td>Comedy</td>\n",
              "    </tr>\n",
              "    <tr>\n",
              "      <th>In the Mouth of Madness (1995)</th>\n",
              "      <td>407</td>\n",
              "      <td>Horror|Thriller</td>\n",
              "    </tr>\n",
              "    <tr>\n",
              "      <th>Halloween: The Curse of Michael Myers (1995)</th>\n",
              "      <td>891</td>\n",
              "      <td>Horror|Thriller</td>\n",
              "    </tr>\n",
              "    <tr>\n",
              "      <th>South Park: Bigger, Longer and Uncut (1999)</th>\n",
              "      <td>2700</td>\n",
              "      <td>Animation|Comedy</td>\n",
              "    </tr>\n",
              "    <tr>\n",
              "      <th>Big Hit, The (1998)</th>\n",
              "      <td>1866</td>\n",
              "      <td>Action|Comedy</td>\n",
              "    </tr>\n",
              "    <tr>\n",
              "      <th>Deuce Bigalow: Male Gigolo (1999)</th>\n",
              "      <td>3146</td>\n",
              "      <td>Comedy</td>\n",
              "    </tr>\n",
              "    <tr>\n",
              "      <th>Return from Witch Mountain (1978)</th>\n",
              "      <td>2091</td>\n",
              "      <td>Children's|Sci-Fi</td>\n",
              "    </tr>\n",
              "    <tr>\n",
              "      <th>Scary Movie (2000)</th>\n",
              "      <td>3785</td>\n",
              "      <td>Comedy|Horror</td>\n",
              "    </tr>\n",
              "    <tr>\n",
              "      <th>Cook the Thief His Wife &amp; Her Lover, The (1989)</th>\n",
              "      <td>1173</td>\n",
              "      <td>Drama</td>\n",
              "    </tr>\n",
              "    <tr>\n",
              "      <th>Hamlet (2000)</th>\n",
              "      <td>3598</td>\n",
              "      <td>Drama</td>\n",
              "    </tr>\n",
              "    <tr>\n",
              "      <th>Serial Mom (1994)</th>\n",
              "      <td>532</td>\n",
              "      <td>Comedy|Crime|Horror</td>\n",
              "    </tr>\n",
              "    <tr>\n",
              "      <th>Haunting, The (1963)</th>\n",
              "      <td>2550</td>\n",
              "      <td>Horror|Thriller</td>\n",
              "    </tr>\n",
              "    <tr>\n",
              "      <th>Half Baked (1998)</th>\n",
              "      <td>1753</td>\n",
              "      <td>Comedy</td>\n",
              "    </tr>\n",
              "    <tr>\n",
              "      <th>Waterboy, The (1998)</th>\n",
              "      <td>2335</td>\n",
              "      <td>Comedy</td>\n",
              "    </tr>\n",
              "    <tr>\n",
              "      <th>Toys (1992)</th>\n",
              "      <td>2253</td>\n",
              "      <td>Action|Comedy|Fantasy</td>\n",
              "    </tr>\n",
              "    <tr>\n",
              "      <th>Toxic Avenger, The (1985)</th>\n",
              "      <td>3693</td>\n",
              "      <td>Comedy|Horror</td>\n",
              "    </tr>\n",
              "    <tr>\n",
              "      <th>Thin Red Line, The (1998)</th>\n",
              "      <td>2427</td>\n",
              "      <td>Action|Drama|War</td>\n",
              "    </tr>\n",
              "    <tr>\n",
              "      <th>Ravenous (1999)</th>\n",
              "      <td>2560</td>\n",
              "      <td>Drama|Horror</td>\n",
              "    </tr>\n",
              "    <tr>\n",
              "      <th>Last Temptation of Christ, The (1988)</th>\n",
              "      <td>2022</td>\n",
              "      <td>Drama</td>\n",
              "    </tr>\n",
              "    <tr>\n",
              "      <th>Patch Adams (1998)</th>\n",
              "      <td>2431</td>\n",
              "      <td>Comedy|Drama</td>\n",
              "    </tr>\n",
              "    <tr>\n",
              "      <th>For Love of the Game (1999)</th>\n",
              "      <td>2861</td>\n",
              "      <td>Comedy|Drama</td>\n",
              "    </tr>\n",
              "    <tr>\n",
              "      <th>BASEketball (1998)</th>\n",
              "      <td>2060</td>\n",
              "      <td>Comedy</td>\n",
              "    </tr>\n",
              "    <tr>\n",
              "      <th>Dracula: Dead and Loving It (1995)</th>\n",
              "      <td>12</td>\n",
              "      <td>Comedy|Horror</td>\n",
              "    </tr>\n",
              "    <tr>\n",
              "      <th>Armageddon (1998)</th>\n",
              "      <td>1917</td>\n",
              "      <td>Action|Adventure|Sci-Fi|Thriller</td>\n",
              "    </tr>\n",
              "    <tr>\n",
              "      <th>Starship Troopers (1997)</th>\n",
              "      <td>1676</td>\n",
              "      <td>Action|Adventure|Sci-Fi|War</td>\n",
              "    </tr>\n",
              "    <tr>\n",
              "      <th>Godzilla (Gojira) (1954)</th>\n",
              "      <td>2363</td>\n",
              "      <td>Action|Sci-Fi</td>\n",
              "    </tr>\n",
              "  </tbody>\n",
              "</table>\n",
              "</div>"
            ],
            "text/plain": [
              "                                                 movie_id                                           genres\n",
              "title                                                                                                     \n",
              "Plan 9 from Outer Space (1958)                       1924                                    Horror|Sci-Fi\n",
              "Texas Chainsaw Massacre, The (1974)                  2459                                           Horror\n",
              "Dumb & Dumber (1994)                                  231                                           Comedy\n",
              "Blair Witch Project, The (1999)                      2710                                           Horror\n",
              "Natural Born Killers (1994)                           288                                  Action|Thriller\n",
              "Idle Hands (1999)                                    2606                                    Comedy|Horror\n",
              "Pink Flamingos (1972)                                2361                                           Comedy\n",
              "Transformers: The Movie, The (1986)                  1205  Action|Animation|Children's|Sci-Fi|Thriller|War\n",
              "Very Bad Things (1998)                               2387                                     Comedy|Crime\n",
              "Tank Girl (1995)                                      327                     Action|Comedy|Musical|Sci-Fi\n",
              "Hellraiser: Bloodline (1996)                          611                             Action|Horror|Sci-Fi\n",
              "Eraserhead (1977)                                    3676                                     Drama|Horror\n",
              "Rocky Horror Picture Show, The (1975)                2657                     Comedy|Horror|Musical|Sci-Fi\n",
              "Eyes Wide Shut (1999)                                2712                                            Drama\n",
              "Evita (1996)                                         1416                                    Drama|Musical\n",
              "Adventures of Rocky and Bullwinkle, The (2000)       3754                      Animation|Children's|Comedy\n",
              "Dancer in the Dark (2000)                            3910                                    Drama|Musical\n",
              "Billy Madison (1995)                                  216                                           Comedy\n",
              "Fear and Loathing in Las Vegas (1998)                1884                                     Comedy|Drama\n",
              "Bicentennial Man (1999)                              3156                              Comedy|Drama|Sci-Fi\n",
              "Twin Peaks: Fire Walk with Me (1992)                 3262                                    Drama|Mystery\n",
              "Hellraiser (1987)                                    3917                                           Horror\n",
              "Babe: Pig in the City (1998)                         2384                                Children's|Comedy\n",
              "Wes Craven's New Nightmare (1994)                     366                                           Horror\n",
              "Superstar (1999)                                     2907                                           Comedy\n",
              "In the Mouth of Madness (1995)                        407                                  Horror|Thriller\n",
              "Halloween: The Curse of Michael Myers (1995)          891                                  Horror|Thriller\n",
              "South Park: Bigger, Longer and Uncut (1999)          2700                                 Animation|Comedy\n",
              "Big Hit, The (1998)                                  1866                                    Action|Comedy\n",
              "Deuce Bigalow: Male Gigolo (1999)                    3146                                           Comedy\n",
              "Return from Witch Mountain (1978)                    2091                                Children's|Sci-Fi\n",
              "Scary Movie (2000)                                   3785                                    Comedy|Horror\n",
              "Cook the Thief His Wife & Her Lover, The (1989)      1173                                            Drama\n",
              "Hamlet (2000)                                        3598                                            Drama\n",
              "Serial Mom (1994)                                     532                              Comedy|Crime|Horror\n",
              "Haunting, The (1963)                                 2550                                  Horror|Thriller\n",
              "Half Baked (1998)                                    1753                                           Comedy\n",
              "Waterboy, The (1998)                                 2335                                           Comedy\n",
              "Toys (1992)                                          2253                            Action|Comedy|Fantasy\n",
              "Toxic Avenger, The (1985)                            3693                                    Comedy|Horror\n",
              "Thin Red Line, The (1998)                            2427                                 Action|Drama|War\n",
              "Ravenous (1999)                                      2560                                     Drama|Horror\n",
              "Last Temptation of Christ, The (1988)                2022                                            Drama\n",
              "Patch Adams (1998)                                   2431                                     Comedy|Drama\n",
              "For Love of the Game (1999)                          2861                                     Comedy|Drama\n",
              "BASEketball (1998)                                   2060                                           Comedy\n",
              "Dracula: Dead and Loving It (1995)                     12                                    Comedy|Horror\n",
              "Armageddon (1998)                                    1917                 Action|Adventure|Sci-Fi|Thriller\n",
              "Starship Troopers (1997)                             1676                      Action|Adventure|Sci-Fi|War\n",
              "Godzilla (Gojira) (1954)                             2363                                    Action|Sci-Fi"
            ]
          },
          "metadata": {
            "tags": []
          },
          "execution_count": 175
        }
      ]
    },
    {
      "cell_type": "code",
      "metadata": {
        "id": "EYruWibSDLiV"
      },
      "source": [
        "std_top_50_list=[]\n",
        "for s in std_top_50_genres['genres']:\n",
        "  std_top_50_list.extend(s.split(sep='|'))\n",
        "top_50_std=pd.Series(std_top_50_list)"
      ],
      "execution_count": null,
      "outputs": []
    },
    {
      "cell_type": "code",
      "metadata": {
        "id": "3gjnud1QEO7Z"
      },
      "source": [
        "top_50_std=top_50_std.value_counts().head(10)"
      ],
      "execution_count": null,
      "outputs": []
    },
    {
      "cell_type": "code",
      "metadata": {
        "colab": {
          "base_uri": "https://localhost:8080/"
        },
        "id": "HJ5-sTVsGiWy",
        "outputId": "326172ab-8ebb-41e4-f4ed-2e0494ae6723"
      },
      "source": [
        "top_50_std"
      ],
      "execution_count": null,
      "outputs": [
        {
          "output_type": "execute_result",
          "data": {
            "text/plain": [
              "Comedy        25\n",
              "Horror        17\n",
              "Drama         14\n",
              "Action        10\n",
              "Sci-Fi        10\n",
              "Thriller       6\n",
              "Musical        4\n",
              "Children's     4\n",
              "Animation      3\n",
              "War            3\n",
              "dtype: int64"
            ]
          },
          "metadata": {
            "tags": []
          },
          "execution_count": 184
        }
      ]
    },
    {
      "cell_type": "code",
      "metadata": {
        "colab": {
          "base_uri": "https://localhost:8080/",
          "height": 283
        },
        "id": "cZCvsfvXEWSG",
        "outputId": "d9429afe-87e0-4bc1-e90e-a7c43075f1d2"
      },
      "source": [
        "sns.barplot(x=top_50_std.values\n",
        "            ,y=top_50_std.index)"
      ],
      "execution_count": null,
      "outputs": [
        {
          "output_type": "execute_result",
          "data": {
            "text/plain": [
              "<matplotlib.axes._subplots.AxesSubplot at 0x7fbb61420dd0>"
            ]
          },
          "metadata": {
            "tags": []
          },
          "execution_count": 183
        },
        {
          "output_type": "display_data",
          "data": {
            "image/png": "[encoded data removed]",
            "text/plain": [
              "<Figure size 432x288 with 1 Axes>"
            ]
          },
          "metadata": {
            "tags": [],
            "needs_background": "light"
          }
        }
      ]
    },
    {
      "cell_type": "markdown",
      "metadata": {
        "id": "-CGXHfYIHJLV"
      },
      "source": [
        "* TODO\n",
        "  * 연령대(age)별 평점 상위 10개 영화 제목\n",
        "  * 성별 연령대별 평점 평균 상위 영화 제목\n",
        "  * 직종별 또는 특정 직종의 평점 평균 상위 영화 제목, 장르"
      ]
    }
  ]
}