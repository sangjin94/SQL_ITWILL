{
  "nbformat": 4,
  "nbformat_minor": 0,
  "metadata": {
    "colab": {
      "name": "py30_search_crawling.ipynb",
      "provenance": [],
      "collapsed_sections": [],
      "authorship_tag": "ABX9TyNEJ5XW4r+ri/nenIpdhFuW",
      "include_colab_link": true
    },
    "kernelspec": {
      "name": "python3",
      "display_name": "Python 3"
    },
    "language_info": {
      "name": "python"
    }
  },
  "cells": [
    {
      "cell_type": "markdown",
      "metadata": {
        "id": "view-in-github",
        "colab_type": "text"
      },
      "source": [
        "<a href=\"https://colab.research.google.com/github/sangjin94/SQL_ITWILL/blob/main/py30_search_crawling.ipynb\" target=\"_parent\"><img src=\"https://colab.research.google.com/assets/colab-badge.svg\" alt=\"Open In Colab\"/></a>"
      ]
    },
    {
      "cell_type": "code",
      "metadata": {
        "id": "FZo903qyicG1"
      },
      "source": [
        "# 웹 서버에 요청(reqeust)을 보내고, 응답(reponse)을 받는 기능을 가지고 있는 모듈\n",
        "import requests\n",
        "from bs4 import BeautifulSoup # HTML parsing(분석)"
      ],
      "execution_count": null,
      "outputs": []
    },
    {
      "cell_type": "markdown",
      "metadata": {
        "id": "9bzjHzr5f-6I"
      },
      "source": [
        "Ex 1. \n",
        "\n",
        "* 네이버에서 검색어를 입력하고 뉴스 검색\n",
        "* request url, request parameter 분석\n",
        "* 1페이지 부터 원하는 페이지까지\n",
        "  * 뉴스 제공자\n",
        "  * 네이버 뉴스 링크 URL\n",
        "  * 뉴스 제공자 링크 URL\n",
        "  * 뉴스 타이틀   "
      ]
    },
    {
      "cell_type": "code",
      "metadata": {
        "colab": {
          "base_uri": "https://localhost:8080/"
        },
        "id": "MDrH-jdxhsOS",
        "outputId": "99679efa-d709-4aef-ce02-0be6b71a7859"
      },
      "source": [
        "keyword='애플워치'\n",
        "for i in range(3): # 페이지 반복 \n",
        "  url=f'https://search.naver.com/search.naver?where=news'\n",
        "  params= {'query':keyword,'start':(i*10)+1}\n",
        "  respons=requests.get(url,params)\n",
        "  if respons.status_code != 200:\n",
        "    print('HTTP Status Code:', response.status_code)\n",
        "    continue\n",
        "  print(f'---page{i+1}---')\n",
        "  html=respons.text.strip()\n",
        "  soup=BeautifulSoup(markup=html,features='html5lib')\n",
        "  # 언론사 이름을 찾기 위한 CSS Selector\n",
        "  news_selector='ul.list_news li a.press'\n",
        "  press_names = soup.select(news_selector)\n",
        "\n",
        "  # 네이버 뉴스 페이지 링크를 찾기 위한 CSS Selector\n",
        "  naver_selector='div.news_info a.info'\n",
        "  naver_name = soup.select(naver_selector)\n",
        "\n",
        "  selector='.news_area a.news_tit '\n",
        "  elements = soup.select(selector)\n",
        "  for p in press_names :\n",
        "    print(p.text.replace('언론사선정',''))\n",
        "  for link in elements:\n",
        "    title= link.text # a 태그의 텍스트 컨텐트\n",
        "    title_url=link['href'] # link.get('href'): a 태그의 href 속성 값\n",
        "    print(title_url, title)\n",
        "\n"
      ],
      "execution_count": null,
      "outputs": [
        {
          "output_type": "stream",
          "text": [
            "---page1---\n",
            "한국경제언론사 선정\n",
            "조선비즈언론사 선정\n",
            "아이뉴스24언론사 선정\n",
            "서울파이낸스\n",
            "헤럴드경제언론사 선정\n",
            "케이벤치\n",
            "ZDNet Korea\n",
            "파이낸셜뉴스언론사 선정\n",
            "서울경제언론사 선정\n",
            "아시아경제언론사 선정\n",
            "https://www.hankyung.com/it/article/202108038086g 김연경 손목에 있던 '갤워치4' 사양 유출…\"애플워치 나와!\"\n",
            "https://biz.chosun.com/it-science/ict/2021/08/03/LE2HRWKSZJDIVA44PAHNI3OKKI/?utm_source=naver&utm_medium=original&utm_campaign=biz 언팩 일주일 앞두고… 거의 다 유출된 삼성 야심작 ‘갤럭시Z’ ‘갤럭시워치...\n",
            "http://www.inews24.com/view/1392811 [초점] 속도 붙는 애플카…LG마그나, 출범 초기 성과낼까\n",
            "http://www.seoulfn.com/news/articleView.html?idxno=427674 \"구글 신형폰에 자체 AP 탑재\"···애플 이어 '반도체 독립'\n",
            "http://news.heraldcorp.com/view.php?ud=20210802001066 “김연경 손목의 그것!” 삼성, 스마트워치 신제품 유출\n",
            "http://kbench.com/?q=node/223980 '애플워치 시리즈7' 추정 모델 번호 EEC 웹사이트 등록\n",
            "https://zdnet.co.kr/view/?no=20210803082748 애플, 애플워치 심박센서 특허침해 소송 휘말렸다\n",
            "http://www.fnnews.com/news/202107281533571413 LG, 애플 아이폰 판다...삼성, 폴더블폰 '올인'\n",
            "https://www.sedaily.com/NewsView/22Q17E7Y0O [단독] LG전자 베스트샵, 16일부터 애플 아이폰 판매할 듯\n",
            "https://view.asiae.co.kr/article/2021072608111902333 美코로나 재확산 속 '애플워치7' 9월 출시 기대감 ↑\n",
            "---page2---\n",
            "아시아경제\n",
            "아이뉴스24언론사 선정\n",
            "케이벤치\n",
            "데일리안언론사 선정\n",
            "아시아경제언론사 선정\n",
            "매일경제\n",
            "아시아경제언론사 선정\n",
            "조선비즈언론사 선정\n",
            "뉴스핌\n",
            "블로터언론사 선정\n",
            "https://view.asiae.co.kr/article/2021080207500371148 삼성이냐, 애플이냐…LG폰 빠진 ‘10%’ 확보전 본격화\n",
            "http://www.inews24.com/view/1390004 애플, 아이폰 판매 초강세로 3분기에 '깜짝 실적'\n",
            "http://kbench.com/?q=node/223996 애플 iOS 14.7.1 다운그레이드 '불가'…iOS 14.7 서명 중단\n",
            "https://www.dailian.co.kr/news/view/1016602/?sc=Naver '폴더블폰 올인' 삼성 vs '5G폰 1위' 애플, 하반기 대격돌\n",
            "https://view.asiae.co.kr/article/2021072808481893735 [종합]\"애플 날았다\" 사상 최대 실적…스마트폰 왕좌 위협 받는 삼성\n",
            "http://news.mk.co.kr/newsRead.php?no=727289&year=2021 삼성·구글이 ‘스마트 워치’ OS 통합한 이유는\n",
            "https://view.asiae.co.kr/article/2021072719463123031 아이폰13에 베팅한 애플…외신 \"1억개 A15 칩 주문\"\n",
            "https://biz.chosun.com/it-science/ict/2021/07/27/FPNYG3GR4ZAZ3DURIVVVTEFPFY/?utm_source=naver&utm_medium=original&utm_campaign=biz 갤럭시Z 언팩 앞둔 노태문, 애플 겨냥 “개방해야 산다”\n",
            "http://www.newspim.com/news/view/20210728000800 8월부터 LG베스트샵서 아이폰·애플워치 판다\n",
            "http://www.bloter.net/newsView/blt202107270004 애플, iOS 14.7.1 긴급 배포…애플워치 잠금해제 오류 수정\n",
            "---page3---\n",
            "한국경제\n",
            "머니S언론사 선정\n",
            "연합인포맥스\n",
            "데일리안\n",
            "뉴스1\n",
            "ZDNet Korea언론사 선정\n",
            "뉴스1\n",
            "전자신문언론사 선정\n",
            "ZDNet Korea언론사 선정\n",
            "조선일보\n",
            "https://www.hankyung.com/it/article/202107284603i LG 손잡고, 애플스토어 3호점도 준비…매장 확대 속도내는 애플\n",
            "http://moneys.mt.co.kr/news/mwView.php?no=2021072811228069878 애플, 2분기 매출 94조·영업익 28조… “반도체 수급난에 하반기는 불투명”\n",
            "http://news.einfomax.co.kr/news/articleView.html?idxno=4160548 애플 회사채 65억달러어치 발행…10년물 금리는 1.7%\n",
            "https://www.dailian.co.kr/news/view/1017130/?sc=Naver 가까워지는 LG-애플…모바일 적자를 신사업 실탄으로?\n",
            "https://www.news1.kr/articles/?4385785 애플 실적 예상 상회…아이폰 판매 50%↑, 中 성장 주효(종합)\n",
            "https://zdnet.co.kr/view/?no=20210717092658 애플카 프로젝트에 애플워치 핵심임원 합류\n",
            "https://www.news1.kr/articles/?4370183 \"애플워치로 와이파이, 데이터 없어도 '스포티파이' 듣는다\"\n",
            "http://www.etnews.com/20210715000232 내년 출시 '애플워치8'…'무채혈 혈당 측정' 탑재?\n",
            "https://zdnet.co.kr/view/?no=20210723143210 올 가을 애플 행사는 언제? 어떤 제품 공개될까\n",
            "https://www.chosun.com/economy/int_economy/2021/07/29/UXV2YPXIJVBYLAEI7T4V47A2AQ/?utm_source=naver&utm_medium=referral&utm_campaign=naver-news 테슬라 어닝서프라이즈가 ‘애플카 연합’ 앞당긴다 [최원석의 디코드]\n"
          ],
          "name": "stdout"
        }
      ]
    },
    {
      "cell_type": "code",
      "metadata": {
        "id": "4lucHBmbf_jn"
      },
      "source": [
        "\n",
        "keyword = '거리두기'\n",
        "\n",
        "for s in range(3):  # 페이지 반복\n",
        "    # url = f'https://search.naver.com/search.naver?where=news&query={keyword}&start={10 * i + 1}'\n",
        "    # res = requests.get(url)\n",
        "    url = 'https://search.naver.com/search.naver?where=news'  # request url\n",
        "    params = {'query': keyword, 'start': (10 * s + 1)}  # request parameter\n",
        "    res = requests.get(url, params)  # request 보내고 response를 받음\n",
        "    if res.status_code != 200:\n",
        "        print('HTTP Status Code:', res.status_code)\n",
        "        continue\n",
        "\n",
        "    print(f'--- page {s + 1} ---')\n",
        "    html = res.text.strip()\n",
        "    soup = BeautifulSoup(markup=html, features='html5lib')\n",
        "    \n",
        "    for i in range(1, 11):  # 한 페이지 안에서 뉴스 기사를 하나씩 반복\n",
        "        # 언론사 이름을 찾기 위한 CSS selector\n",
        "        press_selector = f'ul.list_news > li:nth-of-type({i}) div.info_group > a:nth-of-type(1)'\n",
        "        press_name = soup.select_one(press_selector)\n",
        "        if press_name:  # 언론사 이름을 찾았을 때\n",
        "            print(press_name.text.replace('언론사 선정', ''))\n",
        "\n",
        "        # 네이버 뉴스 페이지 링크를 찾기 위한 CSS selector\n",
        "        naver_link_sel = f'ul.list_news > li:nth-of-type({i}) div.info_group > a:nth-of-type(2)'\n",
        "        naver_link = soup.select_one(naver_link_sel)\n",
        "        if naver_link:  # 네이버 뉴스 링크가 있다면\n",
        "            print(naver_link['href'])\n",
        "\n",
        "        # 언론사 기사 링크 주소와 기사 제목을 찾기 위한 CSS Selector\n",
        "        title_selector = f'ul.list_news > li:nth-of-type({i}) div.news_area > a'\n",
        "        title = soup.select_one(title_selector)\n",
        "        print(title['href'])  # 언론사 기사 링크 URL\n",
        "        print(title.text.strip())  # 기사 제목\n",
        "        print()  # 빈 줄 출력"
      ],
      "execution_count": null,
      "outputs": []
    },
    {
      "cell_type": "code",
      "metadata": {
        "id": "RNokRWQbC4qc"
      },
      "source": [
        "def naver_news_search(keyword, num_page):\n",
        "    \"\"\"\n",
        "    :param keyword: 검색 키워드. 문자열.\n",
        "    :param num_page: 검색할 페이지 개수. 정수.\n",
        "    \"\"\"\n",
        "    for s in range(num_page):  # 페이지 반복\n",
        "        # url = f'https://search.naver.com/search.naver?where=news&query={keyword}&start={10 * i + 1}'\n",
        "        # res = requests.get(url)\n",
        "        url = 'https://search.naver.com/search.naver?where=news'  # request url\n",
        "        params = {'query': keyword, 'start': (10 * s + 1)}  # request parameter\n",
        "        res = requests.get(url, params)  # request 보내고 response를 받음\n",
        "        if res.status_code != 200:\n",
        "            print('HTTP Status Code:', res.status_code)\n",
        "            continue\n",
        "\n",
        "        print(f'--- page {s + 1} ---')\n",
        "        html = res.text.strip()\n",
        "        soup = BeautifulSoup(markup=html, features='html5lib')\n",
        "        \n",
        "        for i in range(1, 11):  # 한 페이지 안에서 뉴스 기사를 하나씩 반복\n",
        "            # 언론사 이름을 찾기 위한 CSS selector\n",
        "            press_selector = f'ul.list_news > li:nth-of-type({i}) div.info_group > a:nth-of-type(1)'\n",
        "            press_name = soup.select_one(press_selector)\n",
        "            if press_name:  # 언론사 이름을 찾았을 때\n",
        "                print(press_name.text.replace('언론사 선정', ''))\n",
        "\n",
        "            # 네이버 뉴스 페이지 링크를 찾기 위한 CSS selector\n",
        "            naver_link_sel = f'ul.list_news > li:nth-of-type({i}) div.info_group > a:nth-of-type(2)'\n",
        "            naver_link = soup.select_one(naver_link_sel)\n",
        "            if naver_link:  # 네이버 뉴스 링크가 있다면\n",
        "                print(naver_link['href'])\n",
        "\n",
        "            # 언론사 기사 링크 주소와 기사 제목을 찾기 위한 CSS Selector\n",
        "            title_selector = f'ul.list_news > li:nth-of-type({i}) div.news_area > a'\n",
        "            title = soup.select_one(title_selector)\n",
        "            print(title['href'])  # 언론사 기사 링크 URL\n",
        "            print(title.text.strip())  # 기사 제목\n",
        "            print()  # 빈 줄 출력"
      ],
      "execution_count": null,
      "outputs": []
    },
    {
      "cell_type": "code",
      "metadata": {
        "id": "c_-K9tO9C8dV"
      },
      "source": [
        "naver_news_search(keyword='배스킨라빈스', num_page=2)"
      ],
      "execution_count": null,
      "outputs": []
    },
    {
      "cell_type": "markdown",
      "metadata": {
        "id": "1HgGIrzDC91c"
      },
      "source": [
        "\n",
        "#Ex 2.\n",
        "  * 한겨레 페이지에서 검색어를 입력해서 뉴스 검색\n",
        "  * request url, request parameter 분석\n",
        "  * 첫번째 페이지의 뉴스 기사 10개의 제목, 업데이트 시간, 기사 링크를 출력\n",
        "  * 각 기사의 링크를 접속해서 기사 본문 내용의 첫 300글자를 출력"
      ]
    },
    {
      "cell_type": "code",
      "metadata": {
        "id": "G5aav8cfC8xl"
      },
      "source": [
        ""
      ],
      "execution_count": null,
      "outputs": []
    }
  ]
}